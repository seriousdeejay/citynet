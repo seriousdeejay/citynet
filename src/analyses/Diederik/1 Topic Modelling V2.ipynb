{
 "cells": [
  {
   "cell_type": "code",
   "execution_count": 3,
   "id": "d6450462",
   "metadata": {
    "collapsed": true
   },
   "outputs": [
    {
     "name": "stderr",
     "output_type": "stream",
     "text": [
      "c:\\users\\deejay\\personal files [local]\\applied data science\\thesis - citynet\\citynet\\venv_citynet\\lib\\site-packages\\past\\builtins\\misc.py:45: DeprecationWarning: the imp module is deprecated in favour of importlib; see the module's documentation for alternative uses\n",
      "  from imp import reload\n"
     ]
    }
   ],
   "source": [
    "import pickle\n",
    "import os \n",
    "from tqdm.notebook import tqdm\n",
    "import re\n",
    "import spacy\n",
    "\n",
    "nlp = spacy.load(\"en_core_web_sm\")\n",
    "nlp.max_length = 1500000\n",
    "nlp.disable_pipes('ner', 'parser')\n",
    "\n",
    "# gensim LDA\n",
    "\n",
    "from gensim.corpora import Dictionary\n",
    "from gensim.models.wrappers import LdaMallet\n",
    "from gensim.models import CoherenceModel\n",
    "\n",
    "# Visualise\n",
    "import warnings\n",
    "import gensim\n",
    "import pyLDAvis\n",
    "import pyLDAvis.gensim_models as gensimvis"
   ]
  },
  {
   "cell_type": "markdown",
   "id": "85f51227",
   "metadata": {},
   "source": [
    "# Save Lemmatized words"
   ]
  },
  {
   "cell_type": "code",
   "execution_count": 128,
   "id": "3cfbc70e",
   "metadata": {
    "collapsed": true
   },
   "outputs": [
    {
     "data": {
      "application/vnd.jupyter.widget-view+json": {
       "model_id": "1d032a5d3179451bba389f6ed04411f5",
       "version_major": 2,
       "version_minor": 0
      },
      "text/plain": [
       "Folders:   0%|          | 0/12 [00:00<?, ?it/s]"
      ]
     },
     "metadata": {},
     "output_type": "display_data"
    },
    {
     "name": "stdout",
     "output_type": "stream",
     "text": [
      "933\n"
     ]
    },
    {
     "data": {
      "application/vnd.jupyter.widget-view+json": {
       "model_id": "46e2bc92ecbc4e5f81400b36aa1458e0",
       "version_major": 2,
       "version_minor": 0
      },
      "text/plain": [
       "  0%|          | 0/2 [00:00<?, ?it/s]"
      ]
     },
     "metadata": {},
     "output_type": "display_data"
    },
    {
     "name": "stdout",
     "output_type": "stream",
     "text": [
      "7419\n"
     ]
    },
    {
     "data": {
      "application/vnd.jupyter.widget-view+json": {
       "model_id": "0f4c614915fd44dfb993d0f799292f0a",
       "version_major": 2,
       "version_minor": 0
      },
      "text/plain": [
       "  0%|          | 0/9 [00:00<?, ?it/s]"
      ]
     },
     "metadata": {},
     "output_type": "display_data"
    },
    {
     "name": "stdout",
     "output_type": "stream",
     "text": [
      "2320\n"
     ]
    },
    {
     "data": {
      "application/vnd.jupyter.widget-view+json": {
       "model_id": "278295d465ee469da9fefe1b6e21ef51",
       "version_major": 2,
       "version_minor": 0
      },
      "text/plain": [
       "  0%|          | 0/4 [00:00<?, ?it/s]"
      ]
     },
     "metadata": {},
     "output_type": "display_data"
    },
    {
     "name": "stdout",
     "output_type": "stream",
     "text": [
      "2523\n"
     ]
    },
    {
     "data": {
      "application/vnd.jupyter.widget-view+json": {
       "model_id": "713c36957c6c46b5a9fa090da00ae286",
       "version_major": 2,
       "version_minor": 0
      },
      "text/plain": [
       "  0%|          | 0/4 [00:00<?, ?it/s]"
      ]
     },
     "metadata": {},
     "output_type": "display_data"
    },
    {
     "name": "stdout",
     "output_type": "stream",
     "text": [
      "1037\n"
     ]
    },
    {
     "data": {
      "application/vnd.jupyter.widget-view+json": {
       "model_id": "2b1d268507ab4a98a862d2ad1f53f254",
       "version_major": 2,
       "version_minor": 0
      },
      "text/plain": [
       "  0%|          | 0/3 [00:00<?, ?it/s]"
      ]
     },
     "metadata": {},
     "output_type": "display_data"
    },
    {
     "name": "stdout",
     "output_type": "stream",
     "text": [
      "1130\n"
     ]
    },
    {
     "data": {
      "application/vnd.jupyter.widget-view+json": {
       "model_id": "1dfa44c628a245cda5816ae89614fa7f",
       "version_major": 2,
       "version_minor": 0
      },
      "text/plain": [
       "  0%|          | 0/3 [00:00<?, ?it/s]"
      ]
     },
     "metadata": {},
     "output_type": "display_data"
    },
    {
     "name": "stdout",
     "output_type": "stream",
     "text": [
      "7662\n"
     ]
    },
    {
     "data": {
      "application/vnd.jupyter.widget-view+json": {
       "model_id": "460e05aef0db4a6f81a33e85cefec685",
       "version_major": 2,
       "version_minor": 0
      },
      "text/plain": [
       "  0%|          | 0/9 [00:00<?, ?it/s]"
      ]
     },
     "metadata": {},
     "output_type": "display_data"
    },
    {
     "name": "stdout",
     "output_type": "stream",
     "text": [
      "21193\n"
     ]
    },
    {
     "data": {
      "application/vnd.jupyter.widget-view+json": {
       "model_id": "7f43a6736d1d4ec0b5b0d0d026f98dc0",
       "version_major": 2,
       "version_minor": 0
      },
      "text/plain": [
       "  0%|          | 0/23 [00:00<?, ?it/s]"
      ]
     },
     "metadata": {},
     "output_type": "display_data"
    },
    {
     "name": "stdout",
     "output_type": "stream",
     "text": [
      "3294\n"
     ]
    },
    {
     "data": {
      "application/vnd.jupyter.widget-view+json": {
       "model_id": "92746d2b5c214d618ad6c59ba07a9883",
       "version_major": 2,
       "version_minor": 0
      },
      "text/plain": [
       "  0%|          | 0/5 [00:00<?, ?it/s]"
      ]
     },
     "metadata": {},
     "output_type": "display_data"
    },
    {
     "name": "stdout",
     "output_type": "stream",
     "text": [
      "3264\n"
     ]
    },
    {
     "data": {
      "application/vnd.jupyter.widget-view+json": {
       "model_id": "2a1a9ae5452b4e6f8385c546f68a1e82",
       "version_major": 2,
       "version_minor": 0
      },
      "text/plain": [
       "  0%|          | 0/5 [00:00<?, ?it/s]"
      ]
     },
     "metadata": {},
     "output_type": "display_data"
    }
   ],
   "source": [
    "city_pair_folder = \"../../../../enwiki_city_pairs/\"\n",
    "for file in tqdm(os.scandir(city_pair_folder), total=len(os.listdir(city_pair_folder)), leave=True, desc='Folders'): # tqdm(os.listdir(subfolder), total=len(os.listdir(subfolder)), leave=True, desc='Text Files'):                     \n",
    "    if not file.is_dir():\n",
    "        lemmatize_file(file.path, city_pair=file.name[:-4])"
   ]
  },
  {
   "cell_type": "code",
   "execution_count": 127,
   "id": "0eaae694",
   "metadata": {},
   "outputs": [],
   "source": [
    "def lemmatize_file(file_path, city_pair):\n",
    "    with open(file_path, 'r', encoding='utf-16') as f:\n",
    "        city_pair_text_list = [x.strip().lower() for x in f.read().split('\\n') if len(x) and 'title=' not in x]\n",
    "    print(len(city_pair_text_list))\n",
    "    \n",
    "    nr_of_chunks = len(city_pair_text_list)//1000 + 1\n",
    "    chunk_size = (len(city_pair_text_list)-1)//nr_of_chunks\n",
    "    chunked_text = [' '.join(city_pair_text_list[offs:offs+chunk_size]) for offs in range(0, len(city_pair_text_list), chunk_size)]\n",
    "    \n",
    "    processed_text = [text for text in tqdm(nlp.pipe(chunked_text, n_process=2, batch_size=1, disable=[\"ner\", \"parser\"]), total=len(chunked_text))]\n",
    "    lemmatized_text = [[word.lemma_ for word in text if word.pos_ == 'NOUN' and not word.is_punct and not word.is_stop] for text in processed_text]\n",
    "    regexed_text = [[re.sub(r'\\W+', '', word) for word in text] for text in lemmatized_text]\n",
    "    flattened_words = [item for sublist in regexed_text for item in sublist]\n",
    "    \n",
    "    with open(f'../../../../enwiki_city_pairs_nouns/NOUNS_{city_pair}.pickle', 'wb') as fp:\n",
    "        pickle.dump(flattened_words, fp)"
   ]
  },
  {
   "cell_type": "markdown",
   "id": "f1be48c1",
   "metadata": {},
   "source": [
    "# Open Lemmatized words"
   ]
  },
  {
   "cell_type": "code",
   "execution_count": 2,
   "id": "ccfa6468",
   "metadata": {},
   "outputs": [
    {
     "data": {
      "text/plain": [
       "False"
      ]
     },
     "execution_count": 2,
     "metadata": {},
     "output_type": "execute_result"
    }
   ],
   "source": [
    "import os\n",
    "os.path.exists('../../../../enwiki_city_pairs_nouns/')"
   ]
  },
  {
   "cell_type": "code",
   "execution_count": 103,
   "id": "c7e898d3",
   "metadata": {},
   "outputs": [],
   "source": [
    "word_list_location = '../../../../enwiki_city_pairs_nouns/'\n",
    "words = []\n",
    "city_pairs = []\n",
    "for file in os.scandir(word_list_location):\n",
    "    with open(file.path, 'rb') as fp:\n",
    "        words.append(pickle.load(fp))\n",
    "        city_pairs.append(file.name.split('__')[1])"
   ]
  },
  {
   "cell_type": "code",
   "execution_count": 5,
   "id": "44c55d40",
   "metadata": {},
   "outputs": [
    {
     "data": {
      "text/plain": [
       "['berlin_milan',\n",
       " 'london_berlin',\n",
       " 'london_madrid',\n",
       " 'london_milan',\n",
       " 'madrid_berlin',\n",
       " 'madrid_milan',\n",
       " 'paris_berlin',\n",
       " 'paris_london',\n",
       " 'paris_madrid',\n",
       " 'paris_milan']"
      ]
     },
     "execution_count": 5,
     "metadata": {},
     "output_type": "execute_result"
    }
   ],
   "source": [
    "city_pairs"
   ]
  },
  {
   "cell_type": "code",
   "execution_count": 87,
   "id": "4589495a",
   "metadata": {},
   "outputs": [
    {
     "name": "stdout",
     "output_type": "stream",
     "text": [
      "('study', 0.017707267144319343)\n",
      "('doctorate', 0.010747185261003071)\n",
      "('piano', 0.007471852610030706)\n",
      "('literature', 0.006857727737973388)\n",
      "('philosophy', 0.005834186284544524)\n",
      "('camp', 0.0053224155578300925)\n",
      "('budapest', 0.005015353121801433)\n",
      "('berlin', 0.004708290685772774)\n",
      "('thesis', 0.004708290685772774)\n",
      "('concentration', 0.0040941658137154556)\n",
      "('philology', 0.003991811668372569)\n",
      "('dissertation', 0.0038894575230296827)\n",
      "('habilitation', 0.0037871033776867963)\n",
      "('party', 0.0033776867963152507)\n",
      "('sorbonne', 0.003172978505629478)\n",
      "('secession', 0.0030706243602865915)\n",
      "('coulondre', 0.0030706243602865915)\n",
      "('comrade', 0.002968270214943705)\n",
      "('instructor', 0.0028659160696008186)\n",
      "('apparatus', 0.0027635619242579327)\n"
     ]
    }
   ],
   "source": [
    "for l in words:\n",
    "    print(l[:5])"
   ]
  },
  {
   "cell_type": "code",
   "execution_count": 102,
   "id": "11be66a1",
   "metadata": {},
   "outputs": [
    {
     "data": {
      "text/plain": [
       "[('paralympic', 0.004208387752140473),\n",
       " ('breaststroke', 0.00391815411406182),\n",
       " ('murphy', 0.0034828036569438396),\n",
       " ('ury', 0.0031925700188651864),\n",
       " ('macfarlane', 0.0030474531998258597),\n",
       " ('throw', 0.002466985923668553),\n",
       " ('raf', 0.0023218691046292266),\n",
       " ('archaeopteryx', 0.0023218691046292266),\n",
       " ('bowie', 0.0020316354665505733),\n",
       " ('bafta', 0.0020316354665505733),\n",
       " ('dungeon', 0.0020316354665505733),\n",
       " ('prey', 0.0018865186475112464),\n",
       " ('wachowski', 0.0018865186475112464),\n",
       " ('luftwaffe', 0.0018865186475112464),\n",
       " ('dyke', 0.0017414018284719198),\n",
       " ('willa', 0.0017414018284719198),\n",
       " ('secker', 0.0015962850094325932),\n",
       " ('accum', 0.0015962850094325932),\n",
       " ('mining', 0.0014511681903932665),\n",
       " ('wax', 0.00130605137135394)]"
      ]
     },
     "execution_count": 102,
     "metadata": {},
     "output_type": "execute_result"
    }
   ],
   "source": [
    "words"
   ]
  },
  {
   "cell_type": "markdown",
   "id": "fbfee96b",
   "metadata": {},
   "source": [
    "# Vectorize words (dictionary & corpus)"
   ]
  },
  {
   "cell_type": "code",
   "execution_count": 113,
   "id": "8335b071",
   "metadata": {},
   "outputs": [],
   "source": [
    "def vectorize(lemmatized_text, filter_extremes=True, MIN_DF = 5, MAX_DF = 1):\n",
    "    \"\"\"\n",
    "    -->\n",
    "        function that vectorizes preprocessed (lemmatized) text.\n",
    "\n",
    "        Parameters:\n",
    "        -----------\n",
    "            lemmatized_text: list, str -> contains the key words to be matched\n",
    "            MIN_DF: int (default = 1) -> minimum document frequency (only keep the words occuring in at least one document)\n",
    "            MAX_DF: int (default = 0.6) -> maximum document frequency (word has to occur in less than 60% of the documents)\n",
    "\n",
    "    \"\"\"\n",
    "    \n",
    "    # Get Vocabulary\n",
    "    dictionary = Dictionary(lemmatized_text)\n",
    "    \n",
    "    if filter_extremes:\n",
    "        dictionary.filter_extremes(no_below=MIN_DF, no_above=MAX_DF)\n",
    "    \n",
    "    corpus = [dictionary.doc2bow(text) for text in lemmatized_text]\n",
    "    \n",
    "    return(dictionary, corpus)"
   ]
  },
  {
   "cell_type": "code",
   "execution_count": 114,
   "id": "9a73ab17",
   "metadata": {},
   "outputs": [],
   "source": [
    "dictionary, corpus = vectorize(words, filter_extremes=True)"
   ]
  },
  {
   "cell_type": "code",
   "execution_count": 117,
   "id": "962572ea",
   "metadata": {},
   "outputs": [
    {
     "data": {
      "text/plain": [
       "8740"
      ]
     },
     "execution_count": 117,
     "metadata": {},
     "output_type": "execute_result"
    }
   ],
   "source": [
    "len(dictionary)"
   ]
  },
  {
   "cell_type": "code",
   "execution_count": 11,
   "id": "38922101",
   "metadata": {
    "scrolled": true
   },
   "outputs": [
    {
     "data": {
      "text/plain": [
       "list"
      ]
     },
     "execution_count": 11,
     "metadata": {},
     "output_type": "execute_result"
    }
   ],
   "source": [
    "len(corpus[1])\n",
    "type(corpus)"
   ]
  },
  {
   "cell_type": "markdown",
   "id": "5f93613e",
   "metadata": {},
   "source": [
    "# Train LDA model"
   ]
  },
  {
   "cell_type": "code",
   "execution_count": 126,
   "id": "3fbce143",
   "metadata": {},
   "outputs": [],
   "source": [
    "PATH_TO_MALLET = r'C:/mallet/bin/mallet.bat'\n",
    "\n",
    "def train_model(lemmatized_text, dictionary=[], corpus=[], MIN_DF = 2, MAX_DF = 1, N_TOPICS = 10, N_ITERATIONS = 1000):\n",
    "    \"\"\"\n",
    "    -->\n",
    "        function that trains model.\n",
    "\n",
    "        Parameters:\n",
    "        -----------\n",
    "            lemmatized_text: list, str -> contains the key words to be matched (created with the lemmatization function)\n",
    "            dictionary: gensim.corpora.dictionary.Dictionary -> output from vectorization function\n",
    "            corpus: list ([dictionary.doc2bow(text)...) -> output from vectorization function\n",
    "            MIN_DF: int (default = 1) -> minimum document frequency\n",
    "            MAX_DF: int (default = 0.6) -> maximum document frequency\n",
    "            N_TOPICS: int (default = 10) -> Topics to detect\n",
    "            N_ITERATIONS: int (default = 1000) -> 1000 often enough\n",
    "\n",
    "    \"\"\"\n",
    "\n",
    "    # Call vectorization function if either dictionary or corpus is missing as parameter\n",
    "#     if vectorize and not type(dictionary) == gensim.corpora.dictionary.Dictionary or not corpus:\n",
    "#         dictionary, corpus = vectorize(lemmatized_text, MIN_DF, MAX_DF)\n",
    "    \n",
    "    lda_model = LdaMallet(PATH_TO_MALLET,\n",
    "                corpus=corpus,\n",
    "                id2word=dictionary,\n",
    "                num_topics=N_TOPICS,\n",
    "                optimize_interval=10,\n",
    "                iterations=N_ITERATIONS)\n",
    "    \n",
    "    coherence_score = CoherenceModel(model=lda_model, texts=lemmatized_text, dictionary=dictionary, coherence='c_v').get_coherence()\n",
    "    \n",
    "    return(lda_model, coherence_score, dictionary, corpus)"
   ]
  },
  {
   "cell_type": "code",
   "execution_count": 132,
   "id": "cf23566c",
   "metadata": {},
   "outputs": [
    {
     "name": "stdout",
     "output_type": "stream",
     "text": [
      "CPU times: total: 8.19 s\n",
      "Wall time: 5min 2s\n"
     ]
    }
   ],
   "source": [
    "%%time\n",
    "\n",
    "lda_model, coherence_score, dictionary, corpus = train_model(words, dictionary, corpus, N_TOPICS=6)"
   ]
  },
  {
   "cell_type": "code",
   "execution_count": 141,
   "id": "617c352e",
   "metadata": {},
   "outputs": [
    {
     "data": {
      "text/plain": [
       "0.3902262937009409"
      ]
     },
     "execution_count": 141,
     "metadata": {},
     "output_type": "execute_result"
    }
   ],
   "source": [
    "coherence_score"
   ]
  },
  {
   "cell_type": "markdown",
   "id": "ece89bc8",
   "metadata": {},
   "source": [
    "# Word topic distribution"
   ]
  },
  {
   "cell_type": "code",
   "execution_count": 142,
   "id": "01d34bdb",
   "metadata": {},
   "outputs": [
    {
     "name": "stdout",
     "output_type": "stream",
     "text": [
      "0 [('opera', 0.034), ('milan', 0.034), ('fashion', 0.023), ('year', 0.012), ('model', 0.012), ('work', 0.01), ('art', 0.01), ('week', 0.01)]\n",
      "1 [('berlin', 0.017), ('festival', 0.017), ('opera', 0.016), ('art', 0.016), ('year', 0.013), ('film', 0.013), ('work', 0.012), ('time', 0.009)]\n",
      "2 [('year', 0.016), ('art', 0.015), ('work', 0.013), ('time', 0.013), ('school', 0.008), ('exhibition', 0.007), ('war', 0.007), ('painting', 0.007)]\n",
      "3 [('art', 0.017), ('opera', 0.015), ('festival', 0.012), ('city', 0.012), ('work', 0.011), ('year', 0.01), ('museum', 0.008), ('world', 0.007)]\n",
      "4 [('club', 0.031), ('season', 0.025), ('team', 0.021), ('champion', 0.019), ('milan', 0.018), ('league', 0.018), ('goal', 0.017), ('time', 0.017)]\n",
      "5 [('art', 0.017), ('year', 0.012), ('world', 0.01), ('music', 0.01), ('gallery', 0.009), ('film', 0.009), ('company', 0.009), ('city', 0.008)]\n"
     ]
    }
   ],
   "source": [
    "MAX_WORDS = 8\n",
    "N_TOPICS = 6\n",
    "\n",
    "for i in range(N_TOPICS):\n",
    "    topic_words = lda_model.show_topic(i, topn=MAX_WORDS)\n",
    "    print(i, [(x[0], round(x[1], 3)) for x in topic_words])"
   ]
  },
  {
   "cell_type": "markdown",
   "id": "8c5bb14b",
   "metadata": {},
   "source": [
    "# Document topic distributions"
   ]
  },
  {
   "cell_type": "code",
   "execution_count": 44,
   "id": "13acf037",
   "metadata": {
    "scrolled": true
   },
   "outputs": [
    {
     "data": {
      "text/plain": [
       "[(0,\n",
       "  '0.026*\"year\" + 0.014*\"company\" + 0.013*\"city\" + 0.012*\"exhibition\" + 0.009*\"book\" + 0.009*\"art\" + 0.009*\"gallery\" + 0.009*\"theatre\" + 0.008*\"group\" + 0.007*\"woman\"'),\n",
       " (1,\n",
       "  '0.005*\"messager\" + 0.003*\"westminster\" + 0.002*\"pastry\" + 0.002*\"cody\" + 0.002*\"crane\" + 0.002*\"truce\" + 0.002*\"val\" + 0.002*\"wardrobe\" + 0.002*\"crédit\" + 0.002*\"stuff\"'),\n",
       " (2,\n",
       "  '0.014*\"college\" + 0.011*\"eurovision\" + 0.007*\"eurostar\" + 0.007*\"pound\" + 0.005*\"investment\" + 0.004*\"gatwick\" + 0.004*\"cent\" + 0.004*\"drury\" + 0.003*\"edward\" + 0.003*\"exhibitor\"'),\n",
       " (3,\n",
       "  '0.004*\"bourbon\" + 0.003*\"park\" + 0.003*\"whistler\" + 0.003*\"creed\" + 0.003*\"tile\" + 0.003*\"obelisk\" + 0.002*\"côte\" + 0.002*\"woman\" + 0.002*\"hospital\" + 0.002*\"mather\"'),\n",
       " (4,\n",
       "  '0.052*\"milan\" + 0.043*\"fashion\" + 0.023*\"model\" + 0.015*\"week\" + 0.010*\"race\" + 0.009*\"design\" + 0.009*\"opera\" + 0.008*\"designer\" + 0.007*\"tour\" + 0.007*\"naple\"'),\n",
       " (5,\n",
       "  '0.029*\"art\" + 0.017*\"work\" + 0.015*\"time\" + 0.015*\"world\" + 0.011*\"film\" + 0.010*\"museum\" + 0.009*\"war\" + 0.009*\"music\" + 0.009*\"member\" + 0.008*\"school\"'),\n",
       " (6,\n",
       "  '0.005*\"slade\" + 0.002*\"penny\" + 0.002*\"gobar\" + 0.002*\"freeman\" + 0.002*\"rhy\" + 0.002*\"clementine\" + 0.002*\"guild\" + 0.002*\"crescent\" + 0.002*\"löwenthal\" + 0.002*\"modelling\"'),\n",
       " (7,\n",
       "  '0.032*\"club\" + 0.026*\"season\" + 0.025*\"team\" + 0.023*\"milan\" + 0.019*\"champion\" + 0.018*\"league\" + 0.018*\"goal\" + 0.018*\"match\" + 0.014*\"time\" + 0.013*\"title\"'),\n",
       " (8,\n",
       "  '0.016*\"painting\" + 0.014*\"school\" + 0.010*\"society\" + 0.009*\"director\" + 0.009*\"portrait\" + 0.008*\"painter\" + 0.008*\"work\" + 0.008*\"time\" + 0.007*\"career\" + 0.007*\"service\"'),\n",
       " (9,\n",
       "  '0.006*\"wolff\" + 0.004*\"cigarette\" + 0.003*\"spd\" + 0.002*\"dona\" + 0.002*\"infirmary\" + 0.002*\"sanskrit\" + 0.002*\"rie\" + 0.002*\"pow\" + 0.002*\"skyline\" + 0.002*\"entertainer\"'),\n",
       " (10,\n",
       "  '0.060*\"milan\" + 0.003*\"tuzla\" + 0.003*\"paladino\" + 0.002*\"skirt\" + 0.002*\"chervonet\" + 0.002*\"bowie\" + 0.002*\"ferrando\" + 0.002*\"mislow\" + 0.002*\"tamino\" + 0.002*\"piazzi\"'),\n",
       " (11,\n",
       "  '0.048*\"opera\" + 0.018*\"festival\" + 0.015*\"year\" + 0.013*\"art\" + 0.013*\"role\" + 0.012*\"city\" + 0.012*\"state\" + 0.011*\"work\" + 0.009*\"vienna\" + 0.009*\"music\"'),\n",
       " (12,\n",
       "  '0.010*\"master\" + 0.010*\"eurovision\" + 0.008*\"saint\" + 0.008*\"round\" + 0.007*\"embassy\" + 0.007*\"race\" + 0.007*\"painting\" + 0.007*\"aire\" + 0.006*\"germain\" + 0.006*\"buenos\"'),\n",
       " (13,\n",
       "  '0.040*\"berlin\" + 0.026*\"film\" + 0.022*\"festival\" + 0.012*\"orchestra\" + 0.008*\"vienna\" + 0.008*\"der\" + 0.007*\"marathon\" + 0.007*\"state\" + 0.007*\"race\" + 0.007*\"deutsche\"'),\n",
       " (14,\n",
       "  '0.018*\"study\" + 0.011*\"doctorate\" + 0.007*\"piano\" + 0.007*\"literature\" + 0.006*\"philosophy\" + 0.005*\"camp\" + 0.005*\"budapest\" + 0.005*\"thesis\" + 0.005*\"berlin\" + 0.004*\"concentration\"')]"
      ]
     },
     "execution_count": 44,
     "metadata": {},
     "output_type": "execute_result"
    }
   ],
   "source": [
    "lda_model.print_topics()"
   ]
  },
  {
   "cell_type": "code",
   "execution_count": 138,
   "id": "d7956af1",
   "metadata": {},
   "outputs": [
    {
     "data": {
      "text/html": [
       "<div>\n",
       "<style scoped>\n",
       "    .dataframe tbody tr th:only-of-type {\n",
       "        vertical-align: middle;\n",
       "    }\n",
       "\n",
       "    .dataframe tbody tr th {\n",
       "        vertical-align: top;\n",
       "    }\n",
       "\n",
       "    .dataframe thead th {\n",
       "        text-align: right;\n",
       "    }\n",
       "</style>\n",
       "<table border=\"1\" class=\"dataframe\">\n",
       "  <thead>\n",
       "    <tr style=\"text-align: right;\">\n",
       "      <th></th>\n",
       "      <th>topic_0</th>\n",
       "      <th>topic_1</th>\n",
       "      <th>topic_2</th>\n",
       "      <th>topic_3</th>\n",
       "      <th>topic_4</th>\n",
       "      <th>topic_5</th>\n",
       "    </tr>\n",
       "    <tr>\n",
       "      <th>city_pairs</th>\n",
       "      <th></th>\n",
       "      <th></th>\n",
       "      <th></th>\n",
       "      <th></th>\n",
       "      <th></th>\n",
       "      <th></th>\n",
       "    </tr>\n",
       "  </thead>\n",
       "  <tbody>\n",
       "    <tr>\n",
       "      <th>berlin_milan</th>\n",
       "      <td>0.385312</td>\n",
       "      <td>0.346716</td>\n",
       "      <td>0.005675</td>\n",
       "      <td>0.014046</td>\n",
       "      <td>0.029740</td>\n",
       "      <td>0.218511</td>\n",
       "    </tr>\n",
       "    <tr>\n",
       "      <th>london_berlin</th>\n",
       "      <td>0.010370</td>\n",
       "      <td>0.333222</td>\n",
       "      <td>0.126719</td>\n",
       "      <td>0.018533</td>\n",
       "      <td>0.000066</td>\n",
       "      <td>0.511090</td>\n",
       "    </tr>\n",
       "    <tr>\n",
       "      <th>london_madrid</th>\n",
       "      <td>0.009128</td>\n",
       "      <td>0.046449</td>\n",
       "      <td>0.105221</td>\n",
       "      <td>0.307612</td>\n",
       "      <td>0.075346</td>\n",
       "      <td>0.456244</td>\n",
       "    </tr>\n",
       "    <tr>\n",
       "      <th>london_milan</th>\n",
       "      <td>0.487751</td>\n",
       "      <td>0.043231</td>\n",
       "      <td>0.101632</td>\n",
       "      <td>0.002799</td>\n",
       "      <td>0.044314</td>\n",
       "      <td>0.320273</td>\n",
       "    </tr>\n",
       "    <tr>\n",
       "      <th>madrid_berlin</th>\n",
       "      <td>0.011195</td>\n",
       "      <td>0.312714</td>\n",
       "      <td>0.002470</td>\n",
       "      <td>0.323248</td>\n",
       "      <td>0.078263</td>\n",
       "      <td>0.272110</td>\n",
       "    </tr>\n",
       "    <tr>\n",
       "      <th>madrid_milan</th>\n",
       "      <td>0.089897</td>\n",
       "      <td>0.012905</td>\n",
       "      <td>0.008892</td>\n",
       "      <td>0.046982</td>\n",
       "      <td>0.756225</td>\n",
       "      <td>0.085099</td>\n",
       "    </tr>\n",
       "    <tr>\n",
       "      <th>paris_berlin</th>\n",
       "      <td>0.013869</td>\n",
       "      <td>0.395010</td>\n",
       "      <td>0.247337</td>\n",
       "      <td>0.031856</td>\n",
       "      <td>0.000163</td>\n",
       "      <td>0.311765</td>\n",
       "    </tr>\n",
       "    <tr>\n",
       "      <th>paris_london</th>\n",
       "      <td>0.030657</td>\n",
       "      <td>0.046643</td>\n",
       "      <td>0.424022</td>\n",
       "      <td>0.028611</td>\n",
       "      <td>0.001678</td>\n",
       "      <td>0.468389</td>\n",
       "    </tr>\n",
       "    <tr>\n",
       "      <th>paris_madrid</th>\n",
       "      <td>0.000654</td>\n",
       "      <td>0.057089</td>\n",
       "      <td>0.236460</td>\n",
       "      <td>0.361039</td>\n",
       "      <td>0.105110</td>\n",
       "      <td>0.239647</td>\n",
       "    </tr>\n",
       "    <tr>\n",
       "      <th>paris_milan</th>\n",
       "      <td>0.487361</td>\n",
       "      <td>0.040046</td>\n",
       "      <td>0.210085</td>\n",
       "      <td>0.000700</td>\n",
       "      <td>0.074753</td>\n",
       "      <td>0.187056</td>\n",
       "    </tr>\n",
       "  </tbody>\n",
       "</table>\n",
       "</div>"
      ],
      "text/plain": [
       "                topic_0   topic_1   topic_2   topic_3   topic_4   topic_5\n",
       "city_pairs                                                               \n",
       "berlin_milan   0.385312  0.346716  0.005675  0.014046  0.029740  0.218511\n",
       "london_berlin  0.010370  0.333222  0.126719  0.018533  0.000066  0.511090\n",
       "london_madrid  0.009128  0.046449  0.105221  0.307612  0.075346  0.456244\n",
       "london_milan   0.487751  0.043231  0.101632  0.002799  0.044314  0.320273\n",
       "madrid_berlin  0.011195  0.312714  0.002470  0.323248  0.078263  0.272110\n",
       "madrid_milan   0.089897  0.012905  0.008892  0.046982  0.756225  0.085099\n",
       "paris_berlin   0.013869  0.395010  0.247337  0.031856  0.000163  0.311765\n",
       "paris_london   0.030657  0.046643  0.424022  0.028611  0.001678  0.468389\n",
       "paris_madrid   0.000654  0.057089  0.236460  0.361039  0.105110  0.239647\n",
       "paris_milan    0.487361  0.040046  0.210085  0.000700  0.074753  0.187056"
      ]
     },
     "execution_count": 138,
     "metadata": {},
     "output_type": "execute_result"
    }
   ],
   "source": [
    "import pandas as pd\n",
    "\n",
    "transformed_docs = lda_model.load_document_topics()\n",
    "topic_distributions = pd.DataFrame([[x[1] for x in doc] for doc in transformed_docs], \n",
    "             columns=['topic_{}'.format(i) for i in range(6)])\n",
    "topic_distributions['city_pairs'] = city_pairs\n",
    "topic_distributions.set_index(\"city_pairs\", inplace=True)\n",
    "topic_distributions\n",
    "# topic_distributions.mean().sort_values(ascending=False)"
   ]
  },
  {
   "cell_type": "code",
   "execution_count": null,
   "id": "32286fa8",
   "metadata": {},
   "outputs": [],
   "source": []
  },
  {
   "cell_type": "markdown",
   "id": "9c6cae93",
   "metadata": {},
   "source": [
    "# Visualise"
   ]
  },
  {
   "cell_type": "code",
   "execution_count": 143,
   "id": "ea812ec0",
   "metadata": {},
   "outputs": [
    {
     "data": {
      "text/html": [
       "\n",
       "<link rel=\"stylesheet\" type=\"text/css\" href=\"https://cdn.jsdelivr.net/gh/bmabey/pyLDAvis@3.3.1/pyLDAvis/js/ldavis.v1.0.0.css\">\n",
       "\n",
       "\n",
       "<div id=\"ldavis_el3214816366417224326564842772\"></div>\n",
       "<script type=\"text/javascript\">\n",
       "\n",
       "var ldavis_el3214816366417224326564842772_data = {\"mdsDat\": {\"x\": [-0.017458580871882918, -0.09790717730562398, -0.1140710215069827, -0.004378471475702049, -0.04339237613483766, 0.27720762729502896], \"y\": [0.0240363427818794, -0.15182769503363297, -0.028440300155363717, 0.13486629153236218, 0.07180825717878962, -0.05044289630403438], \"topics\": [1, 2, 3, 4, 5, 6], \"cluster\": [1, 1, 1, 1, 1, 1], \"Freq\": [39.424800812476, 27.06421873645769, 15.186955258337306, 8.166402862594774, 6.333636435350572, 3.823985894783665]}, \"tinfo\": {\"Term\": [\"opera\", \"milan\", \"club\", \"fashion\", \"season\", \"festival\", \"berlin\", \"year\", \"time\", \"team\", \"city\", \"film\", \"art\", \"title\", \"league\", \"model\", \"museum\", \"match\", \"champion\", \"work\", \"world\", \"competition\", \"record\", \"goal\", \"music\", \"game\", \"week\", \"gallery\", \"study\", \"group\", \"ambience\", \"chart\", \"darkness\", \"discourse\", \"eleanor\", \"hate\", \"indie\", \"marche\", \"meadow\", \"mutter\", \"nylon\", \"val\", \"vor\", \"admiral\", \"aeroplane\", \"archeology\", \"ashe\", \"assassin\", \"assertion\", \"barbara\", \"bearing\", \"bedroom\", \"broadway\", \"bureaucracy\", \"caucasus\", \"density\", \"deposit\", \"detective\", \"edward\", \"emission\", \"freud\", \"keyboard\", \"song\", \"screen\", \"cambridge\", \"cork\", \"band\", \"fare\", \"parker\", \"standard\", \"wembley\", \"earth\", \"girlfriend\", \"dublin\", \"suez\", \"broker\", \"creditor\", \"juilliard\", \"scot\", \"recorder\", \"contingent\", \"blitz\", \"clark\", \"gaiety\", \"adaptation\", \"process\", \"glasgow\", \"album\", \"session\", \"temple\", \"cabinet\", \"soho\", \"cable\", \"kind\", \"camera\", \"sea\", \"incident\", \"theatre\", \"victoria\", \"rock\", \"gas\", \"gallery\", \"programme\", \"community\", \"channel\", \"play\", \"date\", \"college\", \"economic\", \"version\", \"office\", \"track\", \"company\", \"dance\", \"trade\", \"music\", \"venue\", \"system\", \"record\", \"museum\", \"performance\", \"event\", \"concert\", \"summer\", \"world\", \"film\", \"singer\", \"series\", \"show\", \"art\", \"collection\", \"award\", \"centre\", \"game\", \"city\", \"year\", \"project\", \"society\", \"school\", \"book\", \"time\", \"artist\", \"work\", \"opera\", \"festival\", \"house\", \"exhibition\", \"group\", \"adolphe\", \"copp\\u00e9lia\", \"creature\", \"employer\", \"englishman\", \"fit\", \"gem\", \"green\", \"human\", \"hunt\", \"impressionism\", \"inheritance\", \"jewel\", \"jungle\", \"lambert\", \"legislature\", \"liberalization\", \"litre\", \"livery\", \"pantomime\", \"par\", \"paris\", \"pastel\", \"phoenix\", \"plymouth\", \"pon\", \"pont\", \"rouge\", \"rug\", \"scribe\", \"telephone\", \"politique\", \"julian\", \"traveler\", \"yacht\", \"dome\", \"horizon\", \"commodity\", \"pantheon\", \"patent\", \"barclay\", \"monopoly\", \"waste\", \"waterloo\", \"vicar\", \"acad\\u00e9mie\", \"chef\", \"rothschild\", \"watercolour\", \"jacque\", \"seine\", \"fran\\u00e7aise\", \"commune\", \"inch\", \"soci\\u00e9t\\u00e9\", \"exhibitor\", \"surrealist\", \"mansion\", \"eurostar\", \"salon\", \"universelle\", \"claude\", \"antoine\", \"lithograph\", \"painter\", \"jean\", \"rue\", \"des\", \"sorbonne\", \"pound\", \"peace\", \"exposition\", \"sculptor\", \"friend\", \"fran\\u00e7ois\", \"husband\", \"revolution\", \"painting\", \"caf\\u00e9\", \"father\", \"train\", \"daughter\", \"son\", \"study\", \"law\", \"war\", \"family\", \"trip\", \"wife\", \"minister\", \"influence\", \"time\", \"period\", \"academy\", \"work\", \"death\", \"school\", \"year\", \"mother\", \"member\", \"art\", \"fashion\", \"exhibition\", \"life\", \"service\", \"student\", \"society\", \"artist\", \"city\", \"day\", \"century\", \"tour\", \"career\", \"berlinale\", \"brun\", \"capitain\", \"chemnitz\", \"eine\", \"fischer\", \"frey\", \"f\\u00fchrer\", \"goebbel\", \"kleine\", \"komische\", \"lithographische\", \"mischa\", \"walther\", \"bavarian\", \"cochabamba\", \"equation\", \"fuch\", \"hager\", \"hann\", \"kampnagel\", \"ribbon\", \"saxony\", \"ulf\", \"montpelier\", \"anti\", \"invitational\", \"saratoga\", \"st\\u00e4dtische\", \"hohenzollern\", \"berlin\", \"secession\", \"oder\", \"sibelius\", \"schmidt\", \"voltage\", \"tegel\", \"universit\\u00e4t\", \"rostock\", \"hochschule\", \"berliner\", \"nazism\", \"dash\", \"k\\u00fcnste\", \"rundfunk\", \"reunification\", \"friedrich\", \"deutsche\", \"hitler\", \"f\\u00fcr\", \"nationalgalerie\", \"strauss\", \"habilitation\", \"reich\", \"georg\", \"heinrich\", \"marathon\", \"der\", \"und\", \"gymnasium\", \"oper\", \"nazi\", \"philharmonic\", \"wilhelm\", \"gropius\", \"vienna\", \"festival\", \"doctorate\", \"philosophy\", \"orchestra\", \"professor\", \"film\", \"cologne\", \"study\", \"state\", \"conductor\", \"opera\", \"war\", \"theater\", \"university\", \"art\", \"work\", \"year\", \"music\", \"director\", \"member\", \"time\", \"history\", \"role\", \"museum\", \"world\", \"city\", \"artist\", \"academy\", \"exhibition\", \"school\", \"place\", \"annotation\", \"blacksmith\", \"blasis\", \"b\\u00e9jart\", \"faggioni\", \"lombardo\", \"nelsson\", \"peri\\u0107\", \"legnano\", \"prada\", \"visconti\", \"brera\", \"lightness\", \"pinacoteca\", \"klein\", \"esposizione\", \"romani\", \"modena\", \"napoleone\", \"milano\", \"armani\", \"coup\\u00e9\", \"varese\", \"piero\", \"gucci\", \"armida\", \"gp\", \"adelina\", \"maurizio\", \"hd\", \"como\", \"milan\", \"istituto\", \"monza\", \"flander\", \"classification\", \"modeling\", \"versace\", \"vinci\", \"fashion\", \"model\", \"runway\", \"li\\u00e8ge\", \"rider\", \"arcade\", \"dal\", \"naple\", \"turin\", \"opera\", \"week\", \"catwalk\", \"giuseppe\", \"florence\", \"venice\", \"race\", \"management\", \"vogue\", \"designer\", \"debut\", \"verona\", \"campaign\", \"role\", \"teatro\", \"brand\", \"house\", \"agency\", \"tour\", \"exhibition\", \"design\", \"stage\", \"year\", \"work\", \"world\", \"vienna\", \"city\", \"festival\", \"magazine\", \"art\", \"company\", \"saint\", \"state\", \"career\", \"season\", \"time\", \"music\", \"botero\", \"cartagena\", \"competitiveness\", \"corriente\", \"donostia\", \"elizalde\", \"extraordinary\", \"howth\", \"iberm\\u00fasica\", \"internacional\", \"intracatal\\u00f2nia\", \"irunea\", \"laudium\", \"lino\", \"obsesi\\u00f3n\", \"odelot\", \"poete\", \"razon\", \"sitge\", \"wacoal\", \"sof\\u00eda\", \"maya\", \"barrio\", \"complutense\", \"federer\", \"alonso\", \"cuenca\", \"dolore\", \"vel\\u00e1zquez\", \"mcdonald\", \"santander\", \"semifinal\", \"nadal\", \"open\", \"bayonne\", \"henare\", \"codex\", \"infante\", \"amaia\", \"palacio\", \"quarterfinal\", \"atp\", \"granada\", \"academia\", \"auditorio\", \"voting\", \"seville\", \"real\", \"gibraltar\", \"mexico\", \"eurovision\", \"hammond\", \"burgo\", \"catalan\", \"germain\", \"round\", \"museo\", \"spaniard\", \"spanish\", \"slam\", \"aire\", \"teatro\", \"barcelona\", \"buenos\", \"lisbon\", \"master\", \"bombing\", \"embassy\", \"toulouse\", \"festival\", \"saint\", \"opera\", \"art\", \"city\", \"museum\", \"work\", \"center\", \"event\", \"year\", \"country\", \"ambassador\", \"exhibition\", \"world\", \"office\", \"service\", \"secretary\", \"painting\", \"role\", \"tour\", \"study\", \"time\", \"concert\", \"gallery\", \"place\", \"bernab\\u00e9u\", \"liga\", \"matchday\", \"ajax\", \"copa\", \"coppa\", \"feyenoord\", \"landsbanki\", \"mortal\", \"pereira\", \"54\", \"spain\", \"midfielder\", \"assist\", \"shootout\", \"st\\u00e9fano\", \"lazio\", \"supercopa\", \"21\", \"zidane\", \"inter\", \"01\", \"nou\", \"goalscorer\", \"goalless\", \"bayern\", \"internazionale\", \"scorer\", \"lyonnais\", \"aggregate\", \"goalkeeper\", \"goal\", \"penalty\", \"champion\", \"striker\", \"galatasaray\", \"cup\", \"semi\", \"win\", \"league\", \"draw\", \"match\", \"trophy\", \"football\", \"transfer\", \"club\", \"final\", \"season\", \"team\", \"player\", \"chelsea\", \"kick\", \"victory\", \"competition\", \"milan\", \"title\", \"winner\", \"leg\", \"stadium\", \"minute\", \"quarter\", \"time\", \"game\", \"year\", \"group\", \"record\", \"city\", \"round\", \"stage\", \"career\", \"day\", \"place\", \"world\"], \"Freq\": [9846.0, 3734.0, 2959.0, 3610.0, 2677.0, 6714.0, 2838.0, 14520.0, 10142.0, 2256.0, 8269.0, 6223.0, 16157.0, 2432.0, 1198.0, 1850.0, 4914.0, 1198.0, 1026.0, 10947.0, 7251.0, 1533.0, 1806.0, 889.0, 6181.0, 1739.0, 2454.0, 4864.0, 3808.0, 3766.0, 7.132543061319147, 184.42718487125222, 31.586976414413368, 28.53017224527659, 32.60591113745896, 14.265086122638294, 50.94673615227963, 59.098213936644356, 14.265086122638294, 7.132543061319147, 13.246151399592701, 29.549106968322178, 9.170412507410331, 28.53017224527659, 18.340825014820663, 9.170412507410331, 25.473368076139813, 18.340825014820663, 13.246151399592701, 35.662715306595736, 13.246151399592701, 32.60591113745896, 116.15855842719753, 13.246151399592701, 26.492302799185403, 21.39762918395744, 33.62484586050455, 52.984605598370806, 140.61299178029176, 32.60591113745896, 125.32897093460788, 124.31003621156229, 1828.9878278668386, 184.42718487125222, 531.8839254297992, 75.40116950537384, 1817.7795459133372, 55.02247504446199, 55.02247504446199, 252.69581131530694, 51.965670875325216, 160.9916862412036, 46.870997260097255, 397.38454198778106, 42.79525836791488, 41.776323644869294, 40.757388921823704, 40.757388921823704, 40.757388921823704, 38.71951947573252, 37.70058475268692, 37.70058475268692, 37.70058475268692, 37.70058475268692, 217.03309600871123, 381.08158641905163, 531.8839254297992, 2036.8505113681397, 346.4378058355014, 124.31003621156229, 236.39285574657742, 116.15855842719753, 111.06388481196957, 204.8058793321641, 210.91948767043766, 351.53247945072945, 168.12422930252276, 2731.7639924852338, 232.31711685439507, 474.8235809392461, 134.4993834420182, 4047.2087199370935, 498.25907956929467, 553.2815546137567, 455.46382120137986, 977.1583994007232, 677.591590825319, 1999.1499266154526, 706.1217630705956, 1172.793866225477, 2461.7462908781517, 597.0957477047173, 3720.1306738394583, 869.1513187578904, 570.6034449055318, 4281.56370623758, 1097.3926967201032, 922.1359243562613, 1385.7512233420057, 3269.7615262533063, 2725.6503841469603, 1789.2493736680606, 2510.65515758434, 1515.155933168796, 4440.517523032692, 3810.8158641905156, 869.1513187578904, 1460.133458124334, 1103.5063050583767, 7155.978559949196, 2262.035085161215, 1442.811567832559, 1282.838816314401, 1214.5701898703462, 3577.479812613075, 5169.055850010291, 1298.1228371600848, 1744.4162458540543, 2526.9581131530695, 1699.5831180400482, 3422.601734710145, 2151.990135072291, 3400.1851708031422, 3006.8763677075435, 2435.2539880789664, 1774.9842875454221, 2000.1688613384981, 1654.7499902260422, 49.968114710464704, 14.276604202989915, 25.493936076767703, 36.7112679505455, 47.92859982432328, 14.276604202989915, 39.770540279757626, 33.65199562133337, 30.592723292121246, 39.770540279757626, 56.086659368888945, 39.770540279757626, 58.126174255030364, 19.375391418343455, 27.53345096290912, 23.454421190626288, 8.158059544565665, 19.375391418343455, 29.572965849050536, 68.32374868573744, 28.55320840597983, 44.869327495111165, 44.869327495111165, 12.237089316848499, 23.454421190626288, 9.177816987636374, 23.454421190626288, 36.7112679505455, 19.375391418343455, 21.41490630448487, 95.85719964864656, 82.60035288872736, 131.54871015612136, 48.948357267393995, 39.770540279757626, 101.97574430707081, 37.7310253936162, 35.69151050747479, 35.69151050747479, 141.74628458682844, 34.67175306440408, 34.67175306440408, 34.67175306440408, 31.61248073519195, 30.592723292121246, 397.7054027975762, 123.3906506115557, 113.19307618084862, 109.11404640856577, 131.54871015612136, 106.05477407935365, 121.35113572541427, 120.33137828234356, 97.89671453478799, 180.49706742351535, 69.34350612880816, 68.32374868573744, 85.65962521793948, 132.56846759919205, 553.7282915873946, 138.68701225761632, 101.97574430707081, 119.31162083927285, 74.4422933441617, 1171.7013020882437, 540.4714448274754, 95.85719964864656, 135.6277399284042, 292.67038616129327, 172.33900787894967, 618.9927679439198, 549.6492618151117, 289.6111138320811, 1279.7955910537387, 138.68701225761632, 603.6964062978592, 539.4516873844046, 2109.8781497132954, 247.8010586661821, 1597.9599132917997, 718.9289973648492, 941.2361199542636, 1301.2104973582236, 2002.8036181908708, 971.828843246385, 2135.372085790063, 1778.456980715315, 749.5217206569705, 919.8212136497788, 641.4274316914755, 484.38478545858635, 3804.715020096812, 1017.7179281845667, 1301.2104973582236, 3857.742407136489, 976.9276304617384, 2303.6320638967295, 4659.271757390065, 854.5567372932535, 1769.2791637276787, 4274.823201352408, 1521.4781050614965, 2141.490630448487, 1227.7879614571325, 1278.775833610668, 916.7619413205667, 1160.483970214466, 1354.2378843979004, 1712.172746915719, 1084.0021619841627, 940.216362511193, 994.2635069939405, 953.4732092711121, 12.065159904816259, 12.065159904816259, 10.054299920680213, 23.124889817564494, 13.070589896884279, 30.16289976204064, 15.08144988102032, 10.054299920680213, 37.20090970651679, 12.065159904816259, 81.43982935750974, 6.032579952408129, 6.032579952408129, 35.19004972238075, 15.08144988102032, 6.032579952408129, 14.0760198889523, 23.124889817564494, 11.059729912748235, 19.103169849292406, 5.027149960340107, 44.23891965099294, 15.08144988102032, 6.032579952408129, 5.027149960340107, 31.168329754108665, 9.048869928612193, 9.048869928612193, 21.11402983342845, 9.048869928612193, 2834.3071476397527, 99.53756921473412, 32.173759746176685, 21.11402983342845, 16.086879873088343, 9.048869928612193, 48.260639619265035, 84.4561193337138, 41.222629674788884, 206.11314837394437, 202.09142840567233, 36.19547971444877, 34.18461973031273, 70.3800994447615, 75.40724940510161, 31.168329754108665, 41.222629674788884, 759.0996440113561, 367.9873770968959, 183.99368854844795, 29.15746976997262, 39.21176969065284, 89.48326929405391, 103.55928918300621, 74.40181941303358, 142.77105887365906, 466.51951631956194, 704.8064244396829, 145.78734884986312, 127.68960899263872, 500.7041360498747, 254.37378799320942, 358.93850716828365, 197.06427844533218, 60.32579952408128, 1203.4997005054215, 2810.1768278301197, 355.9222171920796, 430.3240366051131, 1031.5711718617902, 1068.7720815683067, 2169.7179228827904, 543.9376257087996, 1410.618278871434, 1151.2173409178847, 548.9647756691397, 2697.5686687185016, 1371.4065091807813, 554.9973556215479, 1170.320510767177, 2594.009379535495, 1968.631924469186, 2217.9785625020554, 1262.820070037435, 784.2353938130567, 953.1476324804843, 1436.7594586652026, 686.7086845824585, 834.5068934164578, 851.5992032816141, 970.2399423456408, 1012.4680020124975, 721.8987343048394, 594.2091253122006, 647.4969148918058, 621.3557350980373, 573.0950954787722, 8.921550385732232, 4.956416880962351, 8.921550385732232, 5.947700257154821, 6.938983633347291, 8.921550385732232, 4.956416880962351, 6.938983633347291, 13.877967266694583, 51.54673556200844, 24.78208440481175, 187.35255810037685, 19.825667523849404, 36.6774849191214, 17.843100771464464, 48.57288543343103, 13.877967266694583, 26.764651157196695, 10.90411713811717, 41.63390180008374, 49.5641688096235, 9.912833761924702, 9.912833761924702, 27.755934533389166, 73.3549698382428, 17.843100771464464, 8.921550385732232, 7.930267009539761, 7.930267009539761, 6.938983633347291, 34.69491816673645, 2986.7368124679124, 34.69491816673645, 25.77336778100422, 135.8058225383684, 72.36368646205031, 165.5443238241425, 109.04117138117171, 33.70363479054398, 2036.0960546993335, 1024.987010983014, 229.97774327665306, 144.72737292410062, 109.04117138117171, 105.07603787640183, 26.764651157196695, 558.0925407963607, 161.57919031937263, 2990.7019459726826, 876.2945045541436, 78.31138671920513, 43.61646855246868, 520.4237725010468, 481.76372082954043, 430.21698526753204, 344.9666149149796, 172.4833074574898, 377.6789663293311, 640.3690610203357, 176.44844096225967, 269.62907832435184, 761.3056329158171, 262.69009469100456, 237.90801028619282, 659.2034451679926, 263.68137806719704, 622.5259602488712, 773.2010334301267, 430.21698526753204, 439.1385356532642, 1077.525029921215, 925.858673363767, 755.3579326586622, 433.19083539610943, 779.1487336872815, 654.2470282870303, 372.72254944836874, 899.0940222065703, 534.3017397677414, 349.92303179594194, 422.2867182579922, 427.24313513895464, 394.5307837246031, 450.04265279138144, 404.44361748652784, 6.881051002428156, 13.762102004856311, 6.881051002428156, 8.847065574550486, 10.813080146672817, 4.915036430305825, 9.83007286061165, 4.915036430305825, 5.89804371636699, 4.915036430305825, 5.89804371636699, 5.89804371636699, 5.89804371636699, 5.89804371636699, 5.89804371636699, 5.89804371636699, 5.89804371636699, 5.89804371636699, 12.779094718795147, 8.847065574550486, 8.847065574550486, 38.33728415638544, 28.50721129577379, 129.75696176007378, 59.96344444973107, 19.6601457212233, 18.67713843516214, 17.694131149100972, 33.42224772607961, 15.72811657697864, 38.33728415638544, 111.07982332491166, 74.70855374064855, 98.30072860611651, 26.541196723651456, 14.745109290917476, 85.52163388732137, 13.762102004856311, 13.762102004856311, 60.94645173579224, 63.89547359397573, 17.694131149100972, 94.36869946187184, 84.53862660126019, 58.980437163669905, 54.06540073336408, 178.90732606313205, 191.68642078192718, 83.55561931519902, 51.11637887518059, 279.1740692413709, 27.524204009712623, 24.575182151529127, 81.5896047430767, 168.09424591645922, 328.32443354442916, 94.36869946187184, 47.18434973093592, 54.06540073336408, 54.06540073336408, 459.0644025905641, 284.0891056716767, 132.70598361825728, 370.59374684505923, 187.75439163768252, 371.5767541311204, 134.6719981903796, 300.80022953471655, 127.79094718795146, 813.9300328586446, 347.00157197959123, 1008.5654754987553, 1183.5407724176428, 810.9810110004612, 575.0592623457816, 761.8306466974029, 319.4773679698786, 353.8826229820194, 716.6123115385894, 345.03555740746896, 223.14265393588445, 440.38726415540197, 473.8095118814816, 342.0865355492855, 340.1205209771631, 234.93874136861845, 316.52834611169516, 308.6642878232058, 293.91917853228836, 289.9871493880437, 330.2904481165515, 272.29301823894275, 279.1740692413709, 259.51392352014756, 31.23537563920375, 39.04421954900469, 16.59379330832699, 23.42653172940281, 26.354848195578164, 63.446856767132616, 13.665476842151639, 5.856632932350703, 4.880527443625586, 7.808843909800937, 15.617687819601874, 5.856632932350703, 41.97253601518003, 30.259270150478628, 25.378742706853043, 24.40263721812793, 42.94864150390515, 19.522109774502344, 108.347709248488, 34.1636921053791, 194.2449922562983, 25.378742706853043, 34.1636921053791, 21.474320751952575, 20.498215263227458, 31.23537563920375, 30.259270150478628, 40.0203250377298, 9.761054887251172, 95.65833789506148, 72.23180616565867, 718.4136397016863, 145.43971782004246, 772.0994415815676, 40.0203250377298, 31.23537563920375, 349.4457649635919, 103.4671818048624, 410.9404107532743, 737.9357494761886, 164.9618275945448, 691.0826860173829, 139.58308488769174, 287.95111917390955, 179.60340992542157, 1307.005249402932, 354.3262924072175, 1039.5523454922497, 893.1365221834822, 433.390836993952, 133.72645195534105, 51.7335909024312, 246.95468864745465, 428.51030955032644, 746.7206988747146, 561.2606560169423, 212.79099654207553, 183.50783188032202, 171.7945660156206, 215.71931300825088, 145.43971782004246, 697.9154244384588, 299.664385038611, 680.3455256414065, 348.46965947486683, 264.5245874445068, 376.7767186478952, 193.2688867675732, 249.88300511363, 255.7396380459807, 204.9821526322746, 197.17330872247368, 199.1255196999239], \"Total\": [9846.0, 3734.0, 2959.0, 3610.0, 2677.0, 6714.0, 2838.0, 14520.0, 10142.0, 2256.0, 8269.0, 6223.0, 16157.0, 2432.0, 1198.0, 1850.0, 4914.0, 1198.0, 1026.0, 10947.0, 7251.0, 1533.0, 1806.0, 889.0, 6181.0, 1739.0, 2454.0, 4864.0, 3808.0, 3766.0, 7.132543061319147, 184.42718487125222, 31.586976414413368, 28.53017224527659, 32.60591113745896, 14.265086122638294, 50.94673615227963, 59.098213936644356, 14.265086122638294, 7.132543061319147, 13.246151399592701, 29.549106968322178, 9.170412507410331, 28.53017224527659, 18.340825014820663, 9.170412507410331, 25.473368076139813, 18.340825014820663, 13.246151399592701, 35.662715306595736, 13.246151399592701, 32.60591113745896, 116.15855842719753, 13.246151399592701, 26.492302799185403, 21.39762918395744, 33.62484586050455, 52.984605598370806, 140.61299178029176, 32.60591113745896, 125.32897093460788, 124.31003621156229, 1881.1496593330178, 185.41846824744468, 541.841632729116, 75.40116950537384, 1881.107488797747, 55.02247504446199, 55.02247504446199, 256.6588822768932, 51.965670875325216, 163.00254622533964, 46.870997260097255, 406.2826383959146, 42.79525836791488, 41.776323644869294, 40.757388921823704, 40.757388921823704, 40.757388921823704, 38.71951947573252, 37.70058475268692, 37.70058475268692, 37.70058475268692, 37.70058475268692, 220.99582394909405, 392.81003017122043, 554.3788540612871, 2184.7497356996664, 359.3102068414485, 126.27605078368462, 243.38602027903985, 118.1695992464607, 113.04645156435451, 211.81456477329735, 218.84044731825432, 370.8935434180702, 174.07192955967759, 3163.9372428555594, 243.36270015126775, 513.4118090988924, 138.5212842454174, 4864.646805761291, 542.6847575150671, 606.0255095585801, 494.1337789907474, 1124.768108772722, 761.9896545820321, 2431.4251080965355, 810.52675537949, 1411.6129871132146, 3221.9157790517243, 682.4236627621123, 5157.63436187079, 1041.8137485407456, 655.2343316406185, 6181.947121186076, 1360.3553718049327, 1122.10384620684, 1806.2526388120784, 4914.4719788681095, 3991.6078206687025, 2449.074284856351, 3656.587359879816, 2029.6646084014083, 7251.032436618967, 6223.22256890814, 1069.5915047914907, 2014.3685878518097, 1473.8890697112975, 16157.227315386295, 3745.3631431365548, 2136.6631137447525, 1839.6182573127805, 1739.4590241549395, 8269.02702487693, 14520.789037003622, 1919.213281462458, 3026.483075193394, 5561.845919129739, 2991.908354831075, 10142.324738818554, 4496.630253508165, 10947.436409086642, 9846.223859251351, 6714.6276344978305, 3498.196924817118, 6011.529653662845, 3766.979669821797, 49.968114710464704, 14.276604202989915, 25.493936076767703, 36.7112679505455, 47.92859982432328, 14.276604202989915, 39.770540279757626, 33.65199562133337, 30.592723292121246, 39.770540279757626, 56.086659368888945, 39.770540279757626, 58.126174255030364, 19.375391418343455, 27.53345096290912, 23.454421190626288, 8.158059544565665, 19.375391418343455, 29.572965849050536, 68.32374868573744, 28.55320840597983, 44.869327495111165, 44.869327495111165, 12.237089316848499, 23.454421190626288, 9.177816987636374, 23.454421190626288, 36.7112679505455, 19.375391418343455, 21.41490630448487, 95.85719964864656, 82.60035288872736, 132.5541401481894, 48.948357267393995, 39.770540279757626, 102.95184979579592, 37.7310253936162, 35.69151050747479, 35.69151050747479, 143.75714457096447, 34.67175306440408, 34.67175306440408, 34.67175306440408, 31.61248073519195, 30.592723292121246, 412.52919426892987, 125.34286158900593, 115.21744089596223, 111.15191585465695, 134.52256028469878, 108.01388685413993, 124.32498585399168, 123.25969474851891, 99.90757451892404, 188.46977428068175, 70.31961161753327, 69.32917867780546, 87.67048520207553, 137.58018717386062, 610.0330110064604, 145.65261596622494, 106.05148319925318, 125.26111290129506, 76.41658400641533, 1399.0573225869462, 622.5196638395887, 99.87891961691864, 144.50756463429502, 328.7537523457077, 187.09660445340208, 749.374760324563, 676.1094653187364, 340.7842965106465, 1824.3347913185983, 150.83088550691025, 810.4956711034199, 719.2270057604965, 3525.1848319509086, 294.1481270366878, 2587.274305794103, 1053.0373619134118, 1479.6956903505247, 2222.248678408923, 3808.272593902208, 1614.9793554931111, 4331.619826747929, 3456.7182969769997, 1190.0183909856828, 1599.4331115125638, 1016.289855366226, 720.6931984652534, 10142.324738818554, 1874.8136979932879, 2619.2645989992134, 10947.436409086642, 1798.446929003504, 5561.845919129739, 14520.789037003622, 1561.0204927523318, 4407.009010606712, 16157.227315386295, 3610.9080452670237, 6011.529653662845, 2913.699505224798, 3211.131475002199, 1788.6145571873421, 3026.483075193394, 4496.630253508165, 8269.02702487693, 3060.2493085431497, 2337.3383977127964, 3929.548844102487, 3282.2737481557256, 12.065159904816259, 12.065159904816259, 10.054299920680213, 23.124889817564494, 13.070589896884279, 30.16289976204064, 15.08144988102032, 10.054299920680213, 37.20090970651679, 12.065159904816259, 81.43982935750974, 6.032579952408129, 6.032579952408129, 35.19004972238075, 15.08144988102032, 6.032579952408129, 14.0760198889523, 23.124889817564494, 11.059729912748235, 19.103169849292406, 5.027149960340107, 44.23891965099294, 15.08144988102032, 6.032579952408129, 5.027149960340107, 31.168329754108665, 9.048869928612193, 9.048869928612193, 21.11402983342845, 9.048869928612193, 2838.3861774120355, 100.55650393777971, 32.173759746176685, 21.11402983342845, 16.086879873088343, 9.048869928612193, 49.280397062335744, 87.4051411918973, 42.24156439783447, 218.30937393365775, 214.3219359623199, 37.18676309064124, 35.16072521903785, 74.32817335400755, 80.39414070937629, 32.18808719717937, 43.18864424691122, 898.1575096587053, 425.0477215874491, 206.08408244613193, 30.13357525869774, 41.19433644303778, 100.33309959773626, 117.83507066597102, 82.5574107975239, 168.68597426902934, 625.3356880568822, 993.9196683530272, 174.96325920529134, 151.8316014402173, 696.8024475368634, 336.97414088193676, 508.51873390382184, 257.2014935196257, 67.4273514685667, 2338.1059015614005, 6714.6276344978305, 562.2963035796555, 713.579939386918, 2213.949277321105, 2466.587912778442, 6223.22256890814, 1079.0114133504123, 3808.272593902208, 2947.357671339211, 1118.9278068236786, 9846.223859251351, 4331.619826747929, 1251.4390368642821, 3774.638372620453, 16157.227315386295, 10947.436409086642, 14520.789037003622, 6181.947121186076, 2817.3190979415035, 4407.009010606712, 10142.324738818554, 2435.6240173561287, 3935.3339626490792, 4914.4719788681095, 7251.032436618967, 8269.02702487693, 4496.630253508165, 2619.2645989992134, 6011.529653662845, 5561.845919129739, 3190.169160878357, 8.921550385732232, 4.956416880962351, 8.921550385732232, 5.947700257154821, 6.938983633347291, 8.921550385732232, 4.956416880962351, 6.938983633347291, 13.877967266694583, 52.52974284806961, 25.801019127857344, 196.2363738319369, 20.845424966920113, 38.68024964825327, 18.862858214535173, 51.57335563726976, 14.883397258762605, 28.78901587231031, 11.909547130185192, 45.65562176835583, 54.531177441915155, 10.918263753992724, 10.931768484970295, 30.81520686260129, 81.47052018562312, 19.88097021755565, 9.940485108777825, 8.906372498264878, 8.935697001607782, 7.915089122072408, 39.722068127076554, 3734.4764460656725, 39.722068127076554, 29.80627743886612, 170.0328288590654, 88.23495838640484, 211.95233365957662, 137.55072783280596, 39.803738397839965, 3610.9080452670237, 1850.6421701260986, 352.3478137251129, 214.52026215281464, 159.5030232562219, 152.97598279871974, 31.845820041447087, 1126.111903553964, 270.6184939475412, 9846.223859251351, 2454.3970216109274, 120.07778993075857, 57.849420801113006, 1503.2391559850562, 1397.1214163201703, 1214.6527618946384, 907.9577345220631, 358.8870377087069, 1063.9354122346872, 2289.8219518459605, 401.5796837700535, 791.2455410299052, 3935.3339626490792, 767.9557579417339, 666.0429986386557, 3498.196924817118, 841.6749227830845, 3929.548844102487, 6011.529653662845, 2085.2559402248517, 2345.7861773857326, 14520.789037003622, 10947.436409086642, 7251.032436618967, 2338.1059015614005, 8269.02702487693, 6714.6276344978305, 1830.117165778529, 16157.227315386295, 5157.63436187079, 1610.5845627690335, 2947.357671339211, 3282.2737481557256, 2677.0664989720026, 10142.324738818554, 6181.947121186076, 6.881051002428156, 13.762102004856311, 6.881051002428156, 8.847065574550486, 10.813080146672817, 4.915036430305825, 9.83007286061165, 4.915036430305825, 5.89804371636699, 4.915036430305825, 5.89804371636699, 5.89804371636699, 5.89804371636699, 5.89804371636699, 5.89804371636699, 5.89804371636699, 5.89804371636699, 5.89804371636699, 12.779094718795147, 8.847065574550486, 8.847065574550486, 39.32856753257791, 29.51264128784181, 134.72585210042192, 62.92211669084113, 20.65142909741577, 19.653243923887256, 18.699561141168992, 35.418961094340105, 16.74787402004935, 41.28077851002814, 124.99041628205882, 83.74211868583727, 113.04855614926474, 28.523763476036397, 15.736392667109946, 105.46047433817519, 14.781036727901904, 14.781859447927019, 74.95228105074818, 79.57199125539054, 19.646342126551207, 125.43401470697411, 111.32350165260071, 74.9072712446767, 69.15586215107611, 276.7948950449881, 301.1456585290798, 116.02327371839237, 66.27885714206633, 483.1255578555125, 32.5648587010303, 28.566908015120777, 120.3276891859572, 287.67526513653166, 680.6535773840073, 147.61219263391382, 62.89310487534191, 75.30935902758232, 78.49282462450316, 1360.6773529265597, 767.9557579417339, 268.7528942309574, 1187.1177929924663, 483.9649618713334, 1434.6644700374861, 311.0620038599426, 1113.1684654206715, 302.27578888154386, 6714.6276344978305, 1610.5845627690335, 9846.223859251351, 16157.227315386295, 8269.02702487693, 4914.4719788681095, 10947.436409086642, 1926.9747704198014, 2449.074284856351, 14520.789037003622, 2969.2897897147327, 1113.9426567218466, 6011.529653662845, 7251.032436618967, 3221.9157790517243, 3211.131475002199, 1266.1147707475932, 3525.1848319509086, 3935.3339626490792, 3929.548844102487, 3808.272593902208, 10142.324738818554, 3656.587359879816, 4864.646805761291, 3190.169160878357, 31.23537563920375, 39.04421954900469, 16.59379330832699, 23.42653172940281, 26.354848195578164, 63.446856767132616, 13.665476842151639, 5.856632932350703, 4.880527443625586, 7.808843909800937, 15.617687819601874, 5.856632932350703, 42.9638193913725, 31.242277436539794, 26.384172698921063, 25.40806721019595, 44.92293216615879, 20.50511706056351, 114.3937939318737, 36.201561551470284, 207.18762072540463, 27.361309459237983, 37.15168884983206, 23.440335324074905, 22.486652541356644, 34.278675077362955, 33.23312027905604, 43.974776887981314, 10.779989610296765, 106.4714180417343, 82.13155270867794, 889.1837562627968, 170.83266261138652, 1026.3075146074748, 45.97994718150025, 35.22816049082675, 489.7026606344878, 132.76808759439405, 617.912091545292, 1198.3469701428307, 227.4152969243824, 1198.3305076480206, 190.67144113169803, 447.79622786251787, 267.21911409639006, 2959.773755114429, 693.9330429228621, 2677.0664989720026, 2256.2699010757096, 907.1585810313211, 221.29367862361966, 63.64942607043279, 661.6634425528471, 1533.1740203721602, 3734.4764460656725, 2432.993245644181, 568.893783075427, 489.91915284583433, 439.74169837149276, 780.7861360133822, 359.3027635046072, 10142.324738818554, 1739.4590241549395, 14520.789037003622, 3766.979669821797, 1806.2526388120784, 8269.02702487693, 680.6535773840073, 2345.7861773857326, 3282.2737481557256, 3060.2493085431497, 3190.169160878357, 7251.032436618967], \"Category\": [\"Default\", \"Default\", \"Default\", \"Default\", \"Default\", \"Default\", \"Default\", \"Default\", \"Default\", \"Default\", \"Default\", \"Default\", \"Default\", \"Default\", \"Default\", \"Default\", \"Default\", \"Default\", \"Default\", \"Default\", \"Default\", \"Default\", \"Default\", \"Default\", \"Default\", \"Default\", \"Default\", \"Default\", \"Default\", \"Default\", \"Topic1\", \"Topic1\", \"Topic1\", \"Topic1\", \"Topic1\", \"Topic1\", \"Topic1\", \"Topic1\", \"Topic1\", \"Topic1\", \"Topic1\", \"Topic1\", \"Topic1\", \"Topic1\", \"Topic1\", \"Topic1\", \"Topic1\", \"Topic1\", \"Topic1\", \"Topic1\", \"Topic1\", \"Topic1\", \"Topic1\", \"Topic1\", \"Topic1\", \"Topic1\", \"Topic1\", \"Topic1\", \"Topic1\", \"Topic1\", \"Topic1\", \"Topic1\", \"Topic1\", \"Topic1\", \"Topic1\", \"Topic1\", \"Topic1\", \"Topic1\", \"Topic1\", \"Topic1\", \"Topic1\", \"Topic1\", \"Topic1\", \"Topic1\", \"Topic1\", \"Topic1\", \"Topic1\", \"Topic1\", \"Topic1\", \"Topic1\", \"Topic1\", \"Topic1\", \"Topic1\", \"Topic1\", \"Topic1\", \"Topic1\", \"Topic1\", \"Topic1\", \"Topic1\", \"Topic1\", \"Topic1\", \"Topic1\", \"Topic1\", \"Topic1\", \"Topic1\", \"Topic1\", \"Topic1\", \"Topic1\", \"Topic1\", \"Topic1\", \"Topic1\", \"Topic1\", \"Topic1\", \"Topic1\", \"Topic1\", \"Topic1\", \"Topic1\", \"Topic1\", \"Topic1\", \"Topic1\", \"Topic1\", \"Topic1\", \"Topic1\", \"Topic1\", \"Topic1\", \"Topic1\", \"Topic1\", \"Topic1\", \"Topic1\", \"Topic1\", \"Topic1\", \"Topic1\", \"Topic1\", \"Topic1\", \"Topic1\", \"Topic1\", \"Topic1\", \"Topic1\", \"Topic1\", \"Topic1\", \"Topic1\", \"Topic1\", \"Topic1\", \"Topic1\", \"Topic1\", \"Topic1\", \"Topic1\", \"Topic1\", \"Topic1\", \"Topic1\", \"Topic1\", \"Topic1\", \"Topic1\", \"Topic1\", \"Topic1\", \"Topic1\", \"Topic1\", \"Topic1\", \"Topic2\", \"Topic2\", \"Topic2\", \"Topic2\", \"Topic2\", \"Topic2\", \"Topic2\", \"Topic2\", \"Topic2\", \"Topic2\", \"Topic2\", \"Topic2\", \"Topic2\", \"Topic2\", \"Topic2\", \"Topic2\", \"Topic2\", \"Topic2\", \"Topic2\", \"Topic2\", \"Topic2\", \"Topic2\", \"Topic2\", \"Topic2\", \"Topic2\", \"Topic2\", \"Topic2\", \"Topic2\", \"Topic2\", \"Topic2\", \"Topic2\", \"Topic2\", \"Topic2\", \"Topic2\", \"Topic2\", \"Topic2\", \"Topic2\", \"Topic2\", \"Topic2\", \"Topic2\", \"Topic2\", \"Topic2\", \"Topic2\", \"Topic2\", \"Topic2\", \"Topic2\", \"Topic2\", \"Topic2\", \"Topic2\", \"Topic2\", \"Topic2\", \"Topic2\", \"Topic2\", \"Topic2\", \"Topic2\", \"Topic2\", \"Topic2\", \"Topic2\", \"Topic2\", \"Topic2\", \"Topic2\", \"Topic2\", \"Topic2\", \"Topic2\", \"Topic2\", \"Topic2\", \"Topic2\", \"Topic2\", \"Topic2\", \"Topic2\", \"Topic2\", \"Topic2\", \"Topic2\", \"Topic2\", \"Topic2\", \"Topic2\", \"Topic2\", \"Topic2\", \"Topic2\", \"Topic2\", \"Topic2\", \"Topic2\", \"Topic2\", \"Topic2\", \"Topic2\", \"Topic2\", \"Topic2\", \"Topic2\", \"Topic2\", \"Topic2\", \"Topic2\", \"Topic2\", \"Topic2\", \"Topic2\", \"Topic2\", \"Topic2\", \"Topic2\", \"Topic2\", \"Topic2\", \"Topic2\", \"Topic2\", \"Topic2\", \"Topic2\", \"Topic2\", \"Topic2\", \"Topic2\", \"Topic2\", \"Topic2\", \"Topic2\", \"Topic2\", \"Topic2\", \"Topic2\", \"Topic2\", \"Topic3\", \"Topic3\", \"Topic3\", \"Topic3\", \"Topic3\", \"Topic3\", \"Topic3\", \"Topic3\", \"Topic3\", \"Topic3\", \"Topic3\", \"Topic3\", \"Topic3\", \"Topic3\", \"Topic3\", \"Topic3\", \"Topic3\", \"Topic3\", \"Topic3\", \"Topic3\", \"Topic3\", \"Topic3\", \"Topic3\", \"Topic3\", \"Topic3\", \"Topic3\", \"Topic3\", \"Topic3\", \"Topic3\", \"Topic3\", \"Topic3\", \"Topic3\", \"Topic3\", \"Topic3\", \"Topic3\", \"Topic3\", \"Topic3\", \"Topic3\", \"Topic3\", \"Topic3\", \"Topic3\", \"Topic3\", \"Topic3\", \"Topic3\", \"Topic3\", \"Topic3\", \"Topic3\", \"Topic3\", \"Topic3\", \"Topic3\", \"Topic3\", \"Topic3\", \"Topic3\", \"Topic3\", \"Topic3\", \"Topic3\", \"Topic3\", \"Topic3\", \"Topic3\", \"Topic3\", \"Topic3\", \"Topic3\", \"Topic3\", \"Topic3\", \"Topic3\", \"Topic3\", \"Topic3\", \"Topic3\", \"Topic3\", \"Topic3\", \"Topic3\", \"Topic3\", \"Topic3\", \"Topic3\", \"Topic3\", \"Topic3\", \"Topic3\", \"Topic3\", \"Topic3\", \"Topic3\", \"Topic3\", \"Topic3\", \"Topic3\", \"Topic3\", \"Topic3\", \"Topic3\", \"Topic3\", \"Topic3\", \"Topic3\", \"Topic3\", \"Topic3\", \"Topic3\", \"Topic3\", \"Topic3\", \"Topic3\", \"Topic3\", \"Topic3\", \"Topic4\", \"Topic4\", \"Topic4\", \"Topic4\", \"Topic4\", \"Topic4\", \"Topic4\", \"Topic4\", \"Topic4\", \"Topic4\", \"Topic4\", \"Topic4\", \"Topic4\", \"Topic4\", \"Topic4\", \"Topic4\", \"Topic4\", \"Topic4\", \"Topic4\", \"Topic4\", \"Topic4\", \"Topic4\", \"Topic4\", \"Topic4\", \"Topic4\", \"Topic4\", \"Topic4\", \"Topic4\", \"Topic4\", \"Topic4\", \"Topic4\", \"Topic4\", \"Topic4\", \"Topic4\", \"Topic4\", \"Topic4\", \"Topic4\", \"Topic4\", \"Topic4\", \"Topic4\", \"Topic4\", \"Topic4\", \"Topic4\", \"Topic4\", \"Topic4\", \"Topic4\", \"Topic4\", \"Topic4\", \"Topic4\", \"Topic4\", \"Topic4\", \"Topic4\", \"Topic4\", \"Topic4\", \"Topic4\", \"Topic4\", \"Topic4\", \"Topic4\", \"Topic4\", \"Topic4\", \"Topic4\", \"Topic4\", \"Topic4\", \"Topic4\", \"Topic4\", \"Topic4\", \"Topic4\", \"Topic4\", \"Topic4\", \"Topic4\", \"Topic4\", \"Topic4\", \"Topic4\", \"Topic4\", \"Topic4\", \"Topic4\", \"Topic4\", \"Topic4\", \"Topic4\", \"Topic4\", \"Topic4\", \"Topic4\", \"Topic4\", \"Topic4\", \"Topic4\", \"Topic5\", \"Topic5\", \"Topic5\", \"Topic5\", \"Topic5\", \"Topic5\", \"Topic5\", \"Topic5\", \"Topic5\", \"Topic5\", \"Topic5\", \"Topic5\", \"Topic5\", \"Topic5\", \"Topic5\", \"Topic5\", \"Topic5\", \"Topic5\", \"Topic5\", \"Topic5\", \"Topic5\", \"Topic5\", \"Topic5\", \"Topic5\", \"Topic5\", \"Topic5\", \"Topic5\", \"Topic5\", \"Topic5\", \"Topic5\", \"Topic5\", \"Topic5\", \"Topic5\", \"Topic5\", \"Topic5\", \"Topic5\", \"Topic5\", \"Topic5\", \"Topic5\", \"Topic5\", \"Topic5\", \"Topic5\", \"Topic5\", \"Topic5\", \"Topic5\", \"Topic5\", \"Topic5\", \"Topic5\", \"Topic5\", \"Topic5\", \"Topic5\", \"Topic5\", \"Topic5\", \"Topic5\", \"Topic5\", \"Topic5\", \"Topic5\", \"Topic5\", \"Topic5\", \"Topic5\", \"Topic5\", \"Topic5\", \"Topic5\", \"Topic5\", \"Topic5\", \"Topic5\", \"Topic5\", \"Topic5\", \"Topic5\", \"Topic5\", \"Topic5\", \"Topic5\", \"Topic5\", \"Topic5\", \"Topic5\", \"Topic5\", \"Topic5\", \"Topic5\", \"Topic5\", \"Topic5\", \"Topic5\", \"Topic5\", \"Topic5\", \"Topic5\", \"Topic5\", \"Topic5\", \"Topic5\", \"Topic5\", \"Topic5\", \"Topic5\", \"Topic5\", \"Topic5\", \"Topic5\", \"Topic5\", \"Topic6\", \"Topic6\", \"Topic6\", \"Topic6\", \"Topic6\", \"Topic6\", \"Topic6\", \"Topic6\", \"Topic6\", \"Topic6\", \"Topic6\", \"Topic6\", \"Topic6\", \"Topic6\", \"Topic6\", \"Topic6\", \"Topic6\", \"Topic6\", \"Topic6\", \"Topic6\", \"Topic6\", \"Topic6\", \"Topic6\", \"Topic6\", \"Topic6\", \"Topic6\", \"Topic6\", \"Topic6\", \"Topic6\", \"Topic6\", \"Topic6\", \"Topic6\", \"Topic6\", \"Topic6\", \"Topic6\", \"Topic6\", \"Topic6\", \"Topic6\", \"Topic6\", \"Topic6\", \"Topic6\", \"Topic6\", \"Topic6\", \"Topic6\", \"Topic6\", \"Topic6\", \"Topic6\", \"Topic6\", \"Topic6\", \"Topic6\", \"Topic6\", \"Topic6\", \"Topic6\", \"Topic6\", \"Topic6\", \"Topic6\", \"Topic6\", \"Topic6\", \"Topic6\", \"Topic6\", \"Topic6\", \"Topic6\", \"Topic6\", \"Topic6\", \"Topic6\", \"Topic6\", \"Topic6\", \"Topic6\", \"Topic6\", \"Topic6\", \"Topic6\", \"Topic6\", \"Topic6\"], \"logprob\": [30.0, 29.0, 28.0, 27.0, 26.0, 25.0, 24.0, 23.0, 22.0, 21.0, 20.0, 19.0, 18.0, 17.0, 16.0, 15.0, 14.0, 13.0, 12.0, 11.0, 10.0, 9.0, 8.0, 7.0, 6.0, 5.0, 4.0, 3.0, 2.0, 1.0, -11.0049, -7.7523, -9.5168, -9.6186, -9.4851, -10.3117, -9.0388, -8.8904, -10.3117, -11.0049, -10.3859, -9.5835, -10.7536, -9.6186, -10.0604, -10.7536, -9.7319, -10.0604, -10.3859, -9.3955, -10.3859, -9.4851, -8.2146, -10.3859, -9.6927, -9.9063, -9.4543, -8.9996, -8.0235, -9.4851, -8.1386, -8.1468, -5.458, -7.7523, -6.6931, -8.6467, -5.4642, -8.9618, -8.9618, -7.4374, -9.019, -7.8882, -9.1222, -6.9847, -9.2131, -9.2372, -9.2619, -9.2619, -9.2619, -9.3132, -9.3399, -9.3399, -9.3399, -9.3399, -7.5895, -7.0265, -6.6931, -5.3504, -7.1219, -8.1468, -7.5041, -8.2146, -8.2595, -7.6475, -7.6181, -7.1073, -7.8449, -5.0569, -7.5215, -6.8066, -8.068, -4.6638, -6.7584, -6.6537, -6.8482, -6.0849, -6.451, -5.3691, -6.4098, -5.9024, -5.1609, -6.5775, -4.748, -6.202, -6.6229, -4.6075, -5.9689, -6.1429, -5.7356, -4.8771, -5.0591, -5.48, -5.1413, -5.6463, -4.571, -4.724, -6.202, -5.6833, -5.9633, -4.0939, -5.2455, -5.6952, -5.8127, -5.8674, -4.7871, -4.4191, -5.8009, -5.5054, -5.1348, -5.5314, -4.8314, -5.2954, -4.838, -4.9609, -5.1718, -5.488, -5.3686, -5.5582, -8.682, -9.9348, -9.3549, -8.9903, -8.7237, -9.9348, -8.9103, -9.0773, -9.1726, -8.9103, -8.5665, -8.9103, -8.5308, -9.6294, -9.278, -9.4383, -10.4944, -9.6294, -9.2065, -8.3691, -9.2416, -8.7896, -8.7896, -10.0889, -9.4383, -10.3766, -9.4383, -8.9903, -9.6294, -9.5293, -8.0305, -8.1794, -7.714, -8.7026, -8.9103, -7.9686, -8.9629, -9.0185, -9.0185, -7.6393, -9.0475, -9.0475, -9.0475, -9.1398, -9.1726, -6.6077, -7.778, -7.8643, -7.901, -7.714, -7.9294, -7.7947, -7.8031, -8.0095, -7.3977, -8.3543, -8.3691, -8.143, -7.7063, -6.2767, -7.6612, -7.9686, -7.8116, -8.2834, -5.5272, -6.3009, -8.0305, -7.6835, -6.9143, -7.4439, -6.1653, -6.2841, -6.9248, -5.4389, -7.6612, -6.1903, -6.3028, -4.939, -7.0808, -5.2169, -6.0156, -5.7462, -5.4223, -4.9911, -5.7142, -4.927, -5.1099, -5.9739, -5.7692, -6.1297, -6.4105, -4.3494, -5.6681, -5.4223, -4.3355, -5.709, -4.8511, -4.1468, -5.8428, -5.115, -4.2329, -5.2659, -4.9241, -5.4804, -5.4397, -5.7725, -5.5368, -5.3824, -5.1479, -5.605, -5.7473, -5.6914, -5.7333, -9.5253, -9.5253, -9.7076, -8.8747, -9.4452, -8.609, -9.3021, -9.7076, -8.3993, -9.5253, -7.6157, -10.2184, -10.2184, -8.4548, -9.3021, -10.2184, -9.3711, -8.8747, -9.6123, -9.0657, -10.4007, -8.226, -9.3021, -10.2184, -10.4007, -8.5762, -9.813, -9.813, -8.9657, -9.813, -4.066, -7.4151, -8.5444, -8.9657, -9.2376, -9.813, -8.139, -7.5794, -8.2966, -6.6872, -6.7069, -8.4267, -8.4838, -7.7617, -7.6927, -8.5762, -8.2966, -5.3835, -6.1076, -6.8007, -8.6429, -8.3466, -7.5215, -7.3755, -7.7061, -7.0544, -5.8703, -5.4577, -7.0335, -7.166, -5.7996, -6.4768, -6.1324, -6.7321, -7.9158, -4.9226, -4.0746, -6.1409, -5.9511, -5.0768, -5.0413, -4.3332, -5.7168, -4.7638, -4.967, -5.7076, -4.1155, -4.792, -5.6966, -4.9506, -4.1546, -4.4305, -4.3112, -4.8745, -5.3509, -5.1558, -4.7455, -5.4837, -5.2888, -5.2685, -5.1381, -5.0955, -5.4337, -5.6284, -5.5425, -5.5837, -5.6645, -9.2067, -9.7945, -9.2067, -9.6122, -9.458, -9.2067, -9.7945, -9.458, -8.7649, -7.4527, -8.1851, -6.1622, -8.4082, -7.793, -8.5136, -7.5121, -8.7649, -8.1081, -9.0061, -7.6663, -7.4919, -9.1014, -9.1014, -8.0717, -7.0999, -8.5136, -9.2067, -9.3245, -9.3245, -9.458, -7.8486, -3.3933, -7.8486, -8.1459, -6.484, -7.1135, -6.286, -6.7035, -7.8776, -3.7764, -4.4628, -5.9572, -6.4203, -6.7035, -6.7405, -8.1081, -5.0707, -6.3102, -3.3919, -4.6195, -7.0345, -7.6198, -5.1405, -5.2177, -5.3309, -5.5517, -6.2449, -5.4611, -4.9331, -6.2222, -5.7981, -4.7602, -5.8242, -5.9233, -4.9042, -5.8205, -4.9614, -4.7447, -5.3309, -5.3104, -4.4128, -4.5645, -4.768, -5.324, -4.737, -4.9117, -5.4744, -4.5938, -5.1142, -5.5375, -5.3495, -5.3378, -5.4175, -5.2859, -5.3927, -9.2123, -8.5191, -9.2123, -8.961, -8.7603, -9.5487, -8.8556, -9.5487, -9.3664, -9.5487, -9.3664, -9.3664, -9.3664, -9.3664, -9.3664, -9.3664, -9.3664, -9.3664, -8.5932, -8.961, -8.961, -7.4946, -7.7909, -6.2754, -7.0473, -8.1624, -8.2137, -8.2678, -7.6318, -8.3856, -7.4946, -6.4308, -6.8274, -6.553, -7.8623, -8.4501, -6.6923, -8.5191, -8.5191, -7.031, -6.9838, -8.2678, -6.5938, -6.7038, -7.0638, -7.1508, -5.9542, -5.8852, -6.7155, -7.2069, -5.5092, -7.826, -7.9393, -6.7393, -6.0165, -5.347, -6.5938, -7.287, -7.1508, -7.1508, -5.0118, -5.4918, -6.2529, -5.2259, -5.9059, -5.2233, -6.2382, -5.4346, -6.2906, -4.4392, -5.2917, -4.2248, -4.0648, -4.4428, -4.7866, -4.5053, -5.3744, -5.2721, -4.5665, -5.2974, -5.7332, -5.0534, -4.9802, -5.306, -5.3117, -5.6817, -5.3836, -5.4088, -5.4577, -5.4712, -5.3411, -5.5342, -5.5092, -5.5822, -7.1949, -6.9718, -7.8274, -7.4826, -7.3648, -6.4863, -8.0216, -8.8689, -9.0512, -8.5812, -7.8881, -8.8689, -6.8994, -7.2267, -7.4025, -7.4418, -6.8765, -7.6649, -5.9511, -7.1053, -5.3673, -7.4025, -7.1053, -7.5696, -7.6161, -7.1949, -7.2267, -6.9471, -8.3581, -6.0757, -6.3566, -4.0594, -5.6567, -3.9873, -6.9471, -7.1949, -4.7801, -5.9972, -4.618, -4.0326, -5.5307, -4.0982, -5.6978, -4.9737, -5.4457, -3.461, -4.7662, -3.6899, -3.8417, -4.5648, -5.7407, -6.6903, -5.1273, -4.5761, -4.0208, -4.3063, -5.2761, -5.4242, -5.4902, -5.2625, -5.6567, -4.0884, -4.9338, -4.1139, -4.7829, -5.0585, -4.7048, -5.3724, -5.1155, -5.0923, -5.3135, -5.3524, -5.3425], \"loglift\": [30.0, 29.0, 28.0, 27.0, 26.0, 25.0, 24.0, 23.0, 22.0, 21.0, 20.0, 19.0, 18.0, 17.0, 16.0, 15.0, 14.0, 13.0, 12.0, 11.0, 10.0, 9.0, 8.0, 7.0, 6.0, 5.0, 4.0, 3.0, 2.0, 1.0, 0.9308, 0.9308, 0.9308, 0.9308, 0.9308, 0.9308, 0.9308, 0.9308, 0.9308, 0.9308, 0.9308, 0.9308, 0.9308, 0.9308, 0.9308, 0.9308, 0.9308, 0.9308, 0.9308, 0.9308, 0.9308, 0.9308, 0.9308, 0.9308, 0.9308, 0.9308, 0.9308, 0.9308, 0.9308, 0.9308, 0.9308, 0.9308, 0.9027, 0.9254, 0.9122, 0.9308, 0.8965, 0.9308, 0.9308, 0.9152, 0.9308, 0.9184, 0.9308, 0.9086, 0.9308, 0.9308, 0.9308, 0.9308, 0.9308, 0.9308, 0.9308, 0.9308, 0.9308, 0.9308, 0.9127, 0.9005, 0.8894, 0.8607, 0.8943, 0.9151, 0.9016, 0.9136, 0.9131, 0.8971, 0.8939, 0.8772, 0.896, 0.7839, 0.8843, 0.8526, 0.9013, 0.7468, 0.8454, 0.8397, 0.8493, 0.7901, 0.8134, 0.735, 0.7929, 0.7454, 0.6617, 0.7972, 0.6041, 0.7496, 0.7925, 0.5635, 0.716, 0.7345, 0.6658, 0.5233, 0.5493, 0.6169, 0.5548, 0.6384, 0.4404, 0.4403, 0.7233, 0.609, 0.6414, 0.1164, 0.4265, 0.5381, 0.5703, 0.5716, 0.0929, -0.1021, 0.5398, 0.3798, 0.1419, 0.3652, -0.1555, 0.1938, -0.2385, -0.2554, -0.0835, 0.2523, -0.1697, 0.1082, 1.307, 1.307, 1.307, 1.307, 1.307, 1.307, 1.307, 1.307, 1.307, 1.307, 1.307, 1.307, 1.307, 1.307, 1.307, 1.307, 1.307, 1.307, 1.307, 1.307, 1.307, 1.307, 1.307, 1.307, 1.307, 1.307, 1.307, 1.307, 1.307, 1.307, 1.307, 1.307, 1.2993, 1.307, 1.307, 1.2974, 1.307, 1.307, 1.307, 1.2929, 1.307, 1.307, 1.307, 1.307, 1.307, 1.2704, 1.2913, 1.2892, 1.2885, 1.2846, 1.2887, 1.2827, 1.2829, 1.2866, 1.2637, 1.293, 1.2923, 1.2838, 1.2698, 1.2101, 1.258, 1.2678, 1.2583, 1.2808, 1.1296, 1.1656, 1.2659, 1.2435, 1.1907, 1.2248, 1.1158, 1.0999, 1.1442, 0.9524, 1.223, 1.0124, 1.0193, 0.7937, 1.1355, 0.8251, 0.9253, 0.8546, 0.7717, 0.6643, 0.7991, 0.5997, 0.6424, 0.8447, 0.7537, 0.8467, 0.9096, 0.3265, 0.696, 0.6074, 0.2639, 0.6967, 0.4255, 0.1702, 0.7044, 0.3943, -0.0227, 0.4427, 0.2748, 0.4427, 0.3862, 0.6386, 0.3484, 0.1069, -0.2678, 0.2691, 0.3963, -0.0673, 0.0708, 1.8847, 1.8847, 1.8847, 1.8847, 1.8847, 1.8847, 1.8847, 1.8847, 1.8847, 1.8847, 1.8847, 1.8847, 1.8847, 1.8847, 1.8847, 1.8847, 1.8847, 1.8847, 1.8847, 1.8847, 1.8847, 1.8847, 1.8847, 1.8847, 1.8847, 1.8847, 1.8847, 1.8847, 1.8847, 1.8847, 1.8833, 1.8745, 1.8847, 1.8847, 1.8847, 1.8847, 1.8638, 1.8504, 1.8603, 1.8272, 1.826, 1.8577, 1.8566, 1.8302, 1.8207, 1.8525, 1.8381, 1.7165, 1.7406, 1.7714, 1.8518, 1.8354, 1.7703, 1.7556, 1.7807, 1.7179, 1.5917, 1.541, 1.7023, 1.7116, 1.5542, 1.6035, 1.5364, 1.6184, 1.7734, 1.2206, 1.0137, 1.4274, 1.379, 1.121, 1.0484, 0.831, 1.1998, 0.8916, 0.9446, 1.1726, 0.59, 0.7346, 1.0716, 0.7137, 0.0556, 0.169, 0.0057, 0.2964, 0.6059, 0.3536, -0.0696, 0.6187, 0.3338, 0.1319, -0.1266, -0.2154, 0.0555, 0.4013, -0.3436, -0.307, 0.168, 2.5051, 2.5051, 2.5051, 2.5051, 2.5051, 2.5051, 2.5051, 2.5051, 2.5051, 2.4863, 2.4648, 2.4588, 2.455, 2.452, 2.4496, 2.4452, 2.4352, 2.4322, 2.4169, 2.4129, 2.4096, 2.4085, 2.4073, 2.4006, 2.4002, 2.397, 2.397, 2.3891, 2.3858, 2.3735, 2.3698, 2.2817, 2.3698, 2.3598, 2.2804, 2.3068, 2.258, 2.2729, 2.3388, 1.9322, 1.9143, 2.0785, 2.1116, 2.1248, 2.1295, 2.3313, 1.8031, 1.9894, 1.3136, 1.4752, 2.0777, 2.2227, 1.4444, 1.4404, 1.4672, 1.5374, 1.7724, 1.4695, 1.231, 1.6828, 1.4286, 0.8624, 1.4324, 1.4757, 0.8362, 1.3445, 0.6626, 0.4542, 0.9268, 0.8296, -0.0958, 0.035, 0.2434, 0.8192, 0.1431, 0.1766, 0.9138, -0.3836, 0.2379, 0.9785, 0.5622, 0.4662, 0.5904, -0.61, -0.2217, 2.7593, 2.7593, 2.7593, 2.7593, 2.7593, 2.7593, 2.7593, 2.7593, 2.7593, 2.7593, 2.7593, 2.7593, 2.7593, 2.7593, 2.7593, 2.7593, 2.7593, 2.7593, 2.7593, 2.7593, 2.7593, 2.7338, 2.7246, 2.7217, 2.7111, 2.7101, 2.7084, 2.704, 2.7013, 2.6965, 2.6853, 2.6413, 2.6451, 2.6195, 2.6873, 2.6942, 2.5497, 2.6879, 2.6878, 2.5524, 2.5399, 2.6546, 2.4747, 2.4841, 2.5203, 2.5131, 2.3229, 2.3076, 2.431, 2.4995, 2.2109, 2.5911, 2.6088, 2.3708, 2.222, 2.0302, 2.3119, 2.4719, 2.4279, 2.3865, 1.6727, 1.7649, 2.0536, 1.5951, 1.8124, 1.4084, 1.9221, 1.4508, 1.8984, 0.6491, 1.2243, 0.4807, 0.1454, 0.4373, 0.6138, 0.0942, 0.9623, 0.8248, -0.2495, 0.6069, 1.1514, 0.1455, 0.0312, 0.5166, 0.5142, 1.0749, 0.349, 0.2138, 0.1663, 0.1842, -0.6652, 0.1619, -0.0986, 0.2503, 3.2639, 3.2639, 3.2639, 3.2639, 3.2639, 3.2639, 3.2639, 3.2639, 3.2639, 3.2639, 3.2639, 3.2639, 3.2405, 3.2319, 3.225, 3.2235, 3.2189, 3.2148, 3.2096, 3.2059, 3.1994, 3.1887, 3.18, 3.1763, 3.1713, 3.1709, 3.1701, 3.1696, 3.1646, 3.1568, 3.1354, 3.0506, 3.103, 2.9793, 3.1251, 3.1436, 2.9264, 3.0145, 2.856, 2.779, 2.9428, 2.7135, 2.952, 2.8223, 2.8666, 2.4465, 2.5917, 2.3179, 2.3371, 2.5252, 2.7602, 3.0566, 2.2783, 1.9891, 1.6542, 1.7972, 2.2805, 2.2819, 2.324, 1.9776, 2.3595, 0.5875, 1.5052, 0.2031, 0.8834, 1.3428, 0.1753, 2.0049, 1.0245, 0.7117, 0.5605, 0.4801, -0.3311]}, \"token.table\": {\"Topic\": [4, 6, 1, 3, 6, 6, 2, 3, 4, 5, 6, 1, 2, 3, 4, 5, 6, 1, 2, 4, 5, 6, 1, 3, 4, 5, 4, 6, 1, 2, 1, 1, 4, 5, 6, 5, 6, 1, 2, 3, 4, 5, 6, 6, 1, 2, 3, 4, 4, 5, 2, 5, 1, 2, 3, 5, 6, 1, 4, 3, 1, 2, 3, 5, 6, 2, 3, 4, 1, 1, 2, 4, 6, 1, 4, 1, 2, 3, 4, 5, 6, 1, 2, 3, 4, 5, 6, 1, 1, 1, 5, 6, 5, 6, 2, 3, 4, 5, 6, 1, 2, 3, 4, 5, 6, 1, 3, 4, 1, 3, 4, 5, 6, 2, 3, 5, 3, 1, 3, 6, 4, 5, 1, 1, 2, 3, 3, 1, 2, 3, 6, 4, 4, 1, 1, 2, 3, 4, 5, 1, 2, 3, 4, 5, 6, 5, 1, 2, 3, 4, 5, 6, 2, 4, 5, 1, 1, 3, 1, 2, 3, 4, 5, 6, 1, 2, 5, 6, 4, 1, 3, 5, 1, 4, 1, 2, 3, 5, 6, 1, 3, 5, 6, 1, 3, 4, 5, 6, 1, 4, 5, 6, 3, 1, 2, 3, 4, 5, 6, 5, 1, 3, 4, 5, 6, 2, 4, 6, 1, 1, 2, 3, 4, 5, 6, 1, 2, 3, 4, 5, 6, 1, 2, 3, 4, 5, 6, 1, 2, 3, 5, 6, 1, 2, 3, 4, 5, 6, 1, 2, 6, 1, 2, 5, 6, 3, 1, 2, 3, 4, 5, 6, 1, 3, 4, 5, 6, 1, 2, 1, 2, 3, 6, 3, 3, 4, 5, 1, 2, 3, 4, 5, 6, 1, 2, 4, 5, 1, 2, 3, 4, 5, 6, 2, 2, 6, 1, 2, 3, 4, 5, 3, 4, 1, 2, 4, 5, 6, 1, 2, 3, 4, 6, 5, 1, 4, 5, 6, 1, 2, 3, 4, 5, 6, 1, 3, 4, 5, 6, 1, 6, 6, 2, 1, 5, 1, 2, 3, 4, 5, 6, 3, 4, 2, 1, 5, 6, 1, 3, 4, 5, 6, 1, 3, 4, 1, 2, 3, 4, 6, 1, 3, 6, 1, 3, 4, 5, 6, 1, 2, 3, 4, 5, 1, 2, 3, 4, 5, 6, 1, 2, 3, 4, 5, 6, 1, 2, 3, 4, 5, 6, 1, 1, 1, 3, 4, 5, 6, 2, 3, 5, 6, 1, 2, 3, 4, 5, 1, 2, 4, 1, 1, 3, 4, 5, 6, 1, 2, 3, 4, 5, 1, 2, 3, 4, 5, 3, 5, 2, 6, 5, 2, 3, 4, 5, 6, 1, 4, 5, 6, 1, 3, 1, 2, 3, 4, 5, 1, 3, 1, 5, 1, 2, 3, 4, 5, 6, 1, 2, 2, 3, 1, 3, 4, 6, 1, 2, 4, 2, 5, 1, 2, 3, 4, 5, 6, 1, 2, 3, 4, 5, 6, 2, 6, 1, 2, 3, 4, 5, 5, 4, 1, 2, 3, 4, 5, 6, 1, 1, 2, 4, 5, 1, 2, 3, 4, 5, 6, 4, 5, 6, 1, 2, 3, 4, 5, 6, 1, 3, 4, 5, 1, 3, 5, 6, 3, 2, 1, 2, 4, 6, 1, 2, 3, 4, 5, 6, 1, 2, 3, 6, 2, 4, 1, 2, 3, 6, 1, 3, 3, 5, 1, 2, 3, 4, 5, 6, 3, 3, 1, 3, 4, 5, 1, 1, 4, 6, 1, 2, 3, 4, 5, 1, 2, 3, 4, 5, 6, 1, 2, 3, 4, 2, 1, 2, 3, 4, 5, 6, 1, 4, 5, 1, 2, 4, 6, 1, 3, 4, 6, 1, 2, 3, 4, 5, 6, 3, 4, 5, 6, 3, 5, 6, 5, 6, 3, 1, 4, 1, 3, 4, 5, 6, 2, 2, 3, 5, 1, 2, 3, 4, 5, 6, 1, 4, 5, 1, 3, 4, 5, 2, 3, 5, 3, 1, 3, 5, 3, 1, 4, 6, 1, 2, 3, 4, 4, 5, 1, 2, 3, 5, 6, 1, 3, 1, 2, 3, 5, 3, 2, 1, 2, 3, 4, 5, 6, 5, 2, 2, 2, 3, 4, 5, 6, 5, 2, 2, 3, 1, 4, 1, 1, 5, 2, 3, 4, 5, 2, 1, 3, 4, 6, 5, 4, 6, 5, 3, 5, 3, 4, 2, 4, 1, 2, 3, 4, 5, 6, 2, 1, 2, 3, 2, 3, 1, 1, 3, 4, 5, 6, 1, 3, 6, 2, 4, 3, 3, 2, 3, 6, 2, 6, 5, 1, 2, 3, 4, 5, 6, 4, 5, 6, 1, 2, 3, 5, 6, 1, 2, 3, 4, 5, 6, 2, 4, 2, 1, 2, 3, 4, 5, 6, 6, 2, 4, 5, 1, 2, 3, 4, 5, 6, 2, 4, 5, 3, 2, 2, 1, 2, 3, 4, 5, 4, 1, 6, 1, 2, 3, 4, 5, 6, 1, 2, 4, 5, 6, 2, 3, 1, 3, 5, 6, 1, 1, 2, 3, 4, 5, 1, 2, 3, 5, 6, 6, 3, 4, 4, 5, 2, 5, 1, 1, 2, 3, 4, 5, 6, 1, 3, 5, 4, 6, 1, 4, 6, 3, 4, 1, 2, 3, 4, 5, 6, 1, 2, 3, 4, 5, 6, 3, 1, 2, 3, 4, 5, 1, 2, 4, 5, 6, 1, 3, 4, 2, 3, 1, 4, 6, 6, 1, 2, 3, 4, 5, 6, 1, 2, 3, 4, 5, 6, 1, 3, 4, 5, 6, 1, 2, 3, 4, 5, 1, 2, 4, 5, 6, 1, 2, 3, 4, 5, 6, 3, 4, 3, 6, 2, 3, 3, 4, 4, 3, 4, 6, 1, 5, 5, 3, 1, 2, 3, 4, 5, 6, 4, 5, 6, 3, 4, 5, 6, 1, 3, 4, 5, 6, 1, 3, 4, 5, 6, 1, 2, 3, 4, 5, 6, 1, 2, 3, 4, 5, 6, 2, 3, 4, 5, 2, 2, 2, 2, 1, 2, 2, 3, 1, 2, 3, 4, 5, 6, 1, 2, 3, 5, 6, 6, 1, 3, 4, 5, 6, 1, 2, 3, 4, 5, 6, 4, 1, 3, 4, 5, 2, 3, 4, 5, 6, 2, 2, 4, 2, 4, 5, 1, 2, 3, 4, 5, 6, 1, 2, 3, 6, 1, 2, 3, 4, 6, 2, 5, 2, 2, 2, 1, 2, 4, 6, 4, 5, 1, 4, 6, 1, 2, 3, 4, 5, 6, 1, 4, 5, 1, 3, 4, 5, 6, 1, 2, 3, 5, 6, 2, 4, 5, 6, 2, 3, 4, 5, 6, 5, 3, 4, 5, 6, 1, 2, 3, 5, 6, 1, 1, 2, 3, 2, 3, 2, 3, 4, 5, 6, 3, 1, 2, 4, 5, 1, 2, 4, 5, 1, 2, 3, 4, 5, 6, 3, 4, 1, 3, 1, 2, 3, 2, 1, 4, 5, 6, 2, 3, 2, 1, 3, 5, 1, 2, 4, 1, 2, 3, 4, 5, 6, 1, 2, 4, 5, 4, 5, 6, 3, 3, 3, 1, 2, 3, 4, 5, 6, 3, 5, 6, 1, 1, 4, 2, 1, 2, 3, 4, 5, 6, 1, 2, 3, 1, 2, 3, 4, 5, 6, 1, 3, 2, 3, 4, 5, 6, 2, 5, 6, 1, 2, 5, 6, 1, 2, 3, 5, 6, 1, 2, 3, 4, 5, 6, 1, 2, 3, 4, 5, 6, 1, 2, 3, 4, 5, 6, 1, 3, 4, 5, 6, 3, 6, 1, 3, 4, 5, 3, 1, 3, 4, 5, 5, 1, 3, 5, 1, 2, 3, 5, 6, 2, 3, 4, 5, 1, 2, 4, 1, 2, 3, 4, 6, 1, 2, 4, 5, 6, 2, 3, 5, 6, 4, 5, 6, 1, 2, 4, 5, 6, 1, 3, 4, 5, 6, 1, 2, 3, 4, 5, 6, 1, 3, 6, 1, 2, 3, 4, 5, 6, 3, 4, 2, 4, 5, 6, 1, 2, 3, 4, 5, 6, 2, 3, 4, 5, 6, 3, 3, 6, 1, 1, 3, 4, 5, 6, 5, 6, 2, 3, 1, 2, 3, 4, 5, 1, 2, 3, 4, 5, 6, 1, 2, 3, 4, 5, 6, 2, 3, 2, 1, 5, 2, 3, 4, 5, 6, 1, 2, 3, 4, 6, 1, 2, 3, 4, 5, 6, 1, 2, 3, 4, 5, 6, 1, 2, 3, 4, 5, 6, 1, 2, 3, 4, 5, 6, 1, 2, 3, 6, 1, 2, 3, 4, 5, 6, 1, 2, 3, 4, 5, 6, 1, 2, 3, 6, 2, 1, 2, 3, 4, 5, 6, 1, 2, 3, 5, 6, 1, 2, 3, 4, 5, 6, 3, 1, 3, 4, 5, 1, 2, 3, 4, 6, 1, 2, 3, 4, 5, 6, 3, 5, 1, 1, 4, 3, 4, 5, 1, 2, 3, 4, 5, 6, 1, 2, 3, 4, 5, 6, 3, 4, 5, 6, 2, 4, 6, 1, 3, 4, 5, 6, 2, 1, 3, 4, 1, 2, 3, 4, 5, 6, 2, 3, 4, 5, 6, 1, 3, 4, 1, 4, 2, 3, 4, 5, 6, 3, 1, 1, 4, 5, 5, 3, 1, 2, 3, 4, 5, 6, 2, 1, 2, 2, 1, 2, 3, 4, 5, 6, 1, 1, 2, 3, 5, 6, 2, 3, 4, 1, 2, 3, 4, 5, 6, 1, 2, 3, 4, 5, 6, 1, 2, 3, 4, 5, 6, 1, 2, 3, 4, 5, 6, 2, 1, 2, 3, 4, 5, 6, 1, 6], \"Freq\": [0.07309591680835074, 0.9136989601043843, 0.00874173297019541, 0.043708664850977054, 0.9441071607811043, 1.0244794354205418, 0.008982829188401101, 0.07186263350720881, 0.08982829188401102, 0.7635404810140937, 0.07186263350720881, 0.20158329945044187, 0.4967043041383047, 0.2267812118817471, 0.06833979280611571, 0.0011453596559684199, 0.005345011727852626, 0.0024240708630868316, 0.964780203508559, 0.01454442517852099, 0.01696849604160782, 0.0024240708630868316, 0.9819190069853334, 0.004524972382420891, 0.004524972382420891, 0.009049944764841783, 0.8982332595631437, 0.11227915744539296, 1.0164677503761372, 1.000638112718882, 0.9814171382942015, 0.6617756866965008, 0.31366028956530734, 0.02376214314888692, 0.001188107157444346, 0.10331411192145726, 0.901650431314536, 0.1727080997523472, 0.020577986353471155, 0.21827364096360474, 0.20945450395497425, 0.3373319905801164, 0.04189090079099485, 0.9817927922780192, 0.9323722377509067, 0.005034901627520851, 0.06087653786002484, 0.0018308733190984913, 0.04842279898804367, 0.9684559797608734, 0.06765048764823955, 0.9471068270753538, 0.3967888269049097, 0.27110910797575277, 0.13016828031948394, 0.20018983800858564, 0.001795424556130813, 0.9814171382942014, 1.0087932714467687, 0.9945993335081911, 0.007983323609682388, 0.9500155095522042, 0.007983323609682388, 0.023949970829047162, 0.007983323609682388, 0.3007007973305531, 0.013073947710024047, 0.6863822547762625, 0.9814171382942015, 0.0183381332828393, 0.0183381332828393, 0.9169066641419651, 0.0550143998485179, 0.10059871214101634, 0.9053884092691472, 0.4428977732575096, 0.26458747633815727, 0.1605473482154807, 0.055640734790176234, 0.07327989987938673, 0.0030945903665281554, 0.47858059895430816, 0.3011143731338909, 0.160564680504187, 0.03113442558252934, 0.027353816761793635, 0.0013343325249655432, 0.9814171382942013, 0.9814171382942015, 0.9814171382942014, 0.03200790985968384, 0.9602372957905152, 0.9162010863932658, 0.10180012071036286, 0.05339935541016334, 0.02669967770508167, 0.06674919426270418, 0.7876404922999093, 0.06674919426270418, 0.6753521370390363, 0.007956331482788369, 0.2115448135423731, 0.06458669086028206, 0.02574107244431531, 0.014508604468614085, 0.9664519496235272, 0.032959307412903566, 0.0005316017324661866, 1.00945762795975, 0.0781386933900451, 0.1786027277486745, 0.4948783914702856, 0.24929964081585818, 1.0094672725369898, 0.033883785264993055, 0.9826297726847987, 0.9945993335081912, 0.05834531222359774, 0.02917265611179887, 0.904352339465765, 0.07011697462995216, 0.9465791575043542, 0.9814171382942014, 1.012086423865895, 0.0014092515077166465, 0.9984546932172441, 0.994599333508191, 0.03732702377887481, 0.018663511889437406, 0.942507350416589, 0.9924644530636498, 1.0087932714467687, 1.0087932714467687, 1.0079419258156663, 0.3504124536183399, 0.003214793152461834, 0.2089615549100192, 0.003214793152461834, 0.43399707558234757, 0.5681992221636692, 0.3064933451318145, 0.08322447430514919, 0.01637750699177635, 0.02540184757908168, 0.0006684696731337284, 1.017286457770749, 0.2207064713546385, 0.3047851271087865, 0.0015014045670383573, 0.35733428695512903, 0.07657163291895622, 0.03903651874299729, 0.005095895223056006, 0.9529324067114733, 0.04076716178444805, 0.9986349828256786, 1.0053541416672307, 0.994599333508191, 0.13646497504820743, 0.0320103027890857, 0.23165350702627807, 0.24934341119919384, 0.31252164038817876, 0.037906937513390956, 0.9814171382942014, 0.07001107711556946, 0.8751384639446183, 0.07001107711556946, 1.0087932714467687, 0.9696530627742224, 0.020543497092674202, 0.008217398837069682, 0.98189725076696, 0.01769184235616144, 0.01019894306389999, 0.8431126266157324, 0.0067992953759333265, 0.13598590751866652, 0.0033996476879666632, 0.981836698890142, 0.01107334622808431, 0.005536673114042155, 0.0018455577046807181, 0.9641727687256454, 0.004569539188273201, 0.022847695941366004, 0.004569539188273201, 0.004569539188273201, 0.5055320747581716, 0.34123415046176586, 0.025276603737908583, 0.12891067906333376, 0.9945993335081912, 0.36834222029144403, 0.2903475069791118, 0.07890871385896113, 0.13009274447017916, 0.05392603225110471, 0.07799471331233224, 1.017286457770749, 0.05817447378368613, 0.07479575200759646, 0.05817447378368613, 0.6814724071803232, 0.1329702257912826, 0.34144532493179763, 0.649578910845859, 0.008327934754434088, 0.9814171382942014, 0.5023418131152367, 0.04151585232357328, 0.19564345407483907, 0.07991801572287856, 0.16554446114024846, 0.015049496467295314, 0.697427303137413, 0.14405162535574, 0.06196937845492212, 0.027723142992991476, 0.04511805624349593, 0.02446159675852189, 0.45094026651484964, 0.4021668411043251, 0.059469352035639564, 0.0727323010507822, 0.008984578365096625, 0.006417555975069017, 0.18220659728046587, 0.04871834151884114, 0.0019487336607536456, 0.014615502455652343, 0.7522111930509072, 0.9208032709873086, 0.006071230358158078, 0.0020237434527193596, 0.05059358631798399, 0.018213691074474236, 0.0020237434527193596, 0.9976837206968677, 0.9813083764060846, 0.015956233762700563, 0.3253594971524646, 0.05874546476363945, 0.009037763809790683, 0.6055301752559759, 0.9945993335081911, 0.4325781000882915, 0.20703765930980012, 0.12238441076023232, 0.0942069723144476, 0.09807683510528499, 0.045591821004552946, 1.0079419258156663, 0.07933363519417212, 0.8160031048543419, 0.07933363519417212, 0.022666752912620606, 0.0377175300083702, 0.9617970152134401, 0.42672180527905607, 0.12534741865283436, 0.0060815459184663575, 0.4415878064130849, 0.994599333508191, 0.07585780407498237, 0.11378670611247356, 0.8154713938060605, 0.6039467772691564, 0.20184958603690634, 0.07582709316730345, 0.08997792393444105, 0.027500671113493854, 0.0010679872277084993, 0.822151582355311, 0.1764397342823554, 0.00041128143189360237, 0.0008225628637872047, 0.2483755006518788, 0.04726548706435007, 0.5041651953530674, 0.1102861364834835, 0.06858129495611578, 0.021315807891765716, 1.008643217620633, 0.9735542526275964, 0.02433885631568991, 0.9125028423354603, 0.001650095555760326, 0.04290248444976848, 0.004950286667280978, 0.0379521977824875, 0.12587461418182677, 0.8811222992727875, 0.7212608996677059, 0.1097402336591187, 0.10353583882326746, 0.040134679094412665, 0.025205354020645637, 0.5022260942127701, 0.0247851838702406, 0.10240194388494143, 0.09131383531141274, 0.2798116810614005, 1.017286457770749, 0.007422480425320452, 0.022267441275961357, 0.9649224552916588, 0.007422480425320452, 0.686705868852134, 0.0035552275169564882, 0.15342174130866076, 0.08149675385023335, 0.07438629881632038, 0.0002734790397658837, 0.37535933725006077, 0.4906482765482937, 0.08400899452739455, 0.044685635386912, 0.005362276246429439, 1.0079419258156663, 0.9865357526271883, 0.9929569912537558, 0.9806253504645043, 0.9946795320549339, 1.017286457770749, 0.45600129859001814, 0.21823400405194368, 0.13235488208705845, 0.04378151315856895, 0.11618940030543298, 0.03367808704505304, 0.0915896540449765, 0.915896540449765, 0.9806253504645044, 1.0059525667515563, 0.9667615215881343, 0.050882185346743915, 0.2409625462257285, 0.038799054053295264, 0.0020420554764892245, 0.004084110952978449, 0.7126773612947394, 0.12560518130147164, 0.03140129532536791, 0.8478349737849334, 0.8341222231106055, 0.0019197289369634188, 0.07966875088398188, 0.07966875088398188, 0.0038394578739268377, 1.0130757556585304, 0.9669880182559667, 0.028440824066351962, 0.8897758597154416, 0.0013123537753915067, 0.022310014181655614, 0.03149649060939616, 0.05643121234183479, 0.2209913850073707, 0.6359415697001096, 0.11150941445326044, 0.023653512156752217, 0.00810977559660076, 0.345723466727509, 0.3542195065525706, 0.12384611898839877, 0.05195655123787706, 0.05751165420041737, 0.06698800631298614, 0.2863581858850596, 0.543246500213016, 0.12900019247637637, 0.008896564998370785, 0.021685377183528785, 0.01112070624796348, 0.39435380522578994, 0.00043671517743719814, 0.22447160120271983, 0.2794977135598068, 0.034063783840101454, 0.06725413732532852, 0.9814171382942014, 1.011157051575844, 0.15695433440662213, 0.7093128574145423, 0.07948328473155865, 0.03219576090392249, 0.021128468093199133, 0.9411272021930125, 0.020760158871904688, 0.006920052957301563, 0.034600264786507816, 0.3730956881562025, 0.3385675524913611, 0.08152476476420877, 0.20620969910946924, 0.0004795574397894633, 0.04699533395075189, 0.597780647853564, 0.3552847246676843, 1.0002905447998591, 0.002226780913695181, 0.8450633567473211, 0.06791681786770301, 0.06346325604031265, 0.021154418680104217, 0.43445557902699955, 0.1575966316078332, 0.27827873689311083, 0.08660715791061102, 0.04330357895530551, 1.0164677503761372, 0.3361217187393907, 0.6331181580487993, 0.005335265376815725, 0.026676326884078626, 0.05347719085227075, 0.9625894353408735, 0.9907544177430138, 0.009713278605323665, 1.0172864577707488, 0.15830069694902854, 0.03517793265533967, 0.021986207909587295, 0.06156138214684443, 0.7255448610163808, 0.9771522641662358, 0.017229385010487784, 0.0024613407157839692, 0.0024613407157839692, 0.9877146322452457, 0.01226974698441299, 0.8710384886300879, 0.01480518677558223, 0.04071426363285113, 0.0012337655646318525, 0.07155840274864744, 1.0027522934745101, 0.9945993335081911, 1.012086423865895, 1.017286457770749, 0.28926439258977277, 0.21649912613085476, 0.2048207500325099, 0.0008983366229496048, 0.2703993235078311, 0.017966732458992097, 1.012086423865895, 1.0078649435329627, 1.0014897196233237, 0.9945993335081911, 0.019389857178060847, 0.019389857178060847, 0.9501030017249815, 0.019389857178060847, 0.014536976879327777, 0.9667089624752973, 0.021805465318991666, 0.42225048268096366, 0.5774896307254356, 0.7304800883591543, 0.0016332701807918488, 0.019190924624304224, 0.10003779857350074, 0.14454441100007862, 0.004083175451979622, 0.332694025518346, 0.35614895431738935, 0.10762651725518492, 0.1285862408628407, 0.07319268561403611, 0.0014971231148325568, 0.9812340883691081, 0.014220783889407364, 0.0014790504367936527, 0.813477740236509, 0.0029581008735873053, 0.09761732882838108, 0.0843058748972382, 1.017286457770749, 1.0087932714467687, 0.24994805065706194, 0.5143606875790001, 0.15882115718834144, 0.03384713185981047, 0.036161465662190674, 0.0066537096818430844, 0.999591529744094, 0.0019385705512980893, 0.42122368693205625, 0.5638470917775585, 0.0127391779085303, 0.09585377145539357, 0.6176384144585441, 0.21296543577387847, 0.019325357148264832, 0.033626121437980806, 0.02087138572012602, 0.0317853261330466, 0.953559783991398, 0.0158926630665233, 0.3626411072282949, 0.0001489285861307166, 0.4184893270273136, 0.09739929532948866, 0.12122786911040331, 1.0244794354205418, 0.6123836899294183, 0.3486939404741112, 0.016711598990464312, 0.02233569480456288, 0.2103949386601402, 0.015851673460695492, 0.26371420393702505, 0.5101356731896549, 0.9945993335081912, 0.9806253504645043, 0.058812172138173795, 0.08233704099344331, 0.7998455410791636, 0.058812172138173795, 0.1935819718648234, 0.18227305941911207, 0.13637217949240135, 0.3459196748099937, 0.10776728330619034, 0.033261507193268626, 0.3148753634505598, 0.02009842745429105, 0.02233158606032339, 0.6431496785373136, 0.9732556908721746, 0.024130306385260526, 0.053039534794970644, 0.921561917062615, 0.01988982554811399, 0.0066299418493713305, 0.9973751405428876, 0.9945993335081912, 0.9493236176991653, 0.046308469156056846, 0.05810337033773554, 0.701625604078316, 0.15841390592080729, 0.041110875238963826, 0.0383701502230329, 0.002740725015930922, 0.9945993335081911, 0.9945993335081912, 0.05822866015446227, 0.8928394557017548, 0.019409553384820758, 0.029114330077231135, 1.0079419258156663, 0.028386381408146342, 0.08515914422443903, 0.8799778236525365, 0.8319206227278542, 0.01788413495856766, 0.02261212466025796, 0.07030315121643839, 0.057352570729199734, 0.6984930275033463, 0.0005748913806611903, 0.09025794676380688, 0.03506837422033261, 0.003449348283967142, 0.1724674141983571, 0.9673603643653269, 0.007219107196756171, 0.014438214393512342, 0.007219107196756171, 1.0057695902200043, 0.036338348926150885, 0.06056391487691814, 0.8963459401783884, 0.3337096081390177, 0.583991814243281, 0.07995126028330632, 0.24133089080007017, 0.043094801928583955, 0.7239926724002105, 1.0027522934745101, 0.2247213510519691, 0.7605953420220493, 0.017286257773228394, 0.9596325619252188, 0.0018038206051225918, 0.0018038206051225918, 0.036076412102451834, 0.06522836206969372, 0.09784254310454057, 0.020243284780249775, 0.006747761593416592, 0.002249253864472197, 0.8074821373455188, 0.02435117727646079, 0.03652676591469119, 0.06087794319115197, 0.8766423819525885, 0.04447082544459812, 0.04447082544459812, 0.8894165088919623, 0.08532301148208646, 0.8958916205619079, 0.9945993335081912, 0.10059871214101634, 0.9053884092691472, 0.023916957509558214, 0.15944638339705478, 0.04783391501911643, 0.7493980019661574, 0.015944638339705476, 1.0103412701755499, 0.08898466081375125, 0.8898466081375125, 0.014830776802291876, 0.4393440222835852, 0.203080469514769, 0.1324668683501565, 0.09052345111704081, 0.042208881899148065, 0.09238170377926747, 0.0859206493839875, 0.8960296292901554, 0.012274378483426785, 0.08562117422649108, 0.8430392539223738, 0.06586244171268545, 0.006586244171268545, 0.00996680062720361, 0.8870452558211213, 0.09966800627203609, 0.9945993335081912, 0.03070794838020782, 0.12283179352083128, 0.8598225546458189, 0.9945993335081912, 0.9814171382942014, 0.884386756995503, 0.12634096528507185, 0.005928175145167356, 0.023712700580669425, 0.8477290457589319, 0.12449167804851449, 0.0635469653785434, 0.953204480678151, 0.34036452017741226, 0.30505529371751183, 0.2820632392785069, 0.023402626839701447, 0.04885811568288548, 0.13410258920367568, 0.8657851373149589, 0.022903276711880704, 0.027483932054256845, 0.943615000529485, 0.004580655342376141, 0.9945993335081911, 1.0071287383148964, 0.5074042537193058, 0.13692768311636475, 0.11520220521063673, 0.18838276236677323, 0.039448894091979825, 0.012577908261210958, 1.017286457770749, 1.0133128621466545, 1.0057695902200043, 0.745222980867629, 0.17273380351236434, 0.030845322055779344, 0.05058632817147812, 0.001233812882231174, 1.017286457770749, 0.9984549022911318, 0.9809066076510273, 0.02001850219695974, 0.965118272802302, 0.03446850974293936, 1.0010454810600853, 0.06765425310880376, 0.9471595435232527, 0.6715756455461193, 0.1873196531998473, 0.055502119466621425, 0.0860282851732632, 1.0057695902200043, 0.004826543190653974, 0.009653086381307949, 0.048265431906539744, 0.9363493789868711, 1.017286457770749, 0.09027139115464401, 0.9027139115464402, 1.017286457770749, 0.9945993335081911, 1.017286457770749, 0.12587461418182677, 0.8811222992727875, 0.9812480502946114, 0.022301092052150258, 0.008031874799200565, 0.8674424783136611, 0.014457374638561019, 0.03373387415664238, 0.053010373674723735, 0.022489249437761583, 0.9978293039814254, 1.0059525667515563, 0.9958195183675901, 0.007544087260360531, 0.9806253504645044, 0.9945993335081912, 0.9975059438400079, 0.01571106075478868, 0.04713318226436604, 0.03142212150957736, 0.09426636452873208, 0.8169751592490113, 0.967827685595696, 0.028326663968654516, 0.00472111066144242, 0.053014235097702686, 0.9542562317586484, 0.994599333508191, 0.9945993335081911, 0.013453848720824014, 0.941769410457681, 0.04036154616247204, 1.0169448078891155, 1.0244794354205418, 1.017286457770749, 0.017956885889197798, 0.6018652787689744, 0.22353226917242774, 0.012384059233929516, 0.13498624564983172, 0.009907247387143612, 0.022260345702752614, 0.022260345702752614, 0.9571948652183625, 0.17357243367937794, 0.13435173953067236, 0.07343449117204452, 0.002503448562683336, 0.6158483464201007, 0.4327244582469125, 0.004082306209876534, 0.002041153104938267, 0.002041153104938267, 0.183703779444444, 0.37557217130864107, 0.9806253504645043, 1.0087932714467687, 0.9806253504645043, 0.46916299966716474, 0.4214573252313667, 0.07447576512638972, 0.009266569854435587, 0.018533139708871174, 0.006864125818100435, 0.9988674495350282, 0.04797215703622802, 0.9594431407245605, 1.017286457770749, 0.260349425943563, 0.016530122282130983, 0.11364459068965051, 0.13224097825704786, 0.3884578736300781, 0.08678314198118767, 0.9683761838109323, 0.01308616464609368, 0.01308616464609368, 0.994599333508191, 0.9806253504645044, 1.014440017721901, 0.00932312864029268, 0.1538316225648292, 0.14917005824468288, 0.6759268264212193, 0.01398469296043902, 1.0087932714467687, 0.09276446788453545, 0.9276446788453544, 0.45024439713916986, 0.2956094888984113, 0.006556957239890824, 0.20381208753993976, 0.03551685171607529, 0.008196196549863529, 0.41631893823667265, 0.1574963179043497, 0.37997363410489965, 0.03524393127929504, 0.0110137285247797, 0.9809458656670469, 0.022812694550396438, 0.20309091968608026, 0.7467988936488148, 0.04797423299671187, 0.0015991410998903958, 0.998338123437205, 0.1742567723820942, 0.41473111826938414, 0.09131054872821735, 0.06133838387849715, 0.25929407730455617, 0.3020869432010892, 0.04589718750292792, 0.0008344943182350531, 0.07426999432291972, 0.5766355739004216, 1.0244794354205418, 0.11191068808846943, 0.8952855047077555, 0.025426809638353795, 0.9662187662574442, 0.05970907106196715, 0.9553451369914744, 0.9814171382942014, 0.32471002363641516, 0.40140603201454816, 0.21624643782355252, 0.013841587310846488, 0.03948256052602113, 0.004311314080427594, 0.09052660620172158, 0.13578990930258236, 0.7694761527146334, 0.02327539809463049, 0.9775667199744805, 0.0002677751525393915, 0.7998443806351623, 0.20002803894692542, 0.0876124307384293, 0.9199305227535076, 0.000983971250642509, 0.6307255716618483, 0.2174576463919945, 0.03443899377248782, 0.11512463632517356, 0.000983971250642509, 0.5801844821591912, 0.028176729817885666, 0.08965323123872712, 0.023053688032815545, 0.0012807604462675302, 0.27664425639378654, 0.994599333508191, 0.0021614118950544874, 0.438766614696061, 0.0005403529737636218, 0.5538617981077124, 0.0048631767638725966, 0.06605258719390109, 0.09436083884843012, 0.78319496244197, 0.02359020971210753, 0.03302629359695054, 0.03473547009857376, 0.03473547009857376, 0.9378576926614914, 1.0094672725369898, 0.9945993335081912, 0.10064993879739331, 0.8722994695774088, 0.033549979599131106, 1.0244794354205418, 0.1563080056494252, 0.5477186263535186, 0.1646358911963208, 0.08584128179107778, 0.04292064089553889, 0.003203032902652156, 0.1490391789962851, 0.006774508136194778, 0.04742155695336344, 0.14226467086009034, 0.636803764802309, 0.013549016272389556, 0.6653817569946018, 0.17336552200593294, 0.043951822480377364, 0.1170013792880416, 0.00040696131926275334, 0.6926620231553274, 0.0006470453275621928, 0.2043045621777624, 0.06535157808378148, 0.03704334500293554, 0.9814171382942014, 0.059707111289574, 0.023882844515829598, 0.89560666934361, 0.023882844515829598, 0.019536246735842932, 0.12432157013718229, 0.13231367107457256, 0.49551025811819793, 0.17138616454625843, 0.05683271777699762, 0.08396624901592292, 0.9236287391751521, 0.9623816540531298, 0.033185574277694134, 0.24630970134019906, 0.7537670378362717, 0.9680864105394558, 0.02689128918165155, 1.0087932714467687, 0.026916676763794556, 0.05383335352758911, 0.9151670099690149, 0.9814171382942014, 1.017286457770749, 1.017286457770749, 0.9945993335081912, 0.7641416377198466, 0.0018622460708038503, 0.04903914653116806, 0.04624577742496228, 0.10614802603581946, 0.03258930623906738, 0.06192029547690537, 0.8668841366766752, 0.07076605197360614, 0.7189986225952446, 0.117680413279062, 0.12198579425268621, 0.04161868274503412, 0.30539626591717917, 0.2740136765695209, 0.303771277471993, 0.10247583382455397, 0.014523334228851555, 0.40696505978231656, 0.46613534039439586, 0.08491612790130468, 0.0365862040425834, 0.0058718599080689405, 0.0007147669962163782, 0.8377069195655953, 0.06504379665569042, 0.02430207787135686, 0.061469961674608525, 0.011436271939462051, 0.09503047810818029, 0.5985501755470459, 0.14552428438655668, 0.07091826724491065, 0.08992436286654672, 0.00028367306897964266, 0.04002546630927457, 0.04002546630927457, 0.10673457682473218, 0.8138511482885828, 1.008643217620633, 0.9952615497251687, 1.0156476844096651, 1.0029122902477883, 0.999591529744094, 1.0029122902477883, 0.9877769930933967, 0.013912352015399953, 0.028023361756812644, 0.8260219489270013, 0.11209344702725058, 0.0013344457979434592, 0.021351132767095347, 0.010675566383547674, 0.09365890430682516, 0.035122089115059436, 0.005853681519176573, 0.011707363038353145, 0.8487838202806031, 1.0244794354205418, 0.6829328236818919, 0.13904171575328322, 0.09294500278282536, 0.05386300700352413, 0.03131570174623496, 0.11947853818209192, 0.5429872851311142, 0.18721860224068868, 0.07627424535731761, 0.051738474123495165, 0.022402225909142235, 1.0087932714467687, 0.21041506018584033, 0.7059720243618381, 0.07669333969390442, 0.00786598355834917, 0.30830463113777556, 0.6025954154056522, 0.021020770304848335, 0.05745677216658544, 0.009809692808929222, 0.9806253504645043, 0.09735453061783382, 0.9086422857664489, 0.0258529872245837, 0.9565605273095968, 0.0258529872245837, 0.4328924048716482, 0.15108916665324723, 0.17961429977657814, 0.09309851140251957, 0.08150038035237403, 0.06175221126699109, 0.8686234899263303, 0.09068535923488812, 0.022226803734041206, 0.017781442987232964, 0.47510987495704354, 0.04299138079657702, 0.0033070292920443865, 0.001102343097348129, 0.47731456115173976, 0.9806253504645043, 1.017286457770749, 1.0048383220809118, 0.9806253504645042, 0.9806253504645043, 0.010689664870417871, 0.9193111788559369, 0.010689664870417871, 0.05879315678729829, 0.9899153732847737, 0.019036834101630262, 0.9699344994676623, 0.002545759841122473, 0.028003358252347205, 0.21162837833418346, 0.2752790591741582, 0.43339221540084694, 0.021081754163558505, 0.055136895504691474, 0.00405418349299202, 0.9176598257159886, 0.04238187950093923, 0.04053918908785492, 0.6763187877748075, 0.13338798896020856, 0.06460980715260102, 0.12244600549081645, 0.003126280991254888, 0.00278316812886739, 0.4787049181651911, 0.025048513159806513, 0.0862782119948891, 0.4035593786857716, 0.012567236086758804, 0.012567236086758804, 0.8043031095525635, 0.17594130521462326, 0.14325081657789301, 0.31366989147228297, 0.3540106386695057, 0.18359156377511576, 0.004939683330272173, 1.017286457770749, 0.08633695775989192, 0.07637500109528901, 0.6375652265345865, 0.20255978551359258, 0.7673345191133025, 0.006089956500899227, 0.0797230669208626, 0.000553632409172657, 0.1467125884307541, 1.007243905091417, 0.008486437818115426, 0.11032369163550053, 0.8825895330840042, 0.031067394401977064, 0.963089226461289, 0.7494156861227312, 0.23636487317414528, 0.006951908034533685, 0.0041711448207202104, 0.0027807632138134738, 0.9945993335081912, 0.08777263097709898, 0.13792842010686981, 0.6833726268931277, 0.08777263097709898, 0.9251832380593069, 0.005843262556164044, 0.03311182115159625, 0.037007329522372276, 0.35193963540204454, 0.13289850492077204, 0.2121802134012326, 0.19337621844112338, 0.07851938436045613, 0.03125528892018157, 0.06718896113662824, 0.9406454559127955, 0.02367336565904423, 0.9706079920208135, 0.008679241547318943, 0.9807542948470405, 0.008679241547318943, 1.0078649435329627, 0.18511619447335104, 0.04848281283825861, 0.4818897760893583, 0.28355099629648217, 0.9611637807878172, 0.04004849086615905, 0.9806253504645044, 0.02487743487712584, 0.932903807892219, 0.03731615231568876, 0.002838104739256757, 0.3434106734500676, 0.6527640900290541, 0.000620892577214777, 0.4718783586832305, 0.07636978699741757, 0.21731240202517196, 0.21544972429352763, 0.01862677731644331, 0.004917766655038, 0.9081475756303506, 0.03278511103358667, 0.054095433205418, 0.024224349348379533, 0.9205252752384222, 0.048448698696759065, 0.9945993335081911, 0.9945993335081912, 0.9945993335081912, 0.45434556022281886, 0.4142509579554312, 0.11165357851142481, 0.017799845849647434, 0.0008989821136185573, 0.0010787785363422686, 0.02274030866711023, 0.06822092600133069, 0.9096123466844092, 1.0059525667515563, 0.9923499085023628, 0.005393206024469363, 0.9806253504645044, 0.005868815026039551, 0.8509781787757349, 0.12324511554683057, 0.011737630052079102, 0.005868815026039551, 0.0029344075130197755, 0.9490593898077826, 0.048531446069716155, 0.002696191448317564, 0.3817611555007877, 0.000747086409981972, 0.04519872780390931, 0.14754956597143948, 0.036607234089116626, 0.38848493319062544, 0.009944657588918958, 0.9944657588918957, 0.5734077326744433, 0.22667771250353339, 0.0007898178136011615, 0.18560718619627298, 0.014216720644820909, 0.981355296871601, 0.00925806883841133, 0.00925806883841133, 0.13557474786403434, 0.030127721747563188, 0.05272351305823558, 0.7757888349997522, 0.024001840214933515, 0.016001226809955676, 0.008000613404977838, 0.88806808795254, 0.0640049072398227, 0.7247928749509508, 0.10971179819463021, 0.05907558364326242, 0.06453635187919425, 0.035743210271553735, 0.006453635187919425, 0.365291801077437, 0.39830197235979703, 0.05636642454818081, 0.04577825640100872, 0.10588168147172086, 0.02865033733940682, 0.9629562239312566, 0.002783110473789759, 0.011132441895159035, 0.002783110473789759, 0.002783110473789759, 0.016698662842738552, 0.0722556678538069, 0.08309401803187794, 0.16618803606375587, 0.6466882272915717, 0.0325150505342131, 0.03790151055374548, 0.947537763843637, 0.7490387320778825, 0.0027139084495575454, 0.21507724462743547, 0.03324537850707993, 0.9945993335081911, 0.812459706445972, 0.02804809113162159, 0.1346308374317836, 0.02524328201845943, 1.017286457770749, 0.2802803963960324, 0.025480036036002948, 0.6879609729720796, 0.5762464076851173, 0.3832831610749633, 0.039319565662000545, 0.0006608330363361436, 0.0003304165181680718, 0.955060304428083, 0.01591767174046805, 0.026529452900780084, 1.017286457770749, 0.9816399542666158, 0.008462413398850135, 0.008462413398850135, 0.3172462230936113, 0.5854430301344515, 0.0746991106858716, 0.007649908925661549, 0.014849823208637125, 0.9722777722259972, 0.0010631796306462516, 0.0010631796306462516, 0.023389951874217538, 0.0021263592612925032, 0.8912445802044865, 0.09429550165986035, 0.015208951880622637, 1.0244794354205418, 0.09539996493880175, 0.7472997253539471, 0.1589999415646696, 0.18589986929609176, 0.03983568627773395, 0.013278562092577982, 0.717042352999211, 0.03983568627773395, 0.40023495759393646, 0.004548124518112914, 0.05685155647641143, 0.14781404683866972, 0.3911387085577106, 0.24298889877304927, 0.30522816056404084, 0.1266100051501678, 0.18714408168661165, 0.03197222352276964, 0.10657407840923214, 0.9857441821438859, 0.007792444127619651, 0.007792444127619651, 0.2731259961517418, 0.1102682593159206, 0.3905192814542296, 0.14317909363482614, 0.07328598157611954, 0.009160747697014943, 0.9467320842496872, 0.04855036329485575, 0.02174861132512009, 0.06524583397536028, 0.04349722265024018, 0.8699444530048037, 0.09560472339490705, 0.51268731785456, 0.25047319345566293, 0.0469637237729368, 0.0855410683007063, 0.008386379245167285, 0.5259602485408204, 0.37050919155821144, 0.02389534828617806, 0.07615001102188612, 0.0036762074286427783, 0.9945993335081911, 0.039357578509502375, 0.944581884228057, 1.0047842130154918, 0.7464287418369259, 0.13007075105277124, 0.06503537552638562, 0.009361152537888839, 0.04926922388362547, 0.04876831461368495, 0.975366292273699, 0.9808280048436377, 0.014423941247700555, 0.8216708311951063, 0.006238281798661328, 0.06772991667118013, 0.04545033881881825, 0.058818085530235376, 0.3962291920721774, 0.00044320938710534384, 0.06914066438843364, 0.10814309045370389, 0.030581447710268723, 0.39578598268507204, 0.0013021583465695843, 0.016928058505404596, 0.1731870600937547, 0.34246764514780065, 0.36981297042576194, 0.09635971764614923, 0.02029204429369918, 0.9740181260975608, 1.0014897196233237, 0.9819755941878197, 0.015838316035287413, 0.2900660673887602, 0.44348944187537714, 0.13504453275124098, 0.10308132973319577, 0.02876688271624068, 0.8634810965890962, 0.009165794949152192, 0.026233137268263172, 0.10082374444067412, 0.0003160618947983515, 0.33749658861728915, 0.3751605374492507, 0.1416834933809654, 0.04436852611094949, 0.03253691914802963, 0.06882051383431721, 0.32511393174483216, 0.1216608391864353, 0.1664616211841429, 0.08179225337196157, 0.07439395909711077, 0.23058017156618313, 0.013232948675117094, 0.3109742938652517, 0.08270592921948183, 0.15217890976384657, 0.423454357603747, 0.01984942301267564, 0.36976254975954287, 0.2529552473922819, 0.12520521299497253, 0.15854237336558516, 0.0748177492287031, 0.01883167837729262, 0.8748231231954067, 0.007326826827432217, 0.10697167168051036, 0.010257557558405104, 0.8714439589425861, 0.08393943562494262, 0.0030523431136342772, 0.016787887124988524, 0.012209372454537109, 0.013735544011354246, 0.000949633921993954, 0.6827867899136529, 0.14529399006507496, 0.05317949963166142, 0.10635899926332285, 0.012345240985921402, 0.3218332651495075, 0.0037422472691803197, 0.0037422472691803197, 0.6736045084524576, 1.0010550452658482, 0.07226779069251768, 0.6302423606905612, 0.17058559896024525, 0.04873874256007007, 0.07142746754493028, 0.007562908328286735, 0.07866935871974345, 0.020978495658598256, 0.06293548697579476, 0.10489247829299128, 0.7342473480509389, 0.04803810637760781, 0.11085716856371033, 0.08868573485096827, 0.5986287102440359, 0.06281906218610253, 0.09238097380309195, 0.994599333508191, 0.09716325631573441, 0.8344609071821897, 0.04000839965942005, 0.02857742832815718, 0.006865650804595832, 0.9543254618388206, 0.006865650804595832, 0.027462603218383327, 0.006865650804595832, 0.4225570352830142, 0.16398921933553967, 0.30996346788785367, 0.02569782597018958, 0.06384717586407926, 0.01404108016927884, 0.9610418661252278, 0.034322923790186706, 1.0152591085802085, 0.0914765073350085, 0.9147650733500851, 0.028233465045359517, 0.028233465045359517, 0.9317043464968641, 0.34785809903341014, 0.04151392951427528, 0.15174056994873034, 0.34499506941173597, 0.0944799775152472, 0.019325449946300564, 0.8064069306717183, 0.001470204066858192, 0.005880816267432768, 0.028668979303734746, 0.1492257127861065, 0.008086122367720057, 0.26395757625203004, 0.43826918321091773, 0.16933127533149095, 0.12948862231231661, 0.20356126384176046, 0.7924349199554247, 0.007270045137205731, 0.8309643016240702, 0.0007084094643001451, 0.08359231678741713, 0.07721663160871582, 0.007792504107301597, 1.0133128621466545, 0.9533096068370174, 0.04109093132918178, 0.0041090931329181785, 0.003022684753873583, 0.26599625834087526, 0.09068054261620748, 0.1722930309707942, 0.09370322737008106, 0.37330156710338747, 0.2198360645926037, 0.5145190383363858, 0.18519263807120118, 0.06201601043954774, 0.017963258196282795, 0.12561634161155416, 0.025123268322310828, 0.8541911229585682, 0.03875815893335394, 0.9689539733338485, 0.5015505746576956, 0.002786392081431642, 0.47925943800624243, 0.008359176244294926, 0.005572784162863284, 0.9945993335081911, 0.9814171382942015, 0.1156807210721111, 0.1012206309380972, 0.78084486723675, 1.017286457770749, 0.9945993335081912, 0.13666942706845503, 0.49288720741748565, 0.3165097711331957, 0.0020777446682704315, 0.04501780114585935, 0.006694955042204723, 1.0094672725369898, 0.017993392058263887, 0.9806398671753818, 1.01225842628594, 0.3911347640773742, 0.18089982838578558, 0.004889184550967178, 0.35691047222060396, 0.03340942776494238, 0.03300199571902845, 1.0006606115940877, 0.2669695887414707, 0.5752037977567988, 0.11441553803205888, 0.03438718356154775, 0.009378322789513022, 0.22939213607442763, 0.7659364543502075, 0.0038880023063462307, 0.05826071457829897, 0.040458829568263174, 0.14241508008028636, 0.06311577412649055, 0.03074871047188001, 0.6651431581022466, 0.36386405715485703, 0.0017577973775596957, 0.09667885576578326, 0.11249903216382053, 0.05097612394923118, 0.3744108414202152, 0.3105749942678741, 0.35241127290748775, 0.17985945991571886, 0.084586013144721, 0.06960533695062354, 0.003014404356129366, 0.6124645060987705, 0.056819494823844505, 0.1337740533474009, 0.1041231033786471, 0.06537000132646188, 0.027444367645497708, 1.0057695902200043, 0.3559723915021238, 0.32085033314149636, 0.15274652047817963, 0.07423839002501247, 0.04937748204817619, 0.04682941114750322, 0.05524623563976545, 0.9391860058760125], \"Term\": [\"01\", \"01\", \"21\", \"21\", \"21\", \"54\", \"academia\", \"academia\", \"academia\", \"academia\", \"academia\", \"academy\", \"academy\", \"academy\", \"academy\", \"academy\", \"academy\", \"acad\\u00e9mie\", \"acad\\u00e9mie\", \"acad\\u00e9mie\", \"acad\\u00e9mie\", \"acad\\u00e9mie\", \"adaptation\", \"adaptation\", \"adaptation\", \"adaptation\", \"adelina\", \"adelina\", \"admiral\", \"adolphe\", \"aeroplane\", \"agency\", \"agency\", \"agency\", \"agency\", \"aggregate\", \"aggregate\", \"aire\", \"aire\", \"aire\", \"aire\", \"aire\", \"aire\", \"ajax\", \"album\", \"album\", \"album\", \"album\", \"alonso\", \"alonso\", \"amaia\", \"amaia\", \"ambassador\", \"ambassador\", \"ambassador\", \"ambassador\", \"ambassador\", \"ambience\", \"annotation\", \"anti\", \"antoine\", \"antoine\", \"antoine\", \"antoine\", \"antoine\", \"arcade\", \"arcade\", \"arcade\", \"archeology\", \"armani\", \"armani\", \"armani\", \"armani\", \"armida\", \"armida\", \"art\", \"art\", \"art\", \"art\", \"art\", \"art\", \"artist\", \"artist\", \"artist\", \"artist\", \"artist\", \"artist\", \"ashe\", \"assassin\", \"assertion\", \"assist\", \"assist\", \"atp\", \"atp\", \"auditorio\", \"auditorio\", \"auditorio\", \"auditorio\", \"auditorio\", \"award\", \"award\", \"award\", \"award\", \"award\", \"award\", \"band\", \"band\", \"band\", \"barbara\", \"barcelona\", \"barcelona\", \"barcelona\", \"barcelona\", \"barclay\", \"barrio\", \"barrio\", \"bavarian\", \"bayern\", \"bayern\", \"bayern\", \"bayonne\", \"bayonne\", \"bearing\", \"bedroom\", \"berlin\", \"berlin\", \"berlinale\", \"berliner\", \"berliner\", \"berliner\", \"bernab\\u00e9u\", \"blacksmith\", \"blasis\", \"blitz\", \"bombing\", \"bombing\", \"bombing\", \"bombing\", \"bombing\", \"book\", \"book\", \"book\", \"book\", \"book\", \"book\", \"botero\", \"brand\", \"brand\", \"brand\", \"brand\", \"brand\", \"brand\", \"brera\", \"brera\", \"brera\", \"broadway\", \"broker\", \"brun\", \"buenos\", \"buenos\", \"buenos\", \"buenos\", \"buenos\", \"buenos\", \"bureaucracy\", \"burgo\", \"burgo\", \"burgo\", \"b\\u00e9jart\", \"cabinet\", \"cabinet\", \"cabinet\", \"cable\", \"cable\", \"caf\\u00e9\", \"caf\\u00e9\", \"caf\\u00e9\", \"caf\\u00e9\", \"caf\\u00e9\", \"cambridge\", \"cambridge\", \"cambridge\", \"cambridge\", \"camera\", \"camera\", \"camera\", \"camera\", \"camera\", \"campaign\", \"campaign\", \"campaign\", \"campaign\", \"capitain\", \"career\", \"career\", \"career\", \"career\", \"career\", \"career\", \"cartagena\", \"catalan\", \"catalan\", \"catalan\", \"catalan\", \"catalan\", \"catwalk\", \"catwalk\", \"catwalk\", \"caucasus\", \"center\", \"center\", \"center\", \"center\", \"center\", \"center\", \"centre\", \"centre\", \"centre\", \"centre\", \"centre\", \"centre\", \"century\", \"century\", \"century\", \"century\", \"century\", \"century\", \"champion\", \"champion\", \"champion\", \"champion\", \"champion\", \"channel\", \"channel\", \"channel\", \"channel\", \"channel\", \"channel\", \"chart\", \"chef\", \"chef\", \"chelsea\", \"chelsea\", \"chelsea\", \"chelsea\", \"chemnitz\", \"city\", \"city\", \"city\", \"city\", \"city\", \"city\", \"clark\", \"classification\", \"classification\", \"classification\", \"classification\", \"claude\", \"claude\", \"club\", \"club\", \"club\", \"club\", \"cochabamba\", \"codex\", \"codex\", \"codex\", \"collection\", \"collection\", \"collection\", \"collection\", \"collection\", \"collection\", \"college\", \"college\", \"college\", \"college\", \"cologne\", \"cologne\", \"cologne\", \"cologne\", \"cologne\", \"cologne\", \"commodity\", \"commune\", \"commune\", \"community\", \"community\", \"community\", \"community\", \"community\", \"como\", \"como\", \"company\", \"company\", \"company\", \"company\", \"company\", \"competition\", \"competition\", \"competition\", \"competition\", \"competition\", \"competitiveness\", \"complutense\", \"complutense\", \"complutense\", \"complutense\", \"concert\", \"concert\", \"concert\", \"concert\", \"concert\", \"concert\", \"conductor\", \"conductor\", \"conductor\", \"conductor\", \"conductor\", \"contingent\", \"copa\", \"coppa\", \"copp\\u00e9lia\", \"cork\", \"corriente\", \"country\", \"country\", \"country\", \"country\", \"country\", \"country\", \"coup\\u00e9\", \"coup\\u00e9\", \"creature\", \"creditor\", \"cuenca\", \"cuenca\", \"cup\", \"cup\", \"cup\", \"cup\", \"cup\", \"dal\", \"dal\", \"dal\", \"dance\", \"dance\", \"dance\", \"dance\", \"dance\", \"darkness\", \"dash\", \"dash\", \"date\", \"date\", \"date\", \"date\", \"date\", \"daughter\", \"daughter\", \"daughter\", \"daughter\", \"daughter\", \"day\", \"day\", \"day\", \"day\", \"day\", \"day\", \"death\", \"death\", \"death\", \"death\", \"death\", \"death\", \"debut\", \"debut\", \"debut\", \"debut\", \"debut\", \"debut\", \"density\", \"deposit\", \"der\", \"der\", \"der\", \"der\", \"der\", \"des\", \"des\", \"des\", \"des\", \"design\", \"design\", \"design\", \"design\", \"design\", \"designer\", \"designer\", \"designer\", \"detective\", \"deutsche\", \"deutsche\", \"deutsche\", \"deutsche\", \"deutsche\", \"director\", \"director\", \"director\", \"director\", \"director\", \"discourse\", \"doctorate\", \"doctorate\", \"doctorate\", \"doctorate\", \"dolore\", \"dolore\", \"dome\", \"dome\", \"donostia\", \"draw\", \"draw\", \"draw\", \"draw\", \"draw\", \"dublin\", \"dublin\", \"dublin\", \"dublin\", \"earth\", \"earth\", \"economic\", \"economic\", \"economic\", \"economic\", \"economic\", \"edward\", \"eine\", \"eleanor\", \"elizalde\", \"embassy\", \"embassy\", \"embassy\", \"embassy\", \"embassy\", \"embassy\", \"emission\", \"employer\", \"englishman\", \"equation\", \"esposizione\", \"esposizione\", \"esposizione\", \"esposizione\", \"eurostar\", \"eurostar\", \"eurostar\", \"eurovision\", \"eurovision\", \"event\", \"event\", \"event\", \"event\", \"event\", \"event\", \"exhibition\", \"exhibition\", \"exhibition\", \"exhibition\", \"exhibition\", \"exhibition\", \"exhibitor\", \"exhibitor\", \"exposition\", \"exposition\", \"exposition\", \"exposition\", \"exposition\", \"extraordinary\", \"faggioni\", \"family\", \"family\", \"family\", \"family\", \"family\", \"family\", \"fare\", \"fashion\", \"fashion\", \"fashion\", \"fashion\", \"father\", \"father\", \"father\", \"father\", \"father\", \"father\", \"federer\", \"federer\", \"federer\", \"festival\", \"festival\", \"festival\", \"festival\", \"festival\", \"feyenoord\", \"film\", \"film\", \"film\", \"film\", \"final\", \"final\", \"final\", \"final\", \"fischer\", \"fit\", \"flander\", \"flander\", \"flander\", \"flander\", \"florence\", \"florence\", \"florence\", \"florence\", \"florence\", \"florence\", \"football\", \"football\", \"football\", \"football\", \"fran\\u00e7aise\", \"fran\\u00e7aise\", \"fran\\u00e7ois\", \"fran\\u00e7ois\", \"fran\\u00e7ois\", \"fran\\u00e7ois\", \"freud\", \"frey\", \"friedrich\", \"friedrich\", \"friend\", \"friend\", \"friend\", \"friend\", \"friend\", \"friend\", \"fuch\", \"f\\u00fchrer\", \"f\\u00fcr\", \"f\\u00fcr\", \"f\\u00fcr\", \"f\\u00fcr\", \"gaiety\", \"galatasaray\", \"galatasaray\", \"galatasaray\", \"gallery\", \"gallery\", \"gallery\", \"gallery\", \"gallery\", \"game\", \"game\", \"game\", \"game\", \"game\", \"game\", \"gas\", \"gas\", \"gas\", \"gas\", \"gem\", \"georg\", \"georg\", \"georg\", \"germain\", \"germain\", \"germain\", \"gibraltar\", \"gibraltar\", \"gibraltar\", \"girlfriend\", \"giuseppe\", \"giuseppe\", \"giuseppe\", \"glasgow\", \"glasgow\", \"glasgow\", \"glasgow\", \"goal\", \"goal\", \"goal\", \"goal\", \"goal\", \"goal\", \"goalkeeper\", \"goalkeeper\", \"goalkeeper\", \"goalkeeper\", \"goalless\", \"goalless\", \"goalless\", \"goalscorer\", \"goalscorer\", \"goebbel\", \"gp\", \"gp\", \"granada\", \"granada\", \"granada\", \"granada\", \"granada\", \"green\", \"gropius\", \"gropius\", \"gropius\", \"group\", \"group\", \"group\", \"group\", \"group\", \"group\", \"gucci\", \"gucci\", \"gucci\", \"gymnasium\", \"gymnasium\", \"gymnasium\", \"gymnasium\", \"habilitation\", \"habilitation\", \"habilitation\", \"hager\", \"hammond\", \"hammond\", \"hammond\", \"hann\", \"hate\", \"hd\", \"hd\", \"heinrich\", \"heinrich\", \"heinrich\", \"heinrich\", \"henare\", \"henare\", \"history\", \"history\", \"history\", \"history\", \"history\", \"hitler\", \"hitler\", \"hochschule\", \"hochschule\", \"hochschule\", \"hochschule\", \"hohenzollern\", \"horizon\", \"house\", \"house\", \"house\", \"house\", \"house\", \"house\", \"howth\", \"human\", \"hunt\", \"husband\", \"husband\", \"husband\", \"husband\", \"husband\", \"iberm\\u00fasica\", \"impressionism\", \"inch\", \"inch\", \"incident\", \"incident\", \"indie\", \"infante\", \"infante\", \"influence\", \"influence\", \"influence\", \"influence\", \"inheritance\", \"inter\", \"inter\", \"inter\", \"inter\", \"internacional\", \"internazionale\", \"internazionale\", \"intracatal\\u00f2nia\", \"invitational\", \"irunea\", \"istituto\", \"istituto\", \"jacque\", \"jacque\", \"jean\", \"jean\", \"jean\", \"jean\", \"jean\", \"jean\", \"jewel\", \"juilliard\", \"julian\", \"julian\", \"jungle\", \"kampnagel\", \"keyboard\", \"kick\", \"kick\", \"kick\", \"kick\", \"kick\", \"kind\", \"kind\", \"kind\", \"klein\", \"klein\", \"kleine\", \"komische\", \"k\\u00fcnste\", \"k\\u00fcnste\", \"k\\u00fcnste\", \"lambert\", \"landsbanki\", \"laudium\", \"law\", \"law\", \"law\", \"law\", \"law\", \"law\", \"lazio\", \"lazio\", \"lazio\", \"league\", \"league\", \"league\", \"league\", \"league\", \"leg\", \"leg\", \"leg\", \"leg\", \"leg\", \"leg\", \"legislature\", \"legnano\", \"liberalization\", \"life\", \"life\", \"life\", \"life\", \"life\", \"life\", \"liga\", \"lightness\", \"lightness\", \"lino\", \"lisbon\", \"lisbon\", \"lisbon\", \"lisbon\", \"lisbon\", \"lisbon\", \"lithograph\", \"lithograph\", \"lithograph\", \"lithographische\", \"litre\", \"livery\", \"li\\u00e8ge\", \"li\\u00e8ge\", \"li\\u00e8ge\", \"li\\u00e8ge\", \"li\\u00e8ge\", \"lombardo\", \"lyonnais\", \"lyonnais\", \"magazine\", \"magazine\", \"magazine\", \"magazine\", \"magazine\", \"magazine\", \"management\", \"management\", \"management\", \"management\", \"management\", \"mansion\", \"mansion\", \"marathon\", \"marathon\", \"marathon\", \"marathon\", \"marche\", \"master\", \"master\", \"master\", \"master\", \"master\", \"match\", \"match\", \"match\", \"match\", \"match\", \"matchday\", \"maurizio\", \"maurizio\", \"maya\", \"maya\", \"mcdonald\", \"mcdonald\", \"meadow\", \"member\", \"member\", \"member\", \"member\", \"member\", \"member\", \"mexico\", \"mexico\", \"mexico\", \"midfielder\", \"midfielder\", \"milan\", \"milan\", \"milan\", \"milano\", \"milano\", \"minister\", \"minister\", \"minister\", \"minister\", \"minister\", \"minister\", \"minute\", \"minute\", \"minute\", \"minute\", \"minute\", \"minute\", \"mischa\", \"model\", \"model\", \"model\", \"model\", \"model\", \"modeling\", \"modeling\", \"modeling\", \"modeling\", \"modeling\", \"modena\", \"modena\", \"modena\", \"monopoly\", \"montpelier\", \"monza\", \"monza\", \"monza\", \"mortal\", \"mother\", \"mother\", \"mother\", \"mother\", \"mother\", \"mother\", \"museo\", \"museo\", \"museo\", \"museo\", \"museo\", \"museo\", \"museum\", \"museum\", \"museum\", \"museum\", \"museum\", \"music\", \"music\", \"music\", \"music\", \"music\", \"mutter\", \"nadal\", \"nadal\", \"nadal\", \"nadal\", \"naple\", \"naple\", \"naple\", \"naple\", \"naple\", \"naple\", \"napoleone\", \"napoleone\", \"nationalgalerie\", \"nationalgalerie\", \"nazi\", \"nazi\", \"nazism\", \"nazism\", \"nelsson\", \"nou\", \"nou\", \"nou\", \"nylon\", \"obsesi\\u00f3n\", \"odelot\", \"oder\", \"office\", \"office\", \"office\", \"office\", \"office\", \"office\", \"open\", \"open\", \"open\", \"oper\", \"oper\", \"oper\", \"oper\", \"opera\", \"opera\", \"opera\", \"opera\", \"opera\", \"orchestra\", \"orchestra\", \"orchestra\", \"orchestra\", \"orchestra\", \"painter\", \"painter\", \"painter\", \"painter\", \"painter\", \"painter\", \"painting\", \"painting\", \"painting\", \"painting\", \"painting\", \"painting\", \"palacio\", \"palacio\", \"palacio\", \"palacio\", \"pantheon\", \"pantomime\", \"par\", \"paris\", \"parker\", \"pastel\", \"patent\", \"patent\", \"peace\", \"peace\", \"peace\", \"peace\", \"peace\", \"peace\", \"penalty\", \"penalty\", \"penalty\", \"penalty\", \"penalty\", \"pereira\", \"performance\", \"performance\", \"performance\", \"performance\", \"performance\", \"period\", \"period\", \"period\", \"period\", \"period\", \"period\", \"peri\\u0107\", \"philharmonic\", \"philharmonic\", \"philharmonic\", \"philharmonic\", \"philosophy\", \"philosophy\", \"philosophy\", \"philosophy\", \"philosophy\", \"phoenix\", \"piero\", \"piero\", \"pinacoteca\", \"pinacoteca\", \"pinacoteca\", \"place\", \"place\", \"place\", \"place\", \"place\", \"place\", \"play\", \"play\", \"play\", \"play\", \"player\", \"player\", \"player\", \"player\", \"player\", \"plymouth\", \"poete\", \"politique\", \"pon\", \"pont\", \"pound\", \"pound\", \"pound\", \"pound\", \"prada\", \"prada\", \"process\", \"process\", \"process\", \"professor\", \"professor\", \"professor\", \"professor\", \"professor\", \"professor\", \"programme\", \"programme\", \"programme\", \"project\", \"project\", \"project\", \"project\", \"project\", \"quarter\", \"quarter\", \"quarter\", \"quarter\", \"quarter\", \"quarterfinal\", \"quarterfinal\", \"quarterfinal\", \"quarterfinal\", \"race\", \"race\", \"race\", \"race\", \"race\", \"razon\", \"real\", \"real\", \"real\", \"real\", \"record\", \"record\", \"record\", \"record\", \"record\", \"recorder\", \"reich\", \"reich\", \"reich\", \"reunification\", \"reunification\", \"revolution\", \"revolution\", \"revolution\", \"revolution\", \"revolution\", \"ribbon\", \"rider\", \"rider\", \"rider\", \"rider\", \"rock\", \"rock\", \"rock\", \"rock\", \"role\", \"role\", \"role\", \"role\", \"role\", \"role\", \"romani\", \"romani\", \"rostock\", \"rostock\", \"rothschild\", \"rothschild\", \"rothschild\", \"rouge\", \"round\", \"round\", \"round\", \"round\", \"rue\", \"rue\", \"rug\", \"rundfunk\", \"rundfunk\", \"rundfunk\", \"runway\", \"runway\", \"runway\", \"saint\", \"saint\", \"saint\", \"saint\", \"saint\", \"saint\", \"salon\", \"salon\", \"salon\", \"salon\", \"santander\", \"santander\", \"santander\", \"saratoga\", \"saxony\", \"schmidt\", \"school\", \"school\", \"school\", \"school\", \"school\", \"school\", \"scorer\", \"scorer\", \"scorer\", \"scot\", \"screen\", \"screen\", \"scribe\", \"sculptor\", \"sculptor\", \"sculptor\", \"sculptor\", \"sculptor\", \"sculptor\", \"sea\", \"sea\", \"sea\", \"season\", \"season\", \"season\", \"season\", \"season\", \"season\", \"secession\", \"secession\", \"secretary\", \"secretary\", \"secretary\", \"secretary\", \"secretary\", \"seine\", \"seine\", \"seine\", \"semi\", \"semi\", \"semi\", \"semi\", \"semifinal\", \"semifinal\", \"semifinal\", \"semifinal\", \"semifinal\", \"series\", \"series\", \"series\", \"series\", \"series\", \"series\", \"service\", \"service\", \"service\", \"service\", \"service\", \"service\", \"session\", \"session\", \"session\", \"session\", \"session\", \"session\", \"seville\", \"seville\", \"seville\", \"seville\", \"seville\", \"shootout\", \"shootout\", \"show\", \"show\", \"show\", \"show\", \"sibelius\", \"singer\", \"singer\", \"singer\", \"singer\", \"sitge\", \"slam\", \"slam\", \"slam\", \"society\", \"society\", \"society\", \"society\", \"society\", \"soci\\u00e9t\\u00e9\", \"soci\\u00e9t\\u00e9\", \"soci\\u00e9t\\u00e9\", \"sof\\u00eda\", \"soho\", \"soho\", \"soho\", \"son\", \"son\", \"son\", \"son\", \"son\", \"song\", \"song\", \"song\", \"song\", \"song\", \"sorbonne\", \"sorbonne\", \"sorbonne\", \"spain\", \"spaniard\", \"spaniard\", \"spaniard\", \"spanish\", \"spanish\", \"spanish\", \"spanish\", \"spanish\", \"stadium\", \"stadium\", \"stadium\", \"stadium\", \"stadium\", \"stage\", \"stage\", \"stage\", \"stage\", \"stage\", \"stage\", \"standard\", \"standard\", \"standard\", \"state\", \"state\", \"state\", \"state\", \"state\", \"state\", \"strauss\", \"strauss\", \"striker\", \"striker\", \"striker\", \"striker\", \"student\", \"student\", \"student\", \"student\", \"student\", \"student\", \"study\", \"study\", \"study\", \"study\", \"study\", \"st\\u00e4dtische\", \"st\\u00e9fano\", \"st\\u00e9fano\", \"suez\", \"summer\", \"summer\", \"summer\", \"summer\", \"summer\", \"supercopa\", \"supercopa\", \"surrealist\", \"surrealist\", \"system\", \"system\", \"system\", \"system\", \"system\", \"team\", \"team\", \"team\", \"team\", \"team\", \"team\", \"teatro\", \"teatro\", \"teatro\", \"teatro\", \"teatro\", \"teatro\", \"tegel\", \"tegel\", \"telephone\", \"temple\", \"temple\", \"theater\", \"theater\", \"theater\", \"theater\", \"theater\", \"theatre\", \"theatre\", \"theatre\", \"theatre\", \"theatre\", \"time\", \"time\", \"time\", \"time\", \"time\", \"time\", \"title\", \"title\", \"title\", \"title\", \"title\", \"title\", \"toulouse\", \"toulouse\", \"toulouse\", \"toulouse\", \"toulouse\", \"toulouse\", \"tour\", \"tour\", \"tour\", \"tour\", \"tour\", \"tour\", \"track\", \"track\", \"track\", \"track\", \"trade\", \"trade\", \"trade\", \"trade\", \"trade\", \"trade\", \"train\", \"train\", \"train\", \"train\", \"train\", \"train\", \"transfer\", \"transfer\", \"transfer\", \"transfer\", \"traveler\", \"trip\", \"trip\", \"trip\", \"trip\", \"trip\", \"trip\", \"trophy\", \"trophy\", \"trophy\", \"trophy\", \"trophy\", \"turin\", \"turin\", \"turin\", \"turin\", \"turin\", \"turin\", \"ulf\", \"und\", \"und\", \"und\", \"und\", \"universelle\", \"universelle\", \"universelle\", \"universelle\", \"universelle\", \"university\", \"university\", \"university\", \"university\", \"university\", \"university\", \"universit\\u00e4t\", \"universit\\u00e4t\", \"val\", \"varese\", \"varese\", \"vel\\u00e1zquez\", \"vel\\u00e1zquez\", \"vel\\u00e1zquez\", \"venice\", \"venice\", \"venice\", \"venice\", \"venice\", \"venice\", \"venue\", \"venue\", \"venue\", \"venue\", \"venue\", \"venue\", \"verona\", \"verona\", \"verona\", \"verona\", \"versace\", \"versace\", \"versace\", \"version\", \"version\", \"version\", \"version\", \"version\", \"vicar\", \"victoria\", \"victoria\", \"victoria\", \"victory\", \"victory\", \"victory\", \"victory\", \"victory\", \"victory\", \"vienna\", \"vienna\", \"vienna\", \"vienna\", \"vienna\", \"vinci\", \"vinci\", \"vinci\", \"visconti\", \"visconti\", \"vogue\", \"vogue\", \"vogue\", \"vogue\", \"vogue\", \"voltage\", \"vor\", \"voting\", \"voting\", \"voting\", \"wacoal\", \"walther\", \"war\", \"war\", \"war\", \"war\", \"war\", \"war\", \"waste\", \"watercolour\", \"watercolour\", \"waterloo\", \"week\", \"week\", \"week\", \"week\", \"week\", \"week\", \"wembley\", \"wife\", \"wife\", \"wife\", \"wife\", \"wife\", \"wilhelm\", \"wilhelm\", \"wilhelm\", \"win\", \"win\", \"win\", \"win\", \"win\", \"win\", \"winner\", \"winner\", \"winner\", \"winner\", \"winner\", \"winner\", \"work\", \"work\", \"work\", \"work\", \"work\", \"work\", \"world\", \"world\", \"world\", \"world\", \"world\", \"world\", \"yacht\", \"year\", \"year\", \"year\", \"year\", \"year\", \"year\", \"zidane\", \"zidane\"]}, \"R\": 30, \"lambda.step\": 0.01, \"plot.opts\": {\"xlab\": \"PC1\", \"ylab\": \"PC2\"}, \"topic.order\": [6, 3, 2, 1, 4, 5]};\n",
       "\n",
       "function LDAvis_load_lib(url, callback){\n",
       "  var s = document.createElement('script');\n",
       "  s.src = url;\n",
       "  s.async = true;\n",
       "  s.onreadystatechange = s.onload = callback;\n",
       "  s.onerror = function(){console.warn(\"failed to load library \" + url);};\n",
       "  document.getElementsByTagName(\"head\")[0].appendChild(s);\n",
       "}\n",
       "\n",
       "if(typeof(LDAvis) !== \"undefined\"){\n",
       "   // already loaded: just create the visualization\n",
       "   !function(LDAvis){\n",
       "       new LDAvis(\"#\" + \"ldavis_el3214816366417224326564842772\", ldavis_el3214816366417224326564842772_data);\n",
       "   }(LDAvis);\n",
       "}else if(typeof define === \"function\" && define.amd){\n",
       "   // require.js is available: use it to load d3/LDAvis\n",
       "   require.config({paths: {d3: \"https://d3js.org/d3.v5\"}});\n",
       "   require([\"d3\"], function(d3){\n",
       "      window.d3 = d3;\n",
       "      LDAvis_load_lib(\"https://cdn.jsdelivr.net/gh/bmabey/pyLDAvis@3.3.1/pyLDAvis/js/ldavis.v3.0.0.js\", function(){\n",
       "        new LDAvis(\"#\" + \"ldavis_el3214816366417224326564842772\", ldavis_el3214816366417224326564842772_data);\n",
       "      });\n",
       "    });\n",
       "}else{\n",
       "    // require.js not available: dynamically load d3 & LDAvis\n",
       "    LDAvis_load_lib(\"https://d3js.org/d3.v5.js\", function(){\n",
       "         LDAvis_load_lib(\"https://cdn.jsdelivr.net/gh/bmabey/pyLDAvis@3.3.1/pyLDAvis/js/ldavis.v3.0.0.js\", function(){\n",
       "                 new LDAvis(\"#\" + \"ldavis_el3214816366417224326564842772\", ldavis_el3214816366417224326564842772_data);\n",
       "            })\n",
       "         });\n",
       "}\n",
       "</script>"
      ],
      "text/plain": [
       "PreparedData(topic_coordinates=              x         y  topics  cluster       Freq\n",
       "topic                                                \n",
       "5     -0.017459  0.024036       1        1  39.424801\n",
       "2     -0.097907 -0.151828       2        1  27.064219\n",
       "1     -0.114071 -0.028440       3        1  15.186955\n",
       "0     -0.004378  0.134866       4        1   8.166403\n",
       "3     -0.043392  0.071808       5        1   6.333636\n",
       "4      0.277208 -0.050443       6        1   3.823986, topic_info=         Term         Freq        Total Category  logprob  loglift\n",
       "2783    opera  9846.000000  9846.000000  Default  30.0000  30.0000\n",
       "2516    milan  3734.000000  3734.000000  Default  29.0000  29.0000\n",
       "811      club  2959.000000  2959.000000  Default  28.0000  28.0000\n",
       "1468  fashion  3610.000000  3610.000000  Default  27.0000  27.0000\n",
       "3532   season  2677.000000  2677.000000  Default  26.0000  26.0000\n",
       "...       ...          ...          ...      ...      ...      ...\n",
       "3742    stage   249.883005  2345.786177   Topic6  -5.1155   1.0245\n",
       "636    career   255.739638  3282.273748   Topic6  -5.0923   0.7117\n",
       "1067      day   204.982153  3060.249309   Topic6  -5.3135   0.5605\n",
       "3004    place   197.173309  3190.169161   Topic6  -5.3524   0.4801\n",
       "4321    world   199.125520  7251.032437   Topic6  -5.3425  -0.3311\n",
       "\n",
       "[610 rows x 6 columns], token_table=      Topic      Freq    Term\n",
       "term                         \n",
       "0         4  0.073096      01\n",
       "0         6  0.913699      01\n",
       "21        1  0.008742      21\n",
       "21        3  0.043709      21\n",
       "21        6  0.944107      21\n",
       "...     ...       ...     ...\n",
       "4338      4  0.074238    year\n",
       "4338      5  0.049377    year\n",
       "4338      6  0.046829    year\n",
       "8731      1  0.055246  zidane\n",
       "8731      6  0.939186  zidane\n",
       "\n",
       "[1536 rows x 3 columns], R=30, lambda_step=0.01, plot_opts={'xlab': 'PC1', 'ylab': 'PC2'}, topic_order=[6, 3, 2, 1, 4, 5])"
      ]
     },
     "execution_count": 143,
     "metadata": {},
     "output_type": "execute_result"
    }
   ],
   "source": [
    "warnings.filterwarnings('ignore')\n",
    "pyLDAvis.enable_notebook()\n",
    "\n",
    "lda_conv = gensim.models.wrappers.ldamallet.malletmodel2ldamodel(lda_model) # my_models[0]['lda_model__2']['model']\n",
    "gensimvis.prepare(lda_conv, corpus, dictionary)\n"
   ]
  },
  {
   "cell_type": "markdown",
   "id": "cc1ff3e9",
   "metadata": {},
   "source": [
    "# Save Models"
   ]
  },
  {
   "cell_type": "code",
   "execution_count": 123,
   "id": "4569c9da",
   "metadata": {},
   "outputs": [],
   "source": [
    "%%time\n",
    "\n",
    "my_models = []\n",
    "\n",
    "for n_topics in tqdm(range(2,30, 3)):\n",
    "    model, coherence, _, _ = train_model(words, dictionary, corpus, N_TOPICS=n_topics)\n",
    "    keyname = f'lda_model__{n_topics}'\n",
    "    model.save(f'../../../../lda_models/{keyname}.model')\n",
    "\n",
    "    my_models.append({ keyname: { 'model': model, 'n_topics': n_topics, 'coherence_score': coherence } })\n",
    "    print(keyname)"
   ]
  },
  {
   "cell_type": "code",
   "execution_count": 122,
   "id": "982f41f0",
   "metadata": {},
   "outputs": [
    {
     "data": {
      "text/plain": [
       "[{'lda_model__2': {'model': <gensim.models.wrappers.ldamallet.LdaMallet at 0x17d0dad1310>,\n",
       "   'n_topics': 2,\n",
       "   'coherence_score': nan}},\n",
       " {'lda_model__5': {'model': <gensim.models.wrappers.ldamallet.LdaMallet at 0x17d0bf79cd0>,\n",
       "   'n_topics': 5,\n",
       "   'coherence_score': nan}},\n",
       " {'lda_model__8': {'model': <gensim.models.wrappers.ldamallet.LdaMallet at 0x17d09b54d00>,\n",
       "   'n_topics': 8,\n",
       "   'coherence_score': nan}},\n",
       " {'lda_model__11': {'model': <gensim.models.wrappers.ldamallet.LdaMallet at 0x17d09b78880>,\n",
       "   'n_topics': 11,\n",
       "   'coherence_score': nan}},\n",
       " {'lda_model__14': {'model': <gensim.models.wrappers.ldamallet.LdaMallet at 0x17d0bfa90d0>,\n",
       "   'n_topics': 14,\n",
       "   'coherence_score': nan}},\n",
       " {'lda_model__17': {'model': <gensim.models.wrappers.ldamallet.LdaMallet at 0x17d09b54970>,\n",
       "   'n_topics': 17,\n",
       "   'coherence_score': nan}},\n",
       " {'lda_model__20': {'model': <gensim.models.wrappers.ldamallet.LdaMallet at 0x17d0bf79a00>,\n",
       "   'n_topics': 20,\n",
       "   'coherence_score': nan}},\n",
       " {'lda_model__23': {'model': <gensim.models.wrappers.ldamallet.LdaMallet at 0x17d08289250>,\n",
       "   'n_topics': 23,\n",
       "   'coherence_score': nan}},\n",
       " {'lda_model__26': {'model': <gensim.models.wrappers.ldamallet.LdaMallet at 0x17d0825bb80>,\n",
       "   'n_topics': 26,\n",
       "   'coherence_score': nan}},\n",
       " {'lda_model__29': {'model': <gensim.models.wrappers.ldamallet.LdaMallet at 0x17d08295fd0>,\n",
       "   'n_topics': 29,\n",
       "   'coherence_score': nan}}]"
      ]
     },
     "execution_count": 122,
     "metadata": {},
     "output_type": "execute_result"
    }
   ],
   "source": [
    "my_models"
   ]
  },
  {
   "cell_type": "code",
   "execution_count": 97,
   "id": "61dfad38",
   "metadata": {},
   "outputs": [],
   "source": [
    "coherence_score = CoherenceModel(model=lda_model, texts=words, dictionary=dictionary, coherence='c_v').get_coherence()"
   ]
  },
  {
   "cell_type": "code",
   "execution_count": 98,
   "id": "313186de",
   "metadata": {},
   "outputs": [
    {
     "data": {
      "text/plain": [
       "0.6355124667963096"
      ]
     },
     "execution_count": 98,
     "metadata": {},
     "output_type": "execute_result"
    }
   ],
   "source": [
    "coherence_score"
   ]
  },
  {
   "cell_type": "code",
   "execution_count": 73,
   "id": "6acedeb8",
   "metadata": {},
   "outputs": [
    {
     "name": "stdout",
     "output_type": "stream",
     "text": [
      "2 nan\n",
      "5 nan\n",
      "8 nan\n"
     ]
    },
    {
     "ename": "KeyboardInterrupt",
     "evalue": "",
     "output_type": "error",
     "traceback": [
      "\u001b[1;31m---------------------------------------------------------------------------\u001b[0m",
      "\u001b[1;31mKeyboardInterrupt\u001b[0m                         Traceback (most recent call last)",
      "Input \u001b[1;32mIn [73]\u001b[0m, in \u001b[0;36m<cell line: 1>\u001b[1;34m()\u001b[0m\n\u001b[0;32m      2\u001b[0m     model \u001b[38;5;241m=\u001b[39m \u001b[38;5;28mlist\u001b[39m(model\u001b[38;5;241m.\u001b[39mvalues())[\u001b[38;5;241m0\u001b[39m]\n\u001b[0;32m      3\u001b[0m    \u001b[38;5;66;03m# print(dlist(model.items())[0][0])\u001b[39;00m\n\u001b[1;32m----> 4\u001b[0m     coherence_score \u001b[38;5;241m=\u001b[39m \u001b[43mCoherenceModel\u001b[49m\u001b[43m(\u001b[49m\u001b[43mmodel\u001b[49m\u001b[38;5;241;43m=\u001b[39;49m\u001b[43mmodel\u001b[49m\u001b[43m[\u001b[49m\u001b[38;5;124;43m'\u001b[39;49m\u001b[38;5;124;43mmodel\u001b[39;49m\u001b[38;5;124;43m'\u001b[39;49m\u001b[43m]\u001b[49m\u001b[43m,\u001b[49m\u001b[43m \u001b[49m\u001b[43mtexts\u001b[49m\u001b[38;5;241;43m=\u001b[39;49m\u001b[43mwords\u001b[49m\u001b[43m,\u001b[49m\u001b[43m \u001b[49m\u001b[43mdictionary\u001b[49m\u001b[38;5;241;43m=\u001b[39;49m\u001b[43mdictionary\u001b[49m\u001b[43m,\u001b[49m\u001b[43m \u001b[49m\u001b[43mcoherence\u001b[49m\u001b[38;5;241;43m=\u001b[39;49m\u001b[38;5;124;43m'\u001b[39;49m\u001b[38;5;124;43mc_v\u001b[39;49m\u001b[38;5;124;43m'\u001b[39;49m\u001b[43m)\u001b[49m\u001b[38;5;241;43m.\u001b[39;49m\u001b[43mget_coherence\u001b[49m\u001b[43m(\u001b[49m\u001b[43m)\u001b[49m\n\u001b[0;32m      5\u001b[0m     \u001b[38;5;28mprint\u001b[39m(model[\u001b[38;5;124m'\u001b[39m\u001b[38;5;124mn_topics\u001b[39m\u001b[38;5;124m'\u001b[39m], coherence_score)\n\u001b[0;32m      8\u001b[0m my_models\n",
      "File \u001b[1;32mc:\\users\\deejay\\personal files [local]\\applied data science\\thesis - citynet\\citynet\\venv_citynet\\lib\\site-packages\\gensim\\models\\coherencemodel.py:609\u001b[0m, in \u001b[0;36mCoherenceModel.get_coherence\u001b[1;34m(self)\u001b[0m\n\u001b[0;32m    600\u001b[0m \u001b[38;5;28;01mdef\u001b[39;00m \u001b[38;5;21mget_coherence\u001b[39m(\u001b[38;5;28mself\u001b[39m):\n\u001b[0;32m    601\u001b[0m     \u001b[38;5;124;03m\"\"\"Get coherence value based on pipeline parameters.\u001b[39;00m\n\u001b[0;32m    602\u001b[0m \n\u001b[0;32m    603\u001b[0m \u001b[38;5;124;03m    Returns\u001b[39;00m\n\u001b[1;32m   (...)\u001b[0m\n\u001b[0;32m    607\u001b[0m \n\u001b[0;32m    608\u001b[0m \u001b[38;5;124;03m    \"\"\"\u001b[39;00m\n\u001b[1;32m--> 609\u001b[0m     confirmed_measures \u001b[38;5;241m=\u001b[39m \u001b[38;5;28;43mself\u001b[39;49m\u001b[38;5;241;43m.\u001b[39;49m\u001b[43mget_coherence_per_topic\u001b[49m\u001b[43m(\u001b[49m\u001b[43m)\u001b[49m\n\u001b[0;32m    610\u001b[0m     \u001b[38;5;28;01mreturn\u001b[39;00m \u001b[38;5;28mself\u001b[39m\u001b[38;5;241m.\u001b[39maggregate_measures(confirmed_measures)\n",
      "File \u001b[1;32mc:\\users\\deejay\\personal files [local]\\applied data science\\thesis - citynet\\citynet\\venv_citynet\\lib\\site-packages\\gensim\\models\\coherencemodel.py:569\u001b[0m, in \u001b[0;36mCoherenceModel.get_coherence_per_topic\u001b[1;34m(self, segmented_topics, with_std, with_support)\u001b[0m\n\u001b[0;32m    567\u001b[0m     segmented_topics \u001b[38;5;241m=\u001b[39m measure\u001b[38;5;241m.\u001b[39mseg(\u001b[38;5;28mself\u001b[39m\u001b[38;5;241m.\u001b[39mtopics)\n\u001b[0;32m    568\u001b[0m \u001b[38;5;28;01mif\u001b[39;00m \u001b[38;5;28mself\u001b[39m\u001b[38;5;241m.\u001b[39m_accumulator \u001b[38;5;129;01mis\u001b[39;00m \u001b[38;5;28;01mNone\u001b[39;00m:\n\u001b[1;32m--> 569\u001b[0m     \u001b[38;5;28;43mself\u001b[39;49m\u001b[38;5;241;43m.\u001b[39;49m\u001b[43mestimate_probabilities\u001b[49m\u001b[43m(\u001b[49m\u001b[43msegmented_topics\u001b[49m\u001b[43m)\u001b[49m\n\u001b[0;32m    571\u001b[0m kwargs \u001b[38;5;241m=\u001b[39m \u001b[38;5;28mdict\u001b[39m(with_std\u001b[38;5;241m=\u001b[39mwith_std, with_support\u001b[38;5;241m=\u001b[39mwith_support)\n\u001b[0;32m    572\u001b[0m \u001b[38;5;28;01mif\u001b[39;00m \u001b[38;5;28mself\u001b[39m\u001b[38;5;241m.\u001b[39mcoherence \u001b[38;5;129;01min\u001b[39;00m BOOLEAN_DOCUMENT_BASED \u001b[38;5;129;01mor\u001b[39;00m \u001b[38;5;28mself\u001b[39m\u001b[38;5;241m.\u001b[39mcoherence \u001b[38;5;241m==\u001b[39m \u001b[38;5;124m'\u001b[39m\u001b[38;5;124mc_w2v\u001b[39m\u001b[38;5;124m'\u001b[39m:\n",
      "File \u001b[1;32mc:\\users\\deejay\\personal files [local]\\applied data science\\thesis - citynet\\citynet\\venv_citynet\\lib\\site-packages\\gensim\\models\\coherencemodel.py:541\u001b[0m, in \u001b[0;36mCoherenceModel.estimate_probabilities\u001b[1;34m(self, segmented_topics)\u001b[0m\n\u001b[0;32m    538\u001b[0m     \u001b[38;5;28;01mif\u001b[39;00m \u001b[38;5;28mself\u001b[39m\u001b[38;5;241m.\u001b[39mcoherence \u001b[38;5;241m==\u001b[39m \u001b[38;5;124m'\u001b[39m\u001b[38;5;124mc_w2v\u001b[39m\u001b[38;5;124m'\u001b[39m:\n\u001b[0;32m    539\u001b[0m         kwargs[\u001b[38;5;124m'\u001b[39m\u001b[38;5;124mmodel\u001b[39m\u001b[38;5;124m'\u001b[39m] \u001b[38;5;241m=\u001b[39m \u001b[38;5;28mself\u001b[39m\u001b[38;5;241m.\u001b[39mkeyed_vectors\n\u001b[1;32m--> 541\u001b[0m     \u001b[38;5;28mself\u001b[39m\u001b[38;5;241m.\u001b[39m_accumulator \u001b[38;5;241m=\u001b[39m \u001b[38;5;28;43mself\u001b[39;49m\u001b[38;5;241;43m.\u001b[39;49m\u001b[43mmeasure\u001b[49m\u001b[38;5;241;43m.\u001b[39;49m\u001b[43mprob\u001b[49m\u001b[43m(\u001b[49m\u001b[38;5;241;43m*\u001b[39;49m\u001b[38;5;241;43m*\u001b[39;49m\u001b[43mkwargs\u001b[49m\u001b[43m)\u001b[49m\n\u001b[0;32m    543\u001b[0m \u001b[38;5;28;01mreturn\u001b[39;00m \u001b[38;5;28mself\u001b[39m\u001b[38;5;241m.\u001b[39m_accumulator\n",
      "File \u001b[1;32mc:\\users\\deejay\\personal files [local]\\applied data science\\thesis - citynet\\citynet\\venv_citynet\\lib\\site-packages\\gensim\\topic_coherence\\probability_estimation.py:156\u001b[0m, in \u001b[0;36mp_boolean_sliding_window\u001b[1;34m(texts, segmented_topics, dictionary, window_size, processes)\u001b[0m\n\u001b[0;32m    154\u001b[0m     accumulator \u001b[38;5;241m=\u001b[39m ParallelWordOccurrenceAccumulator(processes, top_ids, dictionary)\n\u001b[0;32m    155\u001b[0m logger\u001b[38;5;241m.\u001b[39minfo(\u001b[38;5;124m\"\u001b[39m\u001b[38;5;124musing \u001b[39m\u001b[38;5;132;01m%s\u001b[39;00m\u001b[38;5;124m to estimate probabilities from sliding windows\u001b[39m\u001b[38;5;124m\"\u001b[39m, accumulator)\n\u001b[1;32m--> 156\u001b[0m \u001b[38;5;28;01mreturn\u001b[39;00m \u001b[43maccumulator\u001b[49m\u001b[38;5;241;43m.\u001b[39;49m\u001b[43maccumulate\u001b[49m\u001b[43m(\u001b[49m\u001b[43mtexts\u001b[49m\u001b[43m,\u001b[49m\u001b[43m \u001b[49m\u001b[43mwindow_size\u001b[49m\u001b[43m)\u001b[49m\n",
      "File \u001b[1;32mc:\\users\\deejay\\personal files [local]\\applied data science\\thesis - citynet\\citynet\\venv_citynet\\lib\\site-packages\\gensim\\topic_coherence\\text_analysis.py:444\u001b[0m, in \u001b[0;36mParallelWordOccurrenceAccumulator.accumulate\u001b[1;34m(self, texts, window_size)\u001b[0m\n\u001b[0;32m    443\u001b[0m \u001b[38;5;28;01mdef\u001b[39;00m \u001b[38;5;21maccumulate\u001b[39m(\u001b[38;5;28mself\u001b[39m, texts, window_size):\n\u001b[1;32m--> 444\u001b[0m     workers, input_q, output_q \u001b[38;5;241m=\u001b[39m \u001b[38;5;28;43mself\u001b[39;49m\u001b[38;5;241;43m.\u001b[39;49m\u001b[43mstart_workers\u001b[49m\u001b[43m(\u001b[49m\u001b[43mwindow_size\u001b[49m\u001b[43m)\u001b[49m\n\u001b[0;32m    445\u001b[0m     \u001b[38;5;28;01mtry\u001b[39;00m:\n\u001b[0;32m    446\u001b[0m         \u001b[38;5;28mself\u001b[39m\u001b[38;5;241m.\u001b[39mqueue_all_texts(input_q, texts, window_size)\n",
      "File \u001b[1;32mc:\\users\\deejay\\personal files [local]\\applied data science\\thesis - citynet\\citynet\\venv_citynet\\lib\\site-packages\\gensim\\topic_coherence\\text_analysis.py:478\u001b[0m, in \u001b[0;36mParallelWordOccurrenceAccumulator.start_workers\u001b[1;34m(self, window_size)\u001b[0m\n\u001b[0;32m    476\u001b[0m     accumulator \u001b[38;5;241m=\u001b[39m PatchedWordOccurrenceAccumulator(\u001b[38;5;28mself\u001b[39m\u001b[38;5;241m.\u001b[39mrelevant_ids, \u001b[38;5;28mself\u001b[39m\u001b[38;5;241m.\u001b[39mdictionary)\n\u001b[0;32m    477\u001b[0m     worker \u001b[38;5;241m=\u001b[39m AccumulatingWorker(input_q, output_q, accumulator, window_size)\n\u001b[1;32m--> 478\u001b[0m     \u001b[43mworker\u001b[49m\u001b[38;5;241;43m.\u001b[39;49m\u001b[43mstart\u001b[49m\u001b[43m(\u001b[49m\u001b[43m)\u001b[49m\n\u001b[0;32m    479\u001b[0m     workers\u001b[38;5;241m.\u001b[39mappend(worker)\n\u001b[0;32m    481\u001b[0m \u001b[38;5;28;01mreturn\u001b[39;00m workers, input_q, output_q\n",
      "File \u001b[1;32m~\\AppData\\Local\\Programs\\Python\\Python38\\lib\\multiprocessing\\process.py:121\u001b[0m, in \u001b[0;36mBaseProcess.start\u001b[1;34m(self)\u001b[0m\n\u001b[0;32m    118\u001b[0m \u001b[38;5;28;01massert\u001b[39;00m \u001b[38;5;129;01mnot\u001b[39;00m _current_process\u001b[38;5;241m.\u001b[39m_config\u001b[38;5;241m.\u001b[39mget(\u001b[38;5;124m'\u001b[39m\u001b[38;5;124mdaemon\u001b[39m\u001b[38;5;124m'\u001b[39m), \\\n\u001b[0;32m    119\u001b[0m        \u001b[38;5;124m'\u001b[39m\u001b[38;5;124mdaemonic processes are not allowed to have children\u001b[39m\u001b[38;5;124m'\u001b[39m\n\u001b[0;32m    120\u001b[0m _cleanup()\n\u001b[1;32m--> 121\u001b[0m \u001b[38;5;28mself\u001b[39m\u001b[38;5;241m.\u001b[39m_popen \u001b[38;5;241m=\u001b[39m \u001b[38;5;28;43mself\u001b[39;49m\u001b[38;5;241;43m.\u001b[39;49m\u001b[43m_Popen\u001b[49m\u001b[43m(\u001b[49m\u001b[38;5;28;43mself\u001b[39;49m\u001b[43m)\u001b[49m\n\u001b[0;32m    122\u001b[0m \u001b[38;5;28mself\u001b[39m\u001b[38;5;241m.\u001b[39m_sentinel \u001b[38;5;241m=\u001b[39m \u001b[38;5;28mself\u001b[39m\u001b[38;5;241m.\u001b[39m_popen\u001b[38;5;241m.\u001b[39msentinel\n\u001b[0;32m    123\u001b[0m \u001b[38;5;66;03m# Avoid a refcycle if the target function holds an indirect\u001b[39;00m\n\u001b[0;32m    124\u001b[0m \u001b[38;5;66;03m# reference to the process object (see bpo-30775)\u001b[39;00m\n",
      "File \u001b[1;32m~\\AppData\\Local\\Programs\\Python\\Python38\\lib\\multiprocessing\\context.py:224\u001b[0m, in \u001b[0;36mProcess._Popen\u001b[1;34m(process_obj)\u001b[0m\n\u001b[0;32m    222\u001b[0m \u001b[38;5;129m@staticmethod\u001b[39m\n\u001b[0;32m    223\u001b[0m \u001b[38;5;28;01mdef\u001b[39;00m \u001b[38;5;21m_Popen\u001b[39m(process_obj):\n\u001b[1;32m--> 224\u001b[0m     \u001b[38;5;28;01mreturn\u001b[39;00m \u001b[43m_default_context\u001b[49m\u001b[38;5;241;43m.\u001b[39;49m\u001b[43mget_context\u001b[49m\u001b[43m(\u001b[49m\u001b[43m)\u001b[49m\u001b[38;5;241;43m.\u001b[39;49m\u001b[43mProcess\u001b[49m\u001b[38;5;241;43m.\u001b[39;49m\u001b[43m_Popen\u001b[49m\u001b[43m(\u001b[49m\u001b[43mprocess_obj\u001b[49m\u001b[43m)\u001b[49m\n",
      "File \u001b[1;32m~\\AppData\\Local\\Programs\\Python\\Python38\\lib\\multiprocessing\\context.py:326\u001b[0m, in \u001b[0;36mSpawnProcess._Popen\u001b[1;34m(process_obj)\u001b[0m\n\u001b[0;32m    323\u001b[0m \u001b[38;5;129m@staticmethod\u001b[39m\n\u001b[0;32m    324\u001b[0m \u001b[38;5;28;01mdef\u001b[39;00m \u001b[38;5;21m_Popen\u001b[39m(process_obj):\n\u001b[0;32m    325\u001b[0m     \u001b[38;5;28;01mfrom\u001b[39;00m \u001b[38;5;21;01m.\u001b[39;00m\u001b[38;5;21;01mpopen_spawn_win32\u001b[39;00m \u001b[38;5;28;01mimport\u001b[39;00m Popen\n\u001b[1;32m--> 326\u001b[0m     \u001b[38;5;28;01mreturn\u001b[39;00m \u001b[43mPopen\u001b[49m\u001b[43m(\u001b[49m\u001b[43mprocess_obj\u001b[49m\u001b[43m)\u001b[49m\n",
      "File \u001b[1;32m~\\AppData\\Local\\Programs\\Python\\Python38\\lib\\multiprocessing\\popen_spawn_win32.py:93\u001b[0m, in \u001b[0;36mPopen.__init__\u001b[1;34m(self, process_obj)\u001b[0m\n\u001b[0;32m     91\u001b[0m \u001b[38;5;28;01mtry\u001b[39;00m:\n\u001b[0;32m     92\u001b[0m     reduction\u001b[38;5;241m.\u001b[39mdump(prep_data, to_child)\n\u001b[1;32m---> 93\u001b[0m     \u001b[43mreduction\u001b[49m\u001b[38;5;241;43m.\u001b[39;49m\u001b[43mdump\u001b[49m\u001b[43m(\u001b[49m\u001b[43mprocess_obj\u001b[49m\u001b[43m,\u001b[49m\u001b[43m \u001b[49m\u001b[43mto_child\u001b[49m\u001b[43m)\u001b[49m\n\u001b[0;32m     94\u001b[0m \u001b[38;5;28;01mfinally\u001b[39;00m:\n\u001b[0;32m     95\u001b[0m     set_spawning_popen(\u001b[38;5;28;01mNone\u001b[39;00m)\n",
      "File \u001b[1;32m~\\AppData\\Local\\Programs\\Python\\Python38\\lib\\multiprocessing\\reduction.py:60\u001b[0m, in \u001b[0;36mdump\u001b[1;34m(obj, file, protocol)\u001b[0m\n\u001b[0;32m     58\u001b[0m \u001b[38;5;28;01mdef\u001b[39;00m \u001b[38;5;21mdump\u001b[39m(obj, file, protocol\u001b[38;5;241m=\u001b[39m\u001b[38;5;28;01mNone\u001b[39;00m):\n\u001b[0;32m     59\u001b[0m     \u001b[38;5;124;03m'''Replacement for pickle.dump() using ForkingPickler.'''\u001b[39;00m\n\u001b[1;32m---> 60\u001b[0m     \u001b[43mForkingPickler\u001b[49m\u001b[43m(\u001b[49m\u001b[43mfile\u001b[49m\u001b[43m,\u001b[49m\u001b[43m \u001b[49m\u001b[43mprotocol\u001b[49m\u001b[43m)\u001b[49m\u001b[38;5;241;43m.\u001b[39;49m\u001b[43mdump\u001b[49m\u001b[43m(\u001b[49m\u001b[43mobj\u001b[49m\u001b[43m)\u001b[49m\n",
      "\u001b[1;31mKeyboardInterrupt\u001b[0m: "
     ]
    }
   ],
   "source": [
    "for model in my_models:\n",
    "    model = list(model.values())[0]\n",
    "   # print(dlist(model.items())[0][0])\n",
    "    coherence_score = CoherenceModel(model=model['model'], texts=words, dictionary=dictionary, coherence='c_v').get_coherence()\n",
    "    print(model['n_topics'], coherence_score)\n"
   ]
  },
  {
   "cell_type": "markdown",
   "id": "810ec3c9",
   "metadata": {},
   "source": [
    "# Import Models"
   ]
  },
  {
   "cell_type": "code",
   "execution_count": null,
   "id": "b4179dee",
   "metadata": {},
   "outputs": [],
   "source": [
    "# import os\n",
    "# import glob\n",
    "\n",
    "# # I used these for importing my models at a later stage\n",
    "# def import_models():\n",
    "#     imported_models = []\n",
    "    \n",
    "#     folder_path = 'best_models'\n",
    "#     for filename in glob.glob(os.path.join(folder_path, '*.model')):\n",
    "#         name = filename[12:-6]\n",
    "#         POS_combination, = re.findall(r'\\[.*?\\]', name)\n",
    "#         n_topics, = int(re.findall(r'\\d+', filename))\n",
    "\n",
    "#         # Get the right lemmatized text\n",
    "#         for nested_dictionary in lemmatized_texts_list:\n",
    "#             if POS_combination in nested_dictionary.keys():\n",
    "#                 lemmatized_text = nested_dictionary[POS_combination]\n",
    "        \n",
    "#         model = gensim.models.LdaModel.load(f'models/{name}.model')\n",
    "        \n",
    "#         dictionary, corpus = vectorize(lemmatized_text, MIN_DF=1, MAX_DF=0.6)\n",
    "        \n",
    "#         coherence_score = CoherenceModel(model=model, texts=lemmatized_text, dictionary=dictionary, coherence='c_v').get_coherence()\n",
    "        \n",
    "#         print(f'loaded model: {name} with {n_topics} topics and coherence score of {coherence_score}.')\n",
    "#         imported_models.append({ 'name': name, 'model': model, 'n_topics': n_topics, 'coherence_score': coherence_score, 'corpus': corpus, 'dictionary': dictionary })\n",
    "\n",
    "#     return imported_models\n",
    "\n",
    "# my_models = import_models()"
   ]
  },
  {
   "cell_type": "code",
   "execution_count": 161,
   "id": "7b9cc241",
   "metadata": {},
   "outputs": [],
   "source": [
    "# for file in os.scandir(word_list_location):\n",
    "#     print(file.path)\n",
    "#     filename = file.path\n",
    "#     print(filename.split('__'))\n",
    "#     file = filename.replace('.pickle', '__.pickle')\n",
    "#     file = filename.replace('NOUNS___', 'NOUNS__')\n",
    "#     os.rename(filename, file)\n",
    "#os.rename()"
   ]
  },
  {
   "cell_type": "code",
   "execution_count": null,
   "id": "f9e166b2",
   "metadata": {},
   "outputs": [],
   "source": [
    "    # dictionary, corpus = vectorize(lemmatized_text, MIN_DF=1, MAX_DF=0.6)\n",
    "    # model, coherence, dictionary, corpus = train_model(lemmatized_text=lemmatized_text, dictionary=[], corpus=[], N_TOPICS=4)"
   ]
  }
 ],
 "metadata": {
  "kernelspec": {
   "display_name": "Python 3 (ipykernel)",
   "language": "python",
   "name": "python3"
  },
  "language_info": {
   "codemirror_mode": {
    "name": "ipython",
    "version": 3
   },
   "file_extension": ".py",
   "mimetype": "text/x-python",
   "name": "python",
   "nbconvert_exporter": "python",
   "pygments_lexer": "ipython3",
   "version": "3.9.13"
  }
 },
 "nbformat": 4,
 "nbformat_minor": 5
}
