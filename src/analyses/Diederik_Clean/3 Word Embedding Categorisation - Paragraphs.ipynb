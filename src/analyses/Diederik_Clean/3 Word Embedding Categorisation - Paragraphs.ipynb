{
 "cells": [
  {
   "cell_type": "markdown",
   "id": "4c643808",
   "metadata": {},
   "source": [
    "<div style=\"background-color: lightgreen; border-radius: 5px; padding: 10px;\">\n",
    "    <h4>Word Embedding Categorisation</h4>\n",
    "    <p>...</p>\n",
    "</div>"
   ]
  },
  {
   "cell_type": "code",
   "execution_count": 1,
   "id": "e62a4362",
   "metadata": {},
   "outputs": [],
   "source": [
    "from preprocessing_functions import *\n",
    "from word_embedding_functions import *\n",
    "\n",
    "import pandas as pd\n",
    "import numpy as np\n",
    "from pprint import pprint\n",
    "\n",
    "import warnings\n",
    "warnings.filterwarnings('ignore')"
   ]
  },
  {
   "cell_type": "markdown",
   "id": "6d1e356c",
   "metadata": {},
   "source": [
    "- Clean and preprocess (lemmatise) a list of documents (e.g. paragraphs)\n",
    "- Get your topics through unsupervised clustering with (LDA Topic Modeling)\n",
    "- Use these for the word embedding algorithm"
   ]
  },
  {
   "cell_type": "markdown",
   "id": "3127441f",
   "metadata": {},
   "source": [
    "### 1. Set Topic Words\n",
    "<br>\n",
    "<div style=\"text-align: justify;\">Using LDA topic modeling to find topics and their words through unsupervised clustering highly increases the performance of the model. Look at the pyLDAvis visualisation of the LDA topic model and change any parameters if you are not happy with the cluster distributions or if any clusters are overlapping. </div>\n",
    "<br>\n",
    "<div style=\"text-align: justify;\">\n",
    "A good topic model will have relatively big, similarly sized and non-overlapping bubbles scattered throughout the chart. Greater distances between the clusters represents a larger semantic difference, similarly sized bubbles show that the topics are equally represented, and large circles mean that the topics are well represented in the documents. By paying attention to these three characteristics we can get an accurate representation of the dominant topics of our documents and decide whether these clusters represent good, meaningful topics.\n",
    "</div>"
   ]
  },
  {
   "cell_type": "markdown",
   "id": "0953a77a",
   "metadata": {},
   "source": [
    "#### 1.1 Option 1 (less optimal!): Select individual words for each category/topic"
   ]
  },
  {
   "cell_type": "code",
   "execution_count": 50,
   "id": "422727f3",
   "metadata": {},
   "outputs": [
    {
     "name": "stdout",
     "output_type": "stream",
     "text": [
      "Are you sure you want to set your own topic words instead of using the recommended lda topic words? (y/n)n\n",
      "Canceling cell execution...\n"
     ]
    }
   ],
   "source": [
    "# Removing words with double meaning helps (e.g. bear, degree)\n",
    "\n",
    "choice = input('Are you sure you want to set your own topic words instead of using the recommended lda topic words? (y/n)')\n",
    "\n",
    "if choice == 'y':\n",
    "    print('Running cell...')\n",
    "    \n",
    "    #fashion_words = ['fashion', 'model', 'vogue', 'store', 'designer', 'couture', 'catwalk', 'runway', 'modeling', 'clothing', 'cosmetic', 'brand', 'retail', 'advertising', 'perfume']\n",
    "    diplomacy_words = ['War', 'Embassy', 'Army', 'Diplomatic', 'Ambassador', 'Treaty', 'Protest', 'Force', 'Mission', 'Arrest', 'Government', 'Police', 'Attack', 'Party', 'Minister']\n",
    "    entertainment_words = ['Opera', 'Festival', 'Perform', 'Orchestra', 'Symphony', 'Concert', 'Music', 'Film', 'Sing', 'Theatre', 'Performance', 'Role', 'Premiere', 'Tour', 'Band']\n",
    "    art_words = ['Exhibition', 'Art', 'Museum', 'Gallery', 'Exhibit', 'Painting', 'Collection', 'Paint', 'Portrait', 'Artist', 'Sculpture', 'Fashion', 'Design', 'Contemporary', 'Painter']\n",
    "    education_words = ['Study', 'School', 'Professor', 'University', 'Graduate', 'Educate', 'Lecture', 'Research', 'College', 'Teach', 'Science', 'Education', 'Philosophy', 'Doctorate', 'Faculty'] # replaced bear with educate and degree with Lecture\n",
    "    transportation_words = ['Railway', 'Route', 'Line', 'Operate', 'Flight', 'Station', 'Service', 'Airline', 'Airport', 'Train', 'Passenger', 'Speed', 'Aircraft', 'Rail', 'Network']\n",
    "    sport_words = ['Final', 'Win', 'Team', 'Match', 'Game', 'Goal', 'Club', 'League', 'Champion', 'Championship', 'Season', 'Score', 'Round', 'Tournament', 'Football']\n",
    "\n",
    "    lda_topic_words = { #'fashion': fashion_words,\n",
    "                        'diplomacy': diplomacy_words,\n",
    "                       'entertainment': entertainment_words,\n",
    "                       'art': art_words,\n",
    "                       'education': education_words,\n",
    "                       'transportation': transportation_words,\n",
    "                       'sport': sport_words}\n",
    "else:\n",
    "    print('Canceling cell execution...')"
   ]
  },
  {
   "cell_type": "markdown",
   "id": "40317b97",
   "metadata": {},
   "source": [
    "#### 1.2 Option 2 (recommended!): Use Topic Model's topic words (found through LDA)"
   ]
  },
  {
   "cell_type": "code",
   "execution_count": 10,
   "id": "c3887a9d",
   "metadata": {},
   "outputs": [],
   "source": [
    "lda_models_dir = \"../../../../data_clean/lda_models/\"\n",
    "model_dir = \"lda_model_2millionDocs_5topics/\"\n",
    "file_name = \"relevant_words_per_topic.csv\"\n",
    "\n",
    "lda_topic_words_df_path = os.path.join(lda_models_dir, model_dir, file_name)\n",
    "lda_topic_words_df = pd.read_csv(lda_topic_words_df_path)"
   ]
  },
  {
   "cell_type": "code",
   "execution_count": 3,
   "id": "f60fc568",
   "metadata": {},
   "outputs": [
    {
     "data": {
      "text/html": [
       "<div>\n",
       "<style scoped>\n",
       "    .dataframe tbody tr th:only-of-type {\n",
       "        vertical-align: middle;\n",
       "    }\n",
       "\n",
       "    .dataframe tbody tr th {\n",
       "        vertical-align: top;\n",
       "    }\n",
       "\n",
       "    .dataframe thead th {\n",
       "        text-align: right;\n",
       "    }\n",
       "</style>\n",
       "<table border=\"1\" class=\"dataframe\">\n",
       "  <thead>\n",
       "    <tr style=\"text-align: right;\">\n",
       "      <th></th>\n",
       "      <th>Topic 1</th>\n",
       "      <th>Topic 2</th>\n",
       "      <th>Topic 3</th>\n",
       "      <th>Topic 4</th>\n",
       "      <th>Topic 5</th>\n",
       "    </tr>\n",
       "  </thead>\n",
       "  <tbody>\n",
       "    <tr>\n",
       "      <th>0</th>\n",
       "      <td>service</td>\n",
       "      <td>perform</td>\n",
       "      <td>protest</td>\n",
       "      <td>season</td>\n",
       "      <td>study</td>\n",
       "    </tr>\n",
       "    <tr>\n",
       "      <th>1</th>\n",
       "      <td>station</td>\n",
       "      <td>opera</td>\n",
       "      <td>force</td>\n",
       "      <td>club</td>\n",
       "      <td>exhibition</td>\n",
       "    </tr>\n",
       "    <tr>\n",
       "      <th>2</th>\n",
       "      <td>route</td>\n",
       "      <td>concert</td>\n",
       "      <td>attack</td>\n",
       "      <td>win</td>\n",
       "      <td>work</td>\n",
       "    </tr>\n",
       "    <tr>\n",
       "      <th>3</th>\n",
       "      <td>railway</td>\n",
       "      <td>film</td>\n",
       "      <td>army</td>\n",
       "      <td>goal</td>\n",
       "      <td>art</td>\n",
       "    </tr>\n",
       "    <tr>\n",
       "      <th>4</th>\n",
       "      <td>line</td>\n",
       "      <td>tour</td>\n",
       "      <td>arrest</td>\n",
       "      <td>match</td>\n",
       "      <td>painting</td>\n",
       "    </tr>\n",
       "    <tr>\n",
       "      <th>5</th>\n",
       "      <td>operate</td>\n",
       "      <td>music</td>\n",
       "      <td>troop</td>\n",
       "      <td>team</td>\n",
       "      <td>exhibit</td>\n",
       "    </tr>\n",
       "    <tr>\n",
       "      <th>6</th>\n",
       "      <td>train</td>\n",
       "      <td>sing</td>\n",
       "      <td>police</td>\n",
       "      <td>score</td>\n",
       "      <td>professor</td>\n",
       "    </tr>\n",
       "    <tr>\n",
       "      <th>7</th>\n",
       "      <td>passenger</td>\n",
       "      <td>festival</td>\n",
       "      <td>war</td>\n",
       "      <td>game</td>\n",
       "      <td>school</td>\n",
       "    </tr>\n",
       "    <tr>\n",
       "      <th>8</th>\n",
       "      <td>airport</td>\n",
       "      <td>premiere</td>\n",
       "      <td>command</td>\n",
       "      <td>final</td>\n",
       "      <td>university</td>\n",
       "    </tr>\n",
       "    <tr>\n",
       "      <th>9</th>\n",
       "      <td>airline</td>\n",
       "      <td>band</td>\n",
       "      <td>embassy</td>\n",
       "      <td>league</td>\n",
       "      <td>degree</td>\n",
       "    </tr>\n",
       "    <tr>\n",
       "      <th>10</th>\n",
       "      <td>speed</td>\n",
       "      <td>orchestra</td>\n",
       "      <td>government</td>\n",
       "      <td>player</td>\n",
       "      <td>bear</td>\n",
       "    </tr>\n",
       "    <tr>\n",
       "      <th>11</th>\n",
       "      <td>flight</td>\n",
       "      <td>role</td>\n",
       "      <td>mission</td>\n",
       "      <td>defeat</td>\n",
       "      <td>collection</td>\n",
       "    </tr>\n",
       "    <tr>\n",
       "      <th>12</th>\n",
       "      <td>connect</td>\n",
       "      <td>performance</td>\n",
       "      <td>party</td>\n",
       "      <td>beat</td>\n",
       "      <td>graduate</td>\n",
       "    </tr>\n",
       "    <tr>\n",
       "      <th>13</th>\n",
       "      <td>rail</td>\n",
       "      <td>album</td>\n",
       "      <td>diplomatic</td>\n",
       "      <td>football</td>\n",
       "      <td>painter</td>\n",
       "    </tr>\n",
       "    <tr>\n",
       "      <th>14</th>\n",
       "      <td>network</td>\n",
       "      <td>song</td>\n",
       "      <td>arrive</td>\n",
       "      <td>finish</td>\n",
       "      <td>research</td>\n",
       "    </tr>\n",
       "    <tr>\n",
       "      <th>15</th>\n",
       "      <td>destination</td>\n",
       "      <td>conductor</td>\n",
       "      <td>consulate</td>\n",
       "      <td>victory</td>\n",
       "      <td>publish</td>\n",
       "    </tr>\n",
       "    <tr>\n",
       "      <th>16</th>\n",
       "      <td>km</td>\n",
       "      <td>production</td>\n",
       "      <td>bomb</td>\n",
       "      <td>round</td>\n",
       "      <td>paint</td>\n",
       "    </tr>\n",
       "    <tr>\n",
       "      <th>17</th>\n",
       "      <td>traffic</td>\n",
       "      <td>theatre</td>\n",
       "      <td>kill</td>\n",
       "      <td>play</td>\n",
       "      <td>father</td>\n",
       "    </tr>\n",
       "    <tr>\n",
       "      <th>18</th>\n",
       "      <td>seat</td>\n",
       "      <td>singer</td>\n",
       "      <td>capture</td>\n",
       "      <td>draw</td>\n",
       "      <td>teach</td>\n",
       "    </tr>\n",
       "    <tr>\n",
       "      <th>19</th>\n",
       "      <td>build</td>\n",
       "      <td>composer</td>\n",
       "      <td>raid</td>\n",
       "      <td>lose</td>\n",
       "      <td>museum</td>\n",
       "    </tr>\n",
       "  </tbody>\n",
       "</table>\n",
       "</div>"
      ],
      "text/plain": [
       "        Topic 1      Topic 2     Topic 3   Topic 4     Topic 5\n",
       "0       service      perform     protest    season       study\n",
       "1       station        opera       force      club  exhibition\n",
       "2         route      concert      attack       win        work\n",
       "3       railway         film        army      goal         art\n",
       "4          line         tour      arrest     match    painting\n",
       "5       operate        music       troop      team     exhibit\n",
       "6         train         sing      police     score   professor\n",
       "7     passenger     festival         war      game      school\n",
       "8       airport     premiere     command     final  university\n",
       "9       airline         band     embassy    league      degree\n",
       "10        speed    orchestra  government    player        bear\n",
       "11       flight         role     mission    defeat  collection\n",
       "12      connect  performance       party      beat    graduate\n",
       "13         rail        album  diplomatic  football     painter\n",
       "14      network         song      arrive    finish    research\n",
       "15  destination    conductor   consulate   victory     publish\n",
       "16           km   production        bomb     round       paint\n",
       "17      traffic      theatre        kill      play      father\n",
       "18         seat       singer     capture      draw       teach\n",
       "19        build     composer        raid      lose      museum"
      ]
     },
     "metadata": {},
     "output_type": "display_data"
    },
    {
     "data": {
      "text/plain": [
       "50"
      ]
     },
     "execution_count": 3,
     "metadata": {},
     "output_type": "execute_result"
    }
   ],
   "source": [
    "display(lda_topic_words_df[:20])\n",
    "len(lda_topic_words_df)"
   ]
  },
  {
   "cell_type": "code",
   "execution_count": 126,
   "id": "e8084aeb",
   "metadata": {
    "scrolled": true
   },
   "outputs": [
    {
     "name": "stdout",
     "output_type": "stream",
     "text": [
      "Topic 1: ['service', 'station', 'route', 'railway', 'line', 'operate', 'train', 'passenger', 'airport', 'airline', 'speed', 'flight', 'connect', 'rail', 'network'] \n",
      "\n",
      "Topic 2: ['perform', 'opera', 'concert', 'film', 'tour', 'music', 'sing', 'festival', 'premiere', 'band', 'orchestra', 'role', 'performance', 'album', 'song'] \n",
      "\n",
      "Topic 3: ['protest', 'force', 'attack', 'army', 'arrest', 'troop', 'police', 'war', 'command', 'embassy', 'government', 'mission', 'party', 'diplomatic', 'arrive'] \n",
      "\n",
      "Topic 4: ['season', 'club', 'win', 'goal', 'match', 'team', 'score', 'game', 'final', 'league', 'player', 'defeat', 'beat', 'football', 'finish'] \n",
      "\n",
      "Topic 5: ['study', 'exhibition', 'work', 'art', 'painting', 'exhibit', 'professor', 'school', 'university', 'degree', 'bear', 'collection', 'graduate', 'painter', 'research'] \n",
      "\n"
     ]
    }
   ],
   "source": [
    "nr_of_words = 15\n",
    "lda_topic_words = lda_topic_words_df[:nr_of_words].to_dict('list')\n",
    "\n",
    "for key in lda_topic_words: # sorted_df_dict = sorted(df_dict, key=lambda d: d['article_id']) \n",
    "    print(f\"{key}:\", lda_topic_words[key], '\\n')"
   ]
  },
  {
   "cell_type": "markdown",
   "id": "5d2195b8",
   "metadata": {},
   "source": [
    "### 2. Loading GloVe Word Embedding\n",
    "<br>\n",
    "<div style=\"text-align: justify;\"> The word embedding model could be replaced by other ones fairly easy, but for now we decided to use the Common Crawl 840B token one  (source: https://nlp.stanford.edu/projects/glove/).</div>"
   ]
  },
  {
   "cell_type": "code",
   "execution_count": 5,
   "id": "05c59a18",
   "metadata": {},
   "outputs": [
    {
     "name": "stdout",
     "output_type": "stream",
     "text": [
      "This will take approximately ~ 4 minutes...\n"
     ]
    },
    {
     "data": {
      "application/vnd.jupyter.widget-view+json": {
       "model_id": "c06f78f310334dccb639fbb0549f2b8c",
       "version_major": 2,
       "version_minor": 0
      },
      "text/plain": [
       "  0%|          | 0/2196017 [00:00<?, ?it/s]"
      ]
     },
     "metadata": {},
     "output_type": "display_data"
    },
    {
     "name": "stdout",
     "output_type": "stream",
     "text": [
      "CPU times: total: 2min 58s\n",
      "Wall time: 3min 3s\n"
     ]
    }
   ],
   "source": [
    "%%time\n",
    "\n",
    "embeddings_dict, discarded_dict = load_glove_word_embeddings(GLOVE_PATH=\"../../../../glove.840B.300d.txt\")"
   ]
  },
  {
   "cell_type": "markdown",
   "id": "4a63be62",
   "metadata": {},
   "source": [
    "### 3. Get Mean of the words from each Topic\n",
    "<br>\n",
    "<div style=\"text-align: justify;\">By taking the mean of the vectors that belong to the ~15 most relevant words of a topic we get a fairly accurate vector representation of a topic. We do this for each topic and save their vector value to a dictionary for later retrieval.</div>"
   ]
  },
  {
   "cell_type": "code",
   "execution_count": 127,
   "id": "16e65d33",
   "metadata": {},
   "outputs": [],
   "source": [
    "mean_vectors_dict = {}\n",
    "\n",
    "for topic in lda_topic_words:\n",
    "    words = lda_topic_words[topic]\n",
    "    words = [word for word in words if word in embeddings_dict.keys()] # checks if word is in vocabulary (i.e. has been seen by the model before)\n",
    "    mean_embedding = np.mean([embeddings_dict[word.lower()] for word in words], axis=0)\n",
    "    mean_vectors_dict[topic] = mean_embedding"
   ]
  },
  {
   "cell_type": "markdown",
   "id": "98718a8d",
   "metadata": {},
   "source": [
    "### 4. Load Documents"
   ]
  },
  {
   "cell_type": "markdown",
   "id": "7ea14cd4",
   "metadata": {},
   "source": [
    "#### 4.1 Load and merge chunked .csv files"
   ]
  },
  {
   "cell_type": "code",
   "execution_count": 265,
   "id": "8af53cae",
   "metadata": {},
   "outputs": [],
   "source": [
    "paragraphs_lda_topic_distribution_dir = \"paragraphs_lda_topic_distribution2\"\n",
    "\n",
    "paragraphs_with_lda_prediction_path = os.path.join(lda_models_dir, model_dir, paragraphs_lda_topic_distribution_dir)\n",
    "\n",
    "# paragraphs_with_lda_prediction_path = '../../../../data_clean/lda_models/lda_model_2million/paragraphs_lda_topic_distribution/'\n",
    "file_path =  os.listdir(paragraphs_with_lda_prediction_path)[0]\n",
    "sample_path = os.path.join(paragraphs_with_lda_prediction_path, file_path)"
   ]
  },
  {
   "cell_type": "code",
   "execution_count": 80,
   "id": "e6a6cea0",
   "metadata": {},
   "outputs": [
    {
     "name": "stdout",
     "output_type": "stream",
     "text": [
      "paragraphs_10_934384_1038204_merged_POS.csv\n"
     ]
    },
    {
     "data": {
      "text/plain": [
       "True"
      ]
     },
     "execution_count": 80,
     "metadata": {},
     "output_type": "execute_result"
    }
   ],
   "source": [
    "# os.listdir('../../../../data_clean/lda_models/lda_model_2million/paragraphs_lda_topic_distribution/')[0]\n",
    "lemmatised_paragraphs_path = \"../../../../data_clean/paragraphs_lemmatised/english_words_merged_NOUNVERBADJ/\"\n",
    "file_path = os.listdir(lemmatised_paragraphs_path)[0]\n",
    "sample_path = os.path.join(lemmatised_paragraphs_path, file_path)"
   ]
  },
  {
   "cell_type": "code",
   "execution_count": 8,
   "id": "d620069a",
   "metadata": {},
   "outputs": [
    {
     "name": "stdout",
     "output_type": "stream",
     "text": [
      "../../../../data_clean/lda_models/lda_model_2millionDocs_5topics\\paragraphs_lda_topic_distribution\\paragraphs_10_934385_1038205_lda_topics.csv paragraphs_10_934385_1038205_lda_topics.csv\n"
     ]
    },
    {
     "data": {
      "text/plain": [
       "True"
      ]
     },
     "execution_count": 8,
     "metadata": {},
     "output_type": "execute_result"
    }
   ],
   "source": [
    "print(sample_path, file_path)\n",
    "os.path.exists(sample_path)"
   ]
  },
  {
   "cell_type": "code",
   "execution_count": 9,
   "id": "7d189714",
   "metadata": {},
   "outputs": [
    {
     "data": {
      "text/html": [
       "<div>\n",
       "<style scoped>\n",
       "    .dataframe tbody tr th:only-of-type {\n",
       "        vertical-align: middle;\n",
       "    }\n",
       "\n",
       "    .dataframe tbody tr th {\n",
       "        vertical-align: top;\n",
       "    }\n",
       "\n",
       "    .dataframe thead th {\n",
       "        text-align: right;\n",
       "    }\n",
       "</style>\n",
       "<table border=\"1\" class=\"dataframe\">\n",
       "  <thead>\n",
       "    <tr style=\"text-align: right;\">\n",
       "      <th></th>\n",
       "      <th>city_1</th>\n",
       "      <th>city_2</th>\n",
       "      <th>paragraph</th>\n",
       "      <th>article_id</th>\n",
       "      <th>title</th>\n",
       "      <th>merged_POS</th>\n",
       "      <th>topic_1</th>\n",
       "      <th>topic_2</th>\n",
       "      <th>topic_3</th>\n",
       "      <th>topic_4</th>\n",
       "      <th>topic_5</th>\n",
       "      <th>lda_dominant</th>\n",
       "      <th>lda_dominant_score</th>\n",
       "    </tr>\n",
       "  </thead>\n",
       "  <tbody>\n",
       "    <tr>\n",
       "      <th>0</th>\n",
       "      <td>Toulon</td>\n",
       "      <td>Nice</td>\n",
       "      <td>Honey from Provence is protected by a red labe...</td>\n",
       "      <td>15415861.0</td>\n",
       "      <td>Authon, Alpes-de-Haute-Provence</td>\n",
       "      <td>['honey', 'label', 'indication', 'honey', 'flo...</td>\n",
       "      <td>0.002758</td>\n",
       "      <td>0.002761</td>\n",
       "      <td>0.002960</td>\n",
       "      <td>0.002211</td>\n",
       "      <td>0.989310</td>\n",
       "      <td>topic_5</td>\n",
       "      <td>0.989310</td>\n",
       "    </tr>\n",
       "    <tr>\n",
       "      <th>1</th>\n",
       "      <td>Copenhagen</td>\n",
       "      <td>Oslo</td>\n",
       "      <td>Glosimodt was born in Oslo, Norway. He studied...</td>\n",
       "      <td>15416040.0</td>\n",
       "      <td>Erik Glosimodt</td>\n",
       "      <td>['education', 'professor', 'architect', 'pract...</td>\n",
       "      <td>0.002758</td>\n",
       "      <td>0.002761</td>\n",
       "      <td>0.002960</td>\n",
       "      <td>0.002211</td>\n",
       "      <td>0.989310</td>\n",
       "      <td>topic_5</td>\n",
       "      <td>0.989310</td>\n",
       "    </tr>\n",
       "    <tr>\n",
       "      <th>2</th>\n",
       "      <td>Oslo</td>\n",
       "      <td>Copenhagen</td>\n",
       "      <td>Glosimodt was born in Oslo, Norway. He studied...</td>\n",
       "      <td>15416040.0</td>\n",
       "      <td>Erik Glosimodt</td>\n",
       "      <td>['education', 'professor', 'architect', 'pract...</td>\n",
       "      <td>0.017678</td>\n",
       "      <td>0.017697</td>\n",
       "      <td>0.018973</td>\n",
       "      <td>0.915734</td>\n",
       "      <td>0.029918</td>\n",
       "      <td>topic_4</td>\n",
       "      <td>0.915734</td>\n",
       "    </tr>\n",
       "    <tr>\n",
       "      <th>3</th>\n",
       "      <td>Barcelona</td>\n",
       "      <td>Dusseldorf</td>\n",
       "      <td>On the 24 March 2015, Germanwings Flight 9525 ...</td>\n",
       "      <td>15416113.0</td>\n",
       "      <td>Meolans-Revel</td>\n",
       "      <td>['travel', 'crash']</td>\n",
       "      <td>0.468460</td>\n",
       "      <td>0.017697</td>\n",
       "      <td>0.018973</td>\n",
       "      <td>0.014171</td>\n",
       "      <td>0.480699</td>\n",
       "      <td>topic_5</td>\n",
       "      <td>0.480699</td>\n",
       "    </tr>\n",
       "    <tr>\n",
       "      <th>4</th>\n",
       "      <td>Dusseldorf</td>\n",
       "      <td>Barcelona</td>\n",
       "      <td>On the 24 March 2015, Germanwings Flight 9525 ...</td>\n",
       "      <td>15416113.0</td>\n",
       "      <td>Meolans-Revel</td>\n",
       "      <td>['travel', 'crash']</td>\n",
       "      <td>0.978201</td>\n",
       "      <td>0.004777</td>\n",
       "      <td>0.005121</td>\n",
       "      <td>0.003825</td>\n",
       "      <td>0.008076</td>\n",
       "      <td>topic_1</td>\n",
       "      <td>0.978201</td>\n",
       "    </tr>\n",
       "    <tr>\n",
       "      <th>...</th>\n",
       "      <td>...</td>\n",
       "      <td>...</td>\n",
       "      <td>...</td>\n",
       "      <td>...</td>\n",
       "      <td>...</td>\n",
       "      <td>...</td>\n",
       "      <td>...</td>\n",
       "      <td>...</td>\n",
       "      <td>...</td>\n",
       "      <td>...</td>\n",
       "      <td>...</td>\n",
       "      <td>...</td>\n",
       "      <td>...</td>\n",
       "    </tr>\n",
       "    <tr>\n",
       "      <th>103815</th>\n",
       "      <td>Rome</td>\n",
       "      <td>Bari</td>\n",
       "      <td>It publishes 15 local editions for the cities ...</td>\n",
       "      <td>19593000.0</td>\n",
       "      <td>Leggo</td>\n",
       "      <td>['edition', 'city', 'circulation', 'copy', 'pu...</td>\n",
       "      <td>0.282504</td>\n",
       "      <td>0.005439</td>\n",
       "      <td>0.005831</td>\n",
       "      <td>0.004355</td>\n",
       "      <td>0.701872</td>\n",
       "      <td>topic_5</td>\n",
       "      <td>0.701872</td>\n",
       "    </tr>\n",
       "    <tr>\n",
       "      <th>103816</th>\n",
       "      <td>Rome</td>\n",
       "      <td>Padua</td>\n",
       "      <td>It publishes 15 local editions for the cities ...</td>\n",
       "      <td>19593000.0</td>\n",
       "      <td>Leggo</td>\n",
       "      <td>['edition', 'city', 'circulation', 'copy', 'pu...</td>\n",
       "      <td>0.005433</td>\n",
       "      <td>0.005439</td>\n",
       "      <td>0.144366</td>\n",
       "      <td>0.004355</td>\n",
       "      <td>0.840407</td>\n",
       "      <td>topic_5</td>\n",
       "      <td>0.840407</td>\n",
       "    </tr>\n",
       "    <tr>\n",
       "      <th>103817</th>\n",
       "      <td>Rome</td>\n",
       "      <td>Brescia</td>\n",
       "      <td>It publishes 15 local editions for the cities ...</td>\n",
       "      <td>19593000.0</td>\n",
       "      <td>Leggo</td>\n",
       "      <td>['edition', 'city', 'circulation', 'copy', 'pu...</td>\n",
       "      <td>0.005433</td>\n",
       "      <td>0.005439</td>\n",
       "      <td>0.421437</td>\n",
       "      <td>0.004355</td>\n",
       "      <td>0.563336</td>\n",
       "      <td>topic_5</td>\n",
       "      <td>0.563336</td>\n",
       "    </tr>\n",
       "    <tr>\n",
       "      <th>103818</th>\n",
       "      <td>Rome</td>\n",
       "      <td>Verona</td>\n",
       "      <td>It publishes 15 local editions for the cities ...</td>\n",
       "      <td>19593000.0</td>\n",
       "      <td>Leggo</td>\n",
       "      <td>['edition', 'city', 'circulation', 'copy', 'pu...</td>\n",
       "      <td>0.005433</td>\n",
       "      <td>0.005439</td>\n",
       "      <td>0.005831</td>\n",
       "      <td>0.004355</td>\n",
       "      <td>0.978943</td>\n",
       "      <td>topic_5</td>\n",
       "      <td>0.978943</td>\n",
       "    </tr>\n",
       "    <tr>\n",
       "      <th>103819</th>\n",
       "      <td>Naples</td>\n",
       "      <td>Milan</td>\n",
       "      <td>It publishes 15 local editions for the cities ...</td>\n",
       "      <td>19593000.0</td>\n",
       "      <td>Leggo</td>\n",
       "      <td>['edition', 'city', 'circulation', 'copy', 'pu...</td>\n",
       "      <td>0.005433</td>\n",
       "      <td>0.005439</td>\n",
       "      <td>0.005831</td>\n",
       "      <td>0.004355</td>\n",
       "      <td>0.978943</td>\n",
       "      <td>topic_5</td>\n",
       "      <td>0.978943</td>\n",
       "    </tr>\n",
       "  </tbody>\n",
       "</table>\n",
       "<p>103820 rows × 13 columns</p>\n",
       "</div>"
      ],
      "text/plain": [
       "            city_1      city_2  \\\n",
       "0           Toulon        Nice   \n",
       "1       Copenhagen        Oslo   \n",
       "2             Oslo  Copenhagen   \n",
       "3        Barcelona  Dusseldorf   \n",
       "4       Dusseldorf   Barcelona   \n",
       "...            ...         ...   \n",
       "103815        Rome        Bari   \n",
       "103816        Rome       Padua   \n",
       "103817        Rome     Brescia   \n",
       "103818        Rome      Verona   \n",
       "103819      Naples       Milan   \n",
       "\n",
       "                                                paragraph  article_id  \\\n",
       "0       Honey from Provence is protected by a red labe...  15415861.0   \n",
       "1       Glosimodt was born in Oslo, Norway. He studied...  15416040.0   \n",
       "2       Glosimodt was born in Oslo, Norway. He studied...  15416040.0   \n",
       "3       On the 24 March 2015, Germanwings Flight 9525 ...  15416113.0   \n",
       "4       On the 24 March 2015, Germanwings Flight 9525 ...  15416113.0   \n",
       "...                                                   ...         ...   \n",
       "103815  It publishes 15 local editions for the cities ...  19593000.0   \n",
       "103816  It publishes 15 local editions for the cities ...  19593000.0   \n",
       "103817  It publishes 15 local editions for the cities ...  19593000.0   \n",
       "103818  It publishes 15 local editions for the cities ...  19593000.0   \n",
       "103819  It publishes 15 local editions for the cities ...  19593000.0   \n",
       "\n",
       "                                  title  \\\n",
       "0       Authon, Alpes-de-Haute-Provence   \n",
       "1                        Erik Glosimodt   \n",
       "2                        Erik Glosimodt   \n",
       "3                         Meolans-Revel   \n",
       "4                         Meolans-Revel   \n",
       "...                                 ...   \n",
       "103815                            Leggo   \n",
       "103816                            Leggo   \n",
       "103817                            Leggo   \n",
       "103818                            Leggo   \n",
       "103819                            Leggo   \n",
       "\n",
       "                                               merged_POS   topic_1   topic_2  \\\n",
       "0       ['honey', 'label', 'indication', 'honey', 'flo...  0.002758  0.002761   \n",
       "1       ['education', 'professor', 'architect', 'pract...  0.002758  0.002761   \n",
       "2       ['education', 'professor', 'architect', 'pract...  0.017678  0.017697   \n",
       "3                                     ['travel', 'crash']  0.468460  0.017697   \n",
       "4                                     ['travel', 'crash']  0.978201  0.004777   \n",
       "...                                                   ...       ...       ...   \n",
       "103815  ['edition', 'city', 'circulation', 'copy', 'pu...  0.282504  0.005439   \n",
       "103816  ['edition', 'city', 'circulation', 'copy', 'pu...  0.005433  0.005439   \n",
       "103817  ['edition', 'city', 'circulation', 'copy', 'pu...  0.005433  0.005439   \n",
       "103818  ['edition', 'city', 'circulation', 'copy', 'pu...  0.005433  0.005439   \n",
       "103819  ['edition', 'city', 'circulation', 'copy', 'pu...  0.005433  0.005439   \n",
       "\n",
       "         topic_3   topic_4   topic_5 lda_dominant  lda_dominant_score  \n",
       "0       0.002960  0.002211  0.989310      topic_5            0.989310  \n",
       "1       0.002960  0.002211  0.989310      topic_5            0.989310  \n",
       "2       0.018973  0.915734  0.029918      topic_4            0.915734  \n",
       "3       0.018973  0.014171  0.480699      topic_5            0.480699  \n",
       "4       0.005121  0.003825  0.008076      topic_1            0.978201  \n",
       "...          ...       ...       ...          ...                 ...  \n",
       "103815  0.005831  0.004355  0.701872      topic_5            0.701872  \n",
       "103816  0.144366  0.004355  0.840407      topic_5            0.840407  \n",
       "103817  0.421437  0.004355  0.563336      topic_5            0.563336  \n",
       "103818  0.005831  0.004355  0.978943      topic_5            0.978943  \n",
       "103819  0.005831  0.004355  0.978943      topic_5            0.978943  \n",
       "\n",
       "[103820 rows x 13 columns]"
      ]
     },
     "execution_count": 9,
     "metadata": {},
     "output_type": "execute_result"
    }
   ],
   "source": [
    "df =  pd.read_csv(sample_path)\n",
    "df"
   ]
  },
  {
   "cell_type": "markdown",
   "id": "a861ea5c",
   "metadata": {},
   "source": [
    "#### 4.2 Select number of paragraphs to process"
   ]
  },
  {
   "cell_type": "code",
   "execution_count": 138,
   "id": "c188296d",
   "metadata": {},
   "outputs": [],
   "source": [
    "sample_size = 5000\n",
    "sample = df[:sample_size]"
   ]
  },
  {
   "cell_type": "markdown",
   "id": "234aa540",
   "metadata": {},
   "source": [
    "#### 4.3 Turn stringed lists (in csv) into list objects"
   ]
  },
  {
   "cell_type": "code",
   "execution_count": 139,
   "id": "6e2212c2",
   "metadata": {},
   "outputs": [
    {
     "name": "stdout",
     "output_type": "stream",
     "text": [
      "CPU times: total: 938 ms\n",
      "Wall time: 962 ms\n"
     ]
    }
   ],
   "source": [
    "%%time\n",
    "\n",
    "from ast import literal_eval\n",
    "\n",
    "if isinstance(sample['merged_POS'][0], str):\n",
    "    sample['merged_POS'] = sample['merged_POS'].apply(literal_eval)"
   ]
  },
  {
   "cell_type": "code",
   "execution_count": 11,
   "id": "a82403b1",
   "metadata": {},
   "outputs": [
    {
     "data": {
      "text/plain": [
       "Index(['city_1', 'city_2', 'paragraph', 'article_id', 'title', 'merged_POS',\n",
       "       'topic_1', 'topic_2', 'topic_3', 'topic_4', 'topic_5', 'lda_dominant',\n",
       "       'lda_dominant_score'],\n",
       "      dtype='object')"
      ]
     },
     "execution_count": 11,
     "metadata": {},
     "output_type": "execute_result"
    }
   ],
   "source": [
    "sample.columns"
   ]
  },
  {
   "cell_type": "markdown",
   "id": "6275204d",
   "metadata": {},
   "source": [
    "### 5. Classify Paragraphs (by Word Embedding Algorithm)"
   ]
  },
  {
   "cell_type": "markdown",
   "id": "5ae9c479",
   "metadata": {},
   "source": [
    "#### 5.1 Select right parameters\n",
    "<br>\n",
    "<div style=\"text-align: justify;\">bottom_threshold: If the similarity between a word and its closest topic is below the bottom_threshold it will be discarded from the classification process.\n",
    "Verbose1 and Verbose2: Enabling these will print out the internal process of the algorithm.</div>"
   ]
  },
  {
   "cell_type": "code",
   "execution_count": 59,
   "id": "4667ce5e",
   "metadata": {},
   "outputs": [],
   "source": [
    "bottom_threshold = 0.20\n",
    "verbose1 = False\n",
    "verbose2 = False"
   ]
  },
  {
   "cell_type": "code",
   "execution_count": 182,
   "id": "b22d3911",
   "metadata": {},
   "outputs": [
    {
     "data": {
      "text/plain": [
       "['paragraphs_10_934385_1038205', 'topics.csv']"
      ]
     },
     "execution_count": 182,
     "metadata": {},
     "output_type": "execute_result"
    }
   ],
   "source": [
    "os.listdir(paragraphs_with_lda_prediction_path)[0].split('_lda_')\n"
   ]
  },
  {
   "cell_type": "code",
   "execution_count": 245,
   "id": "97c9f80e",
   "metadata": {},
   "outputs": [],
   "source": [
    "import math"
   ]
  },
  {
   "cell_type": "code",
   "execution_count": 262,
   "id": "9856f4d0",
   "metadata": {},
   "outputs": [],
   "source": [
    "test = pd.read_csv(\"../../../../data_clean/lda_models/lda_model_2millionDocs_5topics\\paragraphs_lda_topic_distribution\\paragraphs_10_934385_1038205_lda_topics.csv\")"
   ]
  },
  {
   "cell_type": "code",
   "execution_count": 263,
   "id": "94baa766",
   "metadata": {},
   "outputs": [
    {
     "data": {
      "text/plain": [
       "False"
      ]
     },
     "execution_count": 263,
     "metadata": {},
     "output_type": "execute_result"
    }
   ],
   "source": [
    "test['merged_POS'].isnull().values.any()"
   ]
  },
  {
   "cell_type": "code",
   "execution_count": null,
   "id": "38c6e3e6",
   "metadata": {},
   "outputs": [],
   "source": []
  },
  {
   "cell_type": "code",
   "execution_count": 264,
   "id": "8bbe1926",
   "metadata": {},
   "outputs": [
    {
     "data": {
      "text/html": [
       "<div>\n",
       "<style scoped>\n",
       "    .dataframe tbody tr th:only-of-type {\n",
       "        vertical-align: middle;\n",
       "    }\n",
       "\n",
       "    .dataframe tbody tr th {\n",
       "        vertical-align: top;\n",
       "    }\n",
       "\n",
       "    .dataframe thead th {\n",
       "        text-align: right;\n",
       "    }\n",
       "</style>\n",
       "<table border=\"1\" class=\"dataframe\">\n",
       "  <thead>\n",
       "    <tr style=\"text-align: right;\">\n",
       "      <th></th>\n",
       "      <th>city_1</th>\n",
       "      <th>city_2</th>\n",
       "      <th>paragraph</th>\n",
       "      <th>article_id</th>\n",
       "      <th>title</th>\n",
       "      <th>merged_POS</th>\n",
       "      <th>topic_1</th>\n",
       "      <th>topic_2</th>\n",
       "      <th>topic_3</th>\n",
       "      <th>topic_4</th>\n",
       "      <th>topic_5</th>\n",
       "      <th>lda_dominant</th>\n",
       "      <th>lda_dominant_score</th>\n",
       "    </tr>\n",
       "  </thead>\n",
       "  <tbody>\n",
       "    <tr>\n",
       "      <th>0</th>\n",
       "      <td>Toulon</td>\n",
       "      <td>Nice</td>\n",
       "      <td>Honey from Provence is protected by a red labe...</td>\n",
       "      <td>15415861.0</td>\n",
       "      <td>Authon, Alpes-de-Haute-Provence</td>\n",
       "      <td>['honey', 'label', 'indication', 'honey', 'flo...</td>\n",
       "      <td>0.002758</td>\n",
       "      <td>0.002761</td>\n",
       "      <td>0.002960</td>\n",
       "      <td>0.002211</td>\n",
       "      <td>0.989310</td>\n",
       "      <td>topic_5</td>\n",
       "      <td>0.989310</td>\n",
       "    </tr>\n",
       "    <tr>\n",
       "      <th>1</th>\n",
       "      <td>Copenhagen</td>\n",
       "      <td>Oslo</td>\n",
       "      <td>Glosimodt was born in Oslo, Norway. He studied...</td>\n",
       "      <td>15416040.0</td>\n",
       "      <td>Erik Glosimodt</td>\n",
       "      <td>['education', 'professor', 'architect', 'pract...</td>\n",
       "      <td>0.002758</td>\n",
       "      <td>0.002761</td>\n",
       "      <td>0.002960</td>\n",
       "      <td>0.002211</td>\n",
       "      <td>0.989310</td>\n",
       "      <td>topic_5</td>\n",
       "      <td>0.989310</td>\n",
       "    </tr>\n",
       "    <tr>\n",
       "      <th>2</th>\n",
       "      <td>Oslo</td>\n",
       "      <td>Copenhagen</td>\n",
       "      <td>Glosimodt was born in Oslo, Norway. He studied...</td>\n",
       "      <td>15416040.0</td>\n",
       "      <td>Erik Glosimodt</td>\n",
       "      <td>['education', 'professor', 'architect', 'pract...</td>\n",
       "      <td>0.017678</td>\n",
       "      <td>0.017697</td>\n",
       "      <td>0.018973</td>\n",
       "      <td>0.915734</td>\n",
       "      <td>0.029918</td>\n",
       "      <td>topic_4</td>\n",
       "      <td>0.915734</td>\n",
       "    </tr>\n",
       "    <tr>\n",
       "      <th>3</th>\n",
       "      <td>Barcelona</td>\n",
       "      <td>Dusseldorf</td>\n",
       "      <td>On the 24 March 2015, Germanwings Flight 9525 ...</td>\n",
       "      <td>15416113.0</td>\n",
       "      <td>Meolans-Revel</td>\n",
       "      <td>['travel', 'crash']</td>\n",
       "      <td>0.468460</td>\n",
       "      <td>0.017697</td>\n",
       "      <td>0.018973</td>\n",
       "      <td>0.014171</td>\n",
       "      <td>0.480699</td>\n",
       "      <td>topic_5</td>\n",
       "      <td>0.480699</td>\n",
       "    </tr>\n",
       "    <tr>\n",
       "      <th>4</th>\n",
       "      <td>Dusseldorf</td>\n",
       "      <td>Barcelona</td>\n",
       "      <td>On the 24 March 2015, Germanwings Flight 9525 ...</td>\n",
       "      <td>15416113.0</td>\n",
       "      <td>Meolans-Revel</td>\n",
       "      <td>['travel', 'crash']</td>\n",
       "      <td>0.978201</td>\n",
       "      <td>0.004777</td>\n",
       "      <td>0.005121</td>\n",
       "      <td>0.003825</td>\n",
       "      <td>0.008076</td>\n",
       "      <td>topic_1</td>\n",
       "      <td>0.978201</td>\n",
       "    </tr>\n",
       "    <tr>\n",
       "      <th>5</th>\n",
       "      <td>Barcelona</td>\n",
       "      <td>Dusseldorf</td>\n",
       "      <td>On 24 March 2015, Germanwings Flight 9525, an ...</td>\n",
       "      <td>15416167.0</td>\n",
       "      <td>Prads-Haute-Bleone</td>\n",
       "      <td>['mountain', 'territory', 'commune', 'passenge...</td>\n",
       "      <td>0.978201</td>\n",
       "      <td>0.004777</td>\n",
       "      <td>0.005121</td>\n",
       "      <td>0.003825</td>\n",
       "      <td>0.008076</td>\n",
       "      <td>topic_1</td>\n",
       "      <td>0.978201</td>\n",
       "    </tr>\n",
       "    <tr>\n",
       "      <th>6</th>\n",
       "      <td>Dusseldorf</td>\n",
       "      <td>Barcelona</td>\n",
       "      <td>On 24 March 2015, Germanwings Flight 9525, an ...</td>\n",
       "      <td>15416167.0</td>\n",
       "      <td>Prads-Haute-Bleone</td>\n",
       "      <td>['mountain', 'territory', 'commune', 'passenge...</td>\n",
       "      <td>0.002418</td>\n",
       "      <td>0.002421</td>\n",
       "      <td>0.064254</td>\n",
       "      <td>0.926816</td>\n",
       "      <td>0.004092</td>\n",
       "      <td>topic_4</td>\n",
       "      <td>0.926816</td>\n",
       "    </tr>\n",
       "    <tr>\n",
       "      <th>7</th>\n",
       "      <td>Frankfurt</td>\n",
       "      <td>Duisburg</td>\n",
       "      <td>Schamer played his entire professional career ...</td>\n",
       "      <td>15416514.0</td>\n",
       "      <td>Lothar Schamer</td>\n",
       "      <td>['career', 'season', 'squad', 'goal', 'penalty...</td>\n",
       "      <td>0.002418</td>\n",
       "      <td>0.002421</td>\n",
       "      <td>0.002595</td>\n",
       "      <td>0.988474</td>\n",
       "      <td>0.004092</td>\n",
       "      <td>topic_4</td>\n",
       "      <td>0.988474</td>\n",
       "    </tr>\n",
       "    <tr>\n",
       "      <th>8</th>\n",
       "      <td>Duisburg</td>\n",
       "      <td>Frankfurt</td>\n",
       "      <td>Schamer played his entire professional career ...</td>\n",
       "      <td>15416514.0</td>\n",
       "      <td>Lothar Schamer</td>\n",
       "      <td>['career', 'season', 'squad', 'goal', 'penalty...</td>\n",
       "      <td>0.001026</td>\n",
       "      <td>0.681328</td>\n",
       "      <td>0.001101</td>\n",
       "      <td>0.000823</td>\n",
       "      <td>0.315722</td>\n",
       "      <td>topic_2</td>\n",
       "      <td>0.681328</td>\n",
       "    </tr>\n",
       "    <tr>\n",
       "      <th>9</th>\n",
       "      <td>London</td>\n",
       "      <td>Rome</td>\n",
       "      <td>Bildner grew up in Rio de Janeiro where she wa...</td>\n",
       "      <td>15416521.0</td>\n",
       "      <td>Mossa Bildner</td>\n",
       "      <td>['variety', 'music', 'teen', 'ceremony', 'love...</td>\n",
       "      <td>0.001026</td>\n",
       "      <td>0.498170</td>\n",
       "      <td>0.001101</td>\n",
       "      <td>0.000823</td>\n",
       "      <td>0.498880</td>\n",
       "      <td>topic_5</td>\n",
       "      <td>0.498880</td>\n",
       "    </tr>\n",
       "    <tr>\n",
       "      <th>10</th>\n",
       "      <td>London</td>\n",
       "      <td>Vienna</td>\n",
       "      <td>Bildner grew up in Rio de Janeiro where she wa...</td>\n",
       "      <td>15416521.0</td>\n",
       "      <td>Mossa Bildner</td>\n",
       "      <td>['variety', 'music', 'teen', 'ceremony', 'love...</td>\n",
       "      <td>0.001026</td>\n",
       "      <td>0.890652</td>\n",
       "      <td>0.001101</td>\n",
       "      <td>0.000823</td>\n",
       "      <td>0.106398</td>\n",
       "      <td>topic_2</td>\n",
       "      <td>0.890652</td>\n",
       "    </tr>\n",
       "    <tr>\n",
       "      <th>11</th>\n",
       "      <td>London</td>\n",
       "      <td>Augsburg</td>\n",
       "      <td>Bildner grew up in Rio de Janeiro where she wa...</td>\n",
       "      <td>15416521.0</td>\n",
       "      <td>Mossa Bildner</td>\n",
       "      <td>['variety', 'music', 'teen', 'ceremony', 'love...</td>\n",
       "      <td>0.001026</td>\n",
       "      <td>0.733659</td>\n",
       "      <td>0.001101</td>\n",
       "      <td>0.000823</td>\n",
       "      <td>0.263391</td>\n",
       "      <td>topic_2</td>\n",
       "      <td>0.733659</td>\n",
       "    </tr>\n",
       "    <tr>\n",
       "      <th>12</th>\n",
       "      <td>Rome</td>\n",
       "      <td>London</td>\n",
       "      <td>Bildner grew up in Rio de Janeiro where she wa...</td>\n",
       "      <td>15416521.0</td>\n",
       "      <td>Mossa Bildner</td>\n",
       "      <td>['variety', 'music', 'teen', 'ceremony', 'love...</td>\n",
       "      <td>0.001026</td>\n",
       "      <td>0.576667</td>\n",
       "      <td>0.001101</td>\n",
       "      <td>0.000823</td>\n",
       "      <td>0.420383</td>\n",
       "      <td>topic_2</td>\n",
       "      <td>0.576667</td>\n",
       "    </tr>\n",
       "    <tr>\n",
       "      <th>13</th>\n",
       "      <td>Rome</td>\n",
       "      <td>Vienna</td>\n",
       "      <td>Bildner grew up in Rio de Janeiro where she wa...</td>\n",
       "      <td>15416521.0</td>\n",
       "      <td>Mossa Bildner</td>\n",
       "      <td>['variety', 'music', 'teen', 'ceremony', 'love...</td>\n",
       "      <td>0.001026</td>\n",
       "      <td>0.628997</td>\n",
       "      <td>0.001101</td>\n",
       "      <td>0.000823</td>\n",
       "      <td>0.368053</td>\n",
       "      <td>topic_2</td>\n",
       "      <td>0.628997</td>\n",
       "    </tr>\n",
       "    <tr>\n",
       "      <th>14</th>\n",
       "      <td>Rome</td>\n",
       "      <td>Augsburg</td>\n",
       "      <td>Bildner grew up in Rio de Janeiro where she wa...</td>\n",
       "      <td>15416521.0</td>\n",
       "      <td>Mossa Bildner</td>\n",
       "      <td>['variety', 'music', 'teen', 'ceremony', 'love...</td>\n",
       "      <td>0.001026</td>\n",
       "      <td>0.681328</td>\n",
       "      <td>0.001101</td>\n",
       "      <td>0.000823</td>\n",
       "      <td>0.315722</td>\n",
       "      <td>topic_2</td>\n",
       "      <td>0.681328</td>\n",
       "    </tr>\n",
       "    <tr>\n",
       "      <th>15</th>\n",
       "      <td>Vienna</td>\n",
       "      <td>London</td>\n",
       "      <td>Bildner grew up in Rio de Janeiro where she wa...</td>\n",
       "      <td>15416521.0</td>\n",
       "      <td>Mossa Bildner</td>\n",
       "      <td>['variety', 'music', 'teen', 'ceremony', 'love...</td>\n",
       "      <td>0.001026</td>\n",
       "      <td>0.550501</td>\n",
       "      <td>0.001101</td>\n",
       "      <td>0.000823</td>\n",
       "      <td>0.446549</td>\n",
       "      <td>topic_2</td>\n",
       "      <td>0.550501</td>\n",
       "    </tr>\n",
       "    <tr>\n",
       "      <th>16</th>\n",
       "      <td>Vienna</td>\n",
       "      <td>Rome</td>\n",
       "      <td>Bildner grew up in Rio de Janeiro where she wa...</td>\n",
       "      <td>15416521.0</td>\n",
       "      <td>Mossa Bildner</td>\n",
       "      <td>['variety', 'music', 'teen', 'ceremony', 'love...</td>\n",
       "      <td>0.001026</td>\n",
       "      <td>0.681328</td>\n",
       "      <td>0.001101</td>\n",
       "      <td>0.000823</td>\n",
       "      <td>0.315722</td>\n",
       "      <td>topic_2</td>\n",
       "      <td>0.681328</td>\n",
       "    </tr>\n",
       "    <tr>\n",
       "      <th>17</th>\n",
       "      <td>Vienna</td>\n",
       "      <td>Augsburg</td>\n",
       "      <td>Bildner grew up in Rio de Janeiro where she wa...</td>\n",
       "      <td>15416521.0</td>\n",
       "      <td>Mossa Bildner</td>\n",
       "      <td>['variety', 'music', 'teen', 'ceremony', 'love...</td>\n",
       "      <td>0.001026</td>\n",
       "      <td>0.498170</td>\n",
       "      <td>0.001101</td>\n",
       "      <td>0.000823</td>\n",
       "      <td>0.498880</td>\n",
       "      <td>topic_5</td>\n",
       "      <td>0.498880</td>\n",
       "    </tr>\n",
       "    <tr>\n",
       "      <th>18</th>\n",
       "      <td>Augsburg</td>\n",
       "      <td>London</td>\n",
       "      <td>Bildner grew up in Rio de Janeiro where she wa...</td>\n",
       "      <td>15416521.0</td>\n",
       "      <td>Mossa Bildner</td>\n",
       "      <td>['variety', 'music', 'teen', 'ceremony', 'love...</td>\n",
       "      <td>0.001026</td>\n",
       "      <td>0.628997</td>\n",
       "      <td>0.001101</td>\n",
       "      <td>0.000823</td>\n",
       "      <td>0.368053</td>\n",
       "      <td>topic_2</td>\n",
       "      <td>0.628997</td>\n",
       "    </tr>\n",
       "    <tr>\n",
       "      <th>19</th>\n",
       "      <td>Augsburg</td>\n",
       "      <td>Rome</td>\n",
       "      <td>Bildner grew up in Rio de Janeiro where she wa...</td>\n",
       "      <td>15416521.0</td>\n",
       "      <td>Mossa Bildner</td>\n",
       "      <td>['variety', 'music', 'teen', 'ceremony', 'love...</td>\n",
       "      <td>0.001026</td>\n",
       "      <td>0.524336</td>\n",
       "      <td>0.001101</td>\n",
       "      <td>0.000823</td>\n",
       "      <td>0.472714</td>\n",
       "      <td>topic_2</td>\n",
       "      <td>0.524336</td>\n",
       "    </tr>\n",
       "  </tbody>\n",
       "</table>\n",
       "</div>"
      ],
      "text/plain": [
       "        city_1      city_2                                          paragraph  \\\n",
       "0       Toulon        Nice  Honey from Provence is protected by a red labe...   \n",
       "1   Copenhagen        Oslo  Glosimodt was born in Oslo, Norway. He studied...   \n",
       "2         Oslo  Copenhagen  Glosimodt was born in Oslo, Norway. He studied...   \n",
       "3    Barcelona  Dusseldorf  On the 24 March 2015, Germanwings Flight 9525 ...   \n",
       "4   Dusseldorf   Barcelona  On the 24 March 2015, Germanwings Flight 9525 ...   \n",
       "5    Barcelona  Dusseldorf  On 24 March 2015, Germanwings Flight 9525, an ...   \n",
       "6   Dusseldorf   Barcelona  On 24 March 2015, Germanwings Flight 9525, an ...   \n",
       "7    Frankfurt    Duisburg  Schamer played his entire professional career ...   \n",
       "8     Duisburg   Frankfurt  Schamer played his entire professional career ...   \n",
       "9       London        Rome  Bildner grew up in Rio de Janeiro where she wa...   \n",
       "10      London      Vienna  Bildner grew up in Rio de Janeiro where she wa...   \n",
       "11      London    Augsburg  Bildner grew up in Rio de Janeiro where she wa...   \n",
       "12        Rome      London  Bildner grew up in Rio de Janeiro where she wa...   \n",
       "13        Rome      Vienna  Bildner grew up in Rio de Janeiro where she wa...   \n",
       "14        Rome    Augsburg  Bildner grew up in Rio de Janeiro where she wa...   \n",
       "15      Vienna      London  Bildner grew up in Rio de Janeiro where she wa...   \n",
       "16      Vienna        Rome  Bildner grew up in Rio de Janeiro where she wa...   \n",
       "17      Vienna    Augsburg  Bildner grew up in Rio de Janeiro where she wa...   \n",
       "18    Augsburg      London  Bildner grew up in Rio de Janeiro where she wa...   \n",
       "19    Augsburg        Rome  Bildner grew up in Rio de Janeiro where she wa...   \n",
       "\n",
       "    article_id                            title  \\\n",
       "0   15415861.0  Authon, Alpes-de-Haute-Provence   \n",
       "1   15416040.0                   Erik Glosimodt   \n",
       "2   15416040.0                   Erik Glosimodt   \n",
       "3   15416113.0                    Meolans-Revel   \n",
       "4   15416113.0                    Meolans-Revel   \n",
       "5   15416167.0               Prads-Haute-Bleone   \n",
       "6   15416167.0               Prads-Haute-Bleone   \n",
       "7   15416514.0                   Lothar Schamer   \n",
       "8   15416514.0                   Lothar Schamer   \n",
       "9   15416521.0                    Mossa Bildner   \n",
       "10  15416521.0                    Mossa Bildner   \n",
       "11  15416521.0                    Mossa Bildner   \n",
       "12  15416521.0                    Mossa Bildner   \n",
       "13  15416521.0                    Mossa Bildner   \n",
       "14  15416521.0                    Mossa Bildner   \n",
       "15  15416521.0                    Mossa Bildner   \n",
       "16  15416521.0                    Mossa Bildner   \n",
       "17  15416521.0                    Mossa Bildner   \n",
       "18  15416521.0                    Mossa Bildner   \n",
       "19  15416521.0                    Mossa Bildner   \n",
       "\n",
       "                                           merged_POS   topic_1   topic_2  \\\n",
       "0   ['honey', 'label', 'indication', 'honey', 'flo...  0.002758  0.002761   \n",
       "1   ['education', 'professor', 'architect', 'pract...  0.002758  0.002761   \n",
       "2   ['education', 'professor', 'architect', 'pract...  0.017678  0.017697   \n",
       "3                                 ['travel', 'crash']  0.468460  0.017697   \n",
       "4                                 ['travel', 'crash']  0.978201  0.004777   \n",
       "5   ['mountain', 'territory', 'commune', 'passenge...  0.978201  0.004777   \n",
       "6   ['mountain', 'territory', 'commune', 'passenge...  0.002418  0.002421   \n",
       "7   ['career', 'season', 'squad', 'goal', 'penalty...  0.002418  0.002421   \n",
       "8   ['career', 'season', 'squad', 'goal', 'penalty...  0.001026  0.681328   \n",
       "9   ['variety', 'music', 'teen', 'ceremony', 'love...  0.001026  0.498170   \n",
       "10  ['variety', 'music', 'teen', 'ceremony', 'love...  0.001026  0.890652   \n",
       "11  ['variety', 'music', 'teen', 'ceremony', 'love...  0.001026  0.733659   \n",
       "12  ['variety', 'music', 'teen', 'ceremony', 'love...  0.001026  0.576667   \n",
       "13  ['variety', 'music', 'teen', 'ceremony', 'love...  0.001026  0.628997   \n",
       "14  ['variety', 'music', 'teen', 'ceremony', 'love...  0.001026  0.681328   \n",
       "15  ['variety', 'music', 'teen', 'ceremony', 'love...  0.001026  0.550501   \n",
       "16  ['variety', 'music', 'teen', 'ceremony', 'love...  0.001026  0.681328   \n",
       "17  ['variety', 'music', 'teen', 'ceremony', 'love...  0.001026  0.498170   \n",
       "18  ['variety', 'music', 'teen', 'ceremony', 'love...  0.001026  0.628997   \n",
       "19  ['variety', 'music', 'teen', 'ceremony', 'love...  0.001026  0.524336   \n",
       "\n",
       "     topic_3   topic_4   topic_5 lda_dominant  lda_dominant_score  \n",
       "0   0.002960  0.002211  0.989310      topic_5            0.989310  \n",
       "1   0.002960  0.002211  0.989310      topic_5            0.989310  \n",
       "2   0.018973  0.915734  0.029918      topic_4            0.915734  \n",
       "3   0.018973  0.014171  0.480699      topic_5            0.480699  \n",
       "4   0.005121  0.003825  0.008076      topic_1            0.978201  \n",
       "5   0.005121  0.003825  0.008076      topic_1            0.978201  \n",
       "6   0.064254  0.926816  0.004092      topic_4            0.926816  \n",
       "7   0.002595  0.988474  0.004092      topic_4            0.988474  \n",
       "8   0.001101  0.000823  0.315722      topic_2            0.681328  \n",
       "9   0.001101  0.000823  0.498880      topic_5            0.498880  \n",
       "10  0.001101  0.000823  0.106398      topic_2            0.890652  \n",
       "11  0.001101  0.000823  0.263391      topic_2            0.733659  \n",
       "12  0.001101  0.000823  0.420383      topic_2            0.576667  \n",
       "13  0.001101  0.000823  0.368053      topic_2            0.628997  \n",
       "14  0.001101  0.000823  0.315722      topic_2            0.681328  \n",
       "15  0.001101  0.000823  0.446549      topic_2            0.550501  \n",
       "16  0.001101  0.000823  0.315722      topic_2            0.681328  \n",
       "17  0.001101  0.000823  0.498880      topic_5            0.498880  \n",
       "18  0.001101  0.000823  0.368053      topic_2            0.628997  \n",
       "19  0.001101  0.000823  0.472714      topic_2            0.524336  "
      ]
     },
     "execution_count": 264,
     "metadata": {},
     "output_type": "execute_result"
    }
   ],
   "source": [
    "test.iloc[0:20]"
   ]
  },
  {
   "cell_type": "code",
   "execution_count": 274,
   "id": "b34e6ef1",
   "metadata": {},
   "outputs": [
    {
     "data": {
      "application/vnd.jupyter.widget-view+json": {
       "model_id": "e036fbe3a54d4577a62692a511bc989c",
       "version_major": 2,
       "version_minor": 0
      },
      "text/plain": [
       "  0%|          | 0/20 [00:00<?, ?it/s]"
      ]
     },
     "metadata": {},
     "output_type": "display_data"
    },
    {
     "data": {
      "application/vnd.jupyter.widget-view+json": {
       "model_id": "08d7da5f275b4f27b416887fbe96f431",
       "version_major": 2,
       "version_minor": 0
      },
      "text/plain": [
       "  0%|          | 0/103820 [00:00<?, ?it/s]"
      ]
     },
     "metadata": {},
     "output_type": "display_data"
    },
    {
     "data": {
      "application/vnd.jupyter.widget-view+json": {
       "model_id": "946367a6adae4ef0897e28c1ca304d98",
       "version_major": 2,
       "version_minor": 0
      },
      "text/plain": [
       "  0%|          | 0/103820 [00:00<?, ?it/s]"
      ]
     },
     "metadata": {},
     "output_type": "display_data"
    },
    {
     "data": {
      "application/vnd.jupyter.widget-view+json": {
       "model_id": "4b8fc4076bc94a4e8939127800b3e798",
       "version_major": 2,
       "version_minor": 0
      },
      "text/plain": [
       "  0%|          | 0/103820 [00:00<?, ?it/s]"
      ]
     },
     "metadata": {},
     "output_type": "display_data"
    },
    {
     "data": {
      "application/vnd.jupyter.widget-view+json": {
       "model_id": "e2dbf1e6e8e84c4ea1df1fcb1049c584",
       "version_major": 2,
       "version_minor": 0
      },
      "text/plain": [
       "  0%|          | 0/103820 [00:00<?, ?it/s]"
      ]
     },
     "metadata": {},
     "output_type": "display_data"
    },
    {
     "data": {
      "application/vnd.jupyter.widget-view+json": {
       "model_id": "83d348b8ca844cbabf6a20e5da051541",
       "version_major": 2,
       "version_minor": 0
      },
      "text/plain": [
       "  0%|          | 0/103820 [00:00<?, ?it/s]"
      ]
     },
     "metadata": {},
     "output_type": "display_data"
    },
    {
     "data": {
      "application/vnd.jupyter.widget-view+json": {
       "model_id": "2109a52d1ce14a4e894a777c30ae43e3",
       "version_major": 2,
       "version_minor": 0
      },
      "text/plain": [
       "  0%|          | 0/103820 [00:00<?, ?it/s]"
      ]
     },
     "metadata": {},
     "output_type": "display_data"
    },
    {
     "data": {
      "application/vnd.jupyter.widget-view+json": {
       "model_id": "89f0c2217890475eb4ddacc3f8711538",
       "version_major": 2,
       "version_minor": 0
      },
      "text/plain": [
       "  0%|          | 0/103820 [00:00<?, ?it/s]"
      ]
     },
     "metadata": {},
     "output_type": "display_data"
    },
    {
     "data": {
      "application/vnd.jupyter.widget-view+json": {
       "model_id": "4ac81eaceb3c4c8c80f1d152d73b2591",
       "version_major": 2,
       "version_minor": 0
      },
      "text/plain": [
       "  0%|          | 0/103820 [00:00<?, ?it/s]"
      ]
     },
     "metadata": {},
     "output_type": "display_data"
    },
    {
     "data": {
      "application/vnd.jupyter.widget-view+json": {
       "model_id": "ad833ae31a194925bdd31b4e361a6e40",
       "version_major": 2,
       "version_minor": 0
      },
      "text/plain": [
       "  0%|          | 0/103820 [00:00<?, ?it/s]"
      ]
     },
     "metadata": {},
     "output_type": "display_data"
    },
    {
     "data": {
      "application/vnd.jupyter.widget-view+json": {
       "model_id": "d392eafc61594562af30a19d6b266a08",
       "version_major": 2,
       "version_minor": 0
      },
      "text/plain": [
       "  0%|          | 0/103820 [00:00<?, ?it/s]"
      ]
     },
     "metadata": {},
     "output_type": "display_data"
    },
    {
     "data": {
      "application/vnd.jupyter.widget-view+json": {
       "model_id": "c45532e1f7fb4f3396f66108852b4f94",
       "version_major": 2,
       "version_minor": 0
      },
      "text/plain": [
       "  0%|          | 0/103821 [00:00<?, ?it/s]"
      ]
     },
     "metadata": {},
     "output_type": "display_data"
    },
    {
     "data": {
      "application/vnd.jupyter.widget-view+json": {
       "model_id": "4eebd1dea83e4bc28d60ea2eb5ed79ab",
       "version_major": 2,
       "version_minor": 0
      },
      "text/plain": [
       "  0%|          | 0/103820 [00:00<?, ?it/s]"
      ]
     },
     "metadata": {},
     "output_type": "display_data"
    },
    {
     "data": {
      "application/vnd.jupyter.widget-view+json": {
       "model_id": "e4ba38d3bd7848719130faefa6d15c01",
       "version_major": 2,
       "version_minor": 0
      },
      "text/plain": [
       "  0%|          | 0/103821 [00:00<?, ?it/s]"
      ]
     },
     "metadata": {},
     "output_type": "display_data"
    },
    {
     "data": {
      "application/vnd.jupyter.widget-view+json": {
       "model_id": "7c65aa30f87b450799275b9b69246f2d",
       "version_major": 2,
       "version_minor": 0
      },
      "text/plain": [
       "  0%|          | 0/103821 [00:00<?, ?it/s]"
      ]
     },
     "metadata": {},
     "output_type": "display_data"
    },
    {
     "data": {
      "application/vnd.jupyter.widget-view+json": {
       "model_id": "6250f4892d5444609f2602f6be34413d",
       "version_major": 2,
       "version_minor": 0
      },
      "text/plain": [
       "  0%|          | 0/103821 [00:00<?, ?it/s]"
      ]
     },
     "metadata": {},
     "output_type": "display_data"
    },
    {
     "data": {
      "application/vnd.jupyter.widget-view+json": {
       "model_id": "dd9178cf3db249a884a5c879710410cf",
       "version_major": 2,
       "version_minor": 0
      },
      "text/plain": [
       "  0%|          | 0/103820 [00:00<?, ?it/s]"
      ]
     },
     "metadata": {},
     "output_type": "display_data"
    },
    {
     "data": {
      "application/vnd.jupyter.widget-view+json": {
       "model_id": "59b8496dce05418a9b483383ff6a4a1e",
       "version_major": 2,
       "version_minor": 0
      },
      "text/plain": [
       "  0%|          | 0/103820 [00:00<?, ?it/s]"
      ]
     },
     "metadata": {},
     "output_type": "display_data"
    },
    {
     "data": {
      "application/vnd.jupyter.widget-view+json": {
       "model_id": "b35f1b7edf524b2dbf8c68d9a2cecb26",
       "version_major": 2,
       "version_minor": 0
      },
      "text/plain": [
       "  0%|          | 0/103820 [00:00<?, ?it/s]"
      ]
     },
     "metadata": {},
     "output_type": "display_data"
    },
    {
     "data": {
      "application/vnd.jupyter.widget-view+json": {
       "model_id": "734838d1c76c46d79429cbc487a244ee",
       "version_major": 2,
       "version_minor": 0
      },
      "text/plain": [
       "  0%|          | 0/103820 [00:00<?, ?it/s]"
      ]
     },
     "metadata": {},
     "output_type": "display_data"
    },
    {
     "data": {
      "application/vnd.jupyter.widget-view+json": {
       "model_id": "646b52e845eb4af7a642a1a6b519fdd6",
       "version_major": 2,
       "version_minor": 0
      },
      "text/plain": [
       "  0%|          | 0/103820 [00:00<?, ?it/s]"
      ]
     },
     "metadata": {},
     "output_type": "display_data"
    },
    {
     "name": "stdout",
     "output_type": "stream",
     "text": [
      "CPU times: total: 3h 9min 2s\n",
      "Wall time: 3h 43min 15s\n"
     ]
    }
   ],
   "source": [
    "%%time\n",
    "# ~40 mins for 311k paragraphs\n",
    "\n",
    "from ast import literal_eval\n",
    "\n",
    "\n",
    "for file in tqdm(os.listdir(paragraphs_with_lda_prediction_path)):\n",
    "    saving_path = os.path.join(lda_models_dir, model_dir, \"paragraphs_word_embedding_categorisation2/\")\n",
    "    abs_saving_path = os.path.join(os.path.abspath(saving_path), f\"{file.split('_lda_')[0]}_embedding_categorisation.csv\")\n",
    "    \n",
    "    if os.path.exists(abs_saving_path):\n",
    "        print('exists.')\n",
    "        continue\n",
    "    \n",
    "    sample_path = os.path.join(paragraphs_with_lda_prediction_path, file)\n",
    "    sample =  pd.read_csv(sample_path)\n",
    "    # sample = sample[:5000]\n",
    "    \n",
    "    if isinstance(sample['merged_POS'][0], str):\n",
    "        # print(sample['merged_POS'][0], type(sample['merged_POS'][0]))\n",
    "        sample['merged_POS'] = sample['merged_POS'].apply(literal_eval)\n",
    "        # print('check')\n",
    "    \n",
    "    # print(type(sample['merged_POS'][0]))\n",
    "    \n",
    "    topics = [key for key in list(sorted(mean_vectors_dict.keys()))]\n",
    "    nested_l = [['index']+topics+['embedding_dominant']]\n",
    "\n",
    "    for idx, row in tqdm(sample['merged_POS'].iteritems(), total=len(sample['merged_POS'])):\n",
    "        output = categorize_text(lemmatized_wordlist=row, mean_vectors_dict=mean_vectors_dict, keywords=topics, embeddings_dict=embeddings_dict, bottom_threshold=bottom_threshold, verbose1=verbose1, verbose2=verbose2)\n",
    "\n",
    "        temp_l = [idx] +[result[1] for result in output['category_similarities']] + [output['prediction']]\n",
    "\n",
    "        #print(row, output['category_similarities'])\n",
    "\n",
    "        if len(nested_l[0]) != len(temp_l):\n",
    "            raise Exception('Not the same size!')\n",
    "\n",
    "        nested_l.append(temp_l)\n",
    "\n",
    "\n",
    "    prediction_df = pd.DataFrame(nested_l[1:],columns=nested_l[0]).set_index('index')\n",
    "    \n",
    "    updated_df = sample.join(prediction_df)\n",
    "    updated_df['same_categorisation'] = updated_df.apply(lambda x: x.lda_dominant.endswith(x.embedding_dominant[-1]), axis=1) # (updated_df['embedding_dominant'].isin('lda_dominant') 'lda_dominant'].str.contains() == updated_df['outcome'])\n",
    "    \n",
    "    updated_df.to_csv(abs_saving_path, index=False)"
   ]
  },
  {
   "cell_type": "code",
   "execution_count": 276,
   "id": "e8d7c355",
   "metadata": {},
   "outputs": [
    {
     "data": {
      "text/plain": [
       "['paragraphs_10_934384_1038204_embedding_categorisation.csv',\n",
       " 'paragraphs_11_1038204_1142024_embedding_categorisation.csv',\n",
       " 'paragraphs_12_1142024_1245844_embedding_categorisation.csv',\n",
       " 'paragraphs_13_1245844_1349664_embedding_categorisation.csv',\n",
       " 'paragraphs_14_1349664_1453484_embedding_categorisation.csv',\n",
       " 'paragraphs_15_1453484_1557304_embedding_categorisation.csv',\n",
       " 'paragraphs_16_1557304_1661124_embedding_categorisation.csv',\n",
       " 'paragraphs_17_1661124_1764944_embedding_categorisation.csv',\n",
       " 'paragraphs_18_1764944_1868764_embedding_categorisation.csv',\n",
       " 'paragraphs_19_1868764_1972584_embedding_categorisation.csv',\n",
       " 'paragraphs_1_0_103821_embedding_categorisation.csv',\n",
       " 'paragraphs_20_1972584_2076404_embedding_categorisation.csv',\n",
       " 'paragraphs_2_103821_207642_embedding_categorisation.csv',\n",
       " 'paragraphs_3_207642_311463_embedding_categorisation.csv',\n",
       " 'paragraphs_4_311463_415284_embedding_categorisation.csv',\n",
       " 'paragraphs_5_415284_519104_embedding_categorisation.csv',\n",
       " 'paragraphs_6_519104_622924_embedding_categorisation.csv',\n",
       " 'paragraphs_7_622924_726744_embedding_categorisation.csv',\n",
       " 'paragraphs_8_726744_830564_embedding_categorisation.csv',\n",
       " 'paragraphs_9_830564_934384_embedding_categorisation.csv']"
      ]
     },
     "execution_count": 276,
     "metadata": {},
     "output_type": "execute_result"
    }
   ],
   "source": [
    "os.listdir(saving_path)"
   ]
  },
  {
   "cell_type": "code",
   "execution_count": 204,
   "id": "416974ca",
   "metadata": {},
   "outputs": [
    {
     "data": {
      "text/plain": [
       "'paragraphs_10_934385_1038205'"
      ]
     },
     "execution_count": 204,
     "metadata": {},
     "output_type": "execute_result"
    }
   ],
   "source": [
    "file.split('_lda_')[0]"
   ]
  },
  {
   "cell_type": "code",
   "execution_count": 234,
   "id": "a6564c90",
   "metadata": {},
   "outputs": [
    {
     "data": {
      "text/plain": [
       "'C:\\\\Users\\\\diede\\\\Personal Files [Local]\\\\Applied Data Science\\\\Thesis - CITYNET\\\\data_clean\\\\lda_models\\\\lda_model_2millionDocs_5topics\\\\paragraphs_word_embedding_categorisation\\\\paragraphs_11_1038205_1142025_embedding.csv'"
      ]
     },
     "execution_count": 234,
     "metadata": {},
     "output_type": "execute_result"
    }
   ],
   "source": [
    "\n",
    "os.path.join(os.path.abspath(saving_path), c)"
   ]
  },
  {
   "cell_type": "code",
   "execution_count": 194,
   "id": "09d5f871",
   "metadata": {},
   "outputs": [
    {
     "data": {
      "text/plain": [
       "True"
      ]
     },
     "execution_count": 194,
     "metadata": {},
     "output_type": "execute_result"
    }
   ],
   "source": [
    "os.path.exists(saving_path)"
   ]
  },
  {
   "cell_type": "code",
   "execution_count": 267,
   "id": "2a387bce",
   "metadata": {},
   "outputs": [
    {
     "data": {
      "text/html": [
       "<div>\n",
       "<style scoped>\n",
       "    .dataframe tbody tr th:only-of-type {\n",
       "        vertical-align: middle;\n",
       "    }\n",
       "\n",
       "    .dataframe tbody tr th {\n",
       "        vertical-align: top;\n",
       "    }\n",
       "\n",
       "    .dataframe thead th {\n",
       "        text-align: right;\n",
       "    }\n",
       "</style>\n",
       "<table border=\"1\" class=\"dataframe\">\n",
       "  <thead>\n",
       "    <tr style=\"text-align: right;\">\n",
       "      <th></th>\n",
       "      <th>Topic 1</th>\n",
       "      <th>Topic 2</th>\n",
       "      <th>Topic 3</th>\n",
       "      <th>Topic 4</th>\n",
       "      <th>Topic 5</th>\n",
       "      <th>embedding_dominant</th>\n",
       "    </tr>\n",
       "    <tr>\n",
       "      <th>index</th>\n",
       "      <th></th>\n",
       "      <th></th>\n",
       "      <th></th>\n",
       "      <th></th>\n",
       "      <th></th>\n",
       "      <th></th>\n",
       "    </tr>\n",
       "  </thead>\n",
       "  <tbody>\n",
       "    <tr>\n",
       "      <th>0</th>\n",
       "      <td>6.492346</td>\n",
       "      <td>1.263454</td>\n",
       "      <td>1.981242</td>\n",
       "      <td>1.216145</td>\n",
       "      <td>2.069049</td>\n",
       "      <td>Topic 1</td>\n",
       "    </tr>\n",
       "    <tr>\n",
       "      <th>1</th>\n",
       "      <td>6.492346</td>\n",
       "      <td>1.263454</td>\n",
       "      <td>1.981242</td>\n",
       "      <td>1.216145</td>\n",
       "      <td>2.069049</td>\n",
       "      <td>Topic 1</td>\n",
       "    </tr>\n",
       "    <tr>\n",
       "      <th>2</th>\n",
       "      <td>1.500070</td>\n",
       "      <td>0.000000</td>\n",
       "      <td>1.286127</td>\n",
       "      <td>0.000000</td>\n",
       "      <td>4.980572</td>\n",
       "      <td>Topic 5</td>\n",
       "    </tr>\n",
       "    <tr>\n",
       "      <th>3</th>\n",
       "      <td>1.500070</td>\n",
       "      <td>0.000000</td>\n",
       "      <td>1.286127</td>\n",
       "      <td>0.000000</td>\n",
       "      <td>4.980572</td>\n",
       "      <td>Topic 5</td>\n",
       "    </tr>\n",
       "    <tr>\n",
       "      <th>4</th>\n",
       "      <td>1.018640</td>\n",
       "      <td>0.000000</td>\n",
       "      <td>0.000000</td>\n",
       "      <td>0.000000</td>\n",
       "      <td>0.000000</td>\n",
       "      <td>Topic 1</td>\n",
       "    </tr>\n",
       "    <tr>\n",
       "      <th>...</th>\n",
       "      <td>...</td>\n",
       "      <td>...</td>\n",
       "      <td>...</td>\n",
       "      <td>...</td>\n",
       "      <td>...</td>\n",
       "      <td>...</td>\n",
       "    </tr>\n",
       "    <tr>\n",
       "      <th>4995</th>\n",
       "      <td>0.781117</td>\n",
       "      <td>0.790643</td>\n",
       "      <td>0.392753</td>\n",
       "      <td>1.041798</td>\n",
       "      <td>7.756727</td>\n",
       "      <td>Topic 5</td>\n",
       "    </tr>\n",
       "    <tr>\n",
       "      <th>4996</th>\n",
       "      <td>0.682769</td>\n",
       "      <td>0.781159</td>\n",
       "      <td>3.412686</td>\n",
       "      <td>1.367645</td>\n",
       "      <td>10.386795</td>\n",
       "      <td>Topic 5</td>\n",
       "    </tr>\n",
       "    <tr>\n",
       "      <th>4997</th>\n",
       "      <td>0.682769</td>\n",
       "      <td>0.781159</td>\n",
       "      <td>3.412686</td>\n",
       "      <td>1.367645</td>\n",
       "      <td>10.386795</td>\n",
       "      <td>Topic 5</td>\n",
       "    </tr>\n",
       "    <tr>\n",
       "      <th>4998</th>\n",
       "      <td>0.682769</td>\n",
       "      <td>0.781159</td>\n",
       "      <td>3.412686</td>\n",
       "      <td>1.367645</td>\n",
       "      <td>10.386795</td>\n",
       "      <td>Topic 5</td>\n",
       "    </tr>\n",
       "    <tr>\n",
       "      <th>4999</th>\n",
       "      <td>0.682769</td>\n",
       "      <td>0.781159</td>\n",
       "      <td>3.412686</td>\n",
       "      <td>1.367645</td>\n",
       "      <td>10.386795</td>\n",
       "      <td>Topic 5</td>\n",
       "    </tr>\n",
       "  </tbody>\n",
       "</table>\n",
       "<p>5000 rows × 6 columns</p>\n",
       "</div>"
      ],
      "text/plain": [
       "        Topic 1   Topic 2   Topic 3   Topic 4    Topic 5 embedding_dominant\n",
       "index                                                                      \n",
       "0      6.492346  1.263454  1.981242  1.216145   2.069049            Topic 1\n",
       "1      6.492346  1.263454  1.981242  1.216145   2.069049            Topic 1\n",
       "2      1.500070  0.000000  1.286127  0.000000   4.980572            Topic 5\n",
       "3      1.500070  0.000000  1.286127  0.000000   4.980572            Topic 5\n",
       "4      1.018640  0.000000  0.000000  0.000000   0.000000            Topic 1\n",
       "...         ...       ...       ...       ...        ...                ...\n",
       "4995   0.781117  0.790643  0.392753  1.041798   7.756727            Topic 5\n",
       "4996   0.682769  0.781159  3.412686  1.367645  10.386795            Topic 5\n",
       "4997   0.682769  0.781159  3.412686  1.367645  10.386795            Topic 5\n",
       "4998   0.682769  0.781159  3.412686  1.367645  10.386795            Topic 5\n",
       "4999   0.682769  0.781159  3.412686  1.367645  10.386795            Topic 5\n",
       "\n",
       "[5000 rows x 6 columns]"
      ]
     },
     "execution_count": 267,
     "metadata": {},
     "output_type": "execute_result"
    }
   ],
   "source": [
    "prediction_df"
   ]
  },
  {
   "cell_type": "code",
   "execution_count": 268,
   "id": "43b048b3",
   "metadata": {},
   "outputs": [
    {
     "data": {
      "text/plain": [
       "Topic 5    1516\n",
       "Topic 4    1056\n",
       "Topic 3     898\n",
       "Topic 1     774\n",
       "Topic 2     756\n",
       "Name: embedding_dominant, dtype: int64"
      ]
     },
     "execution_count": 268,
     "metadata": {},
     "output_type": "execute_result"
    }
   ],
   "source": [
    "prediction_df['embedding_dominant'].value_counts()"
   ]
  },
  {
   "cell_type": "markdown",
   "id": "0c68a1b4",
   "metadata": {},
   "source": [
    "### 6. Insert classification into dataset"
   ]
  },
  {
   "cell_type": "code",
   "execution_count": null,
   "id": "5bddb5d0",
   "metadata": {},
   "outputs": [],
   "source": [
    "updated_df = sample.join(prediction_df)\n",
    "updated_df.head(2)"
   ]
  },
  {
   "cell_type": "code",
   "execution_count": 270,
   "id": "fd8e6e48",
   "metadata": {},
   "outputs": [],
   "source": [
    "updated_df['same_categorisation'] = updated_df.apply(lambda x: x.lda_dominant.endswith(x.embedding_dominant[-1]), axis=1) # (updated_df['embedding_dominant'].isin('lda_dominant') 'lda_dominant'].str.contains() == updated_df['outcome'])"
   ]
  },
  {
   "cell_type": "markdown",
   "id": "a1d8d44f",
   "metadata": {},
   "source": [
    "## Saving \"Classified Paragraphs\" Dataframe"
   ]
  },
  {
   "cell_type": "code",
   "execution_count": 271,
   "id": "f626d5a8",
   "metadata": {},
   "outputs": [
    {
     "data": {
      "text/html": [
       "<div>\n",
       "<style scoped>\n",
       "    .dataframe tbody tr th:only-of-type {\n",
       "        vertical-align: middle;\n",
       "    }\n",
       "\n",
       "    .dataframe tbody tr th {\n",
       "        vertical-align: top;\n",
       "    }\n",
       "\n",
       "    .dataframe thead th {\n",
       "        text-align: right;\n",
       "    }\n",
       "</style>\n",
       "<table border=\"1\" class=\"dataframe\">\n",
       "  <thead>\n",
       "    <tr style=\"text-align: right;\">\n",
       "      <th></th>\n",
       "      <th>paragraph_id</th>\n",
       "      <th>city_1</th>\n",
       "      <th>city_2</th>\n",
       "      <th>paragraph</th>\n",
       "      <th>article_id</th>\n",
       "      <th>title</th>\n",
       "      <th>merged_POS</th>\n",
       "      <th>topic_1</th>\n",
       "      <th>topic_2</th>\n",
       "      <th>topic_3</th>\n",
       "      <th>...</th>\n",
       "      <th>topic_5</th>\n",
       "      <th>lda_dominant</th>\n",
       "      <th>lda_dominant_score</th>\n",
       "      <th>Topic 1</th>\n",
       "      <th>Topic 2</th>\n",
       "      <th>Topic 3</th>\n",
       "      <th>Topic 4</th>\n",
       "      <th>Topic 5</th>\n",
       "      <th>embedding_dominant</th>\n",
       "      <th>same_categorisation</th>\n",
       "    </tr>\n",
       "  </thead>\n",
       "  <tbody>\n",
       "    <tr>\n",
       "      <th>0</th>\n",
       "      <td>934385</td>\n",
       "      <td>Toulon</td>\n",
       "      <td>Marseille</td>\n",
       "      <td>Honey from Provence is protected by a red labe...</td>\n",
       "      <td>15415861</td>\n",
       "      <td>Authon, Alpes-de-Haute-Provence</td>\n",
       "      <td>[honey, label, indication, honey, flower, hone...</td>\n",
       "      <td>0.995948</td>\n",
       "      <td>0.000888</td>\n",
       "      <td>0.000952</td>\n",
       "      <td>...</td>\n",
       "      <td>0.001501</td>\n",
       "      <td>topic_1</td>\n",
       "      <td>0.995948</td>\n",
       "      <td>6.492346</td>\n",
       "      <td>1.263454</td>\n",
       "      <td>1.981242</td>\n",
       "      <td>1.216145</td>\n",
       "      <td>2.069049</td>\n",
       "      <td>Topic 1</td>\n",
       "      <td>True</td>\n",
       "    </tr>\n",
       "    <tr>\n",
       "      <th>1</th>\n",
       "      <td>934386</td>\n",
       "      <td>Toulon</td>\n",
       "      <td>Nice</td>\n",
       "      <td>Honey from Provence is protected by a red labe...</td>\n",
       "      <td>15415861</td>\n",
       "      <td>Authon, Alpes-de-Haute-Provence</td>\n",
       "      <td>[honey, label, indication, honey, flower, hone...</td>\n",
       "      <td>0.950718</td>\n",
       "      <td>0.000888</td>\n",
       "      <td>0.023567</td>\n",
       "      <td>...</td>\n",
       "      <td>0.024116</td>\n",
       "      <td>topic_1</td>\n",
       "      <td>0.950718</td>\n",
       "      <td>6.492346</td>\n",
       "      <td>1.263454</td>\n",
       "      <td>1.981242</td>\n",
       "      <td>1.216145</td>\n",
       "      <td>2.069049</td>\n",
       "      <td>Topic 1</td>\n",
       "      <td>True</td>\n",
       "    </tr>\n",
       "    <tr>\n",
       "      <th>2</th>\n",
       "      <td>934387</td>\n",
       "      <td>Copenhagen</td>\n",
       "      <td>Oslo</td>\n",
       "      <td>Glosimodt was born in Oslo, Norway. He studied...</td>\n",
       "      <td>15416040</td>\n",
       "      <td>Erik Glosimodt</td>\n",
       "      <td>[education, professor, architect, practice, tr...</td>\n",
       "      <td>0.002758</td>\n",
       "      <td>0.002761</td>\n",
       "      <td>0.002960</td>\n",
       "      <td>...</td>\n",
       "      <td>0.989310</td>\n",
       "      <td>topic_5</td>\n",
       "      <td>0.989310</td>\n",
       "      <td>1.500070</td>\n",
       "      <td>0.000000</td>\n",
       "      <td>1.286127</td>\n",
       "      <td>0.000000</td>\n",
       "      <td>4.980572</td>\n",
       "      <td>Topic 5</td>\n",
       "      <td>True</td>\n",
       "    </tr>\n",
       "    <tr>\n",
       "      <th>3</th>\n",
       "      <td>934388</td>\n",
       "      <td>Oslo</td>\n",
       "      <td>Copenhagen</td>\n",
       "      <td>Glosimodt was born in Oslo, Norway. He studied...</td>\n",
       "      <td>15416040</td>\n",
       "      <td>Erik Glosimodt</td>\n",
       "      <td>[education, professor, architect, practice, tr...</td>\n",
       "      <td>0.002758</td>\n",
       "      <td>0.002761</td>\n",
       "      <td>0.002960</td>\n",
       "      <td>...</td>\n",
       "      <td>0.989310</td>\n",
       "      <td>topic_5</td>\n",
       "      <td>0.989310</td>\n",
       "      <td>1.500070</td>\n",
       "      <td>0.000000</td>\n",
       "      <td>1.286127</td>\n",
       "      <td>0.000000</td>\n",
       "      <td>4.980572</td>\n",
       "      <td>Topic 5</td>\n",
       "      <td>True</td>\n",
       "    </tr>\n",
       "    <tr>\n",
       "      <th>4</th>\n",
       "      <td>934389</td>\n",
       "      <td>Barcelona</td>\n",
       "      <td>Dusseldorf</td>\n",
       "      <td>On the 24 March 2015, Germanwings Flight 9525 ...</td>\n",
       "      <td>15416113</td>\n",
       "      <td>Meolans-Revel</td>\n",
       "      <td>[travel, crash]</td>\n",
       "      <td>0.017678</td>\n",
       "      <td>0.017697</td>\n",
       "      <td>0.018973</td>\n",
       "      <td>...</td>\n",
       "      <td>0.029918</td>\n",
       "      <td>topic_4</td>\n",
       "      <td>0.915734</td>\n",
       "      <td>1.018640</td>\n",
       "      <td>0.000000</td>\n",
       "      <td>0.000000</td>\n",
       "      <td>0.000000</td>\n",
       "      <td>0.000000</td>\n",
       "      <td>Topic 1</td>\n",
       "      <td>False</td>\n",
       "    </tr>\n",
       "    <tr>\n",
       "      <th>...</th>\n",
       "      <td>...</td>\n",
       "      <td>...</td>\n",
       "      <td>...</td>\n",
       "      <td>...</td>\n",
       "      <td>...</td>\n",
       "      <td>...</td>\n",
       "      <td>...</td>\n",
       "      <td>...</td>\n",
       "      <td>...</td>\n",
       "      <td>...</td>\n",
       "      <td>...</td>\n",
       "      <td>...</td>\n",
       "      <td>...</td>\n",
       "      <td>...</td>\n",
       "      <td>...</td>\n",
       "      <td>...</td>\n",
       "      <td>...</td>\n",
       "      <td>...</td>\n",
       "      <td>...</td>\n",
       "      <td>...</td>\n",
       "      <td>...</td>\n",
       "    </tr>\n",
       "    <tr>\n",
       "      <th>4995</th>\n",
       "      <td>939380</td>\n",
       "      <td>Granada</td>\n",
       "      <td>London</td>\n",
       "      <td>Whilst working on his doctoral research, he to...</td>\n",
       "      <td>15638645</td>\n",
       "      <td>Simon Thurley</td>\n",
       "      <td>[research, post, director, history, broadcaste...</td>\n",
       "      <td>0.042910</td>\n",
       "      <td>0.290658</td>\n",
       "      <td>0.001738</td>\n",
       "      <td>...</td>\n",
       "      <td>0.663396</td>\n",
       "      <td>topic_5</td>\n",
       "      <td>0.663396</td>\n",
       "      <td>0.781117</td>\n",
       "      <td>0.790643</td>\n",
       "      <td>0.392753</td>\n",
       "      <td>1.041798</td>\n",
       "      <td>7.756727</td>\n",
       "      <td>Topic 5</td>\n",
       "      <td>True</td>\n",
       "    </tr>\n",
       "    <tr>\n",
       "      <th>4996</th>\n",
       "      <td>939381</td>\n",
       "      <td>Rome</td>\n",
       "      <td>Amsterdam</td>\n",
       "      <td>He was sent to the Cape of Good Hope with lett...</td>\n",
       "      <td>15638655</td>\n",
       "      <td>Peter Kolbe</td>\n",
       "      <td>[letter, introduction, mayor, mandate, descrip...</td>\n",
       "      <td>0.000751</td>\n",
       "      <td>0.000752</td>\n",
       "      <td>0.058257</td>\n",
       "      <td>...</td>\n",
       "      <td>0.939638</td>\n",
       "      <td>topic_5</td>\n",
       "      <td>0.939638</td>\n",
       "      <td>0.682769</td>\n",
       "      <td>0.781159</td>\n",
       "      <td>3.412686</td>\n",
       "      <td>1.367645</td>\n",
       "      <td>10.386795</td>\n",
       "      <td>Topic 5</td>\n",
       "      <td>True</td>\n",
       "    </tr>\n",
       "    <tr>\n",
       "      <th>4997</th>\n",
       "      <td>939382</td>\n",
       "      <td>Rome</td>\n",
       "      <td>Nuremberg</td>\n",
       "      <td>He was sent to the Cape of Good Hope with lett...</td>\n",
       "      <td>15638655</td>\n",
       "      <td>Peter Kolbe</td>\n",
       "      <td>[letter, introduction, mayor, mandate, descrip...</td>\n",
       "      <td>0.000751</td>\n",
       "      <td>0.000752</td>\n",
       "      <td>0.000806</td>\n",
       "      <td>...</td>\n",
       "      <td>0.997089</td>\n",
       "      <td>topic_5</td>\n",
       "      <td>0.997089</td>\n",
       "      <td>0.682769</td>\n",
       "      <td>0.781159</td>\n",
       "      <td>3.412686</td>\n",
       "      <td>1.367645</td>\n",
       "      <td>10.386795</td>\n",
       "      <td>Topic 5</td>\n",
       "      <td>True</td>\n",
       "    </tr>\n",
       "    <tr>\n",
       "      <th>4998</th>\n",
       "      <td>939383</td>\n",
       "      <td>Amsterdam</td>\n",
       "      <td>Rome</td>\n",
       "      <td>He was sent to the Cape of Good Hope with lett...</td>\n",
       "      <td>15638655</td>\n",
       "      <td>Peter Kolbe</td>\n",
       "      <td>[letter, introduction, mayor, mandate, descrip...</td>\n",
       "      <td>0.019901</td>\n",
       "      <td>0.000752</td>\n",
       "      <td>0.000806</td>\n",
       "      <td>...</td>\n",
       "      <td>0.977939</td>\n",
       "      <td>topic_5</td>\n",
       "      <td>0.977939</td>\n",
       "      <td>0.682769</td>\n",
       "      <td>0.781159</td>\n",
       "      <td>3.412686</td>\n",
       "      <td>1.367645</td>\n",
       "      <td>10.386795</td>\n",
       "      <td>Topic 5</td>\n",
       "      <td>True</td>\n",
       "    </tr>\n",
       "    <tr>\n",
       "      <th>4999</th>\n",
       "      <td>939384</td>\n",
       "      <td>Amsterdam</td>\n",
       "      <td>Nuremberg</td>\n",
       "      <td>He was sent to the Cape of Good Hope with lett...</td>\n",
       "      <td>15638655</td>\n",
       "      <td>Peter Kolbe</td>\n",
       "      <td>[letter, introduction, mayor, mandate, descrip...</td>\n",
       "      <td>0.000751</td>\n",
       "      <td>0.000752</td>\n",
       "      <td>0.000806</td>\n",
       "      <td>...</td>\n",
       "      <td>0.997089</td>\n",
       "      <td>topic_5</td>\n",
       "      <td>0.997089</td>\n",
       "      <td>0.682769</td>\n",
       "      <td>0.781159</td>\n",
       "      <td>3.412686</td>\n",
       "      <td>1.367645</td>\n",
       "      <td>10.386795</td>\n",
       "      <td>Topic 5</td>\n",
       "      <td>True</td>\n",
       "    </tr>\n",
       "  </tbody>\n",
       "</table>\n",
       "<p>5000 rows × 21 columns</p>\n",
       "</div>"
      ],
      "text/plain": [
       "      paragraph_id      city_1      city_2  \\\n",
       "0           934385      Toulon   Marseille   \n",
       "1           934386      Toulon        Nice   \n",
       "2           934387  Copenhagen        Oslo   \n",
       "3           934388        Oslo  Copenhagen   \n",
       "4           934389   Barcelona  Dusseldorf   \n",
       "...            ...         ...         ...   \n",
       "4995        939380     Granada      London   \n",
       "4996        939381        Rome   Amsterdam   \n",
       "4997        939382        Rome   Nuremberg   \n",
       "4998        939383   Amsterdam        Rome   \n",
       "4999        939384   Amsterdam   Nuremberg   \n",
       "\n",
       "                                              paragraph  article_id  \\\n",
       "0     Honey from Provence is protected by a red labe...    15415861   \n",
       "1     Honey from Provence is protected by a red labe...    15415861   \n",
       "2     Glosimodt was born in Oslo, Norway. He studied...    15416040   \n",
       "3     Glosimodt was born in Oslo, Norway. He studied...    15416040   \n",
       "4     On the 24 March 2015, Germanwings Flight 9525 ...    15416113   \n",
       "...                                                 ...         ...   \n",
       "4995  Whilst working on his doctoral research, he to...    15638645   \n",
       "4996  He was sent to the Cape of Good Hope with lett...    15638655   \n",
       "4997  He was sent to the Cape of Good Hope with lett...    15638655   \n",
       "4998  He was sent to the Cape of Good Hope with lett...    15638655   \n",
       "4999  He was sent to the Cape of Good Hope with lett...    15638655   \n",
       "\n",
       "                                title  \\\n",
       "0     Authon, Alpes-de-Haute-Provence   \n",
       "1     Authon, Alpes-de-Haute-Provence   \n",
       "2                      Erik Glosimodt   \n",
       "3                      Erik Glosimodt   \n",
       "4                       Meolans-Revel   \n",
       "...                               ...   \n",
       "4995                    Simon Thurley   \n",
       "4996                      Peter Kolbe   \n",
       "4997                      Peter Kolbe   \n",
       "4998                      Peter Kolbe   \n",
       "4999                      Peter Kolbe   \n",
       "\n",
       "                                             merged_POS   topic_1   topic_2  \\\n",
       "0     [honey, label, indication, honey, flower, hone...  0.995948  0.000888   \n",
       "1     [honey, label, indication, honey, flower, hone...  0.950718  0.000888   \n",
       "2     [education, professor, architect, practice, tr...  0.002758  0.002761   \n",
       "3     [education, professor, architect, practice, tr...  0.002758  0.002761   \n",
       "4                                       [travel, crash]  0.017678  0.017697   \n",
       "...                                                 ...       ...       ...   \n",
       "4995  [research, post, director, history, broadcaste...  0.042910  0.290658   \n",
       "4996  [letter, introduction, mayor, mandate, descrip...  0.000751  0.000752   \n",
       "4997  [letter, introduction, mayor, mandate, descrip...  0.000751  0.000752   \n",
       "4998  [letter, introduction, mayor, mandate, descrip...  0.019901  0.000752   \n",
       "4999  [letter, introduction, mayor, mandate, descrip...  0.000751  0.000752   \n",
       "\n",
       "       topic_3  ...   topic_5  lda_dominant lda_dominant_score   Topic 1  \\\n",
       "0     0.000952  ...  0.001501       topic_1           0.995948  6.492346   \n",
       "1     0.023567  ...  0.024116       topic_1           0.950718  6.492346   \n",
       "2     0.002960  ...  0.989310       topic_5           0.989310  1.500070   \n",
       "3     0.002960  ...  0.989310       topic_5           0.989310  1.500070   \n",
       "4     0.018973  ...  0.029918       topic_4           0.915734  1.018640   \n",
       "...        ...  ...       ...           ...                ...       ...   \n",
       "4995  0.001738  ...  0.663396       topic_5           0.663396  0.781117   \n",
       "4996  0.058257  ...  0.939638       topic_5           0.939638  0.682769   \n",
       "4997  0.000806  ...  0.997089       topic_5           0.997089  0.682769   \n",
       "4998  0.000806  ...  0.977939       topic_5           0.977939  0.682769   \n",
       "4999  0.000806  ...  0.997089       topic_5           0.997089  0.682769   \n",
       "\n",
       "       Topic 2   Topic 3   Topic 4    Topic 5  embedding_dominant  \\\n",
       "0     1.263454  1.981242  1.216145   2.069049             Topic 1   \n",
       "1     1.263454  1.981242  1.216145   2.069049             Topic 1   \n",
       "2     0.000000  1.286127  0.000000   4.980572             Topic 5   \n",
       "3     0.000000  1.286127  0.000000   4.980572             Topic 5   \n",
       "4     0.000000  0.000000  0.000000   0.000000             Topic 1   \n",
       "...        ...       ...       ...        ...                 ...   \n",
       "4995  0.790643  0.392753  1.041798   7.756727             Topic 5   \n",
       "4996  0.781159  3.412686  1.367645  10.386795             Topic 5   \n",
       "4997  0.781159  3.412686  1.367645  10.386795             Topic 5   \n",
       "4998  0.781159  3.412686  1.367645  10.386795             Topic 5   \n",
       "4999  0.781159  3.412686  1.367645  10.386795             Topic 5   \n",
       "\n",
       "     same_categorisation  \n",
       "0                   True  \n",
       "1                   True  \n",
       "2                   True  \n",
       "3                   True  \n",
       "4                  False  \n",
       "...                  ...  \n",
       "4995                True  \n",
       "4996                True  \n",
       "4997                True  \n",
       "4998                True  \n",
       "4999                True  \n",
       "\n",
       "[5000 rows x 21 columns]"
      ]
     },
     "execution_count": 271,
     "metadata": {},
     "output_type": "execute_result"
    }
   ],
   "source": [
    "updated_df"
   ]
  },
  {
   "cell_type": "code",
   "execution_count": 145,
   "id": "65616871",
   "metadata": {},
   "outputs": [],
   "source": [
    "# updated_df.to_csv('..\\..\\..\\..\\..\\data\\clean\\lda_classified_30cities_435citypairs_311k_paragraphs_both_methods_with_education.csv', index=False)"
   ]
  },
  {
   "cell_type": "code",
   "execution_count": 12,
   "id": "b485bdb9",
   "metadata": {
    "scrolled": true
   },
   "outputs": [
    {
     "data": {
      "application/vnd.jupyter.widget-view+json": {
       "model_id": "37587f1842c24a9580428361195d20d3",
       "version_major": 2,
       "version_minor": 0
      },
      "text/plain": [
       "  0%|          | 0/20 [00:00<?, ?it/s]"
      ]
     },
     "metadata": {},
     "output_type": "display_data"
    },
    {
     "name": "stdout",
     "output_type": "stream",
     "text": [
      "C:\\Users\\diede\\Personal Files [Local]\\Applied Data Science\\Thesis - CITYNET\\data_clean\\lda_models\\lda_model_2millionDocs_5topics\\paragraphs_word_embedding_categorisation2\\paragraphs_10_934384_1038204_embedding_categorisation.csv\n",
      "C:\\Users\\diede\\Personal Files [Local]\\Applied Data Science\\Thesis - CITYNET\\data_clean\\lda_models\\lda_model_2millionDocs_5topics\\paragraphs_word_embedding_categorisation2\\paragraphs_11_1038204_1142024_embedding_categorisation.csv\n",
      "C:\\Users\\diede\\Personal Files [Local]\\Applied Data Science\\Thesis - CITYNET\\data_clean\\lda_models\\lda_model_2millionDocs_5topics\\paragraphs_word_embedding_categorisation2\\paragraphs_12_1142024_1245844_embedding_categorisation.csv\n",
      "C:\\Users\\diede\\Personal Files [Local]\\Applied Data Science\\Thesis - CITYNET\\data_clean\\lda_models\\lda_model_2millionDocs_5topics\\paragraphs_word_embedding_categorisation2\\paragraphs_13_1245844_1349664_embedding_categorisation.csv\n",
      "C:\\Users\\diede\\Personal Files [Local]\\Applied Data Science\\Thesis - CITYNET\\data_clean\\lda_models\\lda_model_2millionDocs_5topics\\paragraphs_word_embedding_categorisation2\\paragraphs_14_1349664_1453484_embedding_categorisation.csv\n",
      "C:\\Users\\diede\\Personal Files [Local]\\Applied Data Science\\Thesis - CITYNET\\data_clean\\lda_models\\lda_model_2millionDocs_5topics\\paragraphs_word_embedding_categorisation2\\paragraphs_15_1453484_1557304_embedding_categorisation.csv\n",
      "C:\\Users\\diede\\Personal Files [Local]\\Applied Data Science\\Thesis - CITYNET\\data_clean\\lda_models\\lda_model_2millionDocs_5topics\\paragraphs_word_embedding_categorisation2\\paragraphs_16_1557304_1661124_embedding_categorisation.csv\n",
      "C:\\Users\\diede\\Personal Files [Local]\\Applied Data Science\\Thesis - CITYNET\\data_clean\\lda_models\\lda_model_2millionDocs_5topics\\paragraphs_word_embedding_categorisation2\\paragraphs_17_1661124_1764944_embedding_categorisation.csv\n",
      "C:\\Users\\diede\\Personal Files [Local]\\Applied Data Science\\Thesis - CITYNET\\data_clean\\lda_models\\lda_model_2millionDocs_5topics\\paragraphs_word_embedding_categorisation2\\paragraphs_18_1764944_1868764_embedding_categorisation.csv\n",
      "C:\\Users\\diede\\Personal Files [Local]\\Applied Data Science\\Thesis - CITYNET\\data_clean\\lda_models\\lda_model_2millionDocs_5topics\\paragraphs_word_embedding_categorisation2\\paragraphs_19_1868764_1972584_embedding_categorisation.csv\n",
      "C:\\Users\\diede\\Personal Files [Local]\\Applied Data Science\\Thesis - CITYNET\\data_clean\\lda_models\\lda_model_2millionDocs_5topics\\paragraphs_word_embedding_categorisation2\\paragraphs_1_0_103821_embedding_categorisation.csv\n",
      "C:\\Users\\diede\\Personal Files [Local]\\Applied Data Science\\Thesis - CITYNET\\data_clean\\lda_models\\lda_model_2millionDocs_5topics\\paragraphs_word_embedding_categorisation2\\paragraphs_20_1972584_2076404_embedding_categorisation.csv\n",
      "C:\\Users\\diede\\Personal Files [Local]\\Applied Data Science\\Thesis - CITYNET\\data_clean\\lda_models\\lda_model_2millionDocs_5topics\\paragraphs_word_embedding_categorisation2\\paragraphs_2_103821_207642_embedding_categorisation.csv\n",
      "C:\\Users\\diede\\Personal Files [Local]\\Applied Data Science\\Thesis - CITYNET\\data_clean\\lda_models\\lda_model_2millionDocs_5topics\\paragraphs_word_embedding_categorisation2\\paragraphs_3_207642_311463_embedding_categorisation.csv\n",
      "C:\\Users\\diede\\Personal Files [Local]\\Applied Data Science\\Thesis - CITYNET\\data_clean\\lda_models\\lda_model_2millionDocs_5topics\\paragraphs_word_embedding_categorisation2\\paragraphs_4_311463_415284_embedding_categorisation.csv\n",
      "C:\\Users\\diede\\Personal Files [Local]\\Applied Data Science\\Thesis - CITYNET\\data_clean\\lda_models\\lda_model_2millionDocs_5topics\\paragraphs_word_embedding_categorisation2\\paragraphs_5_415284_519104_embedding_categorisation.csv\n",
      "C:\\Users\\diede\\Personal Files [Local]\\Applied Data Science\\Thesis - CITYNET\\data_clean\\lda_models\\lda_model_2millionDocs_5topics\\paragraphs_word_embedding_categorisation2\\paragraphs_6_519104_622924_embedding_categorisation.csv\n",
      "C:\\Users\\diede\\Personal Files [Local]\\Applied Data Science\\Thesis - CITYNET\\data_clean\\lda_models\\lda_model_2millionDocs_5topics\\paragraphs_word_embedding_categorisation2\\paragraphs_7_622924_726744_embedding_categorisation.csv\n",
      "C:\\Users\\diede\\Personal Files [Local]\\Applied Data Science\\Thesis - CITYNET\\data_clean\\lda_models\\lda_model_2millionDocs_5topics\\paragraphs_word_embedding_categorisation2\\paragraphs_8_726744_830564_embedding_categorisation.csv\n",
      "C:\\Users\\diede\\Personal Files [Local]\\Applied Data Science\\Thesis - CITYNET\\data_clean\\lda_models\\lda_model_2millionDocs_5topics\\paragraphs_word_embedding_categorisation2\\paragraphs_9_830564_934384_embedding_categorisation.csv\n"
     ]
    },
    {
     "data": {
      "text/plain": [
       "20"
      ]
     },
     "execution_count": 12,
     "metadata": {},
     "output_type": "execute_result"
    }
   ],
   "source": [
    "saving_path = os.path.join(lda_models_dir, model_dir, \"paragraphs_word_embedding_categorisation2/\")\n",
    "\n",
    "dataframes = []\n",
    "\n",
    "for file in tqdm(os.listdir(saving_path)):\n",
    "    fp = os.path.abspath(os.path.join(saving_path, file))\n",
    "    print(fp)\n",
    "    temp_df = pd.read_csv(fp)\n",
    "    dataframes.append(temp_df)\n",
    "    \n",
    "len(dataframes)"
   ]
  },
  {
   "cell_type": "code",
   "execution_count": 13,
   "id": "61476ff9",
   "metadata": {},
   "outputs": [
    {
     "data": {
      "text/html": [
       "<div>\n",
       "<style scoped>\n",
       "    .dataframe tbody tr th:only-of-type {\n",
       "        vertical-align: middle;\n",
       "    }\n",
       "\n",
       "    .dataframe tbody tr th {\n",
       "        vertical-align: top;\n",
       "    }\n",
       "\n",
       "    .dataframe thead th {\n",
       "        text-align: right;\n",
       "    }\n",
       "</style>\n",
       "<table border=\"1\" class=\"dataframe\">\n",
       "  <thead>\n",
       "    <tr style=\"text-align: right;\">\n",
       "      <th></th>\n",
       "      <th>paragraph_id</th>\n",
       "      <th>city_1</th>\n",
       "      <th>city_2</th>\n",
       "      <th>paragraph</th>\n",
       "      <th>article_id</th>\n",
       "      <th>title</th>\n",
       "      <th>merged_POS</th>\n",
       "      <th>topic_1</th>\n",
       "      <th>topic_2</th>\n",
       "      <th>topic_3</th>\n",
       "      <th>...</th>\n",
       "      <th>topic_5</th>\n",
       "      <th>lda_dominant</th>\n",
       "      <th>lda_dominant_score</th>\n",
       "      <th>Topic 1</th>\n",
       "      <th>Topic 2</th>\n",
       "      <th>Topic 3</th>\n",
       "      <th>Topic 4</th>\n",
       "      <th>Topic 5</th>\n",
       "      <th>embedding_dominant</th>\n",
       "      <th>same_categorisation</th>\n",
       "    </tr>\n",
       "  </thead>\n",
       "  <tbody>\n",
       "    <tr>\n",
       "      <th>0</th>\n",
       "      <td>1</td>\n",
       "      <td>Birmingham</td>\n",
       "      <td>Florence</td>\n",
       "      <td>The first community of adherents of the Baha'i...</td>\n",
       "      <td>303</td>\n",
       "      <td>Alabama</td>\n",
       "      <td>['community', 'adherent', 'center', 'found', '...</td>\n",
       "      <td>0.006307</td>\n",
       "      <td>0.006313</td>\n",
       "      <td>0.971652</td>\n",
       "      <td>...</td>\n",
       "      <td>0.010673</td>\n",
       "      <td>topic_3</td>\n",
       "      <td>0.971652</td>\n",
       "      <td>0.457759</td>\n",
       "      <td>0.000000</td>\n",
       "      <td>0.404818</td>\n",
       "      <td>0.00000</td>\n",
       "      <td>0.931113</td>\n",
       "      <td>Topic 5</td>\n",
       "      <td>False</td>\n",
       "    </tr>\n",
       "    <tr>\n",
       "      <th>1</th>\n",
       "      <td>2</td>\n",
       "      <td>Florence</td>\n",
       "      <td>Birmingham</td>\n",
       "      <td>The first community of adherents of the Baha'i...</td>\n",
       "      <td>303</td>\n",
       "      <td>Alabama</td>\n",
       "      <td>['community', 'adherent', 'center', 'found', '...</td>\n",
       "      <td>0.006307</td>\n",
       "      <td>0.006313</td>\n",
       "      <td>0.971652</td>\n",
       "      <td>...</td>\n",
       "      <td>0.010673</td>\n",
       "      <td>topic_3</td>\n",
       "      <td>0.971652</td>\n",
       "      <td>0.457759</td>\n",
       "      <td>0.000000</td>\n",
       "      <td>0.404818</td>\n",
       "      <td>0.00000</td>\n",
       "      <td>0.931113</td>\n",
       "      <td>Topic 5</td>\n",
       "      <td>False</td>\n",
       "    </tr>\n",
       "    <tr>\n",
       "      <th>2</th>\n",
       "      <td>3</td>\n",
       "      <td>Paris</td>\n",
       "      <td>London</td>\n",
       "      <td>A major revision of the work by composer and a...</td>\n",
       "      <td>309</td>\n",
       "      <td>An American in Paris</td>\n",
       "      <td>['revision', 'work', 'composer', 'arranger', '...</td>\n",
       "      <td>0.136577</td>\n",
       "      <td>0.815029</td>\n",
       "      <td>0.000952</td>\n",
       "      <td>...</td>\n",
       "      <td>0.046731</td>\n",
       "      <td>topic_2</td>\n",
       "      <td>0.815029</td>\n",
       "      <td>1.066222</td>\n",
       "      <td>8.625452</td>\n",
       "      <td>2.015810</td>\n",
       "      <td>0.00000</td>\n",
       "      <td>4.556324</td>\n",
       "      <td>Topic 2</td>\n",
       "      <td>True</td>\n",
       "    </tr>\n",
       "    <tr>\n",
       "      <th>3</th>\n",
       "      <td>4</td>\n",
       "      <td>London</td>\n",
       "      <td>Paris</td>\n",
       "      <td>A major revision of the work by composer and a...</td>\n",
       "      <td>309</td>\n",
       "      <td>An American in Paris</td>\n",
       "      <td>['revision', 'work', 'composer', 'arranger', '...</td>\n",
       "      <td>0.000887</td>\n",
       "      <td>0.679339</td>\n",
       "      <td>0.204487</td>\n",
       "      <td>...</td>\n",
       "      <td>0.114576</td>\n",
       "      <td>topic_2</td>\n",
       "      <td>0.679339</td>\n",
       "      <td>1.066222</td>\n",
       "      <td>8.625452</td>\n",
       "      <td>2.015810</td>\n",
       "      <td>0.00000</td>\n",
       "      <td>4.556324</td>\n",
       "      <td>Topic 2</td>\n",
       "      <td>True</td>\n",
       "    </tr>\n",
       "    <tr>\n",
       "      <th>4</th>\n",
       "      <td>5</td>\n",
       "      <td>Madrid</td>\n",
       "      <td>Rome</td>\n",
       "      <td>Access to biocapacity in Algeria is lower than...</td>\n",
       "      <td>358</td>\n",
       "      <td>Algeria</td>\n",
       "      <td>['access', 'world', 'hectare', 'person', 'terr...</td>\n",
       "      <td>0.672310</td>\n",
       "      <td>0.000976</td>\n",
       "      <td>0.324282</td>\n",
       "      <td>...</td>\n",
       "      <td>0.001650</td>\n",
       "      <td>topic_1</td>\n",
       "      <td>0.672310</td>\n",
       "      <td>3.473920</td>\n",
       "      <td>0.000000</td>\n",
       "      <td>3.651286</td>\n",
       "      <td>4.04859</td>\n",
       "      <td>0.624395</td>\n",
       "      <td>Topic 4</td>\n",
       "      <td>False</td>\n",
       "    </tr>\n",
       "    <tr>\n",
       "      <th>...</th>\n",
       "      <td>...</td>\n",
       "      <td>...</td>\n",
       "      <td>...</td>\n",
       "      <td>...</td>\n",
       "      <td>...</td>\n",
       "      <td>...</td>\n",
       "      <td>...</td>\n",
       "      <td>...</td>\n",
       "      <td>...</td>\n",
       "      <td>...</td>\n",
       "      <td>...</td>\n",
       "      <td>...</td>\n",
       "      <td>...</td>\n",
       "      <td>...</td>\n",
       "      <td>...</td>\n",
       "      <td>...</td>\n",
       "      <td>...</td>\n",
       "      <td>...</td>\n",
       "      <td>...</td>\n",
       "      <td>...</td>\n",
       "      <td>...</td>\n",
       "    </tr>\n",
       "    <tr>\n",
       "      <th>2076399</th>\n",
       "      <td>2076400</td>\n",
       "      <td>Paris</td>\n",
       "      <td>Stockholm</td>\n",
       "      <td>Mundhir participated in Arab and international...</td>\n",
       "      <td>70585176</td>\n",
       "      <td>Mundhir Masri</td>\n",
       "      <td>['festival', 'seminar', 'guest', 'participate'...</td>\n",
       "      <td>0.004772</td>\n",
       "      <td>0.734849</td>\n",
       "      <td>0.005121</td>\n",
       "      <td>...</td>\n",
       "      <td>0.251433</td>\n",
       "      <td>topic_2</td>\n",
       "      <td>0.734849</td>\n",
       "      <td>0.000000</td>\n",
       "      <td>1.043150</td>\n",
       "      <td>0.569592</td>\n",
       "      <td>0.00000</td>\n",
       "      <td>1.370652</td>\n",
       "      <td>Topic 5</td>\n",
       "      <td>False</td>\n",
       "    </tr>\n",
       "    <tr>\n",
       "      <th>2076400</th>\n",
       "      <td>2076401</td>\n",
       "      <td>London</td>\n",
       "      <td>Paris</td>\n",
       "      <td>Mundhir participated in Arab and international...</td>\n",
       "      <td>70585176</td>\n",
       "      <td>Mundhir Masri</td>\n",
       "      <td>['festival', 'seminar', 'guest', 'participate'...</td>\n",
       "      <td>0.004772</td>\n",
       "      <td>0.978206</td>\n",
       "      <td>0.005121</td>\n",
       "      <td>...</td>\n",
       "      <td>0.008076</td>\n",
       "      <td>topic_2</td>\n",
       "      <td>0.978206</td>\n",
       "      <td>0.000000</td>\n",
       "      <td>1.043150</td>\n",
       "      <td>0.569592</td>\n",
       "      <td>0.00000</td>\n",
       "      <td>1.370652</td>\n",
       "      <td>Topic 5</td>\n",
       "      <td>False</td>\n",
       "    </tr>\n",
       "    <tr>\n",
       "      <th>2076401</th>\n",
       "      <td>2076402</td>\n",
       "      <td>London</td>\n",
       "      <td>Stockholm</td>\n",
       "      <td>Mundhir participated in Arab and international...</td>\n",
       "      <td>70585176</td>\n",
       "      <td>Mundhir Masri</td>\n",
       "      <td>['festival', 'seminar', 'guest', 'participate'...</td>\n",
       "      <td>0.004772</td>\n",
       "      <td>0.978206</td>\n",
       "      <td>0.005121</td>\n",
       "      <td>...</td>\n",
       "      <td>0.008076</td>\n",
       "      <td>topic_2</td>\n",
       "      <td>0.978206</td>\n",
       "      <td>0.000000</td>\n",
       "      <td>1.043150</td>\n",
       "      <td>0.569592</td>\n",
       "      <td>0.00000</td>\n",
       "      <td>1.370652</td>\n",
       "      <td>Topic 5</td>\n",
       "      <td>False</td>\n",
       "    </tr>\n",
       "    <tr>\n",
       "      <th>2076402</th>\n",
       "      <td>2076403</td>\n",
       "      <td>Stockholm</td>\n",
       "      <td>Paris</td>\n",
       "      <td>Mundhir participated in Arab and international...</td>\n",
       "      <td>70585176</td>\n",
       "      <td>Mundhir Masri</td>\n",
       "      <td>['festival', 'seminar', 'guest', 'participate'...</td>\n",
       "      <td>0.004772</td>\n",
       "      <td>0.978206</td>\n",
       "      <td>0.005121</td>\n",
       "      <td>...</td>\n",
       "      <td>0.008076</td>\n",
       "      <td>topic_2</td>\n",
       "      <td>0.978206</td>\n",
       "      <td>0.000000</td>\n",
       "      <td>1.043150</td>\n",
       "      <td>0.569592</td>\n",
       "      <td>0.00000</td>\n",
       "      <td>1.370652</td>\n",
       "      <td>Topic 5</td>\n",
       "      <td>False</td>\n",
       "    </tr>\n",
       "    <tr>\n",
       "      <th>2076403</th>\n",
       "      <td>2076404</td>\n",
       "      <td>Stockholm</td>\n",
       "      <td>London</td>\n",
       "      <td>Mundhir participated in Arab and international...</td>\n",
       "      <td>70585176</td>\n",
       "      <td>Mundhir Masri</td>\n",
       "      <td>['festival', 'seminar', 'guest', 'participate'...</td>\n",
       "      <td>0.004772</td>\n",
       "      <td>0.856527</td>\n",
       "      <td>0.005121</td>\n",
       "      <td>...</td>\n",
       "      <td>0.129754</td>\n",
       "      <td>topic_2</td>\n",
       "      <td>0.856527</td>\n",
       "      <td>0.000000</td>\n",
       "      <td>1.043150</td>\n",
       "      <td>0.569592</td>\n",
       "      <td>0.00000</td>\n",
       "      <td>1.370652</td>\n",
       "      <td>Topic 5</td>\n",
       "      <td>False</td>\n",
       "    </tr>\n",
       "  </tbody>\n",
       "</table>\n",
       "<p>2076404 rows × 21 columns</p>\n",
       "</div>"
      ],
      "text/plain": [
       "         paragraph_id      city_1      city_2  \\\n",
       "0                   1  Birmingham    Florence   \n",
       "1                   2    Florence  Birmingham   \n",
       "2                   3       Paris      London   \n",
       "3                   4      London       Paris   \n",
       "4                   5      Madrid        Rome   \n",
       "...               ...         ...         ...   \n",
       "2076399       2076400       Paris   Stockholm   \n",
       "2076400       2076401      London       Paris   \n",
       "2076401       2076402      London   Stockholm   \n",
       "2076402       2076403   Stockholm       Paris   \n",
       "2076403       2076404   Stockholm      London   \n",
       "\n",
       "                                                 paragraph  article_id  \\\n",
       "0        The first community of adherents of the Baha'i...         303   \n",
       "1        The first community of adherents of the Baha'i...         303   \n",
       "2        A major revision of the work by composer and a...         309   \n",
       "3        A major revision of the work by composer and a...         309   \n",
       "4        Access to biocapacity in Algeria is lower than...         358   \n",
       "...                                                    ...         ...   \n",
       "2076399  Mundhir participated in Arab and international...    70585176   \n",
       "2076400  Mundhir participated in Arab and international...    70585176   \n",
       "2076401  Mundhir participated in Arab and international...    70585176   \n",
       "2076402  Mundhir participated in Arab and international...    70585176   \n",
       "2076403  Mundhir participated in Arab and international...    70585176   \n",
       "\n",
       "                        title  \\\n",
       "0                     Alabama   \n",
       "1                     Alabama   \n",
       "2        An American in Paris   \n",
       "3        An American in Paris   \n",
       "4                     Algeria   \n",
       "...                       ...   \n",
       "2076399         Mundhir Masri   \n",
       "2076400         Mundhir Masri   \n",
       "2076401         Mundhir Masri   \n",
       "2076402         Mundhir Masri   \n",
       "2076403         Mundhir Masri   \n",
       "\n",
       "                                                merged_POS   topic_1  \\\n",
       "0        ['community', 'adherent', 'center', 'found', '...  0.006307   \n",
       "1        ['community', 'adherent', 'center', 'found', '...  0.006307   \n",
       "2        ['revision', 'work', 'composer', 'arranger', '...  0.136577   \n",
       "3        ['revision', 'work', 'composer', 'arranger', '...  0.000887   \n",
       "4        ['access', 'world', 'hectare', 'person', 'terr...  0.672310   \n",
       "...                                                    ...       ...   \n",
       "2076399  ['festival', 'seminar', 'guest', 'participate'...  0.004772   \n",
       "2076400  ['festival', 'seminar', 'guest', 'participate'...  0.004772   \n",
       "2076401  ['festival', 'seminar', 'guest', 'participate'...  0.004772   \n",
       "2076402  ['festival', 'seminar', 'guest', 'participate'...  0.004772   \n",
       "2076403  ['festival', 'seminar', 'guest', 'participate'...  0.004772   \n",
       "\n",
       "          topic_2   topic_3  ...   topic_5  lda_dominant lda_dominant_score  \\\n",
       "0        0.006313  0.971652  ...  0.010673       topic_3           0.971652   \n",
       "1        0.006313  0.971652  ...  0.010673       topic_3           0.971652   \n",
       "2        0.815029  0.000952  ...  0.046731       topic_2           0.815029   \n",
       "3        0.679339  0.204487  ...  0.114576       topic_2           0.679339   \n",
       "4        0.000976  0.324282  ...  0.001650       topic_1           0.672310   \n",
       "...           ...       ...  ...       ...           ...                ...   \n",
       "2076399  0.734849  0.005121  ...  0.251433       topic_2           0.734849   \n",
       "2076400  0.978206  0.005121  ...  0.008076       topic_2           0.978206   \n",
       "2076401  0.978206  0.005121  ...  0.008076       topic_2           0.978206   \n",
       "2076402  0.978206  0.005121  ...  0.008076       topic_2           0.978206   \n",
       "2076403  0.856527  0.005121  ...  0.129754       topic_2           0.856527   \n",
       "\n",
       "          Topic 1   Topic 2   Topic 3  Topic 4   Topic 5  embedding_dominant  \\\n",
       "0        0.457759  0.000000  0.404818  0.00000  0.931113             Topic 5   \n",
       "1        0.457759  0.000000  0.404818  0.00000  0.931113             Topic 5   \n",
       "2        1.066222  8.625452  2.015810  0.00000  4.556324             Topic 2   \n",
       "3        1.066222  8.625452  2.015810  0.00000  4.556324             Topic 2   \n",
       "4        3.473920  0.000000  3.651286  4.04859  0.624395             Topic 4   \n",
       "...           ...       ...       ...      ...       ...                 ...   \n",
       "2076399  0.000000  1.043150  0.569592  0.00000  1.370652             Topic 5   \n",
       "2076400  0.000000  1.043150  0.569592  0.00000  1.370652             Topic 5   \n",
       "2076401  0.000000  1.043150  0.569592  0.00000  1.370652             Topic 5   \n",
       "2076402  0.000000  1.043150  0.569592  0.00000  1.370652             Topic 5   \n",
       "2076403  0.000000  1.043150  0.569592  0.00000  1.370652             Topic 5   \n",
       "\n",
       "        same_categorisation  \n",
       "0                     False  \n",
       "1                     False  \n",
       "2                      True  \n",
       "3                      True  \n",
       "4                     False  \n",
       "...                     ...  \n",
       "2076399               False  \n",
       "2076400               False  \n",
       "2076401               False  \n",
       "2076402               False  \n",
       "2076403               False  \n",
       "\n",
       "[2076404 rows x 21 columns]"
      ]
     },
     "execution_count": 13,
     "metadata": {},
     "output_type": "execute_result"
    }
   ],
   "source": [
    "updated_df = pd.concat(dataframes) #, keys=citypairs)\n",
    "updated_df.set_index('paragraph_id', inplace=True)\n",
    "updated_df.sort_index(inplace=True)\n",
    "updated_df.reset_index(inplace=True)\n",
    "updated_df"
   ]
  },
  {
   "cell_type": "markdown",
   "id": "59c8c90d",
   "metadata": {},
   "source": [
    "### 7. Informatics"
   ]
  },
  {
   "cell_type": "markdown",
   "id": "8287c9e4",
   "metadata": {},
   "source": [
    "#### Similarity between lda topic model and word embedding algorithm output"
   ]
  },
  {
   "cell_type": "code",
   "execution_count": 283,
   "id": "6b594eac",
   "metadata": {},
   "outputs": [
    {
     "name": "stdout",
     "output_type": "stream",
     "text": [
      "1719035 out of 2076404 (82.79%) were classified the same by the LDA topic model and word embedding classification model.\n"
     ]
    }
   ],
   "source": [
    "same_categorisation = updated_df[updated_df['same_categorisation'] == True]['same_categorisation'].count()\n",
    "total_documents = updated_df['same_categorisation'].count()\n",
    "\n",
    "print(f\"{same_categorisation} out of {total_documents} ({same_categorisation/total_documents*100:.2f}%) were classified the same by the LDA topic model and word embedding classification model.\")"
   ]
  },
  {
   "cell_type": "code",
   "execution_count": 294,
   "id": "6c41b392",
   "metadata": {},
   "outputs": [
    {
     "name": "stdout",
     "output_type": "stream",
     "text": [
      "True     1526853\n",
      "False     207496\n",
      "Name: same_categorisation, dtype: int64\n",
      "True     0.880361\n",
      "False    0.119639\n",
      "Name: same_categorisation, dtype: float64\n",
      "----------------------------------------------------\n",
      "lda_dominant  same_categorisation\n",
      "topic_1       True                   264811\n",
      "              False                   43909\n",
      "topic_2       True                   247725\n",
      "              False                   73619\n",
      "topic_3       True                   235704\n",
      "              False                   40944\n",
      "topic_4       True                   301220\n",
      "              False                    4384\n",
      "topic_5       True                   477393\n",
      "              False                   44640\n",
      "Name: same_categorisation, dtype: int64\n",
      "----------------------------------------------------\n",
      "lda_dominant  same_categorisation\n",
      "topic_1       True                   0.857771\n",
      "              False                  0.142229\n",
      "topic_2       True                   0.770903\n",
      "              False                  0.229097\n",
      "topic_3       True                   0.852000\n",
      "              False                  0.148000\n",
      "topic_4       True                   0.985655\n",
      "              False                  0.014345\n",
      "topic_5       True                   0.914488\n",
      "              False                  0.085512\n",
      "Name: same_categorisation, dtype: float64\n"
     ]
    }
   ],
   "source": [
    "threshold_val = 0.7\n",
    "nr_of_words = 0\n",
    "\n",
    "print(updated_df[(updated_df['lda_dominant_score'] > threshold_val) & (updated_df['merged_POS'].str.len() > nr_of_words)]['same_categorisation'].value_counts())\n",
    "print(updated_df[(updated_df['lda_dominant_score'] > threshold_val) & (updated_df['merged_POS'].str.len() > nr_of_words)]['same_categorisation'].value_counts(normalize=True))\n",
    "print('----------------------------------------------------')\n",
    "print(updated_df[(updated_df['lda_dominant_score'] > threshold_val) & (updated_df['merged_POS'].str.len() > nr_of_words)].groupby('lda_dominant')['same_categorisation'].value_counts())\n",
    "print('----------------------------------------------------')\n",
    "print(updated_df[(updated_df['lda_dominant_score'] > threshold_val) & (updated_df['merged_POS'].str.len() > nr_of_words)].groupby('lda_dominant')['same_categorisation'].value_counts(normalize=True))"
   ]
  },
  {
   "cell_type": "markdown",
   "id": "97291575",
   "metadata": {},
   "source": [
    "#### binned LDA scores of all & differently classified paragraphs"
   ]
  },
  {
   "cell_type": "code",
   "execution_count": 295,
   "id": "95bf1697",
   "metadata": {},
   "outputs": [
    {
     "data": {
      "text/plain": [
       "(0.9, 1.0]       1407702\n",
       "(0.8, 0.9]        179868\n",
       "(0.7, 0.8]        146779\n",
       "(0.6, 0.7]        141634\n",
       "(0.5, 0.6]        129276\n",
       "(0.4, 0.5]         64579\n",
       "(0.3, 0.4]          6462\n",
       "(0.2, 0.3]           104\n",
       "(0.1, 0.2]             0\n",
       "(-0.001, 0.1]          0\n",
       "Name: lda_dominant_score, dtype: int64"
      ]
     },
     "execution_count": 295,
     "metadata": {},
     "output_type": "execute_result"
    }
   ],
   "source": [
    "updated_df['lda_dominant_score'].value_counts(bins=[0,0.1,0.2,0.3,0.4,0.5,0.6,0.7,0.8,0.9,1]).sort_index(ascending=False)"
   ]
  },
  {
   "cell_type": "code",
   "execution_count": 296,
   "id": "5a1ddc0e",
   "metadata": {},
   "outputs": [
    {
     "data": {
      "text/plain": [
       "(0.9, 1.0]       142956\n",
       "(0.8, 0.9]        29402\n",
       "(0.7, 0.8]        35138\n",
       "(0.6, 0.7]        48773\n",
       "(0.5, 0.6]        58790\n",
       "(0.4, 0.5]        38202\n",
       "(0.3, 0.4]         4030\n",
       "(0.2, 0.3]           78\n",
       "(0.1, 0.2]            0\n",
       "(-0.001, 0.1]         0\n",
       "Name: lda_dominant_score, dtype: int64"
      ]
     },
     "execution_count": 296,
     "metadata": {},
     "output_type": "execute_result"
    }
   ],
   "source": [
    "updated_df[updated_df['same_categorisation'] != True]['lda_dominant_score'].value_counts(bins=[0,0.1,0.2,0.3,0.4,0.5,0.6,0.7,0.8,0.9,1]).sort_index(ascending=False) #  .sum() # .sort_index(ascending=False) #.sort_values(ascending=False)"
   ]
  },
  {
   "cell_type": "markdown",
   "id": "b71df061",
   "metadata": {},
   "source": [
    "#### Percentage of similarly classified documents between LDA topic modeling and word embedding classification"
   ]
  },
  {
   "cell_type": "code",
   "execution_count": 146,
   "id": "802895b4",
   "metadata": {},
   "outputs": [
    {
     "ename": "IndexError",
     "evalue": "index 1 is out of bounds for axis 0 with size 0",
     "output_type": "error",
     "traceback": [
      "\u001b[1;31m---------------------------------------------------------------------------\u001b[0m",
      "\u001b[1;31mIndexError\u001b[0m                                Traceback (most recent call last)",
      "Input \u001b[1;32mIn [146]\u001b[0m, in \u001b[0;36m<cell line: 4>\u001b[1;34m()\u001b[0m\n\u001b[0;32m      5\u001b[0m values \u001b[38;5;241m=\u001b[39m []\n\u001b[0;32m      6\u001b[0m \u001b[38;5;28;01mfor\u001b[39;00m threshold \u001b[38;5;129;01min\u001b[39;00m thresholds:\n\u001b[0;32m      7\u001b[0m     \u001b[38;5;66;03m#x.lda_dominant.endswith(x.embedding_dominant)\u001b[39;00m\n\u001b[1;32m----> 8\u001b[0m     values\u001b[38;5;241m.\u001b[39mappend(\u001b[43mupdated_df\u001b[49m\u001b[43m[\u001b[49m\u001b[43m(\u001b[49m\u001b[43mupdated_df\u001b[49m\u001b[43m[\u001b[49m\u001b[38;5;124;43m'\u001b[39;49m\u001b[38;5;124;43mlda_dominant\u001b[39;49m\u001b[38;5;124;43m'\u001b[39;49m\u001b[43m]\u001b[49m\u001b[38;5;241;43m.\u001b[39;49m\u001b[43mstr\u001b[49m\u001b[38;5;241;43m.\u001b[39;49m\u001b[43mendswith\u001b[49m\u001b[43m(\u001b[49m\u001b[43mtopic\u001b[49m\u001b[43m)\u001b[49m\u001b[43m)\u001b[49m\u001b[43m \u001b[49m\u001b[38;5;241;43m&\u001b[39;49m\u001b[43m \u001b[49m\u001b[43m(\u001b[49m\u001b[43mupdated_df\u001b[49m\u001b[43m[\u001b[49m\u001b[38;5;124;43m'\u001b[39;49m\u001b[38;5;124;43mlda_dominant_score\u001b[39;49m\u001b[38;5;124;43m'\u001b[39;49m\u001b[43m]\u001b[49m\u001b[43m \u001b[49m\u001b[38;5;241;43m>\u001b[39;49m\u001b[43m \u001b[49m\u001b[43mthreshold\u001b[49m\u001b[43m)\u001b[49m\u001b[43m \u001b[49m\u001b[38;5;241;43m&\u001b[39;49m\u001b[43m \u001b[49m\u001b[43m(\u001b[49m\u001b[43mupdated_df\u001b[49m\u001b[43m[\u001b[49m\u001b[38;5;124;43m'\u001b[39;49m\u001b[38;5;124;43mmerged_POS\u001b[39;49m\u001b[38;5;124;43m'\u001b[39;49m\u001b[43m]\u001b[49m\u001b[38;5;241;43m.\u001b[39;49m\u001b[43mstr\u001b[49m\u001b[38;5;241;43m.\u001b[39;49m\u001b[43mlen\u001b[49m\u001b[43m(\u001b[49m\u001b[43m)\u001b[49m\u001b[43m \u001b[49m\u001b[38;5;241;43m>\u001b[39;49m\u001b[43m \u001b[49m\u001b[38;5;241;43m10\u001b[39;49m\u001b[43m)\u001b[49m\u001b[43m]\u001b[49m\u001b[43m[\u001b[49m\u001b[38;5;124;43m'\u001b[39;49m\u001b[38;5;124;43msame_categorisation\u001b[39;49m\u001b[38;5;124;43m'\u001b[39;49m\u001b[43m]\u001b[49m\u001b[38;5;241;43m.\u001b[39;49m\u001b[43mvalue_counts\u001b[49m\u001b[43m(\u001b[49m\u001b[43mnormalize\u001b[49m\u001b[38;5;241;43m=\u001b[39;49m\u001b[38;5;28;43;01mTrue\u001b[39;49;00m\u001b[43m)\u001b[49m\u001b[43m[\u001b[49m\u001b[38;5;241;43m1\u001b[39;49m\u001b[43m]\u001b[49m)\n\u001b[0;32m      9\u001b[0m     \u001b[38;5;66;03m#df[(df['idxmax'] == )  & (df['max'] > 0.8)]['outcome'].value_counts(normalize=True)\u001b[39;00m\n\u001b[0;32m     10\u001b[0m topic_values\u001b[38;5;241m.\u001b[39mappend(values)\n",
      "File \u001b[1;32m~\\Personal Files [Local]\\Applied Data Science\\Thesis - CITYNET\\venv_citynet3\\lib\\site-packages\\pandas\\core\\series.py:955\u001b[0m, in \u001b[0;36mSeries.__getitem__\u001b[1;34m(self, key)\u001b[0m\n\u001b[0;32m    952\u001b[0m     key \u001b[38;5;241m=\u001b[39m unpack_1tuple(key)\n\u001b[0;32m    954\u001b[0m \u001b[38;5;28;01mif\u001b[39;00m is_integer(key) \u001b[38;5;129;01mand\u001b[39;00m \u001b[38;5;28mself\u001b[39m\u001b[38;5;241m.\u001b[39mindex\u001b[38;5;241m.\u001b[39m_should_fallback_to_positional:\n\u001b[1;32m--> 955\u001b[0m     \u001b[38;5;28;01mreturn\u001b[39;00m \u001b[38;5;28;43mself\u001b[39;49m\u001b[38;5;241;43m.\u001b[39;49m\u001b[43m_values\u001b[49m\u001b[43m[\u001b[49m\u001b[43mkey\u001b[49m\u001b[43m]\u001b[49m\n\u001b[0;32m    957\u001b[0m \u001b[38;5;28;01melif\u001b[39;00m key_is_scalar:\n\u001b[0;32m    958\u001b[0m     \u001b[38;5;28;01mreturn\u001b[39;00m \u001b[38;5;28mself\u001b[39m\u001b[38;5;241m.\u001b[39m_get_value(key)\n",
      "\u001b[1;31mIndexError\u001b[0m: index 1 is out of bounds for axis 0 with size 0"
     ]
    }
   ],
   "source": [
    "topics = sorted(['sport', 'art', 'diplomacy', 'education', 'entertainment', 'transportation'])\n",
    "thresholds = [0.5, 0.6, 0.7, 0.8, 0.9]\n",
    "topic_values = []\n",
    "for topic in topics:\n",
    "    values = []\n",
    "    for threshold in thresholds:\n",
    "        #x.lda_dominant.endswith(x.embedding_dominant)\n",
    "        values.append(updated_df[(updated_df['lda_dominant'].str.endswith(topic)) & (updated_df['lda_dominant_score'] > threshold) & (updated_df['merged_POS'].str.len() > 10)]['same_categorisation'].value_counts(normalize=True)[1])\n",
    "        #df[(df['idxmax'] == )  & (df['max'] > 0.8)]['outcome'].value_counts(normalize=True)\n",
    "    topic_values.append(values)\n",
    "\n",
    "topic_values\n",
    "new_topic_values = [[] for x in topic_values[0]]\n",
    "for index, topic in enumerate(topic_values):\n",
    "    for i, value in enumerate(topic):\n",
    "        new_topic_values[i].append(value)\n",
    "print(new_topic_values)"
   ]
  },
  {
   "cell_type": "code",
   "execution_count": null,
   "id": "59520b15",
   "metadata": {},
   "outputs": [],
   "source": [
    "import matplotlib.pyplot as plt\n",
    "import numpy as np\n",
    "\n",
    "plt.figure(figsize=(10, 10), facecolor=\"w\")\n",
    "# set width of bars\n",
    "barWidth = 0.25\n",
    "\n",
    "r1 =  np.arange(0, len(topic_values[0])+3, 1.50)\n",
    "# r1 = np.arange(0, len(topic_values[0])+1.5, 1.50)\n",
    "colors =[\"#54bebe\", \"#76c8c8\", \"#98d1d1\", \"#badbdb\", \"#97d2fb\", \"#eccbd9\", \"#eccbd9\"]\n",
    "colors = [ \"#badbdb\",\"#98d1d1\", \"#76c8c8\",\"#54bebe\", \"#63a4da\", \"#296ead\", \"#2a4693\"]\n",
    "\n",
    "for idx, topic in enumerate(new_topic_values):\n",
    "    plt.bar(r1, topic, color=colors[idx], width=barWidth, edgecolor='white', label=thresholds[idx], zorder=3)\n",
    "    r1= [x + barWidth for x in r1]\n",
    "\n",
    "# Add xticks on the middle of the group bars\n",
    "plt.ylabel('Percentage (%)', fontweight='normal')\n",
    "plt.xlabel('Topic')\n",
    "plt.xticks([0.5, 2, 3.5,  5, 6.5, 8], ['Art', 'Diplomacy', 'Education', 'Entertainment', 'Sport', 'Transportation'])\n",
    "plt.ylim(0, 1)\n",
    "plt.xlim(-0.2, 9)\n",
    "\n",
    "# Create legend & Show graphic\n",
    "plt.title('Percentage of similarly classified documents by LDA topic modeling and word embeddings')\n",
    "plt.legend(title=\"threshold value\", loc=\"lower right\")\n",
    "plt.grid(zorder=0, color='lightgray', linestyle='--')\n",
    "plt.show()"
   ]
  },
  {
   "cell_type": "markdown",
   "id": "80df62ff",
   "metadata": {},
   "source": [
    "### 8. Aggregate paragraphs Classification into City Pair Classification"
   ]
  },
  {
   "cell_type": "markdown",
   "id": "ae626faa",
   "metadata": {},
   "source": [
    "#### 8.1 Select right parameters"
   ]
  },
  {
   "cell_type": "code",
   "execution_count": null,
   "id": "685a33ed",
   "metadata": {},
   "outputs": [],
   "source": [
    "bottom_lda_threshold = 0.7\n",
    "minimal_paragraph_length = 5"
   ]
  },
  {
   "cell_type": "code",
   "execution_count": 305,
   "id": "39cd3f23",
   "metadata": {},
   "outputs": [
    {
     "data": {
      "text/plain": [
       "151"
      ]
     },
     "execution_count": 305,
     "metadata": {},
     "output_type": "execute_result"
    }
   ],
   "source": [
    "len(dataframes[0].city_1.unique())"
   ]
  },
  {
   "cell_type": "code",
   "execution_count": 311,
   "id": "f91c8871",
   "metadata": {},
   "outputs": [
    {
     "data": {
      "text/plain": [
       "(151, 151)"
      ]
     },
     "execution_count": 311,
     "metadata": {},
     "output_type": "execute_result"
    }
   ],
   "source": [
    "city1_list = list(dataframes[0]['city_1'].unique())\n",
    "city2_list = list(dataframes[0]['city_2'].unique())\n",
    "len(city1_list), len(city2_list)"
   ]
  },
  {
   "cell_type": "code",
   "execution_count": 372,
   "id": "d16a07dd",
   "metadata": {},
   "outputs": [
    {
     "data": {
      "text/plain": [
       "London                                      186465\n",
       "Paris                                       133309\n",
       "Berlin                                       86900\n",
       "Rome                                         59845\n",
       "Manchester                                   58871\n",
       "                                             ...  \n",
       "Caserta                                        720\n",
       "A Coruna                                       684\n",
       "Santa Cruz de Tenerife                         577\n",
       "Castellammare di Stabia-Torre Annunziata       204\n",
       "Busto Arsizio                                   89\n",
       "Name: city_1, Length: 151, dtype: int64"
      ]
     },
     "execution_count": 372,
     "metadata": {},
     "output_type": "execute_result"
    }
   ],
   "source": [
    "updated_df['city_1'].value_counts()"
   ]
  },
  {
   "cell_type": "code",
   "execution_count": 384,
   "id": "372f27c0",
   "metadata": {
    "collapsed": true
   },
   "outputs": [
    {
     "data": {
      "text/plain": [
       "{'London': 186465,\n",
       " 'Paris': 133309,\n",
       " 'Berlin': 86900,\n",
       " 'Rome': 59845,\n",
       " 'Manchester': 58871,\n",
       " 'Vienna': 54418,\n",
       " 'Munich': 44475,\n",
       " 'Liverpool': 42271,\n",
       " 'Milan': 40714,\n",
       " 'Madrid': 40176,\n",
       " 'Edinburgh': 34151,\n",
       " 'Birmingham': 33450,\n",
       " 'Barcelona': 32263,\n",
       " 'Amsterdam': 31842,\n",
       " 'Hamburg': 29835,\n",
       " 'Venice': 29708,\n",
       " 'Brussels': 29139,\n",
       " 'Glasgow': 28756,\n",
       " 'Leeds': 28029,\n",
       " 'Frankfurt': 27836,\n",
       " 'Prague': 24201,\n",
       " 'Florence': 23616,\n",
       " 'Bristol': 23125,\n",
       " 'Sheffield': 22717,\n",
       " 'Warsaw': 22160,\n",
       " 'Newcastle': 22094,\n",
       " 'Dublin': 22010,\n",
       " 'Cologne': 21035,\n",
       " 'Zurich': 20259,\n",
       " 'Naples': 20235,\n",
       " 'Leipzig': 18723,\n",
       " 'Stockholm': 18534,\n",
       " 'Nottingham': 16682,\n",
       " 'Copenhagen': 16485,\n",
       " 'Cardiff': 16452,\n",
       " 'Geneva': 16347,\n",
       " 'Dresden': 16124,\n",
       " 'Stuttgart': 15630,\n",
       " 'Lyon': 15562,\n",
       " 'Budapest': 15507,\n",
       " 'Leicester': 15347,\n",
       " 'Southampton': 15106,\n",
       " 'Athens': 14858,\n",
       " 'Brighton': 13249,\n",
       " 'Turin': 13031,\n",
       " 'Bologna': 12986,\n",
       " 'Antwerp': 12612,\n",
       " 'Lisbon': 12522,\n",
       " 'Dusseldorf': 11995,\n",
       " 'Bradford': 11876,\n",
       " 'Basel': 11784,\n",
       " 'Belfast': 11636,\n",
       " 'Marseille': 11344,\n",
       " 'Valencia': 11298,\n",
       " 'Rotterdam': 11230,\n",
       " 'Genoa': 11108,\n",
       " 'Portsmouth': 10825,\n",
       " 'Coventry': 10283,\n",
       " 'Bucharest': 10260,\n",
       " 'Bonn': 10039,\n",
       " 'Strasbourg': 9861,\n",
       " 'Stoke': 9791,\n",
       " 'Bordeaux': 9714,\n",
       " 'Oslo': 9684,\n",
       " 'Krakow': 9514,\n",
       " 'Sofia': 9252,\n",
       " 'Bremen': 9005,\n",
       " 'Nice': 8870,\n",
       " 'Helsinki': 8671,\n",
       " 'Toulouse': 8515,\n",
       " 'The Hague': 8098,\n",
       " 'Hanover': 7603,\n",
       " 'Dortmund': 7532,\n",
       " 'Seville': 7325,\n",
       " 'Middlesbrough': 7270,\n",
       " 'Verona': 7067,\n",
       " 'Nuremberg': 6975,\n",
       " 'Lille': 6743,\n",
       " 'Essen-Oberhausen': 6671,\n",
       " 'Palermo': 6652,\n",
       " 'Porto': 6429,\n",
       " 'Granada': 6225,\n",
       " 'Utrecht': 6207,\n",
       " 'Poznan': 6032,\n",
       " 'Mannheim': 5881,\n",
       " 'Padua': 5754,\n",
       " 'Karlsruhe': 5657,\n",
       " 'Bournemouth': 5622,\n",
       " 'Liege': 5438,\n",
       " 'Cluj-Napoca': 5429,\n",
       " 'Bilbao': 5387,\n",
       " 'Wroclaw': 5166,\n",
       " 'Montpellier': 5095,\n",
       " 'Malaga': 5041,\n",
       " 'Riga': 4918,\n",
       " 'Gothenburg': 4775,\n",
       " 'Augsburg': 4679,\n",
       " 'Nantes': 4579,\n",
       " 'Ghent': 4574,\n",
       " 'Lodz': 4435,\n",
       " 'Zaragoza': 4422,\n",
       " 'Gdansk': 4420,\n",
       " 'Vilnius': 4328,\n",
       " 'Darmstadt': 4281,\n",
       " 'Bratislava': 4278,\n",
       " 'Brno': 3941,\n",
       " 'Cordoba': 3869,\n",
       " 'Thessaloniki': 3855,\n",
       " 'Duisburg': 3653,\n",
       " 'Bochum-Herne': 3533,\n",
       " 'Brescia': 3511,\n",
       " 'Rouen': 3439,\n",
       " 'Tallinn': 3316,\n",
       " 'Grenoble': 3287,\n",
       " 'Valladolid': 2976,\n",
       " 'Eindhoven': 2958,\n",
       " 'Bari': 2957,\n",
       " 'Bergamo': 2887,\n",
       " 'Lublin': 2818,\n",
       " 'Iasi': 2771,\n",
       " 'Toulon': 2763,\n",
       " 'Murcia': 2714,\n",
       " 'Alicante': 2652,\n",
       " 'Catania': 2541,\n",
       " 'Katowice': 2410,\n",
       " 'Timisoara': 2330,\n",
       " 'Saarbrucken': 2281,\n",
       " 'Bielefeld': 2170,\n",
       " 'Kaunas': 2076,\n",
       " 'Szczecin': 2054,\n",
       " 'Plovdiv': 1844,\n",
       " 'Wuppertal': 1833,\n",
       " 'Bydgoszcz': 1712,\n",
       " 'Varna': 1664,\n",
       " 'Brasov': 1628,\n",
       " 'Las Palmas': 1618,\n",
       " 'Craiova': 1532,\n",
       " 'Gdynia': 1519,\n",
       " 'Lens': 1457,\n",
       " 'Constanta': 1409,\n",
       " 'Ostrava': 1383,\n",
       " 'Gelsenkirchen-Bottrop': 1382,\n",
       " 'Charleroi': 1309,\n",
       " 'Palma de Mallorca': 1059,\n",
       " 'Galati': 1053,\n",
       " 'Valletta': 761,\n",
       " 'Caserta': 720,\n",
       " 'A Coruna': 684,\n",
       " 'Santa Cruz de Tenerife': 577,\n",
       " 'Castellammare di Stabia-Torre Annunziata': 204,\n",
       " 'Busto Arsizio': 89}"
      ]
     },
     "execution_count": 384,
     "metadata": {},
     "output_type": "execute_result"
    }
   ],
   "source": [
    "d1 = updated_df['city_1'].value_counts().to_dict()\n",
    "d1"
   ]
  },
  {
   "cell_type": "code",
   "execution_count": 385,
   "id": "4a82a388",
   "metadata": {
    "collapsed": true
   },
   "outputs": [
    {
     "data": {
      "text/plain": [
       "{'London': 186465,\n",
       " 'Paris': 133309,\n",
       " 'Berlin': 86900,\n",
       " 'Rome': 59845,\n",
       " 'Manchester': 58871,\n",
       " 'Vienna': 54418,\n",
       " 'Munich': 44475,\n",
       " 'Liverpool': 42271,\n",
       " 'Milan': 40714,\n",
       " 'Madrid': 40176,\n",
       " 'Edinburgh': 34151,\n",
       " 'Birmingham': 33450,\n",
       " 'Barcelona': 32263,\n",
       " 'Amsterdam': 31842,\n",
       " 'Hamburg': 29835,\n",
       " 'Venice': 29708,\n",
       " 'Brussels': 29139,\n",
       " 'Glasgow': 28756,\n",
       " 'Leeds': 28029,\n",
       " 'Frankfurt': 27836,\n",
       " 'Prague': 24201,\n",
       " 'Florence': 23616,\n",
       " 'Bristol': 23125,\n",
       " 'Sheffield': 22717,\n",
       " 'Warsaw': 22160,\n",
       " 'Newcastle': 22094,\n",
       " 'Dublin': 22010,\n",
       " 'Cologne': 21035,\n",
       " 'Zurich': 20259,\n",
       " 'Naples': 20235,\n",
       " 'Leipzig': 18723,\n",
       " 'Stockholm': 18534,\n",
       " 'Nottingham': 16682,\n",
       " 'Copenhagen': 16485,\n",
       " 'Cardiff': 16452,\n",
       " 'Geneva': 16347,\n",
       " 'Dresden': 16124,\n",
       " 'Stuttgart': 15630,\n",
       " 'Lyon': 15562,\n",
       " 'Budapest': 15507,\n",
       " 'Leicester': 15347,\n",
       " 'Southampton': 15106,\n",
       " 'Athens': 14858,\n",
       " 'Brighton': 13249,\n",
       " 'Turin': 13031,\n",
       " 'Bologna': 12986,\n",
       " 'Antwerp': 12612,\n",
       " 'Lisbon': 12522,\n",
       " 'Dusseldorf': 11995,\n",
       " 'Bradford': 11876,\n",
       " 'Basel': 11784,\n",
       " 'Belfast': 11636,\n",
       " 'Marseille': 11344,\n",
       " 'Valencia': 11298,\n",
       " 'Rotterdam': 11230,\n",
       " 'Genoa': 11108,\n",
       " 'Portsmouth': 10825,\n",
       " 'Coventry': 10283,\n",
       " 'Bucharest': 10260,\n",
       " 'Bonn': 10039,\n",
       " 'Strasbourg': 9861,\n",
       " 'Stoke': 9791,\n",
       " 'Bordeaux': 9714,\n",
       " 'Oslo': 9684,\n",
       " 'Krakow': 9514,\n",
       " 'Sofia': 9252,\n",
       " 'Bremen': 9005,\n",
       " 'Nice': 8870,\n",
       " 'Helsinki': 8671,\n",
       " 'Toulouse': 8515,\n",
       " 'The Hague': 8098,\n",
       " 'Hanover': 7603,\n",
       " 'Dortmund': 7532,\n",
       " 'Seville': 7325,\n",
       " 'Middlesbrough': 7270,\n",
       " 'Verona': 7067,\n",
       " 'Nuremberg': 6975,\n",
       " 'Lille': 6743,\n",
       " 'Essen-Oberhausen': 6671,\n",
       " 'Palermo': 6652,\n",
       " 'Porto': 6429,\n",
       " 'Granada': 6225,\n",
       " 'Utrecht': 6207,\n",
       " 'Poznan': 6032,\n",
       " 'Mannheim': 5881,\n",
       " 'Padua': 5754,\n",
       " 'Karlsruhe': 5657,\n",
       " 'Bournemouth': 5622,\n",
       " 'Liege': 5438,\n",
       " 'Cluj-Napoca': 5429,\n",
       " 'Bilbao': 5387,\n",
       " 'Wroclaw': 5166,\n",
       " 'Montpellier': 5095,\n",
       " 'Malaga': 5041,\n",
       " 'Riga': 4918,\n",
       " 'Gothenburg': 4775,\n",
       " 'Augsburg': 4679,\n",
       " 'Nantes': 4579,\n",
       " 'Ghent': 4574,\n",
       " 'Lodz': 4435,\n",
       " 'Zaragoza': 4422,\n",
       " 'Gdansk': 4420,\n",
       " 'Vilnius': 4328,\n",
       " 'Darmstadt': 4281,\n",
       " 'Bratislava': 4278,\n",
       " 'Brno': 3941,\n",
       " 'Cordoba': 3869,\n",
       " 'Thessaloniki': 3855,\n",
       " 'Duisburg': 3653,\n",
       " 'Bochum-Herne': 3533,\n",
       " 'Brescia': 3511,\n",
       " 'Rouen': 3439,\n",
       " 'Tallinn': 3316,\n",
       " 'Grenoble': 3287,\n",
       " 'Valladolid': 2976,\n",
       " 'Eindhoven': 2958,\n",
       " 'Bari': 2957,\n",
       " 'Bergamo': 2887,\n",
       " 'Lublin': 2818,\n",
       " 'Iasi': 2771,\n",
       " 'Toulon': 2763,\n",
       " 'Murcia': 2714,\n",
       " 'Alicante': 2652,\n",
       " 'Catania': 2541,\n",
       " 'Katowice': 2410,\n",
       " 'Timisoara': 2330,\n",
       " 'Saarbrucken': 2281,\n",
       " 'Bielefeld': 2170,\n",
       " 'Kaunas': 2076,\n",
       " 'Szczecin': 2054,\n",
       " 'Plovdiv': 1844,\n",
       " 'Wuppertal': 1833,\n",
       " 'Bydgoszcz': 1712,\n",
       " 'Varna': 1664,\n",
       " 'Brasov': 1628,\n",
       " 'Las Palmas': 1618,\n",
       " 'Craiova': 1532,\n",
       " 'Gdynia': 1519,\n",
       " 'Lens': 1457,\n",
       " 'Constanta': 1409,\n",
       " 'Ostrava': 1383,\n",
       " 'Gelsenkirchen-Bottrop': 1382,\n",
       " 'Charleroi': 1309,\n",
       " 'Palma de Mallorca': 1059,\n",
       " 'Galati': 1053,\n",
       " 'Valletta': 761,\n",
       " 'Caserta': 720,\n",
       " 'A Coruna': 684,\n",
       " 'Santa Cruz de Tenerife': 577,\n",
       " 'Castellammare di Stabia-Torre Annunziata': 204,\n",
       " 'Busto Arsizio': 89}"
      ]
     },
     "execution_count": 385,
     "metadata": {},
     "output_type": "execute_result"
    }
   ],
   "source": [
    "d2 = updated_df['city_2'].value_counts().to_dict()\n",
    "d2"
   ]
  },
  {
   "cell_type": "code",
   "execution_count": 383,
   "id": "bdd5c00d",
   "metadata": {},
   "outputs": [],
   "source": [
    "# City pairs are reported in both directions (so you will have two rows {paris-london and london-paris} for a paragraph with Paris and London in them)\n",
    "# Checks if all paragraphs with city pairs are reported twice\n",
    "for idx, key in enumerate(d1):\n",
    "    if d1[key] != d2[key]:\n",
    "        print(d1[key], d2[key])\n",
    "    \n",
    "    if idx == 2200000:\n",
    "        break"
   ]
  },
  {
   "cell_type": "code",
   "execution_count": 388,
   "id": "cbd39b88",
   "metadata": {},
   "outputs": [],
   "source": [
    "big_df_grouped_city1 = updated_df.groupby(['city_1'])"
   ]
  },
  {
   "cell_type": "code",
   "execution_count": 413,
   "id": "0a44e41d",
   "metadata": {},
   "outputs": [
    {
     "data": {
      "text/plain": [
       "dict_keys(['A Coruna', 'Alicante', 'Amsterdam', 'Antwerp', 'Athens', 'Augsburg', 'Barcelona', 'Bari', 'Basel', 'Belfast', 'Bergamo', 'Berlin', 'Bielefeld', 'Bilbao', 'Birmingham', 'Bochum-Herne', 'Bologna', 'Bonn', 'Bordeaux', 'Bournemouth', 'Bradford', 'Brasov', 'Bratislava', 'Bremen', 'Brescia', 'Brighton', 'Bristol', 'Brno', 'Brussels', 'Bucharest', 'Budapest', 'Busto Arsizio', 'Bydgoszcz', 'Cardiff', 'Caserta', 'Castellammare di Stabia-Torre Annunziata', 'Catania', 'Charleroi', 'Cluj-Napoca', 'Cologne', 'Constanta', 'Copenhagen', 'Cordoba', 'Coventry', 'Craiova', 'Darmstadt', 'Dortmund', 'Dresden', 'Dublin', 'Duisburg', 'Dusseldorf', 'Edinburgh', 'Eindhoven', 'Essen-Oberhausen', 'Florence', 'Frankfurt', 'Galati', 'Gdansk', 'Gdynia', 'Gelsenkirchen-Bottrop', 'Geneva', 'Genoa', 'Ghent', 'Glasgow', 'Gothenburg', 'Granada', 'Grenoble', 'Hamburg', 'Hanover', 'Helsinki', 'Iasi', 'Karlsruhe', 'Katowice', 'Kaunas', 'Krakow', 'Las Palmas', 'Leeds', 'Leicester', 'Leipzig', 'Lens', 'Liege', 'Lille', 'Lisbon', 'Liverpool', 'Lodz', 'London', 'Lublin', 'Lyon', 'Madrid', 'Malaga', 'Manchester', 'Mannheim', 'Marseille', 'Middlesbrough', 'Milan', 'Montpellier', 'Munich', 'Murcia', 'Nantes', 'Naples', 'Newcastle', 'Nice', 'Nottingham', 'Nuremberg', 'Oslo', 'Ostrava', 'Padua', 'Palermo', 'Palma de Mallorca', 'Paris', 'Plovdiv', 'Porto', 'Portsmouth', 'Poznan', 'Prague', 'Riga', 'Rome', 'Rotterdam', 'Rouen', 'Saarbrucken', 'Santa Cruz de Tenerife', 'Seville', 'Sheffield', 'Sofia', 'Southampton', 'Stockholm', 'Stoke', 'Strasbourg', 'Stuttgart', 'Szczecin', 'Tallinn', 'The Hague', 'Thessaloniki', 'Timisoara', 'Toulon', 'Toulouse', 'Turin', 'Utrecht', 'Valencia', 'Valladolid', 'Valletta', 'Varna', 'Venice', 'Verona', 'Vienna', 'Vilnius', 'Warsaw', 'Wroclaw', 'Wuppertal', 'Zaragoza', 'Zurich'])"
      ]
     },
     "execution_count": 413,
     "metadata": {},
     "output_type": "execute_result"
    }
   ],
   "source": [
    "big_df_grouped_city1.groups.keys()"
   ]
  },
  {
   "cell_type": "code",
   "execution_count": 443,
   "id": "b83c1903",
   "metadata": {},
   "outputs": [
    {
     "data": {
      "text/plain": [
       "['0.6448632752762254.txt',\n",
       " 'lda_model_2millionDocs_5topics_dictionary.dict',\n",
       " 'lda_model_2millionDocs_5topics_model.model',\n",
       " 'lda_model_2millionDocs_5topics_texts.pickle',\n",
       " 'lda_model_2millionDocs_5topics_visualisation.html',\n",
       " 'paragraphs_lda_topic_distribution',\n",
       " 'paragraphs_lda_topic_distribution2',\n",
       " 'paragraphs_word_embedding_categorisation',\n",
       " 'paragraphs_word_embedding_categorisation2',\n",
       " 'relevant_words_per_topic.csv',\n",
       " 'topic_distributions_per_paragraph.csv']"
      ]
     },
     "execution_count": 443,
     "metadata": {},
     "output_type": "execute_result"
    }
   ],
   "source": [
    "os.listdir('../../../../data_clean/lda_models/lda_model_2millionDocs_5topics/')"
   ]
  },
  {
   "cell_type": "code",
   "execution_count": 2,
   "id": "7ada41d0",
   "metadata": {},
   "outputs": [],
   "source": [
    "city_pair_output_dir = os.path.abspath(\"../../../../data_clean/lda_models/lda_model_2millionDocs_5topics/\")\n",
    "dir_name = 'city_pair_classification'\n",
    "directory = os.path.join(city_pair_output_dir, dir_name)\n",
    "os.makedirs(directory, exist_ok=True)"
   ]
  },
  {
   "cell_type": "code",
   "execution_count": 454,
   "id": "701ba015",
   "metadata": {},
   "outputs": [
    {
     "name": "stdout",
     "output_type": "stream",
     "text": [
      "['topic_1', 'topic_2', 'topic_3', 'topic_4', 'topic_5']\n"
     ]
    },
    {
     "data": {
      "text/plain": [
       "['Topic 1', 'Topic 2', 'Topic 3', 'Topic 4', 'Topic 5']"
      ]
     },
     "execution_count": 454,
     "metadata": {},
     "output_type": "execute_result"
    }
   ],
   "source": [
    "print(sorted(updated_df['lda_dominant'].unique()))\n",
    "sorted(updated_df['embedding_dominant'].unique())"
   ]
  },
  {
   "cell_type": "code",
   "execution_count": 457,
   "id": "7d65ed99",
   "metadata": {},
   "outputs": [],
   "source": [
    "nested_list2 = [['city_1', 'city_2', 'paragraphs', 'lemmatised_paragraph_length',\n",
    "                'same_categorisation_raw', 'same_categorisation_percentage',\n",
    "                'lda_dominant_category', 'embedding_dominant_category',\n",
    "                'lda_topic_1', 'embedding_topic_1',\n",
    "                'lda_topic_2', 'embedding_topic_2',\n",
    "                'lda_topic_3', 'embedding_topic_3',\n",
    "                'lda_topic_4', 'embedding_topic_4', \n",
    "                'lda_topic_5', 'embedding_topic_5']\n",
    "               ]"
   ]
  },
  {
   "cell_type": "code",
   "execution_count": 478,
   "id": "a5233d2f",
   "metadata": {},
   "outputs": [
    {
     "ename": "AttributeError",
     "evalue": "'str' object has no attribute 'apply'",
     "output_type": "error",
     "traceback": [
      "\u001b[1;31m---------------------------------------------------------------------------\u001b[0m",
      "\u001b[1;31mAttributeError\u001b[0m                            Traceback (most recent call last)",
      "Input \u001b[1;32mIn [478]\u001b[0m, in \u001b[0;36m<cell line: 1>\u001b[1;34m()\u001b[0m\n\u001b[1;32m----> 1\u001b[0m \u001b[43mcity_pair_df\u001b[49m\u001b[43m[\u001b[49m\u001b[38;5;124;43m'\u001b[39;49m\u001b[38;5;124;43mmerged_POS\u001b[39;49m\u001b[38;5;124;43m'\u001b[39;49m\u001b[43m]\u001b[49m\u001b[38;5;241;43m.\u001b[39;49m\u001b[43miloc\u001b[49m\u001b[43m[\u001b[49m\u001b[38;5;241;43m0\u001b[39;49m\u001b[43m]\u001b[49m\u001b[38;5;241;43m.\u001b[39;49m\u001b[43mapply\u001b[49m(literal_eval)\n",
      "\u001b[1;31mAttributeError\u001b[0m: 'str' object has no attribute 'apply'"
     ]
    }
   ],
   "source": [
    "city_pair_df['merged_POS'].iloc[0].apply(literal_eval) #.mean()"
   ]
  },
  {
   "cell_type": "code",
   "execution_count": 480,
   "id": "25fabbf7",
   "metadata": {},
   "outputs": [
    {
     "name": "stdout",
     "output_type": "stream",
     "text": [
      "CPU times: total: 3min 4s\n",
      "Wall time: 8min 29s\n"
     ]
    }
   ],
   "source": [
    "%%time\n",
    "\n",
    "updated_df['merged_POS'] = updated_df['merged_POS'].apply(literal_eval)"
   ]
  },
  {
   "cell_type": "code",
   "execution_count": 482,
   "id": "297690a6",
   "metadata": {},
   "outputs": [
    {
     "data": {
      "text/plain": [
       "40.834"
      ]
     },
     "execution_count": 482,
     "metadata": {},
     "output_type": "execute_result"
    }
   ],
   "source": [
    "updated_df['merged_POS'][:1000].str.len().mean()"
   ]
  },
  {
   "cell_type": "code",
   "execution_count": 14,
   "id": "c0b0bdfc",
   "metadata": {},
   "outputs": [],
   "source": [
    "big_df_grouped_city1 = updated_df.groupby(['city_1'])"
   ]
  },
  {
   "cell_type": "code",
   "execution_count": 15,
   "id": "f1b436ea",
   "metadata": {},
   "outputs": [
    {
     "data": {
      "application/vnd.jupyter.widget-view+json": {
       "model_id": "5de258e21f574cf7b75d83ea60555449",
       "version_major": 2,
       "version_minor": 0
      },
      "text/plain": [
       "  0%|          | 0/151 [00:00<?, ?it/s]"
      ]
     },
     "metadata": {},
     "output_type": "display_data"
    },
    {
     "data": {
      "application/vnd.jupyter.widget-view+json": {
       "model_id": "",
       "version_major": 2,
       "version_minor": 0
      },
      "text/plain": [
       "  0%|          | 0/79 [00:00<?, ?it/s]"
      ]
     },
     "metadata": {},
     "output_type": "display_data"
    },
    {
     "data": {
      "application/vnd.jupyter.widget-view+json": {
       "model_id": "",
       "version_major": 2,
       "version_minor": 0
      },
      "text/plain": [
       "  0%|          | 0/125 [00:00<?, ?it/s]"
      ]
     },
     "metadata": {},
     "output_type": "display_data"
    },
    {
     "data": {
      "application/vnd.jupyter.widget-view+json": {
       "model_id": "",
       "version_major": 2,
       "version_minor": 0
      },
      "text/plain": [
       "  0%|          | 0/147 [00:00<?, ?it/s]"
      ]
     },
     "metadata": {},
     "output_type": "display_data"
    },
    {
     "data": {
      "application/vnd.jupyter.widget-view+json": {
       "model_id": "",
       "version_major": 2,
       "version_minor": 0
      },
      "text/plain": [
       "  0%|          | 0/146 [00:00<?, ?it/s]"
      ]
     },
     "metadata": {},
     "output_type": "display_data"
    },
    {
     "data": {
      "application/vnd.jupyter.widget-view+json": {
       "model_id": "",
       "version_major": 2,
       "version_minor": 0
      },
      "text/plain": [
       "  0%|          | 0/148 [00:00<?, ?it/s]"
      ]
     },
     "metadata": {},
     "output_type": "display_data"
    },
    {
     "data": {
      "application/vnd.jupyter.widget-view+json": {
       "model_id": "",
       "version_major": 2,
       "version_minor": 0
      },
      "text/plain": [
       "  0%|          | 0/130 [00:00<?, ?it/s]"
      ]
     },
     "metadata": {},
     "output_type": "display_data"
    },
    {
     "data": {
      "application/vnd.jupyter.widget-view+json": {
       "model_id": "",
       "version_major": 2,
       "version_minor": 0
      },
      "text/plain": [
       "  0%|          | 0/149 [00:00<?, ?it/s]"
      ]
     },
     "metadata": {},
     "output_type": "display_data"
    },
    {
     "data": {
      "application/vnd.jupyter.widget-view+json": {
       "model_id": "",
       "version_major": 2,
       "version_minor": 0
      },
      "text/plain": [
       "  0%|          | 0/130 [00:00<?, ?it/s]"
      ]
     },
     "metadata": {},
     "output_type": "display_data"
    },
    {
     "data": {
      "application/vnd.jupyter.widget-view+json": {
       "model_id": "",
       "version_major": 2,
       "version_minor": 0
      },
      "text/plain": [
       "  0%|          | 0/147 [00:00<?, ?it/s]"
      ]
     },
     "metadata": {},
     "output_type": "display_data"
    },
    {
     "data": {
      "application/vnd.jupyter.widget-view+json": {
       "model_id": "",
       "version_major": 2,
       "version_minor": 0
      },
      "text/plain": [
       "  0%|          | 0/136 [00:00<?, ?it/s]"
      ]
     },
     "metadata": {},
     "output_type": "display_data"
    },
    {
     "data": {
      "application/vnd.jupyter.widget-view+json": {
       "model_id": "",
       "version_major": 2,
       "version_minor": 0
      },
      "text/plain": [
       "  0%|          | 0/119 [00:00<?, ?it/s]"
      ]
     },
     "metadata": {},
     "output_type": "display_data"
    },
    {
     "data": {
      "application/vnd.jupyter.widget-view+json": {
       "model_id": "",
       "version_major": 2,
       "version_minor": 0
      },
      "text/plain": [
       "  0%|          | 0/148 [00:00<?, ?it/s]"
      ]
     },
     "metadata": {},
     "output_type": "display_data"
    },
    {
     "data": {
      "application/vnd.jupyter.widget-view+json": {
       "model_id": "",
       "version_major": 2,
       "version_minor": 0
      },
      "text/plain": [
       "  0%|          | 0/113 [00:00<?, ?it/s]"
      ]
     },
     "metadata": {},
     "output_type": "display_data"
    },
    {
     "data": {
      "application/vnd.jupyter.widget-view+json": {
       "model_id": "",
       "version_major": 2,
       "version_minor": 0
      },
      "text/plain": [
       "  0%|          | 0/141 [00:00<?, ?it/s]"
      ]
     },
     "metadata": {},
     "output_type": "display_data"
    },
    {
     "data": {
      "application/vnd.jupyter.widget-view+json": {
       "model_id": "",
       "version_major": 2,
       "version_minor": 0
      },
      "text/plain": [
       "  0%|          | 0/144 [00:00<?, ?it/s]"
      ]
     },
     "metadata": {},
     "output_type": "display_data"
    },
    {
     "data": {
      "application/vnd.jupyter.widget-view+json": {
       "model_id": "",
       "version_major": 2,
       "version_minor": 0
      },
      "text/plain": [
       "  0%|          | 0/127 [00:00<?, ?it/s]"
      ]
     },
     "metadata": {},
     "output_type": "display_data"
    },
    {
     "data": {
      "application/vnd.jupyter.widget-view+json": {
       "model_id": "",
       "version_major": 2,
       "version_minor": 0
      },
      "text/plain": [
       "  0%|          | 0/143 [00:00<?, ?it/s]"
      ]
     },
     "metadata": {},
     "output_type": "display_data"
    },
    {
     "data": {
      "application/vnd.jupyter.widget-view+json": {
       "model_id": "",
       "version_major": 2,
       "version_minor": 0
      },
      "text/plain": [
       "  0%|          | 0/141 [00:00<?, ?it/s]"
      ]
     },
     "metadata": {},
     "output_type": "display_data"
    },
    {
     "data": {
      "application/vnd.jupyter.widget-view+json": {
       "model_id": "",
       "version_major": 2,
       "version_minor": 0
      },
      "text/plain": [
       "  0%|          | 0/141 [00:00<?, ?it/s]"
      ]
     },
     "metadata": {},
     "output_type": "display_data"
    },
    {
     "data": {
      "application/vnd.jupyter.widget-view+json": {
       "model_id": "",
       "version_major": 2,
       "version_minor": 0
      },
      "text/plain": [
       "  0%|          | 0/109 [00:00<?, ?it/s]"
      ]
     },
     "metadata": {},
     "output_type": "display_data"
    },
    {
     "data": {
      "application/vnd.jupyter.widget-view+json": {
       "model_id": "",
       "version_major": 2,
       "version_minor": 0
      },
      "text/plain": [
       "  0%|          | 0/117 [00:00<?, ?it/s]"
      ]
     },
     "metadata": {},
     "output_type": "display_data"
    },
    {
     "data": {
      "application/vnd.jupyter.widget-view+json": {
       "model_id": "",
       "version_major": 2,
       "version_minor": 0
      },
      "text/plain": [
       "  0%|          | 0/93 [00:00<?, ?it/s]"
      ]
     },
     "metadata": {},
     "output_type": "display_data"
    },
    {
     "data": {
      "application/vnd.jupyter.widget-view+json": {
       "model_id": "",
       "version_major": 2,
       "version_minor": 0
      },
      "text/plain": [
       "  0%|          | 0/136 [00:00<?, ?it/s]"
      ]
     },
     "metadata": {},
     "output_type": "display_data"
    },
    {
     "data": {
      "application/vnd.jupyter.widget-view+json": {
       "model_id": "",
       "version_major": 2,
       "version_minor": 0
      },
      "text/plain": [
       "  0%|          | 0/139 [00:00<?, ?it/s]"
      ]
     },
     "metadata": {},
     "output_type": "display_data"
    },
    {
     "data": {
      "application/vnd.jupyter.widget-view+json": {
       "model_id": "",
       "version_major": 2,
       "version_minor": 0
      },
      "text/plain": [
       "  0%|          | 0/121 [00:00<?, ?it/s]"
      ]
     },
     "metadata": {},
     "output_type": "display_data"
    },
    {
     "data": {
      "application/vnd.jupyter.widget-view+json": {
       "model_id": "",
       "version_major": 2,
       "version_minor": 0
      },
      "text/plain": [
       "  0%|          | 0/128 [00:00<?, ?it/s]"
      ]
     },
     "metadata": {},
     "output_type": "display_data"
    },
    {
     "data": {
      "application/vnd.jupyter.widget-view+json": {
       "model_id": "",
       "version_major": 2,
       "version_minor": 0
      },
      "text/plain": [
       "  0%|          | 0/139 [00:00<?, ?it/s]"
      ]
     },
     "metadata": {},
     "output_type": "display_data"
    },
    {
     "data": {
      "application/vnd.jupyter.widget-view+json": {
       "model_id": "",
       "version_major": 2,
       "version_minor": 0
      },
      "text/plain": [
       "  0%|          | 0/129 [00:00<?, ?it/s]"
      ]
     },
     "metadata": {},
     "output_type": "display_data"
    },
    {
     "data": {
      "application/vnd.jupyter.widget-view+json": {
       "model_id": "",
       "version_major": 2,
       "version_minor": 0
      },
      "text/plain": [
       "  0%|          | 0/149 [00:00<?, ?it/s]"
      ]
     },
     "metadata": {},
     "output_type": "display_data"
    },
    {
     "data": {
      "application/vnd.jupyter.widget-view+json": {
       "model_id": "",
       "version_major": 2,
       "version_minor": 0
      },
      "text/plain": [
       "  0%|          | 0/143 [00:00<?, ?it/s]"
      ]
     },
     "metadata": {},
     "output_type": "display_data"
    },
    {
     "data": {
      "application/vnd.jupyter.widget-view+json": {
       "model_id": "",
       "version_major": 2,
       "version_minor": 0
      },
      "text/plain": [
       "  0%|          | 0/148 [00:00<?, ?it/s]"
      ]
     },
     "metadata": {},
     "output_type": "display_data"
    },
    {
     "data": {
      "application/vnd.jupyter.widget-view+json": {
       "model_id": "",
       "version_major": 2,
       "version_minor": 0
      },
      "text/plain": [
       "  0%|          | 0/19 [00:00<?, ?it/s]"
      ]
     },
     "metadata": {},
     "output_type": "display_data"
    },
    {
     "data": {
      "application/vnd.jupyter.widget-view+json": {
       "model_id": "",
       "version_major": 2,
       "version_minor": 0
      },
      "text/plain": [
       "  0%|          | 0/97 [00:00<?, ?it/s]"
      ]
     },
     "metadata": {},
     "output_type": "display_data"
    },
    {
     "data": {
      "application/vnd.jupyter.widget-view+json": {
       "model_id": "",
       "version_major": 2,
       "version_minor": 0
      },
      "text/plain": [
       "  0%|          | 0/134 [00:00<?, ?it/s]"
      ]
     },
     "metadata": {},
     "output_type": "display_data"
    },
    {
     "data": {
      "application/vnd.jupyter.widget-view+json": {
       "model_id": "",
       "version_major": 2,
       "version_minor": 0
      },
      "text/plain": [
       "  0%|          | 0/63 [00:00<?, ?it/s]"
      ]
     },
     "metadata": {},
     "output_type": "display_data"
    },
    {
     "data": {
      "application/vnd.jupyter.widget-view+json": {
       "model_id": "",
       "version_major": 2,
       "version_minor": 0
      },
      "text/plain": [
       "  0%|          | 0/27 [00:00<?, ?it/s]"
      ]
     },
     "metadata": {},
     "output_type": "display_data"
    },
    {
     "data": {
      "application/vnd.jupyter.widget-view+json": {
       "model_id": "",
       "version_major": 2,
       "version_minor": 0
      },
      "text/plain": [
       "  0%|          | 0/121 [00:00<?, ?it/s]"
      ]
     },
     "metadata": {},
     "output_type": "display_data"
    },
    {
     "data": {
      "application/vnd.jupyter.widget-view+json": {
       "model_id": "",
       "version_major": 2,
       "version_minor": 0
      },
      "text/plain": [
       "  0%|          | 0/113 [00:00<?, ?it/s]"
      ]
     },
     "metadata": {},
     "output_type": "display_data"
    },
    {
     "data": {
      "application/vnd.jupyter.widget-view+json": {
       "model_id": "",
       "version_major": 2,
       "version_minor": 0
      },
      "text/plain": [
       "  0%|          | 0/120 [00:00<?, ?it/s]"
      ]
     },
     "metadata": {},
     "output_type": "display_data"
    },
    {
     "data": {
      "application/vnd.jupyter.widget-view+json": {
       "model_id": "",
       "version_major": 2,
       "version_minor": 0
      },
      "text/plain": [
       "  0%|          | 0/143 [00:00<?, ?it/s]"
      ]
     },
     "metadata": {},
     "output_type": "display_data"
    },
    {
     "data": {
      "application/vnd.jupyter.widget-view+json": {
       "model_id": "",
       "version_major": 2,
       "version_minor": 0
      },
      "text/plain": [
       "  0%|          | 0/100 [00:00<?, ?it/s]"
      ]
     },
     "metadata": {},
     "output_type": "display_data"
    },
    {
     "data": {
      "application/vnd.jupyter.widget-view+json": {
       "model_id": "",
       "version_major": 2,
       "version_minor": 0
      },
      "text/plain": [
       "  0%|          | 0/146 [00:00<?, ?it/s]"
      ]
     },
     "metadata": {},
     "output_type": "display_data"
    },
    {
     "data": {
      "application/vnd.jupyter.widget-view+json": {
       "model_id": "",
       "version_major": 2,
       "version_minor": 0
      },
      "text/plain": [
       "  0%|          | 0/122 [00:00<?, ?it/s]"
      ]
     },
     "metadata": {},
     "output_type": "display_data"
    },
    {
     "data": {
      "application/vnd.jupyter.widget-view+json": {
       "model_id": "",
       "version_major": 2,
       "version_minor": 0
      },
      "text/plain": [
       "  0%|          | 0/122 [00:00<?, ?it/s]"
      ]
     },
     "metadata": {},
     "output_type": "display_data"
    },
    {
     "data": {
      "application/vnd.jupyter.widget-view+json": {
       "model_id": "",
       "version_major": 2,
       "version_minor": 0
      },
      "text/plain": [
       "  0%|          | 0/99 [00:00<?, ?it/s]"
      ]
     },
     "metadata": {},
     "output_type": "display_data"
    },
    {
     "data": {
      "application/vnd.jupyter.widget-view+json": {
       "model_id": "",
       "version_major": 2,
       "version_minor": 0
      },
      "text/plain": [
       "  0%|          | 0/130 [00:00<?, ?it/s]"
      ]
     },
     "metadata": {},
     "output_type": "display_data"
    },
    {
     "data": {
      "application/vnd.jupyter.widget-view+json": {
       "model_id": "",
       "version_major": 2,
       "version_minor": 0
      },
      "text/plain": [
       "  0%|          | 0/139 [00:00<?, ?it/s]"
      ]
     },
     "metadata": {},
     "output_type": "display_data"
    },
    {
     "data": {
      "application/vnd.jupyter.widget-view+json": {
       "model_id": "",
       "version_major": 2,
       "version_minor": 0
      },
      "text/plain": [
       "  0%|          | 0/144 [00:00<?, ?it/s]"
      ]
     },
     "metadata": {},
     "output_type": "display_data"
    },
    {
     "data": {
      "application/vnd.jupyter.widget-view+json": {
       "model_id": "",
       "version_major": 2,
       "version_minor": 0
      },
      "text/plain": [
       "  0%|          | 0/146 [00:00<?, ?it/s]"
      ]
     },
     "metadata": {},
     "output_type": "display_data"
    },
    {
     "data": {
      "application/vnd.jupyter.widget-view+json": {
       "model_id": "",
       "version_major": 2,
       "version_minor": 0
      },
      "text/plain": [
       "  0%|          | 0/119 [00:00<?, ?it/s]"
      ]
     },
     "metadata": {},
     "output_type": "display_data"
    },
    {
     "data": {
      "application/vnd.jupyter.widget-view+json": {
       "model_id": "",
       "version_major": 2,
       "version_minor": 0
      },
      "text/plain": [
       "  0%|          | 0/144 [00:00<?, ?it/s]"
      ]
     },
     "metadata": {},
     "output_type": "display_data"
    },
    {
     "data": {
      "application/vnd.jupyter.widget-view+json": {
       "model_id": "",
       "version_major": 2,
       "version_minor": 0
      },
      "text/plain": [
       "  0%|          | 0/142 [00:00<?, ?it/s]"
      ]
     },
     "metadata": {},
     "output_type": "display_data"
    },
    {
     "data": {
      "application/vnd.jupyter.widget-view+json": {
       "model_id": "",
       "version_major": 2,
       "version_minor": 0
      },
      "text/plain": [
       "  0%|          | 0/134 [00:00<?, ?it/s]"
      ]
     },
     "metadata": {},
     "output_type": "display_data"
    },
    {
     "data": {
      "application/vnd.jupyter.widget-view+json": {
       "model_id": "",
       "version_major": 2,
       "version_minor": 0
      },
      "text/plain": [
       "  0%|          | 0/135 [00:00<?, ?it/s]"
      ]
     },
     "metadata": {},
     "output_type": "display_data"
    },
    {
     "data": {
      "application/vnd.jupyter.widget-view+json": {
       "model_id": "",
       "version_major": 2,
       "version_minor": 0
      },
      "text/plain": [
       "  0%|          | 0/148 [00:00<?, ?it/s]"
      ]
     },
     "metadata": {},
     "output_type": "display_data"
    },
    {
     "data": {
      "application/vnd.jupyter.widget-view+json": {
       "model_id": "",
       "version_major": 2,
       "version_minor": 0
      },
      "text/plain": [
       "  0%|          | 0/146 [00:00<?, ?it/s]"
      ]
     },
     "metadata": {},
     "output_type": "display_data"
    },
    {
     "data": {
      "application/vnd.jupyter.widget-view+json": {
       "model_id": "",
       "version_major": 2,
       "version_minor": 0
      },
      "text/plain": [
       "  0%|          | 0/68 [00:00<?, ?it/s]"
      ]
     },
     "metadata": {},
     "output_type": "display_data"
    },
    {
     "data": {
      "application/vnd.jupyter.widget-view+json": {
       "model_id": "",
       "version_major": 2,
       "version_minor": 0
      },
      "text/plain": [
       "  0%|          | 0/133 [00:00<?, ?it/s]"
      ]
     },
     "metadata": {},
     "output_type": "display_data"
    },
    {
     "data": {
      "application/vnd.jupyter.widget-view+json": {
       "model_id": "",
       "version_major": 2,
       "version_minor": 0
      },
      "text/plain": [
       "  0%|          | 0/96 [00:00<?, ?it/s]"
      ]
     },
     "metadata": {},
     "output_type": "display_data"
    },
    {
     "data": {
      "application/vnd.jupyter.widget-view+json": {
       "model_id": "",
       "version_major": 2,
       "version_minor": 0
      },
      "text/plain": [
       "  0%|          | 0/89 [00:00<?, ?it/s]"
      ]
     },
     "metadata": {},
     "output_type": "display_data"
    },
    {
     "data": {
      "application/vnd.jupyter.widget-view+json": {
       "model_id": "",
       "version_major": 2,
       "version_minor": 0
      },
      "text/plain": [
       "  0%|          | 0/147 [00:00<?, ?it/s]"
      ]
     },
     "metadata": {},
     "output_type": "display_data"
    },
    {
     "data": {
      "application/vnd.jupyter.widget-view+json": {
       "model_id": "",
       "version_major": 2,
       "version_minor": 0
      },
      "text/plain": [
       "  0%|          | 0/141 [00:00<?, ?it/s]"
      ]
     },
     "metadata": {},
     "output_type": "display_data"
    },
    {
     "data": {
      "application/vnd.jupyter.widget-view+json": {
       "model_id": "",
       "version_major": 2,
       "version_minor": 0
      },
      "text/plain": [
       "  0%|          | 0/133 [00:00<?, ?it/s]"
      ]
     },
     "metadata": {},
     "output_type": "display_data"
    },
    {
     "data": {
      "application/vnd.jupyter.widget-view+json": {
       "model_id": "",
       "version_major": 2,
       "version_minor": 0
      },
      "text/plain": [
       "  0%|          | 0/142 [00:00<?, ?it/s]"
      ]
     },
     "metadata": {},
     "output_type": "display_data"
    },
    {
     "data": {
      "application/vnd.jupyter.widget-view+json": {
       "model_id": "",
       "version_major": 2,
       "version_minor": 0
      },
      "text/plain": [
       "  0%|          | 0/137 [00:00<?, ?it/s]"
      ]
     },
     "metadata": {},
     "output_type": "display_data"
    },
    {
     "data": {
      "application/vnd.jupyter.widget-view+json": {
       "model_id": "",
       "version_major": 2,
       "version_minor": 0
      },
      "text/plain": [
       "  0%|          | 0/129 [00:00<?, ?it/s]"
      ]
     },
     "metadata": {},
     "output_type": "display_data"
    },
    {
     "data": {
      "application/vnd.jupyter.widget-view+json": {
       "model_id": "",
       "version_major": 2,
       "version_minor": 0
      },
      "text/plain": [
       "  0%|          | 0/135 [00:00<?, ?it/s]"
      ]
     },
     "metadata": {},
     "output_type": "display_data"
    },
    {
     "data": {
      "application/vnd.jupyter.widget-view+json": {
       "model_id": "",
       "version_major": 2,
       "version_minor": 0
      },
      "text/plain": [
       "  0%|          | 0/147 [00:00<?, ?it/s]"
      ]
     },
     "metadata": {},
     "output_type": "display_data"
    },
    {
     "data": {
      "application/vnd.jupyter.widget-view+json": {
       "model_id": "",
       "version_major": 2,
       "version_minor": 0
      },
      "text/plain": [
       "  0%|          | 0/125 [00:00<?, ?it/s]"
      ]
     },
     "metadata": {},
     "output_type": "display_data"
    },
    {
     "data": {
      "application/vnd.jupyter.widget-view+json": {
       "model_id": "",
       "version_major": 2,
       "version_minor": 0
      },
      "text/plain": [
       "  0%|          | 0/144 [00:00<?, ?it/s]"
      ]
     },
     "metadata": {},
     "output_type": "display_data"
    },
    {
     "data": {
      "application/vnd.jupyter.widget-view+json": {
       "model_id": "",
       "version_major": 2,
       "version_minor": 0
      },
      "text/plain": [
       "  0%|          | 0/94 [00:00<?, ?it/s]"
      ]
     },
     "metadata": {},
     "output_type": "display_data"
    },
    {
     "data": {
      "application/vnd.jupyter.widget-view+json": {
       "model_id": "",
       "version_major": 2,
       "version_minor": 0
      },
      "text/plain": [
       "  0%|          | 0/132 [00:00<?, ?it/s]"
      ]
     },
     "metadata": {},
     "output_type": "display_data"
    },
    {
     "data": {
      "application/vnd.jupyter.widget-view+json": {
       "model_id": "",
       "version_major": 2,
       "version_minor": 0
      },
      "text/plain": [
       "  0%|          | 0/120 [00:00<?, ?it/s]"
      ]
     },
     "metadata": {},
     "output_type": "display_data"
    },
    {
     "data": {
      "application/vnd.jupyter.widget-view+json": {
       "model_id": "",
       "version_major": 2,
       "version_minor": 0
      },
      "text/plain": [
       "  0%|          | 0/124 [00:00<?, ?it/s]"
      ]
     },
     "metadata": {},
     "output_type": "display_data"
    },
    {
     "data": {
      "application/vnd.jupyter.widget-view+json": {
       "model_id": "",
       "version_major": 2,
       "version_minor": 0
      },
      "text/plain": [
       "  0%|          | 0/144 [00:00<?, ?it/s]"
      ]
     },
     "metadata": {},
     "output_type": "display_data"
    },
    {
     "data": {
      "application/vnd.jupyter.widget-view+json": {
       "model_id": "",
       "version_major": 2,
       "version_minor": 0
      },
      "text/plain": [
       "  0%|          | 0/120 [00:00<?, ?it/s]"
      ]
     },
     "metadata": {},
     "output_type": "display_data"
    },
    {
     "data": {
      "application/vnd.jupyter.widget-view+json": {
       "model_id": "",
       "version_major": 2,
       "version_minor": 0
      },
      "text/plain": [
       "  0%|          | 0/137 [00:00<?, ?it/s]"
      ]
     },
     "metadata": {},
     "output_type": "display_data"
    },
    {
     "data": {
      "application/vnd.jupyter.widget-view+json": {
       "model_id": "",
       "version_major": 2,
       "version_minor": 0
      },
      "text/plain": [
       "  0%|          | 0/130 [00:00<?, ?it/s]"
      ]
     },
     "metadata": {},
     "output_type": "display_data"
    },
    {
     "data": {
      "application/vnd.jupyter.widget-view+json": {
       "model_id": "",
       "version_major": 2,
       "version_minor": 0
      },
      "text/plain": [
       "  0%|          | 0/144 [00:00<?, ?it/s]"
      ]
     },
     "metadata": {},
     "output_type": "display_data"
    },
    {
     "data": {
      "application/vnd.jupyter.widget-view+json": {
       "model_id": "",
       "version_major": 2,
       "version_minor": 0
      },
      "text/plain": [
       "  0%|          | 0/119 [00:00<?, ?it/s]"
      ]
     },
     "metadata": {},
     "output_type": "display_data"
    },
    {
     "data": {
      "application/vnd.jupyter.widget-view+json": {
       "model_id": "",
       "version_major": 2,
       "version_minor": 0
      },
      "text/plain": [
       "  0%|          | 0/138 [00:00<?, ?it/s]"
      ]
     },
     "metadata": {},
     "output_type": "display_data"
    },
    {
     "data": {
      "application/vnd.jupyter.widget-view+json": {
       "model_id": "",
       "version_major": 2,
       "version_minor": 0
      },
      "text/plain": [
       "  0%|          | 0/139 [00:00<?, ?it/s]"
      ]
     },
     "metadata": {},
     "output_type": "display_data"
    },
    {
     "data": {
      "application/vnd.jupyter.widget-view+json": {
       "model_id": "",
       "version_major": 2,
       "version_minor": 0
      },
      "text/plain": [
       "  0%|          | 0/146 [00:00<?, ?it/s]"
      ]
     },
     "metadata": {},
     "output_type": "display_data"
    },
    {
     "data": {
      "application/vnd.jupyter.widget-view+json": {
       "model_id": "",
       "version_major": 2,
       "version_minor": 0
      },
      "text/plain": [
       "  0%|          | 0/144 [00:00<?, ?it/s]"
      ]
     },
     "metadata": {},
     "output_type": "display_data"
    },
    {
     "data": {
      "application/vnd.jupyter.widget-view+json": {
       "model_id": "",
       "version_major": 2,
       "version_minor": 0
      },
      "text/plain": [
       "  0%|          | 0/127 [00:00<?, ?it/s]"
      ]
     },
     "metadata": {},
     "output_type": "display_data"
    },
    {
     "data": {
      "application/vnd.jupyter.widget-view+json": {
       "model_id": "",
       "version_major": 2,
       "version_minor": 0
      },
      "text/plain": [
       "  0%|          | 0/149 [00:00<?, ?it/s]"
      ]
     },
     "metadata": {},
     "output_type": "display_data"
    },
    {
     "data": {
      "application/vnd.jupyter.widget-view+json": {
       "model_id": "",
       "version_major": 2,
       "version_minor": 0
      },
      "text/plain": [
       "  0%|          | 0/109 [00:00<?, ?it/s]"
      ]
     },
     "metadata": {},
     "output_type": "display_data"
    },
    {
     "data": {
      "application/vnd.jupyter.widget-view+json": {
       "model_id": "",
       "version_major": 2,
       "version_minor": 0
      },
      "text/plain": [
       "  0%|          | 0/142 [00:00<?, ?it/s]"
      ]
     },
     "metadata": {},
     "output_type": "display_data"
    },
    {
     "data": {
      "application/vnd.jupyter.widget-view+json": {
       "model_id": "",
       "version_major": 2,
       "version_minor": 0
      },
      "text/plain": [
       "  0%|          | 0/148 [00:00<?, ?it/s]"
      ]
     },
     "metadata": {},
     "output_type": "display_data"
    },
    {
     "data": {
      "application/vnd.jupyter.widget-view+json": {
       "model_id": "",
       "version_major": 2,
       "version_minor": 0
      },
      "text/plain": [
       "  0%|          | 0/132 [00:00<?, ?it/s]"
      ]
     },
     "metadata": {},
     "output_type": "display_data"
    },
    {
     "data": {
      "application/vnd.jupyter.widget-view+json": {
       "model_id": "",
       "version_major": 2,
       "version_minor": 0
      },
      "text/plain": [
       "  0%|          | 0/146 [00:00<?, ?it/s]"
      ]
     },
     "metadata": {},
     "output_type": "display_data"
    },
    {
     "data": {
      "application/vnd.jupyter.widget-view+json": {
       "model_id": "",
       "version_major": 2,
       "version_minor": 0
      },
      "text/plain": [
       "  0%|          | 0/132 [00:00<?, ?it/s]"
      ]
     },
     "metadata": {},
     "output_type": "display_data"
    },
    {
     "data": {
      "application/vnd.jupyter.widget-view+json": {
       "model_id": "",
       "version_major": 2,
       "version_minor": 0
      },
      "text/plain": [
       "  0%|          | 0/145 [00:00<?, ?it/s]"
      ]
     },
     "metadata": {},
     "output_type": "display_data"
    },
    {
     "data": {
      "application/vnd.jupyter.widget-view+json": {
       "model_id": "",
       "version_major": 2,
       "version_minor": 0
      },
      "text/plain": [
       "  0%|          | 0/114 [00:00<?, ?it/s]"
      ]
     },
     "metadata": {},
     "output_type": "display_data"
    },
    {
     "data": {
      "application/vnd.jupyter.widget-view+json": {
       "model_id": "",
       "version_major": 2,
       "version_minor": 0
      },
      "text/plain": [
       "  0%|          | 0/150 [00:00<?, ?it/s]"
      ]
     },
     "metadata": {},
     "output_type": "display_data"
    },
    {
     "data": {
      "application/vnd.jupyter.widget-view+json": {
       "model_id": "",
       "version_major": 2,
       "version_minor": 0
      },
      "text/plain": [
       "  0%|          | 0/140 [00:00<?, ?it/s]"
      ]
     },
     "metadata": {},
     "output_type": "display_data"
    },
    {
     "data": {
      "application/vnd.jupyter.widget-view+json": {
       "model_id": "",
       "version_major": 2,
       "version_minor": 0
      },
      "text/plain": [
       "  0%|          | 0/148 [00:00<?, ?it/s]"
      ]
     },
     "metadata": {},
     "output_type": "display_data"
    },
    {
     "data": {
      "application/vnd.jupyter.widget-view+json": {
       "model_id": "",
       "version_major": 2,
       "version_minor": 0
      },
      "text/plain": [
       "  0%|          | 0/110 [00:00<?, ?it/s]"
      ]
     },
     "metadata": {},
     "output_type": "display_data"
    },
    {
     "data": {
      "application/vnd.jupyter.widget-view+json": {
       "model_id": "",
       "version_major": 2,
       "version_minor": 0
      },
      "text/plain": [
       "  0%|          | 0/131 [00:00<?, ?it/s]"
      ]
     },
     "metadata": {},
     "output_type": "display_data"
    },
    {
     "data": {
      "application/vnd.jupyter.widget-view+json": {
       "model_id": "",
       "version_major": 2,
       "version_minor": 0
      },
      "text/plain": [
       "  0%|          | 0/145 [00:00<?, ?it/s]"
      ]
     },
     "metadata": {},
     "output_type": "display_data"
    },
    {
     "data": {
      "application/vnd.jupyter.widget-view+json": {
       "model_id": "",
       "version_major": 2,
       "version_minor": 0
      },
      "text/plain": [
       "  0%|          | 0/139 [00:00<?, ?it/s]"
      ]
     },
     "metadata": {},
     "output_type": "display_data"
    },
    {
     "data": {
      "application/vnd.jupyter.widget-view+json": {
       "model_id": "",
       "version_major": 2,
       "version_minor": 0
      },
      "text/plain": [
       "  0%|          | 0/142 [00:00<?, ?it/s]"
      ]
     },
     "metadata": {},
     "output_type": "display_data"
    },
    {
     "data": {
      "application/vnd.jupyter.widget-view+json": {
       "model_id": "",
       "version_major": 2,
       "version_minor": 0
      },
      "text/plain": [
       "  0%|          | 0/133 [00:00<?, ?it/s]"
      ]
     },
     "metadata": {},
     "output_type": "display_data"
    },
    {
     "data": {
      "application/vnd.jupyter.widget-view+json": {
       "model_id": "",
       "version_major": 2,
       "version_minor": 0
      },
      "text/plain": [
       "  0%|          | 0/138 [00:00<?, ?it/s]"
      ]
     },
     "metadata": {},
     "output_type": "display_data"
    },
    {
     "data": {
      "application/vnd.jupyter.widget-view+json": {
       "model_id": "",
       "version_major": 2,
       "version_minor": 0
      },
      "text/plain": [
       "  0%|          | 0/145 [00:00<?, ?it/s]"
      ]
     },
     "metadata": {},
     "output_type": "display_data"
    },
    {
     "data": {
      "application/vnd.jupyter.widget-view+json": {
       "model_id": "",
       "version_major": 2,
       "version_minor": 0
      },
      "text/plain": [
       "  0%|          | 0/108 [00:00<?, ?it/s]"
      ]
     },
     "metadata": {},
     "output_type": "display_data"
    },
    {
     "data": {
      "application/vnd.jupyter.widget-view+json": {
       "model_id": "",
       "version_major": 2,
       "version_minor": 0
      },
      "text/plain": [
       "  0%|          | 0/129 [00:00<?, ?it/s]"
      ]
     },
     "metadata": {},
     "output_type": "display_data"
    },
    {
     "data": {
      "application/vnd.jupyter.widget-view+json": {
       "model_id": "",
       "version_major": 2,
       "version_minor": 0
      },
      "text/plain": [
       "  0%|          | 0/143 [00:00<?, ?it/s]"
      ]
     },
     "metadata": {},
     "output_type": "display_data"
    },
    {
     "data": {
      "application/vnd.jupyter.widget-view+json": {
       "model_id": "",
       "version_major": 2,
       "version_minor": 0
      },
      "text/plain": [
       "  0%|          | 0/111 [00:00<?, ?it/s]"
      ]
     },
     "metadata": {},
     "output_type": "display_data"
    },
    {
     "data": {
      "application/vnd.jupyter.widget-view+json": {
       "model_id": "",
       "version_major": 2,
       "version_minor": 0
      },
      "text/plain": [
       "  0%|          | 0/149 [00:00<?, ?it/s]"
      ]
     },
     "metadata": {},
     "output_type": "display_data"
    },
    {
     "data": {
      "application/vnd.jupyter.widget-view+json": {
       "model_id": "",
       "version_major": 2,
       "version_minor": 0
      },
      "text/plain": [
       "  0%|          | 0/113 [00:00<?, ?it/s]"
      ]
     },
     "metadata": {},
     "output_type": "display_data"
    },
    {
     "data": {
      "application/vnd.jupyter.widget-view+json": {
       "model_id": "",
       "version_major": 2,
       "version_minor": 0
      },
      "text/plain": [
       "  0%|          | 0/148 [00:00<?, ?it/s]"
      ]
     },
     "metadata": {},
     "output_type": "display_data"
    },
    {
     "data": {
      "application/vnd.jupyter.widget-view+json": {
       "model_id": "",
       "version_major": 2,
       "version_minor": 0
      },
      "text/plain": [
       "  0%|          | 0/129 [00:00<?, ?it/s]"
      ]
     },
     "metadata": {},
     "output_type": "display_data"
    },
    {
     "data": {
      "application/vnd.jupyter.widget-view+json": {
       "model_id": "",
       "version_major": 2,
       "version_minor": 0
      },
      "text/plain": [
       "  0%|          | 0/137 [00:00<?, ?it/s]"
      ]
     },
     "metadata": {},
     "output_type": "display_data"
    },
    {
     "data": {
      "application/vnd.jupyter.widget-view+json": {
       "model_id": "",
       "version_major": 2,
       "version_minor": 0
      },
      "text/plain": [
       "  0%|          | 0/148 [00:00<?, ?it/s]"
      ]
     },
     "metadata": {},
     "output_type": "display_data"
    },
    {
     "data": {
      "application/vnd.jupyter.widget-view+json": {
       "model_id": "",
       "version_major": 2,
       "version_minor": 0
      },
      "text/plain": [
       "  0%|          | 0/140 [00:00<?, ?it/s]"
      ]
     },
     "metadata": {},
     "output_type": "display_data"
    },
    {
     "data": {
      "application/vnd.jupyter.widget-view+json": {
       "model_id": "",
       "version_major": 2,
       "version_minor": 0
      },
      "text/plain": [
       "  0%|          | 0/150 [00:00<?, ?it/s]"
      ]
     },
     "metadata": {},
     "output_type": "display_data"
    },
    {
     "data": {
      "application/vnd.jupyter.widget-view+json": {
       "model_id": "",
       "version_major": 2,
       "version_minor": 0
      },
      "text/plain": [
       "  0%|          | 0/143 [00:00<?, ?it/s]"
      ]
     },
     "metadata": {},
     "output_type": "display_data"
    },
    {
     "data": {
      "application/vnd.jupyter.widget-view+json": {
       "model_id": "",
       "version_major": 2,
       "version_minor": 0
      },
      "text/plain": [
       "  0%|          | 0/120 [00:00<?, ?it/s]"
      ]
     },
     "metadata": {},
     "output_type": "display_data"
    },
    {
     "data": {
      "application/vnd.jupyter.widget-view+json": {
       "model_id": "",
       "version_major": 2,
       "version_minor": 0
      },
      "text/plain": [
       "  0%|          | 0/120 [00:00<?, ?it/s]"
      ]
     },
     "metadata": {},
     "output_type": "display_data"
    },
    {
     "data": {
      "application/vnd.jupyter.widget-view+json": {
       "model_id": "",
       "version_major": 2,
       "version_minor": 0
      },
      "text/plain": [
       "  0%|          | 0/52 [00:00<?, ?it/s]"
      ]
     },
     "metadata": {},
     "output_type": "display_data"
    },
    {
     "data": {
      "application/vnd.jupyter.widget-view+json": {
       "model_id": "",
       "version_major": 2,
       "version_minor": 0
      },
      "text/plain": [
       "  0%|          | 0/136 [00:00<?, ?it/s]"
      ]
     },
     "metadata": {},
     "output_type": "display_data"
    },
    {
     "data": {
      "application/vnd.jupyter.widget-view+json": {
       "model_id": "",
       "version_major": 2,
       "version_minor": 0
      },
      "text/plain": [
       "  0%|          | 0/134 [00:00<?, ?it/s]"
      ]
     },
     "metadata": {},
     "output_type": "display_data"
    },
    {
     "data": {
      "application/vnd.jupyter.widget-view+json": {
       "model_id": "",
       "version_major": 2,
       "version_minor": 0
      },
      "text/plain": [
       "  0%|          | 0/147 [00:00<?, ?it/s]"
      ]
     },
     "metadata": {},
     "output_type": "display_data"
    },
    {
     "data": {
      "application/vnd.jupyter.widget-view+json": {
       "model_id": "",
       "version_major": 2,
       "version_minor": 0
      },
      "text/plain": [
       "  0%|          | 0/140 [00:00<?, ?it/s]"
      ]
     },
     "metadata": {},
     "output_type": "display_data"
    },
    {
     "data": {
      "application/vnd.jupyter.widget-view+json": {
       "model_id": "",
       "version_major": 2,
       "version_minor": 0
      },
      "text/plain": [
       "  0%|          | 0/147 [00:00<?, ?it/s]"
      ]
     },
     "metadata": {},
     "output_type": "display_data"
    },
    {
     "data": {
      "application/vnd.jupyter.widget-view+json": {
       "model_id": "",
       "version_major": 2,
       "version_minor": 0
      },
      "text/plain": [
       "  0%|          | 0/106 [00:00<?, ?it/s]"
      ]
     },
     "metadata": {},
     "output_type": "display_data"
    },
    {
     "data": {
      "application/vnd.jupyter.widget-view+json": {
       "model_id": "",
       "version_major": 2,
       "version_minor": 0
      },
      "text/plain": [
       "  0%|          | 0/144 [00:00<?, ?it/s]"
      ]
     },
     "metadata": {},
     "output_type": "display_data"
    },
    {
     "data": {
      "application/vnd.jupyter.widget-view+json": {
       "model_id": "",
       "version_major": 2,
       "version_minor": 0
      },
      "text/plain": [
       "  0%|          | 0/146 [00:00<?, ?it/s]"
      ]
     },
     "metadata": {},
     "output_type": "display_data"
    },
    {
     "data": {
      "application/vnd.jupyter.widget-view+json": {
       "model_id": "",
       "version_major": 2,
       "version_minor": 0
      },
      "text/plain": [
       "  0%|          | 0/99 [00:00<?, ?it/s]"
      ]
     },
     "metadata": {},
     "output_type": "display_data"
    },
    {
     "data": {
      "application/vnd.jupyter.widget-view+json": {
       "model_id": "",
       "version_major": 2,
       "version_minor": 0
      },
      "text/plain": [
       "  0%|          | 0/138 [00:00<?, ?it/s]"
      ]
     },
     "metadata": {},
     "output_type": "display_data"
    },
    {
     "data": {
      "application/vnd.jupyter.widget-view+json": {
       "model_id": "",
       "version_major": 2,
       "version_minor": 0
      },
      "text/plain": [
       "  0%|          | 0/136 [00:00<?, ?it/s]"
      ]
     },
     "metadata": {},
     "output_type": "display_data"
    },
    {
     "data": {
      "application/vnd.jupyter.widget-view+json": {
       "model_id": "",
       "version_major": 2,
       "version_minor": 0
      },
      "text/plain": [
       "  0%|          | 0/136 [00:00<?, ?it/s]"
      ]
     },
     "metadata": {},
     "output_type": "display_data"
    },
    {
     "data": {
      "application/vnd.jupyter.widget-view+json": {
       "model_id": "",
       "version_major": 2,
       "version_minor": 0
      },
      "text/plain": [
       "  0%|          | 0/116 [00:00<?, ?it/s]"
      ]
     },
     "metadata": {},
     "output_type": "display_data"
    },
    {
     "data": {
      "application/vnd.jupyter.widget-view+json": {
       "model_id": "",
       "version_major": 2,
       "version_minor": 0
      },
      "text/plain": [
       "  0%|          | 0/117 [00:00<?, ?it/s]"
      ]
     },
     "metadata": {},
     "output_type": "display_data"
    },
    {
     "data": {
      "application/vnd.jupyter.widget-view+json": {
       "model_id": "",
       "version_major": 2,
       "version_minor": 0
      },
      "text/plain": [
       "  0%|          | 0/140 [00:00<?, ?it/s]"
      ]
     },
     "metadata": {},
     "output_type": "display_data"
    },
    {
     "data": {
      "application/vnd.jupyter.widget-view+json": {
       "model_id": "",
       "version_major": 2,
       "version_minor": 0
      },
      "text/plain": [
       "  0%|          | 0/145 [00:00<?, ?it/s]"
      ]
     },
     "metadata": {},
     "output_type": "display_data"
    },
    {
     "data": {
      "application/vnd.jupyter.widget-view+json": {
       "model_id": "",
       "version_major": 2,
       "version_minor": 0
      },
      "text/plain": [
       "  0%|          | 0/137 [00:00<?, ?it/s]"
      ]
     },
     "metadata": {},
     "output_type": "display_data"
    },
    {
     "data": {
      "application/vnd.jupyter.widget-view+json": {
       "model_id": "",
       "version_major": 2,
       "version_minor": 0
      },
      "text/plain": [
       "  0%|          | 0/146 [00:00<?, ?it/s]"
      ]
     },
     "metadata": {},
     "output_type": "display_data"
    },
    {
     "data": {
      "application/vnd.jupyter.widget-view+json": {
       "model_id": "",
       "version_major": 2,
       "version_minor": 0
      },
      "text/plain": [
       "  0%|          | 0/111 [00:00<?, ?it/s]"
      ]
     },
     "metadata": {},
     "output_type": "display_data"
    },
    {
     "data": {
      "application/vnd.jupyter.widget-view+json": {
       "model_id": "",
       "version_major": 2,
       "version_minor": 0
      },
      "text/plain": [
       "  0%|          | 0/108 [00:00<?, ?it/s]"
      ]
     },
     "metadata": {},
     "output_type": "display_data"
    },
    {
     "data": {
      "application/vnd.jupyter.widget-view+json": {
       "model_id": "",
       "version_major": 2,
       "version_minor": 0
      },
      "text/plain": [
       "  0%|          | 0/122 [00:00<?, ?it/s]"
      ]
     },
     "metadata": {},
     "output_type": "display_data"
    },
    {
     "data": {
      "application/vnd.jupyter.widget-view+json": {
       "model_id": "",
       "version_major": 2,
       "version_minor": 0
      },
      "text/plain": [
       "  0%|          | 0/150 [00:00<?, ?it/s]"
      ]
     },
     "metadata": {},
     "output_type": "display_data"
    },
    {
     "data": {
      "application/vnd.jupyter.widget-view+json": {
       "model_id": "",
       "version_major": 2,
       "version_minor": 0
      },
      "text/plain": [
       "  0%|          | 0/136 [00:00<?, ?it/s]"
      ]
     },
     "metadata": {},
     "output_type": "display_data"
    },
    {
     "data": {
      "application/vnd.jupyter.widget-view+json": {
       "model_id": "",
       "version_major": 2,
       "version_minor": 0
      },
      "text/plain": [
       "  0%|          | 0/150 [00:00<?, ?it/s]"
      ]
     },
     "metadata": {},
     "output_type": "display_data"
    },
    {
     "data": {
      "application/vnd.jupyter.widget-view+json": {
       "model_id": "",
       "version_major": 2,
       "version_minor": 0
      },
      "text/plain": [
       "  0%|          | 0/134 [00:00<?, ?it/s]"
      ]
     },
     "metadata": {},
     "output_type": "display_data"
    },
    {
     "data": {
      "application/vnd.jupyter.widget-view+json": {
       "model_id": "",
       "version_major": 2,
       "version_minor": 0
      },
      "text/plain": [
       "  0%|          | 0/146 [00:00<?, ?it/s]"
      ]
     },
     "metadata": {},
     "output_type": "display_data"
    },
    {
     "data": {
      "application/vnd.jupyter.widget-view+json": {
       "model_id": "",
       "version_major": 2,
       "version_minor": 0
      },
      "text/plain": [
       "  0%|          | 0/139 [00:00<?, ?it/s]"
      ]
     },
     "metadata": {},
     "output_type": "display_data"
    },
    {
     "data": {
      "application/vnd.jupyter.widget-view+json": {
       "model_id": "",
       "version_major": 2,
       "version_minor": 0
      },
      "text/plain": [
       "  0%|          | 0/100 [00:00<?, ?it/s]"
      ]
     },
     "metadata": {},
     "output_type": "display_data"
    },
    {
     "data": {
      "application/vnd.jupyter.widget-view+json": {
       "model_id": "",
       "version_major": 2,
       "version_minor": 0
      },
      "text/plain": [
       "  0%|          | 0/132 [00:00<?, ?it/s]"
      ]
     },
     "metadata": {},
     "output_type": "display_data"
    },
    {
     "data": {
      "application/vnd.jupyter.widget-view+json": {
       "model_id": "",
       "version_major": 2,
       "version_minor": 0
      },
      "text/plain": [
       "  0%|          | 0/146 [00:00<?, ?it/s]"
      ]
     },
     "metadata": {},
     "output_type": "display_data"
    },
    {
     "name": "stdout",
     "output_type": "stream",
     "text": [
      "CPU times: total: 1min 28s\n",
      "Wall time: 1min 30s\n"
     ]
    }
   ],
   "source": [
    "%%time\n",
    "\n",
    "from ast import literal_eval\n",
    "\n",
    "lda_categories = sorted(updated_df['lda_dominant'].unique())\n",
    "embedding_categories = sorted(updated_df['embedding_dominant'].unique())\n",
    "\n",
    "\n",
    "for city1 in tqdm(list(big_df_grouped_city1.groups.keys())):\n",
    "    \n",
    "    nested_list2 = [['city_1', 'city_2', 'paragraphs', 'lemmatised_paragraph_length',\n",
    "                'same_categorisation_raw', 'same_categorisation_percentage',\n",
    "                'lda_dominant_category', 'embedding_dominant_category',\n",
    "                'lda_topic_1', 'embedding_topic_1',\n",
    "                'lda_topic_2', 'embedding_topic_2',\n",
    "                'lda_topic_3', 'embedding_topic_3',\n",
    "                'lda_topic_4', 'embedding_topic_4', \n",
    "                'lda_topic_5', 'embedding_topic_5']\n",
    "               ]\n",
    "\n",
    "    city1_df = big_df_grouped_city1.get_group(city1).sort_values(['city_2'])\n",
    "    \n",
    "    p = os.path.join(directory, f\"{city1}_classified_aggregated.csv\")\n",
    "    \n",
    "    linked_cities = sorted(big_df_grouped_city1.get_group(city1)['city_2'].unique())\n",
    "    for city2 in tqdm(linked_cities, leave=False):\n",
    "        city_pair_df = city1_df[city1_df['city_2'] == city2]\n",
    "\n",
    "        paragraph_count = city_pair_df['paragraph'].count()\n",
    "        same_categorisation_raw = city_pair_df['same_categorisation'].sum()\n",
    "        same_categorisation_percentage = city_pair_df['same_categorisation'].sum()/city_pair_df['same_categorisation'].count()\n",
    "        lemmatised_paragraph_len = city_pair_df['merged_POS'].str.len().mean()\n",
    "\n",
    "        lda_prediction = city_pair_df['lda_dominant'].value_counts()\n",
    "        embedding_prediction = city_pair_df['embedding_dominant'].value_counts()\n",
    "\n",
    "        lda_dominant_category = lda_prediction.idxmax()\n",
    "        embedding_dominant_category = embedding_prediction.idxmax()\n",
    "\n",
    "        lda_prediction = lda_prediction.to_dict()\n",
    "        embedding_prediction = embedding_prediction.to_dict()\n",
    "\n",
    "        if (len(lda_prediction) != len(lda_categories)):\n",
    "            for category in lda_categories:\n",
    "                if category not in lda_prediction.keys():\n",
    "                    lda_prediction[category] = 0\n",
    "\n",
    "        if (len(embedding_prediction) != len(embedding_categories)):\n",
    "            for category in embedding_categories:\n",
    "                if category not in embedding_prediction.keys():\n",
    "                    embedding_prediction[category] = 0\n",
    "\n",
    "        temp_l2 = [city1, city2, paragraph_count, lemmatised_paragraph_len,\n",
    "                    same_categorisation_raw, same_categorisation_percentage,\n",
    "                    lda_dominant_category, embedding_dominant_category,\n",
    "                    lda_prediction['topic_1'],  embedding_prediction['Topic 1'],\n",
    "                    lda_prediction['topic_2'],  embedding_prediction['Topic 2'],\n",
    "                    lda_prediction['topic_3'],  embedding_prediction['Topic 3'],\n",
    "                    lda_prediction['topic_4'],  embedding_prediction['Topic 4'],\n",
    "                    lda_prediction['topic_5'],  embedding_prediction['Topic 5']\n",
    "                  ]\n",
    "\n",
    "\n",
    "        if len(nested_list2[0]) != len(temp_l2):\n",
    "            raise Exception('Not the same size!')\n",
    "\n",
    "        nested_list2.append(temp_l2)\n",
    "\n",
    "    final_df = pd.DataFrame(nested_list2[1:],columns=nested_list2[0])\n",
    "    final_df.to_csv(p, index=False)\n",
    "\n",
    "\n",
    "    #city1_df\n",
    "    \n",
    "    #display(city1_df)\n",
    "    # city1_df_grouped = city1_df.groupby(['city_2'])\n",
    "    # city1_df_grouped\n",
    "    \n",
    "    #for city2 in linked_cities:\n",
    "    #    city_pair_df = city1_df[city1_df['city_2'] == city2]\n",
    "        #display(city1_df[city1_df['city_2'] == city2])"
   ]
  },
  {
   "cell_type": "code",
   "execution_count": 16,
   "id": "9b6c1cac",
   "metadata": {},
   "outputs": [
    {
     "data": {
      "application/vnd.jupyter.widget-view+json": {
       "model_id": "a64e36b13bf0450f806ebe0f2ef2d5d4",
       "version_major": 2,
       "version_minor": 0
      },
      "text/plain": [
       "  0%|          | 0/302 [00:00<?, ?it/s]"
      ]
     },
     "metadata": {},
     "output_type": "display_data"
    },
    {
     "data": {
      "text/plain": [
       "151"
      ]
     },
     "execution_count": 16,
     "metadata": {},
     "output_type": "execute_result"
    }
   ],
   "source": [
    "dataframes2 = []\n",
    "\n",
    "for file in tqdm(os.listdir(directory)):\n",
    "    if 'aggregated' in file:\n",
    "        fp = os.path.abspath(os.path.join(directory, file))\n",
    "        # print(fp)\n",
    "        temp_df = pd.read_csv(fp)\n",
    "        dataframes2.append(temp_df)\n",
    "    \n",
    "len(dataframes2)"
   ]
  },
  {
   "cell_type": "code",
   "execution_count": null,
   "id": "63797577",
   "metadata": {},
   "outputs": [],
   "source": [
    "1+1"
   ]
  },
  {
   "cell_type": "code",
   "execution_count": null,
   "id": "c4f03d2b",
   "metadata": {},
   "outputs": [],
   "source": [
    "updated_df2['city_1'].unique()"
   ]
  },
  {
   "cell_type": "code",
   "execution_count": 7,
   "id": "3513f5ce",
   "metadata": {},
   "outputs": [
    {
     "name": "stdout",
     "output_type": "stream",
     "text": [
      "79\n",
      "125\n",
      "272\n",
      "418\n",
      "566\n",
      "696\n",
      "845\n",
      "975\n",
      "1122\n",
      "1258\n",
      "1377\n",
      "1525\n",
      "1638\n",
      "1779\n",
      "1923\n",
      "2050\n",
      "2193\n",
      "2334\n",
      "2475\n",
      "2584\n",
      "2701\n",
      "2794\n",
      "2930\n",
      "3069\n",
      "3190\n",
      "3318\n",
      "3457\n",
      "3586\n",
      "3735\n",
      "3878\n",
      "4026\n",
      "4045\n",
      "4142\n",
      "4276\n",
      "4339\n",
      "4366\n",
      "4487\n",
      "4600\n",
      "4720\n",
      "4863\n",
      "4963\n",
      "5109\n",
      "5231\n",
      "5353\n",
      "5452\n",
      "5582\n",
      "5721\n",
      "5865\n",
      "6011\n",
      "6130\n",
      "6274\n",
      "6416\n",
      "6550\n",
      "6685\n",
      "6833\n",
      "6979\n",
      "7047\n",
      "7180\n",
      "7276\n",
      "7365\n",
      "7512\n",
      "7653\n",
      "7786\n",
      "7928\n",
      "8065\n",
      "8194\n",
      "8329\n",
      "8476\n",
      "8601\n",
      "8745\n",
      "8839\n",
      "8971\n",
      "9091\n",
      "9215\n",
      "9359\n",
      "9479\n",
      "9616\n",
      "9746\n",
      "9890\n",
      "10009\n",
      "10147\n",
      "10286\n",
      "10432\n",
      "10576\n",
      "10703\n",
      "10852\n",
      "10961\n",
      "11103\n",
      "11251\n",
      "11383\n",
      "11529\n",
      "11661\n",
      "11806\n",
      "11920\n",
      "12070\n",
      "12210\n",
      "12358\n",
      "12468\n",
      "12599\n",
      "12744\n",
      "12883\n",
      "13025\n",
      "13158\n",
      "13296\n",
      "13441\n",
      "13549\n",
      "13678\n",
      "13821\n",
      "13932\n",
      "14081\n",
      "14194\n",
      "14342\n",
      "14471\n",
      "14608\n",
      "14756\n",
      "14896\n",
      "15046\n",
      "15189\n",
      "15309\n",
      "15429\n",
      "15481\n",
      "15617\n",
      "15751\n",
      "15898\n",
      "16038\n",
      "16185\n",
      "16291\n",
      "16435\n",
      "16581\n",
      "16680\n",
      "16818\n",
      "16954\n",
      "17090\n",
      "17206\n",
      "17323\n",
      "17463\n",
      "17608\n",
      "17745\n",
      "17891\n",
      "18002\n",
      "18110\n",
      "18232\n",
      "18382\n",
      "18518\n",
      "18668\n",
      "18802\n",
      "18948\n",
      "19087\n",
      "19187\n",
      "19319\n",
      "19465\n",
      "1456220\n"
     ]
    }
   ],
   "source": [
    "sum = 0\n",
    "for x in dataframes2:\n",
    "    print(len(x))\n",
    "    sum += len(x)\n",
    "print(sum)"
   ]
  },
  {
   "cell_type": "code",
   "execution_count": 19,
   "id": "d061d6fa",
   "metadata": {},
   "outputs": [
    {
     "data": {
      "text/plain": [
       "Venice        150\n",
       "Vienna        150\n",
       "Milan         150\n",
       "Rome          150\n",
       "London        149\n",
       "Paris         149\n",
       "Brussels      149\n",
       "Barcelona     149\n",
       "Madrid        148\n",
       "Florence      148\n",
       "Porto         148\n",
       "Budapest      148\n",
       "Prague        148\n",
       "Berlin        148\n",
       "Athens        148\n",
       "Munich        148\n",
       "Sofia         147\n",
       "Stockholm     147\n",
       "Basel         147\n",
       "Geneva        147\n",
       "Amsterdam     147\n",
       "Hamburg       147\n",
       "Manchester    146\n",
       "Lisbon        146\n",
       "Stuttgart     146\n",
       "Frankfurt     146\n",
       "Dublin        146\n",
       "Copenhagen    146\n",
       "Valencia      146\n",
       "Zurich        146\n",
       "Warsaw        146\n",
       "Antwerp       146\n",
       "Oslo          145\n",
       "Naples        145\n",
       "Turin         145\n",
       "Marseille     145\n",
       "Strasbourg    144\n",
       "Helsinki      144\n",
       "Dusseldorf    144\n",
       "Krakow        144\n",
       "Leipzig       144\n",
       "Dresden       144\n",
       "Liverpool     144\n",
       "Birmingham    144\n",
       "Bologna       143\n",
       "Cologne       143\n",
       "Palermo       143\n",
       "Rotterdam     143\n",
       "Bucharest     143\n",
       "Lyon          142\n",
       "Name: city_1, dtype: int64"
      ]
     },
     "execution_count": 19,
     "metadata": {},
     "output_type": "execute_result"
    }
   ],
   "source": [
    "# updated_df2 = pd.concat(dataframes2) #, keys=citypairs)\n",
    "#updated_df2.set_index('paragraph_id', inplace=True)\n",
    "#updated_df2.sort_index(inplace=True)\n",
    "#updated_df2.reset_index(inplace=True)\n",
    "updated_df2['city_1'].value_counts()[:50]"
   ]
  },
  {
   "cell_type": "code",
   "execution_count": 35,
   "id": "58c9da2f",
   "metadata": {},
   "outputs": [],
   "source": [
    "updated_df2['city_pair'] = updated_df2[['city_1', 'city_2']].apply(lambda x: ', '.join(sorted(list(set(x)))), axis=1)\n",
    "updated_df2.drop_duplicates(['city_pair'], inplace=True)\n",
    "# df['all_roles'] = df.drop(columns='User').apply(\n",
    "#     lambda x: ', '.join(sorted(list(set(x)))), axis=1)\n",
    "# df.drop_duplicates(['User', 'all_roles'], inplace=True)"
   ]
  },
  {
   "cell_type": "code",
   "execution_count": 43,
   "id": "4fe54b7f",
   "metadata": {},
   "outputs": [],
   "source": [
    "# updated_df2[updated_df2['city_2'] == 'Paris']\n",
    "updated_df2.to_csv(os.path.join(city_pair_output_dir, 'classified_city_pairs_removed_duplicates.csv'), index=False)"
   ]
  },
  {
   "cell_type": "code",
   "execution_count": 51,
   "id": "c6a3644e",
   "metadata": {},
   "outputs": [
    {
     "data": {
      "text/plain": [
       "topic_4    74\n",
       "topic_2    36\n",
       "topic_5    20\n",
       "topic_3    11\n",
       "topic_1     8\n",
       "Name: lda_dominant_category, dtype: int64"
      ]
     },
     "execution_count": 51,
     "metadata": {},
     "output_type": "execute_result"
    }
   ],
   "source": [
    "city = \"Barcelona\"\n",
    "city_pairs = [\"Paris\", \"London\"]\n",
    "\n",
    "updated_df2[(updated_df2['city_1'] == city) | (updated_df2['city_2'] == city)]['lda_dominant_category'].value_counts()\n",
    "# updated_df2[(updated_df2['city_1'].isin(city_pairs)) & (updated_df2['city_2'].isin(city_pairs))]\n"
   ]
  },
  {
   "cell_type": "code",
   "execution_count": 31,
   "id": "627c74b4",
   "metadata": {},
   "outputs": [
    {
     "data": {
      "text/plain": [
       "Topic 5    68\n",
       "Topic 3    32\n",
       "Topic 2    21\n",
       "Topic 1    15\n",
       "Topic 4    10\n",
       "Name: embedding_dominant_category, dtype: int64"
      ]
     },
     "execution_count": 31,
     "metadata": {},
     "output_type": "execute_result"
    }
   ],
   "source": [
    "updated_df2[updated_df2['city_1'] == 'Warsaw']['embedding_dominant_category'].value_counts()"
   ]
  },
  {
   "cell_type": "code",
   "execution_count": 394,
   "id": "bfd72ddf",
   "metadata": {
    "scrolled": true
   },
   "outputs": [
    {
     "data": {
      "text/plain": [
       "Paris                                       21874\n",
       "Manchester                                  10368\n",
       "Edinburgh                                    9493\n",
       "Berlin                                       7668\n",
       "Birmingham                                   7544\n",
       "                                            ...  \n",
       "Craiova                                        13\n",
       "Caserta                                        12\n",
       "Galati                                         12\n",
       "Brasov                                         11\n",
       "Castellammare di Stabia-Torre Annunziata        3\n",
       "Name: city_2, Length: 149, dtype: int64"
      ]
     },
     "execution_count": 394,
     "metadata": {},
     "output_type": "execute_result"
    }
   ],
   "source": [
    "big_df_grouped_city1.get_group(('London'))['city_2'].value_counts()"
   ]
  },
  {
   "cell_type": "code",
   "execution_count": 411,
   "id": "78f97299",
   "metadata": {},
   "outputs": [],
   "source": [
    "parislondon = updated_df[(updated_df['city_1'] == 'Paris') & (updated_df['city_2'] == 'Barcelona')]\n"
   ]
  },
  {
   "cell_type": "code",
   "execution_count": 412,
   "id": "76785c81",
   "metadata": {},
   "outputs": [
    {
     "data": {
      "text/plain": [
       "Topic 5    801\n",
       "Topic 2    384\n",
       "Topic 4    338\n",
       "Topic 1    233\n",
       "Topic 3    224\n",
       "Name: embedding_dominant, dtype: int64"
      ]
     },
     "execution_count": 412,
     "metadata": {},
     "output_type": "execute_result"
    }
   ],
   "source": [
    "parislondon[(parislondon['same_categorisation'] == True)]['embedding_dominant'].value_counts()"
   ]
  },
  {
   "cell_type": "code",
   "execution_count": 404,
   "id": "5196647a",
   "metadata": {},
   "outputs": [
    {
     "data": {
      "text/plain": [
       "Topic 5    556883\n",
       "Topic 4    326479\n",
       "Topic 1    287789\n",
       "Topic 3    276797\n",
       "Topic 2    271087\n",
       "Name: embedding_dominant, dtype: int64"
      ]
     },
     "execution_count": 404,
     "metadata": {},
     "output_type": "execute_result"
    }
   ],
   "source": [
    "updated_df[(updated_df['same_categorisation'] == True)]['embedding_dominant'].value_counts()"
   ]
  },
  {
   "cell_type": "code",
   "execution_count": 357,
   "id": "e9a4bc2a",
   "metadata": {},
   "outputs": [
    {
     "data": {
      "text/html": [
       "<div>\n",
       "<style scoped>\n",
       "    .dataframe tbody tr th:only-of-type {\n",
       "        vertical-align: middle;\n",
       "    }\n",
       "\n",
       "    .dataframe tbody tr th {\n",
       "        vertical-align: top;\n",
       "    }\n",
       "\n",
       "    .dataframe thead th {\n",
       "        text-align: right;\n",
       "    }\n",
       "</style>\n",
       "<table border=\"1\" class=\"dataframe\">\n",
       "  <thead>\n",
       "    <tr style=\"text-align: right;\">\n",
       "      <th></th>\n",
       "      <th>paragraph_id</th>\n",
       "      <th>city_1</th>\n",
       "      <th>city_2</th>\n",
       "      <th>paragraph</th>\n",
       "      <th>article_id</th>\n",
       "      <th>title</th>\n",
       "      <th>merged_POS</th>\n",
       "      <th>topic_1</th>\n",
       "      <th>topic_2</th>\n",
       "      <th>topic_3</th>\n",
       "      <th>...</th>\n",
       "      <th>topic_5</th>\n",
       "      <th>lda_dominant</th>\n",
       "      <th>lda_dominant_score</th>\n",
       "      <th>Topic 1</th>\n",
       "      <th>Topic 2</th>\n",
       "      <th>Topic 3</th>\n",
       "      <th>Topic 4</th>\n",
       "      <th>Topic 5</th>\n",
       "      <th>embedding_dominant</th>\n",
       "      <th>same_categorisation</th>\n",
       "    </tr>\n",
       "  </thead>\n",
       "  <tbody>\n",
       "    <tr>\n",
       "      <th>0</th>\n",
       "      <td>934385</td>\n",
       "      <td>Toulon</td>\n",
       "      <td>Marseille</td>\n",
       "      <td>Honey from Provence is protected by a red labe...</td>\n",
       "      <td>15415861</td>\n",
       "      <td>Authon, Alpes-de-Haute-Provence</td>\n",
       "      <td>['honey', 'label', 'indication', 'honey', 'flo...</td>\n",
       "      <td>0.995948</td>\n",
       "      <td>0.000888</td>\n",
       "      <td>0.000952</td>\n",
       "      <td>...</td>\n",
       "      <td>0.001501</td>\n",
       "      <td>topic_1</td>\n",
       "      <td>0.995948</td>\n",
       "      <td>6.492346</td>\n",
       "      <td>1.263454</td>\n",
       "      <td>1.981242</td>\n",
       "      <td>1.216145</td>\n",
       "      <td>2.069049</td>\n",
       "      <td>Topic 1</td>\n",
       "      <td>True</td>\n",
       "    </tr>\n",
       "    <tr>\n",
       "      <th>1</th>\n",
       "      <td>934386</td>\n",
       "      <td>Toulon</td>\n",
       "      <td>Nice</td>\n",
       "      <td>Honey from Provence is protected by a red labe...</td>\n",
       "      <td>15415861</td>\n",
       "      <td>Authon, Alpes-de-Haute-Provence</td>\n",
       "      <td>['honey', 'label', 'indication', 'honey', 'flo...</td>\n",
       "      <td>0.950718</td>\n",
       "      <td>0.000888</td>\n",
       "      <td>0.023567</td>\n",
       "      <td>...</td>\n",
       "      <td>0.024116</td>\n",
       "      <td>topic_1</td>\n",
       "      <td>0.950718</td>\n",
       "      <td>6.492346</td>\n",
       "      <td>1.263454</td>\n",
       "      <td>1.981242</td>\n",
       "      <td>1.216145</td>\n",
       "      <td>2.069049</td>\n",
       "      <td>Topic 1</td>\n",
       "      <td>True</td>\n",
       "    </tr>\n",
       "    <tr>\n",
       "      <th>2</th>\n",
       "      <td>934387</td>\n",
       "      <td>Copenhagen</td>\n",
       "      <td>Oslo</td>\n",
       "      <td>Glosimodt was born in Oslo, Norway. He studied...</td>\n",
       "      <td>15416040</td>\n",
       "      <td>Erik Glosimodt</td>\n",
       "      <td>['education', 'professor', 'architect', 'pract...</td>\n",
       "      <td>0.002758</td>\n",
       "      <td>0.002761</td>\n",
       "      <td>0.002960</td>\n",
       "      <td>...</td>\n",
       "      <td>0.989310</td>\n",
       "      <td>topic_5</td>\n",
       "      <td>0.989310</td>\n",
       "      <td>1.500070</td>\n",
       "      <td>0.000000</td>\n",
       "      <td>1.286127</td>\n",
       "      <td>0.000000</td>\n",
       "      <td>4.980572</td>\n",
       "      <td>Topic 5</td>\n",
       "      <td>True</td>\n",
       "    </tr>\n",
       "    <tr>\n",
       "      <th>3</th>\n",
       "      <td>934388</td>\n",
       "      <td>Oslo</td>\n",
       "      <td>Copenhagen</td>\n",
       "      <td>Glosimodt was born in Oslo, Norway. He studied...</td>\n",
       "      <td>15416040</td>\n",
       "      <td>Erik Glosimodt</td>\n",
       "      <td>['education', 'professor', 'architect', 'pract...</td>\n",
       "      <td>0.002758</td>\n",
       "      <td>0.002761</td>\n",
       "      <td>0.002960</td>\n",
       "      <td>...</td>\n",
       "      <td>0.989310</td>\n",
       "      <td>topic_5</td>\n",
       "      <td>0.989310</td>\n",
       "      <td>1.500070</td>\n",
       "      <td>0.000000</td>\n",
       "      <td>1.286127</td>\n",
       "      <td>0.000000</td>\n",
       "      <td>4.980572</td>\n",
       "      <td>Topic 5</td>\n",
       "      <td>True</td>\n",
       "    </tr>\n",
       "    <tr>\n",
       "      <th>4</th>\n",
       "      <td>934389</td>\n",
       "      <td>Barcelona</td>\n",
       "      <td>Dusseldorf</td>\n",
       "      <td>On the 24 March 2015, Germanwings Flight 9525 ...</td>\n",
       "      <td>15416113</td>\n",
       "      <td>Meolans-Revel</td>\n",
       "      <td>['travel', 'crash']</td>\n",
       "      <td>0.017678</td>\n",
       "      <td>0.017697</td>\n",
       "      <td>0.018973</td>\n",
       "      <td>...</td>\n",
       "      <td>0.029918</td>\n",
       "      <td>topic_4</td>\n",
       "      <td>0.915734</td>\n",
       "      <td>1.018640</td>\n",
       "      <td>0.000000</td>\n",
       "      <td>0.000000</td>\n",
       "      <td>0.000000</td>\n",
       "      <td>0.000000</td>\n",
       "      <td>Topic 1</td>\n",
       "      <td>False</td>\n",
       "    </tr>\n",
       "    <tr>\n",
       "      <th>...</th>\n",
       "      <td>...</td>\n",
       "      <td>...</td>\n",
       "      <td>...</td>\n",
       "      <td>...</td>\n",
       "      <td>...</td>\n",
       "      <td>...</td>\n",
       "      <td>...</td>\n",
       "      <td>...</td>\n",
       "      <td>...</td>\n",
       "      <td>...</td>\n",
       "      <td>...</td>\n",
       "      <td>...</td>\n",
       "      <td>...</td>\n",
       "      <td>...</td>\n",
       "      <td>...</td>\n",
       "      <td>...</td>\n",
       "      <td>...</td>\n",
       "      <td>...</td>\n",
       "      <td>...</td>\n",
       "      <td>...</td>\n",
       "      <td>...</td>\n",
       "    </tr>\n",
       "    <tr>\n",
       "      <th>103815</th>\n",
       "      <td>1038200</td>\n",
       "      <td>Rome</td>\n",
       "      <td>Bologna</td>\n",
       "      <td>It publishes 15 local editions for the cities ...</td>\n",
       "      <td>19593000</td>\n",
       "      <td>Leggo</td>\n",
       "      <td>['edition', 'city', 'circulation', 'copy', 'pu...</td>\n",
       "      <td>0.005433</td>\n",
       "      <td>0.005439</td>\n",
       "      <td>0.144366</td>\n",
       "      <td>...</td>\n",
       "      <td>0.840407</td>\n",
       "      <td>topic_5</td>\n",
       "      <td>0.840407</td>\n",
       "      <td>1.272796</td>\n",
       "      <td>0.000000</td>\n",
       "      <td>0.000000</td>\n",
       "      <td>0.369280</td>\n",
       "      <td>0.961729</td>\n",
       "      <td>Topic 1</td>\n",
       "      <td>False</td>\n",
       "    </tr>\n",
       "    <tr>\n",
       "      <th>103816</th>\n",
       "      <td>1038201</td>\n",
       "      <td>Rome</td>\n",
       "      <td>Bari</td>\n",
       "      <td>It publishes 15 local editions for the cities ...</td>\n",
       "      <td>19593000</td>\n",
       "      <td>Leggo</td>\n",
       "      <td>['edition', 'city', 'circulation', 'copy', 'pu...</td>\n",
       "      <td>0.005433</td>\n",
       "      <td>0.005439</td>\n",
       "      <td>0.005831</td>\n",
       "      <td>...</td>\n",
       "      <td>0.978943</td>\n",
       "      <td>topic_5</td>\n",
       "      <td>0.978943</td>\n",
       "      <td>1.272796</td>\n",
       "      <td>0.000000</td>\n",
       "      <td>0.000000</td>\n",
       "      <td>0.369280</td>\n",
       "      <td>0.961729</td>\n",
       "      <td>Topic 1</td>\n",
       "      <td>False</td>\n",
       "    </tr>\n",
       "    <tr>\n",
       "      <th>103817</th>\n",
       "      <td>1038202</td>\n",
       "      <td>Rome</td>\n",
       "      <td>Padua</td>\n",
       "      <td>It publishes 15 local editions for the cities ...</td>\n",
       "      <td>19593000</td>\n",
       "      <td>Leggo</td>\n",
       "      <td>['edition', 'city', 'circulation', 'copy', 'pu...</td>\n",
       "      <td>0.282504</td>\n",
       "      <td>0.005439</td>\n",
       "      <td>0.005831</td>\n",
       "      <td>...</td>\n",
       "      <td>0.701872</td>\n",
       "      <td>topic_5</td>\n",
       "      <td>0.701872</td>\n",
       "      <td>1.272796</td>\n",
       "      <td>0.000000</td>\n",
       "      <td>0.000000</td>\n",
       "      <td>0.369280</td>\n",
       "      <td>0.961729</td>\n",
       "      <td>Topic 1</td>\n",
       "      <td>False</td>\n",
       "    </tr>\n",
       "    <tr>\n",
       "      <th>103818</th>\n",
       "      <td>1038203</td>\n",
       "      <td>Rome</td>\n",
       "      <td>Brescia</td>\n",
       "      <td>It publishes 15 local editions for the cities ...</td>\n",
       "      <td>19593000</td>\n",
       "      <td>Leggo</td>\n",
       "      <td>['edition', 'city', 'circulation', 'copy', 'pu...</td>\n",
       "      <td>0.005433</td>\n",
       "      <td>0.005439</td>\n",
       "      <td>0.144366</td>\n",
       "      <td>...</td>\n",
       "      <td>0.840407</td>\n",
       "      <td>topic_5</td>\n",
       "      <td>0.840407</td>\n",
       "      <td>1.272796</td>\n",
       "      <td>0.000000</td>\n",
       "      <td>0.000000</td>\n",
       "      <td>0.369280</td>\n",
       "      <td>0.961729</td>\n",
       "      <td>Topic 1</td>\n",
       "      <td>False</td>\n",
       "    </tr>\n",
       "    <tr>\n",
       "      <th>103819</th>\n",
       "      <td>1038204</td>\n",
       "      <td>Rome</td>\n",
       "      <td>Verona</td>\n",
       "      <td>It publishes 15 local editions for the cities ...</td>\n",
       "      <td>19593000</td>\n",
       "      <td>Leggo</td>\n",
       "      <td>['edition', 'city', 'circulation', 'copy', 'pu...</td>\n",
       "      <td>0.005433</td>\n",
       "      <td>0.005439</td>\n",
       "      <td>0.421437</td>\n",
       "      <td>...</td>\n",
       "      <td>0.563336</td>\n",
       "      <td>topic_5</td>\n",
       "      <td>0.563336</td>\n",
       "      <td>1.272796</td>\n",
       "      <td>0.000000</td>\n",
       "      <td>0.000000</td>\n",
       "      <td>0.369280</td>\n",
       "      <td>0.961729</td>\n",
       "      <td>Topic 1</td>\n",
       "      <td>False</td>\n",
       "    </tr>\n",
       "  </tbody>\n",
       "</table>\n",
       "<p>103820 rows × 21 columns</p>\n",
       "</div>"
      ],
      "text/plain": [
       "        paragraph_id      city_1      city_2  \\\n",
       "0             934385      Toulon   Marseille   \n",
       "1             934386      Toulon        Nice   \n",
       "2             934387  Copenhagen        Oslo   \n",
       "3             934388        Oslo  Copenhagen   \n",
       "4             934389   Barcelona  Dusseldorf   \n",
       "...              ...         ...         ...   \n",
       "103815       1038200        Rome     Bologna   \n",
       "103816       1038201        Rome        Bari   \n",
       "103817       1038202        Rome       Padua   \n",
       "103818       1038203        Rome     Brescia   \n",
       "103819       1038204        Rome      Verona   \n",
       "\n",
       "                                                paragraph  article_id  \\\n",
       "0       Honey from Provence is protected by a red labe...    15415861   \n",
       "1       Honey from Provence is protected by a red labe...    15415861   \n",
       "2       Glosimodt was born in Oslo, Norway. He studied...    15416040   \n",
       "3       Glosimodt was born in Oslo, Norway. He studied...    15416040   \n",
       "4       On the 24 March 2015, Germanwings Flight 9525 ...    15416113   \n",
       "...                                                   ...         ...   \n",
       "103815  It publishes 15 local editions for the cities ...    19593000   \n",
       "103816  It publishes 15 local editions for the cities ...    19593000   \n",
       "103817  It publishes 15 local editions for the cities ...    19593000   \n",
       "103818  It publishes 15 local editions for the cities ...    19593000   \n",
       "103819  It publishes 15 local editions for the cities ...    19593000   \n",
       "\n",
       "                                  title  \\\n",
       "0       Authon, Alpes-de-Haute-Provence   \n",
       "1       Authon, Alpes-de-Haute-Provence   \n",
       "2                        Erik Glosimodt   \n",
       "3                        Erik Glosimodt   \n",
       "4                         Meolans-Revel   \n",
       "...                                 ...   \n",
       "103815                            Leggo   \n",
       "103816                            Leggo   \n",
       "103817                            Leggo   \n",
       "103818                            Leggo   \n",
       "103819                            Leggo   \n",
       "\n",
       "                                               merged_POS   topic_1   topic_2  \\\n",
       "0       ['honey', 'label', 'indication', 'honey', 'flo...  0.995948  0.000888   \n",
       "1       ['honey', 'label', 'indication', 'honey', 'flo...  0.950718  0.000888   \n",
       "2       ['education', 'professor', 'architect', 'pract...  0.002758  0.002761   \n",
       "3       ['education', 'professor', 'architect', 'pract...  0.002758  0.002761   \n",
       "4                                     ['travel', 'crash']  0.017678  0.017697   \n",
       "...                                                   ...       ...       ...   \n",
       "103815  ['edition', 'city', 'circulation', 'copy', 'pu...  0.005433  0.005439   \n",
       "103816  ['edition', 'city', 'circulation', 'copy', 'pu...  0.005433  0.005439   \n",
       "103817  ['edition', 'city', 'circulation', 'copy', 'pu...  0.282504  0.005439   \n",
       "103818  ['edition', 'city', 'circulation', 'copy', 'pu...  0.005433  0.005439   \n",
       "103819  ['edition', 'city', 'circulation', 'copy', 'pu...  0.005433  0.005439   \n",
       "\n",
       "         topic_3  ...   topic_5  lda_dominant lda_dominant_score   Topic 1  \\\n",
       "0       0.000952  ...  0.001501       topic_1           0.995948  6.492346   \n",
       "1       0.023567  ...  0.024116       topic_1           0.950718  6.492346   \n",
       "2       0.002960  ...  0.989310       topic_5           0.989310  1.500070   \n",
       "3       0.002960  ...  0.989310       topic_5           0.989310  1.500070   \n",
       "4       0.018973  ...  0.029918       topic_4           0.915734  1.018640   \n",
       "...          ...  ...       ...           ...                ...       ...   \n",
       "103815  0.144366  ...  0.840407       topic_5           0.840407  1.272796   \n",
       "103816  0.005831  ...  0.978943       topic_5           0.978943  1.272796   \n",
       "103817  0.005831  ...  0.701872       topic_5           0.701872  1.272796   \n",
       "103818  0.144366  ...  0.840407       topic_5           0.840407  1.272796   \n",
       "103819  0.421437  ...  0.563336       topic_5           0.563336  1.272796   \n",
       "\n",
       "         Topic 2   Topic 3   Topic 4   Topic 5  embedding_dominant  \\\n",
       "0       1.263454  1.981242  1.216145  2.069049             Topic 1   \n",
       "1       1.263454  1.981242  1.216145  2.069049             Topic 1   \n",
       "2       0.000000  1.286127  0.000000  4.980572             Topic 5   \n",
       "3       0.000000  1.286127  0.000000  4.980572             Topic 5   \n",
       "4       0.000000  0.000000  0.000000  0.000000             Topic 1   \n",
       "...          ...       ...       ...       ...                 ...   \n",
       "103815  0.000000  0.000000  0.369280  0.961729             Topic 1   \n",
       "103816  0.000000  0.000000  0.369280  0.961729             Topic 1   \n",
       "103817  0.000000  0.000000  0.369280  0.961729             Topic 1   \n",
       "103818  0.000000  0.000000  0.369280  0.961729             Topic 1   \n",
       "103819  0.000000  0.000000  0.369280  0.961729             Topic 1   \n",
       "\n",
       "       same_categorisation  \n",
       "0                     True  \n",
       "1                     True  \n",
       "2                     True  \n",
       "3                     True  \n",
       "4                    False  \n",
       "...                    ...  \n",
       "103815               False  \n",
       "103816               False  \n",
       "103817               False  \n",
       "103818               False  \n",
       "103819               False  \n",
       "\n",
       "[103820 rows x 21 columns]"
      ]
     },
     "execution_count": 357,
     "metadata": {},
     "output_type": "execute_result"
    }
   ],
   "source": [
    "dataframes[0]"
   ]
  },
  {
   "cell_type": "code",
   "execution_count": 352,
   "id": "a7544a2d",
   "metadata": {},
   "outputs": [
    {
     "data": {
      "text/html": [
       "<div>\n",
       "<style scoped>\n",
       "    .dataframe tbody tr th:only-of-type {\n",
       "        vertical-align: middle;\n",
       "    }\n",
       "\n",
       "    .dataframe tbody tr th {\n",
       "        vertical-align: top;\n",
       "    }\n",
       "\n",
       "    .dataframe thead th {\n",
       "        text-align: right;\n",
       "    }\n",
       "</style>\n",
       "<table border=\"1\" class=\"dataframe\">\n",
       "  <thead>\n",
       "    <tr style=\"text-align: right;\">\n",
       "      <th></th>\n",
       "      <th>paragraph_id</th>\n",
       "      <th>city_1</th>\n",
       "      <th>city_2</th>\n",
       "      <th>paragraph</th>\n",
       "      <th>article_id</th>\n",
       "      <th>title</th>\n",
       "      <th>merged_POS</th>\n",
       "      <th>topic_1</th>\n",
       "      <th>topic_2</th>\n",
       "      <th>topic_3</th>\n",
       "      <th>...</th>\n",
       "      <th>topic_5</th>\n",
       "      <th>lda_dominant</th>\n",
       "      <th>lda_dominant_score</th>\n",
       "      <th>Topic 1</th>\n",
       "      <th>Topic 2</th>\n",
       "      <th>Topic 3</th>\n",
       "      <th>Topic 4</th>\n",
       "      <th>Topic 5</th>\n",
       "      <th>embedding_dominant</th>\n",
       "      <th>same_categorisation</th>\n",
       "    </tr>\n",
       "  </thead>\n",
       "  <tbody>\n",
       "    <tr>\n",
       "      <th>86</th>\n",
       "      <td>934471</td>\n",
       "      <td>Paris</td>\n",
       "      <td>London</td>\n",
       "      <td>1-2 Paris Theatre, London (February 1, 1973)</td>\n",
       "      <td>15420067</td>\n",
       "      <td>BBC Sessions (Rory Gallagher album)</td>\n",
       "      <td>[]</td>\n",
       "      <td>0.017678</td>\n",
       "      <td>0.017697</td>\n",
       "      <td>0.469755</td>\n",
       "      <td>...</td>\n",
       "      <td>0.480699</td>\n",
       "      <td>topic_5</td>\n",
       "      <td>0.480699</td>\n",
       "      <td>0.000000</td>\n",
       "      <td>0.000000</td>\n",
       "      <td>0.000000</td>\n",
       "      <td>0.000000</td>\n",
       "      <td>0.000000</td>\n",
       "      <td>Topic 1</td>\n",
       "      <td>False</td>\n",
       "    </tr>\n",
       "    <tr>\n",
       "      <th>88</th>\n",
       "      <td>934473</td>\n",
       "      <td>Paris</td>\n",
       "      <td>London</td>\n",
       "      <td>2-10 &amp;amp; 2-12 Paris Theatre, London (July 13...</td>\n",
       "      <td>15420067</td>\n",
       "      <td>BBC Sessions (Rory Gallagher album)</td>\n",
       "      <td>['amp']</td>\n",
       "      <td>0.017678</td>\n",
       "      <td>0.017697</td>\n",
       "      <td>0.469755</td>\n",
       "      <td>...</td>\n",
       "      <td>0.480699</td>\n",
       "      <td>topic_5</td>\n",
       "      <td>0.480699</td>\n",
       "      <td>0.000000</td>\n",
       "      <td>0.000000</td>\n",
       "      <td>0.000000</td>\n",
       "      <td>0.000000</td>\n",
       "      <td>0.000000</td>\n",
       "      <td>Topic 1</td>\n",
       "      <td>False</td>\n",
       "    </tr>\n",
       "    <tr>\n",
       "      <th>96</th>\n",
       "      <td>934481</td>\n",
       "      <td>Paris</td>\n",
       "      <td>London</td>\n",
       "      <td>In 1869 Sharpe joined the Architectural Associ...</td>\n",
       "      <td>15420536</td>\n",
       "      <td>Edmund Sharpe</td>\n",
       "      <td>['group', 'architect', 'self', 'education', 't...</td>\n",
       "      <td>0.000766</td>\n",
       "      <td>0.000766</td>\n",
       "      <td>0.449879</td>\n",
       "      <td>...</td>\n",
       "      <td>0.528450</td>\n",
       "      <td>topic_5</td>\n",
       "      <td>0.528450</td>\n",
       "      <td>3.002717</td>\n",
       "      <td>0.000000</td>\n",
       "      <td>6.228647</td>\n",
       "      <td>4.409327</td>\n",
       "      <td>8.026495</td>\n",
       "      <td>Topic 5</td>\n",
       "      <td>True</td>\n",
       "    </tr>\n",
       "    <tr>\n",
       "      <th>110</th>\n",
       "      <td>934495</td>\n",
       "      <td>Paris</td>\n",
       "      <td>London</td>\n",
       "      <td>Films shown on the main screen were \"Triangle\"...</td>\n",
       "      <td>15421310</td>\n",
       "      <td>London FrightFest Film Festival</td>\n",
       "      <td>['film', 'screen', 'trick', 'night', 'case', '...</td>\n",
       "      <td>0.002758</td>\n",
       "      <td>0.987403</td>\n",
       "      <td>0.002960</td>\n",
       "      <td>...</td>\n",
       "      <td>0.004668</td>\n",
       "      <td>topic_2</td>\n",
       "      <td>0.987403</td>\n",
       "      <td>0.507190</td>\n",
       "      <td>1.722045</td>\n",
       "      <td>1.157752</td>\n",
       "      <td>1.385758</td>\n",
       "      <td>0.405645</td>\n",
       "      <td>Topic 2</td>\n",
       "      <td>True</td>\n",
       "    </tr>\n",
       "    <tr>\n",
       "      <th>182</th>\n",
       "      <td>934567</td>\n",
       "      <td>Paris</td>\n",
       "      <td>London</td>\n",
       "      <td>Live At The Paris Theatre, London, UK 1973-Feb...</td>\n",
       "      <td>15421914</td>\n",
       "      <td>The G-Man Bootleg Series Vol.1</td>\n",
       "      <td>['live']</td>\n",
       "      <td>0.468460</td>\n",
       "      <td>0.468478</td>\n",
       "      <td>0.018973</td>\n",
       "      <td>...</td>\n",
       "      <td>0.029918</td>\n",
       "      <td>topic_2</td>\n",
       "      <td>0.468478</td>\n",
       "      <td>0.000000</td>\n",
       "      <td>0.583172</td>\n",
       "      <td>0.000000</td>\n",
       "      <td>0.000000</td>\n",
       "      <td>0.000000</td>\n",
       "      <td>Topic 2</td>\n",
       "      <td>True</td>\n",
       "    </tr>\n",
       "  </tbody>\n",
       "</table>\n",
       "<p>5 rows × 21 columns</p>\n",
       "</div>"
      ],
      "text/plain": [
       "     paragraph_id city_1  city_2  \\\n",
       "86         934471  Paris  London   \n",
       "88         934473  Paris  London   \n",
       "96         934481  Paris  London   \n",
       "110        934495  Paris  London   \n",
       "182        934567  Paris  London   \n",
       "\n",
       "                                             paragraph  article_id  \\\n",
       "86        1-2 Paris Theatre, London (February 1, 1973)    15420067   \n",
       "88   2-10 &amp; 2-12 Paris Theatre, London (July 13...    15420067   \n",
       "96   In 1869 Sharpe joined the Architectural Associ...    15420536   \n",
       "110  Films shown on the main screen were \"Triangle\"...    15421310   \n",
       "182  Live At The Paris Theatre, London, UK 1973-Feb...    15421914   \n",
       "\n",
       "                                   title  \\\n",
       "86   BBC Sessions (Rory Gallagher album)   \n",
       "88   BBC Sessions (Rory Gallagher album)   \n",
       "96                         Edmund Sharpe   \n",
       "110      London FrightFest Film Festival   \n",
       "182       The G-Man Bootleg Series Vol.1   \n",
       "\n",
       "                                            merged_POS   topic_1   topic_2  \\\n",
       "86                                                  []  0.017678  0.017697   \n",
       "88                                             ['amp']  0.017678  0.017697   \n",
       "96   ['group', 'architect', 'self', 'education', 't...  0.000766  0.000766   \n",
       "110  ['film', 'screen', 'trick', 'night', 'case', '...  0.002758  0.987403   \n",
       "182                                           ['live']  0.468460  0.468478   \n",
       "\n",
       "      topic_3  ...   topic_5  lda_dominant lda_dominant_score   Topic 1  \\\n",
       "86   0.469755  ...  0.480699       topic_5           0.480699  0.000000   \n",
       "88   0.469755  ...  0.480699       topic_5           0.480699  0.000000   \n",
       "96   0.449879  ...  0.528450       topic_5           0.528450  3.002717   \n",
       "110  0.002960  ...  0.004668       topic_2           0.987403  0.507190   \n",
       "182  0.018973  ...  0.029918       topic_2           0.468478  0.000000   \n",
       "\n",
       "      Topic 2   Topic 3   Topic 4   Topic 5  embedding_dominant  \\\n",
       "86   0.000000  0.000000  0.000000  0.000000             Topic 1   \n",
       "88   0.000000  0.000000  0.000000  0.000000             Topic 1   \n",
       "96   0.000000  6.228647  4.409327  8.026495             Topic 5   \n",
       "110  1.722045  1.157752  1.385758  0.405645             Topic 2   \n",
       "182  0.583172  0.000000  0.000000  0.000000             Topic 2   \n",
       "\n",
       "    same_categorisation  \n",
       "86                False  \n",
       "88                False  \n",
       "96                 True  \n",
       "110                True  \n",
       "182                True  \n",
       "\n",
       "[5 rows x 21 columns]"
      ]
     },
     "execution_count": 352,
     "metadata": {},
     "output_type": "execute_result"
    }
   ],
   "source": [
    "small_df_grouped.groups\n",
    "small_df_grouped_city1.get_group(('Paris')).head(5)\n",
    "\n",
    "# ('Birmingham', 'London')"
   ]
  },
  {
   "cell_type": "code",
   "execution_count": 353,
   "id": "fd417d8f",
   "metadata": {},
   "outputs": [
    {
     "data": {
      "text/html": [
       "<div>\n",
       "<style scoped>\n",
       "    .dataframe tbody tr th:only-of-type {\n",
       "        vertical-align: middle;\n",
       "    }\n",
       "\n",
       "    .dataframe tbody tr th {\n",
       "        vertical-align: top;\n",
       "    }\n",
       "\n",
       "    .dataframe thead th {\n",
       "        text-align: right;\n",
       "    }\n",
       "</style>\n",
       "<table border=\"1\" class=\"dataframe\">\n",
       "  <thead>\n",
       "    <tr style=\"text-align: right;\">\n",
       "      <th></th>\n",
       "      <th>paragraph_id</th>\n",
       "      <th>city_1</th>\n",
       "      <th>city_2</th>\n",
       "      <th>paragraph</th>\n",
       "      <th>article_id</th>\n",
       "      <th>title</th>\n",
       "      <th>merged_POS</th>\n",
       "      <th>topic_1</th>\n",
       "      <th>topic_2</th>\n",
       "      <th>topic_3</th>\n",
       "      <th>...</th>\n",
       "      <th>topic_5</th>\n",
       "      <th>lda_dominant</th>\n",
       "      <th>lda_dominant_score</th>\n",
       "      <th>Topic 1</th>\n",
       "      <th>Topic 2</th>\n",
       "      <th>Topic 3</th>\n",
       "      <th>Topic 4</th>\n",
       "      <th>Topic 5</th>\n",
       "      <th>embedding_dominant</th>\n",
       "      <th>same_categorisation</th>\n",
       "    </tr>\n",
       "  </thead>\n",
       "  <tbody>\n",
       "    <tr>\n",
       "      <th>87</th>\n",
       "      <td>934472</td>\n",
       "      <td>London</td>\n",
       "      <td>Paris</td>\n",
       "      <td>1-2 Paris Theatre, London (February 1, 1973)</td>\n",
       "      <td>15420067</td>\n",
       "      <td>BBC Sessions (Rory Gallagher album)</td>\n",
       "      <td>[]</td>\n",
       "      <td>0.468460</td>\n",
       "      <td>0.017697</td>\n",
       "      <td>0.018973</td>\n",
       "      <td>...</td>\n",
       "      <td>0.029918</td>\n",
       "      <td>topic_1</td>\n",
       "      <td>0.468460</td>\n",
       "      <td>0.000000</td>\n",
       "      <td>0.000000</td>\n",
       "      <td>0.000000</td>\n",
       "      <td>0.000000</td>\n",
       "      <td>0.000000</td>\n",
       "      <td>Topic 1</td>\n",
       "      <td>True</td>\n",
       "    </tr>\n",
       "    <tr>\n",
       "      <th>89</th>\n",
       "      <td>934474</td>\n",
       "      <td>London</td>\n",
       "      <td>Paris</td>\n",
       "      <td>2-10 &amp;amp; 2-12 Paris Theatre, London (July 13...</td>\n",
       "      <td>15420067</td>\n",
       "      <td>BBC Sessions (Rory Gallagher album)</td>\n",
       "      <td>['amp']</td>\n",
       "      <td>0.468460</td>\n",
       "      <td>0.468478</td>\n",
       "      <td>0.018973</td>\n",
       "      <td>...</td>\n",
       "      <td>0.029918</td>\n",
       "      <td>topic_2</td>\n",
       "      <td>0.468478</td>\n",
       "      <td>0.000000</td>\n",
       "      <td>0.000000</td>\n",
       "      <td>0.000000</td>\n",
       "      <td>0.000000</td>\n",
       "      <td>0.000000</td>\n",
       "      <td>Topic 1</td>\n",
       "      <td>False</td>\n",
       "    </tr>\n",
       "    <tr>\n",
       "      <th>97</th>\n",
       "      <td>934482</td>\n",
       "      <td>London</td>\n",
       "      <td>Paris</td>\n",
       "      <td>In 1869 Sharpe joined the Architectural Associ...</td>\n",
       "      <td>15420536</td>\n",
       "      <td>Edmund Sharpe</td>\n",
       "      <td>['group', 'architect', 'self', 'education', 't...</td>\n",
       "      <td>0.000766</td>\n",
       "      <td>0.000766</td>\n",
       "      <td>0.293685</td>\n",
       "      <td>...</td>\n",
       "      <td>0.704169</td>\n",
       "      <td>topic_5</td>\n",
       "      <td>0.704169</td>\n",
       "      <td>3.002717</td>\n",
       "      <td>0.000000</td>\n",
       "      <td>6.228647</td>\n",
       "      <td>4.409327</td>\n",
       "      <td>8.026495</td>\n",
       "      <td>Topic 5</td>\n",
       "      <td>True</td>\n",
       "    </tr>\n",
       "    <tr>\n",
       "      <th>111</th>\n",
       "      <td>934496</td>\n",
       "      <td>London</td>\n",
       "      <td>Paris</td>\n",
       "      <td>Films shown on the main screen were \"Triangle\"...</td>\n",
       "      <td>15421310</td>\n",
       "      <td>London FrightFest Film Festival</td>\n",
       "      <td>['film', 'screen', 'trick', 'night', 'case', '...</td>\n",
       "      <td>0.002758</td>\n",
       "      <td>0.987403</td>\n",
       "      <td>0.002960</td>\n",
       "      <td>...</td>\n",
       "      <td>0.004668</td>\n",
       "      <td>topic_2</td>\n",
       "      <td>0.987403</td>\n",
       "      <td>0.507190</td>\n",
       "      <td>1.722045</td>\n",
       "      <td>1.157752</td>\n",
       "      <td>1.385758</td>\n",
       "      <td>0.405645</td>\n",
       "      <td>Topic 2</td>\n",
       "      <td>True</td>\n",
       "    </tr>\n",
       "    <tr>\n",
       "      <th>183</th>\n",
       "      <td>934568</td>\n",
       "      <td>London</td>\n",
       "      <td>Paris</td>\n",
       "      <td>Live At The Paris Theatre, London, UK 1973-Feb...</td>\n",
       "      <td>15421914</td>\n",
       "      <td>The G-Man Bootleg Series Vol.1</td>\n",
       "      <td>['live']</td>\n",
       "      <td>0.017678</td>\n",
       "      <td>0.017697</td>\n",
       "      <td>0.469755</td>\n",
       "      <td>...</td>\n",
       "      <td>0.480699</td>\n",
       "      <td>topic_5</td>\n",
       "      <td>0.480699</td>\n",
       "      <td>0.000000</td>\n",
       "      <td>0.583172</td>\n",
       "      <td>0.000000</td>\n",
       "      <td>0.000000</td>\n",
       "      <td>0.000000</td>\n",
       "      <td>Topic 2</td>\n",
       "      <td>False</td>\n",
       "    </tr>\n",
       "  </tbody>\n",
       "</table>\n",
       "<p>5 rows × 21 columns</p>\n",
       "</div>"
      ],
      "text/plain": [
       "     paragraph_id  city_1 city_2  \\\n",
       "87         934472  London  Paris   \n",
       "89         934474  London  Paris   \n",
       "97         934482  London  Paris   \n",
       "111        934496  London  Paris   \n",
       "183        934568  London  Paris   \n",
       "\n",
       "                                             paragraph  article_id  \\\n",
       "87        1-2 Paris Theatre, London (February 1, 1973)    15420067   \n",
       "89   2-10 &amp; 2-12 Paris Theatre, London (July 13...    15420067   \n",
       "97   In 1869 Sharpe joined the Architectural Associ...    15420536   \n",
       "111  Films shown on the main screen were \"Triangle\"...    15421310   \n",
       "183  Live At The Paris Theatre, London, UK 1973-Feb...    15421914   \n",
       "\n",
       "                                   title  \\\n",
       "87   BBC Sessions (Rory Gallagher album)   \n",
       "89   BBC Sessions (Rory Gallagher album)   \n",
       "97                         Edmund Sharpe   \n",
       "111      London FrightFest Film Festival   \n",
       "183       The G-Man Bootleg Series Vol.1   \n",
       "\n",
       "                                            merged_POS   topic_1   topic_2  \\\n",
       "87                                                  []  0.468460  0.017697   \n",
       "89                                             ['amp']  0.468460  0.468478   \n",
       "97   ['group', 'architect', 'self', 'education', 't...  0.000766  0.000766   \n",
       "111  ['film', 'screen', 'trick', 'night', 'case', '...  0.002758  0.987403   \n",
       "183                                           ['live']  0.017678  0.017697   \n",
       "\n",
       "      topic_3  ...   topic_5  lda_dominant lda_dominant_score   Topic 1  \\\n",
       "87   0.018973  ...  0.029918       topic_1           0.468460  0.000000   \n",
       "89   0.018973  ...  0.029918       topic_2           0.468478  0.000000   \n",
       "97   0.293685  ...  0.704169       topic_5           0.704169  3.002717   \n",
       "111  0.002960  ...  0.004668       topic_2           0.987403  0.507190   \n",
       "183  0.469755  ...  0.480699       topic_5           0.480699  0.000000   \n",
       "\n",
       "      Topic 2   Topic 3   Topic 4   Topic 5  embedding_dominant  \\\n",
       "87   0.000000  0.000000  0.000000  0.000000             Topic 1   \n",
       "89   0.000000  0.000000  0.000000  0.000000             Topic 1   \n",
       "97   0.000000  6.228647  4.409327  8.026495             Topic 5   \n",
       "111  1.722045  1.157752  1.385758  0.405645             Topic 2   \n",
       "183  0.583172  0.000000  0.000000  0.000000             Topic 2   \n",
       "\n",
       "    same_categorisation  \n",
       "87                 True  \n",
       "89                False  \n",
       "97                 True  \n",
       "111                True  \n",
       "183               False  \n",
       "\n",
       "[5 rows x 21 columns]"
      ]
     },
     "execution_count": 353,
     "metadata": {},
     "output_type": "execute_result"
    }
   ],
   "source": [
    "small_df_grouped_city2.get_group(('Paris')).head(5)"
   ]
  },
  {
   "cell_type": "code",
   "execution_count": 344,
   "id": "5dbe44ef",
   "metadata": {},
   "outputs": [],
   "source": [
    "# from itertools import product\n",
    "\n",
    "# list(product(dataframes[0]['city_1'], dataframes[0]['city_2']))\n",
    "# dataframes[0].groupby('city_1').head()\n",
    "small_df = dataframes[0].iloc[:1000]\n",
    "small_df_grouped_city1 = small_df.groupby(['city_1'])\n",
    "small_df_grouped_city2 = small_df.groupby(['city_2'])\n",
    "# small_df_grouped\n",
    "# for subdf in small_df_grouped:\n",
    "#     print(subdf)\n",
    "    "
   ]
  },
  {
   "cell_type": "code",
   "execution_count": null,
   "id": "bedb7a89",
   "metadata": {},
   "outputs": [],
   "source": [
    "# Requires city1/city2 update!\n",
    "temp_df = updated_df[(updated_df['city_pair'].isin(updated_df['city_pair'].unique()[:])) & (updated_df['lda_dominant_score'] > bottom_lda_threshold) & (updated_df['merged_POS'].str.len() > minimal_paragraph_length)]"
   ]
  },
  {
   "cell_type": "code",
   "execution_count": null,
   "id": "0fa37ad4",
   "metadata": {},
   "outputs": [],
   "source": [
    "temp_df"
   ]
  },
  {
   "cell_type": "code",
   "execution_count": null,
   "id": "91252aa3",
   "metadata": {},
   "outputs": [],
   "source": [
    "grouped_df = temp_df.groupby('city_pair')"
   ]
  },
  {
   "cell_type": "code",
   "execution_count": null,
   "id": "296b2a9a",
   "metadata": {},
   "outputs": [],
   "source": [
    "nested_list2 = [['city_pair', 'paragraphs', 'lemmatised_paragraph_length', 'same_categorisation_raw', 'same_categorisation_percentage',\n",
    "                'lda_dominant_category', 'embedding_dominant_category', 'lda_art', 'embedding_art', 'lda_diplomacy',\n",
    "                'embedding_diplomacy', 'lda_education', 'embedding_education', 'lda_entertainment', 'embedding_entertainment', \n",
    "                'lda_sport', 'embedding_sport', 'lda_transportation', 'embedding_transportation']]"
   ]
  },
  {
   "cell_type": "code",
   "execution_count": null,
   "id": "4e1bcc8c",
   "metadata": {},
   "outputs": [],
   "source": [
    "topics"
   ]
  },
  {
   "cell_type": "code",
   "execution_count": null,
   "id": "f59ca3c8",
   "metadata": {},
   "outputs": [],
   "source": [
    "print(list(temp_df['embedding_dominant'].unique()))\n",
    "print(list(temp_df['lda_dominant'].unique()))"
   ]
  },
  {
   "cell_type": "markdown",
   "id": "3f1aba73",
   "metadata": {},
   "source": [
    "#### 8.2 Aggregation algorithm"
   ]
  },
  {
   "cell_type": "code",
   "execution_count": null,
   "id": "1c3084fa",
   "metadata": {},
   "outputs": [],
   "source": [
    "from IPython.display import display\n",
    "\n",
    "lda_categories = list(temp_df['lda_dominant'].unique())\n",
    "embedding_categories = list(temp_df['embedding_dominant'].unique())\n",
    "\n",
    "for city_pair, sub_df in tqdm(grouped_df):\n",
    "    paragraph_count = sub_df['paragraph'].count()\n",
    "    same_categorisation_raw = sub_df['same_categorisation'].sum()\n",
    "    same_categorisation_percentage = sub_df['same_categorisation'].sum()/sub_df['same_categorisation'].count()\n",
    "    lemmatised_paragraph_len = sub_df['merged_POS'].str.len().mean()\n",
    "    \n",
    "    lda_prediction = sub_df['lda_dominant'].value_counts()\n",
    "    embedding_prediction = sub_df['embedding_dominant'].value_counts()\n",
    "        \n",
    "    lda_dominant_category = lda_prediction.idxmax()\n",
    "    embedding_dominant_category = embedding_prediction.idxmax()\n",
    "    \n",
    "    lda_prediction = lda_prediction.to_dict()\n",
    "    embedding_prediction = embedding_prediction.to_dict()\n",
    "    \n",
    "    if (len(lda_prediction) != len(lda_categories)):\n",
    "        for category in lda_categories:\n",
    "            if category not in lda_prediction.keys():\n",
    "                lda_prediction[category] = 0\n",
    "                \n",
    "    if (len(embedding_prediction) != len(embedding_categories)):\n",
    "        for category in embedding_categories:\n",
    "            if category not in embedding_prediction.keys():\n",
    "                embedding_prediction[category] = 0\n",
    "                \n",
    "    temp_l2 = [city_pair, paragraph_count, lemmatised_paragraph_len, same_categorisation_raw, same_categorisation_percentage,\n",
    "                lda_dominant_category, embedding_dominant_category, lda_prediction['lda_art'], embedding_prediction['art'], lda_prediction['lda_diplomacy'],\n",
    "                embedding_prediction['diplomacy'], lda_prediction['lda_education'], embedding_prediction['education'],\n",
    "                lda_prediction['lda_entertainment'], embedding_prediction['entertainment'], lda_prediction['lda_sport'],\n",
    "                embedding_prediction['sport'], lda_prediction['lda_transportation'], embedding_prediction['transportation']]\n",
    "    if len(nested_list2[0]) != len(temp_l2):\n",
    "        raise Exception('Not the same size!')\n",
    "    \n",
    "    nested_list2.append(temp_l2)"
   ]
  },
  {
   "cell_type": "code",
   "execution_count": null,
   "id": "8e6a262d",
   "metadata": {},
   "outputs": [],
   "source": [
    "final_df = pd.DataFrame(nested_list2[1:],columns=nested_list2[0])\n",
    "\n",
    "final_df.head(2)"
   ]
  },
  {
   "cell_type": "markdown",
   "id": "5aa9d0ef",
   "metadata": {},
   "source": [
    "## 8.4 Save Aggregated Dataframe"
   ]
  },
  {
   "cell_type": "code",
   "execution_count": null,
   "id": "337e72a5",
   "metadata": {},
   "outputs": [],
   "source": [
    "# final_df.to_csv('..\\..\\..\\..\\..\\data\\clean\\deliverable_435city_pairs_both_methods_with_education_final.csv', index=False)"
   ]
  },
  {
   "cell_type": "markdown",
   "id": "f78bba1b",
   "metadata": {},
   "source": [
    "#### 8.5 Normalise classification (by number of paragraphs)"
   ]
  },
  {
   "cell_type": "code",
   "execution_count": null,
   "id": "ce52a6f2",
   "metadata": {},
   "outputs": [],
   "source": [
    "# Normalize category outcomes\n",
    "final_df_normalised = final_df\n",
    "final_df_normalised[list(final_df_normalised.columns)[7:]] = final_df_normalised[list(final_df_normalised.columns)[7:]].div(final_df_normalised['paragraphs'], axis=0) # .count()\n",
    "\n",
    "final_df_normalised"
   ]
  },
  {
   "cell_type": "markdown",
   "id": "dd13ea95",
   "metadata": {},
   "source": [
    "## 8.6 Save Normalised Aggregated Dataframe"
   ]
  },
  {
   "cell_type": "code",
   "execution_count": null,
   "id": "dcd22076",
   "metadata": {},
   "outputs": [],
   "source": [
    "# final_df_normalised.to_csv('..\\..\\..\\..\\..\\data\\clean\\deliverable_435city_pairs_both_methods_with_education_final_normalised.csv', index=False)"
   ]
  },
  {
   "cell_type": "markdown",
   "id": "f174a210",
   "metadata": {},
   "source": [
    "# EXTRAS"
   ]
  },
  {
   "cell_type": "markdown",
   "id": "e23815b5",
   "metadata": {},
   "source": [
    "#### Show closest words to topic vector"
   ]
  },
  {
   "cell_type": "code",
   "execution_count": null,
   "id": "11b9c084",
   "metadata": {},
   "outputs": [],
   "source": [
    "from scipy import spatial\n",
    "from preprocessing_functions import *\n",
    "\n",
    "def find_closest_embeddings(embedding, cutoff=25):\n",
    "    return sorted(embeddings_dict.keys(), key=lambda token: spatial.distance.euclidean(embeddings_dict[token], embedding))"
   ]
  },
  {
   "cell_type": "code",
   "execution_count": null,
   "id": "3ca79a7e",
   "metadata": {},
   "outputs": [],
   "source": [
    "topic = 'art'\n",
    "\n",
    "words = find_closest_embeddings(embedding=\n",
    "     mean_vectors_dict[topic]    # embeddings_dict['diplomacy'] # embeddings_dict['fashion']\n",
    ")[:2000]"
   ]
  },
  {
   "cell_type": "code",
   "execution_count": null,
   "id": "1e5e7c5c",
   "metadata": {},
   "outputs": [],
   "source": [
    "english_words = get_english_words(path='../../../input/english_words_alpha_370k.txt\n",
    "print(remove_non_existing_words_from_wordlist(words, english_words))"
   ]
  }
 ],
 "metadata": {
  "kernelspec": {
   "display_name": "Python 3 (ipykernel)",
   "language": "python",
   "name": "python3"
  },
  "language_info": {
   "codemirror_mode": {
    "name": "ipython",
    "version": 3
   },
   "file_extension": ".py",
   "mimetype": "text/x-python",
   "name": "python",
   "nbconvert_exporter": "python",
   "pygments_lexer": "ipython3",
   "version": "3.9.13"
  }
 },
 "nbformat": 4,
 "nbformat_minor": 5
}
