{
 "cells": [
  {
   "cell_type": "markdown",
   "id": "5963adb0",
   "metadata": {},
   "source": [
    "<div style=\"background-color: lightgreen; border-radius: 5px; padding: 10px;\">\n",
    "    <h4>Topic Modeling</h4>\n",
    "    <p>...</p>\n",
    "</div>"
   ]
  },
  {
   "cell_type": "code",
   "execution_count": null,
   "id": "cec4e3df",
   "metadata": {},
   "outputs": [],
   "source": [
    "1+1"
   ]
  },
  {
   "cell_type": "code",
   "execution_count": null,
   "id": "109a021d",
   "metadata": {},
   "outputs": [],
   "source": [
    "import os\n",
    "import pandas as pd\n",
    "import numpy as np\n",
    "from ast import literal_eval\n",
    "from tqdm.notebook import tqdm\n",
    "\n",
    "from preprocessing_functions import *\n",
    "from topic_modeling_functions import *\n",
    "\n",
    "import warnings\n",
    "warnings.filterwarnings('ignore')\n",
    "\n",
    "# Train_lda_model\n",
    "from gensim.models.wrappers import LdaMallet\n",
    "\n",
    "# Calculate_coherence_score\n",
    "from gensim.models import CoherenceModel\n",
    "\n",
    "# Saving and visualising lda models\n",
    "import gensim\n",
    "import pyLDAvis\n",
    "import pyLDAvis.gensim_models as gensimvis"
   ]
  },
  {
   "cell_type": "markdown",
   "id": "77448c4a",
   "metadata": {},
   "source": [
    "# Variables"
   ]
  },
  {
   "cell_type": "code",
   "execution_count": 4,
   "id": "5197b9dd",
   "metadata": {},
   "outputs": [],
   "source": [
    "files_dir = '../../../../data_clean/paragraphs_lemmatised/'\n",
    "POS = [\"NOUN\", \"VERB\", \"ADJ\"]\n",
    "\n",
    "\n",
    "\n",
    "\n",
    "ONLY_ENGLISH_WORDS = True\n",
    "merged_POS = True\n",
    "saving = True\n",
    "\n",
    "# Don't change!\n",
    "word_type = 'english_words' if ONLY_ENGLISH_WORDS else 'dirty_words'\n",
    "files_output_dir = f\"{files_dir}/{word_type}_merged_{''.join(POS)}\""
   ]
  },
  {
   "cell_type": "code",
   "execution_count": 47,
   "id": "071ec67b",
   "metadata": {},
   "outputs": [],
   "source": [
    "os.makedirs(f\"{files_dir}/merged_{''.join(POS)}\", exist_ok=True)"
   ]
  },
  {
   "cell_type": "markdown",
   "id": "fb5ffa2d",
   "metadata": {},
   "source": [
    "### Merge POS (Should be removed to pre-processing notebook!)"
   ]
  },
  {
   "cell_type": "code",
   "execution_count": 72,
   "id": "d316c425",
   "metadata": {},
   "outputs": [
    {
     "name": "stdout",
     "output_type": "stream",
     "text": [
      "../../../../data_clean/paragraphs_lemmatised//english_words_merged_NOUNVERBADJ\\paragraphs_10_934384_1038204_merged_POS.csv already exists.\n",
      "../../../../data_clean/paragraphs_lemmatised//english_words_merged_NOUNVERBADJ\\paragraphs_11_1038204_1142024_merged_POS.csv already exists.\n",
      "../../../../data_clean/paragraphs_lemmatised//english_words_merged_NOUNVERBADJ\\paragraphs_12_1142024_1245844_merged_POS.csv already exists.\n"
     ]
    }
   ],
   "source": [
    "# for file in os.listdir()\n",
    "preprocessing_notebook = False\n",
    "if preprocessing_notebook:\n",
    "    for file in os.listdir(files_dir)[:]:\n",
    "        if file.endswith(\".csv\"):\n",
    "\n",
    "            output_fp = os.path.join(files_output_dir, file.replace('preprocessed', 'merged_POS'))\n",
    "\n",
    "            if os.path.isfile(output_fp):\n",
    "                print(f\"{output_fp} already exists.\")\n",
    "                continue\n",
    "\n",
    "            fp = os.path.join(files_dir, file)\n",
    "            temp_df = pd.read_csv(fp)\n",
    "\n",
    "            if merged_POS:\n",
    "                os.makedirs(files_output_dir, exist_ok=True)\n",
    "                temp_df['merged_POS'] = [[] for _ in range(temp_df.shape[0])]\n",
    "\n",
    "            for tag in POS:\n",
    "                if ONLY_ENGLISH_WORDS:\n",
    "                            column_name = f'{tag}_clean'   \n",
    "                else:\n",
    "                    column_name = f'{tag}'\n",
    "\n",
    "                string_to_list = temp_df[column_name].apply(literal_eval)\n",
    "\n",
    "                if merged_POS:\n",
    "                    temp_df['merged_POS'] += string_to_list\n",
    "\n",
    "            # Save df\n",
    "            temp_df = temp_df[['city_1', 'city_2', 'paragraph_id', 'paragraph', 'article_id', 'title', 'merged_POS']]\n",
    "            temp_df.to_csv(output_fp, index=False)"
   ]
  },
  {
   "cell_type": "code",
   "execution_count": 73,
   "id": "632a3af5",
   "metadata": {},
   "outputs": [
    {
     "data": {
      "text/html": [
       "<div>\n",
       "<style scoped>\n",
       "    .dataframe tbody tr th:only-of-type {\n",
       "        vertical-align: middle;\n",
       "    }\n",
       "\n",
       "    .dataframe tbody tr th {\n",
       "        vertical-align: top;\n",
       "    }\n",
       "\n",
       "    .dataframe thead th {\n",
       "        text-align: right;\n",
       "    }\n",
       "</style>\n",
       "<table border=\"1\" class=\"dataframe\">\n",
       "  <thead>\n",
       "    <tr style=\"text-align: right;\">\n",
       "      <th></th>\n",
       "      <th>city_1</th>\n",
       "      <th>city_2</th>\n",
       "      <th>paragraph_id</th>\n",
       "      <th>paragraph</th>\n",
       "      <th>article_id</th>\n",
       "      <th>title</th>\n",
       "      <th>merged_POS</th>\n",
       "    </tr>\n",
       "  </thead>\n",
       "  <tbody>\n",
       "    <tr>\n",
       "      <th>0</th>\n",
       "      <td>Paris</td>\n",
       "      <td>London</td>\n",
       "      <td>830565</td>\n",
       "      <td>Piip was a member of the Estonian Province Ass...</td>\n",
       "      <td>11414959</td>\n",
       "      <td>Ants Piip</td>\n",
       "      <td>[member, member, member, delegation, peace, ne...</td>\n",
       "    </tr>\n",
       "    <tr>\n",
       "      <th>1</th>\n",
       "      <td>London</td>\n",
       "      <td>Paris</td>\n",
       "      <td>830566</td>\n",
       "      <td>Piip was a member of the Estonian Province Ass...</td>\n",
       "      <td>11414959</td>\n",
       "      <td>Ants Piip</td>\n",
       "      <td>[member, member, member, delegation, peace, ne...</td>\n",
       "    </tr>\n",
       "    <tr>\n",
       "      <th>2</th>\n",
       "      <td>Paris</td>\n",
       "      <td>Munich</td>\n",
       "      <td>830567</td>\n",
       "      <td>Humphrey was born in Saint John, New Brunswick...</td>\n",
       "      <td>11415024</td>\n",
       "      <td>Jack Humphrey</td>\n",
       "      <td>[school, student, school, bear, study, travel,...</td>\n",
       "    </tr>\n",
       "    <tr>\n",
       "      <th>3</th>\n",
       "      <td>Munich</td>\n",
       "      <td>Paris</td>\n",
       "      <td>830568</td>\n",
       "      <td>Humphrey was born in Saint John, New Brunswick...</td>\n",
       "      <td>11415024</td>\n",
       "      <td>Jack Humphrey</td>\n",
       "      <td>[school, student, school, bear, study, travel,...</td>\n",
       "    </tr>\n",
       "    <tr>\n",
       "      <th>4</th>\n",
       "      <td>Turin</td>\n",
       "      <td>Bologna</td>\n",
       "      <td>830569</td>\n",
       "      <td>Born in Bologna, at the age of 15, he began tr...</td>\n",
       "      <td>11415085</td>\n",
       "      <td>Giuseppe Pedretti</td>\n",
       "      <td>[age, opposition, family, son, studio, bear, b...</td>\n",
       "    </tr>\n",
       "  </tbody>\n",
       "</table>\n",
       "</div>"
      ],
      "text/plain": [
       "   city_1   city_2  paragraph_id  \\\n",
       "0   Paris   London        830565   \n",
       "1  London    Paris        830566   \n",
       "2   Paris   Munich        830567   \n",
       "3  Munich    Paris        830568   \n",
       "4   Turin  Bologna        830569   \n",
       "\n",
       "                                           paragraph  article_id  \\\n",
       "0  Piip was a member of the Estonian Province Ass...    11414959   \n",
       "1  Piip was a member of the Estonian Province Ass...    11414959   \n",
       "2  Humphrey was born in Saint John, New Brunswick...    11415024   \n",
       "3  Humphrey was born in Saint John, New Brunswick...    11415024   \n",
       "4  Born in Bologna, at the age of 15, he began tr...    11415085   \n",
       "\n",
       "               title                                         merged_POS  \n",
       "0          Ants Piip  [member, member, member, delegation, peace, ne...  \n",
       "1          Ants Piip  [member, member, member, delegation, peace, ne...  \n",
       "2      Jack Humphrey  [school, student, school, bear, study, travel,...  \n",
       "3      Jack Humphrey  [school, student, school, bear, study, travel,...  \n",
       "4  Giuseppe Pedretti  [age, opposition, family, son, studio, bear, b...  "
      ]
     },
     "execution_count": 73,
     "metadata": {},
     "output_type": "execute_result"
    }
   ],
   "source": [
    "temp_df[['city_1', 'city_2', 'paragraph_id', 'paragraph', 'article_id', 'title', 'merged_POS']].head(5)"
   ]
  },
  {
   "cell_type": "code",
   "execution_count": 6,
   "id": "d1c1619c",
   "metadata": {},
   "outputs": [
    {
     "data": {
      "application/vnd.jupyter.widget-view+json": {
       "model_id": "38ebda42ad8d4ec6a9372ab35f4605c5",
       "version_major": 2,
       "version_minor": 0
      },
      "text/plain": [
       "  0%|          | 0/20 [00:00<?, ?it/s]"
      ]
     },
     "metadata": {},
     "output_type": "display_data"
    }
   ],
   "source": [
    "dataframes = []\n",
    "\n",
    "for file in tqdm(os.listdir(files_output_dir)):\n",
    "    fp = os.path.join(files_output_dir, file)\n",
    "    \n",
    "    temp_df = pd.read_csv(fp)\n",
    "    dataframes.append(temp_df)"
   ]
  },
  {
   "cell_type": "code",
   "execution_count": 7,
   "id": "c217ef14",
   "metadata": {},
   "outputs": [
    {
     "data": {
      "text/plain": [
       "20"
      ]
     },
     "execution_count": 7,
     "metadata": {},
     "output_type": "execute_result"
    }
   ],
   "source": [
    "len(dataframes)"
   ]
  },
  {
   "cell_type": "code",
   "execution_count": 8,
   "id": "6b72abe8",
   "metadata": {},
   "outputs": [
    {
     "data": {
      "text/html": [
       "<div>\n",
       "<style scoped>\n",
       "    .dataframe tbody tr th:only-of-type {\n",
       "        vertical-align: middle;\n",
       "    }\n",
       "\n",
       "    .dataframe tbody tr th {\n",
       "        vertical-align: top;\n",
       "    }\n",
       "\n",
       "    .dataframe thead th {\n",
       "        text-align: right;\n",
       "    }\n",
       "</style>\n",
       "<table border=\"1\" class=\"dataframe\">\n",
       "  <thead>\n",
       "    <tr style=\"text-align: right;\">\n",
       "      <th></th>\n",
       "      <th>city_1</th>\n",
       "      <th>city_2</th>\n",
       "      <th>paragraph</th>\n",
       "      <th>article_id</th>\n",
       "      <th>title</th>\n",
       "      <th>merged_POS</th>\n",
       "    </tr>\n",
       "    <tr>\n",
       "      <th>paragraph_id</th>\n",
       "      <th></th>\n",
       "      <th></th>\n",
       "      <th></th>\n",
       "      <th></th>\n",
       "      <th></th>\n",
       "      <th></th>\n",
       "    </tr>\n",
       "  </thead>\n",
       "  <tbody>\n",
       "    <tr>\n",
       "      <th>1</th>\n",
       "      <td>Birmingham</td>\n",
       "      <td>Florence</td>\n",
       "      <td>The first community of adherents of the Baha'i...</td>\n",
       "      <td>303</td>\n",
       "      <td>Alabama</td>\n",
       "      <td>['community', 'adherent', 'center', 'found', '...</td>\n",
       "    </tr>\n",
       "    <tr>\n",
       "      <th>2</th>\n",
       "      <td>Florence</td>\n",
       "      <td>Birmingham</td>\n",
       "      <td>The first community of adherents of the Baha'i...</td>\n",
       "      <td>303</td>\n",
       "      <td>Alabama</td>\n",
       "      <td>['community', 'adherent', 'center', 'found', '...</td>\n",
       "    </tr>\n",
       "    <tr>\n",
       "      <th>3</th>\n",
       "      <td>Paris</td>\n",
       "      <td>London</td>\n",
       "      <td>A major revision of the work by composer and a...</td>\n",
       "      <td>309</td>\n",
       "      <td>An American in Paris</td>\n",
       "      <td>['revision', 'work', 'composer', 'arranger', '...</td>\n",
       "    </tr>\n",
       "    <tr>\n",
       "      <th>4</th>\n",
       "      <td>London</td>\n",
       "      <td>Paris</td>\n",
       "      <td>A major revision of the work by composer and a...</td>\n",
       "      <td>309</td>\n",
       "      <td>An American in Paris</td>\n",
       "      <td>['revision', 'work', 'composer', 'arranger', '...</td>\n",
       "    </tr>\n",
       "    <tr>\n",
       "      <th>5</th>\n",
       "      <td>Madrid</td>\n",
       "      <td>Rome</td>\n",
       "      <td>Access to biocapacity in Algeria is lower than...</td>\n",
       "      <td>358</td>\n",
       "      <td>Algeria</td>\n",
       "      <td>['access', 'world', 'hectare', 'person', 'terr...</td>\n",
       "    </tr>\n",
       "    <tr>\n",
       "      <th>...</th>\n",
       "      <td>...</td>\n",
       "      <td>...</td>\n",
       "      <td>...</td>\n",
       "      <td>...</td>\n",
       "      <td>...</td>\n",
       "      <td>...</td>\n",
       "    </tr>\n",
       "    <tr>\n",
       "      <th>2076400</th>\n",
       "      <td>Paris</td>\n",
       "      <td>Stockholm</td>\n",
       "      <td>Mundhir participated in Arab and international...</td>\n",
       "      <td>70585176</td>\n",
       "      <td>Mundhir Masri</td>\n",
       "      <td>['festival', 'seminar', 'guest', 'participate'...</td>\n",
       "    </tr>\n",
       "    <tr>\n",
       "      <th>2076401</th>\n",
       "      <td>London</td>\n",
       "      <td>Paris</td>\n",
       "      <td>Mundhir participated in Arab and international...</td>\n",
       "      <td>70585176</td>\n",
       "      <td>Mundhir Masri</td>\n",
       "      <td>['festival', 'seminar', 'guest', 'participate'...</td>\n",
       "    </tr>\n",
       "    <tr>\n",
       "      <th>2076402</th>\n",
       "      <td>London</td>\n",
       "      <td>Stockholm</td>\n",
       "      <td>Mundhir participated in Arab and international...</td>\n",
       "      <td>70585176</td>\n",
       "      <td>Mundhir Masri</td>\n",
       "      <td>['festival', 'seminar', 'guest', 'participate'...</td>\n",
       "    </tr>\n",
       "    <tr>\n",
       "      <th>2076403</th>\n",
       "      <td>Stockholm</td>\n",
       "      <td>Paris</td>\n",
       "      <td>Mundhir participated in Arab and international...</td>\n",
       "      <td>70585176</td>\n",
       "      <td>Mundhir Masri</td>\n",
       "      <td>['festival', 'seminar', 'guest', 'participate'...</td>\n",
       "    </tr>\n",
       "    <tr>\n",
       "      <th>2076404</th>\n",
       "      <td>Stockholm</td>\n",
       "      <td>London</td>\n",
       "      <td>Mundhir participated in Arab and international...</td>\n",
       "      <td>70585176</td>\n",
       "      <td>Mundhir Masri</td>\n",
       "      <td>['festival', 'seminar', 'guest', 'participate'...</td>\n",
       "    </tr>\n",
       "  </tbody>\n",
       "</table>\n",
       "<p>2076404 rows × 6 columns</p>\n",
       "</div>"
      ],
      "text/plain": [
       "                  city_1      city_2  \\\n",
       "paragraph_id                           \n",
       "1             Birmingham    Florence   \n",
       "2               Florence  Birmingham   \n",
       "3                  Paris      London   \n",
       "4                 London       Paris   \n",
       "5                 Madrid        Rome   \n",
       "...                  ...         ...   \n",
       "2076400            Paris   Stockholm   \n",
       "2076401           London       Paris   \n",
       "2076402           London   Stockholm   \n",
       "2076403        Stockholm       Paris   \n",
       "2076404        Stockholm      London   \n",
       "\n",
       "                                                      paragraph  article_id  \\\n",
       "paragraph_id                                                                  \n",
       "1             The first community of adherents of the Baha'i...         303   \n",
       "2             The first community of adherents of the Baha'i...         303   \n",
       "3             A major revision of the work by composer and a...         309   \n",
       "4             A major revision of the work by composer and a...         309   \n",
       "5             Access to biocapacity in Algeria is lower than...         358   \n",
       "...                                                         ...         ...   \n",
       "2076400       Mundhir participated in Arab and international...    70585176   \n",
       "2076401       Mundhir participated in Arab and international...    70585176   \n",
       "2076402       Mundhir participated in Arab and international...    70585176   \n",
       "2076403       Mundhir participated in Arab and international...    70585176   \n",
       "2076404       Mundhir participated in Arab and international...    70585176   \n",
       "\n",
       "                             title  \\\n",
       "paragraph_id                         \n",
       "1                          Alabama   \n",
       "2                          Alabama   \n",
       "3             An American in Paris   \n",
       "4             An American in Paris   \n",
       "5                          Algeria   \n",
       "...                            ...   \n",
       "2076400              Mundhir Masri   \n",
       "2076401              Mundhir Masri   \n",
       "2076402              Mundhir Masri   \n",
       "2076403              Mundhir Masri   \n",
       "2076404              Mundhir Masri   \n",
       "\n",
       "                                                     merged_POS  \n",
       "paragraph_id                                                     \n",
       "1             ['community', 'adherent', 'center', 'found', '...  \n",
       "2             ['community', 'adherent', 'center', 'found', '...  \n",
       "3             ['revision', 'work', 'composer', 'arranger', '...  \n",
       "4             ['revision', 'work', 'composer', 'arranger', '...  \n",
       "5             ['access', 'world', 'hectare', 'person', 'terr...  \n",
       "...                                                         ...  \n",
       "2076400       ['festival', 'seminar', 'guest', 'participate'...  \n",
       "2076401       ['festival', 'seminar', 'guest', 'participate'...  \n",
       "2076402       ['festival', 'seminar', 'guest', 'participate'...  \n",
       "2076403       ['festival', 'seminar', 'guest', 'participate'...  \n",
       "2076404       ['festival', 'seminar', 'guest', 'participate'...  \n",
       "\n",
       "[2076404 rows x 6 columns]"
      ]
     },
     "execution_count": 8,
     "metadata": {},
     "output_type": "execute_result"
    }
   ],
   "source": [
    "# frames = [citypair['lemmatized_paragraphs'] for citypair in data_list]\n",
    "# citypairs = [citypair['city_pair'] for citypair in data_list]\n",
    "\n",
    "result = pd.concat(dataframes) #, keys=citypairs)\n",
    "result.set_index('paragraph_id', inplace=True)\n",
    "result.sort_index(inplace=True)\n",
    "# result.reset_index(inplace=True)\n",
    "\n",
    "# paris_london = result.loc[\"paris_london\"]\n",
    "# paris_london.set_index('paragraph_id', inplace=True)\n",
    "# paris_london\n",
    "\n",
    "result #.iloc[21051]"
   ]
  },
  {
   "cell_type": "markdown",
   "id": "3dfdf42e",
   "metadata": {},
   "source": [
    "## Vectorize data"
   ]
  },
  {
   "cell_type": "code",
   "execution_count": 10,
   "id": "be937db2",
   "metadata": {},
   "outputs": [
    {
     "name": "stdout",
     "output_type": "stream",
     "text": [
      "CPU times: total: 2min 30s\n",
      "Wall time: 8min 22s\n"
     ]
    }
   ],
   "source": [
    "%%time\n",
    "\n",
    "result.merged_POS =  result.merged_POS.apply(literal_eval)"
   ]
  },
  {
   "cell_type": "code",
   "execution_count": 11,
   "id": "3f2bdd4e",
   "metadata": {},
   "outputs": [
    {
     "name": "stdout",
     "output_type": "stream",
     "text": [
      "CPU times: total: 2min 48s\n",
      "Wall time: 15min 41s\n"
     ]
    }
   ],
   "source": [
    "%%time\n",
    "\n",
    "paragraphs = result.merged_POS\n",
    "MIN_DF = 0.1\n",
    "MAX_DF = 0.8\n",
    "\n",
    "# Vectorization\n",
    "dictionary, corpus = vectorize(paragraphs, MIN_DF=MIN_DF, MAX_DF=MAX_DF)"
   ]
  },
  {
   "cell_type": "markdown",
   "id": "7aaae8b2",
   "metadata": {},
   "source": [
    "## Train Single LDA Model"
   ]
  },
  {
   "cell_type": "code",
   "execution_count": 13,
   "id": "6453768d",
   "metadata": {},
   "outputs": [],
   "source": [
    "def train_lda_model(lemmatized_text, dictionary=[], corpus=[], MIN_DF = 0.05, MAX_DF = 0.9, N_TOPICS = 10, N_ITERATIONS = 1000, PATH_TO_MALLET=r'C:/mallet/bin/mallet.bat', GET_COHERENCE_SCORE=True, COHERENCE='c_v'):\n",
    "    \"\"\"\n",
    "    --> function that trains model.\n",
    "\n",
    "        Parameters:\n",
    "        -----------\n",
    "            lemmatized_text: list, str -> contains the key words to be matched (created with the lemmatization function)\n",
    "            dictionary: gensim.corpora.dictionary.Dictionary -> output from vectorization function\n",
    "            corpus: list ([dictionary.doc2bow(text)...) -> output from vectorization function\n",
    "            MIN_DF: int (default = 1) -> minimum document frequency\n",
    "            MAX_DF: int (default = 0.6) -> maximum document frequency\n",
    "            N_TOPICS: int (default = 10) -> Topics to detect\n",
    "            N_ITERATIONS: int (default = 1000) -> 1000 often enough\n",
    "            PATH_TO_MALLET: str (default = 'C:/mallet/bin/mallet.bat') -> location of your mallet execution file\n",
    "            GET_COHERENCE_SCORE: Bool (default = True) -> Whether the coherence should be calculated\n",
    "            COHERENCE: Str ( default = 'c_v') -> ..\n",
    "\n",
    "    \"\"\"\n",
    "\n",
    "    # Call vectorization function if either dictionary or corpus is missing as parameter\n",
    "    if not type(dictionary) == gensim.corpora.dictionary.Dictionary or not corpus:\n",
    "        dictionary, corpus = vectorize(lemmatized_text, MIN_DF, MAX_DF)\n",
    "\n",
    "    print(f\"topics: {N_TOPICS}, MIN_DF: {MIN_DF}, MAX_DF: {MAX_DF}\")\n",
    "\n",
    "    lda_model = LdaMallet(PATH_TO_MALLET,\n",
    "                corpus=corpus,\n",
    "                id2word=dictionary,\n",
    "                num_topics=N_TOPICS,\n",
    "                # alpha=auto,\n",
    "                optimize_interval=10,\n",
    "                iterations=N_ITERATIONS)\n",
    "    \n",
    "\n",
    "    output = {'lda_model': lda_model, 'coherence_score': None, 'dictionary': dictionary, 'corpus': corpus}\n",
    "\n",
    "    if GET_COHERENCE_SCORE:\n",
    "        output['coherence_score'] = calculate_coherence_score(MODEL=lda_model, LEMMATIZED_TEXT=lemmatized_text, DICTIONARY=dictionary, COHERENCE=COHERENCE)\n",
    "\n",
    "    return(output)\n",
    "\n",
    "def calculate_coherence_score(MODEL, LEMMATIZED_TEXT, DICTIONARY, COHERENCE='c_v'):\n",
    "    \"\"\"\n",
    "    --> function that calculates the coherence score of an LDA model.\n",
    "\n",
    "        Parameters:\n",
    "        -----------\n",
    "            MODEL: LdaMallet -> LDA model to save\n",
    "            LEMMATIZED_TEXT: list -> lemmatised documents\n",
    "            DICTIONARY: gensim.corpora.dictionary.Dictionary -> Dictionary\n",
    "            MIN_DF: int (default = 1) -> minimum document frequency\n",
    "            MAX_DF: int (default = 0.6) -> maximum document frequency\n",
    "\n",
    "    \"\"\"\n",
    "    coherence_score = CoherenceModel(model=MODEL, texts=LEMMATIZED_TEXT, dictionary=DICTIONARY, coherence=COHERENCE).get_coherence()\n",
    "    return coherence_score"
   ]
  },
  {
   "cell_type": "code",
   "execution_count": 14,
   "id": "fa9a4472",
   "metadata": {},
   "outputs": [
    {
     "name": "stdout",
     "output_type": "stream",
     "text": [
      "topics: 5, MIN_DF: 0.1, MAX_DF: 0.8\n",
      "dict_keys(['lda_model', 'coherence_score', 'dictionary', 'corpus'])\n",
      "CPU times: total: 2min 53s\n",
      "Wall time: 40min 46s\n"
     ]
    }
   ],
   "source": [
    "%%time\n",
    "\n",
    "# result.merged_POS =  result.merged_POS.apply(literal_eval)\n",
    "\n",
    "# paragraphs = result.merged_POS\n",
    "# MIN_DF = 0.1\n",
    "# MAX_DF = 0.8\n",
    "\n",
    "# # Vectorization\n",
    "# dictionary, corpus = vectorize(paragraphs, MIN_DF=MIN_DF, MAX_DF=MAX_DF)\n",
    "\n",
    "N_TOPICS = 5\n",
    "model_dict = train_lda_model(lemmatized_text=paragraphs,\n",
    "                            dictionary=dictionary,\n",
    "                            corpus=corpus,\n",
    "                            MIN_DF=MIN_DF,\n",
    "                            MAX_DF=MAX_DF,\n",
    "                            N_TOPICS=N_TOPICS\n",
    "                            # random_seed=0, should be added to allow the same results!\n",
    "                            )\n",
    "\n",
    "print(model_dict.keys())"
   ]
  },
  {
   "cell_type": "code",
   "execution_count": 15,
   "id": "955f72bf",
   "metadata": {},
   "outputs": [
    {
     "data": {
      "text/plain": [
       "0.6448632752762254"
      ]
     },
     "execution_count": 15,
     "metadata": {},
     "output_type": "execute_result"
    }
   ],
   "source": [
    "model_dict['coherence_score']"
   ]
  },
  {
   "cell_type": "markdown",
   "id": "84a1819d",
   "metadata": {},
   "source": [
    "## Load Single LDA Model\n",
    "\n",
    "### Only run if a). you want to load a previously trained model or b). the model_dict variable is empty"
   ]
  },
  {
   "cell_type": "code",
   "execution_count": 11,
   "id": "c7b86727",
   "metadata": {},
   "outputs": [],
   "source": [
    "# Load_lda_model\n",
    "from IPython.display import HTML\n",
    "\n",
    "def load_lda_model(INPUT_DIR, LOAD_VIS=True, LOAD_DICT=True, LOAD_TEXTS=True, LOAD_COHERENCE_SCORE=False):\n",
    "    \"\"\"\n",
    "    --> function that loads an LDA model.\n",
    "\n",
    "        Parameters:\n",
    "        -----------\n",
    "            INPUT_DIR: Str -> input directory path where the model resides\n",
    "            LOAD_VIS: Bool (default = True) -> load pyLDAvis visualisation\n",
    "            LOAD_DICT:  Bool (default = True) -> load gensim.corpora.dictionary.Dictionary\n",
    "            LOAD_TEXTS:  Bool (default = True) -> load lemmatised_documents\n",
    "            LOAD_COHERENCE_SCORE: Bool (default = False) -> calculate coherence score\n",
    "\n",
    "    \"\"\"\n",
    "\n",
    "    name = os.path.basename(INPUT_DIR)\n",
    "    output = {'lda_model': None, 'coherence_score': None, 'visualisation': None, 'texts': None, 'dictionary': None}\n",
    "\n",
    "    if os.path.exists(INPUT_DIR):\n",
    "        files = os.listdir(INPUT_DIR)\n",
    "\n",
    "        for file in files:\n",
    "            path = os.path.abspath(os.path.join(INPUT_DIR, file))\n",
    "\n",
    "            if file.endswith('.model'):\n",
    "                output['lda_model'] = gensim.models.LdaModel.load(path)\n",
    "            elif file.endswith('.html') and LOAD_VIS:\n",
    "                output['visualisation'] = HTML(filename=path)\n",
    "            elif file.endswith('.dict') and LOAD_DICT:\n",
    "                output['dictionary'] = Dictionary.load(path)\n",
    "            elif file.endswith('.pickle') and LOAD_TEXTS:\n",
    "                with open(path, 'rb') as fp:\n",
    "                    output['texts'] = pickle.load(fp)\n",
    "            elif file.endswith('.txt'):\n",
    "                output['coherence_score'] = file[:-4]\n",
    "\n",
    "    if LOAD_COHERENCE_SCORE and output['coherence_score'] is None:\n",
    "        if output['texts'] is None:\n",
    "            raise Exception(\"LOAD_TEXTS=True Parameter and .pickle file is required to calculate the coherence score.\")\n",
    "        if output['dictionary'] is None:\n",
    "            raise Exception(\"LOAD_DICT=True Parameter and .pickle file is required to calculate the coherence score.\")\n",
    "\n",
    "        output['coherence_score'] = calculate_coherence_score(MODEL=output['lda_model'], LEMMATIZED_TEXT=output['texts'], DICTIONARY=output['dictionary'], COHERENCE='c_v')\n",
    "\n",
    "    return(output)"
   ]
  },
  {
   "cell_type": "code",
   "execution_count": 12,
   "id": "01e02335",
   "metadata": {},
   "outputs": [
    {
     "name": "stderr",
     "output_type": "stream",
     "text": [
      "WARNING:root:random_state not set so using default value\n",
      "WARNING:root:failed to load state from C:\\Users\\diede\\Personal Files [Local]\\Applied Data Science\\Thesis - CITYNET\\citynet\\src\\analyses\\Diederik_Clean\\lda_model_2million\\lda_model_2million_model.model.state: [Errno 2] No such file or directory: 'C:\\\\Users\\\\diede\\\\Personal Files [Local]\\\\Applied Data Science\\\\Thesis - CITYNET\\\\citynet\\\\src\\\\analyses\\\\Diederik_Clean\\\\lda_model_2million\\\\lda_model_2million_model.model.state'\n"
     ]
    },
    {
     "name": "stdout",
     "output_type": "stream",
     "text": [
      "dict_keys(['lda_model', 'coherence_score', 'visualisation', 'texts', 'dictionary'])\n"
     ]
    }
   ],
   "source": [
    "%%time\n",
    "\n",
    "# Give path to model\n",
    "single_model_path = 'lda_model_2million/'\n",
    "forced_single_model_path = os.path.abspath(single_model_path)\n",
    "\n",
    "LOAD_VIS=True,\n",
    "LOAD_DICT=True,\n",
    "LOAD_TEXTS=True,\n",
    "LOAD_COHERENCE_SCORE=True\n",
    "\n",
    "if os.path.exists(forced_single_model_path):\n",
    "    model_dict = load_lda_model(forced_single_model_path,\n",
    "                           LOAD_VIS=LOAD_VIS,\n",
    "                           LOAD_DICT=LOAD_DICT,\n",
    "                           LOAD_TEXTS=LOAD_TEXTS,\n",
    "                           LOAD_COHERENCE_SCORE=LOAD_COHERENCE_SCORE)\n",
    "    print(model_dict.keys())\n",
    "else:\n",
    "    print('Path is invalid')"
   ]
  },
  {
   "cell_type": "markdown",
   "id": "eb11ea7f",
   "metadata": {},
   "source": [
    "## OPTIONAL: Set up Corpus as well"
   ]
  },
  {
   "cell_type": "code",
   "execution_count": 21,
   "id": "347efdc9",
   "metadata": {},
   "outputs": [
    {
     "name": "stdout",
     "output_type": "stream",
     "text": [
      "CPU times: total: 10min 51s\n",
      "Wall time: 18min 32s\n"
     ]
    }
   ],
   "source": [
    "%%time\n",
    "\n",
    "# Get corpus\n",
    "\n",
    "dictionary = model_dict['dictionary']\n",
    "model_dict['corpus'] = [dictionary.doc2bow(text) for text in model_dict['texts']]"
   ]
  },
  {
   "cell_type": "code",
   "execution_count": 16,
   "id": "3474b3d4",
   "metadata": {},
   "outputs": [],
   "source": [
    "try:\n",
    "    corpus\n",
    "except NameError:\n",
    "    corpus = model_dict['corpus']\n",
    "\n",
    "try:\n",
    "    dictionary\n",
    "except NameError:\n",
    "    dictionary = model_dict['dictionary']"
   ]
  },
  {
   "cell_type": "markdown",
   "id": "87416a6e",
   "metadata": {},
   "source": [
    "## Visualisation"
   ]
  },
  {
   "cell_type": "code",
   "execution_count": 18,
   "id": "fa64ff01",
   "metadata": {},
   "outputs": [],
   "source": [
    "def visualise_topics(lda_model, corpus, dictionary, sort_topics=False):\n",
    "    lda_conv = gensim.models.wrappers.ldamallet.malletmodel2ldamodel(lda_model)\n",
    "    vis = gensimvis.prepare(lda_conv, corpus, dictionary, sort_topics=False)\n",
    "    \n",
    "    print(vis.topic_order)\n",
    "    \n",
    "    return vis"
   ]
  },
  {
   "cell_type": "code",
   "execution_count": 19,
   "id": "c8cacbc4",
   "metadata": {},
   "outputs": [
    {
     "name": "stdout",
     "output_type": "stream",
     "text": [
      "Creating visualisation...\n",
      "[1, 2, 3, 4, 5]\n"
     ]
    },
    {
     "data": {
      "text/html": [
       "\n",
       "<link rel=\"stylesheet\" type=\"text/css\" href=\"https://cdn.jsdelivr.net/gh/bmabey/pyLDAvis@3.3.1/pyLDAvis/js/ldavis.v1.0.0.css\">\n",
       "\n",
       "\n",
       "<div id=\"ldavis_el755214580472809604725556951\"></div>\n",
       "<script type=\"text/javascript\">\n",
       "\n",
       "var ldavis_el755214580472809604725556951_data = {\"mdsDat\": {\"x\": [0.13126432093647927, -0.04670431461145366, 0.0794737142888196, -0.2653399170180365, 0.10130619640419114], \"y\": [-0.18038857986365447, 0.17726356396448034, -0.043257508062393694, -0.08372257152530455, 0.13010509548687235], \"topics\": [1, 2, 3, 4, 5], \"cluster\": [1, 1, 1, 1, 1], \"Freq\": [17.13977323733502, 14.983712911808217, 22.471792258795066, 19.289455178329188, 26.115266413732495]}, \"tinfo\": {\"Term\": [\"win\", \"season\", \"club\", \"play\", \"goal\", \"perform\", \"team\", \"study\", \"work\", \"match\", \"score\", \"service\", \"game\", \"final\", \"tour\", \"opera\", \"line\", \"station\", \"route\", \"music\", \"concert\", \"film\", \"league\", \"performance\", \"train\", \"role\", \"exhibition\", \"railway\", \"debut\", \"defeat\", \"hourly\", \"unpaved\", \"heliport\", \"trainline\", \"footway\", \"shopper\", \"salinity\", \"throughput\", \"upstream\", \"freeway\", \"intercity\", \"subsidence\", \"underpass\", \"motorway\", \"metro\", \"stalactite\", \"multiplex\", \"dough\", \"piedra\", \"chassis\", \"fon\", \"irrigate\", \"superhighway\", \"tegula\", \"terminus\", \"electrification\", \"tram\", \"carriageway\", \"expressway\", \"oceanic\", \"railway\", \"airline\", \"airport\", \"passenger\", \"rail\", \"locomotive\", \"freight\", \"junction\", \"speed\", \"timetable\", \"gauge\", \"hub\", \"electrify\", \"tramway\", \"commuter\", \"traffic\", \"diesel\", \"shopping\", \"trolleybus\", \"mainline\", \"terminal\", \"nonstop\", \"mall\", \"route\", \"station\", \"km\", \"operate\", \"bus\", \"destination\", \"engine\", \"connect\", \"line\", \"service\", \"allocate\", \"train\", \"network\", \"flight\", \"constituency\", \"store\", \"seat\", \"build\", \"connection\", \"car\", \"company\", \"link\", \"open\", \"run\", \"system\", \"locate\", \"city\", \"area\", \"office\", \"main\", \"large\", \"serve\", \"high\", \"include\", \"number\", \"base\", \"time\", \"year\", \"amp\", \"alto\", \"arranger\", \"contrabassoon\", \"saxophone\", \"soprano\", \"tenor\", \"concert\", \"sing\", \"premiere\", \"chorus\", \"encore\", \"accordion\", \"oratorio\", \"rehearsing\", \"backstage\", \"buffa\", \"libretto\", \"orchestra\", \"orchestral\", \"ritornelli\", \"ritornello\", \"symphonic\", \"baile\", \"fandango\", \"saeta\", \"sevillanas\", \"euphonium\", \"flugelhorn\", \"saxhorn\", \"contralto\", \"opera\", \"conductor\", \"album\", \"song\", \"recording\", \"perform\", \"festival\", \"soloist\", \"recital\", \"band\", \"audition\", \"operatic\", \"singe\", \"symphony\", \"ensemble\", \"concerto\", \"gig\", \"film\", \"singer\", \"bass\", \"baritone\", \"repertoire\", \"jazz\", \"music\", \"ballet\", \"musical\", \"composer\", \"tour\", \"theatre\", \"piano\", \"role\", \"performance\", \"production\", \"guest\", \"conduct\", \"dance\", \"release\", \"stage\", \"debut\", \"include\", \"play\", \"world\", \"work\", \"year\", \"show\", \"director\", \"record\", \"time\", \"follow\", \"begin\", \"vituperative\", \"consulate\", \"convulse\", \"treason\", \"deter\", \"byproduct\", \"evict\", \"apolitical\", \"demystification\", \"eviction\", \"technocrat\", \"adjourn\", \"antisemite\", \"almohad\", \"traitorous\", \"lambaste\", \"terrorist\", \"usurper\", \"vindicative\", \"besiege\", \"confederacy\", \"suzerainty\", \"implicate\", \"subjugate\", \"villae\", \"citadel\", \"concordat\", \"mutiny\", \"reassume\", \"reconquer\", \"arrest\", \"troop\", \"squadron\", \"protester\", \"treaty\", \"commander\", \"bomber\", \"battalion\", \"enemy\", \"protest\", \"police\", \"escort\", \"brigade\", \"referendum\", \"garrison\", \"patrol\", \"frigate\", \"raid\", \"convoy\", \"destroyer\", \"faction\", \"depose\", \"envoy\", \"deportation\", \"legate\", \"sovereignty\", \"march\", \"embassy\", \"command\", \"siege\", \"sentence\", \"bomb\", \"bombing\", \"peace\", \"army\", \"gun\", \"demonstration\", \"mission\", \"attack\", \"diplomatic\", \"prisoner\", \"ally\", \"force\", \"kill\", \"party\", \"camp\", \"war\", \"government\", \"capture\", \"anti\", \"bishop\", \"arrive\", \"invasion\", \"military\", \"people\", \"sail\", \"state\", \"order\", \"officer\", \"ship\", \"support\", \"send\", \"political\", \"city\", \"german\", \"authority\", \"french\", \"report\", \"leave\", \"day\", \"british\", \"return\", \"country\", \"hold\", \"time\", \"year\", \"follow\", \"member\", \"lead\", \"include\", \"end\", \"place\", \"join\", \"remain\", \"serve\", \"playoff\", \"welterweight\", \"walkover\", \"bbl\", \"defending\", \"adductor\", \"tourn\", \"quarterfinal\", \"championship\", \"scorecard\", \"sprinting\", \"derby\", \"unbeaten\", \"knockout\", \"contester\", \"midfielder\", \"spanking\", \"attacking\", \"goalkeeper\", \"relegation\", \"refereeing\", \"motocross\", \"midfield\", \"capped\", \"trophyless\", \"handball\", \"hurdler\", \"reliever\", \"header\", \"goalless\", \"match\", \"game\", \"goal\", \"league\", \"tournament\", \"football\", \"club\", \"score\", \"aggregate\", \"replay\", \"scorer\", \"team\", \"semifinal\", \"teammate\", \"brace\", \"fixture\", \"scoring\", \"relegate\", \"penalty\", \"beat\", \"striker\", \"trophy\", \"runner\", \"season\", \"player\", \"final\", \"champion\", \"injury\", \"win\", \"loan\", \"victory\", \"substitute\", \"defeat\", \"round\", \"finish\", \"semi\", \"draw\", \"lose\", \"manager\", \"play\", \"minute\", \"home\", \"point\", \"sign\", \"competition\", \"place\", \"appearance\", \"end\", \"time\", \"start\", \"year\", \"title\", \"follow\", \"untalented\", \"metaphysic\", \"mathematic\", \"zodiacal\", \"arsenate\", \"toxicology\", \"fresco\", \"thesis\", \"contrapposto\", \"societe\", \"longue\", \"sociology\", \"chemistry\", \"kufic\", \"vegetal\", \"engraving\", \"vitalism\", \"doctoral\", \"physic\", \"sculpt\", \"mural\", \"astronomy\", \"polychromy\", \"silverpoint\", \"drypoint\", \"burin\", \"texturing\", \"etching\", \"poetical\", \"rationalistic\", \"painting\", \"exhibition\", \"exhibit\", \"painter\", \"doctorate\", \"philosophy\", \"sculpture\", \"medicine\", \"science\", \"lecturer\", \"gallery\", \"sculptor\", \"professorship\", \"dissertation\", \"degree\", \"physics\", \"theology\", \"drawing\", \"portrait\", \"professor\", \"habilitation\", \"research\", \"philology\", \"fellowship\", \"museum\", \"paint\", \"academic\", \"university\", \"collection\", \"art\", \"school\", \"study\", \"graduate\", \"educate\", \"literature\", \"education\", \"teach\", \"publish\", \"work\", \"father\", \"bear\", \"book\", \"student\", \"artist\", \"son\", \"family\", \"attend\", \"move\", \"year\", \"receive\", \"visit\", \"history\", \"travel\", \"include\", \"member\", \"live\", \"time\", \"return\", \"hold\", \"die\", \"begin\"], \"Freq\": [473086.0, 380687.0, 278705.0, 377100.0, 234535.0, 200166.0, 229723.0, 347900.0, 556280.0, 199721.0, 211807.0, 226851.0, 183866.0, 212589.0, 165453.0, 127061.0, 171803.0, 141720.0, 126576.0, 118164.0, 104956.0, 107995.0, 119714.0, 129316.0, 156499.0, 127836.0, 131319.0, 96347.0, 144727.0, 117605.0, 6038.912307280803, 134.19805127290675, 151.2390736567679, 10.650638989913235, 19.17115018184382, 251.35508016195234, 8.520511191930586, 97.98587870720175, 136.32817907088938, 509.1005437178526, 3791.6274804091113, 181.06086282852496, 193.84162961642085, 14090.795383655208, 4036.5921771771154, 34.082044767722344, 1154.5292665065947, 51.12306715158353, 6.390383393947941, 1143.8786275166813, 2.1301277979826465, 40.47242816167029, 25.561533575791763, 2.1301277979826465, 8876.242534193689, 4168.66010065204, 14704.272189474212, 1048.0228766074622, 494.189649131974, 641.1684671927767, 95538.36186731969, 38289.04716873808, 42449.186758198186, 48282.54173297367, 33666.669847115736, 15907.794395334407, 9666.519947245251, 10663.41975670113, 40613.01659633714, 6959.127516009307, 6063.4087769576045, 16276.306504385404, 5216.682977259502, 4881.187849077235, 4441.316458793819, 24740.36930966945, 3787.3672248131456, 7527.871638070674, 2958.7475113978962, 2915.079891539252, 8069.989162657257, 2347.400833376877, 1951.1970629521045, 121119.06659329329, 133045.65213419814, 27089.900270844308, 92017.26061725439, 16113.35172783973, 33006.330229741114, 13951.272012887346, 43987.13902834166, 151016.47530187873, 196071.8734209087, 12381.367825774134, 130884.63748314473, 48022.66614161978, 64967.83277457174, 16440.326344830068, 28356.261246744994, 42389.54317985467, 65251.13977170343, 31362.9366335975, 23641.223365910406, 87494.99930213722, 37341.1402986358, 81233.48863996723, 81214.31748978539, 38788.56213736501, 36949.19678380699, 150851.39039753508, 55027.59140528571, 49348.67069586398, 50138.94810891554, 59156.84414167508, 60667.10475044477, 51097.50561800774, 84457.43706221395, 46350.51582020341, 43072.249139108106, 52419.249916655965, 51179.51553823006, 42469.422972279026, 1083.3164018005832, 565.6623215567593, 16.698518717542708, 1417.2867761514374, 12628.254780141673, 10244.54123321245, 104956.45208427499, 77917.37565089397, 63097.44028907482, 3709.158470134174, 945.5536223808558, 363.1927821065539, 4462.679127263288, 16.698518717542708, 419.5502827782605, 363.1927821065539, 6833.868785154353, 54199.21712746424, 5692.10756784237, 2.0873148396928385, 6.261944519078516, 3076.7020737072444, 10.436574198464193, 2.0873148396928385, 2.0873148396928385, 2.0873148396928385, 35.48435227477825, 25.047778076314064, 16.698518717542708, 1079.1417721211974, 127061.11623662217, 41783.86846097124, 45354.22049426584, 43305.52097910732, 22530.4763796445, 195632.53969279144, 76398.85410501742, 18892.28661405988, 17174.426500992675, 58852.88556255943, 12615.730891103516, 11668.089953882967, 17203.648908748375, 10004.500026647775, 16861.32927503875, 7821.168704329066, 7345.260920879099, 105005.50398300777, 31569.593292934336, 6330.825908788379, 5777.687476269777, 15319.847265925588, 8720.801400236678, 109021.4977345768, 13220.008537194593, 34315.45596455027, 36190.90834801428, 145254.15237938493, 44662.27562490766, 28053.51144547175, 107272.3278989142, 108241.88564195152, 75668.29391112493, 45665.230405380076, 58709.90449604047, 20043.440748150482, 49125.9984095908, 68864.69119114614, 81364.5761086467, 164321.77343997904, 123590.95531563282, 52671.30266480909, 109776.06204912577, 99169.37169122661, 43985.98561684719, 41959.20290750544, 43610.268945702475, 50696.70282645966, 47361.1737126305, 45220.632344525504, 10.56984372388899, 12225.081251050005, 86.67271853588971, 1302.2047467831235, 481.9848738093379, 40.16540615077816, 651.1023733915617, 226.19465569122437, 2.113968744777798, 247.33434313900236, 12.683812468666787, 126.83812468666787, 76.10287481200074, 181.8013120508906, 10.56984372388899, 48.621281129889354, 2648.8028372065805, 76.10287481200074, 2.113968744777798, 2790.4387431066934, 124.72415594189007, 289.6137180345583, 503.1245612571159, 152.20574962400147, 4.227937489555596, 619.3928422198948, 226.19465569122437, 507.3524987466715, 21.13968744777798, 443.9334364033375, 24200.71419021623, 21982.103992571934, 8601.73882250086, 6756.244108309842, 9518.144273362035, 11005.321285313217, 7738.18259025913, 4609.508847987989, 7705.416074715074, 28989.91038151033, 22456.68997577455, 5227.844705835494, 2932.074649006806, 3418.2874603056994, 4466.8159577154875, 2367.6449941511337, 2289.428150594355, 11676.506361780166, 4997.4221126547145, 2871.8265397806385, 3163.5542265599747, 1741.9102456969053, 5938.138204080835, 1676.3772146087938, 1591.818464817682, 1541.0832149430148, 8658.81597860986, 22214.64055449749, 22775.899256235996, 7278.394388269958, 7997.14376149441, 14230.180605471747, 10753.759004684658, 12335.007625778451, 34311.82669648844, 7733.954652769574, 13372.966279464352, 19305.81956168324, 41259.38497620067, 17295.435285399555, 9386.021226813424, 8560.516431977692, 56008.54490851537, 18447.548251303455, 25608.617374238245, 15720.528570540093, 63742.499561284945, 51775.322497097826, 20345.892184113916, 15347.413087086812, 15140.24415009859, 43168.29875273502, 11541.212362114387, 28511.09646081816, 44462.04762453904, 18036.381330444172, 47904.64572540968, 46620.40971295717, 19860.736357187412, 32832.04857514398, 44078.36229736187, 43083.74000294391, 30450.66278415179, 114171.2239679593, 66592.12942924541, 21110.091885351092, 50158.13640734281, 28807.052085087056, 56083.59079895499, 54895.54036438985, 37327.40311091397, 67047.68969374504, 42895.59678465869, 52100.87368379361, 72057.7956188684, 79879.47997454627, 51367.32652935571, 45488.37945012866, 42619.72386346519, 53723.344695410575, 42013.014833713954, 41573.30933480017, 38852.63156027115, 34989.35367918973, 34934.3904918255, 10742.074595294453, 283.6965689384754, 245.30154457086223, 526.8650566000258, 134.38258528664625, 134.38258528664625, 181.30983729150685, 7934.971702640066, 24694.399839103233, 72.52393491660274, 34.12891054898952, 7533.957003689438, 7629.944564608471, 5855.2412160610165, 6.3991707279355365, 13534.246089583661, 2.133056909311845, 1038.7987148348686, 15567.049324157848, 27783.06624378679, 369.0188453109493, 44.79419509554876, 5524.61739511768, 98.12061782834488, 142.91481292389363, 1262.7696903126125, 219.70486165912007, 2.133056909311845, 5791.249508781661, 7022.023345454595, 199179.52154926682, 183101.60509532882, 232593.8580336369, 118719.54840156938, 38131.5918393132, 57663.99395788177, 270903.56012487767, 206049.03132570564, 16568.519543079758, 14119.770211189762, 10196.012026510622, 222359.4509827587, 8389.312824323488, 8409.576864961951, 8142.9447512979705, 13649.4311626865, 14081.375186822148, 16734.89798200608, 31220.487453142825, 66543.90987134699, 15477.460933966751, 13135.364447542346, 16804.222331558718, 349618.69272075803, 85399.06642120905, 194422.80464150145, 38961.350977035516, 39294.10785488816, 413312.83856126433, 45803.131013653256, 70784.42700705894, 30964.520624025405, 104098.50981669134, 81716.34366728214, 106405.41086411211, 35466.337231128055, 95047.94935048117, 102980.78799621193, 54530.53335810267, 246641.1043099101, 68961.72987805196, 91616.92731185307, 78460.2322952176, 74011.74211084776, 61923.70860577753, 116506.50185815834, 68635.37217092725, 91087.92919834373, 135777.6045053362, 86253.35571338843, 127265.6409087273, 70482.59945439131, 72552.73118487846, 10.280959331827049, 246.74302396384917, 10377.600349546225, 22.618110530019507, 10.280959331827049, 168.60773304196363, 5259.7387941627185, 15464.619026934248, 6.168575599096229, 10.280959331827049, 24.674302396384917, 4875.230915152387, 8255.61034345712, 12.337151198192458, 108.97816891736672, 4729.241292640442, 10.280959331827049, 9699.057033645639, 2052.079482632679, 2015.0680290381017, 3540.7623938812358, 1895.808900788908, 69.91052345642393, 41.123837327308195, 108.97816891736672, 34.955261728211966, 6.168575599096229, 2031.517563969025, 246.74302396384917, 24.674302396384917, 87097.2031714392, 130441.72771442207, 80873.11039195112, 49099.80557693962, 29613.27525939463, 24649.628093988533, 23128.04611287813, 19878.2348680876, 23591.71737874353, 22022.842984706724, 28284.975313722578, 12543.798480762183, 9476.988312078174, 9061.637555072362, 58406.129964109474, 7519.4936552983045, 14191.836261654058, 16803.199931938132, 34210.92027258769, 87533.11584710868, 6407.093855594617, 53112.46400415172, 5066.45675872437, 6953.012796114634, 37105.010324497, 43063.854353223964, 22607.82957068768, 75762.44550809989, 59661.43509852555, 125890.34701822222, 103462.43423584152, 306363.3352250474, 66570.23976951333, 31899.760614792965, 19823.745783628918, 36991.91977184691, 61903.71232879703, 82785.36882767094, 403105.1063456736, 76136.6724277784, 196438.28995321944, 58456.50666483542, 59111.4037742728, 75085.95838406567, 68201.82801547428, 83870.01003717871, 62278.96734440872, 111707.7636199668, 204455.38204017817, 84405.6480183669, 71443.41449279935, 57049.0433323083, 74383.76886170189, 134222.03646073487, 77232.62269255117, 68193.60324800883, 95487.49408214327, 79093.47633161186, 69822.10720617021, 60936.27405567211, 61588.086877309936], \"Total\": [473086.0, 380687.0, 278705.0, 377100.0, 234535.0, 200166.0, 229723.0, 347900.0, 556280.0, 199721.0, 211807.0, 226851.0, 183866.0, 212589.0, 165453.0, 127061.0, 171803.0, 141720.0, 126576.0, 118164.0, 104956.0, 107995.0, 119714.0, 129316.0, 156499.0, 127836.0, 131319.0, 96347.0, 144727.0, 117605.0, 6038.912307280803, 134.19805127290675, 151.2390736567679, 10.650638989913235, 19.17115018184382, 251.35508016195234, 8.520511191930586, 97.98587870720175, 136.32817907088938, 509.1005437178526, 3791.6274804091113, 181.06086282852496, 193.84162961642085, 14090.795383655208, 4036.5921771771154, 34.082044767722344, 1154.5292665065947, 51.12306715158353, 6.390383393947941, 1143.8786275166813, 2.1301277979826465, 40.47242816167029, 25.561533575791763, 2.1301277979826465, 8876.242534193689, 4168.66010065204, 14704.272189474212, 1048.0228766074622, 494.189649131974, 641.1684671927767, 96347.11635495418, 38289.04716873808, 42724.0026950193, 48755.013747431505, 33901.32037778607, 15907.794395334407, 9668.633915990029, 10686.095644109562, 41326.68869970501, 6965.469422243641, 6064.465761329993, 16460.168477370902, 5218.770292099195, 4882.244833449624, 4441.316458793819, 25187.447045284873, 3787.3672248131456, 7588.85688480821, 2958.7475113978962, 2916.136875911641, 8159.02395801254, 2347.400833376877, 1951.1970629521045, 126576.36075973726, 141720.91254264268, 27960.37114521113, 97433.99477840046, 16525.59833962909, 34545.43660555466, 14463.909433495963, 47275.232573228146, 171803.1782529675, 226851.76247424452, 12898.161648732672, 156499.50592538726, 53911.101748964866, 76317.75428130224, 17567.071685796633, 31796.520993100912, 50229.752822773335, 87271.33825179379, 38526.87507361958, 27697.815445636872, 136471.13010215774, 49027.65623240528, 139686.08566338132, 144164.26973524917, 53634.535613616754, 50405.5573961386, 350464.91825241543, 88800.34667182551, 77243.349767614, 87743.10849581836, 128858.48004716651, 151007.68640722265, 107913.0242339868, 470869.5001341478, 128381.82739295567, 105486.96283895879, 406438.8469494635, 561949.3901529084, 108416.51904936878, 1083.3164018005832, 565.6623215567593, 16.698518717542708, 1417.2867761514374, 12628.254780141673, 10244.54123321245, 104956.45208427499, 77917.37565089397, 63097.44028907482, 3709.158470134174, 945.5536223808558, 363.1927821065539, 4462.679127263288, 16.698518717542708, 419.5502827782605, 363.1927821065539, 6833.868785154353, 54199.21712746424, 5692.10756784237, 2.0873148396928385, 6.261944519078516, 3076.7020737072444, 10.436574198464193, 2.0873148396928385, 2.0873148396928385, 2.0873148396928385, 35.48435227477825, 25.047778076314064, 16.698518717542708, 1079.1417721211974, 127061.11623662217, 41811.56012234502, 45490.95725337914, 43542.011932178546, 22530.4763796445, 200166.39085035716, 77475.39453852485, 18892.28661405988, 17174.426500992675, 59605.075481703134, 12615.730891103516, 11668.089953882967, 17271.705459412875, 10004.500026647775, 16964.138868357022, 7821.168704329066, 7345.260920879099, 107995.73372380431, 32082.613163592505, 6330.825908788379, 5777.687476269777, 15479.202135568907, 8774.26238876218, 118164.35486837059, 13465.72346522526, 36026.20759736629, 38433.18557828576, 165453.96337837417, 48581.92952757063, 29957.545113726123, 127836.43838880458, 129316.33979392404, 89041.08554796611, 54321.34101435164, 73303.71198914236, 21530.82965844662, 70666.74120569107, 112750.61085449964, 144727.38790607572, 470869.5001341478, 377100.14069631614, 122746.08609388856, 556280.8008092646, 561949.3901529084, 100246.22371258138, 87766.43060527445, 112417.84703501558, 406438.8469494635, 253941.3592048306, 198603.26890253072, 10.56984372388899, 12225.081251050005, 86.67271853588971, 1302.2047467831235, 481.9848738093379, 40.16540615077816, 651.1023733915617, 226.19465569122437, 2.113968744777798, 247.33434313900236, 12.683812468666787, 126.83812468666787, 76.10287481200074, 181.8013120508906, 10.56984372388899, 48.621281129889354, 2648.8028372065805, 76.10287481200074, 2.113968744777798, 2790.4387431066934, 124.72415594189007, 289.6137180345583, 503.1245612571159, 152.20574962400147, 4.227937489555596, 619.3928422198948, 226.19465569122437, 507.3524987466715, 21.13968744777798, 443.9334364033375, 24425.02548388905, 22181.270941683313, 8601.73882250086, 6756.244108309842, 9563.942021018662, 11085.512768101467, 7775.459826723826, 4610.536943921172, 7754.7646795078435, 29619.157385030172, 22900.79848957889, 5255.536367209268, 2932.074649006806, 3426.786565018485, 4493.546451978238, 2367.6449941511337, 2289.428150594355, 11879.96871582346, 5042.15479641235, 2881.4121148715603, 3181.0318574240805, 1741.9102456969053, 6012.161111269989, 1676.3772146087938, 1591.818464817682, 1541.0832149430148, 8812.607966065627, 22834.582402206663, 23444.373925967946, 7420.318311509162, 8177.070131947977, 14789.420798056424, 11112.682671635623, 12888.870189190604, 37083.602379695585, 7984.539502730409, 14114.132293285787, 20717.58011777214, 46347.288836342974, 18585.69568154385, 9855.17532505134, 8953.958476913307, 67675.80490818093, 20712.672368307773, 30147.289332628083, 17555.27228141939, 84383.57092142064, 66803.9975190978, 23521.494121324107, 17133.160754023524, 16927.07488197013, 59118.46503750532, 12454.47312578101, 37296.74644071364, 66065.20623437947, 21675.10844442228, 81164.41848516569, 80719.79268020195, 25157.09963891638, 51222.400602531365, 78240.1860798613, 76226.79628382028, 47479.91199830285, 350464.91825241543, 166607.80611186195, 27785.54709328159, 116483.2617226381, 47377.047389972075, 163002.45393261238, 160270.66442922404, 77911.13986782635, 253905.99231265072, 107175.39412700504, 187836.4828078446, 406438.8469494635, 561949.3901529084, 253941.3592048306, 182220.8437809616, 168388.34039464247, 470869.5001341478, 190113.8948464854, 225462.61553253842, 166778.29105318774, 114665.29966694636, 151007.68640722265, 10742.074595294453, 283.6965689384754, 245.30154457086223, 526.8650566000258, 134.38258528664625, 134.38258528664625, 181.30983729150685, 7934.971702640066, 24694.399839103233, 72.52393491660274, 34.12891054898952, 7533.957003689438, 7629.944564608471, 5855.2412160610165, 6.3991707279355365, 13534.246089583661, 2.133056909311845, 1038.7987148348686, 15567.049324157848, 27783.06624378679, 369.0188453109493, 44.79419509554876, 5524.61739511768, 98.12061782834488, 142.91481292389363, 1262.7696903126125, 219.70486165912007, 2.133056909311845, 5791.249508781661, 7022.023345454595, 199721.91899005944, 183866.3891610763, 234535.35210143455, 119714.33372013191, 38136.87676117515, 57948.04492172528, 278705.55987945135, 211807.95962232328, 16607.926907342437, 14143.774331846229, 10196.012026510622, 229723.8119326573, 8389.312824323488, 8410.604960895134, 8156.750184351846, 13759.220502401158, 14201.395790104487, 16907.80855825386, 31794.429967349995, 68998.34321866717, 15684.629870954976, 13271.125774918151, 17066.065175140106, 380687.0480628018, 89928.91779472318, 212589.96041026886, 40591.29617635194, 40991.38775860661, 473086.47313242196, 48704.670613086295, 77359.29124202774, 32483.232514643016, 117605.71311144908, 93298.13254531503, 125406.29145146708, 38619.197864763664, 114573.83705854666, 127222.49205631162, 64130.731613099924, 377100.14069631614, 88075.5893304028, 130868.743956017, 107478.68890044419, 101192.46153851287, 85492.6522858296, 225462.61553253842, 106434.43916738362, 190113.8948464854, 406438.8469494635, 193989.37452830977, 561949.3901529084, 136770.82026801462, 253941.3592048306, 10.280959331827049, 246.74302396384917, 10377.600349546225, 22.618110530019507, 10.280959331827049, 168.60773304196363, 5259.7387941627185, 15464.619026934248, 6.168575599096229, 10.280959331827049, 24.674302396384917, 4875.230915152387, 8255.61034345712, 12.337151198192458, 108.97816891736672, 4729.241292640442, 10.280959331827049, 9699.057033645639, 2052.079482632679, 2015.0680290381017, 3540.7623938812358, 1895.808900788908, 69.91052345642393, 41.123837327308195, 108.97816891736672, 34.955261728211966, 6.168575599096229, 2031.517563969025, 246.74302396384917, 24.674302396384917, 87144.1677553323, 131319.27577102973, 81260.30729471415, 49099.80557693962, 29613.27525939463, 24651.761150897844, 23128.04611287813, 19894.089633673433, 23659.555111033547, 22090.68071699674, 28535.46642143826, 12578.239175617115, 9476.988312078174, 9061.637555072362, 59530.49757917844, 7519.4936552983045, 14291.192792658614, 16956.698014291367, 34783.151058572, 89853.69936952897, 6407.093855594617, 54379.090404306764, 5066.45675872437, 6977.016916771101, 37981.354734938046, 44324.662349272294, 22979.757647650647, 79326.54749388051, 62292.79152588279, 133540.3559056965, 111729.45935626455, 347900.4132713307, 71615.58508409637, 33698.29819374601, 20528.38034375318, 39900.746490140395, 70150.26350440849, 97553.67770789881, 556280.8008092646, 90605.99945286468, 273255.68385573965, 70187.0758754901, 71515.4038108182, 99298.8105245026, 89151.8210515523, 116971.94416732705, 85147.51603744256, 207403.0435003875, 561949.3901529084, 157096.9471365754, 124639.43416150716, 85030.7568250344, 140562.44658383465, 470869.5001341478, 182220.8437809616, 126666.63059431323, 406438.8469494635, 253905.99231265072, 187836.4828078446, 107375.51308337422, 198603.26890253072], \"Category\": [\"Default\", \"Default\", \"Default\", \"Default\", \"Default\", \"Default\", \"Default\", \"Default\", \"Default\", \"Default\", \"Default\", \"Default\", \"Default\", \"Default\", \"Default\", \"Default\", \"Default\", \"Default\", \"Default\", \"Default\", \"Default\", \"Default\", \"Default\", \"Default\", \"Default\", \"Default\", \"Default\", \"Default\", \"Default\", \"Default\", \"Topic1\", \"Topic1\", \"Topic1\", \"Topic1\", \"Topic1\", \"Topic1\", \"Topic1\", \"Topic1\", \"Topic1\", \"Topic1\", \"Topic1\", \"Topic1\", \"Topic1\", \"Topic1\", \"Topic1\", \"Topic1\", \"Topic1\", \"Topic1\", \"Topic1\", \"Topic1\", \"Topic1\", \"Topic1\", \"Topic1\", \"Topic1\", \"Topic1\", \"Topic1\", \"Topic1\", \"Topic1\", \"Topic1\", \"Topic1\", \"Topic1\", \"Topic1\", \"Topic1\", \"Topic1\", \"Topic1\", \"Topic1\", \"Topic1\", \"Topic1\", \"Topic1\", \"Topic1\", \"Topic1\", \"Topic1\", \"Topic1\", \"Topic1\", \"Topic1\", \"Topic1\", \"Topic1\", \"Topic1\", \"Topic1\", \"Topic1\", \"Topic1\", \"Topic1\", \"Topic1\", \"Topic1\", \"Topic1\", \"Topic1\", \"Topic1\", \"Topic1\", \"Topic1\", \"Topic1\", \"Topic1\", \"Topic1\", \"Topic1\", \"Topic1\", \"Topic1\", \"Topic1\", \"Topic1\", \"Topic1\", \"Topic1\", \"Topic1\", \"Topic1\", \"Topic1\", \"Topic1\", \"Topic1\", \"Topic1\", \"Topic1\", \"Topic1\", \"Topic1\", \"Topic1\", \"Topic1\", \"Topic1\", \"Topic1\", \"Topic1\", \"Topic1\", \"Topic1\", \"Topic1\", \"Topic1\", \"Topic1\", \"Topic1\", \"Topic1\", \"Topic1\", \"Topic1\", \"Topic2\", \"Topic2\", \"Topic2\", \"Topic2\", \"Topic2\", \"Topic2\", \"Topic2\", \"Topic2\", \"Topic2\", \"Topic2\", \"Topic2\", \"Topic2\", \"Topic2\", \"Topic2\", \"Topic2\", \"Topic2\", \"Topic2\", \"Topic2\", \"Topic2\", \"Topic2\", \"Topic2\", \"Topic2\", \"Topic2\", \"Topic2\", \"Topic2\", \"Topic2\", \"Topic2\", \"Topic2\", \"Topic2\", \"Topic2\", \"Topic2\", \"Topic2\", \"Topic2\", \"Topic2\", \"Topic2\", \"Topic2\", \"Topic2\", \"Topic2\", \"Topic2\", \"Topic2\", \"Topic2\", \"Topic2\", \"Topic2\", \"Topic2\", \"Topic2\", \"Topic2\", \"Topic2\", \"Topic2\", \"Topic2\", \"Topic2\", \"Topic2\", \"Topic2\", \"Topic2\", \"Topic2\", \"Topic2\", \"Topic2\", \"Topic2\", \"Topic2\", \"Topic2\", \"Topic2\", \"Topic2\", \"Topic2\", \"Topic2\", \"Topic2\", \"Topic2\", \"Topic2\", \"Topic2\", \"Topic2\", \"Topic2\", \"Topic2\", \"Topic2\", \"Topic2\", \"Topic2\", \"Topic2\", \"Topic2\", \"Topic2\", \"Topic2\", \"Topic2\", \"Topic2\", \"Topic2\", \"Topic3\", \"Topic3\", \"Topic3\", \"Topic3\", \"Topic3\", \"Topic3\", \"Topic3\", \"Topic3\", \"Topic3\", \"Topic3\", \"Topic3\", \"Topic3\", \"Topic3\", \"Topic3\", \"Topic3\", \"Topic3\", \"Topic3\", \"Topic3\", \"Topic3\", \"Topic3\", \"Topic3\", \"Topic3\", \"Topic3\", \"Topic3\", \"Topic3\", \"Topic3\", \"Topic3\", \"Topic3\", \"Topic3\", \"Topic3\", \"Topic3\", \"Topic3\", \"Topic3\", \"Topic3\", \"Topic3\", \"Topic3\", \"Topic3\", \"Topic3\", \"Topic3\", \"Topic3\", \"Topic3\", \"Topic3\", \"Topic3\", \"Topic3\", \"Topic3\", \"Topic3\", \"Topic3\", \"Topic3\", \"Topic3\", \"Topic3\", \"Topic3\", \"Topic3\", \"Topic3\", \"Topic3\", \"Topic3\", \"Topic3\", \"Topic3\", \"Topic3\", \"Topic3\", \"Topic3\", \"Topic3\", \"Topic3\", \"Topic3\", \"Topic3\", \"Topic3\", \"Topic3\", \"Topic3\", \"Topic3\", \"Topic3\", \"Topic3\", \"Topic3\", \"Topic3\", \"Topic3\", \"Topic3\", \"Topic3\", \"Topic3\", \"Topic3\", \"Topic3\", \"Topic3\", \"Topic3\", \"Topic3\", \"Topic3\", \"Topic3\", \"Topic3\", \"Topic3\", \"Topic3\", \"Topic3\", \"Topic3\", \"Topic3\", \"Topic3\", \"Topic3\", \"Topic3\", \"Topic3\", \"Topic3\", \"Topic3\", \"Topic3\", \"Topic3\", \"Topic3\", \"Topic3\", \"Topic3\", \"Topic3\", \"Topic3\", \"Topic3\", \"Topic3\", \"Topic3\", \"Topic3\", \"Topic3\", \"Topic3\", \"Topic3\", \"Topic3\", \"Topic3\", \"Topic3\", \"Topic3\", \"Topic3\", \"Topic3\", \"Topic4\", \"Topic4\", \"Topic4\", \"Topic4\", \"Topic4\", \"Topic4\", \"Topic4\", \"Topic4\", \"Topic4\", \"Topic4\", \"Topic4\", \"Topic4\", \"Topic4\", \"Topic4\", \"Topic4\", \"Topic4\", \"Topic4\", \"Topic4\", \"Topic4\", \"Topic4\", \"Topic4\", \"Topic4\", \"Topic4\", \"Topic4\", \"Topic4\", \"Topic4\", \"Topic4\", \"Topic4\", \"Topic4\", \"Topic4\", \"Topic4\", \"Topic4\", \"Topic4\", \"Topic4\", \"Topic4\", \"Topic4\", \"Topic4\", \"Topic4\", \"Topic4\", \"Topic4\", \"Topic4\", \"Topic4\", \"Topic4\", \"Topic4\", \"Topic4\", \"Topic4\", \"Topic4\", \"Topic4\", \"Topic4\", \"Topic4\", \"Topic4\", \"Topic4\", \"Topic4\", \"Topic4\", \"Topic4\", \"Topic4\", \"Topic4\", \"Topic4\", \"Topic4\", \"Topic4\", \"Topic4\", \"Topic4\", \"Topic4\", \"Topic4\", \"Topic4\", \"Topic4\", \"Topic4\", \"Topic4\", \"Topic4\", \"Topic4\", \"Topic4\", \"Topic4\", \"Topic4\", \"Topic4\", \"Topic4\", \"Topic4\", \"Topic4\", \"Topic4\", \"Topic4\", \"Topic4\", \"Topic4\", \"Topic4\", \"Topic4\", \"Topic5\", \"Topic5\", \"Topic5\", \"Topic5\", \"Topic5\", \"Topic5\", \"Topic5\", \"Topic5\", \"Topic5\", \"Topic5\", \"Topic5\", \"Topic5\", \"Topic5\", \"Topic5\", \"Topic5\", \"Topic5\", \"Topic5\", \"Topic5\", \"Topic5\", \"Topic5\", \"Topic5\", \"Topic5\", \"Topic5\", \"Topic5\", \"Topic5\", \"Topic5\", \"Topic5\", \"Topic5\", \"Topic5\", \"Topic5\", \"Topic5\", \"Topic5\", \"Topic5\", \"Topic5\", \"Topic5\", \"Topic5\", \"Topic5\", \"Topic5\", \"Topic5\", \"Topic5\", \"Topic5\", \"Topic5\", \"Topic5\", \"Topic5\", \"Topic5\", \"Topic5\", \"Topic5\", \"Topic5\", \"Topic5\", \"Topic5\", \"Topic5\", \"Topic5\", \"Topic5\", \"Topic5\", \"Topic5\", \"Topic5\", \"Topic5\", \"Topic5\", \"Topic5\", \"Topic5\", \"Topic5\", \"Topic5\", \"Topic5\", \"Topic5\", \"Topic5\", \"Topic5\", \"Topic5\", \"Topic5\", \"Topic5\", \"Topic5\", \"Topic5\", \"Topic5\", \"Topic5\", \"Topic5\", \"Topic5\", \"Topic5\", \"Topic5\", \"Topic5\", \"Topic5\", \"Topic5\", \"Topic5\", \"Topic5\", \"Topic5\", \"Topic5\", \"Topic5\", \"Topic5\", \"Topic5\", \"Topic5\", \"Topic5\", \"Topic5\", \"Topic5\"], \"logprob\": [30.0, 29.0, 28.0, 27.0, 26.0, 25.0, 24.0, 23.0, 22.0, 21.0, 20.0, 19.0, 18.0, 17.0, 16.0, 15.0, 14.0, 13.0, 12.0, 11.0, 10.0, 9.0, 8.0, 7.0, 6.0, 5.0, 4.0, 3.0, 2.0, 1.0, -7.4282, -11.2349, -11.1153, -13.7686, -13.1808, -10.6073, -13.9917, -11.5494, -11.2191, -9.9016, -7.8937, -10.9354, -10.8672, -6.5809, -7.831, -12.6054, -9.0828, -12.2, -14.2794, -9.092, -15.378, -12.4336, -12.8931, -15.378, -7.0431, -7.7989, -6.5383, -9.1795, -9.9313, -9.6709, -4.6669, -5.5813, -5.4781, -5.3494, -5.7099, -6.4596, -6.9578, -6.8596, -5.5224, -7.2864, -7.4242, -6.4367, -7.5746, -7.6411, -7.7355, -6.018, -7.8948, -7.2078, -8.1417, -8.1565, -7.1383, -8.3731, -8.558, -4.4297, -4.3358, -5.9273, -4.7045, -6.4468, -5.7297, -6.5909, -5.4425, -4.2091, -3.948, -6.7103, -4.3521, -5.3548, -5.0526, -6.4267, -5.8816, -5.4795, -5.0482, -5.7808, -6.0635, -4.7549, -5.6064, -4.8291, -4.8294, -5.5683, -5.6169, -4.2102, -5.2186, -5.3275, -5.3116, -5.1463, -5.121, -5.2927, -4.7902, -5.3902, -5.4636, -5.2672, -5.2911, -5.4777, -9.012, -9.6618, -13.1844, -8.7433, -6.5561, -6.7653, -4.4385, -4.7364, -4.9473, -7.7812, -9.148, -10.1048, -7.5963, -13.1844, -9.9606, -10.1048, -7.1701, -5.0993, -7.3529, -15.2639, -14.1653, -7.9682, -13.6544, -15.2639, -15.2639, -15.2639, -12.4307, -12.779, -13.1844, -9.0158, -4.2473, -5.3595, -5.2775, -5.3237, -5.9771, -3.8158, -4.756, -6.1533, -6.2486, -5.017, -6.5571, -6.6352, -6.2469, -6.789, -6.267, -7.0352, -7.098, -4.438, -5.6398, -7.2466, -7.338, -6.3629, -6.9263, -4.4005, -6.5103, -5.5564, -5.5032, -4.1135, -5.2929, -5.7579, -4.4166, -4.4076, -4.7656, -5.2707, -5.0194, -6.0941, -5.1976, -4.8599, -4.6931, -3.9902, -4.275, -5.1279, -4.3936, -4.4952, -5.3081, -5.3553, -5.3167, -5.1661, -5.2342, -5.2805, -14.0471, -6.9938, -11.9429, -9.2332, -10.2271, -12.7121, -9.9264, -10.9837, -15.6565, -10.8943, -13.8647, -11.5621, -12.073, -11.2021, -14.0471, -12.521, -8.5232, -12.073, -15.6565, -8.4711, -11.579, -10.7365, -10.1842, -11.3798, -14.9633, -9.9763, -10.9837, -10.1759, -13.3539, -10.3094, -6.3109, -6.4071, -7.3453, -7.5868, -7.2441, -7.0989, -7.4511, -7.9692, -7.4554, -6.1304, -6.3857, -7.8433, -8.4216, -8.2682, -8.0006, -8.6354, -8.669, -7.0397, -7.8884, -8.4424, -8.3456, -8.9423, -7.7159, -8.9807, -9.0324, -9.0648, -7.3387, -6.3966, -6.3716, -7.5124, -7.4182, -6.8419, -7.1221, -6.9849, -5.9618, -7.4517, -6.9041, -6.5369, -5.7774, -6.6469, -7.2581, -7.3501, -5.4718, -6.5824, -6.2544, -6.7423, -5.3425, -5.5504, -6.4844, -6.7664, -6.7799, -5.7322, -7.0514, -6.147, -5.7027, -6.6049, -5.6281, -5.6553, -6.5086, -6.0059, -5.7113, -5.7342, -6.0812, -4.7596, -5.2987, -6.4476, -5.5821, -6.1367, -5.4705, -5.4919, -5.8776, -5.2919, -5.7385, -5.5441, -5.2198, -5.1168, -5.5583, -5.6798, -5.745, -5.5135, -5.7593, -5.7698, -5.8375, -5.9423, -5.9438, -6.9704, -10.6045, -10.7499, -9.9854, -11.3517, -11.3517, -11.0522, -7.2733, -6.138, -11.9684, -12.7222, -7.3252, -7.3125, -7.5773, -14.3962, -6.7394, -15.4948, -9.3065, -6.5994, -6.0202, -10.3415, -12.4503, -7.6354, -11.6662, -11.2901, -9.1113, -10.8601, -15.4948, -7.5883, -7.3956, -4.0504, -4.1346, -3.8953, -4.5678, -5.7036, -5.29, -3.7428, -4.0165, -6.5371, -6.697, -7.0226, -3.9403, -7.2176, -7.2152, -7.2475, -6.7309, -6.6998, -6.5271, -5.9035, -5.1467, -6.6052, -6.7693, -6.523, -3.4878, -4.8973, -4.0746, -5.682, -5.6735, -3.3204, -5.5203, -5.085, -5.9118, -4.6993, -4.9413, -4.6773, -5.776, -4.7902, -4.7101, -5.3458, -3.8367, -5.1111, -4.827, -4.982, -5.0404, -5.2187, -4.5867, -5.1158, -4.8328, -4.4336, -4.8873, -4.4983, -5.0892, -5.0603, -14.225, -11.047, -7.3079, -13.4366, -14.225, -11.4277, -7.9875, -6.909, -14.7359, -14.225, -13.3496, -8.0634, -7.5367, -14.0427, -11.8642, -8.0938, -14.225, -7.3755, -8.9287, -8.9469, -8.3832, -9.0079, -12.3081, -12.8387, -11.8642, -13.0013, -14.7359, -8.9388, -11.047, -13.3496, -5.1805, -4.7766, -5.2547, -5.7537, -6.2593, -6.4428, -6.5065, -6.6579, -6.4867, -6.5555, -6.3052, -7.1183, -7.3987, -7.4435, -5.5801, -7.6301, -6.9949, -6.826, -6.115, -5.1755, -7.7902, -5.6752, -8.0249, -7.7084, -6.0338, -5.8849, -6.5293, -5.32, -5.5589, -4.8122, -5.0084, -3.9228, -5.4493, -6.185, -6.6607, -6.0369, -5.522, -5.2313, -3.6484, -5.315, -4.3672, -5.5793, -5.5681, -5.3289, -5.4251, -5.2183, -5.5159, -4.9317, -4.3272, -5.2119, -5.3787, -5.6037, -5.3383, -4.7481, -5.3007, -5.4252, -5.0886, -5.2769, -5.4016, -5.5377, -5.5271], \"loglift\": [30.0, 29.0, 28.0, 27.0, 26.0, 25.0, 24.0, 23.0, 22.0, 21.0, 20.0, 19.0, 18.0, 17.0, 16.0, 15.0, 14.0, 13.0, 12.0, 11.0, 10.0, 9.0, 8.0, 7.0, 6.0, 5.0, 4.0, 3.0, 2.0, 1.0, 1.7638, 1.7638, 1.7638, 1.7638, 1.7638, 1.7638, 1.7638, 1.7638, 1.7638, 1.7638, 1.7638, 1.7638, 1.7638, 1.7638, 1.7638, 1.7638, 1.7638, 1.7638, 1.7638, 1.7638, 1.7638, 1.7638, 1.7638, 1.7638, 1.7638, 1.7638, 1.7638, 1.7638, 1.7638, 1.7638, 1.7553, 1.7638, 1.7573, 1.754, 1.7568, 1.7638, 1.7635, 1.7616, 1.7463, 1.7629, 1.7636, 1.7525, 1.7634, 1.7636, 1.7638, 1.7459, 1.7638, 1.7557, 1.7638, 1.7634, 1.7528, 1.7638, 1.7638, 1.7197, 1.7006, 1.7321, 1.7066, 1.7385, 1.7182, 1.7277, 1.6917, 1.6348, 1.618, 1.7229, 1.585, 1.6481, 1.6028, 1.6975, 1.6493, 1.5941, 1.473, 1.558, 1.6054, 1.3192, 1.4915, 1.2217, 1.1899, 1.4397, 1.4532, 0.9208, 1.2852, 1.3157, 1.2042, 0.9852, 0.8518, 1.0162, 0.0454, 0.745, 0.8681, -0.2844, -0.6323, 0.8266, 1.8982, 1.8982, 1.8982, 1.8982, 1.8982, 1.8982, 1.8982, 1.8982, 1.8982, 1.8982, 1.8982, 1.8982, 1.8982, 1.8982, 1.8982, 1.8982, 1.8982, 1.8982, 1.8982, 1.8982, 1.8982, 1.8982, 1.8982, 1.8982, 1.8982, 1.8982, 1.8982, 1.8982, 1.8982, 1.8982, 1.8982, 1.8975, 1.8952, 1.8928, 1.8982, 1.8753, 1.8842, 1.8982, 1.8982, 1.8855, 1.8982, 1.8982, 1.8943, 1.8982, 1.8921, 1.8982, 1.8982, 1.8701, 1.8821, 1.8982, 1.8982, 1.8879, 1.8921, 1.8177, 1.8798, 1.8496, 1.8381, 1.768, 1.8141, 1.8325, 1.7228, 1.7203, 1.7355, 1.7246, 1.6762, 1.8266, 1.5346, 1.4052, 1.3223, 0.8455, 0.7827, 1.0522, 0.2754, 0.1636, 1.0744, 1.1602, 0.9513, -0.1834, 0.2189, 0.4185, 1.4929, 1.4929, 1.4929, 1.4929, 1.4929, 1.4929, 1.4929, 1.4929, 1.4929, 1.4929, 1.4929, 1.4929, 1.4929, 1.4929, 1.4929, 1.4929, 1.4929, 1.4929, 1.4929, 1.4929, 1.4929, 1.4929, 1.4929, 1.4929, 1.4929, 1.4929, 1.4929, 1.4929, 1.4929, 1.4929, 1.4837, 1.4839, 1.4929, 1.4929, 1.4881, 1.4856, 1.4881, 1.4927, 1.4865, 1.4714, 1.4733, 1.4876, 1.4929, 1.4904, 1.4869, 1.4929, 1.4929, 1.4756, 1.484, 1.4896, 1.4874, 1.4929, 1.4805, 1.4929, 1.4929, 1.4929, 1.4753, 1.4654, 1.464, 1.4736, 1.4707, 1.4544, 1.4601, 1.449, 1.4152, 1.461, 1.439, 1.4223, 1.3766, 1.421, 1.4441, 1.448, 1.3037, 1.3771, 1.3297, 1.3825, 1.2124, 1.2381, 1.3479, 1.3828, 1.3814, 1.1785, 1.4168, 1.2243, 1.0969, 1.3091, 0.9656, 0.944, 1.2565, 1.0481, 0.9191, 0.9223, 1.0487, 0.3713, 0.5759, 1.2181, 0.6503, 0.9954, 0.426, 0.4215, 0.7571, 0.1613, 0.5772, 0.2105, -0.2371, -0.458, -0.1052, 0.1051, 0.119, -0.6778, -0.0167, -0.1978, 0.036, 0.3059, 0.0291, 1.6456, 1.6456, 1.6456, 1.6456, 1.6456, 1.6456, 1.6456, 1.6456, 1.6456, 1.6456, 1.6456, 1.6456, 1.6456, 1.6456, 1.6456, 1.6456, 1.6456, 1.6456, 1.6456, 1.6456, 1.6456, 1.6456, 1.6456, 1.6456, 1.6456, 1.6456, 1.6456, 1.6456, 1.6456, 1.6456, 1.6429, 1.6414, 1.6373, 1.6373, 1.6455, 1.6407, 1.6172, 1.618, 1.6432, 1.6439, 1.6456, 1.613, 1.6456, 1.6455, 1.6439, 1.6376, 1.6371, 1.6353, 1.6274, 1.6094, 1.6323, 1.6353, 1.6301, 1.5605, 1.5939, 1.5563, 1.6046, 1.6033, 1.5105, 1.5842, 1.5568, 1.5977, 1.5236, 1.5131, 1.4813, 1.5604, 1.4588, 1.4342, 1.4834, 1.221, 1.401, 1.289, 1.3309, 1.3328, 1.3231, 0.9854, 1.2069, 0.9098, 0.5492, 0.8351, 0.1605, 0.9827, 0.3928, 1.3427, 1.3427, 1.3427, 1.3427, 1.3427, 1.3427, 1.3427, 1.3427, 1.3427, 1.3427, 1.3427, 1.3427, 1.3427, 1.3427, 1.3427, 1.3427, 1.3427, 1.3427, 1.3427, 1.3427, 1.3427, 1.3427, 1.3427, 1.3427, 1.3427, 1.3427, 1.3427, 1.3427, 1.3427, 1.3427, 1.3421, 1.3359, 1.3379, 1.3427, 1.3427, 1.3426, 1.3427, 1.3419, 1.3398, 1.3396, 1.3338, 1.3399, 1.3427, 1.3427, 1.3236, 1.3427, 1.3357, 1.3336, 1.3261, 1.3165, 1.3427, 1.3191, 1.3427, 1.3392, 1.3193, 1.3138, 1.3263, 1.2967, 1.2995, 1.2837, 1.2658, 1.2155, 1.2696, 1.2878, 1.3077, 1.267, 1.2176, 1.1785, 1.0206, 1.1687, 1.0126, 1.1598, 1.1522, 1.0632, 1.0748, 1.01, 1.0299, 0.7239, 0.3316, 0.7214, 0.7861, 0.9435, 0.7062, 0.0876, 0.4843, 0.7234, -0.1058, 0.1763, 0.353, 0.7761, 0.1718]}, \"token.table\": {\"Topic\": [2, 3, 4, 5, 2, 4, 3, 1, 4, 1, 1, 3, 2, 5, 1, 3, 4, 1, 3, 5, 3, 2, 1, 2, 3, 4, 5, 2, 3, 4, 5, 3, 3, 2, 3, 4, 5, 1, 2, 3, 4, 5, 2, 3, 5, 2, 2, 3, 4, 5, 1, 2, 3, 4, 5, 5, 2, 5, 2, 5, 5, 2, 3, 4, 5, 4, 2, 3, 4, 5, 2, 1, 2, 3, 5, 2, 2, 2, 5, 1, 2, 3, 5, 2, 1, 2, 3, 4, 5, 2, 3, 5, 4, 2, 3, 4, 5, 2, 3, 4, 1, 2, 3, 4, 5, 3, 3, 5, 1, 2, 3, 5, 1, 3, 1, 2, 3, 5, 1, 2, 3, 4, 5, 1, 3, 4, 3, 1, 2, 3, 4, 5, 2, 1, 2, 3, 4, 5, 5, 1, 2, 3, 4, 5, 3, 2, 3, 4, 5, 4, 1, 2, 3, 4, 5, 1, 2, 3, 4, 5, 1, 1, 2, 3, 4, 5, 4, 1, 5, 2, 3, 1, 2, 3, 4, 5, 2, 3, 4, 5, 1, 2, 3, 5, 1, 2, 3, 4, 5, 3, 5, 1, 1, 2, 3, 5, 1, 2, 3, 4, 5, 2, 5, 2, 2, 3, 1, 2, 3, 4, 5, 1, 2, 3, 1, 2, 3, 5, 1, 2, 3, 5, 1, 3, 3, 4, 2, 2, 5, 1, 3, 3, 1, 2, 3, 4, 5, 2, 3, 4, 5, 1, 2, 3, 4, 5, 2, 4, 5, 3, 4, 4, 1, 3, 5, 1, 2, 3, 4, 5, 3, 3, 3, 4, 1, 2, 3, 5, 1, 3, 3, 1, 2, 3, 4, 5, 1, 3, 5, 1, 2, 3, 4, 5, 5, 5, 5, 1, 1, 2, 3, 4, 5, 1, 4, 5, 5, 2, 3, 5, 2, 3, 5, 1, 1, 2, 3, 5, 2, 1, 2, 3, 4, 5, 3, 5, 1, 3, 5, 2, 5, 3, 5, 1, 3, 5, 2, 3, 3, 2, 5, 1, 2, 4, 5, 1, 3, 5, 1, 2, 3, 4, 5, 2, 2, 3, 4, 5, 2, 5, 2, 3, 5, 2, 3, 5, 1, 2, 3, 4, 5, 1, 2, 3, 4, 5, 1, 2, 4, 5, 1, 3, 4, 2, 1, 2, 3, 4, 5, 1, 1, 2, 4, 1, 1, 2, 3, 4, 5, 1, 1, 3, 1, 2, 3, 4, 5, 5, 3, 2, 3, 5, 2, 4, 5, 3, 5, 1, 3, 1, 2, 3, 4, 5, 2, 1, 3, 4, 5, 4, 4, 1, 2, 3, 5, 2, 3, 4, 5, 1, 2, 3, 4, 5, 1, 3, 4, 5, 5, 4, 4, 1, 1, 2, 3, 4, 5, 1, 2, 3, 4, 5, 1, 2, 3, 4, 5, 1, 2, 3, 4, 5, 1, 1, 2, 3, 4, 3, 1, 2, 3, 4, 5, 2, 3, 4, 5, 1, 1, 2, 3, 4, 5, 1, 2, 5, 1, 2, 3, 4, 5, 1, 3, 5, 1, 2, 3, 4, 5, 1, 3, 4, 4, 5, 3, 1, 2, 3, 4, 5, 1, 2, 3, 4, 5, 1, 3, 4, 1, 2, 3, 4, 5, 2, 5, 3, 2, 1, 2, 3, 4, 5, 1, 2, 3, 4, 5, 2, 3, 5, 1, 2, 3, 4, 5, 1, 3, 4, 5, 1, 2, 3, 4, 5, 1, 5, 1, 2, 3, 4, 5, 1, 2, 3, 4, 5, 1, 3, 1, 1, 2, 3, 4, 5, 2, 3, 4, 1, 3, 4, 5, 3, 5, 1, 2, 3, 4, 5, 5, 1, 4, 4, 1, 3, 5, 1, 2, 3, 4, 1, 3, 5, 4, 1, 1, 2, 3, 4, 5, 1, 5, 1, 2, 5, 2, 5, 2, 5, 3, 1, 2, 3, 5, 1, 1, 2, 3, 4, 5, 1, 1, 2, 3, 4, 5, 1, 2, 3, 5, 1, 2, 3, 4, 5, 2, 1, 3, 5, 2, 2, 2, 2, 1, 2, 3, 4, 5, 1, 3, 5, 5, 2, 5, 1, 2, 3, 4, 5, 1, 3, 3, 2, 3, 5, 3, 4, 1, 2, 3, 4, 5, 1, 2, 3, 4, 5, 1, 2, 3, 4, 5, 5, 4, 5, 5, 5, 2, 5, 1, 1, 2, 3, 4, 5, 2, 3, 4, 5, 2, 3, 4, 4, 5, 1, 2, 3, 4, 5, 1, 2, 3, 4, 5, 1, 2, 3, 5, 5, 2, 3, 5, 2, 2, 3, 5, 1, 2, 3, 5, 2, 3, 5, 5, 1, 2, 3, 4, 5, 3, 1, 2, 3, 5, 4, 1, 3, 4, 1, 3, 1, 3, 5, 5, 3, 1, 2, 3, 4, 5, 2, 3, 1, 2, 3, 4, 5, 2, 4, 1, 2, 3, 2, 1, 2, 3, 4, 5, 1, 3, 4, 4, 4, 1, 2, 3, 4, 5, 2, 5, 2, 4, 1, 2, 3, 4, 5, 1, 2, 3, 5, 1, 2, 3, 4, 5, 2, 2, 1, 2, 3, 4, 5, 1, 2, 3, 4, 5, 1, 3, 4, 1, 2, 3, 4, 5, 1, 2, 3, 4, 5, 2, 1, 2, 3, 4, 5, 1, 2, 2, 1, 2, 3, 4, 5, 2, 5, 2, 3, 4, 4, 4, 2, 4, 5, 2, 5, 5, 1, 2, 4, 5, 1, 2, 3, 4, 5, 1, 2, 3, 4, 5, 4, 1, 2, 3, 4, 5, 3, 4, 5, 1, 2, 3, 4, 5, 1, 3, 4, 5, 2, 1, 3, 5, 1, 1, 2, 3, 1, 2, 3, 4, 5, 2, 3, 5, 1, 2, 3, 4, 5, 5, 2, 2, 3, 5, 2, 5, 5, 5, 2, 1, 2, 3, 4, 5, 2, 3, 5, 2, 3, 4, 1, 3, 4, 4, 3, 1, 2, 3, 4, 5, 1, 1, 2, 3, 4, 5, 1, 2, 3, 4, 5, 1, 2, 3, 5, 1, 2, 3, 5, 3, 4, 2, 3, 5, 1, 2, 3, 5, 3, 1, 1, 2, 3, 4, 5, 1, 1, 2, 3, 4, 5, 3, 2, 2, 1, 3, 4, 5, 2, 3, 5, 1, 2, 3, 4, 5, 4, 5, 3, 1, 2, 1, 3, 5, 1, 3, 5, 2, 3, 5, 3, 5, 5, 1, 1, 2, 3, 4, 5, 1, 3, 1, 2, 3, 4, 5, 1, 2, 3, 4, 5, 4, 3, 4, 5, 1, 2, 3, 1, 2, 3, 4, 5, 1, 3, 1, 1, 3, 1, 2, 3, 4, 5, 3, 1, 3, 1, 1, 3, 3, 4, 5, 4, 4, 1, 1, 2, 3, 4, 5, 1, 5, 1, 3, 5, 3, 4, 5, 3, 3, 1, 2, 3, 4, 5, 5, 3, 4, 1, 2, 3, 4, 5, 4, 1, 2, 3, 4, 5, 1, 2, 3, 4, 5, 1, 2, 3, 4, 5, 1, 2, 3, 4, 5, 5], \"Freq\": [0.0016971458358259577, 0.012750352048641169, 0.0017841789556119043, 0.9838223860603398, 0.9994692017131074, 0.9971530143892516, 1.0012762354673093, 0.0023482762308375724, 0.9976561248396856, 0.9999987680879634, 0.9935632740924961, 0.006436662827756518, 0.9969893521339569, 0.0030115875389679432, 0.9599042357494809, 0.022406293847960584, 0.017676937707041568, 0.005584122388876263, 0.9561134354233937, 0.03830707958769116, 1.0010928851220489, 0.9997079322347032, 0.39172074857578876, 0.1767442836942067, 0.0061983174325491545, 0.17845066572548882, 0.24688119702323016, 0.005252971199658215, 0.8957483222350514, 0.002743218293154846, 0.09624610564707108, 0.9986482138519094, 0.9991394328454423, 0.3405006902230749, 0.007243895923456603, 0.6448570644700959, 0.007403618661068486, 0.6196822654686689, 0.003930164836966007, 0.263591313291872, 0.03422283936830858, 0.07859203552202225, 0.0037752535087220737, 0.9252607027947986, 0.07097476596397499, 1.0005969611734284, 0.00569088454346488, 0.9908280347941983, 0.00253838015607786, 0.0009825987700946555, 0.09337184239303337, 0.017659457148247616, 0.7301948718156639, 0.04815754262553732, 0.11062533500913736, 0.9726718759642132, 0.05728605370351324, 0.9427112811418669, 0.24383977886648797, 0.7561621292681252, 1.0001008008829437, 0.0017908275129766814, 0.8902138838301795, 0.10011373084592533, 0.007853749574982073, 1.0001937672450465, 0.0849936714162938, 0.1612730545652268, 0.022302470916062172, 0.7314247425915934, 1.0000213312172561, 0.15846367844470566, 0.000935738278347115, 0.7597475021502922, 0.0808333912756777, 1.0010719030357016, 0.9581688214770286, 0.981751929938274, 0.01826860626057605, 0.0015602698134078875, 0.9873823583709076, 0.011056105451997826, 1.6777094767826747e-05, 1.0000540914910172, 0.40831586047041357, 0.16525264858191516, 0.16648502836138102, 0.034174839269034196, 0.2257719755981466, 1.0000274989731401, 0.9998835398289391, 0.00021689447718632084, 1.0002561251657967, 0.13178499891336698, 0.03822061394160686, 0.111112052900715, 0.718879831622115, 0.01786999429960831, 0.017710570181769143, 0.9644289543172225, 0.14853229840077475, 0.22769514444494507, 0.15666408801795673, 0.15700144399588317, 0.31010567117213855, 0.9998427691316366, 0.8944250619536378, 0.10557051424776426, 0.018594372542036237, 0.007843444417731648, 0.9621742591751841, 0.011427087125833178, 0.00475856101433809, 0.9951823007823822, 0.007108994500638645, 0.002789605436959468, 0.9677231248084555, 0.022406830767835728, 0.019562006008565783, 0.05473942249447177, 0.06304579503853139, 0.02979180958769924, 0.8328741334615659, 0.0011033806107321848, 0.0006129892281845471, 0.9983142570213533, 0.9999745405503809, 0.11495146926605816, 0.13927405013465802, 0.4790970850038134, 0.07906443174172827, 0.18759833349628252, 0.9994692017131074, 0.7476796083009398, 0.018413834738771975, 0.08972017797422811, 0.023524332743434268, 0.12065817037913436, 1.0012798723161018, 0.9750327745386584, 0.0032071455998602927, 0.01307063112395893, 0.005990705931814509, 0.0026625359696953376, 0.9958818753093834, 0.016006587394113626, 0.8955144499034176, 0.04801976218234088, 0.04050065351321989, 0.9987707188253147, 0.002933487117956763, 0.019726638010607797, 0.864996071042729, 0.08821718506898961, 0.024063097228456926, 0.8535330176634589, 0.016932743339290308, 0.08300293589984738, 0.0337932788178587, 0.012744687417418932, 0.9999781716525729, 0.004902528836118697, 0.01781170024378803, 0.008523994860789292, 0.9598363114774903, 0.008918168033542555, 0.999983808511005, 1.0001061060853826, 1.0000471989988227, 0.999957275987141, 0.9993657624158413, 0.43043109921590655, 0.1218638379355268, 0.32577012435170644, 0.011715865943086306, 0.11021930580846025, 0.022396395689773304, 0.00367771637007652, 0.9720078785553264, 0.001919588544381403, 0.011558319708642989, 0.024818280929947305, 0.005875479185226852, 0.9577512668574296, 0.0013649330155306681, 0.010663539183833346, 0.9714910738039532, 0.011559276475275347, 0.004905228024563339, 0.9927371182744796, 0.007216626030164323, 0.9999287466234944, 0.6411246095383263, 0.24904168357482248, 0.03991320359055104, 0.06992687752242124, 0.059888187617366036, 0.15037549609548004, 0.0020001718911268735, 0.7243195566440965, 0.06342065493385911, 0.9416601683012047, 0.05833500310384628, 0.9999956926490366, 0.9999784297800696, 0.9991394328454423, 0.006820936981664165, 0.8009144203870063, 0.09868531625071714, 0.0077076587892805064, 0.08587559659915184, 0.0006696712564197331, 0.9993408492229331, 1.0022116329914346, 0.9304449202204398, 0.0051824176564441255, 0.025996699182734003, 0.03837104338281487, 0.8140551223027979, 0.010512142477844374, 0.09107927890063187, 0.08435669889628201, 0.9358418007306308, 0.06415411857806697, 0.9999933537415141, 0.937621491142132, 1.018054372819343, 0.999868625119646, 0.9726718759642132, 0.008924755747685274, 0.9910445438040738, 1.0037760609063482, 0.2456907223387118, 0.15107945374861087, 0.4002411220355986, 0.06397923754658008, 0.13901511742839387, 0.9308977089109551, 0.002554476574869158, 0.00831366012548326, 0.058195620878382814, 0.1753284052329429, 0.08953603612429646, 0.3425205741518731, 0.34047403618331773, 0.052143042082978784, 0.5621949043452905, 0.4317634754836664, 0.006045849459867624, 0.1148498626695124, 0.8851525767404732, 0.9971530143892516, 0.0040987394683786775, 0.014782339066283757, 0.981110563074283, 0.012611473117952573, 0.005242971970384778, 0.9474900562156165, 0.0036842505737838976, 0.030961875014299294, 0.9460877815439143, 0.9997749822620431, 1.0000515263649872, 1.0000057070023813, 0.9554373382761898, 0.002228948525942756, 0.032594753768981084, 0.009726320840477481, 0.0034705205646869963, 0.9967335061781054, 1.0000313831231726, 0.0010616945775288828, 0.15515641808448408, 0.2619219148984412, 0.014351503017298317, 0.5675036910201754, 0.9999030395545645, 0.9305543519242302, 0.06940821705592697, 0.04954058140469371, 0.47807572565766865, 0.038055552412989184, 0.02269660491217798, 0.41162662934852107, 1.0000399977294872, 0.9999941196710731, 0.9999907048648885, 0.9975927275408061, 0.012821426232319934, 0.008501068175820024, 0.05239416043064436, 0.8295785708165726, 0.09671492449308182, 0.0035384247540075947, 0.005543532114611898, 0.9909358523598268, 1.000200325283955, 0.010861082595201353, 0.04249472753095174, 0.9466353409478775, 0.022806590854756663, 0.050099313317207225, 0.9271004493397347, 1.0000815368343192, 0.9996607836712271, 0.0003832320428105145, 0.9728664885876438, 0.02715179936638934, 1.0004720807033876, 0.1350979633589618, 0.092039564042015, 0.22098858178632852, 0.4791233174910883, 0.07275112642959822, 0.9935826963725478, 0.006318695927612569, 0.9645386722134646, 0.035467589337359856, 0.999948978572775, 0.9939201825004271, 0.006071631504510052, 0.9876648163784281, 0.012308386057932583, 0.0053277150120584595, 0.9947605029657725, 1.0002374756878953, 0.9863502574028237, 0.9998427691316367, 0.9986482138519095, 0.004762472760488487, 0.9952337456304532, 0.0003883664427827364, 0.0059777972075381975, 0.0003198311881740182, 0.993319520185602, 0.9996162422011324, 0.9946458073394233, 0.005344177852329392, 0.007967722573429955, 0.028776131096743804, 0.24493052760597445, 0.001325104076053265, 0.7170095410231441, 0.9581688214770286, 0.042778624190513835, 0.11159305190667837, 0.005319736031947283, 0.8403085939094819, 0.0034398655308273177, 0.9965577098267642, 0.9861066272080794, 0.00393673374387707, 0.009951546611571214, 0.9723161867537243, 0.0012222705050329659, 0.026464008358971336, 0.01588974377473392, 0.03212287159196505, 0.026290046760505587, 0.9145445985539055, 0.011152925544669663, 0.014512828494767744, 0.04463093466220608, 0.005701468337230185, 0.8484821516405284, 0.08667029280748935, 0.00021803560742968413, 0.0034158911830650513, 0.9919893352692528, 0.004360712148593683, 0.8512829106649575, 0.023323537448953706, 0.12539677156544213, 0.9980925223719047, 0.13112476086710095, 0.18650368789196856, 0.2022789834662855, 0.28570769341073865, 0.19438345984509092, 0.9389108023913472, 0.004624832474710881, 0.00027610940147527644, 0.9950982829168963, 0.9910725136353107, 0.026257537718405312, 0.01798279313635299, 0.8276074451717294, 0.08338282799378793, 0.04478705505035819, 0.9998025071489448, 0.9998310085991231, 0.00020685445507378155, 0.08286169066060904, 0.11558742261235393, 0.43060263988342606, 0.1321305720013918, 0.23881542797314778, 1.0000496613705554, 0.9998129879750784, 0.008725983179056436, 3.504410915283709e-05, 0.991222627387997, 0.0037092151703840407, 0.9958426922692941, 0.0004514147494748906, 0.9940923161111306, 0.006008617088650218, 0.9997583033052408, 0.0001648949865256871, 0.09981525108634148, 0.1495908299954834, 0.3996931569658239, 0.08143075835769062, 0.26947116733447907, 0.9999644776568307, 0.0008996511532672665, 0.006787889270149233, 0.9917225608675193, 0.0005926611862755926, 0.9999968315024369, 0.9999966753949044, 0.12648943646799474, 0.0007035507117154737, 0.7750284701929501, 0.09776361060029275, 0.05683120504036519, 0.0012287828116835718, 0.012385572204128729, 0.9295462701565383, 0.0010124934136929546, 0.8406456679325232, 0.015997395936348684, 0.012389237589370154, 0.1299489274047012, 0.008015490433495186, 0.9686219220726838, 0.009267910813728807, 0.014152350296639936, 0.9999853513001788, 1.000182384554487, 0.9999569162438465, 0.9984192335288268, 0.4735109627657611, 0.05899195250238434, 0.11114506413974204, 0.14480179858659406, 0.21155926415793821, 0.04851185799143134, 0.026837347863380923, 0.07157410126929724, 0.18214585613849418, 0.6709219361341009, 0.02617169958952561, 0.12896323247694635, 0.277374231146028, 0.19577134031847543, 0.37171692610656165, 0.030977603035316728, 0.04227900285999197, 0.08739290723110937, 0.7000678483686761, 0.13928459499944582, 1.0000145212771332, 0.9888112641359599, 0.00024301087838190217, 0.010935489527185597, 1.001343340054704, 0.9997524246146826, 0.1793639213751129, 0.3489756715038576, 0.11409318289822265, 0.07251478379948648, 0.28505137827309046, 0.0009026286257466711, 0.036129540398130267, 0.9585916005429648, 0.004391166287416238, 1.000098247940446, 0.02216071263815042, 0.012605912623875419, 0.9266550165104854, 0.0039343294176426465, 0.03468633282493109, 0.9883271604119442, 0.9939297018481694, 0.006040393784881663, 0.04504183339787507, 0.10749600494636637, 0.23296197457503195, 0.40133520722222704, 0.21316923069239274, 0.9978387200640214, 0.00018715909595123725, 0.0019651705074879913, 0.02959540850643418, 0.027036588521375433, 0.8906624732898821, 0.023946692690361097, 0.028726375303961396, 0.9688712592300406, 0.011945478057690423, 0.019169988739287623, 0.9999588033947509, 0.9726718759642132, 1.007789158601126, 0.45908503637747833, 0.05951490345992665, 0.25695631353000803, 0.019564098529466046, 0.20487592272031083, 0.07355022307942437, 0.24179227554935515, 0.2531054103871673, 0.28311936496475393, 0.1484366431869368, 0.001344868195786694, 0.006966584318547223, 0.9916941130670579, 0.04336131039427183, 0.06956950479216788, 0.3440684397499068, 0.27372594046004817, 0.2692720197828776, 0.0030782211227959252, 0.9969362321666863, 1.0001140426413755, 1.0000192006679924, 0.8790058573750019, 0.010017276848429162, 0.045621973235321196, 0.05651816281129992, 0.00883569218821352, 0.7616313499261081, 0.006608514966820894, 0.08813392954207742, 0.09751638906287252, 0.04611682820982112, 0.013542227654827911, 0.020800471973422725, 0.9656874857169371, 0.024639480701084654, 0.2500421764706034, 0.17123689087040248, 0.015710530789861732, 0.5383738375295632, 0.00971159426900859, 0.02648616618820525, 0.9404231549754767, 0.023385847510361067, 0.7330342507596302, 0.025830485114320782, 0.12570042525678685, 0.002995701422628601, 0.11242807921878331, 1.0000129247751437, 1.0131998707960554, 0.01868380316703657, 0.006846273688888874, 0.12989841444612804, 0.8094559250923825, 0.0351117159222349, 0.5714294929770981, 0.08259338111260756, 0.13803933103848526, 0.04337662598517791, 0.16455993236993796, 0.999610143158563, 0.00034291943161528747, 0.9998990040750644, 0.02490225762017944, 0.060704125807989076, 0.012022317235540605, 0.8503099626086443, 0.052081114872510534, 0.009985693263431012, 0.9825695223641947, 0.007489269947573258, 0.0015020885114514226, 0.0012116847325708143, 0.9972866323696479, 1.00003851087345, 0.000804258968096627, 0.999191235489047, 0.15525666226201418, 0.1322570980352247, 0.24963115665669297, 0.039007612150804026, 0.42384284035495884, 1.0010414723465029, 1.0001010314654006, 1.0000692545483165, 0.9999818172669513, 0.04413253586653885, 0.7644366525461052, 0.19143761001645648, 0.1659597183638073, 0.04278143386432414, 0.00827698123330475, 0.7829865292334186, 0.0002413409274431069, 0.9318655890433243, 0.06786506879700166, 1.0045944547951413, 1.0000145212771332, 0.04099264821050765, 0.0941355520656259, 0.13720627971376337, 0.18906183505415503, 0.5386034752175239, 1.0004077276402266, 1.000067105920232, 0.02008880423894244, 0.003001472717220758, 0.9769267120392652, 0.9226217171958849, 0.07737527962797972, 0.9525010343444702, 0.047493203256983495, 0.9993052192557595, 0.8907812758792687, 0.013448064989952104, 0.06419827990375755, 0.03158904093501853, 0.9998292437443245, 0.3610401950279708, 0.13274464420760454, 0.19033067604816437, 0.12973798814234605, 0.18614784105582288, 0.9997372497223479, 0.6388770055735034, 0.016920550493111693, 0.2198118032307142, 1.2946098311485612e-05, 0.12438611257675375, 0.0017490092511274586, 0.005883031117428724, 0.7894789258327831, 0.20288507313078522, 0.5815396688526093, 0.12079943338567985, 0.08184064966605974, 0.11142842127818577, 0.1043840546519259, 0.9999990851912401, 0.944403441625065, 0.043516639235035647, 0.012079972731046452, 0.9999922906076897, 1.000071901368564, 0.9999959939003596, 0.9999811022822236, 0.15681407966629493, 0.02175426796445046, 0.5775535150926426, 0.04158831295937369, 0.20226761563529763, 0.024636397484434035, 0.0038127758011624103, 0.9715584443861423, 1.0000039597521435, 0.0005393361507789958, 0.9994587388169829, 0.020101309716894937, 0.09891436563660183, 0.8494627731682549, 0.004677037409376545, 0.02686808724535462, 0.9903186624071791, 0.00968105562322533, 1.0001499404892809, 0.0038793159730891743, 0.9570272505610994, 0.03910350500873888, 0.018053476680960977, 0.9819329999644628, 0.1306587913973395, 0.08432577929501603, 0.6730017589328671, 0.015348472483422412, 0.0966620762121652, 7.993349898565876e-05, 0.9773518879413363, 0.006429650824658927, 0.007438811249352869, 0.008702759702063597, 0.003796890638742543, 0.8370326609343592, 0.0009511559033917165, 0.15194522232312063, 0.0062791755573501935, 0.9999098465167825, 8.113010619231794e-05, 0.9999285588203186, 0.9999612672738304, 0.9999343499282087, 0.9364585747430304, 0.06355660962111392, 0.9389108023913469, 0.06209898686276616, 0.13078443151363373, 0.18438977079107047, 0.5167464225712661, 0.10597765817434002, 0.32774053006659976, 0.010912220802680277, 0.6540464279450464, 0.007300448085000923, 0.04819361898575309, 0.002179499151178497, 0.9496277959770023, 0.999993055783239, 1.0010414723465029, 0.12996064748183092, 0.015184405547705329, 0.08966428692600262, 0.7300051833780393, 0.035179067019530545, 0.0030129953779296716, 0.004934325763855839, 0.9806208290169077, 0.004977992363535979, 0.006462656752660745, 0.022999200167831673, 2.106153861523047e-05, 0.641344912372383, 0.335657740910928, 1.0012798723161018, 0.0157547543371563, 0.0006899892410433415, 0.9835509135555733, 0.9999930220770795, 0.002333799170628168, 0.952393000674608, 0.04525541000435491, 0.10253693498695837, 0.8498099448623402, 0.010186308875484254, 0.03746585050563999, 0.02535232289804321, 0.0004674264976812181, 0.9741724671792872, 1.00000123329495, 0.002532144956895559, 0.0006414767224135416, 0.97875843067203, 0.011816676465512608, 0.006279719493100986, 0.9999638692288306, 0.005473909467554217, 0.06169936532810642, 0.08422029997270682, 0.8486097289728012, 1.0000035661576367, 0.014983204439159329, 0.9829150462700196, 0.0021885579517873176, 0.9930881636710643, 0.0069318834010366264, 0.9916020698328604, 0.008064590092530015, 0.0003321324105031666, 1.0131998707960554, 0.99339217062111, 0.03443096825616589, 0.18405831893640912, 0.17667434349230624, 0.06755064432139628, 0.5372860614956441, 0.9999751665074434, 1.0001499404892809, 0.037903234338519186, 0.3879277281161281, 0.07421419481020079, 0.4485853565963821, 0.051370846821156606, 0.9999788562107399, 0.9999489313047591, 0.002042730081720815, 0.00029181858310297357, 0.9974359170459636, 1.018054372819343, 0.0062971631690886916, 0.6951785120104518, 0.16033001956353904, 0.13276401090424741, 0.005419805603957234, 0.004849830166782329, 0.005382128599721853, 0.9897793639158814, 0.9999976156776142, 0.9376214911421321, 0.1740892847093329, 0.08432367968412684, 0.3051402656394574, 0.23223241972371636, 0.2042030158034781, 0.9897150942164464, 0.010271847257207244, 0.0016968596526573123, 0.9983190956467187, 0.11822180377550331, 0.05933252819370466, 0.6080370471988795, 0.12926090453868636, 0.08514671602042141, 0.019198555772777626, 0.0002390624760978057, 0.0038617784600414764, 0.9766989408082043, 0.026753996383178477, 0.1383189096094845, 0.26406623722940537, 0.2593558324488546, 0.31150505460543726, 0.9581688214770286, 0.9581688214770285, 0.0033323832028576555, 0.8391347674576207, 0.07367226526881081, 0.048741971213629234, 0.035123006058288435, 0.10208135725947333, 0.004458824508603623, 0.013183543619188597, 0.8758589027525329, 0.004405232867875214, 0.9568848343641652, 0.029041757702116686, 0.014070557798550005, 0.563343470258932, 0.11041570861651538, 0.04207700015503093, 0.23679237624337138, 0.04736957369909433, 0.003574344722933429, 0.006093964773525846, 0.002461024235462361, 0.9846440774454646, 0.0031641740170230354, 0.9581688214770286, 0.11114131244957694, 0.0019377065682367087, 0.8321065634456495, 0.0017531630855474982, 0.053010115402475674, 1.0562746526902655, 1.018054372819343, 0.9997976583453236, 0.005925026432725528, 0.034225530330426614, 0.029848886938277395, 0.00399178517975164, 0.9260046597925206, 0.0028741030708683297, 0.9971447007047887, 0.027180281658278373, 9.44251577497946e-06, 0.9728104664593713, 1.0065642478437595, 0.9999988204691609, 0.008449873644365002, 0.99152225655253, 0.9999662398305559, 0.0027030810533408296, 0.9972779039149225, 0.9999980061922262, 0.008290274166299863, 0.07331218685274489, 0.9183895322394143, 7.88048875123561e-06, 0.843922130167861, 0.003026094922989263, 0.1352982966883884, 0.006291092076740837, 0.011467307076590893, 0.03405042239885081, 0.021310644588786475, 0.0178667615628951, 0.9183515443328082, 0.008389609777359438, 0.9999627115676768, 0.00739897290055352, 0.006966054273393473, 0.5652080646231344, 0.19670248168599197, 0.22371398027152337, 0.9779786489485471, 0.0035465025408913174, 0.018466271850847895, 0.40174776160995684, 0.03936885692009154, 0.2313392174342267, 0.0283098172133543, 0.2992364234900212, 0.8643177282885819, 0.08586664607559104, 0.003632327961717081, 0.04617993656183027, 0.9581688214770286, 0.3410421962756798, 0.6409695682708294, 0.017980414607012482, 0.9985873364416444, 0.9919807573483119, 0.0032943037903437563, 0.004743797458095009, 0.03875457704161293, 0.43877962052828473, 0.03925334894691039, 0.07655151202505472, 0.4066587098271281, 0.00040429532454785657, 0.9808204573531001, 0.01873235003738402, 0.037670790314248755, 0.03899499962749884, 0.15352922306457728, 0.7313983559124289, 0.03841195224330664, 0.9969886728633186, 0.9999951788559248, 0.996079978345394, 0.0004052871337141222, 0.003531787879508779, 0.9840220881952901, 0.015989969314038132, 0.9726718759642132, 0.9999526350328004, 0.999984829043422, 0.0010768147960150778, 0.02031366245399277, 0.2086777340110886, 0.0049241843276106164, 0.7650096116439619, 0.9945796732464691, 2.2966325064574637e-05, 0.00539708639017504, 0.9999798245960262, 0.9999460023039587, 0.9376214911421321, 0.9827305617226937, 0.008130339269170587, 0.00914663167781691, 0.9962228343385153, 1.0000303633375216, 0.038997571424904835, 0.6107727441837779, 0.03254971278812844, 0.2876081979001169, 0.030084094217256583, 0.9975927275408063, 0.21034657232757425, 0.11115041765781536, 0.0795919881567883, 0.4446274452388252, 0.15428164595495575, 0.1839968828548863, 0.05280639078050373, 0.5902216869668762, 0.0521903572902972, 0.12077952608989222, 0.9387887617500877, 0.01850820710183305, 0.03560518987260754, 0.007105514506879864, 0.8917956780917188, 0.019530438570142382, 0.027487283913533722, 0.06117021420117058, 0.01319763371549657, 0.9867622078006784, 0.0725997438780399, 0.10084540694307083, 0.8265492026916057, 2.012070044464315e-05, 0.11737554323671473, 0.0019948237297974783, 0.88060545004603, 0.9986482138519094, 0.9996638543107872, 0.005325824636510971, 0.019579332189716633, 0.008311980646577816, 0.9532610397084521, 0.0135762350560771, 1.0171533692572925, 0.06719053549583939, 0.21124694134967348, 0.5633677807847839, 0.014966733320454237, 0.1432128495778734, 1.0013337833858946, 1.000096833000277, 1.0000499748464085, 0.7232093940261922, 0.11134616775695223, 0.06303774165878358, 0.10241535490437687, 0.11332815591634084, 0.004233768843667073, 0.882448574068574, 0.008353509302564368, 0.007456780320631976, 0.005972389141802143, 0.9679405810364305, 0.010277558865739694, 0.9999280716550181, 0.00011889751149286778, 1.0249284300059072, 0.9389108023913472, 1.0000447815843683, 0.9890888961142081, 0.00735382078895322, 0.003554346714660723, 0.9999726760289892, 1.000074434680698, 0.9726718759642132, 0.9193130127664847, 0.008151178922921677, 0.07251667511478048, 0.006927343395077302, 0.9930591662922937, 1.0000246351407098, 1.0001441155907826, 0.1289714317256632, 0.12473463198832382, 0.1772911239681764, 0.33406747661815556, 0.2349357122644156, 0.9990712151828588, 0.0008613920521766278, 0.0016743337471490927, 0.2877075674686323, 0.06442894751038343, 0.5153365305690372, 0.1308539348154031, 0.012408285411120828, 0.877911879740353, 0.023063817403232868, 0.025354484802558145, 0.06126175398301058, 0.9982911170395642, 0.00013110669841454343, 0.999872124788674, 1.0023265063289757, 0.9822353156919635, 7.9404633443166e-05, 0.017667530941104435, 0.8363285189053616, 0.025092730975599612, 0.03382119303637605, 0.014619854461974004, 0.090140859656935, 1.0328018826304817, 1.0406965596983058, 0.9999814890889733, 0.9997450284670086, 0.00020482381242921708, 0.13268124206188112, 0.09360252556612171, 0.19667415210727632, 0.047850618450842486, 0.5291882846933493, 0.9998427691316367, 0.00480973221072502, 0.9951963300365377, 1.0000853363124536, 0.008971532809061756, 0.9910162523055052, 0.0058020699453792115, 0.9897427108124148, 0.004445741906199656, 1.0005960689054096, 1.0000072655038394, 1.0008170091424249, 0.021253918811102463, 0.0022438894118483026, 0.021417798374889135, 1.26061202912826e-05, 0.9550648855081524, 0.9985241866701626, 0.9726718759642132, 0.9975927275408063, 0.9986482138519094, 1.000200325283955, 0.08469570874817466, 0.9150032124589125, 0.0002973139959108695, 0.9460877815439143, 0.9460877815439143, 0.01254819560536015, 0.11281341330368867, 0.2751376418763527, 0.026307885799217348, 0.5731974032185072, 0.9726718759642132, 1.0406965596983058, 0.9987707188253145, 0.045091715821593735, 0.023381328598161482, 0.7553840078580888, 0.01687532281996044, 0.15926085911337665, 1.0010695619712988, 0.010169388205384917, 0.06333514421075624, 0.006850756011983478, 0.8736521195868335, 0.04599370566638337, 0.02784025617542411, 0.19733918524655242, 0.04684145122767651, 0.003336444467074782, 0.7246430209591487, 0.15123089127095385, 0.4291053317961757, 0.07378646674788714, 0.13673755745793725, 0.20913905132880764, 0.0910758173188403, 0.1764731873327877, 0.14214625266923886, 0.22647235183469186, 0.36383169655966185, 1.0168842339625865], \"Term\": [\"academic\", \"academic\", \"academic\", \"academic\", \"accordion\", \"adductor\", \"adjourn\", \"aggregate\", \"aggregate\", \"airline\", \"airport\", \"airport\", \"album\", \"album\", \"allocate\", \"allocate\", \"allocate\", \"ally\", \"ally\", \"ally\", \"almohad\", \"alto\", \"amp\", \"amp\", \"amp\", \"amp\", \"amp\", \"anti\", \"anti\", \"anti\", \"anti\", \"antisemite\", \"apolitical\", \"appearance\", \"appearance\", \"appearance\", \"appearance\", \"area\", \"area\", \"area\", \"area\", \"area\", \"army\", \"army\", \"army\", \"arranger\", \"arrest\", \"arrest\", \"arrest\", \"arrest\", \"arrive\", \"arrive\", \"arrive\", \"arrive\", \"arrive\", \"arsenate\", \"art\", \"art\", \"artist\", \"artist\", \"astronomy\", \"attack\", \"attack\", \"attack\", \"attack\", \"attacking\", \"attend\", \"attend\", \"attend\", \"attend\", \"audition\", \"authority\", \"authority\", \"authority\", \"authority\", \"backstage\", \"baile\", \"ballet\", \"ballet\", \"band\", \"band\", \"band\", \"band\", \"baritone\", \"base\", \"base\", \"base\", \"base\", \"base\", \"bass\", \"battalion\", \"battalion\", \"bbl\", \"bear\", \"bear\", \"bear\", \"bear\", \"beat\", \"beat\", \"beat\", \"begin\", \"begin\", \"begin\", \"begin\", \"begin\", \"besiege\", \"bishop\", \"bishop\", \"bomb\", \"bomb\", \"bomb\", \"bomb\", \"bomber\", \"bomber\", \"bombing\", \"bombing\", \"bombing\", \"bombing\", \"book\", \"book\", \"book\", \"book\", \"book\", \"brace\", \"brace\", \"brace\", \"brigade\", \"british\", \"british\", \"british\", \"british\", \"british\", \"buffa\", \"build\", \"build\", \"build\", \"build\", \"build\", \"burin\", \"bus\", \"bus\", \"bus\", \"bus\", \"bus\", \"byproduct\", \"camp\", \"camp\", \"camp\", \"camp\", \"capped\", \"capture\", \"capture\", \"capture\", \"capture\", \"capture\", \"car\", \"car\", \"car\", \"car\", \"car\", \"carriageway\", \"champion\", \"champion\", \"champion\", \"champion\", \"champion\", \"championship\", \"chassis\", \"chemistry\", \"chorus\", \"citadel\", \"city\", \"city\", \"city\", \"city\", \"city\", \"club\", \"club\", \"club\", \"club\", \"collection\", \"collection\", \"collection\", \"collection\", \"command\", \"command\", \"command\", \"command\", \"command\", \"commander\", \"commander\", \"commuter\", \"company\", \"company\", \"company\", \"company\", \"competition\", \"competition\", \"competition\", \"competition\", \"competition\", \"composer\", \"composer\", \"concert\", \"concerto\", \"concordat\", \"conduct\", \"conduct\", \"conduct\", \"conduct\", \"conduct\", \"conductor\", \"conductor\", \"confederacy\", \"connect\", \"connect\", \"connect\", \"connect\", \"connection\", \"connection\", \"connection\", \"connection\", \"constituency\", \"constituency\", \"consulate\", \"contester\", \"contrabassoon\", \"contralto\", \"contrapposto\", \"convoy\", \"convoy\", \"convulse\", \"country\", \"country\", \"country\", \"country\", \"country\", \"dance\", \"dance\", \"dance\", \"dance\", \"day\", \"day\", \"day\", \"day\", \"day\", \"debut\", \"debut\", \"debut\", \"defeat\", \"defeat\", \"defending\", \"degree\", \"degree\", \"degree\", \"demonstration\", \"demonstration\", \"demonstration\", \"demonstration\", \"demonstration\", \"demystification\", \"deportation\", \"depose\", \"derby\", \"destination\", \"destination\", \"destination\", \"destination\", \"destroyer\", \"destroyer\", \"deter\", \"die\", \"die\", \"die\", \"die\", \"die\", \"diesel\", \"diplomatic\", \"diplomatic\", \"director\", \"director\", \"director\", \"director\", \"director\", \"dissertation\", \"doctoral\", \"doctorate\", \"dough\", \"draw\", \"draw\", \"draw\", \"draw\", \"draw\", \"drawing\", \"drawing\", \"drawing\", \"drypoint\", \"educate\", \"educate\", \"educate\", \"education\", \"education\", \"education\", \"electrification\", \"electrify\", \"electrify\", \"embassy\", \"embassy\", \"encore\", \"end\", \"end\", \"end\", \"end\", \"end\", \"enemy\", \"enemy\", \"engine\", \"engine\", \"engraving\", \"ensemble\", \"ensemble\", \"envoy\", \"envoy\", \"escort\", \"escort\", \"etching\", \"euphonium\", \"evict\", \"eviction\", \"exhibit\", \"exhibit\", \"exhibition\", \"exhibition\", \"exhibition\", \"exhibition\", \"expressway\", \"faction\", \"faction\", \"family\", \"family\", \"family\", \"family\", \"family\", \"fandango\", \"father\", \"father\", \"father\", \"father\", \"fellowship\", \"fellowship\", \"festival\", \"festival\", \"festival\", \"film\", \"film\", \"film\", \"final\", \"final\", \"final\", \"final\", \"final\", \"finish\", \"finish\", \"finish\", \"finish\", \"finish\", \"fixture\", \"fixture\", \"fixture\", \"fixture\", \"flight\", \"flight\", \"flight\", \"flugelhorn\", \"follow\", \"follow\", \"follow\", \"follow\", \"follow\", \"fon\", \"football\", \"football\", \"football\", \"footway\", \"force\", \"force\", \"force\", \"force\", \"force\", \"freeway\", \"freight\", \"freight\", \"french\", \"french\", \"french\", \"french\", \"french\", \"fresco\", \"frigate\", \"gallery\", \"gallery\", \"gallery\", \"game\", \"game\", \"game\", \"garrison\", \"garrison\", \"gauge\", \"gauge\", \"german\", \"german\", \"german\", \"german\", \"german\", \"gig\", \"goal\", \"goal\", \"goal\", \"goal\", \"goalkeeper\", \"goalless\", \"government\", \"government\", \"government\", \"government\", \"graduate\", \"graduate\", \"graduate\", \"graduate\", \"guest\", \"guest\", \"guest\", \"guest\", \"guest\", \"gun\", \"gun\", \"gun\", \"gun\", \"habilitation\", \"handball\", \"header\", \"heliport\", \"high\", \"high\", \"high\", \"high\", \"high\", \"history\", \"history\", \"history\", \"history\", \"history\", \"hold\", \"hold\", \"hold\", \"hold\", \"hold\", \"home\", \"home\", \"home\", \"home\", \"home\", \"hourly\", \"hub\", \"hub\", \"hub\", \"hurdler\", \"implicate\", \"include\", \"include\", \"include\", \"include\", \"include\", \"injury\", \"injury\", \"injury\", \"injury\", \"intercity\", \"invasion\", \"invasion\", \"invasion\", \"invasion\", \"invasion\", \"irrigate\", \"jazz\", \"jazz\", \"join\", \"join\", \"join\", \"join\", \"join\", \"junction\", \"junction\", \"junction\", \"kill\", \"kill\", \"kill\", \"kill\", \"kill\", \"km\", \"km\", \"km\", \"knockout\", \"kufic\", \"lambaste\", \"large\", \"large\", \"large\", \"large\", \"large\", \"lead\", \"lead\", \"lead\", \"lead\", \"lead\", \"league\", \"league\", \"league\", \"leave\", \"leave\", \"leave\", \"leave\", \"leave\", \"lecturer\", \"lecturer\", \"legate\", \"libretto\", \"line\", \"line\", \"line\", \"line\", \"line\", \"link\", \"link\", \"link\", \"link\", \"link\", \"literature\", \"literature\", \"literature\", \"live\", \"live\", \"live\", \"live\", \"live\", \"loan\", \"loan\", \"loan\", \"loan\", \"locate\", \"locate\", \"locate\", \"locate\", \"locate\", \"locomotive\", \"longue\", \"lose\", \"lose\", \"lose\", \"lose\", \"lose\", \"main\", \"main\", \"main\", \"main\", \"main\", \"mainline\", \"mainline\", \"mall\", \"manager\", \"manager\", \"manager\", \"manager\", \"manager\", \"march\", \"march\", \"march\", \"match\", \"match\", \"match\", \"mathematic\", \"medicine\", \"medicine\", \"member\", \"member\", \"member\", \"member\", \"member\", \"metaphysic\", \"metro\", \"midfield\", \"midfielder\", \"military\", \"military\", \"military\", \"minute\", \"minute\", \"minute\", \"minute\", \"mission\", \"mission\", \"mission\", \"motocross\", \"motorway\", \"move\", \"move\", \"move\", \"move\", \"move\", \"multiplex\", \"mural\", \"museum\", \"museum\", \"museum\", \"music\", \"music\", \"musical\", \"musical\", \"mutiny\", \"network\", \"network\", \"network\", \"network\", \"nonstop\", \"number\", \"number\", \"number\", \"number\", \"number\", \"oceanic\", \"office\", \"office\", \"office\", \"office\", \"office\", \"officer\", \"officer\", \"officer\", \"officer\", \"open\", \"open\", \"open\", \"open\", \"open\", \"opera\", \"operate\", \"operate\", \"operate\", \"operatic\", \"oratorio\", \"orchestra\", \"orchestral\", \"order\", \"order\", \"order\", \"order\", \"order\", \"paint\", \"paint\", \"paint\", \"painter\", \"painting\", \"painting\", \"party\", \"party\", \"party\", \"party\", \"party\", \"passenger\", \"passenger\", \"patrol\", \"peace\", \"peace\", \"peace\", \"penalty\", \"penalty\", \"people\", \"people\", \"people\", \"people\", \"people\", \"perform\", \"perform\", \"perform\", \"perform\", \"perform\", \"performance\", \"performance\", \"performance\", \"performance\", \"performance\", \"philology\", \"philosophy\", \"philosophy\", \"physic\", \"physics\", \"piano\", \"piano\", \"piedra\", \"place\", \"place\", \"place\", \"place\", \"place\", \"play\", \"play\", \"play\", \"play\", \"player\", \"player\", \"player\", \"playoff\", \"poetical\", \"point\", \"point\", \"point\", \"point\", \"point\", \"police\", \"police\", \"police\", \"police\", \"police\", \"political\", \"political\", \"political\", \"political\", \"polychromy\", \"portrait\", \"portrait\", \"portrait\", \"premiere\", \"prisoner\", \"prisoner\", \"prisoner\", \"production\", \"production\", \"production\", \"production\", \"professor\", \"professor\", \"professor\", \"professorship\", \"protest\", \"protest\", \"protest\", \"protest\", \"protest\", \"protester\", \"publish\", \"publish\", \"publish\", \"publish\", \"quarterfinal\", \"raid\", \"raid\", \"raid\", \"rail\", \"rail\", \"railway\", \"railway\", \"railway\", \"rationalistic\", \"reassume\", \"receive\", \"receive\", \"receive\", \"receive\", \"receive\", \"recital\", \"reconquer\", \"record\", \"record\", \"record\", \"record\", \"record\", \"recording\", \"refereeing\", \"referendum\", \"referendum\", \"referendum\", \"rehearsing\", \"release\", \"release\", \"release\", \"release\", \"release\", \"relegate\", \"relegate\", \"relegate\", \"relegation\", \"reliever\", \"remain\", \"remain\", \"remain\", \"remain\", \"remain\", \"repertoire\", \"repertoire\", \"replay\", \"replay\", \"report\", \"report\", \"report\", \"report\", \"report\", \"research\", \"research\", \"research\", \"research\", \"return\", \"return\", \"return\", \"return\", \"return\", \"ritornelli\", \"ritornello\", \"role\", \"role\", \"role\", \"role\", \"role\", \"round\", \"round\", \"round\", \"round\", \"round\", \"route\", \"route\", \"route\", \"run\", \"run\", \"run\", \"run\", \"run\", \"runner\", \"runner\", \"runner\", \"runner\", \"runner\", \"saeta\", \"sail\", \"sail\", \"sail\", \"sail\", \"sail\", \"salinity\", \"saxhorn\", \"saxophone\", \"school\", \"school\", \"school\", \"school\", \"school\", \"science\", \"science\", \"score\", \"score\", \"score\", \"scorecard\", \"scorer\", \"scoring\", \"scoring\", \"sculpt\", \"sculptor\", \"sculptor\", \"sculpture\", \"season\", \"season\", \"season\", \"season\", \"seat\", \"seat\", \"seat\", \"seat\", \"seat\", \"semi\", \"semi\", \"semi\", \"semi\", \"semi\", \"semifinal\", \"send\", \"send\", \"send\", \"send\", \"send\", \"sentence\", \"sentence\", \"sentence\", \"serve\", \"serve\", \"serve\", \"serve\", \"serve\", \"service\", \"service\", \"service\", \"service\", \"sevillanas\", \"ship\", \"ship\", \"ship\", \"shopper\", \"shopping\", \"shopping\", \"shopping\", \"show\", \"show\", \"show\", \"show\", \"show\", \"siege\", \"siege\", \"siege\", \"sign\", \"sign\", \"sign\", \"sign\", \"sign\", \"silverpoint\", \"sing\", \"singe\", \"singe\", \"singe\", \"singer\", \"singer\", \"societe\", \"sociology\", \"soloist\", \"son\", \"son\", \"son\", \"son\", \"son\", \"song\", \"song\", \"song\", \"soprano\", \"sovereignty\", \"spanking\", \"speed\", \"speed\", \"speed\", \"sprinting\", \"squadron\", \"stage\", \"stage\", \"stage\", \"stage\", \"stage\", \"stalactite\", \"start\", \"start\", \"start\", \"start\", \"start\", \"state\", \"state\", \"state\", \"state\", \"state\", \"station\", \"station\", \"station\", \"station\", \"store\", \"store\", \"store\", \"store\", \"striker\", \"striker\", \"student\", \"student\", \"student\", \"study\", \"study\", \"study\", \"study\", \"subjugate\", \"subsidence\", \"substitute\", \"substitute\", \"substitute\", \"substitute\", \"substitute\", \"superhighway\", \"support\", \"support\", \"support\", \"support\", \"support\", \"suzerainty\", \"symphonic\", \"symphony\", \"system\", \"system\", \"system\", \"system\", \"teach\", \"teach\", \"teach\", \"team\", \"team\", \"team\", \"team\", \"team\", \"teammate\", \"teammate\", \"technocrat\", \"tegula\", \"tenor\", \"terminal\", \"terminal\", \"terminal\", \"terminus\", \"terrorist\", \"texturing\", \"theatre\", \"theatre\", \"theatre\", \"theology\", \"theology\", \"thesis\", \"throughput\", \"time\", \"time\", \"time\", \"time\", \"time\", \"timetable\", \"timetable\", \"title\", \"title\", \"title\", \"title\", \"title\", \"tour\", \"tour\", \"tour\", \"tour\", \"tour\", \"tourn\", \"tournament\", \"tournament\", \"toxicology\", \"traffic\", \"traffic\", \"traffic\", \"train\", \"train\", \"train\", \"train\", \"train\", \"trainline\", \"traitorous\", \"tram\", \"tramway\", \"tramway\", \"travel\", \"travel\", \"travel\", \"travel\", \"travel\", \"treason\", \"treaty\", \"treaty\", \"trolleybus\", \"troop\", \"troop\", \"trophy\", \"trophy\", \"trophy\", \"trophyless\", \"unbeaten\", \"underpass\", \"university\", \"university\", \"university\", \"university\", \"university\", \"unpaved\", \"untalented\", \"upstream\", \"usurper\", \"vegetal\", \"victory\", \"victory\", \"victory\", \"villae\", \"vindicative\", \"visit\", \"visit\", \"visit\", \"visit\", \"visit\", \"vitalism\", \"vituperative\", \"walkover\", \"war\", \"war\", \"war\", \"war\", \"war\", \"welterweight\", \"win\", \"win\", \"win\", \"win\", \"win\", \"work\", \"work\", \"work\", \"work\", \"work\", \"world\", \"world\", \"world\", \"world\", \"world\", \"year\", \"year\", \"year\", \"year\", \"year\", \"zodiacal\"]}, \"R\": 30, \"lambda.step\": 0.01, \"plot.opts\": {\"xlab\": \"PC1\", \"ylab\": \"PC2\"}, \"topic.order\": [1, 2, 3, 4, 5]};\n",
       "\n",
       "function LDAvis_load_lib(url, callback){\n",
       "  var s = document.createElement('script');\n",
       "  s.src = url;\n",
       "  s.async = true;\n",
       "  s.onreadystatechange = s.onload = callback;\n",
       "  s.onerror = function(){console.warn(\"failed to load library \" + url);};\n",
       "  document.getElementsByTagName(\"head\")[0].appendChild(s);\n",
       "}\n",
       "\n",
       "if(typeof(LDAvis) !== \"undefined\"){\n",
       "   // already loaded: just create the visualization\n",
       "   !function(LDAvis){\n",
       "       new LDAvis(\"#\" + \"ldavis_el755214580472809604725556951\", ldavis_el755214580472809604725556951_data);\n",
       "   }(LDAvis);\n",
       "}else if(typeof define === \"function\" && define.amd){\n",
       "   // require.js is available: use it to load d3/LDAvis\n",
       "   require.config({paths: {d3: \"https://d3js.org/d3.v5\"}});\n",
       "   require([\"d3\"], function(d3){\n",
       "      window.d3 = d3;\n",
       "      LDAvis_load_lib(\"https://cdn.jsdelivr.net/gh/bmabey/pyLDAvis@3.3.1/pyLDAvis/js/ldavis.v3.0.0.js\", function(){\n",
       "        new LDAvis(\"#\" + \"ldavis_el755214580472809604725556951\", ldavis_el755214580472809604725556951_data);\n",
       "      });\n",
       "    });\n",
       "}else{\n",
       "    // require.js not available: dynamically load d3 & LDAvis\n",
       "    LDAvis_load_lib(\"https://d3js.org/d3.v5.js\", function(){\n",
       "         LDAvis_load_lib(\"https://cdn.jsdelivr.net/gh/bmabey/pyLDAvis@3.3.1/pyLDAvis/js/ldavis.v3.0.0.js\", function(){\n",
       "                 new LDAvis(\"#\" + \"ldavis_el755214580472809604725556951\", ldavis_el755214580472809604725556951_data);\n",
       "            })\n",
       "         });\n",
       "}\n",
       "</script>"
      ],
      "text/plain": [
       "PreparedData(topic_coordinates=              x         y  topics  cluster       Freq\n",
       "topic                                                \n",
       "0      0.131264 -0.180389       1        1  17.139773\n",
       "1     -0.046704  0.177264       2        1  14.983713\n",
       "2      0.079474 -0.043258       3        1  22.471792\n",
       "3     -0.265340 -0.083723       4        1  19.289455\n",
       "4      0.101306  0.130105       5        1  26.115266, topic_info=       Term           Freq          Total Category  logprob  loglift\n",
       "119     win  473086.000000  473086.000000  Default  30.0000  30.0000\n",
       "854  season  380687.000000  380687.000000  Default  29.0000  29.0000\n",
       "835    club  278705.000000  278705.000000  Default  28.0000  28.0000\n",
       "487    play  377100.000000  377100.000000  Default  27.0000  27.0000\n",
       "822    goal  234535.000000  234535.000000  Default  26.0000  26.0000\n",
       "..      ...            ...            ...      ...      ...      ...\n",
       "70     time   95487.494082  406438.846949   Topic5  -5.0886  -0.1058\n",
       "415  return   79093.476332  253905.992313   Topic5  -5.2769   0.1763\n",
       "57     hold   69822.107206  187836.482808   Topic5  -5.4016   0.3530\n",
       "675     die   60936.274056  107375.513083   Topic5  -5.5377   0.7761\n",
       "581   begin   61588.086877  198603.268903   Topic5  -5.5271   0.1718\n",
       "\n",
       "[491 rows x 6 columns], token_table=      Topic      Freq       Term\n",
       "term                            \n",
       "510       2  0.001697   academic\n",
       "510       3  0.012750   academic\n",
       "510       4  0.001784   academic\n",
       "510       5  0.983822   academic\n",
       "1893      2  0.999469  accordion\n",
       "...     ...       ...        ...\n",
       "74        2  0.176473       year\n",
       "74        3  0.142146       year\n",
       "74        4  0.226472       year\n",
       "74        5  0.363832       year\n",
       "939       5  1.016884   zodiacal\n",
       "\n",
       "[1126 rows x 3 columns], R=30, lambda_step=0.01, plot_opts={'xlab': 'PC1', 'ylab': 'PC2'}, topic_order=[1, 2, 3, 4, 5])"
      ]
     },
     "execution_count": 19,
     "metadata": {},
     "output_type": "execute_result"
    }
   ],
   "source": [
    "pyLDAvis.enable_notebook()\n",
    "\n",
    "if 'visualisation' not in model_dict.keys():\n",
    "    print('Creating visualisation...')\n",
    "    vis = visualise_topics(model_dict['lda_model'], corpus, dictionary)\n",
    "else:\n",
    "    vis = model_dict['visualisation']\n",
    "\n",
    "vis"
   ]
  },
  {
   "cell_type": "code",
   "execution_count": 33,
   "id": "c407ccc3",
   "metadata": {},
   "outputs": [],
   "source": [
    "# pyLDAvis.save_html(vis, os.path.join('', f\"lda_model_2million_visualisation.html\")) "
   ]
  },
  {
   "cell_type": "markdown",
   "id": "e6193f45",
   "metadata": {},
   "source": [
    "## Save Single LDA Model"
   ]
  },
  {
   "cell_type": "code",
   "execution_count": 20,
   "id": "c6b5b0f9",
   "metadata": {},
   "outputs": [],
   "source": [
    "def save_lda_model(MODEL,  OUTPUT_DIR, NAME, COHERENCE_SCORE=None, DICTIONARY=None, CORPUS=None, TEXTS=None, VIS=None, SAVE_VIS=True, SAVE_DICT=True, SAVE_TEXTS=True, SAVE_COHERENCE_SCORE=True):\n",
    "    \"\"\"\n",
    "    --> function that saves an LDA model.\n",
    "\n",
    "        Parameters:\n",
    "        -----------\n",
    "            MODEL: LdaMallet -> LDA model to save\n",
    "            NAME: str -> Name of the model\n",
    "            OUTPUT_DIR: Str -> Output directory path where the model should be saved to\n",
    "            DICTIONARY: gensim.corpora.dictionary.Dictionary -> Dictionary\n",
    "            Corpus: corpus -> corpus\n",
    "            TEXTS: list -> lemmatised documents\n",
    "            VIS: pyLDAvis -> visualisation of the topics\n",
    "            SAVE_VIS: Bool (default = True) ->  save visualisation\n",
    "            SAVE_DICT: Bool (default = True) -> save dictionary\n",
    "            SAVE_TEXTS: Bool (default = True) -> save lemmatised documents\n",
    "\n",
    "    \"\"\"\n",
    "    directory = os.path.join(OUTPUT_DIR, NAME)\n",
    "    os.makedirs(directory, exist_ok=False)\n",
    "    \n",
    "    # Type checks\n",
    "    valid_model = isinstance(MODEL, gensim.models.wrappers.ldamallet.LdaMallet)\n",
    "    valid_corpus = isinstance(CORPUS, list)\n",
    "    valid_dictionary = isinstance(DICTIONARY, gensim.corpora.dictionary.Dictionary)\n",
    "    valid_texts = isinstance(TEXTS,  (pd.Series, list))\n",
    "    \n",
    "    \n",
    "    if not valid_model:\n",
    "        raise Exception(\"The model you provided is not a valid LdaMallet model.\")\n",
    "    \n",
    "    if SAVE_VIS and not VIS and not (valid_corpus and valid_dictionary):\n",
    "        raise Exception(\"Creating and saving the visualisation requires CORPUS and DICTIONARY as parameters.\")\n",
    "    \n",
    "    if SAVE_DICT and not valid_dictionary:\n",
    "                raise Exception(\"Dictionary parameter is not of type gensim.corpora.dictionary.Dictionary.\")\n",
    "\n",
    "    if SAVE_TEXTS and not valid_texts:\n",
    "            raise Exception(\"TEXTS parameter is not a valid list type.\")\n",
    "    \n",
    "    # Actual Saving\n",
    "    print('Saving lda model...')\n",
    "    \n",
    "    if SAVE_VIS:\n",
    "        if not VIS:\n",
    "            lda_conv = gensim.models.wrappers.ldamallet.malletmodel2ldamodel(MODEL) # my_models[0]['lda_model__2']['model']\n",
    "            VIS = gensimvis.prepare(lda_conv, CORPUS, DICTIONARY)\n",
    "            \n",
    "        pyLDAvis.save_html(VIS, os.path.join(directory, f\"{NAME}_visualisation.html\"))        \n",
    "    \n",
    "    if SAVE_DICT:\n",
    "        DICTIONARY.save(os.path.join(directory, f\"{NAME}_dictionary.dict\"))\n",
    "    \n",
    "    if SAVE_TEXTS:\n",
    "        if isinstance(TEXTS, list):\n",
    "            with open(os.path.join(directory, f\"{NAME}_texts.pickle\"), 'wb') as fp:\n",
    "                pickle.dump(TEXTS, fp)\n",
    "        else:\n",
    "            TEXTS.to_pickle(os.path.join(directory, f\"{NAME}_texts.pickle\"))\n",
    "\n",
    "    MODEL.save(os.path.join(directory, f\"{NAME}_model.model\"))\n",
    "\n",
    "    if SAVE_COHERENCE_SCORE:\n",
    "        if not isinstance(COHERENCE_SCORE, float):\n",
    "            if not (valid_dict and valid_texts):\n",
    "                raise Exception(\"Creating and saving the coherence score requires valid DICTIONARY and TEXTS parameters.\")\n",
    "                \n",
    "            print(\"Calculating coherence score...\")\n",
    "            COHERENCE_SCORE = calculate_coherence_score(MODEL=MODEL, LEMMATIZED_TEXT=TEXTS, DICTIONARY=DICTIONARY, COHERENCE='c_v')\n",
    "\n",
    "        with open(os.path.join(directory, f\"{COHERENCE_SCORE}.txt\"), 'w') as fp:\n",
    "            pass\n",
    "\n",
    "    print(f'Model has been saved to the following location: {directory}.')\n",
    "\n",
    "    return MODEL"
   ]
  },
  {
   "cell_type": "code",
   "execution_count": 30,
   "id": "8e8fd483",
   "metadata": {},
   "outputs": [],
   "source": [
    "saving_model_path = \"lda_model_2millionDocs_5topics\""
   ]
  },
  {
   "cell_type": "code",
   "execution_count": 29,
   "id": "57646996",
   "metadata": {},
   "outputs": [
    {
     "ename": "FileExistsError",
     "evalue": "[WinError 183] Cannot create a file when that file already exists: 'lda_model_2millionDocs_5topics'",
     "output_type": "error",
     "traceback": [
      "\u001b[1;31m---------------------------------------------------------------------------\u001b[0m",
      "\u001b[1;31mFileExistsError\u001b[0m                           Traceback (most recent call last)",
      "Input \u001b[1;32mIn [29]\u001b[0m, in \u001b[0;36m<cell line: 1>\u001b[1;34m()\u001b[0m\n\u001b[1;32m----> 1\u001b[0m \u001b[43msave_lda_model\u001b[49m\u001b[43m(\u001b[49m\u001b[43mmodel_dict\u001b[49m\u001b[43m[\u001b[49m\u001b[38;5;124;43m'\u001b[39;49m\u001b[38;5;124;43mlda_model\u001b[39;49m\u001b[38;5;124;43m'\u001b[39;49m\u001b[43m]\u001b[49m\u001b[43m,\u001b[49m\u001b[43m \u001b[49m\u001b[43mOUTPUT_DIR\u001b[49m\u001b[38;5;241;43m=\u001b[39;49m\u001b[38;5;124;43m'\u001b[39;49m\u001b[38;5;124;43m'\u001b[39;49m\u001b[43m,\u001b[49m\u001b[43m \u001b[49m\u001b[43mNAME\u001b[49m\u001b[38;5;241;43m=\u001b[39;49m\u001b[38;5;124;43m'\u001b[39;49m\u001b[38;5;124;43mlda_model_2millionDocs_5topics\u001b[39;49m\u001b[38;5;124;43m'\u001b[39;49m\u001b[43m,\u001b[49m\u001b[43m \u001b[49m\u001b[43mCOHERENCE_SCORE\u001b[49m\u001b[38;5;241;43m=\u001b[39;49m\u001b[43mmodel_dict\u001b[49m\u001b[43m[\u001b[49m\u001b[38;5;124;43m'\u001b[39;49m\u001b[38;5;124;43mcoherence_score\u001b[39;49m\u001b[38;5;124;43m'\u001b[39;49m\u001b[43m]\u001b[49m\u001b[43m,\u001b[49m\u001b[43m \u001b[49m\u001b[43mDICTIONARY\u001b[49m\u001b[38;5;241;43m=\u001b[39;49m\u001b[43mmodel_dict\u001b[49m\u001b[43m[\u001b[49m\u001b[38;5;124;43m'\u001b[39;49m\u001b[38;5;124;43mdictionary\u001b[39;49m\u001b[38;5;124;43m'\u001b[39;49m\u001b[43m]\u001b[49m\u001b[43m,\u001b[49m\u001b[43m \u001b[49m\u001b[43mTEXTS\u001b[49m\u001b[38;5;241;43m=\u001b[39;49m\u001b[43mparagraphs\u001b[49m\u001b[43m,\u001b[49m\u001b[43m \u001b[49m\u001b[43mVIS\u001b[49m\u001b[38;5;241;43m=\u001b[39;49m\u001b[43mvis\u001b[49m\u001b[43m,\u001b[49m\u001b[43m \u001b[49m\u001b[43mSAVE_VIS\u001b[49m\u001b[38;5;241;43m=\u001b[39;49m\u001b[38;5;28;43;01mTrue\u001b[39;49;00m\u001b[43m,\u001b[49m\u001b[43m \u001b[49m\u001b[43mCORPUS\u001b[49m\u001b[38;5;241;43m=\u001b[39;49m\u001b[43mmodel_dict\u001b[49m\u001b[43m[\u001b[49m\u001b[38;5;124;43m'\u001b[39;49m\u001b[38;5;124;43mcorpus\u001b[39;49m\u001b[38;5;124;43m'\u001b[39;49m\u001b[43m]\u001b[49m\u001b[43m)\u001b[49m\n",
      "Input \u001b[1;32mIn [20]\u001b[0m, in \u001b[0;36msave_lda_model\u001b[1;34m(MODEL, OUTPUT_DIR, NAME, COHERENCE_SCORE, DICTIONARY, CORPUS, TEXTS, VIS, SAVE_VIS, SAVE_DICT, SAVE_TEXTS, SAVE_COHERENCE_SCORE)\u001b[0m\n\u001b[0;32m      2\u001b[0m \u001b[38;5;124;03m\"\"\"\u001b[39;00m\n\u001b[0;32m      3\u001b[0m \u001b[38;5;124;03m--> function that saves an LDA model.\u001b[39;00m\n\u001b[0;32m      4\u001b[0m \n\u001b[1;32m   (...)\u001b[0m\n\u001b[0;32m     17\u001b[0m \n\u001b[0;32m     18\u001b[0m \u001b[38;5;124;03m\"\"\"\u001b[39;00m\n\u001b[0;32m     19\u001b[0m directory \u001b[38;5;241m=\u001b[39m os\u001b[38;5;241m.\u001b[39mpath\u001b[38;5;241m.\u001b[39mjoin(OUTPUT_DIR, NAME)\n\u001b[1;32m---> 20\u001b[0m \u001b[43mos\u001b[49m\u001b[38;5;241;43m.\u001b[39;49m\u001b[43mmakedirs\u001b[49m\u001b[43m(\u001b[49m\u001b[43mdirectory\u001b[49m\u001b[43m,\u001b[49m\u001b[43m \u001b[49m\u001b[43mexist_ok\u001b[49m\u001b[38;5;241;43m=\u001b[39;49m\u001b[38;5;28;43;01mFalse\u001b[39;49;00m\u001b[43m)\u001b[49m\n\u001b[0;32m     22\u001b[0m \u001b[38;5;66;03m# Type checks\u001b[39;00m\n\u001b[0;32m     23\u001b[0m valid_model \u001b[38;5;241m=\u001b[39m \u001b[38;5;28misinstance\u001b[39m(MODEL, gensim\u001b[38;5;241m.\u001b[39mmodels\u001b[38;5;241m.\u001b[39mwrappers\u001b[38;5;241m.\u001b[39mldamallet\u001b[38;5;241m.\u001b[39mLdaMallet)\n",
      "File \u001b[1;32m~\\AppData\\Local\\Programs\\Python\\Python39\\lib\\os.py:225\u001b[0m, in \u001b[0;36mmakedirs\u001b[1;34m(name, mode, exist_ok)\u001b[0m\n\u001b[0;32m    223\u001b[0m         \u001b[38;5;28;01mreturn\u001b[39;00m\n\u001b[0;32m    224\u001b[0m \u001b[38;5;28;01mtry\u001b[39;00m:\n\u001b[1;32m--> 225\u001b[0m     \u001b[43mmkdir\u001b[49m\u001b[43m(\u001b[49m\u001b[43mname\u001b[49m\u001b[43m,\u001b[49m\u001b[43m \u001b[49m\u001b[43mmode\u001b[49m\u001b[43m)\u001b[49m\n\u001b[0;32m    226\u001b[0m \u001b[38;5;28;01mexcept\u001b[39;00m \u001b[38;5;167;01mOSError\u001b[39;00m:\n\u001b[0;32m    227\u001b[0m     \u001b[38;5;66;03m# Cannot rely on checking for EEXIST, since the operating system\u001b[39;00m\n\u001b[0;32m    228\u001b[0m     \u001b[38;5;66;03m# could give priority to other errors like EACCES or EROFS\u001b[39;00m\n\u001b[0;32m    229\u001b[0m     \u001b[38;5;28;01mif\u001b[39;00m \u001b[38;5;129;01mnot\u001b[39;00m exist_ok \u001b[38;5;129;01mor\u001b[39;00m \u001b[38;5;129;01mnot\u001b[39;00m path\u001b[38;5;241m.\u001b[39misdir(name):\n",
      "\u001b[1;31mFileExistsError\u001b[0m: [WinError 183] Cannot create a file when that file already exists: 'lda_model_2millionDocs_5topics'"
     ]
    }
   ],
   "source": [
    "# save_lda_model(model_dict['lda_model'], OUTPUT_DIR='', NAME='lda_model_2millionDocs_5topics', COHERENCE_SCORE=model_dict['coherence_score'], DICTIONARY=model_dict['dictionary'], TEXTS=paragraphs, VIS=vis, SAVE_VIS=True, CORPUS=model_dict['corpus'])"
   ]
  },
  {
   "cell_type": "markdown",
   "id": "afb72460",
   "metadata": {},
   "source": [
    "## Get most relevant words per topic\n",
    "\n",
    "#### (used to create the topic vectors in the word embedding classification method)"
   ]
  },
  {
   "cell_type": "code",
   "execution_count": 30,
   "id": "a692d84c",
   "metadata": {},
   "outputs": [],
   "source": [
    "try:\n",
    "    model_dict['corpus']\n",
    "except NameError:\n",
    "    # myVar = None \n",
    "    print('ye')"
   ]
  },
  {
   "cell_type": "code",
   "execution_count": 22,
   "id": "00f1af25",
   "metadata": {
    "scrolled": true
   },
   "outputs": [
    {
     "data": {
      "text/plain": [
       "pyLDAvis._prepare.PreparedData"
      ]
     },
     "execution_count": 22,
     "metadata": {},
     "output_type": "execute_result"
    }
   ],
   "source": [
    "type(vis)"
   ]
  },
  {
   "cell_type": "code",
   "execution_count": 23,
   "id": "627e516f",
   "metadata": {},
   "outputs": [
    {
     "name": "stdout",
     "output_type": "stream",
     "text": [
      "CPU times: total: 31.2 ms\n",
      "Wall time: 124 ms\n"
     ]
    }
   ],
   "source": [
    "%%time\n",
    "\n",
    "all_topics = {}\n",
    "num_terms = 50 # Adjust number of words to represent each topic\n",
    "lambd = 0.2 # Adjust this accordingly based on tuning above\n",
    "\n",
    "if not isinstance(vis, pyLDAvis._prepare.PreparedData):        \n",
    "    vis = visualise_topics(model_dict['lda_model'], corpus, dictionary)\n",
    "    \n",
    "for i in range(1,len(model_dict['lda_model'].get_topics())+1): #Adjust this to reflect number of topics chosen for final LDA model\n",
    "    topic = vis.topic_info[vis.topic_info.Category == 'Topic'+str(i)].copy()\n",
    "    topic['relevance'] = topic['loglift']*(1-lambd)+topic['logprob']*lambd\n",
    "    all_topics['Topic '+str(i)] = topic.sort_values(by='relevance', ascending=False).Term[:num_terms].values"
   ]
  },
  {
   "cell_type": "code",
   "execution_count": 24,
   "id": "26f18f08",
   "metadata": {},
   "outputs": [
    {
     "ename": "NameError",
     "evalue": "name 'single_model_path' is not defined",
     "output_type": "error",
     "traceback": [
      "\u001b[1;31m---------------------------------------------------------------------------\u001b[0m",
      "\u001b[1;31mNameError\u001b[0m                                 Traceback (most recent call last)",
      "Input \u001b[1;32mIn [24]\u001b[0m, in \u001b[0;36m<cell line: 1>\u001b[1;34m()\u001b[0m\n\u001b[1;32m----> 1\u001b[0m os\u001b[38;5;241m.\u001b[39mpath\u001b[38;5;241m.\u001b[39misdir(\u001b[43msingle_model_path\u001b[49m)\n",
      "\u001b[1;31mNameError\u001b[0m: name 'single_model_path' is not defined"
     ]
    }
   ],
   "source": [
    "os.path.isdir(single_model_path)"
   ]
  },
  {
   "cell_type": "code",
   "execution_count": null,
   "id": "9e2612c7",
   "metadata": {},
   "outputs": [],
   "source": [
    "1+1"
   ]
  },
  {
   "cell_type": "code",
   "execution_count": 25,
   "id": "fe59697e",
   "metadata": {},
   "outputs": [
    {
     "data": {
      "text/html": [
       "<div>\n",
       "<style scoped>\n",
       "    .dataframe tbody tr th:only-of-type {\n",
       "        vertical-align: middle;\n",
       "    }\n",
       "\n",
       "    .dataframe tbody tr th {\n",
       "        vertical-align: top;\n",
       "    }\n",
       "\n",
       "    .dataframe thead th {\n",
       "        text-align: right;\n",
       "    }\n",
       "</style>\n",
       "<table border=\"1\" class=\"dataframe\">\n",
       "  <thead>\n",
       "    <tr style=\"text-align: right;\">\n",
       "      <th></th>\n",
       "      <th>0</th>\n",
       "      <th>1</th>\n",
       "      <th>2</th>\n",
       "      <th>3</th>\n",
       "      <th>4</th>\n",
       "      <th>5</th>\n",
       "      <th>6</th>\n",
       "      <th>7</th>\n",
       "      <th>8</th>\n",
       "      <th>9</th>\n",
       "      <th>...</th>\n",
       "      <th>40</th>\n",
       "      <th>41</th>\n",
       "      <th>42</th>\n",
       "      <th>43</th>\n",
       "      <th>44</th>\n",
       "      <th>45</th>\n",
       "      <th>46</th>\n",
       "      <th>47</th>\n",
       "      <th>48</th>\n",
       "      <th>49</th>\n",
       "    </tr>\n",
       "  </thead>\n",
       "  <tbody>\n",
       "    <tr>\n",
       "      <th>Topic 1</th>\n",
       "      <td>service</td>\n",
       "      <td>station</td>\n",
       "      <td>route</td>\n",
       "      <td>railway</td>\n",
       "      <td>line</td>\n",
       "      <td>operate</td>\n",
       "      <td>train</td>\n",
       "      <td>passenger</td>\n",
       "      <td>airport</td>\n",
       "      <td>airline</td>\n",
       "      <td>...</td>\n",
       "      <td>run</td>\n",
       "      <td>area</td>\n",
       "      <td>terminal</td>\n",
       "      <td>shopping</td>\n",
       "      <td>timetable</td>\n",
       "      <td>gauge</td>\n",
       "      <td>hourly</td>\n",
       "      <td>main</td>\n",
       "      <td>electrify</td>\n",
       "      <td>city</td>\n",
       "    </tr>\n",
       "    <tr>\n",
       "      <th>Topic 2</th>\n",
       "      <td>perform</td>\n",
       "      <td>opera</td>\n",
       "      <td>concert</td>\n",
       "      <td>film</td>\n",
       "      <td>tour</td>\n",
       "      <td>music</td>\n",
       "      <td>sing</td>\n",
       "      <td>festival</td>\n",
       "      <td>premiere</td>\n",
       "      <td>band</td>\n",
       "      <td>...</td>\n",
       "      <td>debut</td>\n",
       "      <td>concerto</td>\n",
       "      <td>gig</td>\n",
       "      <td>libretto</td>\n",
       "      <td>bass</td>\n",
       "      <td>baritone</td>\n",
       "      <td>orchestral</td>\n",
       "      <td>oratorio</td>\n",
       "      <td>chorus</td>\n",
       "      <td>symphonic</td>\n",
       "    </tr>\n",
       "    <tr>\n",
       "      <th>Topic 3</th>\n",
       "      <td>protest</td>\n",
       "      <td>force</td>\n",
       "      <td>attack</td>\n",
       "      <td>army</td>\n",
       "      <td>arrest</td>\n",
       "      <td>troop</td>\n",
       "      <td>police</td>\n",
       "      <td>war</td>\n",
       "      <td>command</td>\n",
       "      <td>embassy</td>\n",
       "      <td>...</td>\n",
       "      <td>authority</td>\n",
       "      <td>gun</td>\n",
       "      <td>protester</td>\n",
       "      <td>siege</td>\n",
       "      <td>state</td>\n",
       "      <td>envoy</td>\n",
       "      <td>ship</td>\n",
       "      <td>order</td>\n",
       "      <td>political</td>\n",
       "      <td>escort</td>\n",
       "    </tr>\n",
       "    <tr>\n",
       "      <th>Topic 4</th>\n",
       "      <td>season</td>\n",
       "      <td>club</td>\n",
       "      <td>win</td>\n",
       "      <td>goal</td>\n",
       "      <td>match</td>\n",
       "      <td>team</td>\n",
       "      <td>score</td>\n",
       "      <td>game</td>\n",
       "      <td>final</td>\n",
       "      <td>league</td>\n",
       "      <td>...</td>\n",
       "      <td>replay</td>\n",
       "      <td>scoring</td>\n",
       "      <td>midfielder</td>\n",
       "      <td>fixture</td>\n",
       "      <td>trophy</td>\n",
       "      <td>appearance</td>\n",
       "      <td>playoff</td>\n",
       "      <td>scorer</td>\n",
       "      <td>teammate</td>\n",
       "      <td>semifinal</td>\n",
       "    </tr>\n",
       "    <tr>\n",
       "      <th>Topic 5</th>\n",
       "      <td>study</td>\n",
       "      <td>exhibition</td>\n",
       "      <td>work</td>\n",
       "      <td>art</td>\n",
       "      <td>painting</td>\n",
       "      <td>exhibit</td>\n",
       "      <td>professor</td>\n",
       "      <td>school</td>\n",
       "      <td>university</td>\n",
       "      <td>degree</td>\n",
       "      <td>...</td>\n",
       "      <td>theology</td>\n",
       "      <td>sculptor</td>\n",
       "      <td>history</td>\n",
       "      <td>mathematic</td>\n",
       "      <td>doctoral</td>\n",
       "      <td>professorship</td>\n",
       "      <td>move</td>\n",
       "      <td>dissertation</td>\n",
       "      <td>chemistry</td>\n",
       "      <td>visit</td>\n",
       "    </tr>\n",
       "  </tbody>\n",
       "</table>\n",
       "<p>5 rows × 50 columns</p>\n",
       "</div>"
      ],
      "text/plain": [
       "              0           1        2        3         4        5          6   \\\n",
       "Topic 1  service     station    route  railway      line  operate      train   \n",
       "Topic 2  perform       opera  concert     film      tour    music       sing   \n",
       "Topic 3  protest       force   attack     army    arrest    troop     police   \n",
       "Topic 4   season        club      win     goal     match     team      score   \n",
       "Topic 5    study  exhibition     work      art  painting  exhibit  professor   \n",
       "\n",
       "                7           8        9   ...         40        41          42  \\\n",
       "Topic 1  passenger     airport  airline  ...        run      area    terminal   \n",
       "Topic 2   festival    premiere     band  ...      debut  concerto         gig   \n",
       "Topic 3        war     command  embassy  ...  authority       gun   protester   \n",
       "Topic 4       game       final   league  ...     replay   scoring  midfielder   \n",
       "Topic 5     school  university   degree  ...   theology  sculptor     history   \n",
       "\n",
       "                 43         44             45          46            47  \\\n",
       "Topic 1    shopping  timetable          gauge      hourly          main   \n",
       "Topic 2    libretto       bass       baritone  orchestral      oratorio   \n",
       "Topic 3       siege      state          envoy        ship         order   \n",
       "Topic 4     fixture     trophy     appearance     playoff        scorer   \n",
       "Topic 5  mathematic   doctoral  professorship        move  dissertation   \n",
       "\n",
       "                48         49  \n",
       "Topic 1  electrify       city  \n",
       "Topic 2     chorus  symphonic  \n",
       "Topic 3  political     escort  \n",
       "Topic 4   teammate  semifinal  \n",
       "Topic 5  chemistry      visit  \n",
       "\n",
       "[5 rows x 50 columns]"
      ]
     },
     "execution_count": 25,
     "metadata": {},
     "output_type": "execute_result"
    }
   ],
   "source": [
    "words_per_topic_df = pd.DataFrame(all_topics)\n",
    "words_per_topic_df.to_csv(os.path.join(saving_model_path, \"relevant_words_per_topic.csv\"), index=False)\n",
    "\n",
    "words_per_topic_df.T\n",
    "# display(all_topics)"
   ]
  },
  {
   "cell_type": "markdown",
   "id": "bf7f9bf8",
   "metadata": {},
   "source": [
    "## Word Topic Distribution"
   ]
  },
  {
   "cell_type": "code",
   "execution_count": 26,
   "id": "3a473f08",
   "metadata": {},
   "outputs": [
    {
     "name": "stdout",
     "output_type": "stream",
     "text": [
      "1 [('service', 0.019), ('line', 0.015), ('city', 0.015), ('station', 0.013), ('train', 0.013), ('route', 0.012), ('railway', 0.009), ('operate', 0.009)]\n",
      "\n",
      "2 [('perform', 0.022), ('include', 0.018), ('tour', 0.016), ('opera', 0.014), ('play', 0.014), ('work', 0.012), ('music', 0.012), ('performance', 0.012)]\n",
      "\n",
      "3 [('city', 0.009), ('year', 0.006), ('time', 0.005), ('return', 0.005), ('german', 0.005), ('war', 0.005), ('leave', 0.004), ('force', 0.004)]\n",
      "\n",
      "4 [('win', 0.036), ('season', 0.031), ('club', 0.024), ('play', 0.022), ('goal', 0.02), ('team', 0.019), ('score', 0.018), ('match', 0.017)]\n",
      "\n",
      "5 [('work', 0.026), ('study', 0.02), ('year', 0.013), ('bear', 0.013), ('include', 0.009), ('exhibition', 0.008), ('art', 0.008), ('move', 0.007)]\n",
      "\n"
     ]
    }
   ],
   "source": [
    "N_TOPICS = len(model_dict['lda_model'].get_topics())\n",
    "MAX_WORDS = 8\n",
    "\n",
    "for i in range(N_TOPICS):\n",
    "    topic_words = model_dict['lda_model'].show_topic(i, topn=MAX_WORDS)\n",
    "    print(i+1, [(x[0], round(x[1], 3)) for x in topic_words])\n",
    "    print()"
   ]
  },
  {
   "cell_type": "markdown",
   "id": "cad14a06",
   "metadata": {},
   "source": [
    "## Document (=paragraphs) topic distribution"
   ]
  },
  {
   "cell_type": "code",
   "execution_count": 27,
   "id": "e7bbc68d",
   "metadata": {},
   "outputs": [
    {
     "name": "stdout",
     "output_type": "stream",
     "text": [
      "CPU times: total: 2min 24s\n",
      "Wall time: 17min 38s\n"
     ]
    }
   ],
   "source": [
    "%%time\n",
    "\n",
    "transformed_docs = model_dict['lda_model'].load_document_topics()\n",
    "topic_distributions = pd.DataFrame([[x[1] for x in doc] for doc in transformed_docs], \n",
    "             columns=['topic_{}'.format(i+1) for i in range(N_TOPICS)])"
   ]
  },
  {
   "cell_type": "code",
   "execution_count": 28,
   "id": "fe7658fd",
   "metadata": {},
   "outputs": [
    {
     "data": {
      "text/html": [
       "<div>\n",
       "<style scoped>\n",
       "    .dataframe tbody tr th:only-of-type {\n",
       "        vertical-align: middle;\n",
       "    }\n",
       "\n",
       "    .dataframe tbody tr th {\n",
       "        vertical-align: top;\n",
       "    }\n",
       "\n",
       "    .dataframe thead th {\n",
       "        text-align: right;\n",
       "    }\n",
       "</style>\n",
       "<table border=\"1\" class=\"dataframe\">\n",
       "  <thead>\n",
       "    <tr style=\"text-align: right;\">\n",
       "      <th></th>\n",
       "      <th>topic_1</th>\n",
       "      <th>topic_2</th>\n",
       "      <th>topic_3</th>\n",
       "      <th>topic_4</th>\n",
       "      <th>topic_5</th>\n",
       "    </tr>\n",
       "  </thead>\n",
       "  <tbody>\n",
       "    <tr>\n",
       "      <th>0</th>\n",
       "      <td>0.006307</td>\n",
       "      <td>0.006313</td>\n",
       "      <td>0.971652</td>\n",
       "      <td>0.005055</td>\n",
       "      <td>0.010673</td>\n",
       "    </tr>\n",
       "    <tr>\n",
       "      <th>1</th>\n",
       "      <td>0.006307</td>\n",
       "      <td>0.006313</td>\n",
       "      <td>0.971652</td>\n",
       "      <td>0.005055</td>\n",
       "      <td>0.010673</td>\n",
       "    </tr>\n",
       "  </tbody>\n",
       "</table>\n",
       "</div>"
      ],
      "text/plain": [
       "    topic_1   topic_2   topic_3   topic_4   topic_5\n",
       "0  0.006307  0.006313  0.971652  0.005055  0.010673\n",
       "1  0.006307  0.006313  0.971652  0.005055  0.010673"
      ]
     },
     "execution_count": 28,
     "metadata": {},
     "output_type": "execute_result"
    }
   ],
   "source": [
    "topic_distributions.head(2)"
   ]
  },
  {
   "cell_type": "code",
   "execution_count": 31,
   "id": "fcef2b93",
   "metadata": {},
   "outputs": [],
   "source": [
    "topic_distributions.to_csv(os.path.join(saving_model_path, \"topic_distributions_per_paragraph.csv\"), index=False)"
   ]
  },
  {
   "cell_type": "markdown",
   "id": "3fe431c1",
   "metadata": {},
   "source": [
    "## Rename Topics"
   ]
  },
  {
   "cell_type": "code",
   "execution_count": null,
   "id": "de4182d0",
   "metadata": {},
   "outputs": [],
   "source": [
    "# Give Topics sensible names\n",
    "# topic_distributions_renamed_cols=topic_distributions.rename(columns = { 'topic_1': 'lda_sport',\n",
    "#                                         'topic_2': 'lda_art',\n",
    "#                                         'topic_3': 'lda_diplomacy',\n",
    "#                                         'topic_4': 'lda_entertainment',\n",
    "#                                         'topic_5': 'lda_transportation',\n",
    "#                                         'topic_6': 'lda_education'}, inplace = False)\n",
    "\n",
    "topic_distributions_renamed_cols.head(2)"
   ]
  },
  {
   "cell_type": "markdown",
   "id": "46022274",
   "metadata": {},
   "source": [
    "## Topic Distributions"
   ]
  },
  {
   "cell_type": "code",
   "execution_count": null,
   "id": "37e2c804",
   "metadata": {},
   "outputs": [],
   "source": [
    "topic_distributions_renamed_cols.idxmax(axis=\"columns\").value_counts()"
   ]
  },
  {
   "cell_type": "code",
   "execution_count": null,
   "id": "9b155b71",
   "metadata": {},
   "outputs": [],
   "source": [
    "topic_distributions_renamed_cols.idxmax(axis=\"columns\").value_counts(normalize=True)"
   ]
  },
  {
   "cell_type": "markdown",
   "id": "19244da4",
   "metadata": {},
   "source": [
    "## Merge paragraphs with topic distributions"
   ]
  },
  {
   "cell_type": "code",
   "execution_count": 33,
   "id": "c7f21ef6",
   "metadata": {},
   "outputs": [],
   "source": [
    "updated_results = pd.concat([result, topic_distributions],\n",
    "                  axis = 1)"
   ]
  },
  {
   "cell_type": "code",
   "execution_count": 34,
   "id": "472eb9ab",
   "metadata": {},
   "outputs": [
    {
     "data": {
      "text/html": [
       "<div>\n",
       "<style scoped>\n",
       "    .dataframe tbody tr th:only-of-type {\n",
       "        vertical-align: middle;\n",
       "    }\n",
       "\n",
       "    .dataframe tbody tr th {\n",
       "        vertical-align: top;\n",
       "    }\n",
       "\n",
       "    .dataframe thead th {\n",
       "        text-align: right;\n",
       "    }\n",
       "</style>\n",
       "<table border=\"1\" class=\"dataframe\">\n",
       "  <thead>\n",
       "    <tr style=\"text-align: right;\">\n",
       "      <th></th>\n",
       "      <th>city_1</th>\n",
       "      <th>city_2</th>\n",
       "      <th>paragraph</th>\n",
       "      <th>article_id</th>\n",
       "      <th>title</th>\n",
       "      <th>merged_POS</th>\n",
       "      <th>topic_1</th>\n",
       "      <th>topic_2</th>\n",
       "      <th>topic_3</th>\n",
       "      <th>topic_4</th>\n",
       "      <th>topic_5</th>\n",
       "    </tr>\n",
       "  </thead>\n",
       "  <tbody>\n",
       "    <tr>\n",
       "      <th>1</th>\n",
       "      <td>Birmingham</td>\n",
       "      <td>Florence</td>\n",
       "      <td>The first community of adherents of the Baha'i...</td>\n",
       "      <td>303.0</td>\n",
       "      <td>Alabama</td>\n",
       "      <td>[community, adherent, center, found, move, exist]</td>\n",
       "      <td>0.006307</td>\n",
       "      <td>0.006313</td>\n",
       "      <td>0.971652</td>\n",
       "      <td>0.005055</td>\n",
       "      <td>0.010673</td>\n",
       "    </tr>\n",
       "    <tr>\n",
       "      <th>2</th>\n",
       "      <td>Florence</td>\n",
       "      <td>Birmingham</td>\n",
       "      <td>The first community of adherents of the Baha'i...</td>\n",
       "      <td>303.0</td>\n",
       "      <td>Alabama</td>\n",
       "      <td>[community, adherent, center, found, move, exist]</td>\n",
       "      <td>0.136577</td>\n",
       "      <td>0.815029</td>\n",
       "      <td>0.000952</td>\n",
       "      <td>0.000711</td>\n",
       "      <td>0.046731</td>\n",
       "    </tr>\n",
       "    <tr>\n",
       "      <th>3</th>\n",
       "      <td>Paris</td>\n",
       "      <td>London</td>\n",
       "      <td>A major revision of the work by composer and a...</td>\n",
       "      <td>309.0</td>\n",
       "      <td>An American in Paris</td>\n",
       "      <td>[revision, work, composer, arranger, instrumen...</td>\n",
       "      <td>0.000887</td>\n",
       "      <td>0.679339</td>\n",
       "      <td>0.204487</td>\n",
       "      <td>0.000711</td>\n",
       "      <td>0.114576</td>\n",
       "    </tr>\n",
       "    <tr>\n",
       "      <th>4</th>\n",
       "      <td>London</td>\n",
       "      <td>Paris</td>\n",
       "      <td>A major revision of the work by composer and a...</td>\n",
       "      <td>309.0</td>\n",
       "      <td>An American in Paris</td>\n",
       "      <td>[revision, work, composer, arranger, instrumen...</td>\n",
       "      <td>0.672310</td>\n",
       "      <td>0.000976</td>\n",
       "      <td>0.324282</td>\n",
       "      <td>0.000782</td>\n",
       "      <td>0.001650</td>\n",
       "    </tr>\n",
       "    <tr>\n",
       "      <th>5</th>\n",
       "      <td>Madrid</td>\n",
       "      <td>Rome</td>\n",
       "      <td>Access to biocapacity in Algeria is lower than...</td>\n",
       "      <td>358.0</td>\n",
       "      <td>Algeria</td>\n",
       "      <td>[access, world, hectare, person, territory, wo...</td>\n",
       "      <td>0.647446</td>\n",
       "      <td>0.000976</td>\n",
       "      <td>0.349146</td>\n",
       "      <td>0.000782</td>\n",
       "      <td>0.001650</td>\n",
       "    </tr>\n",
       "  </tbody>\n",
       "</table>\n",
       "</div>"
      ],
      "text/plain": [
       "       city_1      city_2                                          paragraph  \\\n",
       "1  Birmingham    Florence  The first community of adherents of the Baha'i...   \n",
       "2    Florence  Birmingham  The first community of adherents of the Baha'i...   \n",
       "3       Paris      London  A major revision of the work by composer and a...   \n",
       "4      London       Paris  A major revision of the work by composer and a...   \n",
       "5      Madrid        Rome  Access to biocapacity in Algeria is lower than...   \n",
       "\n",
       "   article_id                 title  \\\n",
       "1       303.0               Alabama   \n",
       "2       303.0               Alabama   \n",
       "3       309.0  An American in Paris   \n",
       "4       309.0  An American in Paris   \n",
       "5       358.0               Algeria   \n",
       "\n",
       "                                          merged_POS   topic_1   topic_2  \\\n",
       "1  [community, adherent, center, found, move, exist]  0.006307  0.006313   \n",
       "2  [community, adherent, center, found, move, exist]  0.136577  0.815029   \n",
       "3  [revision, work, composer, arranger, instrumen...  0.000887  0.679339   \n",
       "4  [revision, work, composer, arranger, instrumen...  0.672310  0.000976   \n",
       "5  [access, world, hectare, person, territory, wo...  0.647446  0.000976   \n",
       "\n",
       "    topic_3   topic_4   topic_5  \n",
       "1  0.971652  0.005055  0.010673  \n",
       "2  0.000952  0.000711  0.046731  \n",
       "3  0.204487  0.000711  0.114576  \n",
       "4  0.324282  0.000782  0.001650  \n",
       "5  0.349146  0.000782  0.001650  "
      ]
     },
     "execution_count": 34,
     "metadata": {},
     "output_type": "execute_result"
    }
   ],
   "source": [
    "# updated_results.iloc[0].paragraph\n",
    "updated_results.head()"
   ]
  },
  {
   "cell_type": "markdown",
   "id": "7b64688d",
   "metadata": {},
   "source": [
    "## Get dominant topic and score of chunked dataframe"
   ]
  },
  {
   "cell_type": "code",
   "execution_count": 35,
   "id": "3a74fa8f",
   "metadata": {},
   "outputs": [],
   "source": [
    "nr_of_chunks = (len(updated_results) // 10000) + 1\n",
    "\n",
    "chunked_dataframe = np.array_split(updated_results, nr_of_chunks)"
   ]
  },
  {
   "cell_type": "code",
   "execution_count": null,
   "id": "45d8da58",
   "metadata": {},
   "outputs": [],
   "source": []
  },
  {
   "cell_type": "code",
   "execution_count": null,
   "id": "fccb7542",
   "metadata": {},
   "outputs": [
    {
     "data": {
      "application/vnd.jupyter.widget-view+json": {
       "model_id": "e96d3587193a45e18ea7474df850808f",
       "version_major": 2,
       "version_minor": 0
      },
      "text/plain": [
       "  0%|          | 0/208 [00:00<?, ?it/s]"
      ]
     },
     "metadata": {},
     "output_type": "display_data"
    }
   ],
   "source": [
    "# This may take a while\n",
    "\n",
    "for i, subdataframe in enumerate(tqdm(chunked_dataframe)):\n",
    "    chunked_dataframe[i] = pd.concat([subdataframe, subdataframe[topic_distributions.columns].agg(['idxmax','max'],axis=1)], axis=1)"
   ]
  },
  {
   "cell_type": "code",
   "execution_count": 59,
   "id": "08decee2",
   "metadata": {},
   "outputs": [],
   "source": [
    "final_df = pd.concat(chunked_dataframe,axis=0)"
   ]
  },
  {
   "cell_type": "code",
   "execution_count": 60,
   "id": "ad16a5de",
   "metadata": {},
   "outputs": [],
   "source": [
    "final_df_renamed_cols = final_df.rename(columns = { 'idxmax': 'lda_dominant',\n",
    "                                        'max': 'lda_dominant_score'}, inplace = False)"
   ]
  },
  {
   "cell_type": "code",
   "execution_count": 62,
   "id": "6c9907f8",
   "metadata": {},
   "outputs": [
    {
     "data": {
      "text/html": [
       "<div>\n",
       "<style scoped>\n",
       "    .dataframe tbody tr th:only-of-type {\n",
       "        vertical-align: middle;\n",
       "    }\n",
       "\n",
       "    .dataframe tbody tr th {\n",
       "        vertical-align: top;\n",
       "    }\n",
       "\n",
       "    .dataframe thead th {\n",
       "        text-align: right;\n",
       "    }\n",
       "</style>\n",
       "<table border=\"1\" class=\"dataframe\">\n",
       "  <thead>\n",
       "    <tr style=\"text-align: right;\">\n",
       "      <th></th>\n",
       "      <th>city_1</th>\n",
       "      <th>city_2</th>\n",
       "      <th>paragraph</th>\n",
       "      <th>article_id</th>\n",
       "      <th>title</th>\n",
       "      <th>merged_POS</th>\n",
       "      <th>topic_1</th>\n",
       "      <th>topic_2</th>\n",
       "      <th>topic_3</th>\n",
       "      <th>topic_4</th>\n",
       "      <th>topic_5</th>\n",
       "      <th>topic_6</th>\n",
       "      <th>lda_dominant</th>\n",
       "      <th>lda_dominant_score</th>\n",
       "    </tr>\n",
       "  </thead>\n",
       "  <tbody>\n",
       "    <tr>\n",
       "      <th>1</th>\n",
       "      <td>Birmingham</td>\n",
       "      <td>Florence</td>\n",
       "      <td>The first community of adherents of the Baha'i...</td>\n",
       "      <td>303.0</td>\n",
       "      <td>Alabama</td>\n",
       "      <td>['community', 'adherent', 'center', 'found', '...</td>\n",
       "      <td>0.006617</td>\n",
       "      <td>0.004239</td>\n",
       "      <td>0.966858</td>\n",
       "      <td>0.005489</td>\n",
       "      <td>0.010395</td>\n",
       "      <td>0.006402</td>\n",
       "      <td>topic_3</td>\n",
       "      <td>0.966858</td>\n",
       "    </tr>\n",
       "    <tr>\n",
       "      <th>2</th>\n",
       "      <td>Florence</td>\n",
       "      <td>Birmingham</td>\n",
       "      <td>The first community of adherents of the Baha'i...</td>\n",
       "      <td>303.0</td>\n",
       "      <td>Alabama</td>\n",
       "      <td>['community', 'adherent', 'center', 'found', '...</td>\n",
       "      <td>0.633744</td>\n",
       "      <td>0.000599</td>\n",
       "      <td>0.294710</td>\n",
       "      <td>0.068576</td>\n",
       "      <td>0.001468</td>\n",
       "      <td>0.000904</td>\n",
       "      <td>topic_1</td>\n",
       "      <td>0.633744</td>\n",
       "    </tr>\n",
       "    <tr>\n",
       "      <th>3</th>\n",
       "      <td>Paris</td>\n",
       "      <td>London</td>\n",
       "      <td>A major revision of the work by composer and a...</td>\n",
       "      <td>309.0</td>\n",
       "      <td>An American in Paris</td>\n",
       "      <td>['revision', 'work', 'composer', 'arranger', '...</td>\n",
       "      <td>0.678945</td>\n",
       "      <td>0.000599</td>\n",
       "      <td>0.272109</td>\n",
       "      <td>0.000775</td>\n",
       "      <td>0.001468</td>\n",
       "      <td>0.046105</td>\n",
       "      <td>topic_1</td>\n",
       "      <td>0.678945</td>\n",
       "    </tr>\n",
       "    <tr>\n",
       "      <th>4</th>\n",
       "      <td>London</td>\n",
       "      <td>Paris</td>\n",
       "      <td>A major revision of the work by composer and a...</td>\n",
       "      <td>309.0</td>\n",
       "      <td>An American in Paris</td>\n",
       "      <td>['revision', 'work', 'composer', 'arranger', '...</td>\n",
       "      <td>0.001027</td>\n",
       "      <td>0.000658</td>\n",
       "      <td>0.771237</td>\n",
       "      <td>0.000852</td>\n",
       "      <td>0.001613</td>\n",
       "      <td>0.224612</td>\n",
       "      <td>topic_3</td>\n",
       "      <td>0.771237</td>\n",
       "    </tr>\n",
       "    <tr>\n",
       "      <th>5</th>\n",
       "      <td>Madrid</td>\n",
       "      <td>Rome</td>\n",
       "      <td>Access to biocapacity in Algeria is lower than...</td>\n",
       "      <td>358.0</td>\n",
       "      <td>Algeria</td>\n",
       "      <td>['access', 'world', 'hectare', 'person', 'terr...</td>\n",
       "      <td>0.001027</td>\n",
       "      <td>0.000658</td>\n",
       "      <td>0.647005</td>\n",
       "      <td>0.100238</td>\n",
       "      <td>0.001613</td>\n",
       "      <td>0.249459</td>\n",
       "      <td>topic_3</td>\n",
       "      <td>0.647005</td>\n",
       "    </tr>\n",
       "    <tr>\n",
       "      <th>...</th>\n",
       "      <td>...</td>\n",
       "      <td>...</td>\n",
       "      <td>...</td>\n",
       "      <td>...</td>\n",
       "      <td>...</td>\n",
       "      <td>...</td>\n",
       "      <td>...</td>\n",
       "      <td>...</td>\n",
       "      <td>...</td>\n",
       "      <td>...</td>\n",
       "      <td>...</td>\n",
       "      <td>...</td>\n",
       "      <td>...</td>\n",
       "      <td>...</td>\n",
       "    </tr>\n",
       "    <tr>\n",
       "      <th>2076401</th>\n",
       "      <td>London</td>\n",
       "      <td>Paris</td>\n",
       "      <td>Mundhir participated in Arab and international...</td>\n",
       "      <td>70585176.0</td>\n",
       "      <td>Mundhir Masri</td>\n",
       "      <td>['festival', 'seminar', 'guest', 'participate'...</td>\n",
       "      <td>0.732542</td>\n",
       "      <td>0.003211</td>\n",
       "      <td>0.004856</td>\n",
       "      <td>0.004158</td>\n",
       "      <td>0.250384</td>\n",
       "      <td>0.004849</td>\n",
       "      <td>topic_1</td>\n",
       "      <td>0.732542</td>\n",
       "    </tr>\n",
       "    <tr>\n",
       "      <th>2076402</th>\n",
       "      <td>London</td>\n",
       "      <td>Stockholm</td>\n",
       "      <td>Mundhir participated in Arab and international...</td>\n",
       "      <td>70585176.0</td>\n",
       "      <td>Mundhir Masri</td>\n",
       "      <td>['festival', 'seminar', 'guest', 'participate'...</td>\n",
       "      <td>0.975052</td>\n",
       "      <td>0.003211</td>\n",
       "      <td>0.004856</td>\n",
       "      <td>0.004158</td>\n",
       "      <td>0.007874</td>\n",
       "      <td>0.004849</td>\n",
       "      <td>topic_1</td>\n",
       "      <td>0.975052</td>\n",
       "    </tr>\n",
       "    <tr>\n",
       "      <th>2076403</th>\n",
       "      <td>Stockholm</td>\n",
       "      <td>Paris</td>\n",
       "      <td>Mundhir participated in Arab and international...</td>\n",
       "      <td>70585176.0</td>\n",
       "      <td>Mundhir Masri</td>\n",
       "      <td>['festival', 'seminar', 'guest', 'participate'...</td>\n",
       "      <td>0.853797</td>\n",
       "      <td>0.003211</td>\n",
       "      <td>0.004856</td>\n",
       "      <td>0.004158</td>\n",
       "      <td>0.129129</td>\n",
       "      <td>0.004849</td>\n",
       "      <td>topic_1</td>\n",
       "      <td>0.853797</td>\n",
       "    </tr>\n",
       "    <tr>\n",
       "      <th>2076404</th>\n",
       "      <td>Stockholm</td>\n",
       "      <td>London</td>\n",
       "      <td>Mundhir participated in Arab and international...</td>\n",
       "      <td>70585176.0</td>\n",
       "      <td>Mundhir Masri</td>\n",
       "      <td>['festival', 'seminar', 'guest', 'participate'...</td>\n",
       "      <td>NaN</td>\n",
       "      <td>NaN</td>\n",
       "      <td>NaN</td>\n",
       "      <td>NaN</td>\n",
       "      <td>NaN</td>\n",
       "      <td>NaN</td>\n",
       "      <td>NaN</td>\n",
       "      <td>NaN</td>\n",
       "    </tr>\n",
       "    <tr>\n",
       "      <th>0</th>\n",
       "      <td>NaN</td>\n",
       "      <td>NaN</td>\n",
       "      <td>NaN</td>\n",
       "      <td>NaN</td>\n",
       "      <td>NaN</td>\n",
       "      <td>NaN</td>\n",
       "      <td>0.006617</td>\n",
       "      <td>0.164314</td>\n",
       "      <td>0.486635</td>\n",
       "      <td>0.005489</td>\n",
       "      <td>0.330544</td>\n",
       "      <td>0.006402</td>\n",
       "      <td>topic_3</td>\n",
       "      <td>0.486635</td>\n",
       "    </tr>\n",
       "  </tbody>\n",
       "</table>\n",
       "<p>2076405 rows × 14 columns</p>\n",
       "</div>"
      ],
      "text/plain": [
       "             city_1      city_2  \\\n",
       "1        Birmingham    Florence   \n",
       "2          Florence  Birmingham   \n",
       "3             Paris      London   \n",
       "4            London       Paris   \n",
       "5            Madrid        Rome   \n",
       "...             ...         ...   \n",
       "2076401      London       Paris   \n",
       "2076402      London   Stockholm   \n",
       "2076403   Stockholm       Paris   \n",
       "2076404   Stockholm      London   \n",
       "0               NaN         NaN   \n",
       "\n",
       "                                                 paragraph  article_id  \\\n",
       "1        The first community of adherents of the Baha'i...       303.0   \n",
       "2        The first community of adherents of the Baha'i...       303.0   \n",
       "3        A major revision of the work by composer and a...       309.0   \n",
       "4        A major revision of the work by composer and a...       309.0   \n",
       "5        Access to biocapacity in Algeria is lower than...       358.0   \n",
       "...                                                    ...         ...   \n",
       "2076401  Mundhir participated in Arab and international...  70585176.0   \n",
       "2076402  Mundhir participated in Arab and international...  70585176.0   \n",
       "2076403  Mundhir participated in Arab and international...  70585176.0   \n",
       "2076404  Mundhir participated in Arab and international...  70585176.0   \n",
       "0                                                      NaN         NaN   \n",
       "\n",
       "                        title  \\\n",
       "1                     Alabama   \n",
       "2                     Alabama   \n",
       "3        An American in Paris   \n",
       "4        An American in Paris   \n",
       "5                     Algeria   \n",
       "...                       ...   \n",
       "2076401         Mundhir Masri   \n",
       "2076402         Mundhir Masri   \n",
       "2076403         Mundhir Masri   \n",
       "2076404         Mundhir Masri   \n",
       "0                         NaN   \n",
       "\n",
       "                                                merged_POS   topic_1  \\\n",
       "1        ['community', 'adherent', 'center', 'found', '...  0.006617   \n",
       "2        ['community', 'adherent', 'center', 'found', '...  0.633744   \n",
       "3        ['revision', 'work', 'composer', 'arranger', '...  0.678945   \n",
       "4        ['revision', 'work', 'composer', 'arranger', '...  0.001027   \n",
       "5        ['access', 'world', 'hectare', 'person', 'terr...  0.001027   \n",
       "...                                                    ...       ...   \n",
       "2076401  ['festival', 'seminar', 'guest', 'participate'...  0.732542   \n",
       "2076402  ['festival', 'seminar', 'guest', 'participate'...  0.975052   \n",
       "2076403  ['festival', 'seminar', 'guest', 'participate'...  0.853797   \n",
       "2076404  ['festival', 'seminar', 'guest', 'participate'...       NaN   \n",
       "0                                                      NaN  0.006617   \n",
       "\n",
       "          topic_2   topic_3   topic_4   topic_5   topic_6 lda_dominant  \\\n",
       "1        0.004239  0.966858  0.005489  0.010395  0.006402      topic_3   \n",
       "2        0.000599  0.294710  0.068576  0.001468  0.000904      topic_1   \n",
       "3        0.000599  0.272109  0.000775  0.001468  0.046105      topic_1   \n",
       "4        0.000658  0.771237  0.000852  0.001613  0.224612      topic_3   \n",
       "5        0.000658  0.647005  0.100238  0.001613  0.249459      topic_3   \n",
       "...           ...       ...       ...       ...       ...          ...   \n",
       "2076401  0.003211  0.004856  0.004158  0.250384  0.004849      topic_1   \n",
       "2076402  0.003211  0.004856  0.004158  0.007874  0.004849      topic_1   \n",
       "2076403  0.003211  0.004856  0.004158  0.129129  0.004849      topic_1   \n",
       "2076404       NaN       NaN       NaN       NaN       NaN          NaN   \n",
       "0        0.164314  0.486635  0.005489  0.330544  0.006402      topic_3   \n",
       "\n",
       "        lda_dominant_score  \n",
       "1                 0.966858  \n",
       "2                 0.633744  \n",
       "3                 0.678945  \n",
       "4                 0.771237  \n",
       "5                 0.647005  \n",
       "...                    ...  \n",
       "2076401           0.732542  \n",
       "2076402           0.975052  \n",
       "2076403           0.853797  \n",
       "2076404                NaN  \n",
       "0                 0.486635  \n",
       "\n",
       "[2076405 rows x 14 columns]"
      ]
     },
     "execution_count": 62,
     "metadata": {},
     "output_type": "execute_result"
    }
   ],
   "source": [
    "final_df_renamed_cols"
   ]
  },
  {
   "cell_type": "markdown",
   "id": "8a24dc6b",
   "metadata": {},
   "source": [
    "## Query of 3 city pairs"
   ]
  },
  {
   "cell_type": "code",
   "execution_count": null,
   "id": "87750fc7",
   "metadata": {},
   "outputs": [],
   "source": [
    "# Requires work due to city pair in two columns\n",
    "# three_city_pairs = final_df_renamed_cols[final_df_renamed_cols['city_pair'].isin(['paris_milan', 'barcelona_manchester', 'warsaw_prague'])]"
   ]
  },
  {
   "cell_type": "code",
   "execution_count": null,
   "id": "3655d74a",
   "metadata": {},
   "outputs": [],
   "source": [
    "# display(three_city_pairs.groupby('city_pair')['lda_dominant'].value_counts())"
   ]
  },
  {
   "cell_type": "markdown",
   "id": "96f89461",
   "metadata": {},
   "source": [
    "## Save document topic distribution"
   ]
  },
  {
   "cell_type": "code",
   "execution_count": 64,
   "id": "820d46e0",
   "metadata": {},
   "outputs": [],
   "source": [
    "num, div = len(final_df_renamed_cols), 20\n",
    "chunks = [num // div + (1 if x < num % div else 0)  for x in range (div)]\n",
    "cum_chunks = [0]\n",
    "\n",
    "for i, x in enumerate(chunks):\n",
    "    cum_chunks.append(sum(chunks[:i+1]))"
   ]
  },
  {
   "cell_type": "code",
   "execution_count": 65,
   "id": "2e9e6dfd",
   "metadata": {},
   "outputs": [
    {
     "data": {
      "text/plain": [
       "[(0, 103821),\n",
       " (103821, 207642),\n",
       " (207642, 311463),\n",
       " (311463, 415284),\n",
       " (415284, 519105),\n",
       " (519105, 622925),\n",
       " (622925, 726745),\n",
       " (726745, 830565),\n",
       " (830565, 934385),\n",
       " (934385, 1038205),\n",
       " (1038205, 1142025),\n",
       " (1142025, 1245845),\n",
       " (1245845, 1349665),\n",
       " (1349665, 1453485),\n",
       " (1453485, 1557305),\n",
       " (1557305, 1661125),\n",
       " (1661125, 1764945),\n",
       " (1764945, 1868765),\n",
       " (1868765, 1972585),\n",
       " (1972585, 2076405)]"
      ]
     },
     "execution_count": 65,
     "metadata": {},
     "output_type": "execute_result"
    }
   ],
   "source": [
    "chunks_min_max = list(zip(cum_chunks, cum_chunks[1:]))\n",
    "chunks_min_max"
   ]
  },
  {
   "cell_type": "code",
   "execution_count": 67,
   "id": "ccedb44d",
   "metadata": {},
   "outputs": [
    {
     "data": {
      "application/vnd.jupyter.widget-view+json": {
       "model_id": "c5b4e69fd60146968148f48f3da12e38",
       "version_major": 2,
       "version_minor": 0
      },
      "text/plain": [
       "  0%|          | 0/20 [00:00<?, ?it/s]"
      ]
     },
     "metadata": {},
     "output_type": "display_data"
    }
   ],
   "source": [
    "output_folder = \"../../../../data_clean/paragraphs_lda_topic_distribution\"\n",
    "os.makedirs(output_folder, exist_ok=True)\n",
    "\n",
    "count = 1\n",
    "for chunk in tqdm(chunks_min_max):\n",
    "    sub_df = final_df_renamed_cols.iloc[chunk[0]:chunk[1]]\n",
    "    file_path = f\"{output_folder}/paragraphs_{count}_{chunk[0]}_{chunk[1]}_lda_topics.csv\"\n",
    "    sub_df.to_csv(file_path, index=False)\n",
    "    count += 1\n",
    "    \n",
    "# final_df_renamed_cols.to_csv('..\\..\\..\\..\\..\\data\\clean\\lda_classified_30cities_435citypairs_311k_paragraphs.csv', index=False)"
   ]
  },
  {
   "cell_type": "markdown",
   "id": "0b8bfee8",
   "metadata": {},
   "source": [
    "## Distribution of dominant topic scores"
   ]
  },
  {
   "cell_type": "code",
   "execution_count": 68,
   "id": "89ddfd3f",
   "metadata": {},
   "outputs": [
    {
     "data": {
      "text/plain": [
       "(0.9, 1.0]       1305117\n",
       "(0.8, 0.9]        197266\n",
       "(0.6, 0.7]        168544\n",
       "(0.7, 0.8]        162817\n",
       "(0.5, 0.6]        153496\n",
       "(0.4, 0.5]         79622\n",
       "(0.3, 0.4]          9366\n",
       "(0.2, 0.3]           175\n",
       "(-0.001, 0.1]          1\n",
       "(0.1, 0.2]             0\n",
       "Name: lda_dominant_score, dtype: int64"
      ]
     },
     "execution_count": 68,
     "metadata": {},
     "output_type": "execute_result"
    }
   ],
   "source": [
    "final_df_renamed_cols['lda_dominant_score'].value_counts(bins=[0,0.1,0.2,0.3,0.4,0.5,0.6,0.7,0.8,0.9,1]).sort_values(ascending=False)"
   ]
  },
  {
   "cell_type": "markdown",
   "id": "fdebd73d",
   "metadata": {},
   "source": [
    "## Graphed density of the grouped topic scores"
   ]
  },
  {
   "cell_type": "code",
   "execution_count": 81,
   "id": "5de169b3",
   "metadata": {},
   "outputs": [
    {
     "data": {
      "text/plain": [
       "['topic_1', 'topic_2', 'topic_3', 'topic_4', 'topic_5', 'topic_6']"
      ]
     },
     "execution_count": 81,
     "metadata": {},
     "output_type": "execute_result"
    }
   ],
   "source": [
    "topics = [topic for topic in final_df_renamed_cols['lda_dominant'].unique() if isinstance(topic, str)]\n",
    "sorted(topics)"
   ]
  },
  {
   "cell_type": "code",
   "execution_count": 88,
   "id": "75e625ee",
   "metadata": {},
   "outputs": [
    {
     "data": {
      "text/plain": [
       "Text(0, 0.5, 'Density')"
      ]
     },
     "execution_count": 88,
     "metadata": {},
     "output_type": "execute_result"
    },
    {
     "data": {
      "image/png": "[encoded data removed]",
      "text/plain": [
       "<Figure size 1440x720 with 1 Axes>"
      ]
     },
     "metadata": {
      "needs_background": "light"
     },
     "output_type": "display_data"
    }
   ],
   "source": [
    "# !pip install seaborn\n",
    "import matplotlib.pyplot as plt\n",
    "\n",
    "%matplotlib inline\n",
    "import seaborn as sns\n",
    "\n",
    "plt.figure(figsize=(20,10))\n",
    "\n",
    "a = final_df_renamed_cols.groupby('lda_dominant')\n",
    "\n",
    "# Iterate through the five topics\n",
    "topics = [topic for topic in final_df_renamed_cols['lda_dominant'].unique() if isinstance(topic, str)]\n",
    "\n",
    "for topic in topics:\n",
    "    b = a['lda_dominant_score'].get_group(topic)\n",
    "\n",
    "    #     b.plot.density(color='green')\n",
    "    # plt.title('Density plot for Speeding')\n",
    "    # plt.show()\n",
    "\n",
    "    sns.distplot(b, hist = False, kde = True,\n",
    "                 kde_kws = {'linewidth': 2},\n",
    "                 label = topic)\n",
    "    \n",
    "# Plot formatting\n",
    "sns.distplot(final_df_renamed_cols['lda_dominant_score'], hist = False, kde = True,\n",
    "                 kde_kws = {'linewidth': 2},\n",
    "                 color = 'black',\n",
    "                 label = 'Average')\n",
    "\n",
    "plt.legend(prop={'size': 20}, title = 'Topic', title_fontsize=22)\n",
    "# plt.title('Score Density of the dominant topics grouped by topic', fontsize=24)\n",
    "plt.rc('axes', titlesize=24)\n",
    "plt.rc('axes', labelsize=24)\n",
    "plt.rc('xtick', labelsize=24)\n",
    "plt.rc('ytick', labelsize=24)\n",
    "plt.xlabel('Topic Dominance')\n",
    "plt.ylim(0, 22)\n",
    "plt.xlim(0.8, 1)\n",
    "plt.ylabel('Density')"
   ]
  },
  {
   "cell_type": "markdown",
   "id": "a905942e",
   "metadata": {},
   "source": [
    "# EXTRAS"
   ]
  },
  {
   "cell_type": "markdown",
   "id": "680b8d3e",
   "metadata": {},
   "source": [
    "## Training Multiple LDA Models"
   ]
  },
  {
   "cell_type": "code",
   "execution_count": null,
   "id": "5196d8a8",
   "metadata": {},
   "outputs": [],
   "source": [
    "TOPIC_SELECTION = range(2,21, 1)\n",
    "list(TOPIC_SELECTION)\n",
    "\n",
    "\n",
    "%%time\n",
    "\n",
    "paragraphs = result.merged_POS\n",
    "# MIN_DF = 0.1\n",
    "# MAX_DF = 0.8\n",
    "\n",
    "# Vectorization\n",
    "# dictionary, corpus = vectorize(paragraphs, MIN_DF=MIN_DF, MAX_DF=MAX_DF)\n",
    "\n",
    "models = compare_lda_models(OUTPUT_DIR='../../../../../data/clean/lda_models/50k_paragraphs/', TOPIC_SELECTION=TOPIC_SELECTION,\n",
    "                LEMMATIZED_TEXT=paragraphs, DICTIONARY=dictionary, CORPUS=corpus, MIN_DF=MIN_DF, MAX_DF=MAX_DF, N_ITERATIONS=1000,\n",
    "                PATH_TO_MALLET=r'C:/mallet/bin/mallet.bat', GET_COHERENCE_SCORE=True, COHERENCE='c_v')"
   ]
  },
  {
   "cell_type": "markdown",
   "id": "30d6f3f3",
   "metadata": {},
   "source": [
    "## Load Multiple LDA Models"
   ]
  },
  {
   "cell_type": "code",
   "execution_count": null,
   "id": "258ef2d4",
   "metadata": {},
   "outputs": [],
   "source": []
  }
 ],
 "metadata": {
  "kernelspec": {
   "display_name": "Python 3 (ipykernel)",
   "language": "python",
   "name": "python3"
  },
  "language_info": {
   "codemirror_mode": {
    "name": "ipython",
    "version": 3
   },
   "file_extension": ".py",
   "mimetype": "text/x-python",
   "name": "python",
   "nbconvert_exporter": "python",
   "pygments_lexer": "ipython3",
   "version": "3.9.13"
  }
 },
 "nbformat": 4,
 "nbformat_minor": 5
}
