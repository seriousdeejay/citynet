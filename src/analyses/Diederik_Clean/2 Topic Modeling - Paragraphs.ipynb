{
 "cells": [
  {
   "cell_type": "markdown",
   "id": "5963adb0",
   "metadata": {},
   "source": [
    "<div style=\"background-color: lightgreen; border-radius: 5px; padding: 10px;\">\n",
    "    <h4>Topic Modeling</h4>\n",
    "    <p>...</p>\n",
    "</div>"
   ]
  },
  {
   "cell_type": "code",
   "execution_count": 1,
   "id": "109a021d",
   "metadata": {},
   "outputs": [
    {
     "name": "stderr",
     "output_type": "stream",
     "text": [
      "C:\\Users\\diede\\Personal Files [Local]\\Applied Data Science\\Thesis - CITYNET\\venv_citynet3\\lib\\site-packages\\past\\builtins\\misc.py:45: DeprecationWarning: the imp module is deprecated in favour of importlib; see the module's documentation for alternative uses\n",
      "  from imp import reload\n"
     ]
    }
   ],
   "source": [
    "import os\n",
    "import pandas as pd\n",
    "import numpy as np\n",
    "from ast import literal_eval\n",
    "from tqdm.notebook import tqdm\n",
    "\n",
    "from preprocessing_functions import *\n",
    "from topic_modeling_functions import *\n",
    "\n",
    "import warnings\n",
    "warnings.filterwarnings('ignore')\n",
    "\n",
    "# Train_lda_model\n",
    "from gensim.models.wrappers import LdaMallet\n",
    "\n",
    "# Calculate_coherence_score\n",
    "from gensim.models import CoherenceModel\n",
    "\n",
    "# Saving and visualising lda models\n",
    "import gensim\n",
    "import pyLDAvis\n",
    "import pyLDAvis.gensim_models as gensimvis"
   ]
  },
  {
   "cell_type": "markdown",
   "id": "77448c4a",
   "metadata": {},
   "source": [
    "# Variables"
   ]
  },
  {
   "cell_type": "code",
   "execution_count": 47,
   "id": "5197b9dd",
   "metadata": {},
   "outputs": [],
   "source": [
    "files_dir = '../../../../data_clean/paragraphs_lemmatised/'\n",
    "POS = [\"NOUN\", \"VERB\", \"ADJ\"]\n",
    "\n",
    "\n",
    "\n",
    "\n",
    "ONLY_ENGLISH_WORDS = True\n",
    "merged_POS = True\n",
    "saving = True\n",
    "\n",
    "# Don't change!\n",
    "word_type = 'english_words' if ONLY_ENGLISH_WORDS else 'dirty_words'\n",
    "files_output_dir = f\"{files_dir}/{word_type}_merged_{''.join(POS)}\""
   ]
  },
  {
   "cell_type": "code",
   "execution_count": 47,
   "id": "071ec67b",
   "metadata": {},
   "outputs": [],
   "source": [
    "os.makedirs(f\"{files_dir}/merged_{''.join(POS)}\", exist_ok=True)"
   ]
  },
  {
   "cell_type": "markdown",
   "id": "fb5ffa2d",
   "metadata": {},
   "source": [
    "### Merge POS (Should be removed to pre-processing notebook!)"
   ]
  },
  {
   "cell_type": "code",
   "execution_count": 72,
   "id": "d316c425",
   "metadata": {},
   "outputs": [
    {
     "name": "stdout",
     "output_type": "stream",
     "text": [
      "../../../../data_clean/paragraphs_lemmatised//english_words_merged_NOUNVERBADJ\\paragraphs_10_934384_1038204_merged_POS.csv already exists.\n",
      "../../../../data_clean/paragraphs_lemmatised//english_words_merged_NOUNVERBADJ\\paragraphs_11_1038204_1142024_merged_POS.csv already exists.\n",
      "../../../../data_clean/paragraphs_lemmatised//english_words_merged_NOUNVERBADJ\\paragraphs_12_1142024_1245844_merged_POS.csv already exists.\n"
     ]
    }
   ],
   "source": [
    "# for file in os.listdir()\n",
    "for file in os.listdir(files_dir)[:]:\n",
    "    if file.endswith(\".csv\"):\n",
    "        \n",
    "        output_fp = os.path.join(files_output_dir, file.replace('preprocessed', 'merged_POS'))\n",
    "        \n",
    "        if os.path.isfile(output_fp):\n",
    "            print(f\"{output_fp} already exists.\")\n",
    "            continue\n",
    "            \n",
    "        fp = os.path.join(files_dir, file)\n",
    "        temp_df = pd.read_csv(fp)\n",
    "\n",
    "        if merged_POS:\n",
    "            os.makedirs(files_output_dir, exist_ok=True)\n",
    "            temp_df['merged_POS'] = [[] for _ in range(temp_df.shape[0])]\n",
    "\n",
    "        for tag in POS:\n",
    "            if ONLY_ENGLISH_WORDS:\n",
    "                        column_name = f'{tag}_clean'   \n",
    "            else:\n",
    "                column_name = f'{tag}'\n",
    "\n",
    "            string_to_list = temp_df[column_name].apply(literal_eval)\n",
    "\n",
    "            if merged_POS:\n",
    "                temp_df['merged_POS'] += string_to_list\n",
    "        \n",
    "        # Save df\n",
    "        temp_df = temp_df[['city_1', 'city_2', 'paragraph_id', 'paragraph', 'article_id', 'title', 'merged_POS']]\n",
    "        temp_df.to_csv(output_fp, index=False)"
   ]
  },
  {
   "cell_type": "code",
   "execution_count": 73,
   "id": "632a3af5",
   "metadata": {},
   "outputs": [
    {
     "data": {
      "text/html": [
       "<div>\n",
       "<style scoped>\n",
       "    .dataframe tbody tr th:only-of-type {\n",
       "        vertical-align: middle;\n",
       "    }\n",
       "\n",
       "    .dataframe tbody tr th {\n",
       "        vertical-align: top;\n",
       "    }\n",
       "\n",
       "    .dataframe thead th {\n",
       "        text-align: right;\n",
       "    }\n",
       "</style>\n",
       "<table border=\"1\" class=\"dataframe\">\n",
       "  <thead>\n",
       "    <tr style=\"text-align: right;\">\n",
       "      <th></th>\n",
       "      <th>city_1</th>\n",
       "      <th>city_2</th>\n",
       "      <th>paragraph_id</th>\n",
       "      <th>paragraph</th>\n",
       "      <th>article_id</th>\n",
       "      <th>title</th>\n",
       "      <th>merged_POS</th>\n",
       "    </tr>\n",
       "  </thead>\n",
       "  <tbody>\n",
       "    <tr>\n",
       "      <th>0</th>\n",
       "      <td>Paris</td>\n",
       "      <td>London</td>\n",
       "      <td>830565</td>\n",
       "      <td>Piip was a member of the Estonian Province Ass...</td>\n",
       "      <td>11414959</td>\n",
       "      <td>Ants Piip</td>\n",
       "      <td>[member, member, member, delegation, peace, ne...</td>\n",
       "    </tr>\n",
       "    <tr>\n",
       "      <th>1</th>\n",
       "      <td>London</td>\n",
       "      <td>Paris</td>\n",
       "      <td>830566</td>\n",
       "      <td>Piip was a member of the Estonian Province Ass...</td>\n",
       "      <td>11414959</td>\n",
       "      <td>Ants Piip</td>\n",
       "      <td>[member, member, member, delegation, peace, ne...</td>\n",
       "    </tr>\n",
       "    <tr>\n",
       "      <th>2</th>\n",
       "      <td>Paris</td>\n",
       "      <td>Munich</td>\n",
       "      <td>830567</td>\n",
       "      <td>Humphrey was born in Saint John, New Brunswick...</td>\n",
       "      <td>11415024</td>\n",
       "      <td>Jack Humphrey</td>\n",
       "      <td>[school, student, school, bear, study, travel,...</td>\n",
       "    </tr>\n",
       "    <tr>\n",
       "      <th>3</th>\n",
       "      <td>Munich</td>\n",
       "      <td>Paris</td>\n",
       "      <td>830568</td>\n",
       "      <td>Humphrey was born in Saint John, New Brunswick...</td>\n",
       "      <td>11415024</td>\n",
       "      <td>Jack Humphrey</td>\n",
       "      <td>[school, student, school, bear, study, travel,...</td>\n",
       "    </tr>\n",
       "    <tr>\n",
       "      <th>4</th>\n",
       "      <td>Turin</td>\n",
       "      <td>Bologna</td>\n",
       "      <td>830569</td>\n",
       "      <td>Born in Bologna, at the age of 15, he began tr...</td>\n",
       "      <td>11415085</td>\n",
       "      <td>Giuseppe Pedretti</td>\n",
       "      <td>[age, opposition, family, son, studio, bear, b...</td>\n",
       "    </tr>\n",
       "  </tbody>\n",
       "</table>\n",
       "</div>"
      ],
      "text/plain": [
       "   city_1   city_2  paragraph_id  \\\n",
       "0   Paris   London        830565   \n",
       "1  London    Paris        830566   \n",
       "2   Paris   Munich        830567   \n",
       "3  Munich    Paris        830568   \n",
       "4   Turin  Bologna        830569   \n",
       "\n",
       "                                           paragraph  article_id  \\\n",
       "0  Piip was a member of the Estonian Province Ass...    11414959   \n",
       "1  Piip was a member of the Estonian Province Ass...    11414959   \n",
       "2  Humphrey was born in Saint John, New Brunswick...    11415024   \n",
       "3  Humphrey was born in Saint John, New Brunswick...    11415024   \n",
       "4  Born in Bologna, at the age of 15, he began tr...    11415085   \n",
       "\n",
       "               title                                         merged_POS  \n",
       "0          Ants Piip  [member, member, member, delegation, peace, ne...  \n",
       "1          Ants Piip  [member, member, member, delegation, peace, ne...  \n",
       "2      Jack Humphrey  [school, student, school, bear, study, travel,...  \n",
       "3      Jack Humphrey  [school, student, school, bear, study, travel,...  \n",
       "4  Giuseppe Pedretti  [age, opposition, family, son, studio, bear, b...  "
      ]
     },
     "execution_count": 73,
     "metadata": {},
     "output_type": "execute_result"
    }
   ],
   "source": [
    "temp_df[['city_1', 'city_2', 'paragraph_id', 'paragraph', 'article_id', 'title', 'merged_POS']].head(5)"
   ]
  },
  {
   "cell_type": "code",
   "execution_count": 48,
   "id": "d1c1619c",
   "metadata": {},
   "outputs": [
    {
     "data": {
      "application/vnd.jupyter.widget-view+json": {
       "model_id": "89eabefb81c1455ebd3325fe6d3f7b5c",
       "version_major": 2,
       "version_minor": 0
      },
      "text/plain": [
       "  0%|          | 0/20 [00:00<?, ?it/s]"
      ]
     },
     "metadata": {},
     "output_type": "display_data"
    }
   ],
   "source": [
    "dataframes = []\n",
    "\n",
    "for file in tqdm(os.listdir(files_output_dir)):\n",
    "    fp = os.path.join(files_output_dir, file)\n",
    "    \n",
    "    temp_df = pd.read_csv(fp)\n",
    "    dataframes.append(temp_df)"
   ]
  },
  {
   "cell_type": "code",
   "execution_count": 49,
   "id": "c217ef14",
   "metadata": {},
   "outputs": [
    {
     "data": {
      "text/plain": [
       "20"
      ]
     },
     "execution_count": 49,
     "metadata": {},
     "output_type": "execute_result"
    }
   ],
   "source": [
    "len(dataframes)"
   ]
  },
  {
   "cell_type": "code",
   "execution_count": 50,
   "id": "6b72abe8",
   "metadata": {},
   "outputs": [
    {
     "data": {
      "text/html": [
       "<div>\n",
       "<style scoped>\n",
       "    .dataframe tbody tr th:only-of-type {\n",
       "        vertical-align: middle;\n",
       "    }\n",
       "\n",
       "    .dataframe tbody tr th {\n",
       "        vertical-align: top;\n",
       "    }\n",
       "\n",
       "    .dataframe thead th {\n",
       "        text-align: right;\n",
       "    }\n",
       "</style>\n",
       "<table border=\"1\" class=\"dataframe\">\n",
       "  <thead>\n",
       "    <tr style=\"text-align: right;\">\n",
       "      <th></th>\n",
       "      <th>city_1</th>\n",
       "      <th>city_2</th>\n",
       "      <th>paragraph</th>\n",
       "      <th>article_id</th>\n",
       "      <th>title</th>\n",
       "      <th>merged_POS</th>\n",
       "    </tr>\n",
       "    <tr>\n",
       "      <th>paragraph_id</th>\n",
       "      <th></th>\n",
       "      <th></th>\n",
       "      <th></th>\n",
       "      <th></th>\n",
       "      <th></th>\n",
       "      <th></th>\n",
       "    </tr>\n",
       "  </thead>\n",
       "  <tbody>\n",
       "    <tr>\n",
       "      <th>1</th>\n",
       "      <td>Birmingham</td>\n",
       "      <td>Florence</td>\n",
       "      <td>The first community of adherents of the Baha'i...</td>\n",
       "      <td>303</td>\n",
       "      <td>Alabama</td>\n",
       "      <td>['community', 'adherent', 'center', 'found', '...</td>\n",
       "    </tr>\n",
       "    <tr>\n",
       "      <th>2</th>\n",
       "      <td>Florence</td>\n",
       "      <td>Birmingham</td>\n",
       "      <td>The first community of adherents of the Baha'i...</td>\n",
       "      <td>303</td>\n",
       "      <td>Alabama</td>\n",
       "      <td>['community', 'adherent', 'center', 'found', '...</td>\n",
       "    </tr>\n",
       "    <tr>\n",
       "      <th>3</th>\n",
       "      <td>Paris</td>\n",
       "      <td>London</td>\n",
       "      <td>A major revision of the work by composer and a...</td>\n",
       "      <td>309</td>\n",
       "      <td>An American in Paris</td>\n",
       "      <td>['revision', 'work', 'composer', 'arranger', '...</td>\n",
       "    </tr>\n",
       "    <tr>\n",
       "      <th>4</th>\n",
       "      <td>London</td>\n",
       "      <td>Paris</td>\n",
       "      <td>A major revision of the work by composer and a...</td>\n",
       "      <td>309</td>\n",
       "      <td>An American in Paris</td>\n",
       "      <td>['revision', 'work', 'composer', 'arranger', '...</td>\n",
       "    </tr>\n",
       "    <tr>\n",
       "      <th>5</th>\n",
       "      <td>Madrid</td>\n",
       "      <td>Rome</td>\n",
       "      <td>Access to biocapacity in Algeria is lower than...</td>\n",
       "      <td>358</td>\n",
       "      <td>Algeria</td>\n",
       "      <td>['access', 'world', 'hectare', 'person', 'terr...</td>\n",
       "    </tr>\n",
       "    <tr>\n",
       "      <th>...</th>\n",
       "      <td>...</td>\n",
       "      <td>...</td>\n",
       "      <td>...</td>\n",
       "      <td>...</td>\n",
       "      <td>...</td>\n",
       "      <td>...</td>\n",
       "    </tr>\n",
       "    <tr>\n",
       "      <th>2076400</th>\n",
       "      <td>Paris</td>\n",
       "      <td>Stockholm</td>\n",
       "      <td>Mundhir participated in Arab and international...</td>\n",
       "      <td>70585176</td>\n",
       "      <td>Mundhir Masri</td>\n",
       "      <td>['festival', 'seminar', 'guest', 'participate'...</td>\n",
       "    </tr>\n",
       "    <tr>\n",
       "      <th>2076401</th>\n",
       "      <td>London</td>\n",
       "      <td>Paris</td>\n",
       "      <td>Mundhir participated in Arab and international...</td>\n",
       "      <td>70585176</td>\n",
       "      <td>Mundhir Masri</td>\n",
       "      <td>['festival', 'seminar', 'guest', 'participate'...</td>\n",
       "    </tr>\n",
       "    <tr>\n",
       "      <th>2076402</th>\n",
       "      <td>London</td>\n",
       "      <td>Stockholm</td>\n",
       "      <td>Mundhir participated in Arab and international...</td>\n",
       "      <td>70585176</td>\n",
       "      <td>Mundhir Masri</td>\n",
       "      <td>['festival', 'seminar', 'guest', 'participate'...</td>\n",
       "    </tr>\n",
       "    <tr>\n",
       "      <th>2076403</th>\n",
       "      <td>Stockholm</td>\n",
       "      <td>Paris</td>\n",
       "      <td>Mundhir participated in Arab and international...</td>\n",
       "      <td>70585176</td>\n",
       "      <td>Mundhir Masri</td>\n",
       "      <td>['festival', 'seminar', 'guest', 'participate'...</td>\n",
       "    </tr>\n",
       "    <tr>\n",
       "      <th>2076404</th>\n",
       "      <td>Stockholm</td>\n",
       "      <td>London</td>\n",
       "      <td>Mundhir participated in Arab and international...</td>\n",
       "      <td>70585176</td>\n",
       "      <td>Mundhir Masri</td>\n",
       "      <td>['festival', 'seminar', 'guest', 'participate'...</td>\n",
       "    </tr>\n",
       "  </tbody>\n",
       "</table>\n",
       "<p>2076404 rows × 6 columns</p>\n",
       "</div>"
      ],
      "text/plain": [
       "                  city_1      city_2  \\\n",
       "paragraph_id                           \n",
       "1             Birmingham    Florence   \n",
       "2               Florence  Birmingham   \n",
       "3                  Paris      London   \n",
       "4                 London       Paris   \n",
       "5                 Madrid        Rome   \n",
       "...                  ...         ...   \n",
       "2076400            Paris   Stockholm   \n",
       "2076401           London       Paris   \n",
       "2076402           London   Stockholm   \n",
       "2076403        Stockholm       Paris   \n",
       "2076404        Stockholm      London   \n",
       "\n",
       "                                                      paragraph  article_id  \\\n",
       "paragraph_id                                                                  \n",
       "1             The first community of adherents of the Baha'i...         303   \n",
       "2             The first community of adherents of the Baha'i...         303   \n",
       "3             A major revision of the work by composer and a...         309   \n",
       "4             A major revision of the work by composer and a...         309   \n",
       "5             Access to biocapacity in Algeria is lower than...         358   \n",
       "...                                                         ...         ...   \n",
       "2076400       Mundhir participated in Arab and international...    70585176   \n",
       "2076401       Mundhir participated in Arab and international...    70585176   \n",
       "2076402       Mundhir participated in Arab and international...    70585176   \n",
       "2076403       Mundhir participated in Arab and international...    70585176   \n",
       "2076404       Mundhir participated in Arab and international...    70585176   \n",
       "\n",
       "                             title  \\\n",
       "paragraph_id                         \n",
       "1                          Alabama   \n",
       "2                          Alabama   \n",
       "3             An American in Paris   \n",
       "4             An American in Paris   \n",
       "5                          Algeria   \n",
       "...                            ...   \n",
       "2076400              Mundhir Masri   \n",
       "2076401              Mundhir Masri   \n",
       "2076402              Mundhir Masri   \n",
       "2076403              Mundhir Masri   \n",
       "2076404              Mundhir Masri   \n",
       "\n",
       "                                                     merged_POS  \n",
       "paragraph_id                                                     \n",
       "1             ['community', 'adherent', 'center', 'found', '...  \n",
       "2             ['community', 'adherent', 'center', 'found', '...  \n",
       "3             ['revision', 'work', 'composer', 'arranger', '...  \n",
       "4             ['revision', 'work', 'composer', 'arranger', '...  \n",
       "5             ['access', 'world', 'hectare', 'person', 'terr...  \n",
       "...                                                         ...  \n",
       "2076400       ['festival', 'seminar', 'guest', 'participate'...  \n",
       "2076401       ['festival', 'seminar', 'guest', 'participate'...  \n",
       "2076402       ['festival', 'seminar', 'guest', 'participate'...  \n",
       "2076403       ['festival', 'seminar', 'guest', 'participate'...  \n",
       "2076404       ['festival', 'seminar', 'guest', 'participate'...  \n",
       "\n",
       "[2076404 rows x 6 columns]"
      ]
     },
     "execution_count": 50,
     "metadata": {},
     "output_type": "execute_result"
    }
   ],
   "source": [
    "# frames = [citypair['lemmatized_paragraphs'] for citypair in data_list]\n",
    "# citypairs = [citypair['city_pair'] for citypair in data_list]\n",
    "\n",
    "result = pd.concat(dataframes) #, keys=citypairs)\n",
    "result.set_index('paragraph_id', inplace=True)\n",
    "result.sort_index(inplace=True)\n",
    "# result.reset_index(inplace=True)\n",
    "\n",
    "# paris_london = result.loc[\"paris_london\"]\n",
    "# paris_london.set_index('paragraph_id', inplace=True)\n",
    "# paris_london\n",
    "\n",
    "result #.iloc[21051]"
   ]
  },
  {
   "cell_type": "markdown",
   "id": "3dfdf42e",
   "metadata": {},
   "source": [
    "## Vectorize data"
   ]
  },
  {
   "cell_type": "code",
   "execution_count": null,
   "id": "be937db2",
   "metadata": {},
   "outputs": [],
   "source": [
    "%%time\n",
    "\n",
    "result.merged_POS =  result.merged_POS.apply(literal_eval)"
   ]
  },
  {
   "cell_type": "code",
   "execution_count": 12,
   "id": "3f2bdd4e",
   "metadata": {},
   "outputs": [
    {
     "name": "stdout",
     "output_type": "stream",
     "text": [
      "CPU times: total: 6min 48s\n",
      "Wall time: 9min 38s\n"
     ]
    }
   ],
   "source": [
    "%%time\n",
    "\n",
    "paragraphs = result.merged_POS\n",
    "MIN_DF = 0.1\n",
    "MAX_DF = 0.8\n",
    "\n",
    "# Vectorization\n",
    "dictionary, corpus = vectorize(paragraphs, MIN_DF=MIN_DF, MAX_DF=MAX_DF)"
   ]
  },
  {
   "cell_type": "markdown",
   "id": "7aaae8b2",
   "metadata": {},
   "source": [
    "## Train Single LDA Model"
   ]
  },
  {
   "cell_type": "code",
   "execution_count": 7,
   "id": "6453768d",
   "metadata": {},
   "outputs": [],
   "source": [
    "def train_lda_model(lemmatized_text, dictionary=[], corpus=[], MIN_DF = 0.05, MAX_DF = 0.9, N_TOPICS = 10, N_ITERATIONS = 1000, PATH_TO_MALLET=r'C:/mallet/bin/mallet.bat', GET_COHERENCE_SCORE=True, COHERENCE='c_v'):\n",
    "    \"\"\"\n",
    "    --> function that trains model.\n",
    "\n",
    "        Parameters:\n",
    "        -----------\n",
    "            lemmatized_text: list, str -> contains the key words to be matched (created with the lemmatization function)\n",
    "            dictionary: gensim.corpora.dictionary.Dictionary -> output from vectorization function\n",
    "            corpus: list ([dictionary.doc2bow(text)...) -> output from vectorization function\n",
    "            MIN_DF: int (default = 1) -> minimum document frequency\n",
    "            MAX_DF: int (default = 0.6) -> maximum document frequency\n",
    "            N_TOPICS: int (default = 10) -> Topics to detect\n",
    "            N_ITERATIONS: int (default = 1000) -> 1000 often enough\n",
    "            PATH_TO_MALLET: str (default = 'C:/mallet/bin/mallet.bat') -> location of your mallet execution file\n",
    "            GET_COHERENCE_SCORE: Bool (default = True) -> Whether the coherence should be calculated\n",
    "            COHERENCE: Str ( default = 'c_v') -> ..\n",
    "\n",
    "    \"\"\"\n",
    "\n",
    "    # Call vectorization function if either dictionary or corpus is missing as parameter\n",
    "    if not type(dictionary) == gensim.corpora.dictionary.Dictionary or not corpus:\n",
    "        dictionary, corpus = vectorize(lemmatized_text, MIN_DF, MAX_DF)\n",
    "\n",
    "    print(f\"topics: {N_TOPICS}, MIN_DF: {MIN_DF}, MAX_DF: {MAX_DF}\")\n",
    "\n",
    "    lda_model = LdaMallet(PATH_TO_MALLET,\n",
    "                corpus=corpus,\n",
    "                id2word=dictionary,\n",
    "                num_topics=N_TOPICS,\n",
    "                # alpha=auto,\n",
    "                optimize_interval=10,\n",
    "                iterations=N_ITERATIONS)\n",
    "    \n",
    "\n",
    "    output = {'lda_model': lda_model, 'coherence_score': None, 'dictionary': dictionary, 'corpus': corpus}\n",
    "\n",
    "    if GET_COHERENCE_SCORE:\n",
    "        output['coherence_score'] = calculate_coherence_score(MODEL=lda_model, LEMMATIZED_TEXT=lemmatized_text, DICTIONARY=dictionary, COHERENCE=COHERENCE)\n",
    "\n",
    "    return(output)\n",
    "\n",
    "def calculate_coherence_score(MODEL, LEMMATIZED_TEXT, DICTIONARY, COHERENCE='c_v'):\n",
    "    \"\"\"\n",
    "    --> function that calculates the coherence score of an LDA model.\n",
    "\n",
    "        Parameters:\n",
    "        -----------\n",
    "            MODEL: LdaMallet -> LDA model to save\n",
    "            LEMMATIZED_TEXT: list -> lemmatised documents\n",
    "            DICTIONARY: gensim.corpora.dictionary.Dictionary -> Dictionary\n",
    "            MIN_DF: int (default = 1) -> minimum document frequency\n",
    "            MAX_DF: int (default = 0.6) -> maximum document frequency\n",
    "\n",
    "    \"\"\"\n",
    "    coherence_score = CoherenceModel(model=MODEL, texts=LEMMATIZED_TEXT, dictionary=DICTIONARY, coherence=COHERENCE).get_coherence()\n",
    "    return coherence_score"
   ]
  },
  {
   "cell_type": "code",
   "execution_count": 13,
   "id": "fa9a4472",
   "metadata": {},
   "outputs": [
    {
     "name": "stdout",
     "output_type": "stream",
     "text": [
      "topics: 6, MIN_DF: 0.1, MAX_DF: 0.8\n",
      "dict_keys(['lda_model', 'coherence_score', 'dictionary', 'corpus'])\n",
      "CPU times: total: 3min 19s\n",
      "Wall time: 57min 34s\n"
     ]
    }
   ],
   "source": [
    "%%time\n",
    "\n",
    "# result.merged_POS =  result.merged_POS.apply(literal_eval)\n",
    "\n",
    "# paragraphs = result.merged_POS\n",
    "# MIN_DF = 0.1\n",
    "# MAX_DF = 0.8\n",
    "\n",
    "# # Vectorization\n",
    "# dictionary, corpus = vectorize(paragraphs, MIN_DF=MIN_DF, MAX_DF=MAX_DF)\n",
    "\n",
    "N_TOPICS = 6\n",
    "model_dict = train_lda_model(lemmatized_text=paragraphs,\n",
    "                            dictionary=dictionary,\n",
    "                            corpus=corpus,\n",
    "                            MIN_DF=MIN_DF,\n",
    "                            MAX_DF=MAX_DF,\n",
    "                            N_TOPICS=N_TOPICS\n",
    "                            # random_seed=0, should be added to allow the same results!\n",
    "                            )\n",
    "\n",
    "print(model_dict.keys())"
   ]
  },
  {
   "cell_type": "code",
   "execution_count": 14,
   "id": "955f72bf",
   "metadata": {},
   "outputs": [
    {
     "data": {
      "text/plain": [
       "'0.6474286981936997'"
      ]
     },
     "execution_count": 14,
     "metadata": {},
     "output_type": "execute_result"
    }
   ],
   "source": [
    "model_dict['coherence_score']"
   ]
  },
  {
   "cell_type": "markdown",
   "id": "84a1819d",
   "metadata": {},
   "source": [
    "## Load Single LDA Model\n",
    "\n",
    "### Only run if a). you want to load a previously trained model or b). the model_dict variable is empty"
   ]
  },
  {
   "cell_type": "code",
   "execution_count": 11,
   "id": "c7b86727",
   "metadata": {},
   "outputs": [],
   "source": [
    "# Load_lda_model\n",
    "from IPython.display import HTML\n",
    "\n",
    "def load_lda_model(INPUT_DIR, LOAD_VIS=True, LOAD_DICT=True, LOAD_TEXTS=True, LOAD_COHERENCE_SCORE=False):\n",
    "    \"\"\"\n",
    "    --> function that loads an LDA model.\n",
    "\n",
    "        Parameters:\n",
    "        -----------\n",
    "            INPUT_DIR: Str -> input directory path where the model resides\n",
    "            LOAD_VIS: Bool (default = True) -> load pyLDAvis visualisation\n",
    "            LOAD_DICT:  Bool (default = True) -> load gensim.corpora.dictionary.Dictionary\n",
    "            LOAD_TEXTS:  Bool (default = True) -> load lemmatised_documents\n",
    "            LOAD_COHERENCE_SCORE: Bool (default = False) -> calculate coherence score\n",
    "\n",
    "    \"\"\"\n",
    "\n",
    "    name = os.path.basename(INPUT_DIR)\n",
    "    output = {'lda_model': None, 'coherence_score': None, 'visualisation': None, 'texts': None, 'dictionary': None}\n",
    "\n",
    "    if os.path.exists(INPUT_DIR):\n",
    "        files = os.listdir(INPUT_DIR)\n",
    "\n",
    "        for file in files:\n",
    "            path = os.path.abspath(os.path.join(INPUT_DIR, file))\n",
    "\n",
    "            if file.endswith('.model'):\n",
    "                output['lda_model'] = gensim.models.LdaModel.load(path)\n",
    "            elif file.endswith('.html') and LOAD_VIS:\n",
    "                output['visualisation'] = HTML(filename=path)\n",
    "            elif file.endswith('.dict') and LOAD_DICT:\n",
    "                output['dictionary'] = Dictionary.load(path)\n",
    "            elif file.endswith('.pickle') and LOAD_TEXTS:\n",
    "                with open(path, 'rb') as fp:\n",
    "                    output['texts'] = pickle.load(fp)\n",
    "            elif file.endswith('.txt'):\n",
    "                output['coherence_score'] = file[:-4]\n",
    "\n",
    "    if LOAD_COHERENCE_SCORE and output['coherence_score'] is None:\n",
    "        if output['texts'] is None:\n",
    "            raise Exception(\"LOAD_TEXTS=True Parameter and .pickle file is required to calculate the coherence score.\")\n",
    "        if output['dictionary'] is None:\n",
    "            raise Exception(\"LOAD_DICT=True Parameter and .pickle file is required to calculate the coherence score.\")\n",
    "\n",
    "        output['coherence_score'] = calculate_coherence_score(MODEL=output['lda_model'], LEMMATIZED_TEXT=output['texts'], DICTIONARY=output['dictionary'], COHERENCE='c_v')\n",
    "\n",
    "    return(output)"
   ]
  },
  {
   "cell_type": "code",
   "execution_count": 12,
   "id": "01e02335",
   "metadata": {},
   "outputs": [
    {
     "name": "stderr",
     "output_type": "stream",
     "text": [
      "WARNING:root:random_state not set so using default value\n",
      "WARNING:root:failed to load state from C:\\Users\\diede\\Personal Files [Local]\\Applied Data Science\\Thesis - CITYNET\\citynet\\src\\analyses\\Diederik_Clean\\lda_model_2million\\lda_model_2million_model.model.state: [Errno 2] No such file or directory: 'C:\\\\Users\\\\diede\\\\Personal Files [Local]\\\\Applied Data Science\\\\Thesis - CITYNET\\\\citynet\\\\src\\\\analyses\\\\Diederik_Clean\\\\lda_model_2million\\\\lda_model_2million_model.model.state'\n"
     ]
    },
    {
     "name": "stdout",
     "output_type": "stream",
     "text": [
      "dict_keys(['lda_model', 'coherence_score', 'visualisation', 'texts', 'dictionary'])\n"
     ]
    }
   ],
   "source": [
    "%%time\n",
    "\n",
    "# Give path to model\n",
    "single_model_path = 'lda_model_2million/'\n",
    "forced_single_model_path = os.path.abspath(single_model_path)\n",
    "\n",
    "LOAD_VIS=True,\n",
    "LOAD_DICT=True,\n",
    "LOAD_TEXTS=True,\n",
    "LOAD_COHERENCE_SCORE=True\n",
    "\n",
    "if os.path.exists(forced_single_model_path):\n",
    "    model_dict = load_lda_model(forced_single_model_path,\n",
    "                           LOAD_VIS=LOAD_VIS,\n",
    "                           LOAD_DICT=LOAD_DICT,\n",
    "                           LOAD_TEXTS=LOAD_TEXTS,\n",
    "                           LOAD_COHERENCE_SCORE=LOAD_COHERENCE_SCORE)\n",
    "    print(model_dict.keys())\n",
    "else:\n",
    "    print('Path is invalid')"
   ]
  },
  {
   "cell_type": "markdown",
   "id": "eb11ea7f",
   "metadata": {},
   "source": [
    "## OPTIONAL: Set up Corpus as well"
   ]
  },
  {
   "cell_type": "code",
   "execution_count": 21,
   "id": "347efdc9",
   "metadata": {},
   "outputs": [
    {
     "name": "stdout",
     "output_type": "stream",
     "text": [
      "CPU times: total: 10min 51s\n",
      "Wall time: 18min 32s\n"
     ]
    }
   ],
   "source": [
    "%%time\n",
    "\n",
    "# Get corpus\n",
    "\n",
    "dictionary = model_dict['dictionary']\n",
    "model_dict['corpus'] = [dictionary.doc2bow(text) for text in model_dict['texts']]"
   ]
  },
  {
   "cell_type": "code",
   "execution_count": null,
   "id": "3474b3d4",
   "metadata": {},
   "outputs": [],
   "source": [
    "try:\n",
    "    corpus\n",
    "except NameError:\n",
    "    corpus = model_dict['corpus']\n",
    "\n",
    "try:\n",
    "    dictionary\n",
    "except NameError:\n",
    "    dictionary = model_dict['dictionary']"
   ]
  },
  {
   "cell_type": "markdown",
   "id": "87416a6e",
   "metadata": {},
   "source": [
    "## Visualisation"
   ]
  },
  {
   "cell_type": "code",
   "execution_count": 16,
   "id": "fa64ff01",
   "metadata": {},
   "outputs": [],
   "source": [
    "def visualise_topics(lda_model, corpus, dictionary, sort_topics=False):\n",
    "    lda_conv = gensim.models.wrappers.ldamallet.malletmodel2ldamodel(lda_model)\n",
    "    vis = gensimvis.prepare(lda_conv, corpus, dictionary, sort_topics=False)\n",
    "    \n",
    "    print(vis.topic_order)\n",
    "    \n",
    "    return vis"
   ]
  },
  {
   "cell_type": "code",
   "execution_count": 13,
   "id": "c8cacbc4",
   "metadata": {},
   "outputs": [
    {
     "data": {
      "text/html": [
       "\n",
       "<link rel=\"stylesheet\" type=\"text/css\" href=\"https://cdn.jsdelivr.net/gh/bmabey/pyLDAvis@3.3.1/pyLDAvis/js/ldavis.v1.0.0.css\">\n",
       "\n",
       "\n",
       "<div id=\"ldavis_el127561735360153520103126311\"></div>\n",
       "<script type=\"text/javascript\">\n",
       "\n",
       "var ldavis_el127561735360153520103126311_data = {\"mdsDat\": {\"x\": [-0.16224707406213704, 0.244797355348301, 0.09792672337152612, -0.14188594591699347, -0.07909259150395095, 0.040501532763254695], \"y\": [0.04856702992555073, -0.09228300181215575, 0.07915941898072869, -0.2508508986285366, 0.18059313833681553, 0.034814313197597105], \"topics\": [1, 2, 3, 4, 5, 6], \"cluster\": [1, 1, 1, 1, 1, 1], \"Freq\": [14.140510583253537, 10.818939918021552, 15.212947266038224, 19.097515792887553, 21.686267536041314, 19.043818903757828]}, \"tinfo\": {\"Term\": [\"win\", \"season\", \"club\", \"study\", \"service\", \"play\", \"goal\", \"perform\", \"team\", \"match\", \"work\", \"score\", \"line\", \"game\", \"station\", \"train\", \"route\", \"final\", \"opera\", \"tour\", \"concert\", \"railway\", \"music\", \"performance\", \"film\", \"league\", \"city\", \"bear\", \"role\", \"debut\", \"sing\", \"bassoon\", \"rex\", \"alto\", \"arranger\", \"baritone\", \"contrabassoon\", \"saxophone\", \"soprano\", \"tenor\", \"concert\", \"operetta\", \"premiere\", \"chorus\", \"recital\", \"concerto\", \"oratorio\", \"zither\", \"rehearsing\", \"worked\", \"buffa\", \"libretto\", \"orchestra\", \"orchestral\", \"ritornelli\", \"ritornello\", \"symphonic\", \"fandango\", \"sevillanas\", \"soundtrack\", \"opera\", \"album\", \"conductor\", \"song\", \"perform\", \"soloist\", \"recording\", \"band\", \"audition\", \"operatic\", \"symphony\", \"singe\", \"gig\", \"repertoire\", \"bass\", \"ensemble\", \"jazz\", \"film\", \"singer\", \"festival\", \"ballet\", \"music\", \"musical\", \"tour\", \"theatre\", \"composer\", \"performance\", \"role\", \"production\", \"guest\", \"conduct\", \"piano\", \"release\", \"stage\", \"debut\", \"include\", \"play\", \"work\", \"year\", \"world\", \"record\", \"show\", \"time\", \"follow\", \"hourly\", \"trainline\", \"intercity\", \"airline\", \"fuselage\", \"freight\", \"tramway\", \"expressway\", \"bascule\", \"vicinal\", \"trolleybus\", \"MHz\", \"monorail\", \"camshaft\", \"autoroute\", \"thrice\", \"subsonic\", \"flyover\", \"haulage\", \"southbound\", \"hauling\", \"onwards\", \"preallocated\", \"northbound\", \"transhipment\", \"autopista\", \"unelectrified\", \"nonstop\", \"insolation\", \"upwelling\", \"passenger\", \"locomotive\", \"terminus\", \"tram\", \"timetable\", \"railway\", \"rail\", \"electrify\", \"motorway\", \"electrification\", \"airport\", \"gauge\", \"mainline\", \"speed\", \"turboprop\", \"viaduct\", \"carriageway\", \"autobahn\", \"route\", \"railcar\", \"max\", \"km\", \"traffic\", \"terminal\", \"station\", \"plurality\", \"bus\", \"haul\", \"junction\", \"ferry\", \"line\", \"constituency\", \"destination\", \"carrier\", \"service\", \"train\", \"connect\", \"flight\", \"operate\", \"allocate\", \"seat\", \"hub\", \"aircraft\", \"connection\", \"network\", \"link\", \"hour\", \"run\", \"road\", \"schedule\", \"serve\", \"system\", \"stop\", \"build\", \"main\", \"city\", \"high\", \"open\", \"include\", \"time\", \"number\", \"company\", \"start\", \"year\", \"canner\", \"censer\", \"longue\", \"kufic\", \"dough\", \"piedra\", \"texturing\", \"sherd\", \"sherry\", \"sternum\", \"metatarsus\", \"tubercle\", \"bugle\", \"brackish\", \"shipworm\", \"scriptoria\", \"aquifer\", \"octagonal\", \"mulberry\", \"exurb\", \"adjectival\", \"dative\", \"sympatric\", \"eggshell\", \"holotype\", \"bathyscaphe\", \"nucleated\", \"fastback\", \"chlorinate\", \"magi\", \"retail\", \"shopping\", \"boutique\", \"software\", \"mall\", \"skyscraper\", \"retailer\", \"needle\", \"store\", \"bonnet\", \"elm\", \"capita\", \"rectangular\", \"arcade\", \"lending\", \"tile\", \"gable\", \"fragrance\", \"vendor\", \"nave\", \"conglomerate\", \"piazza\", \"bureaux\", \"habitat\", \"incubator\", \"domed\", \"urbanization\", \"clearinghouse\", \"startup\", \"feather\", \"sudanese\", \"populous\", \"brick\", \"perfume\", \"somali\", \"stripe\", \"tower\", \"housing\", \"facade\", \"showroom\", \"mint\", \"building\", \"headquarter\", \"urban\", \"office\", \"firm\", \"pride\", \"population\", \"global\", \"industry\", \"campus\", \"export\", \"fashion\", \"design\", \"restaurant\", \"square\", \"site\", \"metropolitan\", \"century\", \"market\", \"large\", \"location\", \"city\", \"area\", \"bank\", \"region\", \"statue\", \"glass\", \"business\", \"development\", \"centre\", \"company\", \"community\", \"model\", \"project\", \"locate\", \"build\", \"open\", \"amp\", \"branch\", \"found\", \"base\", \"include\", \"town\", \"establish\", \"country\", \"event\", \"create\", \"world\", \"hold\", \"work\", \"year\", \"place\", \"form\", \"number\", \"time\", \"defending\", \"adductor\", \"quarterfinal\", \"championship\", \"scorecard\", \"sprinting\", \"derby\", \"unbeaten\", \"knockout\", \"contester\", \"winless\", \"midfielder\", \"goalkeeper\", \"relegation\", \"offside\", \"refereeing\", \"replay\", \"motocross\", \"scorer\", \"midfield\", \"capped\", \"trophyless\", \"hurling\", \"playoff\", \"hurdler\", \"reliever\", \"header\", \"teammate\", \"outfield\", \"goalless\", \"match\", \"goal\", \"game\", \"league\", \"tournament\", \"football\", \"club\", \"score\", \"aggregate\", \"semifinal\", \"brace\", \"relegate\", \"scoring\", \"team\", \"penalty\", \"beat\", \"striker\", \"trophy\", \"fixture\", \"footballer\", \"runner\", \"season\", \"player\", \"final\", \"champion\", \"injury\", \"win\", \"loan\", \"victory\", \"substitute\", \"defeat\", \"round\", \"finish\", \"semi\", \"draw\", \"lose\", \"manager\", \"play\", \"minute\", \"home\", \"point\", \"sign\", \"competition\", \"place\", \"appearance\", \"end\", \"time\", \"start\", \"year\", \"title\", \"follow\", \"cognitive\", \"hermeneutic\", \"eccl\", \"dissertation\", \"mathematic\", \"professorship\", \"medicine\", \"contrapposto\", \"vitalism\", \"physic\", \"silverpoint\", \"drypoint\", \"anatomy\", \"rationalistic\", \"conceptional\", \"cuneiform\", \"etiology\", \"colloquialism\", \"redemptor\", \"bantu\", \"grammatical\", \"watercolour\", \"neurology\", \"erudition\", \"zoology\", \"ornithology\", \"scriptural\", \"phonetician\", \"antibiotic\", \"solemnise\", \"doctorate\", \"painter\", \"lecturer\", \"philosophy\", \"thesis\", \"professor\", \"theology\", \"doctoral\", \"physics\", \"fellowship\", \"habilitation\", \"philology\", \"sociology\", \"postgraduate\", \"chemistry\", \"vol\", \"postdoctoral\", \"botany\", \"bachelor\", \"watercolor\", \"emeritus\", \"painting\", \"undergraduate\", \"physiology\", \"portrait\", \"degree\", \"nee\", \"curator\", \"educate\", \"graduate\", \"literature\", \"study\", \"exhibit\", \"exhibition\", \"literary\", \"enrol\", \"teach\", \"school\", \"science\", \"paint\", \"father\", \"art\", \"education\", \"lecture\", \"publish\", \"bear\", \"research\", \"work\", \"university\", \"son\", \"student\", \"book\", \"family\", \"attend\", \"artist\", \"marry\", \"move\", \"year\", \"receive\", \"visit\", \"travel\", \"live\", \"die\", \"member\", \"include\", \"return\", \"time\", \"hold\", \"appal\", \"virulent\", \"wreak\", \"jurat\", \"wounding\", \"expeditionary\", \"appeasement\", \"liberator\", \"unsolved\", \"debilitate\", \"expedient\", \"napalm\", \"forgave\", \"abjure\", \"conclave\", \"sentencing\", \"inflame\", \"mustache\", \"arbitrate\", \"exculpate\", \"lazaret\", \"marcher\", \"recrimination\", \"insurgency\", \"conciliation\", \"federalist\", \"metropolitanate\", \"discord\", \"seditious\", \"belorussian\", \"consulate\", \"arrest\", \"squadron\", \"bomber\", \"protester\", \"commander\", \"enemy\", \"battalion\", \"troop\", \"brigade\", \"besiege\", \"destroyer\", \"terrorist\", \"envoy\", \"garrison\", \"frigate\", \"raid\", \"escort\", \"treaty\", \"depose\", \"deportation\", \"torture\", \"march\", \"legate\", \"patrol\", \"convoy\", \"sortie\", \"armistice\", \"police\", \"faction\", \"protest\", \"command\", \"embassy\", \"sentence\", \"siege\", \"bombing\", \"bomb\", \"army\", \"legation\", \"imprison\", \"invade\", \"ally\", \"attack\", \"prisoner\", \"diplomatic\", \"mission\", \"peace\", \"force\", \"prison\", \"kill\", \"bishop\", \"war\", \"invasion\", \"capture\", \"camp\", \"anti\", \"party\", \"government\", \"arrive\", \"military\", \"officer\", \"ambassador\", \"sail\", \"send\", \"order\", \"ship\", \"king\", \"support\", \"german\", \"state\", \"leave\", \"french\", \"fight\", \"return\", \"general\", \"day\", \"political\", \"people\", \"british\", \"city\", \"man\", \"time\", \"year\", \"follow\", \"lead\", \"member\", \"end\", \"join\", \"hold\", \"remain\", \"visit\", \"include\", \"serve\"], \"Freq\": [472168.0, 379894.0, 278190.0, 347605.0, 225427.0, 376253.0, 234075.0, 199583.0, 229370.0, 199329.0, 556948.0, 211381.0, 170727.0, 183513.0, 140775.0, 155490.0, 125696.0, 212148.0, 126684.0, 165004.0, 104645.0, 95674.0, 117826.0, 128972.0, 107744.0, 119475.0, 351321.0, 272954.0, 127523.0, 144360.0, 77686.29833220359, 468.2530237816659, 147.75984305999236, 1080.1036415230426, 563.9847530881399, 5760.552754789561, 16.6489964011259, 1413.0835695455607, 12590.803528351462, 10214.15929209074, 104645.1857547267, 4376.604928945971, 62910.31402620435, 3698.1583256000904, 17123.49279855799, 7797.973689377343, 4449.444288200896, 74.92048380506655, 16.6489964011259, 14.567871850985163, 362.1156717244883, 6813.601777160774, 54038.480068954384, 5675.226648233791, 2.0811245501407374, 6.243373650422212, 3067.577586907447, 2.0811245501407374, 2.0811245501407374, 1927.121333430323, 126683.25417844203, 45262.3778410109, 41592.31469683771, 43215.591845947485, 195178.26593494907, 18836.258303323815, 22390.819034964195, 58549.31753138444, 12576.235656500476, 11633.486235286722, 9974.829968824555, 17115.16830035742, 7323.477291945255, 15306.671066285124, 6312.050760576857, 16742.647005882234, 8689.735559112649, 103440.21464019522, 31325.08672871838, 73517.80585827169, 13162.072217365094, 107287.17337113037, 33920.249042743875, 144816.09238381826, 44155.21958033602, 35335.41373683958, 107986.43121997765, 106731.51311624279, 73955.88257607631, 45333.13607571568, 58322.47495541909, 26668.57054777848, 48885.615682805925, 68318.11616974507, 80982.79961962652, 156871.0063405085, 122809.24082835506, 106918.81432575546, 93960.69231430416, 48211.33132856032, 43112.576180715514, 41844.13076740474, 47654.63051139768, 45334.17663799076, 5995.748532652881, 10.57451240326787, 3764.526415563361, 38015.37208974799, 401.831471324179, 9599.542359686571, 4847.356485657991, 490.6573755116291, 27.493732248496457, 42.29804961307148, 2937.5995456278138, 304.5459572141146, 154.3878810877109, 27.493732248496457, 649.2750615606471, 21.14902480653574, 31.723537209803602, 188.22632077816806, 249.55849271712168, 1410.6399545959337, 42.29804961307148, 61.332171938953636, 31.723537209803602, 1423.329369479855, 59.217269458300066, 10.57451240326787, 74.02158682287508, 2330.622533680238, 38.068244651764324, 21.14902480653574, 47692.10838997841, 15726.414846139975, 8811.741185643114, 14511.403371004495, 6903.0416968532645, 92994.3769768183, 33056.983223855685, 5175.166370159294, 13825.117516032411, 4138.864154639044, 41384.41174142913, 5962.967544202751, 2885.784434851801, 39692.48975690627, 1332.3885628117514, 1685.577277080898, 1040.5320204815582, 1721.530619252009, 119569.18409747076, 833.271577377508, 878.7419807115599, 26625.564780188168, 23911.087446269303, 7864.264874310314, 128560.69199396943, 3240.0306003612745, 15486.373414585792, 8495.563264785405, 10131.440333570945, 6934.7652340630675, 146520.4438596796, 16325.989699405263, 31251.913956617856, 12348.915584536217, 186755.40610287347, 129246.97784894152, 41421.42253484057, 64485.49153760812, 79588.01015195528, 11989.382162825108, 39142.61511193634, 14567.448286741816, 28757.38648068697, 29370.708200076504, 38650.90028518438, 34625.18341326031, 32545.176823537517, 74027.93153031703, 24592.086045039756, 24993.917516363934, 56014.24965135023, 29917.410491325452, 27886.046658657695, 38258.58587502315, 37362.92467446636, 70781.55622251381, 37944.522856646094, 38089.39367657086, 45917.70520871007, 40999.49948995018, 33662.90278456293, 33760.188298673, 32922.686916334176, 33777.10751851823, 6.418610837126884, 12.837221674253769, 25.674443348507538, 12.837221674253769, 51.348886697015075, 6.418610837126884, 6.418610837126884, 21.395369457089615, 85.58147782835846, 25.674443348507538, 12.837221674253769, 12.837221674253769, 12.837221674253769, 10.697684728544807, 44.93027585988819, 12.837221674253769, 42.79073891417923, 410.7910935761206, 124.09314285111977, 51.348886697015075, 6.418610837126884, 21.395369457089615, 12.837221674253769, 21.395369457089615, 158.32573398246313, 6.418610837126884, 12.837221674253769, 10.697684728544807, 6.418610837126884, 10.697684728544807, 3639.3523446509435, 7537.588659732672, 2250.7928668858276, 3193.2588914706253, 1958.7460737965544, 1243.0709654569066, 1223.815132945526, 913.5822758177266, 30882.07627436315, 849.3961674464578, 684.6518226268677, 646.1401576041064, 577.6749753414197, 1045.1637979788277, 487.81442362164324, 920.0008866548534, 460.0004433274267, 455.72136943600884, 486.74465514878875, 1040.8847240874097, 492.09349751306115, 325.20961574776214, 325.20961574776214, 323.0700788020532, 323.0700788020532, 318.79100491063525, 314.51193101921734, 308.09332018209045, 1009.8614383746299, 1100.7917585672608, 971.3497733518684, 1941.6297782308825, 2896.933024489934, 792.6984383851702, 1276.2337881153956, 1315.8152216110113, 6874.332206562894, 6165.075709060373, 3177.2123643778077, 1638.8853004130644, 3107.6774136422664, 44829.71762343987, 8087.449654779874, 15673.177895790997, 57705.45096271639, 21861.788511254166, 3550.5615614040216, 24983.372915043543, 7940.891373998811, 14563.8279894409, 5916.889423358132, 4795.772063806637, 13366.757068316736, 51870.93371176806, 6849.72753168724, 5471.865738650669, 19828.1586443578, 8369.868531613458, 58247.823578453615, 17999.924324249492, 72477.88380436393, 25696.90848643748, 156236.47615497836, 48106.418455793144, 14414.060403241274, 30579.33179654533, 8727.171201546853, 7038.006782909629, 25931.187781992612, 20260.34510739101, 34121.335210166515, 62442.385760516045, 20299.926540886627, 15350.107816988944, 30767.61104776772, 26624.397752402314, 39454.131047346105, 55206.471810128336, 45697.29985492485, 21514.113757576462, 34094.59099834516, 40935.76038224956, 97853.86174894507, 32187.19381124562, 34540.68445152547, 35341.941037693476, 29649.70299363479, 27808.631451852227, 33128.59006735756, 36849.244815945436, 44892.833963338286, 41929.57529353137, 33366.078668331254, 28806.72543702546, 28947.93487544225, 28016.166535586, 134.1152695563054, 134.1152695563054, 7919.187345229463, 24645.27739132298, 72.3796692843553, 34.06102083969661, 7518.970350363028, 7614.7669714746735, 5843.59388781045, 6.386441407443115, 1839.2951253436172, 13507.323576742188, 15536.083130506619, 27727.799777315526, 1087.8238530678104, 368.2847878292196, 14116.164324251766, 44.70508985210181, 10175.729975859364, 5513.627748425889, 97.92543491412776, 142.63052476622957, 65.99322787691219, 10720.70630929451, 219.26782165554695, 2.128813802481038, 5779.72947373602, 8393.912823182734, 329.96613938456096, 7008.055037767578, 198644.9379440119, 232124.79261563116, 182280.74624434015, 118692.01355733028, 38015.292477805146, 57123.52516887494, 270223.10883173306, 205659.37942318688, 16537.690024573945, 8372.624685157924, 8127.8110978726045, 16721.832418488557, 14057.621944683537, 221183.7540777799, 31179.671358038526, 66530.75336203865, 15459.445833617301, 13115.621837085679, 13587.154094335227, 12480.170917045087, 16762.279880735696, 349037.11783408734, 85124.87751980928, 194157.39844838186, 38884.91291611864, 39148.8858276263, 413215.5319443844, 45705.6323392679, 70601.0453523824, 30915.69844653088, 103806.28304348163, 81576.1449110734, 106309.76807519933, 35337.244714283996, 94990.86508740764, 102955.82192939045, 54500.8265642183, 246778.4824250094, 68740.46208901398, 91394.23416811593, 78129.59536485659, 73761.2694421655, 61483.33583635611, 115688.25728202955, 68494.5840948274, 90961.02055931104, 135166.90357473106, 85885.92845419626, 126501.56699173199, 70419.03177227027, 72184.88282142828, 267.2101241026763, 267.2101241026763, 133.60506205133814, 9058.423207080727, 10373.919202663134, 9473.626630686425, 19886.59962071841, 6.1663874792925295, 10.277312465487551, 2051.351568111315, 41.109249861950204, 108.93951213416804, 3111.9702145496303, 24.665549917170118, 24.665549917170118, 18.49916243787759, 28.776474903365145, 6.1663874792925295, 6.1663874792925295, 12.332774958585059, 115.10589961346058, 2986.587002470682, 554.9748731363277, 199.37986183045848, 1521.0422448921574, 129.49413706514312, 102.7731246548755, 10.277312465487551, 113.05043712036306, 28.776474903365145, 29601.743094343794, 48772.01403621772, 22081.83356334655, 24587.442342432416, 15459.133410586373, 88121.78800407646, 14227.911377220964, 9694.588848694408, 7516.826337257595, 6973.156507833303, 6404.821128491842, 5064.659582992265, 4873.501571134197, 4713.175496672591, 8202.323078705615, 4080.093048798558, 3251.7416640802608, 2961.921452553512, 4235.28046702742, 2524.1079415237427, 2515.8860915513524, 84158.85631738446, 4723.452809138078, 2139.736455314508, 33796.942042755814, 57203.5211829037, 9683.28380498237, 7318.474206673684, 32228.624160522413, 67437.6689360362, 19798.214733515215, 313024.3276113267, 76250.46437519178, 120642.28783861871, 14538.28621367869, 11061.47140660425, 63406.906987072, 98083.58697687354, 22243.187369054707, 39930.44212215878, 77482.71413980375, 110583.88212864604, 35693.10619263827, 29567.82796320768, 79588.53546398215, 201330.495736408, 46635.36077464286, 375132.18230276107, 63450.07169942704, 67840.53958468333, 55512.903282331004, 54340.261930018874, 81957.45598727702, 62966.01028230257, 69773.70205944152, 44999.21263013724, 110008.35263057874, 195788.96885501713, 83711.79322513574, 69306.08434226185, 74051.11950757744, 67315.3689176969, 61375.0823126451, 75469.38862781473, 101138.00424161645, 80187.70278072006, 89657.2184864203, 58870.50126480579, 138.77992428850493, 105.1363062791704, 69.38996214425246, 86.21177114891974, 52.5681531395852, 313.3061927119278, 464.7024737539332, 374.28525035384666, 69.38996214425246, 52.5681531395852, 105.1363062791704, 69.38996214425246, 52.5681531395852, 69.38996214425246, 1169.115725824375, 86.21177114891974, 69.38996214425246, 105.1363062791704, 138.77992428850493, 52.5681531395852, 86.21177114891974, 420.5452251166816, 69.38996214425246, 187.14262517692333, 52.5681531395852, 239.71077831650854, 52.5681531395852, 210.2726125583408, 182.9371729257565, 292.27893145609374, 12160.06518424885, 24104.600940625398, 8554.941241936098, 7727.518511519026, 6720.312697364573, 10941.535394473265, 7680.2071736933985, 4586.045679897414, 21701.184979083566, 2916.481136184187, 2775.598485770099, 2863.912983044602, 2633.6644722932188, 5928.636311082419, 4439.906214169367, 2276.2010309440393, 11607.048213220412, 5174.808995060768, 9361.336711097334, 1732.6463274807284, 1667.4618175876428, 1716.8758815388528, 8618.023025703598, 1583.3527725643064, 2345.590993088292, 4954.0227518745105, 1568.6336896852224, 1370.9774338803823, 22153.271096083998, 3136.2160163076533, 28565.534416050603, 22537.01861400297, 21893.584419574447, 7982.99973577741, 7217.6074260650485, 10675.540539586964, 14076.700047718126, 34099.90957858613, 5177.963084249143, 6548.940518129524, 6306.075650624641, 8508.681267173262, 41125.1175641603, 9308.768557957748, 16915.380317255727, 18600.71530691083, 11887.7621509858, 55161.86581549235, 10692.36234859163, 18267.43321600586, 15129.114473572621, 62648.62218563207, 11399.929689850447, 19929.638218279542, 15349.90071675888, 14978.76955559341, 24161.37454601615, 46868.713976191386, 41821.119911728405, 27870.583431545285, 19500.682088660527, 15105.984486191204, 17168.75881538853, 42812.555279940985, 43808.196100404726, 29887.097785979775, 19423.932585076735, 39254.742675453854, 60513.303805102114, 38120.32193070161, 55910.43631620004, 45403.11386665974, 20347.02935420785, 66298.95473964486, 25069.752232268183, 51156.17254625595, 26588.971858002198, 31373.725156767243, 32990.72154734089, 64206.74224468937, 29485.47709599334, 64309.77582484296, 69446.73574964322, 43805.04201121635, 38118.219204576024, 38915.152406172136, 39290.48901958878, 37063.702052595945, 36579.02368064897, 32211.661517812234, 32518.65953214741, 36676.800445488596, 32857.19843836634], \"Total\": [472168.0, 379894.0, 278190.0, 347605.0, 225427.0, 376253.0, 234075.0, 199583.0, 229370.0, 199329.0, 556948.0, 211381.0, 170727.0, 183513.0, 140775.0, 155490.0, 125696.0, 212148.0, 126684.0, 165004.0, 104645.0, 95674.0, 117826.0, 128972.0, 107744.0, 119475.0, 351321.0, 272954.0, 127523.0, 144360.0, 77686.29833220359, 468.2530237816659, 147.75984305999236, 1080.1036415230426, 563.9847530881399, 5760.552754789561, 16.6489964011259, 1413.0835695455607, 12590.803528351462, 10214.15929209074, 104645.1857547267, 4376.604928945971, 62910.31402620435, 3698.1583256000904, 17123.49279855799, 7797.973689377343, 4449.444288200896, 74.92048380506655, 16.6489964011259, 14.567871850985163, 362.1156717244883, 6813.601777160774, 54038.480068954384, 5675.226648233791, 2.0811245501407374, 6.243373650422212, 3067.577586907447, 2.0811245501407374, 2.0811245501407374, 1927.121333430323, 126684.30554150483, 45356.92911569338, 41686.75956008077, 43413.943976531395, 199583.20971210115, 18836.258303323815, 22465.450604706177, 59432.45123068341, 12578.291118993573, 11633.486235286722, 9974.829968824555, 17220.42226019777, 7323.477291945255, 15437.262532830098, 6312.050760576857, 16920.22857237608, 8748.316240165928, 107744.99038692267, 31986.94565149578, 77345.24313566451, 13426.199147728124, 117826.36020314398, 35920.214048527756, 165004.54714273527, 48473.97463768757, 38315.83435183097, 128972.56275651963, 127523.81677417143, 88981.83330165542, 54181.25024947583, 73128.25344387801, 29857.620605819266, 70451.46655068728, 112478.7768871293, 144360.07305329785, 471663.6800832692, 376253.44327119953, 556948.8792982969, 561404.6467227461, 123133.32771078189, 112267.01496839391, 100484.54011594395, 405804.1944229282, 253636.43339087, 5995.748532652881, 10.57451240326787, 3764.526415563361, 38015.37208974799, 401.831471324179, 9599.542359686571, 4847.356485657991, 490.6573755116291, 27.493732248496457, 42.29804961307148, 2937.5995456278138, 304.5459572141146, 154.3878810877109, 27.493732248496457, 649.2750615606471, 21.14902480653574, 31.723537209803602, 188.22632077816806, 249.55849271712168, 1410.6399545959337, 42.29804961307148, 61.332171938953636, 31.723537209803602, 1423.329369479855, 59.217269458300066, 10.57451240326787, 74.02158682287508, 2330.622533680238, 38.068244651764324, 21.14902480653574, 48410.54845130955, 15794.880028402662, 8812.810954115968, 14600.194154251418, 6915.658053606765, 95674.81352252873, 33662.24418260657, 5181.409743809717, 13992.00139779771, 4138.864154639044, 42427.37806272502, 6021.639161519182, 2895.4123511074913, 41041.50935337974, 1332.3885628117514, 1689.856350972316, 1040.5320204815582, 1732.2283039805538, 125696.17458824776, 833.271577377508, 879.8063876128004, 27767.421178687895, 25013.56049332356, 8103.5564688938275, 140775.09984718502, 3295.1616148780126, 16414.51127478772, 8853.20398360222, 10615.971830133773, 7197.605999760994, 170727.49359538636, 17444.508905655985, 34330.89052849716, 13075.037065836426, 225427.9188340074, 155490.79551002898, 46998.7746254251, 75827.83244856562, 96924.15334310569, 12811.513236521496, 49947.77277694071, 16363.89947291859, 36418.761146300436, 38326.997144032415, 53729.53716391321, 48801.26605007003, 47736.26391590401, 143576.72829736397, 34417.48434429715, 35227.652151988914, 150384.8086501587, 53510.5781349224, 47304.57051689425, 87455.1532325117, 87670.15200592874, 351321.6263038335, 107799.84281820676, 139829.14589112622, 471663.6800832692, 405804.1944229282, 128413.73017565264, 136617.57458443605, 193669.31226876704, 561404.6467227461, 6.418610837126884, 12.837221674253769, 25.674443348507538, 12.837221674253769, 51.348886697015075, 6.418610837126884, 6.418610837126884, 21.395369457089615, 85.58147782835846, 25.674443348507538, 12.837221674253769, 12.837221674253769, 12.837221674253769, 10.697684728544807, 44.93027585988819, 12.837221674253769, 42.79073891417923, 410.7910935761206, 124.09314285111977, 51.348886697015075, 6.418610837126884, 21.395369457089615, 12.837221674253769, 21.395369457089615, 158.32573398246313, 6.418610837126884, 12.837221674253769, 10.697684728544807, 6.418610837126884, 10.697684728544807, 3649.897137060433, 7622.184758958814, 2250.7928668858276, 3208.6748601688564, 1959.7974368593461, 1243.0709654569066, 1223.815132945526, 913.5822758177266, 32003.675329348353, 849.3961674464578, 684.6518226268677, 646.1401576041064, 577.6749753414197, 1052.357916704669, 487.81442362164324, 926.1672741341459, 460.0004433274267, 455.72136943600884, 487.8021063891155, 1052.4497177781184, 494.1489600061587, 325.20961574776214, 325.20961574776214, 323.0700788020532, 323.0700788020532, 318.79100491063525, 314.51193101921734, 308.09332018209045, 1022.6343211895161, 1133.0235270373992, 996.3988734676066, 2037.8578411006201, 3082.7224902719863, 810.4055381552085, 1325.6478520666055, 1368.8068657584936, 7538.434938116703, 6781.67147607544, 3415.646013577119, 1717.0313682363346, 3355.267127835623, 54809.29898733584, 9241.33028106026, 19272.09714999397, 77609.78814458231, 27608.74120587876, 3971.4772018488325, 32620.562394499124, 9563.939374335563, 18689.823635181136, 7016.306845756981, 5611.368205034685, 17433.19486505024, 78209.81470861982, 8361.993243222505, 6595.736576743443, 27650.61266062314, 10577.960163340129, 94025.32756531288, 25956.28988386004, 129600.0016180352, 40810.772005723105, 351321.6263038335, 88966.53702574466, 21101.69521825313, 52495.93675021341, 11552.18166537521, 8946.249467723455, 43913.550686724746, 32697.264461057697, 62888.62426606906, 136617.57458443605, 34240.55183013037, 24009.646489637555, 60120.127236661785, 50524.64700389725, 87455.1532325117, 139829.14589112622, 108815.91521917738, 38988.087184734104, 79506.51483404488, 105809.43040974007, 471663.6800832692, 79002.72326665821, 91551.41404428359, 107354.6724599559, 87553.63555006028, 75195.92423484426, 123133.32771078189, 188262.06522187786, 556948.8792982969, 561404.6467227461, 225592.5816917548, 101222.67539232544, 128413.73017565264, 405804.1944229282, 134.1152695563054, 134.1152695563054, 7919.187345229463, 24645.27739132298, 72.3796692843553, 34.06102083969661, 7518.970350363028, 7614.7669714746735, 5843.59388781045, 6.386441407443115, 1839.2951253436172, 13507.323576742188, 15536.083130506619, 27727.799777315526, 1087.8238530678104, 368.2847878292196, 14116.164324251766, 44.70508985210181, 10175.729975859364, 5513.627748425889, 97.92543491412776, 142.63052476622957, 65.99322787691219, 10720.70630929451, 219.26782165554695, 2.128813802481038, 5779.72947373602, 8393.912823182734, 329.96613938456096, 7008.055037767578, 199329.1011634338, 234075.94518890453, 183513.40894254076, 119475.20787263046, 38061.29252213789, 57837.042334858816, 278190.1227339927, 211381.43137379884, 16574.967225368262, 8372.624685157924, 8140.648319546858, 16873.660960135552, 14173.124357216348, 229370.21543761532, 31729.987441687877, 68860.80106117578, 15652.896637170974, 13247.147201540425, 13734.771282743986, 12602.229669441334, 17032.999537943848, 379894.20986171893, 89748.593295457, 212148.4084731003, 40517.37857324245, 40904.44844510218, 472168.03863852023, 48639.94434910234, 77183.605856705, 32419.81987092276, 117325.76066792016, 93082.3629918978, 125187.49917556139, 38551.092248291134, 114451.40175561045, 126976.7787055543, 64039.58519142529, 376253.44327119953, 87821.37700611916, 130806.90912386584, 107281.29624749867, 101055.65460137828, 85409.41730603436, 225592.5816917548, 106216.69571832594, 189697.0764655843, 405804.1944229282, 193669.31226876704, 561404.6467227461, 136494.97010106654, 253636.43339087, 267.2101241026763, 267.2101241026763, 133.60506205133814, 9058.423207080727, 10373.919202663134, 9473.626630686425, 19886.59962071841, 6.1663874792925295, 10.277312465487551, 2051.351568111315, 41.109249861950204, 108.93951213416804, 3111.9702145496303, 24.665549917170118, 24.665549917170118, 18.49916243787759, 28.776474903365145, 6.1663874792925295, 6.1663874792925295, 12.332774958585059, 115.10589961346058, 2986.587002470682, 554.9748731363277, 199.37986183045848, 1521.0422448921574, 129.49413706514312, 102.7731246548755, 10.277312465487551, 113.05043712036306, 28.776474903365145, 29602.794457406584, 49095.084115019774, 22081.83356334655, 24645.20983996656, 15459.133410586373, 89807.71490544488, 14284.684982611716, 9695.658617167262, 7516.826337257595, 6974.226276306158, 6404.821128491842, 5064.659582992265, 4873.501571134197, 4713.175496672591, 8254.741733875484, 4080.093048798558, 3251.7416640802608, 2961.921452553512, 4250.888901153476, 2524.1079415237427, 2515.8860915513524, 87233.37090836823, 4759.82493721513, 2139.736455314508, 34785.73409973597, 59560.50349419397, 9861.000251611153, 7416.882045331139, 33672.725460792295, 71564.85858199438, 20521.18937015418, 347605.95924183755, 81417.82313514451, 131678.98804911427, 15040.420704114256, 11357.715544949198, 70082.79074462103, 111934.60031950205, 23706.882634854537, 44438.830306956654, 90498.19265718489, 134139.1471144233, 39954.58829936206, 33036.452866040614, 97626.60626085628, 272954.35129489185, 54631.86170382004, 556948.8792982969, 79824.16975517517, 89067.94903441309, 71638.8293743855, 70311.8925168732, 116980.76563037069, 85047.80462074275, 99428.83270003399, 56982.46805735702, 207266.72737491998, 561404.6467227461, 156870.12103214063, 124514.47713988047, 140241.97616488635, 126612.47973863609, 107155.45386186396, 181925.81866355496, 471663.6800832692, 253228.08995097593, 405804.1944229282, 188262.06522187786, 138.77992428850493, 105.1363062791704, 69.38996214425246, 86.21177114891974, 52.5681531395852, 313.3061927119278, 464.7024737539332, 374.28525035384666, 69.38996214425246, 52.5681531395852, 105.1363062791704, 69.38996214425246, 52.5681531395852, 69.38996214425246, 1169.115725824375, 86.21177114891974, 69.38996214425246, 105.1363062791704, 138.77992428850493, 52.5681531395852, 86.21177114891974, 420.5452251166816, 69.38996214425246, 187.14262517692333, 52.5681531395852, 239.71077831650854, 52.5681531395852, 210.2726125583408, 182.9371729257565, 292.27893145609374, 12160.06518424885, 24295.735649899045, 8555.981804211167, 7733.937122356153, 6720.312697364573, 11026.879125163117, 7714.122304829508, 4586.045679897414, 22063.890754515654, 2916.481136184187, 2775.598485770099, 2866.0278855252554, 2634.7219235335456, 5981.050604656405, 4469.71042031928, 2277.258482184366, 11816.930015606207, 5227.495778459287, 9515.38337118838, 1732.6463274807284, 1667.4618175876428, 1717.9036127854015, 8766.220673311069, 1583.3527725643064, 2355.120371483761, 5015.354923813464, 1570.68915217832, 1370.9774338803823, 22788.60671857558, 3163.9647599644695, 29470.88786004151, 23326.80643157665, 22727.716712276044, 8134.835404170955, 7381.286145865254, 11060.647156705083, 14722.529851998714, 36898.3178657454, 5298.207640095347, 6767.847273644409, 6507.657228515713, 8907.691219320086, 46119.883394700475, 9804.481456564332, 18494.642354547945, 20628.845254319545, 12832.432812525247, 67385.69058562853, 11477.340353896978, 20607.57529646508, 16852.10521269577, 84088.0856216326, 12390.939744326737, 23427.58576999925, 17472.78794558343, 17058.329738530087, 30038.17671421934, 66640.30512956233, 58863.83209431633, 37158.35847594206, 25051.881761844303, 17934.067182319257, 21565.08519261577, 76024.98310081194, 80549.73470792384, 50981.15054895765, 26402.72187325636, 78189.89826518197, 166331.5234848081, 81138.58716221509, 162582.12802364776, 116379.6670029671, 28799.369655080885, 253228.08995097593, 42323.37000008472, 159809.1102777068, 47405.62125400899, 66219.24458208808, 77826.1895063742, 351321.6263038335, 61198.544755546485, 405804.1944229282, 561404.6467227461, 253636.43339087, 168308.54109280396, 181925.81866355496, 189697.0764655843, 166363.5549463946, 188262.06522187786, 114482.58309421319, 124514.47713988047, 471663.6800832692, 150384.8086501587], \"Category\": [\"Default\", \"Default\", \"Default\", \"Default\", \"Default\", \"Default\", \"Default\", \"Default\", \"Default\", \"Default\", \"Default\", \"Default\", \"Default\", \"Default\", \"Default\", \"Default\", \"Default\", \"Default\", \"Default\", \"Default\", \"Default\", \"Default\", \"Default\", \"Default\", \"Default\", \"Default\", \"Default\", \"Default\", \"Default\", \"Default\", \"Topic1\", \"Topic1\", \"Topic1\", \"Topic1\", \"Topic1\", \"Topic1\", \"Topic1\", \"Topic1\", \"Topic1\", \"Topic1\", \"Topic1\", \"Topic1\", \"Topic1\", \"Topic1\", \"Topic1\", \"Topic1\", \"Topic1\", \"Topic1\", \"Topic1\", \"Topic1\", \"Topic1\", \"Topic1\", \"Topic1\", \"Topic1\", \"Topic1\", \"Topic1\", \"Topic1\", \"Topic1\", \"Topic1\", \"Topic1\", \"Topic1\", \"Topic1\", \"Topic1\", \"Topic1\", \"Topic1\", \"Topic1\", \"Topic1\", \"Topic1\", \"Topic1\", \"Topic1\", \"Topic1\", \"Topic1\", \"Topic1\", \"Topic1\", \"Topic1\", \"Topic1\", \"Topic1\", \"Topic1\", \"Topic1\", \"Topic1\", \"Topic1\", \"Topic1\", \"Topic1\", \"Topic1\", \"Topic1\", \"Topic1\", \"Topic1\", \"Topic1\", \"Topic1\", \"Topic1\", \"Topic1\", \"Topic1\", \"Topic1\", \"Topic1\", \"Topic1\", \"Topic1\", \"Topic1\", \"Topic1\", \"Topic1\", \"Topic1\", \"Topic1\", \"Topic1\", \"Topic1\", \"Topic1\", \"Topic2\", \"Topic2\", \"Topic2\", \"Topic2\", \"Topic2\", \"Topic2\", \"Topic2\", \"Topic2\", \"Topic2\", \"Topic2\", \"Topic2\", \"Topic2\", \"Topic2\", \"Topic2\", \"Topic2\", \"Topic2\", \"Topic2\", \"Topic2\", \"Topic2\", \"Topic2\", \"Topic2\", \"Topic2\", \"Topic2\", \"Topic2\", \"Topic2\", \"Topic2\", \"Topic2\", \"Topic2\", \"Topic2\", \"Topic2\", \"Topic2\", \"Topic2\", \"Topic2\", \"Topic2\", \"Topic2\", \"Topic2\", \"Topic2\", \"Topic2\", \"Topic2\", \"Topic2\", \"Topic2\", \"Topic2\", \"Topic2\", \"Topic2\", \"Topic2\", \"Topic2\", \"Topic2\", \"Topic2\", \"Topic2\", \"Topic2\", \"Topic2\", \"Topic2\", \"Topic2\", \"Topic2\", \"Topic2\", \"Topic2\", \"Topic2\", \"Topic2\", \"Topic2\", \"Topic2\", \"Topic2\", \"Topic2\", \"Topic2\", \"Topic2\", \"Topic2\", \"Topic2\", \"Topic2\", \"Topic2\", \"Topic2\", \"Topic2\", \"Topic2\", \"Topic2\", \"Topic2\", \"Topic2\", \"Topic2\", \"Topic2\", \"Topic2\", \"Topic2\", \"Topic2\", \"Topic2\", \"Topic2\", \"Topic2\", \"Topic2\", \"Topic2\", \"Topic2\", \"Topic2\", \"Topic2\", \"Topic2\", \"Topic2\", \"Topic2\", \"Topic2\", \"Topic2\", \"Topic2\", \"Topic2\", \"Topic3\", \"Topic3\", \"Topic3\", \"Topic3\", \"Topic3\", \"Topic3\", \"Topic3\", \"Topic3\", \"Topic3\", \"Topic3\", \"Topic3\", \"Topic3\", \"Topic3\", \"Topic3\", \"Topic3\", \"Topic3\", \"Topic3\", \"Topic3\", \"Topic3\", \"Topic3\", \"Topic3\", \"Topic3\", \"Topic3\", \"Topic3\", \"Topic3\", \"Topic3\", \"Topic3\", \"Topic3\", \"Topic3\", \"Topic3\", \"Topic3\", \"Topic3\", \"Topic3\", \"Topic3\", \"Topic3\", \"Topic3\", \"Topic3\", \"Topic3\", \"Topic3\", \"Topic3\", \"Topic3\", \"Topic3\", \"Topic3\", \"Topic3\", \"Topic3\", \"Topic3\", \"Topic3\", \"Topic3\", \"Topic3\", \"Topic3\", \"Topic3\", \"Topic3\", \"Topic3\", \"Topic3\", \"Topic3\", \"Topic3\", \"Topic3\", \"Topic3\", \"Topic3\", \"Topic3\", \"Topic3\", \"Topic3\", \"Topic3\", \"Topic3\", \"Topic3\", \"Topic3\", \"Topic3\", \"Topic3\", \"Topic3\", \"Topic3\", \"Topic3\", \"Topic3\", \"Topic3\", \"Topic3\", \"Topic3\", \"Topic3\", \"Topic3\", \"Topic3\", \"Topic3\", \"Topic3\", \"Topic3\", \"Topic3\", \"Topic3\", \"Topic3\", \"Topic3\", \"Topic3\", \"Topic3\", \"Topic3\", \"Topic3\", \"Topic3\", \"Topic3\", \"Topic3\", \"Topic3\", \"Topic3\", \"Topic3\", \"Topic3\", \"Topic3\", \"Topic3\", \"Topic3\", \"Topic3\", \"Topic3\", \"Topic3\", \"Topic3\", \"Topic3\", \"Topic3\", \"Topic3\", \"Topic3\", \"Topic3\", \"Topic3\", \"Topic3\", \"Topic3\", \"Topic3\", \"Topic3\", \"Topic3\", \"Topic3\", \"Topic3\", \"Topic3\", \"Topic3\", \"Topic3\", \"Topic3\", \"Topic3\", \"Topic3\", \"Topic3\", \"Topic3\", \"Topic3\", \"Topic3\", \"Topic4\", \"Topic4\", \"Topic4\", \"Topic4\", \"Topic4\", \"Topic4\", \"Topic4\", \"Topic4\", \"Topic4\", \"Topic4\", \"Topic4\", \"Topic4\", \"Topic4\", \"Topic4\", \"Topic4\", \"Topic4\", \"Topic4\", \"Topic4\", \"Topic4\", \"Topic4\", \"Topic4\", \"Topic4\", \"Topic4\", \"Topic4\", \"Topic4\", \"Topic4\", \"Topic4\", \"Topic4\", \"Topic4\", \"Topic4\", \"Topic4\", \"Topic4\", \"Topic4\", \"Topic4\", \"Topic4\", \"Topic4\", \"Topic4\", \"Topic4\", \"Topic4\", \"Topic4\", \"Topic4\", \"Topic4\", \"Topic4\", \"Topic4\", \"Topic4\", \"Topic4\", \"Topic4\", \"Topic4\", \"Topic4\", \"Topic4\", \"Topic4\", \"Topic4\", \"Topic4\", \"Topic4\", \"Topic4\", \"Topic4\", \"Topic4\", \"Topic4\", \"Topic4\", \"Topic4\", \"Topic4\", \"Topic4\", \"Topic4\", \"Topic4\", \"Topic4\", \"Topic4\", \"Topic4\", \"Topic4\", \"Topic4\", \"Topic4\", \"Topic4\", \"Topic4\", \"Topic4\", \"Topic4\", \"Topic4\", \"Topic4\", \"Topic4\", \"Topic4\", \"Topic4\", \"Topic4\", \"Topic4\", \"Topic5\", \"Topic5\", \"Topic5\", \"Topic5\", \"Topic5\", \"Topic5\", \"Topic5\", \"Topic5\", \"Topic5\", \"Topic5\", \"Topic5\", \"Topic5\", \"Topic5\", \"Topic5\", \"Topic5\", \"Topic5\", \"Topic5\", \"Topic5\", \"Topic5\", \"Topic5\", \"Topic5\", \"Topic5\", \"Topic5\", \"Topic5\", \"Topic5\", \"Topic5\", \"Topic5\", \"Topic5\", \"Topic5\", \"Topic5\", \"Topic5\", \"Topic5\", \"Topic5\", \"Topic5\", \"Topic5\", \"Topic5\", \"Topic5\", \"Topic5\", \"Topic5\", \"Topic5\", \"Topic5\", \"Topic5\", \"Topic5\", \"Topic5\", \"Topic5\", \"Topic5\", \"Topic5\", \"Topic5\", \"Topic5\", \"Topic5\", \"Topic5\", \"Topic5\", \"Topic5\", \"Topic5\", \"Topic5\", \"Topic5\", \"Topic5\", \"Topic5\", \"Topic5\", \"Topic5\", \"Topic5\", \"Topic5\", \"Topic5\", \"Topic5\", \"Topic5\", \"Topic5\", \"Topic5\", \"Topic5\", \"Topic5\", \"Topic5\", \"Topic5\", \"Topic5\", \"Topic5\", \"Topic5\", \"Topic5\", \"Topic5\", \"Topic5\", \"Topic5\", \"Topic5\", \"Topic5\", \"Topic5\", \"Topic5\", \"Topic5\", \"Topic5\", \"Topic5\", \"Topic5\", \"Topic5\", \"Topic5\", \"Topic5\", \"Topic5\", \"Topic5\", \"Topic5\", \"Topic5\", \"Topic5\", \"Topic5\", \"Topic5\", \"Topic5\", \"Topic5\", \"Topic6\", \"Topic6\", \"Topic6\", \"Topic6\", \"Topic6\", \"Topic6\", \"Topic6\", \"Topic6\", \"Topic6\", \"Topic6\", \"Topic6\", \"Topic6\", \"Topic6\", \"Topic6\", \"Topic6\", \"Topic6\", \"Topic6\", \"Topic6\", \"Topic6\", \"Topic6\", \"Topic6\", \"Topic6\", \"Topic6\", \"Topic6\", \"Topic6\", \"Topic6\", \"Topic6\", \"Topic6\", \"Topic6\", \"Topic6\", \"Topic6\", \"Topic6\", \"Topic6\", \"Topic6\", \"Topic6\", \"Topic6\", \"Topic6\", \"Topic6\", \"Topic6\", \"Topic6\", \"Topic6\", \"Topic6\", \"Topic6\", \"Topic6\", \"Topic6\", \"Topic6\", \"Topic6\", \"Topic6\", \"Topic6\", \"Topic6\", \"Topic6\", \"Topic6\", \"Topic6\", \"Topic6\", \"Topic6\", \"Topic6\", \"Topic6\", \"Topic6\", \"Topic6\", \"Topic6\", \"Topic6\", \"Topic6\", \"Topic6\", \"Topic6\", \"Topic6\", \"Topic6\", \"Topic6\", \"Topic6\", \"Topic6\", \"Topic6\", \"Topic6\", \"Topic6\", \"Topic6\", \"Topic6\", \"Topic6\", \"Topic6\", \"Topic6\", \"Topic6\", \"Topic6\", \"Topic6\", \"Topic6\", \"Topic6\", \"Topic6\", \"Topic6\", \"Topic6\", \"Topic6\", \"Topic6\", \"Topic6\", \"Topic6\", \"Topic6\", \"Topic6\", \"Topic6\", \"Topic6\", \"Topic6\", \"Topic6\", \"Topic6\", \"Topic6\", \"Topic6\", \"Topic6\", \"Topic6\", \"Topic6\", \"Topic6\", \"Topic6\", \"Topic6\", \"Topic6\", \"Topic6\", \"Topic6\", \"Topic6\", \"Topic6\", \"Topic6\", \"Topic6\", \"Topic6\", \"Topic6\", \"Topic6\", \"Topic6\", \"Topic6\", \"Topic6\", \"Topic6\", \"Topic6\", \"Topic6\", \"Topic6\", \"Topic6\", \"Topic6\"], \"logprob\": [30.0, 29.0, 28.0, 27.0, 26.0, 25.0, 24.0, 23.0, 22.0, 21.0, 20.0, 19.0, 18.0, 17.0, 16.0, 15.0, 14.0, 13.0, 12.0, 11.0, 10.0, 9.0, 8.0, 7.0, 6.0, 5.0, 4.0, 3.0, 2.0, 1.0, -4.6814, -9.7928, -10.9463, -8.957, -9.6068, -7.2831, -13.1295, -8.6883, -6.5011, -6.7103, -4.3835, -7.5578, -4.8924, -7.7263, -6.1936, -6.9802, -7.5413, -11.6254, -13.1295, -13.263, -10.0499, -7.1152, -5.0444, -7.298, -15.2089, -14.1103, -7.9132, -15.2089, -15.2089, -8.3781, -4.1924, -5.2216, -5.3062, -5.2679, -3.7602, -6.0983, -5.9254, -4.9642, -6.5023, -6.5802, -6.734, -6.1941, -7.043, -6.3058, -7.1916, -6.2161, -6.8719, -4.3951, -5.5897, -4.7366, -6.4567, -4.3586, -5.5101, -4.0586, -5.2464, -5.4692, -4.3521, -4.3638, -4.7306, -5.2201, -4.9681, -5.7506, -5.1446, -4.8099, -4.6399, -3.9787, -4.2235, -4.362, -4.4912, -5.1585, -5.2703, -5.3001, -5.1701, -5.22, -6.9753, -13.3157, -7.4407, -5.1284, -9.6781, -6.5046, -7.1879, -9.4784, -12.3601, -11.9294, -7.6888, -9.9553, -10.6346, -12.3601, -9.1982, -12.6225, -12.217, -10.4365, -10.1544, -8.4223, -11.9294, -11.5578, -12.217, -8.4133, -11.5929, -13.3157, -11.3697, -7.9202, -12.0347, -12.6225, -4.9016, -6.011, -6.5903, -6.0914, -6.8344, -4.2338, -5.2681, -7.1225, -6.1399, -7.3459, -5.0434, -6.9808, -7.7065, -5.0852, -8.4794, -8.2442, -8.7266, -8.2231, -3.9824, -8.9487, -8.8956, -5.4845, -5.592, -6.704, -3.9099, -7.5908, -6.0264, -6.6268, -6.4507, -6.8298, -3.7792, -5.9736, -5.3243, -6.2528, -3.5365, -3.9046, -5.0425, -4.5999, -4.3895, -6.2823, -5.0991, -6.0876, -5.4074, -5.3863, -5.1118, -5.2218, -5.2837, -4.4619, -5.5639, -5.5477, -4.7407, -5.3679, -5.4382, -5.122, -5.1457, -4.5067, -5.1302, -5.1264, -4.9395, -5.0528, -5.2499, -5.2471, -5.2722, -5.2466, -14.1557, -13.4626, -12.7695, -13.4626, -12.0763, -14.1557, -14.1557, -12.9518, -11.5655, -12.7695, -13.4626, -13.4626, -13.4626, -13.6449, -12.2098, -13.4626, -12.2586, -9.9969, -11.1939, -12.0763, -14.1557, -12.9518, -13.4626, -12.9518, -10.9503, -14.1557, -13.4626, -13.6449, -14.1557, -13.6449, -7.8154, -7.0873, -8.2959, -7.9462, -8.4349, -8.8896, -8.9052, -9.1976, -5.677, -9.2704, -9.486, -9.5439, -9.6559, -9.063, -9.825, -9.1906, -9.8837, -9.8931, -9.8272, -9.0671, -9.8163, -10.2305, -10.2305, -10.2371, -10.2371, -10.2504, -10.2639, -10.2845, -9.0974, -9.0112, -9.1363, -8.4437, -8.0435, -9.3395, -8.8633, -8.8327, -7.1794, -7.2883, -7.9512, -8.6132, -7.9733, -5.3043, -7.0169, -6.3552, -5.0518, -6.0225, -7.8401, -5.889, -7.0352, -6.4287, -7.3294, -7.5395, -6.5144, -5.1584, -7.183, -7.4076, -6.1201, -6.9826, -5.0425, -6.2168, -4.8239, -5.8608, -4.0558, -5.2338, -6.439, -5.6869, -6.9408, -7.1559, -5.8517, -6.0985, -5.5773, -4.9729, -6.0966, -6.3761, -5.6807, -5.8254, -5.4321, -5.0961, -5.2852, -6.0385, -5.5781, -5.3952, -4.5237, -5.6356, -5.5651, -5.5421, -5.7177, -5.7818, -5.6068, -5.5004, -5.3029, -5.3712, -5.5997, -5.7466, -5.7417, -5.7744, -11.3437, -11.3437, -7.2653, -6.13, -11.9604, -12.7142, -7.3172, -7.3045, -7.5693, -14.3882, -8.7252, -6.7314, -6.5914, -6.0122, -9.2504, -10.3335, -6.6873, -12.4423, -7.0146, -7.6274, -11.6582, -11.2821, -12.0528, -6.9624, -10.8521, -15.4868, -7.5802, -7.2071, -10.4434, -7.3875, -4.0431, -3.8873, -4.1291, -4.5581, -5.6966, -5.2894, -3.7354, -4.0084, -6.529, -7.2096, -7.2393, -6.5179, -6.6914, -3.9356, -5.8948, -5.1369, -6.5964, -6.7608, -6.7255, -6.8105, -6.5155, -3.4794, -4.8905, -4.0659, -5.674, -5.6672, -3.3106, -5.5124, -5.0776, -5.9033, -4.6921, -4.9331, -4.6682, -5.7697, -4.7808, -4.7003, -5.3364, -3.8261, -5.1043, -4.8194, -4.9762, -5.0338, -5.2158, -4.5837, -5.1078, -4.8242, -4.4281, -4.8816, -4.4943, -5.0801, -5.0554, -10.7814, -10.7814, -11.4746, -7.258, -7.1224, -7.2132, -6.4717, -14.5504, -14.0395, -8.7432, -12.6532, -11.6787, -8.3265, -13.1641, -13.1641, -13.4518, -13.0099, -14.5504, -14.5504, -13.8572, -11.6236, -8.3676, -10.0506, -11.0743, -9.0423, -11.5058, -11.737, -14.0395, -11.6416, -13.0099, -6.0739, -5.5746, -6.367, -6.2595, -6.7235, -4.983, -6.8065, -7.1902, -7.4446, -7.5197, -7.6047, -7.8394, -7.8779, -7.9114, -7.3573, -8.0556, -8.2825, -8.3759, -8.0183, -8.5358, -8.5391, -5.029, -7.9092, -8.701, -5.9414, -5.4151, -7.1913, -7.4713, -5.9889, -5.2505, -6.4761, -3.7154, -5.1277, -4.6689, -6.7849, -7.0583, -5.3122, -4.8759, -6.3597, -5.7746, -5.1117, -4.756, -5.8868, -6.075, -5.0849, -4.1568, -5.6194, -3.5344, -5.3115, -5.2446, -5.4451, -5.4665, -5.0555, -5.3191, -5.2165, -5.6551, -4.7612, -4.1847, -5.0343, -5.2232, -5.157, -5.2523, -5.3447, -5.138, -4.8452, -5.0774, -4.9657, -5.3864, -11.3067, -11.5843, -11.9998, -11.7827, -12.2774, -10.4924, -10.0981, -10.3145, -11.9998, -12.2774, -11.5843, -11.9998, -12.2774, -11.9998, -9.1755, -11.7827, -11.9998, -11.5843, -11.3067, -12.2774, -11.7827, -10.198, -11.9998, -11.0077, -12.2774, -10.7601, -12.2774, -10.8911, -11.0304, -10.5618, -6.8336, -6.1494, -7.1853, -7.287, -7.4267, -6.9392, -7.2931, -7.8088, -6.2544, -8.2614, -8.3109, -8.2796, -8.3634, -7.552, -7.8412, -8.5093, -6.8802, -7.688, -7.0952, -8.7821, -8.8205, -8.7913, -7.1779, -8.8722, -8.4793, -7.7316, -8.8816, -9.0163, -6.2338, -8.1888, -5.9796, -6.2166, -6.2456, -7.2545, -7.3553, -6.9638, -6.6873, -5.8025, -7.6874, -7.4525, -7.4903, -7.1907, -5.6152, -7.1008, -6.5036, -6.4086, -6.8563, -5.3215, -6.9623, -6.4267, -6.6152, -5.1942, -6.8982, -6.3396, -6.6007, -6.6252, -6.147, -5.4844, -5.5984, -6.0042, -6.3613, -6.6167, -6.4887, -5.575, -5.552, -5.9344, -6.3653, -5.6617, -5.2289, -5.691, -5.308, -5.5162, -6.3189, -5.1376, -6.1101, -5.3969, -6.0513, -5.8858, -5.8356, -5.1697, -5.9479, -5.1681, -5.0912, -5.552, -5.6911, -5.6704, -5.6608, -5.7191, -5.7323, -5.8595, -5.85, -5.7296, -5.8396], \"loglift\": [30.0, 29.0, 28.0, 27.0, 26.0, 25.0, 24.0, 23.0, 22.0, 21.0, 20.0, 19.0, 18.0, 17.0, 16.0, 15.0, 14.0, 13.0, 12.0, 11.0, 10.0, 9.0, 8.0, 7.0, 6.0, 5.0, 4.0, 3.0, 2.0, 1.0, 1.9561, 1.9561, 1.9561, 1.9561, 1.9561, 1.9561, 1.9561, 1.9561, 1.9561, 1.9561, 1.9561, 1.9561, 1.9561, 1.9561, 1.9561, 1.9561, 1.9561, 1.9561, 1.9561, 1.9561, 1.9561, 1.9561, 1.9561, 1.9561, 1.9561, 1.9561, 1.9561, 1.9561, 1.9561, 1.9561, 1.9561, 1.954, 1.9539, 1.9515, 1.9338, 1.9561, 1.9528, 1.9412, 1.956, 1.9561, 1.9561, 1.95, 1.9561, 1.9476, 1.9561, 1.9456, 1.9494, 1.9154, 1.9352, 1.9054, 1.9363, 1.8624, 1.8988, 1.8256, 1.8628, 1.8751, 1.7785, 1.7781, 1.7712, 1.7778, 1.7299, 1.8432, 1.5907, 1.4575, 1.3781, 0.8553, 0.8365, 0.3057, 0.1686, 1.0185, 0.9991, 1.0801, -0.1858, 0.2343, 2.2239, 2.2239, 2.2239, 2.2239, 2.2239, 2.2239, 2.2239, 2.2239, 2.2239, 2.2239, 2.2239, 2.2239, 2.2239, 2.2239, 2.2239, 2.2239, 2.2239, 2.2239, 2.2239, 2.2239, 2.2239, 2.2239, 2.2239, 2.2239, 2.2239, 2.2239, 2.2239, 2.2239, 2.2239, 2.2239, 2.2089, 2.2195, 2.2238, 2.2178, 2.222, 2.1955, 2.2057, 2.2227, 2.2119, 2.2239, 2.199, 2.2141, 2.2205, 2.1904, 2.2239, 2.2213, 2.2239, 2.2177, 2.1739, 2.2239, 2.2227, 2.1819, 2.1788, 2.1939, 2.1331, 2.207, 2.1657, 2.1826, 2.1772, 2.1867, 2.071, 2.1576, 2.1299, 2.1667, 2.0357, 2.039, 2.0975, 2.0618, 2.0268, 2.1575, 1.9801, 2.1076, 1.9877, 1.9577, 1.8945, 1.8807, 1.8408, 1.5614, 1.8877, 1.8807, 1.2363, 1.6424, 1.6954, 1.3971, 1.371, 0.6218, 1.1797, 0.9234, -0.1055, -0.0684, 0.885, 0.826, 0.4519, -0.5868, 1.883, 1.883, 1.883, 1.883, 1.883, 1.883, 1.883, 1.883, 1.883, 1.883, 1.883, 1.883, 1.883, 1.883, 1.883, 1.883, 1.883, 1.883, 1.883, 1.883, 1.883, 1.883, 1.883, 1.883, 1.883, 1.883, 1.883, 1.883, 1.883, 1.883, 1.8801, 1.8719, 1.883, 1.8782, 1.8825, 1.883, 1.883, 1.883, 1.8473, 1.883, 1.883, 1.883, 1.883, 1.8762, 1.883, 1.8763, 1.883, 1.883, 1.8809, 1.872, 1.8789, 1.883, 1.883, 1.883, 1.883, 1.883, 1.883, 1.883, 1.8705, 1.8542, 1.8576, 1.8347, 1.8209, 1.8609, 1.845, 1.8435, 1.7908, 1.7877, 1.8107, 1.8364, 1.8064, 1.682, 1.7497, 1.6763, 1.5867, 1.6496, 1.771, 1.6163, 1.697, 1.6336, 1.7126, 1.726, 1.6174, 1.4724, 1.6835, 1.6962, 1.5505, 1.6489, 1.4042, 1.517, 1.3019, 1.4204, 1.0727, 1.2682, 1.5019, 1.3426, 1.6026, 1.6431, 1.3562, 1.4044, 1.2716, 1.1001, 1.3602, 1.4357, 1.2131, 1.2424, 1.087, 0.9537, 1.0154, 1.2885, 1.0363, 0.9334, 0.3102, 0.9851, 0.9083, 0.772, 0.8002, 0.8883, 0.5702, 0.252, -0.6352, -0.7114, -0.0282, 0.6263, 0.3933, -0.7901, 1.6556, 1.6556, 1.6556, 1.6556, 1.6556, 1.6556, 1.6556, 1.6556, 1.6556, 1.6556, 1.6556, 1.6556, 1.6556, 1.6556, 1.6556, 1.6556, 1.6556, 1.6556, 1.6556, 1.6556, 1.6556, 1.6556, 1.6556, 1.6556, 1.6556, 1.6556, 1.6556, 1.6556, 1.6556, 1.6556, 1.6522, 1.6472, 1.6489, 1.649, 1.6544, 1.6432, 1.6266, 1.6282, 1.6534, 1.6556, 1.654, 1.6466, 1.6474, 1.6193, 1.6381, 1.6212, 1.6432, 1.6456, 1.6448, 1.6459, 1.6396, 1.5709, 1.6027, 1.567, 1.6145, 1.6117, 1.5222, 1.5934, 1.5665, 1.6081, 1.5332, 1.5237, 1.4922, 1.5686, 1.4692, 1.4459, 1.4943, 1.2338, 1.4106, 1.2971, 1.3385, 1.3408, 1.3269, 0.9878, 1.2169, 0.9206, 0.5563, 0.8425, 0.1654, 0.9938, 0.3989, 1.5285, 1.5285, 1.5285, 1.5285, 1.5285, 1.5285, 1.5285, 1.5285, 1.5285, 1.5285, 1.5285, 1.5285, 1.5285, 1.5285, 1.5285, 1.5285, 1.5285, 1.5285, 1.5285, 1.5285, 1.5285, 1.5285, 1.5285, 1.5285, 1.5285, 1.5285, 1.5285, 1.5285, 1.5285, 1.5285, 1.5285, 1.5219, 1.5285, 1.5261, 1.5285, 1.5095, 1.5245, 1.5284, 1.5285, 1.5283, 1.5285, 1.5285, 1.5285, 1.5285, 1.5221, 1.5285, 1.5285, 1.5285, 1.5248, 1.5285, 1.5285, 1.4926, 1.5208, 1.5285, 1.4997, 1.4881, 1.5103, 1.5151, 1.4847, 1.4691, 1.4926, 1.4237, 1.4629, 1.441, 1.4945, 1.5021, 1.4284, 1.3964, 1.4648, 1.4215, 1.3732, 1.3354, 1.4157, 1.4176, 1.3242, 1.2241, 1.3702, 1.1333, 1.2989, 1.2563, 1.2735, 1.2708, 1.1727, 1.2279, 1.1743, 1.2924, 0.895, 0.4751, 0.9005, 0.9426, 0.8899, 0.8967, 0.9712, 0.6486, -0.0113, 0.3786, 0.0186, 0.366, 1.6584, 1.6584, 1.6584, 1.6584, 1.6584, 1.6584, 1.6584, 1.6584, 1.6584, 1.6584, 1.6584, 1.6584, 1.6584, 1.6584, 1.6584, 1.6584, 1.6584, 1.6584, 1.6584, 1.6584, 1.6584, 1.6584, 1.6584, 1.6584, 1.6584, 1.6584, 1.6584, 1.6584, 1.6584, 1.6584, 1.6584, 1.6505, 1.6583, 1.6576, 1.6584, 1.6507, 1.654, 1.6584, 1.6419, 1.6584, 1.6584, 1.6577, 1.658, 1.6496, 1.6517, 1.658, 1.6405, 1.6483, 1.6421, 1.6584, 1.6584, 1.6578, 1.6414, 1.6584, 1.6544, 1.6461, 1.6571, 1.6584, 1.6302, 1.6496, 1.6272, 1.624, 1.621, 1.6396, 1.636, 1.623, 1.6136, 1.5796, 1.6355, 1.6255, 1.627, 1.6126, 1.5438, 1.6065, 1.5692, 1.5549, 1.582, 1.4583, 1.5876, 1.5379, 1.5506, 1.3641, 1.5751, 1.4967, 1.5289, 1.5284, 1.4407, 1.3065, 1.3166, 1.3708, 1.4079, 1.4868, 1.4304, 1.0842, 1.0494, 1.1244, 1.3515, 0.9694, 0.6473, 0.903, 0.591, 0.7172, 1.311, 0.3183, 1.1348, 0.5193, 1.0802, 0.9114, 0.8002, -0.0412, 0.9282, -0.1837, -0.4315, -0.0977, 0.1733, 0.1162, 0.084, 0.1569, 0.0201, 0.3903, 0.3158, -0.8957, 0.1374]}, \"token.table\": {\"Topic\": [2, 6, 4, 3, 1, 2, 3, 4, 2, 3, 6, 2, 1, 2, 3, 6, 1, 5, 2, 3, 4, 6, 2, 5, 6, 1, 1, 2, 3, 5, 6, 1, 2, 3, 4, 5, 6, 5, 1, 3, 4, 5, 6, 5, 6, 1, 3, 4, 5, 6, 6, 3, 6, 3, 5, 1, 2, 3, 4, 5, 6, 6, 1, 5, 6, 1, 1, 4, 5, 6, 1, 2, 3, 4, 5, 6, 1, 3, 5, 1, 3, 5, 1, 4, 5, 6, 1, 3, 4, 5, 6, 1, 5, 2, 3, 2, 2, 1, 5, 1, 5, 1, 3, 6, 1, 2, 3, 4, 5, 6, 5, 1, 2, 1, 2, 3, 4, 5, 6, 1, 1, 3, 6, 1, 3, 4, 5, 6, 1, 3, 4, 6, 6, 6, 3, 5, 6, 1, 2, 3, 5, 6, 3, 6, 1, 3, 5, 6, 3, 1, 2, 3, 4, 5, 6, 5, 3, 3, 4, 3, 1, 2, 3, 5, 6, 2, 3, 5, 6, 6, 1, 2, 3, 4, 5, 6, 1, 3, 1, 2, 3, 4, 5, 6, 2, 3, 5, 6, 3, 1, 2, 3, 4, 5, 6, 1, 2, 3, 4, 5, 6, 1, 3, 4, 5, 6, 2, 3, 5, 2, 3, 3, 4, 1, 2, 3, 4, 5, 6, 2, 1, 2, 6, 3, 1, 2, 3, 4, 5, 6, 1, 2, 3, 4, 5, 6, 1, 3, 4, 5, 6, 4, 3, 5, 3, 1, 1, 2, 3, 4, 5, 6, 3, 1, 3, 4, 5, 6, 5, 5, 1, 2, 3, 4, 5, 6, 3, 5, 6, 1, 2, 3, 5, 6, 1, 2, 3, 5, 6, 1, 2, 3, 4, 5, 6, 1, 5, 5, 1, 1, 6, 6, 1, 2, 3, 4, 5, 6, 1, 2, 5, 3, 5, 1, 2, 3, 5, 6, 1, 2, 3, 5, 6, 2, 3, 6, 6, 4, 1, 5, 2, 6, 1, 2, 3, 4, 5, 6, 1, 2, 3, 4, 5, 6, 5, 1, 3, 5, 3, 1, 2, 3, 4, 5, 6, 6, 1, 4, 5, 4, 6, 4, 2, 3, 5, 6, 6, 6, 4, 1, 2, 3, 5, 6, 2, 3, 5, 6, 2, 6, 1, 2, 3, 4, 5, 6, 1, 2, 3, 4, 5, 6, 3, 5, 6, 6, 5, 3, 5, 5, 6, 3, 3, 1, 2, 3, 4, 5, 6, 5, 5, 1, 5, 6, 1, 3, 5, 6, 3, 2, 1, 2, 3, 3, 5, 6, 5, 1, 2, 3, 4, 5, 6, 5, 6, 1, 4, 5, 6, 1, 3, 5, 6, 5, 1, 2, 6, 1, 2, 3, 4, 5, 6, 5, 1, 2, 3, 4, 5, 6, 6, 1, 3, 5, 1, 3, 5, 6, 6, 1, 2, 3, 5, 6, 2, 3, 3, 5, 5, 6, 1, 3, 4, 5, 6, 1, 1, 3, 4, 5, 6, 3, 1, 3, 4, 5, 6, 1, 3, 5, 6, 3, 5, 2, 6, 1, 3, 5, 1, 3, 4, 5, 6, 1, 3, 5, 6, 1, 2, 3, 4, 5, 6, 1, 2, 3, 4, 5, 6, 1, 2, 3, 4, 5, 6, 1, 3, 4, 2, 3, 4, 6, 2, 1, 2, 3, 4, 5, 6, 3, 4, 6, 1, 3, 4, 5, 1, 2, 3, 4, 5, 6, 6, 1, 2, 3, 4, 5, 6, 1, 2, 3, 4, 5, 6, 3, 2, 1, 2, 3, 4, 5, 6, 2, 6, 2, 3, 1, 3, 4, 5, 6, 2, 3, 6, 1, 2, 3, 4, 5, 6, 1, 2, 3, 4, 5, 6, 1, 1, 3, 4, 5, 6, 1, 2, 3, 4, 5, 6, 3, 4, 5, 6, 4, 4, 2, 3, 5, 6, 1, 4, 5, 6, 5, 1, 2, 3, 4, 5, 6, 5, 3, 2, 4, 2, 2, 4, 2, 3, 6, 5, 1, 2, 3, 4, 5, 6, 1, 2, 3, 4, 5, 6, 3, 1, 2, 3, 4, 5, 6, 1, 2, 3, 4, 5, 6, 2, 2, 3, 5, 6, 2, 3, 5, 6, 4, 4, 5, 6, 1, 2, 3, 4, 5, 6, 3, 1, 2, 3, 5, 6, 6, 4, 5, 6, 2, 6, 2, 2, 4, 5, 6, 1, 2, 3, 4, 5, 6, 1, 5, 1, 2, 3, 4, 5, 6, 2, 3, 6, 6, 1, 2, 3, 4, 5, 6, 1, 2, 3, 4, 5, 6, 1, 2, 3, 4, 6, 4, 3, 1, 2, 3, 4, 5, 6, 6, 1, 2, 3, 4, 5, 6, 2, 4, 6, 1, 2, 3, 4, 5, 6, 1, 3, 5, 6, 5, 6, 5, 6, 3, 6, 1, 1, 2, 3, 4, 5, 6, 1, 2, 3, 4, 5, 6, 1, 3, 5, 6, 1, 3, 5, 6, 1, 2, 3, 4, 5, 6, 2, 3, 4, 5, 6, 1, 2, 3, 4, 5, 6, 1, 2, 3, 5, 6, 2, 3, 3, 1, 2, 3, 4, 5, 6, 3, 1, 2, 3, 4, 5, 6, 2, 3, 3, 6, 1, 3, 4, 5, 6, 1, 2, 3, 4, 5, 6, 1, 4, 6, 6, 1, 2, 3, 4, 5, 6, 1, 5, 6, 2, 3, 4, 6, 5, 2, 4, 5, 1, 2, 3, 4, 5, 6, 3, 1, 2, 3, 5, 6, 6, 4, 4, 2, 3, 5, 6, 3, 5, 6, 1, 2, 3, 4, 6, 3, 5, 6, 1, 2, 3, 4, 5, 6, 2, 4, 2, 3, 1, 2, 3, 4, 5, 6, 3, 1, 3, 5, 1, 5, 6, 6, 3, 6, 1, 5, 6, 3, 1, 2, 3, 4, 5, 6, 5, 2, 2, 3, 1, 2, 3, 4, 5, 6, 3, 1, 2, 3, 5, 6, 1, 3, 5, 6, 4, 2, 1, 2, 3, 4, 5, 6, 1, 6, 2, 3, 4, 5, 6, 1, 1, 1, 1, 1, 1, 2, 3, 4, 5, 6, 5, 4, 2, 3, 5, 6, 3, 5, 3, 5, 1, 2, 3, 4, 5, 6, 2, 3, 6, 2, 3, 6, 1, 3, 5, 6, 2, 3, 4, 6, 1, 2, 3, 4, 5, 6, 1, 3, 4, 5, 6, 1, 2, 3, 4, 5, 6, 1, 3, 5, 6, 5, 3, 5, 5, 5, 5, 5, 1, 5, 3, 3, 1, 2, 3, 4, 5, 6, 1, 3, 4, 5, 6, 1, 3, 4, 6, 4, 2, 3, 6, 1, 2, 3, 4, 5, 6, 1, 3, 4, 5, 6, 2, 3, 5, 6, 2, 3, 6, 2, 3, 1, 3, 5, 6, 5, 5, 2, 1, 3, 4, 6, 1, 3, 4, 5, 6, 1, 5, 6, 1, 2, 3, 5, 6, 1, 5, 6, 5, 1, 2, 3, 5, 6, 1, 2, 3, 4, 5, 6, 6, 1, 2, 3, 5, 6, 4, 2, 3, 4, 6, 2, 3, 6, 2, 2, 3, 5, 6, 5, 1, 2, 3, 4, 5, 6, 1, 1, 2, 3, 4, 5, 6, 1, 3, 5, 6, 3, 5, 4, 2, 3, 4, 5, 6, 1, 1, 2, 3, 4, 5, 6, 2, 4, 6, 4, 4, 1, 2, 3, 4, 5, 6, 1, 3, 5, 4, 3, 5, 6, 1, 2, 3, 4, 5, 6, 2, 3, 5, 3, 1, 2, 3, 4, 5, 6, 1, 1, 1, 1, 2, 3, 4, 5, 6, 1, 2, 3, 4, 5, 6, 1, 2, 3, 4, 5, 6, 2, 3, 4, 6, 1, 2, 3, 4, 5, 6, 1, 3, 4, 5, 6, 1, 2, 4, 5, 6, 1, 1, 2, 3, 4, 6, 1, 2, 3, 4, 5, 6, 1, 3, 5, 1, 4, 4, 4, 1, 4, 3, 5, 1, 2, 3, 4, 1, 2, 3, 4, 5, 6, 6, 1, 2, 3, 4, 5, 6, 4, 1, 2, 3, 4, 5, 6, 1, 4, 5, 6, 6, 1, 2, 3, 4, 5, 6, 1, 2, 3, 4, 5, 6, 1, 3, 3, 2, 3, 5, 6, 3, 2, 3, 1, 2, 3, 4, 5, 6, 1, 3, 5, 1, 5, 6, 1, 2, 3, 4, 5, 6, 5, 1, 1, 5, 6, 1, 5, 1, 2, 3, 5, 6, 3, 5, 3, 5, 5, 1, 3, 6, 1, 3, 4, 5, 6, 1, 5, 1, 5, 6, 1, 2, 2, 3, 4, 6, 4, 1, 6, 1, 2, 3, 4, 5, 6, 1, 2, 3, 4, 5, 6, 1, 2, 3, 4, 5, 6, 3, 4, 1, 2, 3, 4, 5, 6, 1, 2, 3, 4, 5, 6, 3, 5, 6, 3, 1, 2, 3, 4, 5, 6, 1, 2, 3, 5, 6, 4, 6, 2, 3, 4, 6, 1, 3, 5, 6, 1, 3, 5, 6, 2, 1, 2, 3, 4, 5, 6, 1, 3, 6, 1, 2, 3, 4, 5, 6, 3, 1, 1, 1, 2, 3, 4, 5, 6, 1, 5, 6, 1, 3, 4, 5, 6, 4, 1, 2, 3, 5, 6, 2, 3, 2, 6, 3, 1, 3, 5, 6, 5, 6, 5, 2, 3, 5, 1, 2, 3, 4, 5, 6, 2, 6, 1, 2, 3, 4, 5, 6, 5, 6, 1, 2, 3, 4, 5, 6, 3, 4, 1, 2, 3, 5, 6, 1, 2, 3, 4, 5, 6, 2, 3, 6, 1, 2, 3, 4, 5, 6, 2, 2, 3, 2, 2, 1, 2, 3, 4, 5, 6, 3, 6, 2, 2, 6, 1, 3, 4, 6, 4, 3, 2, 4, 3, 5, 2, 1, 3, 5, 6, 6, 2, 2, 3, 5, 6, 3, 2, 3, 2, 3, 2, 4, 5, 6, 6, 1, 2, 3, 4, 5, 6, 5, 5, 1, 2, 3, 4, 5, 6, 5, 5, 1, 2, 3, 4, 5, 6, 4, 1, 2, 3, 4, 5, 6, 1, 1, 2, 3, 4, 5, 6, 6, 6, 1, 2, 3, 4, 5, 6, 1, 5], \"Freq\": [1.001490884298839, 0.9943801360859401, 0.9991405187739864, 0.9347817077948499, 6.03319443352795e-05, 0.0007239833320233539, 0.0015082986083819873, 0.9977696954168522, 0.7896204894086918, 0.00013729187491892265, 0.21022131887585438, 0.9999902121240032, 7.07090595031532e-05, 0.9754079061594972, 0.017347289264773583, 0.0071651846963195235, 0.9979070647518653, 0.0020944980591097876, 0.9357989004626889, 0.023806711539004096, 0.019903971942446048, 0.020450355485964175, 0.005051814088750463, 0.03974093749817031, 0.9552419129150598, 0.9999040448350897, 0.013215072609611517, 5.575980004055492e-05, 0.02754534122003413, 0.11687254088500312, 0.8423075394126226, 0.1558779335342177, 0.10446082245510274, 0.4199477613909413, 0.15580441487673194, 0.16234757539296604, 0.0015622714715727514, 1.0000095712517525, 0.00439667899199976, 0.02133854870783884, 0.0028724969414398436, 0.09332683940351491, 0.8781047282821922, 0.9995538529381416, 1.0015857892459832, 0.339852409791843, 0.008680367938059704, 0.6448609565264637, 0.0014875250913377802, 0.005121605377770585, 1.0006402510485115, 1.0048903358794636, 1.0015857892459832, 0.9930081613984438, 0.006651729310802973, 0.0006069697866780379, 0.22172381503724028, 0.5407201584802536, 0.030876777851936484, 0.04551149381961807, 0.1605547487575758, 1.0000164598767711, 0.002032612984496682, 0.07379740209045954, 0.9241613702844915, 1.0000270342624984, 0.0054330521990408834, 0.0017286984269675538, 0.0006997112680582956, 0.9921494186203068, 0.016818476894500226, 0.1067378690183282, 0.013641653481094628, 0.0468369098971082, 0.10549771870186506, 0.7104702244493878, 0.04573608921761464, 0.12986514656411524, 0.8243976674882962, 0.238401672395294, 0.0598518542197264, 0.7017481559951588, 0.001691244518822066, 0.10028212691733404, 0.006331325634564657, 0.8916978312379162, 0.075663328744297, 0.019106901198054797, 0.023151685205519936, 0.7403600866687498, 0.1417202954708643, 0.9998178513303676, 0.00015900411121666153, 0.9940952910438827, 0.0063502022075973925, 1.0402370890028594, 0.9995763558822266, 0.0037639186466760896, 0.9962622167920775, 0.9803221191030203, 0.019663048126667478, 0.9851352045492059, 0.005131876503228198, 0.009725326619232455, 0.028718071876794298, 0.05023293100561379, 0.6830730825612427, 0.004265060179721926, 0.038906826750574455, 0.19481847109818706, 0.9730170249840318, 1.0000776392873179, 0.9820420071006017, 0.1457620548591505, 0.1764682025760266, 0.38688422989782695, 0.030800657251246286, 0.13898572124480757, 0.12109506638852982, 0.9999919581481863, 0.9994596430373851, 0.9347817077948499, 0.9999900393714756, 0.11525370396463334, 0.01443831168583299, 0.10839175070719483, 0.7375958618900674, 0.024315421126331782, 0.015190064359993953, 0.001365072705391426, 0.9661665123659252, 0.01728123956825316, 0.9990456669089894, 1.0001446586139744, 0.007002092528540769, 0.09524032634159267, 0.8977513378329941, 0.00461877141249392, 0.0013584621801452706, 0.03559170911980609, 0.00230938570624696, 0.9561536054952486, 0.0007758014973584494, 0.9992323285976827, 0.0030739611813210073, 0.01961910518666643, 0.01211502347932397, 0.9652238109347964, 0.9995335893171631, 0.04922353639065314, 0.01631302982955191, 0.08202026419095541, 0.02790424108594668, 0.772842232726984, 0.051698224438030675, 1.000026519084907, 1.000092026732988, 0.001596924408193036, 0.9984462761379228, 1.0282598785743349, 7.694658077954279e-05, 0.28901135740796274, 0.5518095796303613, 0.05906932517842902, 0.10003055501340563, 0.04346807097390634, 0.9397537433687064, 0.00032438858935751, 0.0162194294678755, 0.9998350285286547, 0.13004619735585357, 0.06535075187746975, 0.14397467062269928, 0.07731330594705771, 0.15941934300899865, 0.4239061453381055, 0.9996805669195772, 1.0126801834444208, 0.012886604829377105, 0.4374699327126341, 0.45113407891592217, 0.0221256258605543, 0.033434279078170946, 0.04295916090858011, 0.07544340242256022, 0.8179268997831619, 0.05723481339771981, 0.04940767442812408, 0.999355444188573, 0.003411615433595918, 0.9434335107976141, 0.028206749031337682, 0.005909405304621501, 0.0009747472667416909, 0.017971902730549928, 0.008243469141962008, 0.07992976985714544, 0.5905011003320907, 0.0021177973210012896, 0.2528832177389174, 0.06633487737716942, 0.01568152723270808, 0.015853222786350867, 0.04733074095419555, 0.04263772915462598, 0.878508916138938, 0.0038481783356336383, 0.8433211559979347, 0.15278693243700964, 0.9820420071006017, 0.9347817077948499, 0.999783084826942, 1.0007614475844566, 0.015195761248941163, 0.0013659111235003294, 0.03252575862835159, 0.0882293216335994, 0.012037091775846652, 0.8507065216050488, 1.0004497502327945, 0.041453037362026594, 0.9444715099329639, 0.014072617849839288, 1.0126801834444208, 0.03002132773667068, 0.201880708127527, 0.5425623536562184, 0.13239278322855938, 0.036381778528338196, 0.05676702331563259, 0.05669748926210253, 0.033150642286620444, 0.6194926570134962, 0.006434436504140317, 0.17645245626478018, 0.10777947030240988, 0.017054410337798462, 0.009872306997278415, 0.959711643972928, 0.005651895755941893, 0.007700399457877164, 0.9999887446459387, 0.00629940968190494, 0.9936107348266215, 0.9347817077948499, 0.9999571879876007, 0.10018739913710781, 0.20147350661181784, 0.4447093156311488, 0.009333328080305032, 0.06153620608969639, 0.18275846174203877, 0.9996971041694922, 0.020119334018741886, 0.006614181632032351, 0.9713608712786295, 0.00017254386866171351, 0.0017326280144780398, 0.9992136371951403, 0.9730170249840318, 0.010760152733990643, 0.002314933257511931, 0.008188004670088497, 0.011103105809177595, 0.0015004197039429183, 0.9661416819360443, 9.068749087110423e-05, 0.0076177492331727555, 0.9923025251116225, 0.006512745504404184, 0.04623173154023239, 0.5928642768583181, 0.11603200847084226, 0.23837232648855133, 0.22997773233473406, 0.24711315584902835, 0.4570568624859309, 0.03454899572296842, 0.03129904782021461, 0.14539380306863, 0.03581572262739082, 0.0578156385531402, 0.7198620707093396, 0.041096170782001236, 1.1708310764102916e-05, 0.9222035901799819, 0.07777463417960509, 1.013559401025033, 0.9999982249090069, 1.0000033740332688, 1.008214990153223, 0.9999010142265485, 0.7975303286131261, 0.0029947385543409796, 0.024491218040295408, 0.007931271057158759, 0.07865632951858134, 0.08839264847150727, 0.9977268667298499, 0.0007916182583690384, 0.0014872827884509206, 0.9956511898636154, 0.0040473625604212, 0.005383119071005175, 0.8813208499608908, 0.06210800224610319, 0.030553988086811985, 0.020617558813454607, 0.009105852949774855, 0.7663266675869262, 0.06755029595119512, 0.07297727994418415, 0.0840399780837387, 0.9358818920208563, 0.0030382053336460483, 0.06105072981760455, 0.9999946394819549, 0.9394903385486736, 1.021082568006944, 0.9730170249840318, 0.012162648691195354, 0.9877665838718326, 0.13435838114433502, 0.10489529465240964, 0.32920784154208876, 0.05833001821449153, 0.08629340286474761, 0.28691811259066885, 0.22856291979766497, 0.04843347611003059, 0.36982057582203204, 0.023605002771912218, 0.1810204494260671, 0.1485585836422712, 0.9730170249840316, 0.005258274266954286, 0.008089652718391209, 0.9866679765531144, 0.9815207931845924, 0.08543317697141688, 0.15762555686735452, 0.057493593350426885, 0.3382285271851626, 0.04111154857556646, 0.320106906991123, 1.008214990153223, 0.5609792118219629, 0.4320654505139509, 0.006954831614897579, 0.8847673299456664, 0.11522618667066897, 0.9991405187739864, 0.0006547963450947282, 0.03038926627234508, 0.9604351314050983, 0.008529142136105691, 0.9997230415816591, 1.0002041227419942, 1.000003943310798, 0.06505577361301729, 0.07107803567507136, 0.6632287800866391, 0.19296810836628475, 0.007658885297601681, 0.9103171959392823, 0.0570040558189292, 0.007282071514937302, 0.025428993730161057, 0.0006978299164850802, 0.9992924404066349, 0.036639150697967804, 0.10933636372724115, 0.6196237004514422, 0.03046126385240061, 0.1552729282918051, 0.04865850480840298, 0.14638545621971893, 0.0011292005739249006, 0.0034622596109598193, 0.013578403595543227, 0.5727659935920726, 0.26267445086168745, 0.010813942555143207, 0.07456213391771242, 0.9145891916012369, 0.9987035279819659, 0.999953280270633, 0.00010313894491183782, 0.9999320709202677, 0.9999731627563835, 3.378059464753677e-05, 1.0006555865320708, 0.993205564532028, 0.007007340999741715, 0.003521145165705625, 0.03791128752852781, 0.8299679911551936, 0.08008639352073885, 0.0415023313575725, 1.0005552426722588, 1.0029560103681558, 0.00436555099085054, 0.9571247815246398, 0.03851782064716429, 0.015592702278199852, 0.06950390726574798, 0.89333920130945, 0.0215494649462762, 0.9815207931845924, 1.0000328218940948, 0.0011579860108859874, 0.9987629343891641, 1.0005085466241752, 0.017995648448886403, 0.018699634696275603, 0.9633171812711955, 1.0000452756780325, 0.09017007704440434, 0.10122454366598377, 0.062209709394973146, 0.4795065991251718, 0.05976897594442891, 0.20711969173192907, 0.0044075007702060855, 0.9955766445641981, 0.011181826089708434, 0.00017609174944422732, 0.9738754203012991, 0.014703661078592981, 0.9895256395847144, 0.010519952448550389, 0.008694124734459968, 0.9912974144348683, 0.9980947833599088, 0.0021042580360040113, 0.007843143588742224, 0.9899577578473417, 0.038000505358848975, 0.09957246532085866, 0.3772852703650481, 0.0697531552807156, 0.2010127335782977, 0.2143822703875047, 1.0077676330191756, 0.15949080711806474, 0.0008337746290188145, 0.33864955822476506, 0.32246519316559163, 0.03995265277133991, 0.13860075511155226, 1.008214990153223, 0.004986623129509189, 0.05848842202641073, 0.9365271271553588, 0.003500938204568021, 0.08031653460197699, 0.9161826179511826, 0.9987035279819659, 0.9990227045648941, 0.006593757288427893, 0.05916560593940704, 0.8546935123054101, 0.021919787742611645, 0.057561719031411065, 1.0006982968268106, 0.993205564532028, 0.9301315146158278, 0.06967935174018478, 0.008849656087925086, 0.9911614818476095, 0.019934901156045806, 0.07965412048543517, 0.0006069373851111716, 0.7006023559374125, 0.19919514011071154, 0.9610188875359472, 0.0283367451476357, 0.7667556121223611, 0.04835602461428521, 0.13158804325642973, 0.024952397042958558, 1.0282598785743349, 0.029724350520346374, 0.003922730273131213, 0.004143729161758323, 0.8561828443747205, 0.10603526676328766, 0.026477826174045326, 0.9717362205874635, 0.0017651884116030218, 1.0012065443428229, 0.00014338508106588732, 0.9998241702724323, 0.9635148131518017, 0.036539927304819586, 0.9505174076581351, 0.04536801305085008, 0.004124364822804553, 0.004375095757617411, 0.0024653317364352082, 0.2475748631096202, 0.039063354978726886, 0.7065085188908053, 0.9600446352868655, 0.018896470199575195, 0.020724861471341557, 0.00033412226286085804, 0.03143082735332176, 0.013250158321863749, 0.004058479656750156, 0.9151942331192102, 0.010035427629757353, 0.026028948507055005, 0.04367049454620982, 0.012285571723444431, 0.0074608088359539, 0.8492061963064873, 0.08226859764613406, 0.005112331536413808, 0.008946441931492553, 0.01926925954475319, 0.7918506619687862, 0.0067732171708061025, 0.13658717620914337, 0.03658261680488858, 0.0028395085143498966, 0.007936062258054839, 0.9892410816531294, 0.8504133366035549, 0.00225510863858584, 0.1260618916739301, 0.021258684943861836, 0.9987976135471788, 0.1787361515612286, 0.08420320264907484, 0.10356950556672506, 0.28460028015280553, 0.17618131355417702, 0.1727078378069356, 0.012310449692045755, 0.9876715283826147, 1.7289957432648534e-05, 0.0024598821647546, 0.0028566373526182453, 0.9903009489076584, 0.004284956028927368, 0.016650419254429828, 0.01813441384038614, 0.0231799954326376, 0.08515160934217321, 0.038287060317672865, 0.8186010935052211, 1.008214990153223, 0.07813466665789837, 0.0926966212227918, 0.28459038341308357, 0.2555553871673429, 0.09243976177999177, 0.19657650741672292, 0.08346485836854277, 0.031091791724990613, 0.4288327827117941, 0.012539852892320243, 0.35613433765902475, 0.08794247885968219, 1.0006114055268815, 1.0000476731386019, 0.11091284527967339, 0.05097969561855456, 0.11625742149318105, 0.12966182485824848, 0.20204560302961266, 0.39012828588728005, 0.00043912450335492495, 0.9994473696358092, 1.0004194013855252, 0.9999990362456534, 0.0022287199739614697, 0.0044901351064651615, 0.9932843657057963, 0.006711844208882114, 0.9933529429145529, 0.9902619270357628, 0.008137319205895083, 0.001494609650062362, 0.07161528016303836, 0.06691338615035455, 0.08810735061958762, 0.011742921227657561, 0.16926818445661723, 0.5923441351657446, 0.14405567566504301, 0.07022120494836202, 0.09031962002904474, 0.08116921986368456, 0.250427574564989, 0.36380956978084167, 0.999934827142049, 0.00011177868486764534, 0.7866983840984879, 0.00033533605460293604, 0.1942713542999676, 0.018555261688029127, 0.06210829834346028, 0.03910522488291943, 0.8303063925007038, 0.007528278587086094, 0.039523462582202, 0.0213301226634106, 0.0028324140674298856, 0.9916653324316171, 4.272117748763025e-06, 0.005498215542658013, 0.9999946491978756, 0.9999921464989527, 0.06565095990323136, 0.14971420044675185, 0.08133216061154605, 0.7033131062181831, 0.045357457058074716, 0.011514030996874173, 0.942334007727185, 0.0008104536381294928, 0.9990799810103895, 0.8366916560851891, 0.0009781981729096911, 0.006109124438360524, 0.010907832456408065, 0.1322597756051103, 0.013067251064529458, 1.000027927635225, 0.999783084826942, 0.9596525750153473, 0.040437337789017695, 1.0017691535081468, 0.9929535849572749, 1.0000468060426029, 0.0693623082938291, 0.8750904636071698, 0.05551148854092718, 0.9992136371951403, 0.05373848280808065, 0.3519949473765959, 0.1957609533400528, 0.14393341951496277, 0.17957354569287506, 0.07500010935669464, 0.09983423892566456, 0.008939666087357993, 0.19573247513550485, 0.18848725556143694, 0.3127077137426336, 0.1942983041054474, 0.9979426339972047, 0.0364583188452535, 0.004541044536397689, 0.07612747726169729, 0.6986939804032498, 0.11462697269149318, 0.0695452561407572, 0.07545626122617323, 0.6817668022226007, 0.02277094834893123, 0.12018116897683392, 0.004922882117754222, 0.09487546004812286, 1.0000419409429446, 0.03671661195597999, 0.9090679225245649, 0.012681239470740078, 0.04158266896219421, 0.8901912422590736, 0.10718716543711232, 6.111012852743005e-05, 0.0025055152696246323, 0.9987785637968909, 1.0001026184550397, 0.03235888623740633, 0.9676636802227124, 0.33259079853743545, 0.09735326661551187, 0.20746562462202836, 0.07040185921065131, 0.21442821287860184, 0.07776091640875318, 0.999783084826942, 0.03435024388306797, 0.027127061758123773, 0.7792475886495357, 0.10278320638531709, 0.056554840785674215, 0.9943801360859401, 0.9570841678147021, 0.004693866004761879, 0.03821100294501467, 0.9982073076290067, 0.9992378797893399, 1.000125801863066, 0.005070949320348076, 0.023971760423463634, 0.0018439815710356642, 0.9690123155792415, 0.011217873935965345, 0.02275856438807358, 0.004519431226000427, 0.0041966147098575395, 0.0372046034854678, 0.9200270710072297, 0.9933340041026201, 0.006744154918533324, 0.10296125257433504, 0.03381149195695222, 0.02187378119668429, 0.40115156244108807, 0.2174154069480821, 0.2227891800697737, 0.9543167749600499, 0.04521489013728397, 0.0003767907511440331, 0.997543593570837, 0.027077421383762533, 0.031541799102949186, 0.002135137170045791, 0.022952724577992252, 0.029891920380641073, 0.8864216064824196, 0.062228432655051936, 0.006779604044585694, 0.06790966509464888, 0.04329099118972876, 0.08412011498896552, 0.7356817260448745, 3.6013427158569627e-05, 0.9588935115240748, 0.012856793495609356, 0.016170028794197763, 0.012028484670962255, 1.00006949699061, 1.0126801834444208, 0.04836419692704496, 0.1543904301712257, 0.5592438201784246, 0.016828703493600043, 0.08841820877265606, 0.1327546279722094, 0.997543593570837, 0.23503857702733866, 0.034918014034471784, 0.11502684221667071, 0.28068094282839573, 0.10786143045461984, 0.22647692002143874, 0.0014228893427097676, 0.9934445992053396, 0.00513077157106522, 0.06413374044706427, 0.039610749830161496, 0.014638755372016204, 0.273375681203627, 0.26434639847836655, 0.34388773649135546, 0.0802144228602712, 0.013560777902415659, 0.8950113415594334, 0.01119974960690579, 1.000007537266005, 0.9997771990105938, 0.022649168955152624, 0.9773116404148358, 1.0003804241313305, 0.9992378797893399, 1.0000584452764119, 0.010677834961487795, 0.8582097523626943, 0.02471775290042704, 0.05715541061667466, 0.004381250988037779, 0.0448492497532156, 0.00610639895477819, 0.7095102812389088, 0.08483386467376412, 0.09659585460679325, 0.03020413442732568, 0.07274401439416972, 0.01628943796319348, 6.648750189058564e-05, 0.966595302485334, 0.01708728798588051, 0.011792688797656263, 0.00609126487482245, 0.9647588959338789, 0.01729919224449576, 0.2349689387761175, 0.009446146244579378, 0.08235365124768326, 0.014737883689285218, 0.5316616508811546, 0.12683583824556877, 0.0017680941282077586, 0.030653817966950794, 0.939680351440277, 0.011204782556665446, 0.016714657281777998, 0.019732943407266078, 0.33927995575461894, 0.5269507374875146, 0.0019198550757320056, 0.0475411535248276, 0.06456254904162682, 0.1709107585375219, 0.0891676344541996, 0.6296621881202438, 0.04322388215916683, 0.06706562668346917, 0.9956390913841193, 0.004305192560989451, 1.0126801834444208, 0.006843771033246315, 0.015231131390446918, 0.021523620522280986, 0.8108254205971318, 0.027831860565583975, 0.11773806323018689, 1.0282598785743349, 0.07319480864554731, 0.42617697295053514, 0.2340021036876115, 0.04237474117472468, 0.11741738510164626, 0.10684366099156017, 0.9967492191211068, 0.0034537394979941333, 0.9995931024072446, 0.0005102568159301913, 0.058449102250520635, 0.06045895396335654, 0.25146022771407944, 0.1478139723114928, 0.4817925020566399, 0.0579953787785823, 0.003466605839753708, 0.03521259535425501, 0.8510517336595353, 0.04405087871146491, 0.008229285034009928, 0.00935408804499419, 0.007528900133775812, 0.9830918386799993, 1.0010813935247802, 0.010594734502907465, 0.19139869458343378, 0.6934735310993978, 0.026043783723510718, 0.05409093542575302, 0.02442567881761212, 0.05896550490964895, 0.7896990343539563, 0.15132724667735206, 5.016828923439937e-06, 0.002985013209446763, 0.9965679814967263, 0.0004414809452627145, 1.0000077885064735, 0.9990834487858307, 0.0011366137073786468, 1.0000201331192473, 0.12643065271860596, 0.13032784557011204, 0.07595953175594174, 0.03853768558802428, 0.4148339172218805, 0.21390586715988658, 1.0126801834444208, 0.0017961875169324236, 0.11013465564348808, 0.7912678693012835, 0.017205585688510584, 0.07959946785563687, 1.008214990153223, 1.0000675148180282, 0.9999760443480642, 0.02944155890816068, 0.036761580867045236, 0.18372716879891496, 0.7500600441767334, 0.9263047863509076, 0.020564681550261463, 0.0533489564854609, 0.04336074119783693, 0.16247752524998296, 0.003620986265995836, 0.7827251444168357, 0.007799923245934427, 0.034757156358515263, 0.06355178798607185, 0.9016985570777439, 0.041691575943528646, 0.05764349760823541, 0.6393263643687959, 0.0012078478545078227, 0.2219524557473168, 0.038192982158057706, 0.997487619591783, 1.0065967913021503, 0.9880645096402009, 0.011935390460029912, 0.0809198862375123, 0.01628819079047469, 0.06119650828980479, 0.18728524588407777, 0.5307557145967239, 0.1235509448348566, 0.9992494117807016, 0.910551762907951, 0.0012900339086935842, 0.08815514611579117, 0.9443150854884803, 0.055678955512292475, 0.9987035279819659, 0.9943801360859401, 0.9891208885472548, 0.011401969896798326, 0.009938139894478568, 0.9819490673289386, 0.008112767260798832, 1.0004572376165022, 0.008989468837717833, 0.7193622361213912, 0.2254625786751839, 1.8611736724053482e-05, 0.012339581448047459, 0.033836137364329236, 1.0000452756780327, 1.0001619594397235, 0.9997685922268468, 1.0126801834444208, 0.12405215531244136, 0.26214486530337183, 0.22542760778308554, 0.1285376569734562, 0.135639701270063, 0.12420011456862068, 1.0005085466241752, 0.012421113664221408, 0.008285037433707848, 0.7435273485413862, 0.06838055001662138, 0.16738868009533228, 0.003951798948324259, 0.010657882012147244, 0.2069704802733463, 0.7784245584976907, 1.0001619259696253, 0.9945840506140193, 0.10969100828193913, 0.27239671498570733, 0.3948103926987046, 0.10823923655933947, 0.05592539345186882, 0.058936210669674034, 0.9999896945284639, 7.893637619321171e-06, 0.82113691226441, 0.13650880140436258, 7.222142013684061e-05, 0.007263411396619398, 0.03501707142063386, 0.9999582038198277, 1.0000902688409037, 0.999900147485367, 0.9999911161647446, 0.9999600635802164, 0.018274423936187046, 0.11473656658847874, 0.10732499655457678, 0.04191199402755942, 0.17388015057760584, 0.5438627471443493, 0.9961840970074611, 1.0001026184550397, 0.007065892550075627, 0.09271171116659739, 0.8985385016704451, 0.0016877131887123313, 0.0065790701008532106, 0.9934192165907516, 0.03525027140393376, 0.9647569401898086, 0.09055143479172684, 0.005393136925095496, 0.07447189692246065, 0.0026299865252008897, 0.02260456772925828, 0.8043430941187177, 0.9851571925066651, 0.005474013587483566, 0.009357464736339832, 0.003396853976920033, 0.00042460674711500415, 0.9961274287317997, 0.00436394258346247, 0.03569081612903235, 0.03358677238343437, 0.9264026684321759, 0.0005672867041967694, 0.0006303185602186327, 0.9826666353808484, 0.016136155141596997, 0.0615229005663105, 0.03157692319198705, 0.3716442275250126, 0.01318347869278082, 0.048294117823039016, 0.4737897600312777, 0.9779279543682273, 0.0016283934929637249, 0.007189983576624447, 0.007856372298360371, 0.005396245513605943, 0.8372788575494229, 0.0006357941429356831, 0.0059780156610172155, 0.15215639342646153, 0.0028145521205567435, 0.001124270130800903, 0.013573451169941641, 0.9785224343421565, 0.002467900212716662, 0.004935800425433324, 1.000067214193206, 0.002353398505292609, 0.9976380870625755, 0.9730170249840316, 0.9998286163538322, 1.0000231032000226, 1.0001231668904071, 0.8932058033720945, 0.10680690340671227, 0.999355444188573, 0.9347817077948499, 0.11248596833149975, 0.030094074676960583, 0.1479037996275544, 0.5128182812237762, 0.065179448232439, 0.1315158494020833, 0.326399670743958, 0.0016744032812635356, 0.6558823697518298, 0.006104927519146573, 0.009937450585149776, 0.047722196446022755, 0.00279670121595884, 0.9484828327031724, 0.000991658996893772, 1.0000273947160772, 0.9832598150485391, 0.008193831792071159, 0.00849730704362935, 0.0147276371116446, 0.1050136453796127, 0.052702569765340865, 0.7282723338815144, 0.020926294503570968, 0.07837340052829607, 0.001711381502240332, 0.018254736023896878, 0.003686052466363792, 0.00425651296711057, 0.9721085748494892, 0.013205185027441457, 0.10583133112248208, 0.3200675278296633, 0.5608828509499055, 0.04524753381471133, 0.7658666241822041, 0.18886860151249088, 0.04710829090421325, 0.9529614680831473, 0.01606980604167393, 0.012303894429045514, 0.9715764486412413, 5.749483378058651e-05, 1.000079445400781, 0.9999627646641388, 1.00871475297247, 0.9999950083510277, 0.8941257420153165, 0.02920827543615227, 0.07679762075884863, 0.008625691749777715, 0.004530666373620618, 0.0015683075908686755, 0.05367097088750578, 0.9315747089759933, 0.002855836907239326, 0.04773327402100016, 0.9494637774818172, 0.8311359437749876, 0.005371883026724594, 0.14445645277305005, 0.013407231068791716, 0.0056191245049420436, 0.018539609896020794, 0.9812297316859726, 0.00023383291760746945, 1.0000394114448594, 0.14256456853892566, 0.1212738617684409, 0.5117753639955273, 0.2051725531358824, 0.019211536187429604, 6.786358149432364e-05, 0.0016287259558637672, 0.012724421530185681, 0.011367149900299208, 0.004920109658338463, 0.9692955344834245, 0.9999534698192398, 0.058918364780916124, 0.0021305667375574678, 0.05601956484472014, 0.8152388272858716, 0.06769670946402549, 0.9999763428719014, 0.013032149618946508, 0.0024541060970743427, 0.002284857400724388, 0.9822348092669619, 0.9820200881639585, 0.008525872441632817, 0.009476492365438568, 0.9996740829942109, 0.971979945151422, 0.016733766610613876, 0.0012960568767745912, 0.00998172836548173, 1.013559401025033, 0.17669394157170917, 0.026722743454383607, 0.027946685902675985, 0.06794155528073008, 0.5336389074554773, 0.1670553947914067, 0.9999712209089707, 0.3840219677359145, 0.022179266106799045, 0.0583697714047607, 0.4493483683894343, 0.03294823507190749, 0.053132257962673214, 0.9966859954863055, 0.0030268700680214718, 0.00026707677070777694, 0.9943801360859401, 1.0005626427878207, 0.9730170249840318, 0.9992267184563928, 0.17807092469803384, 0.5825022257532282, 0.027087810753166894, 0.056499610895846, 0.1558406327508146, 1.021082568006944, 0.6938961301086372, 0.0032504646278050547, 0.008658442895026566, 0.13237481711314383, 0.0036762896882161973, 0.15813723326801796, 0.0044447971413666175, 0.9910119706391011, 0.0045633250651363946, 1.0000072210087378, 0.9394903385486737, 0.08112150991873833, 0.13213363632397487, 0.09660858185649251, 0.23110065553139442, 0.17766894710316977, 0.28137031091874654, 0.9915618113928508, 0.0051822659509654445, 0.003238916219353403, 0.9999883591428953, 0.14634317320804324, 0.8536227495380984, 1.830433686154387e-05, 0.03288689574377386, 0.058478880068019705, 0.819182675799458, 0.009567096943643305, 0.052021089631060474, 0.02798375856015667, 0.002739803239510973, 0.997014398858043, 0.0002739803239510973, 1.000151057990294, 0.1337252909286476, 0.02803796372422402, 0.0012083967464243028, 0.25855346463607315, 0.31666313170677124, 0.2618153460496237, 1.0016253194036633, 0.9610188875359472, 0.9610188875359472, 0.015050489885261784, 0.7145205545528143, 0.10288375421566018, 0.11040899915829108, 0.0022953449825013146, 0.05482678458202507, 0.8369573833334121, 0.0007841672444378556, 0.021203882289599615, 0.04888498601825592, 0.0265126945344439, 0.06565048170433728, 0.0036311927322839953, 0.09356230031201572, 0.0121935022223146, 0.876385142984613, 0.0013858694155758444, 0.012827349474399676, 0.9512540886123305, 0.005378047519858286, 0.014741896530025746, 0.028624578367529754, 0.10749652943779583, 0.5155988778813756, 0.06159076129444269, 0.23783798673330647, 0.0405358171133842, 0.03694191992601199, 0.006105794799578468, 0.004755474795825537, 0.9840897349089835, 0.0021722539190808013, 0.0028180591382669855, 0.0027822751203665525, 0.14625492882726843, 0.0009737962921282933, 0.05379065232708668, 0.796148025692889, 0.9999408601533825, 0.1635363031048534, 0.7094994549214904, 0.011780518276082999, 0.082463627932581, 0.032729970053792044, 0.02490740121501336, 0.0006700341072905315, 0.07682164384788374, 0.002858812191106268, 0.87626167172646, 0.018484007573121464, 0.00122327344538178, 0.06053094462492601, 0.9382507326078252, 0.027069548932523946, 0.972928410330993, 0.9947544761103604, 1.0000265360953247, 0.00818450449430635, 0.9918772774220576, 1.0126801834444208, 1.0022075357335527, 0.07209638707041512, 0.009126224906828625, 2.6323117700688277e-06, 0.9187742032895133, 0.003303450601028105, 0.783678587127534, 0.08234601407290058, 0.005966231994584093, 0.0072075285840613205, 0.11750273683293302, 1.0003434352528724, 0.020803561020649175, 0.024953897383870955, 0.02324188363404197, 0.9166277254198004, 0.002593960227013613, 0.011750639828371667, 1.0000448264261435, 0.0039986855320557554, 0.0041565283820053246, 0.025399545271051528, 0.19818485168251337, 0.20512993708029442, 0.5631438279075759, 0.0002458562344082026, 0.0025814904612861274, 0.015734799002124968, 0.9813351596403407, 0.997543593570837, 0.034737551265252, 0.37247113257500486, 0.035336015969285824, 0.028307380500799725, 0.310669677471779, 0.2184861642271028, 5.323209326541374e-05, 0.8284466314818618, 0.03736892947232044, 0.0033758019145816547, 0.048760597431118984, 0.0819907316520535, 0.9610188875359472, 0.9815207931845924, 1.0048903358794636, 0.33957648686988995, 0.060767557551000405, 0.013416723487696668, 0.5862362790596349, 1.0015518297801962, 0.01115165830900312, 0.9889552980384179, 0.41642226706435, 0.00898645701078071, 0.16565732381113588, 0.054048115199944666, 0.32581131348388664, 0.029079100094685752, 0.001747201626887853, 0.9545544888230637, 0.04368004067219632, 0.0029805103833189903, 0.01923783974687712, 0.9778783612180214, 0.03584163611909947, 0.01397249867481183, 0.0596799854871035, 0.7299047271620364, 0.020681672967674734, 0.13991300195691533, 0.9973424506086324, 0.9999961597835141, 0.9938780676452147, 0.004994070336984426, 0.0011033411209616757, 0.9793057562073038, 0.020695942876591704, 0.023109795354010046, 0.15044874596663815, 0.7170908016890629, 0.04824486228834022, 0.06111980304894676, 0.9999429111781397, 1.000102273254359, 0.9951148493219312, 0.004674827040347312, 1.0077676330191756, 0.9999862869090211, 0.9625482348202749, 0.03696305917413281, 0.012889035982589522, 0.021994443806526893, 0.003514170960409861, 0.7616769077481322, 0.19993724109577893, 0.9954405437884566, 0.004560746660267364, 1.0000156043772819, 0.0012733264231348943, 0.9989245789493246, 0.9999370390290335, 1.0002552355070429, 0.9671184277907506, 0.014863001132529424, 0.01074521885154996, 0.007285307112502127, 0.9982084847079659, 0.0001168772939077325, 0.9998852493806515, 0.023651641963697543, 0.06367749759457031, 0.8296268258035446, 0.02243873724761049, 0.0036387141482611607, 0.05700652165609151, 0.6073856943568656, 0.03597123041318362, 0.018163426528456286, 0.28832994896934205, 0.02575596997206944, 0.02438682279371297, 0.10388842591684436, 0.16999595658351227, 0.07689912162920293, 0.4434672638317144, 0.13754889552678015, 0.06819872413069981, 0.9876453186366559, 0.012712266477501512, 0.04616792245236987, 0.11485287488885074, 0.2318502288238073, 0.050888241272246455, 0.08642004063962028, 0.469813455388238, 0.019470772906397694, 0.9132367878947076, 0.025245941958897265, 7.103528969864171e-06, 0.006954354861497023, 0.03508432958215914, 0.7554417211215619, 0.21770779518972477, 0.026834758055194703, 1.0126801834444208, 0.11831837682578895, 0.5894990630987941, 0.01175362113902781, 0.05333522685929346, 0.04096855713567608, 0.18611309443885043, 0.003937047814144463, 0.006061803777333538, 0.9649516714000738, 0.004312004748824888, 0.02074761705231685, 0.9876127312621149, 0.012329986230259925, 0.0007305632555005285, 0.9614212442386956, 0.02483915068701797, 0.013150138599009514, 0.06077709585741465, 0.08708964195094396, 0.7749009927268395, 0.0772346512124656, 0.09587867846883757, 0.0030292921395729104, 0.9005139056957937, 0.0005782409497190456, 1.00871475297247, 0.018291279913367438, 0.004966097919143604, 0.003362140827246291, 0.9536141817903333, 0.012924192721249504, 0.006847662969253914, 0.0180650545472392, 0.9745093314094034, 0.007025298990593021, 0.20515437871010853, 0.018902697570821046, 0.16054503559304237, 0.014004366603551453, 0.09934787194190656, 0.5020469507053993, 1.0126801834444208, 1.0001377024967049, 1.000017046022436, 1.8687893774546492e-05, 0.5590857180531075, 0.2288706350568709, 0.06191299207507253, 0.07559253031804057, 0.07450863247911688, 0.09287586768224661, 0.9047442221736381, 0.0023828959752550598, 0.005855163005526637, 0.023185224767975174, 0.9643100329221175, 0.002637657199064494, 0.00401098284816419, 1.000010385718687, 0.9999844047771153, 0.9704381070443101, 0.021595456349536402, 0.0014808312925396392, 0.006416935601005103, 0.9999079800848798, 0.00011347117340954151, 0.00037954669563718303, 0.99972599630834, 0.9347817077948499, 0.9109011656261079, 0.01873170101661207, 0.06516899065140698, 0.005178036294239681, 0.9960317653010398, 0.0039902875050716385, 0.9999913701122288, 0.9929535849572749, 0.9933410796231041, 0.0064783113888463315, 0.11743348308108927, 0.10103148405920845, 0.06903822184450313, 0.3330842851247842, 0.2209366025097308, 0.15847544427541393, 0.9981696530527325, 0.0018797921903064643, 0.28665525162596645, 0.0008351956113517565, 0.008769553919193443, 0.515909120664731, 0.12663470300188695, 0.061189067947455, 0.0005821048355434821, 0.9994740026281589, 0.8776485406473592, 0.014696564682561638, 0.004054433720673705, 0.0243447836411753, 0.05704691272451658, 0.022211509097562226, 0.0012085769282071715, 0.9987837375172962, 0.00968370763948482, 0.02878581585983844, 0.9118603604632693, 0.004908180584396416, 0.04470423937679979, 0.040264434800091106, 0.2569278521132503, 0.4074163354009847, 0.011505932484527762, 0.10181927492358782, 0.18206967311050312, 0.9559214893210486, 0.0210285936758342, 0.02302750942448764, 0.022612270960908565, 0.8312196202743314, 0.0004694811661394554, 0.015087709804974826, 0.09795435125301431, 0.03265788166652266, 1.0402370890028594, 0.9938908925929971, 0.006095809347445162, 0.9999264577179241, 0.9963309781033881, 0.09036524118214083, 0.1277149715784206, 0.013006091684386085, 0.04733247620666384, 0.5280230785748213, 0.19355831073062515, 0.01618431901191669, 0.9837753913672215, 1.000136320273055, 0.016452220691208212, 0.9835527306333592, 0.00015097590217518175, 0.00513318067395618, 0.990099966464842, 0.0046047650163430435, 1.002590435913883, 1.0126801834444208, 0.9997083712495014, 1.0000306021873289, 0.007563303372468739, 0.9922633841158293, 0.9997083712495014, 2.5055067984222106e-05, 0.19764690379353608, 0.7948720317994463, 0.007453882725306077, 0.9943801360859401, 0.9929535849572749, 0.11275368648713355, 0.8132482873045762, 0.03746348902149582, 0.03647760773145646, 1.0015518297801962, 0.0020500116479659244, 0.9983556725594053, 0.9977179415456839, 0.002367065104497471, 0.9929535849572749, 0.9147149736833243, 1.2956119228953193e-05, 0.08527717676496992, 0.9987035279819659, 0.10629286091071727, 0.008553222279555262, 0.041432933089413704, 0.02594075865066995, 0.5566099749360159, 0.26116641813038266, 0.9730170249840316, 0.9999771944420274, 0.021632077678458192, 0.0295880204859835, 0.04314523244499523, 0.015745393538360995, 0.14485999901115956, 0.7450401508948473, 0.9999572357734917, 1.0001382841112536, 0.06206053269614385, 0.008715117634529979, 0.002857033703276049, 0.87514606281165, 0.04443333365065345, 0.0067899555616775485, 0.9998395443235016, 0.1919727356929201, 0.014117992318983816, 0.08060524344094372, 0.002484967743796719, 0.673548352359791, 0.03727092516310137, 1.0296630937885147, 0.39153493937270173, 0.04821602818974363, 0.26904982278895345, 0.1310043373300917, 0.12658636203360854, 0.0336139701326173, 1.008214990153223, 0.9943801360859401, 0.16736769199989068, 0.060165159296732766, 0.07468766110998623, 0.225331230759253, 0.34874844934564975, 0.12370221800871008, 1.0010613411832783, 0.9999722263518326], \"Term\": [\"MHz\", \"abjure\", \"adductor\", \"adjectival\", \"aggregate\", \"aggregate\", \"aggregate\", \"aggregate\", \"aircraft\", \"aircraft\", \"aircraft\", \"airline\", \"airport\", \"airport\", \"airport\", \"airport\", \"album\", \"album\", \"allocate\", \"allocate\", \"allocate\", \"allocate\", \"ally\", \"ally\", \"ally\", \"alto\", \"ambassador\", \"ambassador\", \"ambassador\", \"ambassador\", \"ambassador\", \"amp\", \"amp\", \"amp\", \"amp\", \"amp\", \"amp\", \"anatomy\", \"anti\", \"anti\", \"anti\", \"anti\", \"anti\", \"antibiotic\", \"appal\", \"appearance\", \"appearance\", \"appearance\", \"appearance\", \"appearance\", \"appeasement\", \"aquifer\", \"arbitrate\", \"arcade\", \"arcade\", \"area\", \"area\", \"area\", \"area\", \"area\", \"area\", \"armistice\", \"army\", \"army\", \"army\", \"arranger\", \"arrest\", \"arrest\", \"arrest\", \"arrest\", \"arrive\", \"arrive\", \"arrive\", \"arrive\", \"arrive\", \"arrive\", \"art\", \"art\", \"art\", \"artist\", \"artist\", \"artist\", \"attack\", \"attack\", \"attack\", \"attack\", \"attend\", \"attend\", \"attend\", \"attend\", \"attend\", \"audition\", \"audition\", \"autobahn\", \"autobahn\", \"autopista\", \"autoroute\", \"bachelor\", \"bachelor\", \"ballet\", \"ballet\", \"band\", \"band\", \"band\", \"bank\", \"bank\", \"bank\", \"bank\", \"bank\", \"bank\", \"bantu\", \"baritone\", \"bascule\", \"base\", \"base\", \"base\", \"base\", \"base\", \"base\", \"bass\", \"bassoon\", \"bathyscaphe\", \"battalion\", \"bear\", \"bear\", \"bear\", \"bear\", \"bear\", \"beat\", \"beat\", \"beat\", \"beat\", \"belorussian\", \"besiege\", \"bishop\", \"bishop\", \"bishop\", \"bomb\", \"bomb\", \"bomb\", \"bomb\", \"bomb\", \"bomber\", \"bomber\", \"bombing\", \"bombing\", \"bombing\", \"bombing\", \"bonnet\", \"book\", \"book\", \"book\", \"book\", \"book\", \"book\", \"botany\", \"boutique\", \"brace\", \"brace\", \"brackish\", \"branch\", \"branch\", \"branch\", \"branch\", \"branch\", \"brick\", \"brick\", \"brick\", \"brick\", \"brigade\", \"british\", \"british\", \"british\", \"british\", \"british\", \"british\", \"buffa\", \"bugle\", \"build\", \"build\", \"build\", \"build\", \"build\", \"build\", \"building\", \"building\", \"building\", \"building\", \"bureaux\", \"bus\", \"bus\", \"bus\", \"bus\", \"bus\", \"bus\", \"business\", \"business\", \"business\", \"business\", \"business\", \"business\", \"camp\", \"camp\", \"camp\", \"camp\", \"camp\", \"campus\", \"campus\", \"campus\", \"camshaft\", \"canner\", \"capita\", \"capped\", \"capture\", \"capture\", \"capture\", \"capture\", \"capture\", \"capture\", \"carriageway\", \"carrier\", \"carrier\", \"carrier\", \"censer\", \"centre\", \"centre\", \"centre\", \"centre\", \"centre\", \"centre\", \"century\", \"century\", \"century\", \"century\", \"century\", \"century\", \"champion\", \"champion\", \"champion\", \"champion\", \"champion\", \"championship\", \"chemistry\", \"chemistry\", \"chlorinate\", \"chorus\", \"city\", \"city\", \"city\", \"city\", \"city\", \"city\", \"clearinghouse\", \"club\", \"club\", \"club\", \"club\", \"club\", \"cognitive\", \"colloquialism\", \"command\", \"command\", \"command\", \"command\", \"command\", \"command\", \"commander\", \"commander\", \"commander\", \"community\", \"community\", \"community\", \"community\", \"community\", \"company\", \"company\", \"company\", \"company\", \"company\", \"competition\", \"competition\", \"competition\", \"competition\", \"competition\", \"competition\", \"composer\", \"composer\", \"conceptional\", \"concert\", \"concerto\", \"conciliation\", \"conclave\", \"conduct\", \"conduct\", \"conduct\", \"conduct\", \"conduct\", \"conduct\", \"conductor\", \"conductor\", \"conductor\", \"conglomerate\", \"conglomerate\", \"connect\", \"connect\", \"connect\", \"connect\", \"connect\", \"connection\", \"connection\", \"connection\", \"connection\", \"connection\", \"constituency\", \"constituency\", \"constituency\", \"consulate\", \"contester\", \"contrabassoon\", \"contrapposto\", \"convoy\", \"convoy\", \"country\", \"country\", \"country\", \"country\", \"country\", \"country\", \"create\", \"create\", \"create\", \"create\", \"create\", \"create\", \"cuneiform\", \"curator\", \"curator\", \"curator\", \"dative\", \"day\", \"day\", \"day\", \"day\", \"day\", \"day\", \"debilitate\", \"debut\", \"debut\", \"debut\", \"defeat\", \"defeat\", \"defending\", \"degree\", \"degree\", \"degree\", \"degree\", \"deportation\", \"depose\", \"derby\", \"design\", \"design\", \"design\", \"design\", \"design\", \"destination\", \"destination\", \"destination\", \"destination\", \"destroyer\", \"destroyer\", \"development\", \"development\", \"development\", \"development\", \"development\", \"development\", \"die\", \"die\", \"die\", \"die\", \"die\", \"die\", \"diplomatic\", \"diplomatic\", \"diplomatic\", \"discord\", \"dissertation\", \"doctoral\", \"doctoral\", \"doctorate\", \"doctorate\", \"domed\", \"dough\", \"draw\", \"draw\", \"draw\", \"draw\", \"draw\", \"draw\", \"drypoint\", \"eccl\", \"educate\", \"educate\", \"educate\", \"education\", \"education\", \"education\", \"education\", \"eggshell\", \"electrification\", \"electrify\", \"electrify\", \"elm\", \"embassy\", \"embassy\", \"embassy\", \"emeritus\", \"end\", \"end\", \"end\", \"end\", \"end\", \"end\", \"enemy\", \"enemy\", \"enrol\", \"enrol\", \"enrol\", \"enrol\", \"ensemble\", \"ensemble\", \"envoy\", \"envoy\", \"erudition\", \"escort\", \"escort\", \"escort\", \"establish\", \"establish\", \"establish\", \"establish\", \"establish\", \"establish\", \"etiology\", \"event\", \"event\", \"event\", \"event\", \"event\", \"event\", \"exculpate\", \"exhibit\", \"exhibit\", \"exhibit\", \"exhibition\", \"exhibition\", \"exhibition\", \"expedient\", \"expeditionary\", \"export\", \"export\", \"export\", \"export\", \"export\", \"expressway\", \"exurb\", \"facade\", \"facade\", \"faction\", \"faction\", \"family\", \"family\", \"family\", \"family\", \"family\", \"fandango\", \"fashion\", \"fashion\", \"fashion\", \"fashion\", \"fashion\", \"fastback\", \"father\", \"father\", \"father\", \"father\", \"father\", \"feather\", \"feather\", \"feather\", \"federalist\", \"fellowship\", \"fellowship\", \"ferry\", \"ferry\", \"festival\", \"festival\", \"festival\", \"fight\", \"fight\", \"fight\", \"fight\", \"fight\", \"film\", \"film\", \"film\", \"film\", \"final\", \"final\", \"final\", \"final\", \"final\", \"final\", \"finish\", \"finish\", \"finish\", \"finish\", \"finish\", \"finish\", \"firm\", \"firm\", \"firm\", \"firm\", \"firm\", \"firm\", \"fixture\", \"fixture\", \"fixture\", \"flight\", \"flight\", \"flight\", \"flight\", \"flyover\", \"follow\", \"follow\", \"follow\", \"follow\", \"follow\", \"follow\", \"football\", \"football\", \"football\", \"footballer\", \"footballer\", \"footballer\", \"footballer\", \"force\", \"force\", \"force\", \"force\", \"force\", \"force\", \"forgave\", \"form\", \"form\", \"form\", \"form\", \"form\", \"form\", \"found\", \"found\", \"found\", \"found\", \"found\", \"found\", \"fragrance\", \"freight\", \"french\", \"french\", \"french\", \"french\", \"french\", \"french\", \"frigate\", \"frigate\", \"fuselage\", \"gable\", \"game\", \"game\", \"game\", \"garrison\", \"garrison\", \"gauge\", \"gauge\", \"gauge\", \"general\", \"general\", \"general\", \"general\", \"general\", \"general\", \"german\", \"german\", \"german\", \"german\", \"german\", \"german\", \"gig\", \"glass\", \"glass\", \"glass\", \"glass\", \"glass\", \"global\", \"global\", \"global\", \"global\", \"global\", \"global\", \"goal\", \"goal\", \"goal\", \"goal\", \"goalkeeper\", \"goalless\", \"government\", \"government\", \"government\", \"government\", \"graduate\", \"graduate\", \"graduate\", \"graduate\", \"grammatical\", \"guest\", \"guest\", \"guest\", \"guest\", \"guest\", \"guest\", \"habilitation\", \"habitat\", \"haul\", \"haul\", \"haulage\", \"hauling\", \"header\", \"headquarter\", \"headquarter\", \"headquarter\", \"hermeneutic\", \"high\", \"high\", \"high\", \"high\", \"high\", \"high\", \"hold\", \"hold\", \"hold\", \"hold\", \"hold\", \"hold\", \"holotype\", \"home\", \"home\", \"home\", \"home\", \"home\", \"home\", \"hour\", \"hour\", \"hour\", \"hour\", \"hour\", \"hour\", \"hourly\", \"housing\", \"housing\", \"housing\", \"housing\", \"hub\", \"hub\", \"hub\", \"hub\", \"hurdler\", \"hurling\", \"imprison\", \"imprison\", \"include\", \"include\", \"include\", \"include\", \"include\", \"include\", \"incubator\", \"industry\", \"industry\", \"industry\", \"industry\", \"industry\", \"inflame\", \"injury\", \"injury\", \"injury\", \"insolation\", \"insurgency\", \"intercity\", \"invade\", \"invade\", \"invade\", \"invade\", \"invasion\", \"invasion\", \"invasion\", \"invasion\", \"invasion\", \"invasion\", \"jazz\", \"jazz\", \"join\", \"join\", \"join\", \"join\", \"join\", \"join\", \"junction\", \"junction\", \"junction\", \"jurat\", \"kill\", \"kill\", \"kill\", \"kill\", \"kill\", \"kill\", \"king\", \"king\", \"king\", \"king\", \"king\", \"king\", \"km\", \"km\", \"km\", \"km\", \"km\", \"knockout\", \"kufic\", \"large\", \"large\", \"large\", \"large\", \"large\", \"large\", \"lazaret\", \"lead\", \"lead\", \"lead\", \"lead\", \"lead\", \"lead\", \"league\", \"league\", \"league\", \"leave\", \"leave\", \"leave\", \"leave\", \"leave\", \"leave\", \"lecture\", \"lecture\", \"lecture\", \"lecture\", \"lecturer\", \"legate\", \"legation\", \"legation\", \"lending\", \"liberator\", \"libretto\", \"line\", \"line\", \"line\", \"line\", \"line\", \"line\", \"link\", \"link\", \"link\", \"link\", \"link\", \"link\", \"literary\", \"literary\", \"literary\", \"literary\", \"literature\", \"literature\", \"literature\", \"literature\", \"live\", \"live\", \"live\", \"live\", \"live\", \"live\", \"loan\", \"loan\", \"loan\", \"loan\", \"loan\", \"locate\", \"locate\", \"locate\", \"locate\", \"locate\", \"locate\", \"location\", \"location\", \"location\", \"location\", \"location\", \"locomotive\", \"locomotive\", \"longue\", \"lose\", \"lose\", \"lose\", \"lose\", \"lose\", \"lose\", \"magi\", \"main\", \"main\", \"main\", \"main\", \"main\", \"main\", \"mainline\", \"mainline\", \"mall\", \"mall\", \"man\", \"man\", \"man\", \"man\", \"man\", \"manager\", \"manager\", \"manager\", \"manager\", \"manager\", \"manager\", \"march\", \"march\", \"march\", \"marcher\", \"market\", \"market\", \"market\", \"market\", \"market\", \"market\", \"marry\", \"marry\", \"marry\", \"match\", \"match\", \"match\", \"match\", \"mathematic\", \"max\", \"max\", \"medicine\", \"member\", \"member\", \"member\", \"member\", \"member\", \"member\", \"metatarsus\", \"metropolitan\", \"metropolitan\", \"metropolitan\", \"metropolitan\", \"metropolitan\", \"metropolitanate\", \"midfield\", \"midfielder\", \"military\", \"military\", \"military\", \"military\", \"mint\", \"mint\", \"mint\", \"minute\", \"minute\", \"minute\", \"minute\", \"minute\", \"mission\", \"mission\", \"mission\", \"model\", \"model\", \"model\", \"model\", \"model\", \"model\", \"monorail\", \"motocross\", \"motorway\", \"motorway\", \"move\", \"move\", \"move\", \"move\", \"move\", \"move\", \"mulberry\", \"music\", \"music\", \"music\", \"musical\", \"musical\", \"mustache\", \"napalm\", \"nave\", \"nave\", \"nee\", \"nee\", \"nee\", \"needle\", \"network\", \"network\", \"network\", \"network\", \"network\", \"network\", \"neurology\", \"nonstop\", \"northbound\", \"nucleated\", \"number\", \"number\", \"number\", \"number\", \"number\", \"number\", \"octagonal\", \"office\", \"office\", \"office\", \"office\", \"office\", \"officer\", \"officer\", \"officer\", \"officer\", \"offside\", \"onwards\", \"open\", \"open\", \"open\", \"open\", \"open\", \"open\", \"opera\", \"opera\", \"operate\", \"operate\", \"operate\", \"operate\", \"operate\", \"operatic\", \"operetta\", \"oratorio\", \"orchestra\", \"orchestral\", \"order\", \"order\", \"order\", \"order\", \"order\", \"order\", \"ornithology\", \"outfield\", \"paint\", \"paint\", \"paint\", \"paint\", \"painter\", \"painter\", \"painting\", \"painting\", \"party\", \"party\", \"party\", \"party\", \"party\", \"party\", \"passenger\", \"passenger\", \"passenger\", \"patrol\", \"patrol\", \"patrol\", \"peace\", \"peace\", \"peace\", \"peace\", \"penalty\", \"penalty\", \"penalty\", \"penalty\", \"people\", \"people\", \"people\", \"people\", \"people\", \"people\", \"perform\", \"perform\", \"perform\", \"perform\", \"perform\", \"performance\", \"performance\", \"performance\", \"performance\", \"performance\", \"performance\", \"perfume\", \"perfume\", \"perfume\", \"perfume\", \"philology\", \"philosophy\", \"philosophy\", \"phonetician\", \"physic\", \"physics\", \"physiology\", \"piano\", \"piano\", \"piazza\", \"piedra\", \"place\", \"place\", \"place\", \"place\", \"place\", \"place\", \"play\", \"play\", \"play\", \"play\", \"play\", \"player\", \"player\", \"player\", \"player\", \"playoff\", \"plurality\", \"plurality\", \"plurality\", \"point\", \"point\", \"point\", \"point\", \"point\", \"point\", \"police\", \"police\", \"police\", \"police\", \"police\", \"political\", \"political\", \"political\", \"political\", \"population\", \"population\", \"population\", \"populous\", \"populous\", \"portrait\", \"portrait\", \"portrait\", \"portrait\", \"postdoctoral\", \"postgraduate\", \"preallocated\", \"premiere\", \"pride\", \"pride\", \"pride\", \"prison\", \"prison\", \"prison\", \"prison\", \"prison\", \"prisoner\", \"prisoner\", \"prisoner\", \"production\", \"production\", \"production\", \"production\", \"production\", \"professor\", \"professor\", \"professor\", \"professorship\", \"project\", \"project\", \"project\", \"project\", \"project\", \"protest\", \"protest\", \"protest\", \"protest\", \"protest\", \"protest\", \"protester\", \"publish\", \"publish\", \"publish\", \"publish\", \"publish\", \"quarterfinal\", \"raid\", \"raid\", \"raid\", \"raid\", \"rail\", \"rail\", \"rail\", \"railcar\", \"railway\", \"railway\", \"railway\", \"railway\", \"rationalistic\", \"receive\", \"receive\", \"receive\", \"receive\", \"receive\", \"receive\", \"recital\", \"record\", \"record\", \"record\", \"record\", \"record\", \"record\", \"recording\", \"recording\", \"recording\", \"recrimination\", \"rectangular\", \"redemptor\", \"refereeing\", \"region\", \"region\", \"region\", \"region\", \"region\", \"rehearsing\", \"release\", \"release\", \"release\", \"release\", \"release\", \"release\", \"relegate\", \"relegate\", \"relegate\", \"relegation\", \"reliever\", \"remain\", \"remain\", \"remain\", \"remain\", \"remain\", \"remain\", \"repertoire\", \"repertoire\", \"repertoire\", \"replay\", \"research\", \"research\", \"research\", \"restaurant\", \"restaurant\", \"restaurant\", \"restaurant\", \"restaurant\", \"restaurant\", \"retail\", \"retail\", \"retail\", \"retailer\", \"return\", \"return\", \"return\", \"return\", \"return\", \"return\", \"rex\", \"ritornelli\", \"ritornello\", \"road\", \"road\", \"road\", \"road\", \"road\", \"road\", \"role\", \"role\", \"role\", \"role\", \"role\", \"role\", \"round\", \"round\", \"round\", \"round\", \"round\", \"round\", \"route\", \"route\", \"route\", \"route\", \"run\", \"run\", \"run\", \"run\", \"run\", \"run\", \"runner\", \"runner\", \"runner\", \"runner\", \"runner\", \"sail\", \"sail\", \"sail\", \"sail\", \"sail\", \"saxophone\", \"schedule\", \"schedule\", \"schedule\", \"schedule\", \"schedule\", \"school\", \"school\", \"school\", \"school\", \"school\", \"school\", \"science\", \"science\", \"science\", \"score\", \"score\", \"scorecard\", \"scorer\", \"scoring\", \"scoring\", \"scriptoria\", \"scriptural\", \"season\", \"season\", \"season\", \"season\", \"seat\", \"seat\", \"seat\", \"seat\", \"seat\", \"seat\", \"seditious\", \"semi\", \"semi\", \"semi\", \"semi\", \"semi\", \"semi\", \"semifinal\", \"send\", \"send\", \"send\", \"send\", \"send\", \"send\", \"sentence\", \"sentence\", \"sentence\", \"sentence\", \"sentencing\", \"serve\", \"serve\", \"serve\", \"serve\", \"serve\", \"serve\", \"service\", \"service\", \"service\", \"service\", \"service\", \"service\", \"sevillanas\", \"sherd\", \"sherry\", \"ship\", \"ship\", \"ship\", \"ship\", \"shipworm\", \"shopping\", \"shopping\", \"show\", \"show\", \"show\", \"show\", \"show\", \"show\", \"showroom\", \"showroom\", \"showroom\", \"siege\", \"siege\", \"siege\", \"sign\", \"sign\", \"sign\", \"sign\", \"sign\", \"sign\", \"silverpoint\", \"sing\", \"singe\", \"singe\", \"singe\", \"singer\", \"singer\", \"site\", \"site\", \"site\", \"site\", \"site\", \"skyscraper\", \"sociology\", \"software\", \"software\", \"solemnise\", \"soloist\", \"somali\", \"somali\", \"son\", \"son\", \"son\", \"son\", \"son\", \"song\", \"song\", \"soprano\", \"sortie\", \"sortie\", \"soundtrack\", \"southbound\", \"speed\", \"speed\", \"speed\", \"speed\", \"sprinting\", \"squadron\", \"squadron\", \"square\", \"square\", \"square\", \"square\", \"square\", \"square\", \"stage\", \"stage\", \"stage\", \"stage\", \"stage\", \"stage\", \"start\", \"start\", \"start\", \"start\", \"start\", \"start\", \"startup\", \"startup\", \"state\", \"state\", \"state\", \"state\", \"state\", \"state\", \"station\", \"station\", \"station\", \"station\", \"station\", \"station\", \"statue\", \"statue\", \"statue\", \"sternum\", \"stop\", \"stop\", \"stop\", \"stop\", \"stop\", \"stop\", \"store\", \"store\", \"store\", \"store\", \"store\", \"striker\", \"striker\", \"stripe\", \"stripe\", \"stripe\", \"stripe\", \"student\", \"student\", \"student\", \"student\", \"study\", \"study\", \"study\", \"study\", \"subsonic\", \"substitute\", \"substitute\", \"substitute\", \"substitute\", \"substitute\", \"substitute\", \"sudanese\", \"sudanese\", \"sudanese\", \"support\", \"support\", \"support\", \"support\", \"support\", \"support\", \"sympatric\", \"symphonic\", \"symphony\", \"system\", \"system\", \"system\", \"system\", \"system\", \"system\", \"teach\", \"teach\", \"teach\", \"team\", \"team\", \"team\", \"team\", \"team\", \"teammate\", \"tenor\", \"terminal\", \"terminal\", \"terminal\", \"terminal\", \"terminus\", \"terminus\", \"terrorist\", \"terrorist\", \"texturing\", \"theatre\", \"theatre\", \"theatre\", \"theatre\", \"theology\", \"theology\", \"thesis\", \"thrice\", \"tile\", \"tile\", \"time\", \"time\", \"time\", \"time\", \"time\", \"time\", \"timetable\", \"timetable\", \"title\", \"title\", \"title\", \"title\", \"title\", \"title\", \"torture\", \"torture\", \"tour\", \"tour\", \"tour\", \"tour\", \"tour\", \"tour\", \"tournament\", \"tournament\", \"tower\", \"tower\", \"tower\", \"tower\", \"tower\", \"town\", \"town\", \"town\", \"town\", \"town\", \"town\", \"traffic\", \"traffic\", \"traffic\", \"train\", \"train\", \"train\", \"train\", \"train\", \"train\", \"trainline\", \"tram\", \"tram\", \"tramway\", \"transhipment\", \"travel\", \"travel\", \"travel\", \"travel\", \"travel\", \"travel\", \"treaty\", \"treaty\", \"trolleybus\", \"troop\", \"troop\", \"trophy\", \"trophy\", \"trophy\", \"trophy\", \"trophyless\", \"tubercle\", \"turboprop\", \"unbeaten\", \"undergraduate\", \"undergraduate\", \"unelectrified\", \"university\", \"university\", \"university\", \"university\", \"unsolved\", \"upwelling\", \"urban\", \"urban\", \"urban\", \"urban\", \"urbanization\", \"vendor\", \"vendor\", \"viaduct\", \"viaduct\", \"vicinal\", \"victory\", \"victory\", \"victory\", \"virulent\", \"visit\", \"visit\", \"visit\", \"visit\", \"visit\", \"visit\", \"vitalism\", \"vol\", \"war\", \"war\", \"war\", \"war\", \"war\", \"war\", \"watercolor\", \"watercolour\", \"win\", \"win\", \"win\", \"win\", \"win\", \"win\", \"winless\", \"work\", \"work\", \"work\", \"work\", \"work\", \"work\", \"worked\", \"world\", \"world\", \"world\", \"world\", \"world\", \"world\", \"wounding\", \"wreak\", \"year\", \"year\", \"year\", \"year\", \"year\", \"year\", \"zither\", \"zoology\"]}, \"R\": 30, \"lambda.step\": 0.01, \"plot.opts\": {\"xlab\": \"PC1\", \"ylab\": \"PC2\"}, \"topic.order\": [1, 2, 3, 4, 5, 6]};\n",
       "\n",
       "function LDAvis_load_lib(url, callback){\n",
       "  var s = document.createElement('script');\n",
       "  s.src = url;\n",
       "  s.async = true;\n",
       "  s.onreadystatechange = s.onload = callback;\n",
       "  s.onerror = function(){console.warn(\"failed to load library \" + url);};\n",
       "  document.getElementsByTagName(\"head\")[0].appendChild(s);\n",
       "}\n",
       "\n",
       "if(typeof(LDAvis) !== \"undefined\"){\n",
       "   // already loaded: just create the visualization\n",
       "   !function(LDAvis){\n",
       "       new LDAvis(\"#\" + \"ldavis_el127561735360153520103126311\", ldavis_el127561735360153520103126311_data);\n",
       "   }(LDAvis);\n",
       "}else if(typeof define === \"function\" && define.amd){\n",
       "   // require.js is available: use it to load d3/LDAvis\n",
       "   require.config({paths: {d3: \"https://d3js.org/d3.v5\"}});\n",
       "   require([\"d3\"], function(d3){\n",
       "      window.d3 = d3;\n",
       "      LDAvis_load_lib(\"https://cdn.jsdelivr.net/gh/bmabey/pyLDAvis@3.3.1/pyLDAvis/js/ldavis.v3.0.0.js\", function(){\n",
       "        new LDAvis(\"#\" + \"ldavis_el127561735360153520103126311\", ldavis_el127561735360153520103126311_data);\n",
       "      });\n",
       "    });\n",
       "}else{\n",
       "    // require.js not available: dynamically load d3 & LDAvis\n",
       "    LDAvis_load_lib(\"https://d3js.org/d3.v5.js\", function(){\n",
       "         LDAvis_load_lib(\"https://cdn.jsdelivr.net/gh/bmabey/pyLDAvis@3.3.1/pyLDAvis/js/ldavis.v3.0.0.js\", function(){\n",
       "                 new LDAvis(\"#\" + \"ldavis_el127561735360153520103126311\", ldavis_el127561735360153520103126311_data);\n",
       "            })\n",
       "         });\n",
       "}\n",
       "</script>"
      ],
      "text/plain": [
       "<IPython.core.display.HTML object>"
      ]
     },
     "execution_count": 13,
     "metadata": {},
     "output_type": "execute_result"
    }
   ],
   "source": [
    "pyLDAvis.enable_notebook()\n",
    "\n",
    "if 'visualisation' not in model_dict.keys():\n",
    "    print('Creating visualisation...')\n",
    "    vis = visualise_topics(model_dict['lda_model'], corpus, dictionary)\n",
    "else:\n",
    "    vis = model_dict['visualisation']\n",
    "\n",
    "vis"
   ]
  },
  {
   "cell_type": "code",
   "execution_count": 33,
   "id": "c407ccc3",
   "metadata": {},
   "outputs": [],
   "source": [
    "# pyLDAvis.save_html(vis, os.path.join('', f\"lda_model_2million_visualisation.html\")) "
   ]
  },
  {
   "cell_type": "markdown",
   "id": "e6193f45",
   "metadata": {},
   "source": [
    "## Save Single LDA Model"
   ]
  },
  {
   "cell_type": "code",
   "execution_count": 24,
   "id": "c6b5b0f9",
   "metadata": {},
   "outputs": [],
   "source": [
    "def save_lda_model(MODEL,  OUTPUT_DIR, NAME, COHERENCE_SCORE=None, DICTIONARY=None, CORPUS=None, TEXTS=None, VIS=None, SAVE_VIS=True, SAVE_DICT=True, SAVE_TEXTS=True, SAVE_COHERENCE_SCORE=True):\n",
    "    \"\"\"\n",
    "    --> function that saves an LDA model.\n",
    "\n",
    "        Parameters:\n",
    "        -----------\n",
    "            MODEL: LdaMallet -> LDA model to save\n",
    "            NAME: str -> Name of the model\n",
    "            OUTPUT_DIR: Str -> Output directory path where the model should be saved to\n",
    "            DICTIONARY: gensim.corpora.dictionary.Dictionary -> Dictionary\n",
    "            Corpus: corpus -> corpus\n",
    "            TEXTS: list -> lemmatised documents\n",
    "            VIS: pyLDAvis -> visualisation of the topics\n",
    "            SAVE_VIS: Bool (default = True) ->  save visualisation\n",
    "            SAVE_DICT: Bool (default = True) -> save dictionary\n",
    "            SAVE_TEXTS: Bool (default = True) -> save lemmatised documents\n",
    "\n",
    "    \"\"\"\n",
    "    directory = os.path.join(OUTPUT_DIR, NAME)\n",
    "    os.makedirs(directory, exist_ok=False)\n",
    "    \n",
    "    # Type checks\n",
    "    valid_model = isinstance(MODEL, gensim.models.wrappers.ldamallet.LdaMallet)\n",
    "    valid_corpus = isinstance(CORPUS, list)\n",
    "    valid_dictionary = isinstance(DICTIONARY, gensim.corpora.dictionary.Dictionary)\n",
    "    valid_texts = isinstance(TEXTS,  (pd.Series, list))\n",
    "    \n",
    "    \n",
    "    if not valid_model:\n",
    "        raise Exception(\"The model you provided is not a valid LdaMallet model.\")\n",
    "    \n",
    "    if SAVE_VIS and not VIS and not (valid_corpus and valid_dictionary):\n",
    "        raise Exception(\"Creating and saving the visualisation requires CORPUS and DICTIONARY as parameters.\")\n",
    "    \n",
    "    if SAVE_DICT and not valid_dictionary:\n",
    "                raise Exception(\"Dictionary parameter is not of type gensim.corpora.dictionary.Dictionary.\")\n",
    "\n",
    "    if SAVE_TEXTS and not valid_texts:\n",
    "            raise Exception(\"TEXTS parameter is not a valid list type.\")\n",
    "    \n",
    "    # Actual Saving\n",
    "    print('Saving lda model...')\n",
    "    \n",
    "    if SAVE_VIS:\n",
    "        if not VIS:\n",
    "            lda_conv = gensim.models.wrappers.ldamallet.malletmodel2ldamodel(MODEL) # my_models[0]['lda_model__2']['model']\n",
    "            VIS = gensimvis.prepare(lda_conv, CORPUS, DICTIONARY)\n",
    "            \n",
    "        pyLDAvis.save_html(VIS, os.path.join(directory, f\"{NAME}_visualisation.html\"))        \n",
    "    \n",
    "    if SAVE_DICT:\n",
    "        DICTIONARY.save(os.path.join(directory, f\"{NAME}_dictionary.dict\"))\n",
    "    \n",
    "    if SAVE_TEXTS:\n",
    "        if isinstance(TEXTS, list):\n",
    "            with open(os.path.join(directory, f\"{NAME}_texts.pickle\"), 'wb') as fp:\n",
    "                pickle.dump(TEXTS, fp)\n",
    "        else:\n",
    "            TEXTS.to_pickle(os.path.join(directory, f\"{NAME}_texts.pickle\"))\n",
    "\n",
    "    MODEL.save(os.path.join(directory, f\"{NAME}_model.model\"))\n",
    "\n",
    "    if SAVE_COHERENCE_SCORE:\n",
    "        if not isinstance(COHERENCE_SCORE, float):\n",
    "            if not (valid_dict and valid_texts):\n",
    "                raise Exception(\"Creating and saving the coherence score requires valid DICTIONARY and TEXTS parameters.\")\n",
    "                \n",
    "            print(\"Calculating coherence score...\")\n",
    "            COHERENCE_SCORE = calculate_coherence_score(MODEL=MODEL, LEMMATIZED_TEXT=TEXTS, DICTIONARY=DICTIONARY, COHERENCE='c_v')\n",
    "\n",
    "        with open(os.path.join(directory, f\"{COHERENCE_SCORE}.txt\"), 'w') as fp:\n",
    "            pass\n",
    "\n",
    "    print(f'Model has been saved to the following location: {directory}.')\n",
    "\n",
    "    return MODEL"
   ]
  },
  {
   "cell_type": "code",
   "execution_count": 28,
   "id": "57646996",
   "metadata": {},
   "outputs": [
    {
     "name": "stdout",
     "output_type": "stream",
     "text": [
      "Saving lda model...\n",
      "Model has been saved to the following location: lda_model_2million.\n"
     ]
    },
    {
     "data": {
      "text/plain": [
       "<gensim.models.wrappers.ldamallet.LdaMallet at 0x195f5f70070>"
      ]
     },
     "execution_count": 28,
     "metadata": {},
     "output_type": "execute_result"
    }
   ],
   "source": [
    "save_lda_model(model_dict['lda_model'], OUTPUT_DIR='', NAME='lda_model_2million', COHERENCE_SCORE=model_dict['coherence_score'], DICTIONARY=model_dict['dictionary'], TEXTS=paragraphs, SAVE_VIS=False, CORPUS=model_dict['corpus'])"
   ]
  },
  {
   "cell_type": "markdown",
   "id": "afb72460",
   "metadata": {},
   "source": [
    "## Get most relevant words per topic\n",
    "\n",
    "#### (used to create the topic vectors in the word embedding classification method)"
   ]
  },
  {
   "cell_type": "code",
   "execution_count": 30,
   "id": "a692d84c",
   "metadata": {},
   "outputs": [],
   "source": [
    "try:\n",
    "    model_dict['corpus']\n",
    "except NameError:\n",
    "    # myVar = None \n",
    "    print('ye')"
   ]
  },
  {
   "cell_type": "code",
   "execution_count": 33,
   "id": "00f1af25",
   "metadata": {
    "scrolled": true
   },
   "outputs": [
    {
     "data": {
      "text/plain": [
       "IPython.core.display.HTML"
      ]
     },
     "execution_count": 33,
     "metadata": {},
     "output_type": "execute_result"
    }
   ],
   "source": [
    "type(vis)"
   ]
  },
  {
   "cell_type": "code",
   "execution_count": 35,
   "id": "627e516f",
   "metadata": {},
   "outputs": [
    {
     "name": "stdout",
     "output_type": "stream",
     "text": [
      "[1, 2, 3, 4, 5, 6]\n",
      "CPU times: total: 22min 58s\n",
      "Wall time: 24min 7s\n"
     ]
    }
   ],
   "source": [
    "%%time\n",
    "\n",
    "all_topics = {}\n",
    "num_terms = 50 # Adjust number of words to represent each topic\n",
    "lambd = 0.2 # Adjust this accordingly based on tuning above\n",
    "\n",
    "if not isinstance(vis, pyLDAvis._prepare.PreparedData):        \n",
    "    vis = visualise_topics(model_dict['lda_model'], corpus, dictionary)\n",
    "    \n",
    "for i in range(1,len(model_dict['lda_model'].get_topics())+1): #Adjust this to reflect number of topics chosen for final LDA model\n",
    "    topic = vis.topic_info[vis.topic_info.Category == 'Topic'+str(i)].copy()\n",
    "    topic['relevance'] = topic['loglift']*(1-lambd)+topic['logprob']*lambd\n",
    "    all_topics['Topic '+str(i)] = topic.sort_values(by='relevance', ascending=False).Term[:num_terms].values"
   ]
  },
  {
   "cell_type": "code",
   "execution_count": null,
   "id": "26f18f08",
   "metadata": {},
   "outputs": [],
   "source": [
    "os.path.isdir(single_model_path)"
   ]
  },
  {
   "cell_type": "code",
   "execution_count": null,
   "id": "9e2612c7",
   "metadata": {},
   "outputs": [],
   "source": [
    "1+1"
   ]
  },
  {
   "cell_type": "code",
   "execution_count": 39,
   "id": "fe59697e",
   "metadata": {},
   "outputs": [
    {
     "data": {
      "text/html": [
       "<div>\n",
       "<style scoped>\n",
       "    .dataframe tbody tr th:only-of-type {\n",
       "        vertical-align: middle;\n",
       "    }\n",
       "\n",
       "    .dataframe tbody tr th {\n",
       "        vertical-align: top;\n",
       "    }\n",
       "\n",
       "    .dataframe thead th {\n",
       "        text-align: right;\n",
       "    }\n",
       "</style>\n",
       "<table border=\"1\" class=\"dataframe\">\n",
       "  <thead>\n",
       "    <tr style=\"text-align: right;\">\n",
       "      <th></th>\n",
       "      <th>0</th>\n",
       "      <th>1</th>\n",
       "      <th>2</th>\n",
       "      <th>3</th>\n",
       "      <th>4</th>\n",
       "      <th>5</th>\n",
       "      <th>6</th>\n",
       "      <th>7</th>\n",
       "      <th>8</th>\n",
       "      <th>9</th>\n",
       "      <th>...</th>\n",
       "      <th>40</th>\n",
       "      <th>41</th>\n",
       "      <th>42</th>\n",
       "      <th>43</th>\n",
       "      <th>44</th>\n",
       "      <th>45</th>\n",
       "      <th>46</th>\n",
       "      <th>47</th>\n",
       "      <th>48</th>\n",
       "      <th>49</th>\n",
       "    </tr>\n",
       "  </thead>\n",
       "  <tbody>\n",
       "    <tr>\n",
       "      <th>Topic 1</th>\n",
       "      <td>perform</td>\n",
       "      <td>opera</td>\n",
       "      <td>concert</td>\n",
       "      <td>film</td>\n",
       "      <td>tour</td>\n",
       "      <td>sing</td>\n",
       "      <td>music</td>\n",
       "      <td>premiere</td>\n",
       "      <td>festival</td>\n",
       "      <td>band</td>\n",
       "      <td>...</td>\n",
       "      <td>concerto</td>\n",
       "      <td>gig</td>\n",
       "      <td>libretto</td>\n",
       "      <td>bass</td>\n",
       "      <td>baritone</td>\n",
       "      <td>orchestral</td>\n",
       "      <td>oratorio</td>\n",
       "      <td>operetta</td>\n",
       "      <td>include</td>\n",
       "      <td>play</td>\n",
       "    </tr>\n",
       "    <tr>\n",
       "      <th>Topic 2</th>\n",
       "      <td>route</td>\n",
       "      <td>station</td>\n",
       "      <td>service</td>\n",
       "      <td>railway</td>\n",
       "      <td>line</td>\n",
       "      <td>train</td>\n",
       "      <td>passenger</td>\n",
       "      <td>airline</td>\n",
       "      <td>airport</td>\n",
       "      <td>operate</td>\n",
       "      <td>...</td>\n",
       "      <td>ferry</td>\n",
       "      <td>gauge</td>\n",
       "      <td>run</td>\n",
       "      <td>electrify</td>\n",
       "      <td>tramway</td>\n",
       "      <td>electrification</td>\n",
       "      <td>intercity</td>\n",
       "      <td>stop</td>\n",
       "      <td>plurality</td>\n",
       "      <td>trolleybus</td>\n",
       "    </tr>\n",
       "    <tr>\n",
       "      <th>Topic 3</th>\n",
       "      <td>store</td>\n",
       "      <td>building</td>\n",
       "      <td>office</td>\n",
       "      <td>design</td>\n",
       "      <td>population</td>\n",
       "      <td>firm</td>\n",
       "      <td>century</td>\n",
       "      <td>shopping</td>\n",
       "      <td>large</td>\n",
       "      <td>urban</td>\n",
       "      <td>...</td>\n",
       "      <td>pride</td>\n",
       "      <td>brick</td>\n",
       "      <td>boutique</td>\n",
       "      <td>project</td>\n",
       "      <td>locate</td>\n",
       "      <td>branch</td>\n",
       "      <td>mall</td>\n",
       "      <td>build</td>\n",
       "      <td>populous</td>\n",
       "      <td>amp</td>\n",
       "    </tr>\n",
       "    <tr>\n",
       "      <th>Topic 4</th>\n",
       "      <td>season</td>\n",
       "      <td>win</td>\n",
       "      <td>club</td>\n",
       "      <td>goal</td>\n",
       "      <td>match</td>\n",
       "      <td>team</td>\n",
       "      <td>score</td>\n",
       "      <td>game</td>\n",
       "      <td>final</td>\n",
       "      <td>league</td>\n",
       "      <td>...</td>\n",
       "      <td>replay</td>\n",
       "      <td>scoring</td>\n",
       "      <td>midfielder</td>\n",
       "      <td>fixture</td>\n",
       "      <td>trophy</td>\n",
       "      <td>footballer</td>\n",
       "      <td>appearance</td>\n",
       "      <td>playoff</td>\n",
       "      <td>scorer</td>\n",
       "      <td>teammate</td>\n",
       "    </tr>\n",
       "    <tr>\n",
       "      <th>Topic 5</th>\n",
       "      <td>study</td>\n",
       "      <td>exhibition</td>\n",
       "      <td>professor</td>\n",
       "      <td>work</td>\n",
       "      <td>painting</td>\n",
       "      <td>bear</td>\n",
       "      <td>exhibit</td>\n",
       "      <td>school</td>\n",
       "      <td>graduate</td>\n",
       "      <td>art</td>\n",
       "      <td>...</td>\n",
       "      <td>doctoral</td>\n",
       "      <td>professorship</td>\n",
       "      <td>dissertation</td>\n",
       "      <td>nee</td>\n",
       "      <td>move</td>\n",
       "      <td>chemistry</td>\n",
       "      <td>physics</td>\n",
       "      <td>fellowship</td>\n",
       "      <td>curator</td>\n",
       "      <td>receive</td>\n",
       "    </tr>\n",
       "    <tr>\n",
       "      <th>Topic 6</th>\n",
       "      <td>attack</td>\n",
       "      <td>protest</td>\n",
       "      <td>army</td>\n",
       "      <td>force</td>\n",
       "      <td>arrest</td>\n",
       "      <td>troop</td>\n",
       "      <td>police</td>\n",
       "      <td>command</td>\n",
       "      <td>war</td>\n",
       "      <td>embassy</td>\n",
       "      <td>...</td>\n",
       "      <td>protester</td>\n",
       "      <td>siege</td>\n",
       "      <td>imprison</td>\n",
       "      <td>envoy</td>\n",
       "      <td>king</td>\n",
       "      <td>invade</td>\n",
       "      <td>fight</td>\n",
       "      <td>escort</td>\n",
       "      <td>legation</td>\n",
       "      <td>convoy</td>\n",
       "    </tr>\n",
       "  </tbody>\n",
       "</table>\n",
       "<p>6 rows × 50 columns</p>\n",
       "</div>"
      ],
      "text/plain": [
       "              0           1          2        3           4      5   \\\n",
       "Topic 1  perform       opera    concert     film        tour   sing   \n",
       "Topic 2    route     station    service  railway        line  train   \n",
       "Topic 3    store    building     office   design  population   firm   \n",
       "Topic 4   season         win       club     goal       match   team   \n",
       "Topic 5    study  exhibition  professor     work    painting   bear   \n",
       "Topic 6   attack     protest       army    force      arrest  troop   \n",
       "\n",
       "                6         7         8        9   ...         40  \\\n",
       "Topic 1      music  premiere  festival     band  ...   concerto   \n",
       "Topic 2  passenger   airline   airport  operate  ...      ferry   \n",
       "Topic 3    century  shopping     large    urban  ...      pride   \n",
       "Topic 4      score      game     final   league  ...     replay   \n",
       "Topic 5    exhibit    school  graduate      art  ...   doctoral   \n",
       "Topic 6     police   command       war  embassy  ...  protester   \n",
       "\n",
       "                    41            42         43        44               45  \\\n",
       "Topic 1            gig      libretto       bass  baritone       orchestral   \n",
       "Topic 2          gauge           run  electrify   tramway  electrification   \n",
       "Topic 3          brick      boutique    project    locate           branch   \n",
       "Topic 4        scoring    midfielder    fixture    trophy       footballer   \n",
       "Topic 5  professorship  dissertation        nee      move        chemistry   \n",
       "Topic 6          siege      imprison      envoy      king           invade   \n",
       "\n",
       "                 46          47         48          49  \n",
       "Topic 1    oratorio    operetta    include        play  \n",
       "Topic 2   intercity        stop  plurality  trolleybus  \n",
       "Topic 3        mall       build   populous         amp  \n",
       "Topic 4  appearance     playoff     scorer    teammate  \n",
       "Topic 5     physics  fellowship    curator     receive  \n",
       "Topic 6       fight      escort   legation      convoy  \n",
       "\n",
       "[6 rows x 50 columns]"
      ]
     },
     "execution_count": 39,
     "metadata": {},
     "output_type": "execute_result"
    }
   ],
   "source": [
    "words_per_topic_df = pd.DataFrame(all_topics)\n",
    "words_per_topic_df.to_csv(os.path.join(single_model_path, \"relevant_words_per_topic.csv\"), index=False)\n",
    "\n",
    "words_per_topic_df.T\n",
    "# display(all_topics)"
   ]
  },
  {
   "cell_type": "markdown",
   "id": "bf7f9bf8",
   "metadata": {},
   "source": [
    "## Word Topic Distribution"
   ]
  },
  {
   "cell_type": "code",
   "execution_count": 40,
   "id": "3a473f08",
   "metadata": {},
   "outputs": [
    {
     "name": "stdout",
     "output_type": "stream",
     "text": [
      "1 [('perform', 0.023), ('include', 0.019), ('tour', 0.017), ('opera', 0.015), ('play', 0.015), ('performance', 0.013), ('music', 0.013), ('work', 0.013)]\n",
      "\n",
      "2 [('service', 0.029), ('line', 0.023), ('train', 0.02), ('station', 0.02), ('route', 0.019), ('railway', 0.014), ('operate', 0.012), ('run', 0.012)]\n",
      "\n",
      "3 [('city', 0.017), ('include', 0.011), ('large', 0.008), ('company', 0.007), ('century', 0.006), ('office', 0.006), ('open', 0.006), ('design', 0.006)]\n",
      "\n",
      "4 [('win', 0.036), ('season', 0.031), ('club', 0.024), ('play', 0.022), ('goal', 0.021), ('team', 0.02), ('score', 0.018), ('match', 0.018)]\n",
      "\n",
      "5 [('work', 0.029), ('study', 0.024), ('bear', 0.016), ('year', 0.015), ('exhibition', 0.009), ('art', 0.009), ('move', 0.009), ('include', 0.008)]\n",
      "\n",
      "6 [('year', 0.006), ('return', 0.006), ('time', 0.006), ('city', 0.006), ('war', 0.006), ('german', 0.005), ('leave', 0.005), ('force', 0.005)]\n",
      "\n"
     ]
    }
   ],
   "source": [
    "N_TOPICS = len(model_dict['lda_model'].get_topics())\n",
    "MAX_WORDS = 8\n",
    "\n",
    "for i in range(N_TOPICS):\n",
    "    topic_words = model_dict['lda_model'].show_topic(i, topn=MAX_WORDS)\n",
    "    print(i+1, [(x[0], round(x[1], 3)) for x in topic_words])\n",
    "    print()"
   ]
  },
  {
   "cell_type": "markdown",
   "id": "cad14a06",
   "metadata": {},
   "source": [
    "## Document (=paragraphs) topic distribution"
   ]
  },
  {
   "cell_type": "code",
   "execution_count": 41,
   "id": "e7bbc68d",
   "metadata": {},
   "outputs": [
    {
     "name": "stdout",
     "output_type": "stream",
     "text": [
      "CPU times: total: 3min 56s\n",
      "Wall time: 7min 21s\n"
     ]
    }
   ],
   "source": [
    "%%time\n",
    "\n",
    "transformed_docs = model_dict['lda_model'].load_document_topics()\n",
    "topic_distributions = pd.DataFrame([[x[1] for x in doc] for doc in transformed_docs], \n",
    "             columns=['topic_{}'.format(i+1) for i in range(N_TOPICS)])"
   ]
  },
  {
   "cell_type": "code",
   "execution_count": 43,
   "id": "fe7658fd",
   "metadata": {},
   "outputs": [
    {
     "data": {
      "text/plain": [
       "2076404"
      ]
     },
     "execution_count": 43,
     "metadata": {},
     "output_type": "execute_result"
    }
   ],
   "source": [
    "topic_distributions.head(2)"
   ]
  },
  {
   "cell_type": "code",
   "execution_count": 44,
   "id": "fcef2b93",
   "metadata": {},
   "outputs": [],
   "source": [
    "topic_distributions.to_csv(os.path.join(single_model_path, \"topic_distributions_per_paragraph.csv\"), index=False)"
   ]
  },
  {
   "cell_type": "markdown",
   "id": "3fe431c1",
   "metadata": {},
   "source": [
    "## Rename Topics"
   ]
  },
  {
   "cell_type": "code",
   "execution_count": null,
   "id": "de4182d0",
   "metadata": {},
   "outputs": [],
   "source": [
    "# Give Topics sensible names\n",
    "# topic_distributions_renamed_cols=topic_distributions.rename(columns = { 'topic_1': 'lda_sport',\n",
    "#                                         'topic_2': 'lda_art',\n",
    "#                                         'topic_3': 'lda_diplomacy',\n",
    "#                                         'topic_4': 'lda_entertainment',\n",
    "#                                         'topic_5': 'lda_transportation',\n",
    "#                                         'topic_6': 'lda_education'}, inplace = False)\n",
    "\n",
    "topic_distributions_renamed_cols.head(2)"
   ]
  },
  {
   "cell_type": "markdown",
   "id": "46022274",
   "metadata": {},
   "source": [
    "## Topic Distributions"
   ]
  },
  {
   "cell_type": "code",
   "execution_count": null,
   "id": "37e2c804",
   "metadata": {},
   "outputs": [],
   "source": [
    "topic_distributions_renamed_cols.idxmax(axis=\"columns\").value_counts()"
   ]
  },
  {
   "cell_type": "code",
   "execution_count": null,
   "id": "9b155b71",
   "metadata": {},
   "outputs": [],
   "source": [
    "topic_distributions_renamed_cols.idxmax(axis=\"columns\").value_counts(normalize=True)"
   ]
  },
  {
   "cell_type": "markdown",
   "id": "19244da4",
   "metadata": {},
   "source": [
    "## Merge paragraphs with topic distributions"
   ]
  },
  {
   "cell_type": "code",
   "execution_count": 51,
   "id": "c7f21ef6",
   "metadata": {},
   "outputs": [],
   "source": [
    "updated_results = pd.concat([result, topic_distributions],\n",
    "                  axis = 1)"
   ]
  },
  {
   "cell_type": "code",
   "execution_count": 56,
   "id": "472eb9ab",
   "metadata": {},
   "outputs": [
    {
     "data": {
      "text/html": [
       "<div>\n",
       "<style scoped>\n",
       "    .dataframe tbody tr th:only-of-type {\n",
       "        vertical-align: middle;\n",
       "    }\n",
       "\n",
       "    .dataframe tbody tr th {\n",
       "        vertical-align: top;\n",
       "    }\n",
       "\n",
       "    .dataframe thead th {\n",
       "        text-align: right;\n",
       "    }\n",
       "</style>\n",
       "<table border=\"1\" class=\"dataframe\">\n",
       "  <thead>\n",
       "    <tr style=\"text-align: right;\">\n",
       "      <th></th>\n",
       "      <th>city_1</th>\n",
       "      <th>city_2</th>\n",
       "      <th>paragraph</th>\n",
       "      <th>article_id</th>\n",
       "      <th>title</th>\n",
       "      <th>merged_POS</th>\n",
       "      <th>topic_1</th>\n",
       "      <th>topic_2</th>\n",
       "      <th>topic_3</th>\n",
       "      <th>topic_4</th>\n",
       "      <th>topic_5</th>\n",
       "      <th>topic_6</th>\n",
       "    </tr>\n",
       "  </thead>\n",
       "  <tbody>\n",
       "    <tr>\n",
       "      <th>1</th>\n",
       "      <td>Birmingham</td>\n",
       "      <td>Florence</td>\n",
       "      <td>The first community of adherents of the Baha'i...</td>\n",
       "      <td>303.0</td>\n",
       "      <td>Alabama</td>\n",
       "      <td>['community', 'adherent', 'center', 'found', '...</td>\n",
       "      <td>0.006617</td>\n",
       "      <td>0.004239</td>\n",
       "      <td>0.966858</td>\n",
       "      <td>0.005489</td>\n",
       "      <td>0.010395</td>\n",
       "      <td>0.006402</td>\n",
       "    </tr>\n",
       "    <tr>\n",
       "      <th>2</th>\n",
       "      <td>Florence</td>\n",
       "      <td>Birmingham</td>\n",
       "      <td>The first community of adherents of the Baha'i...</td>\n",
       "      <td>303.0</td>\n",
       "      <td>Alabama</td>\n",
       "      <td>['community', 'adherent', 'center', 'found', '...</td>\n",
       "      <td>0.633744</td>\n",
       "      <td>0.000599</td>\n",
       "      <td>0.294710</td>\n",
       "      <td>0.068576</td>\n",
       "      <td>0.001468</td>\n",
       "      <td>0.000904</td>\n",
       "    </tr>\n",
       "    <tr>\n",
       "      <th>3</th>\n",
       "      <td>Paris</td>\n",
       "      <td>London</td>\n",
       "      <td>A major revision of the work by composer and a...</td>\n",
       "      <td>309.0</td>\n",
       "      <td>An American in Paris</td>\n",
       "      <td>['revision', 'work', 'composer', 'arranger', '...</td>\n",
       "      <td>0.678945</td>\n",
       "      <td>0.000599</td>\n",
       "      <td>0.272109</td>\n",
       "      <td>0.000775</td>\n",
       "      <td>0.001468</td>\n",
       "      <td>0.046105</td>\n",
       "    </tr>\n",
       "    <tr>\n",
       "      <th>4</th>\n",
       "      <td>London</td>\n",
       "      <td>Paris</td>\n",
       "      <td>A major revision of the work by composer and a...</td>\n",
       "      <td>309.0</td>\n",
       "      <td>An American in Paris</td>\n",
       "      <td>['revision', 'work', 'composer', 'arranger', '...</td>\n",
       "      <td>0.001027</td>\n",
       "      <td>0.000658</td>\n",
       "      <td>0.771237</td>\n",
       "      <td>0.000852</td>\n",
       "      <td>0.001613</td>\n",
       "      <td>0.224612</td>\n",
       "    </tr>\n",
       "    <tr>\n",
       "      <th>5</th>\n",
       "      <td>Madrid</td>\n",
       "      <td>Rome</td>\n",
       "      <td>Access to biocapacity in Algeria is lower than...</td>\n",
       "      <td>358.0</td>\n",
       "      <td>Algeria</td>\n",
       "      <td>['access', 'world', 'hectare', 'person', 'terr...</td>\n",
       "      <td>0.001027</td>\n",
       "      <td>0.000658</td>\n",
       "      <td>0.647005</td>\n",
       "      <td>0.100238</td>\n",
       "      <td>0.001613</td>\n",
       "      <td>0.249459</td>\n",
       "    </tr>\n",
       "  </tbody>\n",
       "</table>\n",
       "</div>"
      ],
      "text/plain": [
       "       city_1      city_2                                          paragraph  \\\n",
       "1  Birmingham    Florence  The first community of adherents of the Baha'i...   \n",
       "2    Florence  Birmingham  The first community of adherents of the Baha'i...   \n",
       "3       Paris      London  A major revision of the work by composer and a...   \n",
       "4      London       Paris  A major revision of the work by composer and a...   \n",
       "5      Madrid        Rome  Access to biocapacity in Algeria is lower than...   \n",
       "\n",
       "   article_id                 title  \\\n",
       "1       303.0               Alabama   \n",
       "2       303.0               Alabama   \n",
       "3       309.0  An American in Paris   \n",
       "4       309.0  An American in Paris   \n",
       "5       358.0               Algeria   \n",
       "\n",
       "                                          merged_POS   topic_1   topic_2  \\\n",
       "1  ['community', 'adherent', 'center', 'found', '...  0.006617  0.004239   \n",
       "2  ['community', 'adherent', 'center', 'found', '...  0.633744  0.000599   \n",
       "3  ['revision', 'work', 'composer', 'arranger', '...  0.678945  0.000599   \n",
       "4  ['revision', 'work', 'composer', 'arranger', '...  0.001027  0.000658   \n",
       "5  ['access', 'world', 'hectare', 'person', 'terr...  0.001027  0.000658   \n",
       "\n",
       "    topic_3   topic_4   topic_5   topic_6  \n",
       "1  0.966858  0.005489  0.010395  0.006402  \n",
       "2  0.294710  0.068576  0.001468  0.000904  \n",
       "3  0.272109  0.000775  0.001468  0.046105  \n",
       "4  0.771237  0.000852  0.001613  0.224612  \n",
       "5  0.647005  0.100238  0.001613  0.249459  "
      ]
     },
     "execution_count": 56,
     "metadata": {},
     "output_type": "execute_result"
    }
   ],
   "source": [
    "# updated_results.iloc[0].paragraph\n",
    "updated_results.head()"
   ]
  },
  {
   "cell_type": "markdown",
   "id": "7b64688d",
   "metadata": {},
   "source": [
    "## Get dominant topic and score of chunked dataframe"
   ]
  },
  {
   "cell_type": "code",
   "execution_count": 57,
   "id": "3a74fa8f",
   "metadata": {},
   "outputs": [],
   "source": [
    "nr_of_chunks = (len(updated_results) // 10000) + 1\n",
    "\n",
    "chunked_dataframe = np.array_split(updated_results, nr_of_chunks)"
   ]
  },
  {
   "cell_type": "code",
   "execution_count": 58,
   "id": "fccb7542",
   "metadata": {},
   "outputs": [
    {
     "data": {
      "application/vnd.jupyter.widget-view+json": {
       "model_id": "0f02d2bee9c34471a7866b3f79c9fdf0",
       "version_major": 2,
       "version_minor": 0
      },
      "text/plain": [
       "  0%|          | 0/208 [00:00<?, ?it/s]"
      ]
     },
     "metadata": {},
     "output_type": "display_data"
    }
   ],
   "source": [
    "# This may take a while\n",
    "\n",
    "for i, subdataframe in enumerate(tqdm(chunked_dataframe)):\n",
    "    chunked_dataframe[i] = pd.concat([subdataframe, subdataframe[topic_distributions.columns].agg(['idxmax','max'],axis=1)], axis=1)"
   ]
  },
  {
   "cell_type": "code",
   "execution_count": 59,
   "id": "08decee2",
   "metadata": {},
   "outputs": [],
   "source": [
    "final_df = pd.concat(chunked_dataframe,axis=0)"
   ]
  },
  {
   "cell_type": "code",
   "execution_count": 60,
   "id": "ad16a5de",
   "metadata": {},
   "outputs": [],
   "source": [
    "final_df_renamed_cols = final_df.rename(columns = { 'idxmax': 'lda_dominant',\n",
    "                                        'max': 'lda_dominant_score'}, inplace = False)"
   ]
  },
  {
   "cell_type": "code",
   "execution_count": 62,
   "id": "6c9907f8",
   "metadata": {},
   "outputs": [
    {
     "data": {
      "text/html": [
       "<div>\n",
       "<style scoped>\n",
       "    .dataframe tbody tr th:only-of-type {\n",
       "        vertical-align: middle;\n",
       "    }\n",
       "\n",
       "    .dataframe tbody tr th {\n",
       "        vertical-align: top;\n",
       "    }\n",
       "\n",
       "    .dataframe thead th {\n",
       "        text-align: right;\n",
       "    }\n",
       "</style>\n",
       "<table border=\"1\" class=\"dataframe\">\n",
       "  <thead>\n",
       "    <tr style=\"text-align: right;\">\n",
       "      <th></th>\n",
       "      <th>city_1</th>\n",
       "      <th>city_2</th>\n",
       "      <th>paragraph</th>\n",
       "      <th>article_id</th>\n",
       "      <th>title</th>\n",
       "      <th>merged_POS</th>\n",
       "      <th>topic_1</th>\n",
       "      <th>topic_2</th>\n",
       "      <th>topic_3</th>\n",
       "      <th>topic_4</th>\n",
       "      <th>topic_5</th>\n",
       "      <th>topic_6</th>\n",
       "      <th>lda_dominant</th>\n",
       "      <th>lda_dominant_score</th>\n",
       "    </tr>\n",
       "  </thead>\n",
       "  <tbody>\n",
       "    <tr>\n",
       "      <th>1</th>\n",
       "      <td>Birmingham</td>\n",
       "      <td>Florence</td>\n",
       "      <td>The first community of adherents of the Baha'i...</td>\n",
       "      <td>303.0</td>\n",
       "      <td>Alabama</td>\n",
       "      <td>['community', 'adherent', 'center', 'found', '...</td>\n",
       "      <td>0.006617</td>\n",
       "      <td>0.004239</td>\n",
       "      <td>0.966858</td>\n",
       "      <td>0.005489</td>\n",
       "      <td>0.010395</td>\n",
       "      <td>0.006402</td>\n",
       "      <td>topic_3</td>\n",
       "      <td>0.966858</td>\n",
       "    </tr>\n",
       "    <tr>\n",
       "      <th>2</th>\n",
       "      <td>Florence</td>\n",
       "      <td>Birmingham</td>\n",
       "      <td>The first community of adherents of the Baha'i...</td>\n",
       "      <td>303.0</td>\n",
       "      <td>Alabama</td>\n",
       "      <td>['community', 'adherent', 'center', 'found', '...</td>\n",
       "      <td>0.633744</td>\n",
       "      <td>0.000599</td>\n",
       "      <td>0.294710</td>\n",
       "      <td>0.068576</td>\n",
       "      <td>0.001468</td>\n",
       "      <td>0.000904</td>\n",
       "      <td>topic_1</td>\n",
       "      <td>0.633744</td>\n",
       "    </tr>\n",
       "    <tr>\n",
       "      <th>3</th>\n",
       "      <td>Paris</td>\n",
       "      <td>London</td>\n",
       "      <td>A major revision of the work by composer and a...</td>\n",
       "      <td>309.0</td>\n",
       "      <td>An American in Paris</td>\n",
       "      <td>['revision', 'work', 'composer', 'arranger', '...</td>\n",
       "      <td>0.678945</td>\n",
       "      <td>0.000599</td>\n",
       "      <td>0.272109</td>\n",
       "      <td>0.000775</td>\n",
       "      <td>0.001468</td>\n",
       "      <td>0.046105</td>\n",
       "      <td>topic_1</td>\n",
       "      <td>0.678945</td>\n",
       "    </tr>\n",
       "    <tr>\n",
       "      <th>4</th>\n",
       "      <td>London</td>\n",
       "      <td>Paris</td>\n",
       "      <td>A major revision of the work by composer and a...</td>\n",
       "      <td>309.0</td>\n",
       "      <td>An American in Paris</td>\n",
       "      <td>['revision', 'work', 'composer', 'arranger', '...</td>\n",
       "      <td>0.001027</td>\n",
       "      <td>0.000658</td>\n",
       "      <td>0.771237</td>\n",
       "      <td>0.000852</td>\n",
       "      <td>0.001613</td>\n",
       "      <td>0.224612</td>\n",
       "      <td>topic_3</td>\n",
       "      <td>0.771237</td>\n",
       "    </tr>\n",
       "    <tr>\n",
       "      <th>5</th>\n",
       "      <td>Madrid</td>\n",
       "      <td>Rome</td>\n",
       "      <td>Access to biocapacity in Algeria is lower than...</td>\n",
       "      <td>358.0</td>\n",
       "      <td>Algeria</td>\n",
       "      <td>['access', 'world', 'hectare', 'person', 'terr...</td>\n",
       "      <td>0.001027</td>\n",
       "      <td>0.000658</td>\n",
       "      <td>0.647005</td>\n",
       "      <td>0.100238</td>\n",
       "      <td>0.001613</td>\n",
       "      <td>0.249459</td>\n",
       "      <td>topic_3</td>\n",
       "      <td>0.647005</td>\n",
       "    </tr>\n",
       "    <tr>\n",
       "      <th>...</th>\n",
       "      <td>...</td>\n",
       "      <td>...</td>\n",
       "      <td>...</td>\n",
       "      <td>...</td>\n",
       "      <td>...</td>\n",
       "      <td>...</td>\n",
       "      <td>...</td>\n",
       "      <td>...</td>\n",
       "      <td>...</td>\n",
       "      <td>...</td>\n",
       "      <td>...</td>\n",
       "      <td>...</td>\n",
       "      <td>...</td>\n",
       "      <td>...</td>\n",
       "    </tr>\n",
       "    <tr>\n",
       "      <th>2076401</th>\n",
       "      <td>London</td>\n",
       "      <td>Paris</td>\n",
       "      <td>Mundhir participated in Arab and international...</td>\n",
       "      <td>70585176.0</td>\n",
       "      <td>Mundhir Masri</td>\n",
       "      <td>['festival', 'seminar', 'guest', 'participate'...</td>\n",
       "      <td>0.732542</td>\n",
       "      <td>0.003211</td>\n",
       "      <td>0.004856</td>\n",
       "      <td>0.004158</td>\n",
       "      <td>0.250384</td>\n",
       "      <td>0.004849</td>\n",
       "      <td>topic_1</td>\n",
       "      <td>0.732542</td>\n",
       "    </tr>\n",
       "    <tr>\n",
       "      <th>2076402</th>\n",
       "      <td>London</td>\n",
       "      <td>Stockholm</td>\n",
       "      <td>Mundhir participated in Arab and international...</td>\n",
       "      <td>70585176.0</td>\n",
       "      <td>Mundhir Masri</td>\n",
       "      <td>['festival', 'seminar', 'guest', 'participate'...</td>\n",
       "      <td>0.975052</td>\n",
       "      <td>0.003211</td>\n",
       "      <td>0.004856</td>\n",
       "      <td>0.004158</td>\n",
       "      <td>0.007874</td>\n",
       "      <td>0.004849</td>\n",
       "      <td>topic_1</td>\n",
       "      <td>0.975052</td>\n",
       "    </tr>\n",
       "    <tr>\n",
       "      <th>2076403</th>\n",
       "      <td>Stockholm</td>\n",
       "      <td>Paris</td>\n",
       "      <td>Mundhir participated in Arab and international...</td>\n",
       "      <td>70585176.0</td>\n",
       "      <td>Mundhir Masri</td>\n",
       "      <td>['festival', 'seminar', 'guest', 'participate'...</td>\n",
       "      <td>0.853797</td>\n",
       "      <td>0.003211</td>\n",
       "      <td>0.004856</td>\n",
       "      <td>0.004158</td>\n",
       "      <td>0.129129</td>\n",
       "      <td>0.004849</td>\n",
       "      <td>topic_1</td>\n",
       "      <td>0.853797</td>\n",
       "    </tr>\n",
       "    <tr>\n",
       "      <th>2076404</th>\n",
       "      <td>Stockholm</td>\n",
       "      <td>London</td>\n",
       "      <td>Mundhir participated in Arab and international...</td>\n",
       "      <td>70585176.0</td>\n",
       "      <td>Mundhir Masri</td>\n",
       "      <td>['festival', 'seminar', 'guest', 'participate'...</td>\n",
       "      <td>NaN</td>\n",
       "      <td>NaN</td>\n",
       "      <td>NaN</td>\n",
       "      <td>NaN</td>\n",
       "      <td>NaN</td>\n",
       "      <td>NaN</td>\n",
       "      <td>NaN</td>\n",
       "      <td>NaN</td>\n",
       "    </tr>\n",
       "    <tr>\n",
       "      <th>0</th>\n",
       "      <td>NaN</td>\n",
       "      <td>NaN</td>\n",
       "      <td>NaN</td>\n",
       "      <td>NaN</td>\n",
       "      <td>NaN</td>\n",
       "      <td>NaN</td>\n",
       "      <td>0.006617</td>\n",
       "      <td>0.164314</td>\n",
       "      <td>0.486635</td>\n",
       "      <td>0.005489</td>\n",
       "      <td>0.330544</td>\n",
       "      <td>0.006402</td>\n",
       "      <td>topic_3</td>\n",
       "      <td>0.486635</td>\n",
       "    </tr>\n",
       "  </tbody>\n",
       "</table>\n",
       "<p>2076405 rows × 14 columns</p>\n",
       "</div>"
      ],
      "text/plain": [
       "             city_1      city_2  \\\n",
       "1        Birmingham    Florence   \n",
       "2          Florence  Birmingham   \n",
       "3             Paris      London   \n",
       "4            London       Paris   \n",
       "5            Madrid        Rome   \n",
       "...             ...         ...   \n",
       "2076401      London       Paris   \n",
       "2076402      London   Stockholm   \n",
       "2076403   Stockholm       Paris   \n",
       "2076404   Stockholm      London   \n",
       "0               NaN         NaN   \n",
       "\n",
       "                                                 paragraph  article_id  \\\n",
       "1        The first community of adherents of the Baha'i...       303.0   \n",
       "2        The first community of adherents of the Baha'i...       303.0   \n",
       "3        A major revision of the work by composer and a...       309.0   \n",
       "4        A major revision of the work by composer and a...       309.0   \n",
       "5        Access to biocapacity in Algeria is lower than...       358.0   \n",
       "...                                                    ...         ...   \n",
       "2076401  Mundhir participated in Arab and international...  70585176.0   \n",
       "2076402  Mundhir participated in Arab and international...  70585176.0   \n",
       "2076403  Mundhir participated in Arab and international...  70585176.0   \n",
       "2076404  Mundhir participated in Arab and international...  70585176.0   \n",
       "0                                                      NaN         NaN   \n",
       "\n",
       "                        title  \\\n",
       "1                     Alabama   \n",
       "2                     Alabama   \n",
       "3        An American in Paris   \n",
       "4        An American in Paris   \n",
       "5                     Algeria   \n",
       "...                       ...   \n",
       "2076401         Mundhir Masri   \n",
       "2076402         Mundhir Masri   \n",
       "2076403         Mundhir Masri   \n",
       "2076404         Mundhir Masri   \n",
       "0                         NaN   \n",
       "\n",
       "                                                merged_POS   topic_1  \\\n",
       "1        ['community', 'adherent', 'center', 'found', '...  0.006617   \n",
       "2        ['community', 'adherent', 'center', 'found', '...  0.633744   \n",
       "3        ['revision', 'work', 'composer', 'arranger', '...  0.678945   \n",
       "4        ['revision', 'work', 'composer', 'arranger', '...  0.001027   \n",
       "5        ['access', 'world', 'hectare', 'person', 'terr...  0.001027   \n",
       "...                                                    ...       ...   \n",
       "2076401  ['festival', 'seminar', 'guest', 'participate'...  0.732542   \n",
       "2076402  ['festival', 'seminar', 'guest', 'participate'...  0.975052   \n",
       "2076403  ['festival', 'seminar', 'guest', 'participate'...  0.853797   \n",
       "2076404  ['festival', 'seminar', 'guest', 'participate'...       NaN   \n",
       "0                                                      NaN  0.006617   \n",
       "\n",
       "          topic_2   topic_3   topic_4   topic_5   topic_6 lda_dominant  \\\n",
       "1        0.004239  0.966858  0.005489  0.010395  0.006402      topic_3   \n",
       "2        0.000599  0.294710  0.068576  0.001468  0.000904      topic_1   \n",
       "3        0.000599  0.272109  0.000775  0.001468  0.046105      topic_1   \n",
       "4        0.000658  0.771237  0.000852  0.001613  0.224612      topic_3   \n",
       "5        0.000658  0.647005  0.100238  0.001613  0.249459      topic_3   \n",
       "...           ...       ...       ...       ...       ...          ...   \n",
       "2076401  0.003211  0.004856  0.004158  0.250384  0.004849      topic_1   \n",
       "2076402  0.003211  0.004856  0.004158  0.007874  0.004849      topic_1   \n",
       "2076403  0.003211  0.004856  0.004158  0.129129  0.004849      topic_1   \n",
       "2076404       NaN       NaN       NaN       NaN       NaN          NaN   \n",
       "0        0.164314  0.486635  0.005489  0.330544  0.006402      topic_3   \n",
       "\n",
       "        lda_dominant_score  \n",
       "1                 0.966858  \n",
       "2                 0.633744  \n",
       "3                 0.678945  \n",
       "4                 0.771237  \n",
       "5                 0.647005  \n",
       "...                    ...  \n",
       "2076401           0.732542  \n",
       "2076402           0.975052  \n",
       "2076403           0.853797  \n",
       "2076404                NaN  \n",
       "0                 0.486635  \n",
       "\n",
       "[2076405 rows x 14 columns]"
      ]
     },
     "execution_count": 62,
     "metadata": {},
     "output_type": "execute_result"
    }
   ],
   "source": [
    "final_df_renamed_cols"
   ]
  },
  {
   "cell_type": "markdown",
   "id": "8a24dc6b",
   "metadata": {},
   "source": [
    "## Query of 3 city pairs"
   ]
  },
  {
   "cell_type": "code",
   "execution_count": null,
   "id": "87750fc7",
   "metadata": {},
   "outputs": [],
   "source": [
    "# Requires work due to city pair in two columns\n",
    "# three_city_pairs = final_df_renamed_cols[final_df_renamed_cols['city_pair'].isin(['paris_milan', 'barcelona_manchester', 'warsaw_prague'])]"
   ]
  },
  {
   "cell_type": "code",
   "execution_count": null,
   "id": "3655d74a",
   "metadata": {},
   "outputs": [],
   "source": [
    "# display(three_city_pairs.groupby('city_pair')['lda_dominant'].value_counts())"
   ]
  },
  {
   "cell_type": "markdown",
   "id": "96f89461",
   "metadata": {},
   "source": [
    "## Save document topic distribution"
   ]
  },
  {
   "cell_type": "code",
   "execution_count": 64,
   "id": "820d46e0",
   "metadata": {},
   "outputs": [],
   "source": [
    "num, div = len(final_df_renamed_cols), 20\n",
    "chunks = [num // div + (1 if x < num % div else 0)  for x in range (div)]\n",
    "cum_chunks = [0]\n",
    "\n",
    "for i, x in enumerate(chunks):\n",
    "    cum_chunks.append(sum(chunks[:i+1]))"
   ]
  },
  {
   "cell_type": "code",
   "execution_count": 65,
   "id": "2e9e6dfd",
   "metadata": {},
   "outputs": [
    {
     "data": {
      "text/plain": [
       "[(0, 103821),\n",
       " (103821, 207642),\n",
       " (207642, 311463),\n",
       " (311463, 415284),\n",
       " (415284, 519105),\n",
       " (519105, 622925),\n",
       " (622925, 726745),\n",
       " (726745, 830565),\n",
       " (830565, 934385),\n",
       " (934385, 1038205),\n",
       " (1038205, 1142025),\n",
       " (1142025, 1245845),\n",
       " (1245845, 1349665),\n",
       " (1349665, 1453485),\n",
       " (1453485, 1557305),\n",
       " (1557305, 1661125),\n",
       " (1661125, 1764945),\n",
       " (1764945, 1868765),\n",
       " (1868765, 1972585),\n",
       " (1972585, 2076405)]"
      ]
     },
     "execution_count": 65,
     "metadata": {},
     "output_type": "execute_result"
    }
   ],
   "source": [
    "chunks_min_max = list(zip(cum_chunks, cum_chunks[1:]))\n",
    "chunks_min_max"
   ]
  },
  {
   "cell_type": "code",
   "execution_count": 67,
   "id": "ccedb44d",
   "metadata": {},
   "outputs": [
    {
     "data": {
      "application/vnd.jupyter.widget-view+json": {
       "model_id": "c5b4e69fd60146968148f48f3da12e38",
       "version_major": 2,
       "version_minor": 0
      },
      "text/plain": [
       "  0%|          | 0/20 [00:00<?, ?it/s]"
      ]
     },
     "metadata": {},
     "output_type": "display_data"
    }
   ],
   "source": [
    "output_folder = \"../../../../data_clean/paragraphs_lda_topic_distribution\"\n",
    "os.makedirs(output_folder, exist_ok=True)\n",
    "\n",
    "count = 1\n",
    "for chunk in tqdm(chunks_min_max):\n",
    "    sub_df = final_df_renamed_cols.iloc[chunk[0]:chunk[1]]\n",
    "    file_path = f\"{output_folder}/paragraphs_{count}_{chunk[0]}_{chunk[1]}_lda_topics.csv\"\n",
    "    sub_df.to_csv(file_path, index=False)\n",
    "    count += 1\n",
    "    \n",
    "# final_df_renamed_cols.to_csv('..\\..\\..\\..\\..\\data\\clean\\lda_classified_30cities_435citypairs_311k_paragraphs.csv', index=False)"
   ]
  },
  {
   "cell_type": "markdown",
   "id": "0b8bfee8",
   "metadata": {},
   "source": [
    "## Distribution of dominant topic scores"
   ]
  },
  {
   "cell_type": "code",
   "execution_count": 68,
   "id": "89ddfd3f",
   "metadata": {},
   "outputs": [
    {
     "data": {
      "text/plain": [
       "(0.9, 1.0]       1305117\n",
       "(0.8, 0.9]        197266\n",
       "(0.6, 0.7]        168544\n",
       "(0.7, 0.8]        162817\n",
       "(0.5, 0.6]        153496\n",
       "(0.4, 0.5]         79622\n",
       "(0.3, 0.4]          9366\n",
       "(0.2, 0.3]           175\n",
       "(-0.001, 0.1]          1\n",
       "(0.1, 0.2]             0\n",
       "Name: lda_dominant_score, dtype: int64"
      ]
     },
     "execution_count": 68,
     "metadata": {},
     "output_type": "execute_result"
    }
   ],
   "source": [
    "final_df_renamed_cols['lda_dominant_score'].value_counts(bins=[0,0.1,0.2,0.3,0.4,0.5,0.6,0.7,0.8,0.9,1]).sort_values(ascending=False)"
   ]
  },
  {
   "cell_type": "markdown",
   "id": "fdebd73d",
   "metadata": {},
   "source": [
    "## Graphed density of the grouped topic scores"
   ]
  },
  {
   "cell_type": "code",
   "execution_count": 81,
   "id": "5de169b3",
   "metadata": {},
   "outputs": [
    {
     "data": {
      "text/plain": [
       "['topic_1', 'topic_2', 'topic_3', 'topic_4', 'topic_5', 'topic_6']"
      ]
     },
     "execution_count": 81,
     "metadata": {},
     "output_type": "execute_result"
    }
   ],
   "source": [
    "topics = [topic for topic in final_df_renamed_cols['lda_dominant'].unique() if isinstance(topic, str)]\n",
    "sorted(topics)"
   ]
  },
  {
   "cell_type": "code",
   "execution_count": 88,
   "id": "75e625ee",
   "metadata": {},
   "outputs": [
    {
     "data": {
      "text/plain": [
       "Text(0, 0.5, 'Density')"
      ]
     },
     "execution_count": 88,
     "metadata": {},
     "output_type": "execute_result"
    },
    {
     "data": {
      "image/png": "[encoded data removed]",
      "text/plain": [
       "<Figure size 1440x720 with 1 Axes>"
      ]
     },
     "metadata": {
      "needs_background": "light"
     },
     "output_type": "display_data"
    }
   ],
   "source": [
    "# !pip install seaborn\n",
    "import matplotlib.pyplot as plt\n",
    "\n",
    "%matplotlib inline\n",
    "import seaborn as sns\n",
    "\n",
    "plt.figure(figsize=(20,10))\n",
    "\n",
    "a = final_df_renamed_cols.groupby('lda_dominant')\n",
    "\n",
    "# Iterate through the five topics\n",
    "topics = [topic for topic in final_df_renamed_cols['lda_dominant'].unique() if isinstance(topic, str)]\n",
    "\n",
    "for topic in topics:\n",
    "    b = a['lda_dominant_score'].get_group(topic)\n",
    "\n",
    "    #     b.plot.density(color='green')\n",
    "    # plt.title('Density plot for Speeding')\n",
    "    # plt.show()\n",
    "\n",
    "    sns.distplot(b, hist = False, kde = True,\n",
    "                 kde_kws = {'linewidth': 2},\n",
    "                 label = topic)\n",
    "    \n",
    "# Plot formatting\n",
    "sns.distplot(final_df_renamed_cols['lda_dominant_score'], hist = False, kde = True,\n",
    "                 kde_kws = {'linewidth': 2},\n",
    "                 color = 'black',\n",
    "                 label = 'Average')\n",
    "\n",
    "plt.legend(prop={'size': 20}, title = 'Topic', title_fontsize=22)\n",
    "# plt.title('Score Density of the dominant topics grouped by topic', fontsize=24)\n",
    "plt.rc('axes', titlesize=24)\n",
    "plt.rc('axes', labelsize=24)\n",
    "plt.rc('xtick', labelsize=24)\n",
    "plt.rc('ytick', labelsize=24)\n",
    "plt.xlabel('Topic Dominance')\n",
    "plt.ylim(0, 22)\n",
    "plt.xlim(0.8, 1)\n",
    "plt.ylabel('Density')"
   ]
  },
  {
   "cell_type": "markdown",
   "id": "a905942e",
   "metadata": {},
   "source": [
    "# EXTRAS"
   ]
  },
  {
   "cell_type": "markdown",
   "id": "680b8d3e",
   "metadata": {},
   "source": [
    "## Training Multiple LDA Models"
   ]
  },
  {
   "cell_type": "code",
   "execution_count": null,
   "id": "5196d8a8",
   "metadata": {},
   "outputs": [],
   "source": [
    "TOPIC_SELECTION = range(2,21, 1)\n",
    "list(TOPIC_SELECTION)\n",
    "\n",
    "\n",
    "%%time\n",
    "\n",
    "paragraphs = result.merged_POS\n",
    "# MIN_DF = 0.1\n",
    "# MAX_DF = 0.8\n",
    "\n",
    "# Vectorization\n",
    "# dictionary, corpus = vectorize(paragraphs, MIN_DF=MIN_DF, MAX_DF=MAX_DF)\n",
    "\n",
    "models = compare_lda_models(OUTPUT_DIR='../../../../../data/clean/lda_models/50k_paragraphs/', TOPIC_SELECTION=TOPIC_SELECTION,\n",
    "                LEMMATIZED_TEXT=paragraphs, DICTIONARY=dictionary, CORPUS=corpus, MIN_DF=MIN_DF, MAX_DF=MAX_DF, N_ITERATIONS=1000,\n",
    "                PATH_TO_MALLET=r'C:/mallet/bin/mallet.bat', GET_COHERENCE_SCORE=True, COHERENCE='c_v')"
   ]
  },
  {
   "cell_type": "markdown",
   "id": "30d6f3f3",
   "metadata": {},
   "source": [
    "## Load Multiple LDA Models"
   ]
  },
  {
   "cell_type": "code",
   "execution_count": null,
   "id": "258ef2d4",
   "metadata": {},
   "outputs": [],
   "source": []
  }
 ],
 "metadata": {
  "kernelspec": {
   "display_name": "Python 3 (ipykernel)",
   "language": "python",
   "name": "python3"
  },
  "language_info": {
   "codemirror_mode": {
    "name": "ipython",
    "version": 3
   },
   "file_extension": ".py",
   "mimetype": "text/x-python",
   "name": "python",
   "nbconvert_exporter": "python",
   "pygments_lexer": "ipython3",
   "version": "3.9.13"
  }
 },
 "nbformat": 4,
 "nbformat_minor": 5
}
