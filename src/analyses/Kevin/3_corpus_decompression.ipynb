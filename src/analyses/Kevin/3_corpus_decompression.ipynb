{
 "cells": [
  {
   "cell_type": "markdown",
   "id": "fcdc46cb",
   "metadata": {},
   "source": [
    "## 1. Filter for Toponym Occurrances"
   ]
  },
  {
   "cell_type": "markdown",
   "id": "8698ff27",
   "metadata": {},
   "source": [
    "1. Download a year of comments\n",
    "2. load country comments set\n",
    "3. decompress country comments\n",
    "4. find occurrances of set elements in year and check new file size"
   ]
  },
  {
   "cell_type": "code",
   "execution_count": 2,
   "id": "6cf14343",
   "metadata": {},
   "outputs": [],
   "source": [
    "\n",
    "import json\n",
    "import pandas as pd\n",
    "import time \n",
    "import os\n",
    "\n",
    "#decompressing\n",
    "import bz2\n",
    "import lzma\n",
    "import zstandard as zstd\n",
    "\n",
    "#NLP\n",
    "from tqdm import tqdm_notebook\n",
    "import spacy\n",
    "from collections import Counter\n",
    "nlp = spacy.load(\"en_core_web_sm\")"
   ]
  },
  {
   "cell_type": "markdown",
   "id": "afc4addb",
   "metadata": {},
   "source": [
    "#### Create cities list"
   ]
  },
  {
   "cell_type": "markdown",
   "id": "8cf64560",
   "metadata": {},
   "source": [
    "### Get one document at a time"
   ]
  },
  {
   "cell_type": "code",
   "execution_count": 16,
   "id": "b2b76f24",
   "metadata": {},
   "outputs": [],
   "source": [
    "city_df = pd.read_csv('city_variations.csv')\n",
    "\n",
    "#filter to top 50. This should fix the 'Nice' occurrance issue\n",
    "#add lowercase to set\n",
    "top50_df = city_df.head(50)\n",
    "\n",
    "cities = set(list(top50_df['eng'])+list(top50_df['wiki'])+list(top50_df['local']))\n",
    "\n",
    "low = []\n",
    "\n",
    "for i in cities:\n",
    "    low.append(i.lower())\n",
    "\n",
    "cities = cities | set(low)"
   ]
  },
  {
   "cell_type": "code",
   "execution_count": 17,
   "id": "75332630",
   "metadata": {},
   "outputs": [],
   "source": [
    "col_filter = [ 'created_utc', 'score', 'subreddit',\n",
    "        'link_id', 'subreddit_id', 'body']"
   ]
  },
  {
   "cell_type": "markdown",
   "id": "fa71a90f",
   "metadata": {},
   "source": [
    "#### bz2 to .txt"
   ]
  },
  {
   "cell_type": "code",
   "execution_count": 320,
   "id": "648c5e2f",
   "metadata": {},
   "outputs": [],
   "source": [
    "files = [\n",
    " 'RC_2015-09.bz2',\n",
    " 'RC_2015-10.bz2',\n",
    " 'RC_2015-11.bz2',\n",
    " 'RC_2015-12.bz2']"
   ]
  },
  {
   "cell_type": "code",
   "execution_count": 1,
   "id": "9ebcef26",
   "metadata": {},
   "outputs": [],
   "source": [
    "def bz2_to_df_1(file, open_fp, write_fp, cities):\n",
    "    counter = 0\n",
    "    with bz2.open(open_fp+file, \"rt\") as bzinput:\n",
    "        lines = []\n",
    "        with open(write_fp+file[:-4]+'.txt', \"w\", encoding='utf-8') as f:\n",
    "            for i, line in enumerate(bzinput):\n",
    "                post = json.loads(line)\n",
    "                for top in cities:\n",
    "                    #filter before tokenizing\n",
    "                    if top in post['body']:\n",
    "                        #tokenize\n",
    "                        words = post['body'].split()\n",
    "                        if top in words:\n",
    "                            #idx = int(post['body'].find(top))\n",
    "                            #upper = idx+len(top)+3\n",
    "                            #lower = idx - 3\n",
    "                            #neighborhood = post['body'][lower:upper]\n",
    "                            \n",
    "                            \n",
    "                            \n",
    "                            for i in col_filter:\n",
    "                                f.write(str(post[i]).replace(',' , '').replace('\\n', ' ') + ',')\n",
    "                                \n",
    "                            f.write('\\n--------\\n')\n",
    "                            break\n",
    "\n",
    "    return "
   ]
  },
  {
   "cell_type": "markdown",
   "id": "f2c45a3c",
   "metadata": {},
   "source": [
    "#### lzma to .txt"
   ]
  },
  {
   "cell_type": "code",
   "execution_count": 313,
   "id": "fb490850",
   "metadata": {},
   "outputs": [],
   "source": [
    "files = ['RC_2018-04.xz','RC_2018-05.xz','RC_2018-06.xz', 'RC_2018-07.xz']"
   ]
  },
  {
   "cell_type": "code",
   "execution_count": 310,
   "id": "be8729d8",
   "metadata": {},
   "outputs": [],
   "source": [
    "\n",
    "def lz_to_df_1(file, open_fp, write_fp, cities):\n",
    "    counter = 0\n",
    "    with lzma.open(open_fp+file, \"rt\") as lzinput:\n",
    "        lines = []\n",
    "        with open(write_fp+file[:-3]+'.txt', \"w\", encoding='utf-8') as f:\n",
    "            for i, line in enumerate(lzinput):\n",
    "                post = json.loads(line)\n",
    "                for top in cities:\n",
    "                    #filter before tokenizing\n",
    "                    if top in post['body']:\n",
    "                        #tokenize\n",
    "                        words = post['body'].split()\n",
    "                        if top in words:\n",
    "                            #idx = int(post['body'].find(top))\n",
    "                            #upper = idx+len(top)+3\n",
    "                            #lower = idx - 3\n",
    "                            #neighborhood = post['body'][lower:upper]\n",
    "                            \n",
    "                            \n",
    "                            \n",
    "                            for i in col_filter:\n",
    "                                f.write(str(post[i]).replace(',' , '').replace('\\n', ' ') + ',')\n",
    "                                \n",
    "                            f.write('\\n--------\\n')\n",
    "                            break\n",
    "\n",
    "    return "
   ]
  },
  {
   "cell_type": "code",
   "execution_count": 314,
   "id": "739642cc",
   "metadata": {},
   "outputs": [
    {
     "name": "stdout",
     "output_type": "stream",
     "text": [
      "6584.823339223862 seconds\n",
      "4865.527549266815 seconds\n",
      "5339.1321902275085 seconds\n",
      "5911.253631591797 seconds\n"
     ]
    }
   ],
   "source": [
    "for file in files:\n",
    "\n",
    "    start = time.time()\n",
    "    write_fp = r\"E:\\\\citynet cooccurrances\\\\\"\n",
    "    lz_to_df_1(file, open_fp, write_fp, cities)\n",
    "\n",
    "    end = time.time() \n",
    "    print(str(end-start)+' seconds')"
   ]
  },
  {
   "cell_type": "markdown",
   "id": "efd2b0c6",
   "metadata": {},
   "source": [
    "#### zstd to .txt"
   ]
  },
  {
   "cell_type": "code",
   "execution_count": null,
   "id": "7e10feb2",
   "metadata": {},
   "outputs": [],
   "source": [
    "files = []"
   ]
  },
  {
   "cell_type": "code",
   "execution_count": null,
   "id": "dff78819",
   "metadata": {},
   "outputs": [],
   "source": [
    "\n",
    "def zst_to_df_1(file, open_fp, write_fp, cities):\n",
    "    counter = 0\n",
    "    with zst.open(open_fp+file, \"rt\") as zstinput:\n",
    "        lines = []\n",
    "        with open(write_fp+file[:-3]+'.txt', \"w\", encoding='utf-8') as f:\n",
    "            for i, line in enumerate(zstinput):\n",
    "                post = json.loads(line)\n",
    "                for top in cities:\n",
    "                    #filter before tokenizing\n",
    "                    if top in post['body']:\n",
    "                        #tokenize\n",
    "                        words = post['body'].split()\n",
    "                        if top in words:\n",
    "                            #idx = int(post['body'].find(top))\n",
    "                            #upper = idx+len(top)+3\n",
    "                            #lower = idx - 3\n",
    "                            #neighborhood = post['body'][lower:upper]\n",
    "                            \n",
    "                            \n",
    "                            \n",
    "                            for i in col_filter:\n",
    "                                f.write(str(post[i]).replace(',' , '').replace('\\n', ' ') + ',')\n",
    "                                \n",
    "                            f.write('\\n--------\\n')\n",
    "                            break\n",
    "\n",
    "    return "
   ]
  },
  {
   "cell_type": "code",
   "execution_count": null,
   "id": "d880b3b9",
   "metadata": {},
   "outputs": [],
   "source": [
    "for file in files:\n",
    "\n",
    "    start = time.time()\n",
    "    write_fp = r\"E:\\\\citynet cooccurrances\\\\\"\n",
    "    zst_to_df_1(file, open_fp, write_fp, cities)\n",
    "\n",
    "    end = time.time() \n",
    "    print(str(end-start)+' seconds')"
   ]
  },
  {
   "cell_type": "markdown",
   "id": "2c97f609",
   "metadata": {},
   "source": [
    "#### zst decompression streaming for files too large"
   ]
  },
  {
   "cell_type": "code",
   "execution_count": 326,
   "id": "fc51d76b",
   "metadata": {},
   "outputs": [],
   "source": [
    "files = []"
   ]
  },
  {
   "cell_type": "code",
   "execution_count": null,
   "id": "806cb63c",
   "metadata": {},
   "outputs": [],
   "source": [
    "for file in files:\n",
    "    with open(open_fp+file, 'rb') as fh:\n",
    "        dctx = zstd.ZstdDecompressor(max_window_size=2147483648)\n",
    "        with dctx.stream_reader(fh) as reader:\n",
    "            previous_line = \"\"\n",
    "\n",
    "            with open(write_fp+file[:-4]+'.txt', \"w\", encoding='utf-8') as f:\n",
    "\n",
    "                while True:\n",
    "                    chunk = reader.read(2**24)  # 16mb chunks\n",
    "                    if not chunk:\n",
    "                        break\n",
    "\n",
    "                    string_data = chunk.decode('utf-8')\n",
    "                    lines = string_data.split(\"\\n\")\n",
    "                    for i, line in enumerate(lines[:-1]):\n",
    "                        if i == 0:\n",
    "                            line = previous_line + line\n",
    "                        try:\n",
    "                            post = json.loads(line)\n",
    "                        except:\n",
    "                            continue\n",
    "\n",
    "                        for top in cities:\n",
    "                            #filter before tokenizing\n",
    "                            if top in post['body']:\n",
    "                                #tokenize\n",
    "                                words = post['body'].split()\n",
    "                                if top in words:\n",
    "                                    #idx = int(post['body'].find(top))\n",
    "                                    #upper = idx+len(top)+3\n",
    "                                    #lower = idx - 3\n",
    "                                    #neighborhood = post['body'][lower:upper]\n",
    "\n",
    "\n",
    "\n",
    "                                    for i in col_filter:\n",
    "                                        f.write(str(post[i]).replace(',' , '').replace('\\n', ' ') + ',')\n",
    "\n",
    "                                    f.write('\\n--------\\n')\n",
    "                                    break\n",
    "\n",
    "                previous_line = lines[-1]"
   ]
  },
  {
   "cell_type": "markdown",
   "id": "453b3c6c",
   "metadata": {},
   "source": [
    "#### Speed Test"
   ]
  },
  {
   "cell_type": "markdown",
   "id": "ff9604dc",
   "metadata": {},
   "source": [
    "-loop through upper and lower \n",
    "\n",
    "-convert post to lower and only loop lower cities\n",
    "\n",
    "-find cooccurrances as well as occurrances\n",
    "\n",
    "-decision: loop through upper and lower"
   ]
  }
 ],
 "metadata": {
  "kernelspec": {
   "display_name": "Python 3 (ipykernel)",
   "language": "python",
   "name": "python3"
  },
  "language_info": {
   "codemirror_mode": {
    "name": "ipython",
    "version": 3
   },
   "file_extension": ".py",
   "mimetype": "text/x-python",
   "name": "python",
   "nbconvert_exporter": "python",
   "pygments_lexer": "ipython3",
   "version": "3.10.4"
  }
 },
 "nbformat": 4,
 "nbformat_minor": 5
}
